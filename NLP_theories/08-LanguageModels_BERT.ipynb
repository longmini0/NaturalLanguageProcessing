{
 "cells": [
  {
   "cell_type": "markdown",
   "metadata": {
    "id": "BMIJMV_ULZ2O"
   },
   "source": [
    "# Generalized Language Models\n",
    "\n",
    "Good reference: https://lilianweng.github.io/lil-log/2019/01/31/generalized-language-models.html\n",
    "\n",
    "Slides: https://docs.google.com/presentation/d/1xhOocjNJ-6YU_jXPJb_Yi0Vloen65QCyM51S7-Dadfk/edit?usp=sharing"
   ]
  },
  {
   "cell_type": "code",
   "execution_count": 1,
   "metadata": {
    "executionInfo": {
     "elapsed": 624,
     "status": "ok",
     "timestamp": 1621191319523,
     "user": {
      "displayName": "Sanjiv Das",
      "photoUrl": "https://lh3.googleusercontent.com/a-/AOh14GhgUU3RgThSxLUq6NKSN2tDGDl8IQdtHMvdaZPE=s64",
      "userId": "06377870171053566924"
     },
     "user_tz": 420
    },
    "id": "8-c4qm4zCujL",
    "scrolled": true
   },
   "outputs": [
    {
     "name": "stdout",
     "output_type": "stream",
     "text": [
      "Collecting torch\n",
      "  Downloading torch-1.8.1-cp38-none-macosx_10_9_x86_64.whl (119.6 MB)\n",
      "\u001b[K     |████████████████████████████████| 119.6 MB 98.0 MB/s eta 0:00:01  |█▍                              | 5.0 MB 2.6 MB/s eta 0:00:45                      | 6.9 MB 2.6 MB/s eta 0:00:44     |██▎                             | 8.7 MB 2.6 MB/s eta 0:00:44     |████▌                           | 16.8 MB 1.6 MB/s eta 0:01:06     |█████████                       | 33.3 MB 3.0 MB/s eta 0:00:29     |█████████████▋                  | 50.8 MB 3.5 MB/s eta 0:00:20     |████████████████▋               | 62.1 MB 2.8 MB/s eta 0:00:21     |████████████████████▏           | 75.4 MB 13.6 MB/s eta 0:00:04     |█████████████████████▉          | 81.5 MB 2.2 MB/s eta 0:00:18MB/s eta 0:00:01     |█████████████████████████████   | 108.1 MB 2.1 MB/s eta 0:00:06███████▎ | 113.0 MB 2.1 MB/s eta 0:00:04\n",
      "\u001b[?25hRequirement already satisfied, skipping upgrade: numpy in /Users/longmini/opt/anaconda3/lib/python3.8/site-packages (from torch) (1.18.5)\n",
      "Requirement already satisfied, skipping upgrade: typing-extensions in /Users/longmini/opt/anaconda3/lib/python3.8/site-packages (from torch) (3.7.4.2)\n",
      "Installing collected packages: torch\n",
      "Successfully installed torch-1.8.1\n",
      "Collecting tensorflow\n",
      "  Downloading tensorflow-2.5.0-cp38-cp38-macosx_10_11_x86_64.whl (195.7 MB)\n",
      "\u001b[K     |████████████████████████████████| 195.7 MB 137 kB/s  eta 0:00:01  |▉                               | 5.4 MB 4.9 MB/s eta 0:00:39     |█▊                              | 10.8 MB 3.5 MB/s eta 0:00:54     |██                              | 11.6 MB 3.5 MB/s eta 0:00:53     |██                              | 12.0 MB 3.5 MB/s eta 0:00:53     |███▏                            | 19.7 MB 102.3 MB/s eta 0:00:02     |█████▎                          | 32.2 MB 8.7 MB/s eta 0:00:19     |█████████                       | 55.0 MB 6.6 MB/s eta 0:00:22     |█████████████▊                  | 84.1 MB 5.2 MB/s eta 0:00:22     |███████████████▎                | 93.3 MB 5.2 MB/s eta 0:00:20██████▌              | 107.3 MB 3.0 MB/s eta 0:00:2905     |████████████████████████▋       | 150.7 MB 9.4 MB/s eta 0:00:05     |█████████████████████████▉      | 157.7 MB 9.4 MB/s eta 0:00:05 0:00:04     |███████████████████████████▉    | 170.5 MB 9.1 MB/s eta 0:00:03     |█████████████████████████████▎  | 179.0 MB 9.1 MB/s eta 0:00:02\n",
      "\u001b[?25hRequirement already satisfied, skipping upgrade: opt-einsum~=3.3.0 in /Users/longmini/opt/anaconda3/lib/python3.8/site-packages (from tensorflow) (3.3.0)\n",
      "Collecting numpy~=1.19.2\n",
      "  Downloading numpy-1.19.5-cp38-cp38-macosx_10_9_x86_64.whl (15.6 MB)\n",
      "\u001b[K     |████████████████████████████████| 15.6 MB 30.0 MB/s eta 0:00:01\n",
      "\u001b[?25hCollecting wheel~=0.35\n",
      "  Downloading wheel-0.36.2-py2.py3-none-any.whl (35 kB)\n",
      "Requirement already satisfied, skipping upgrade: google-pasta~=0.2 in /Users/longmini/opt/anaconda3/lib/python3.8/site-packages (from tensorflow) (0.2.0)\n",
      "Collecting tensorflow-estimator<2.6.0,>=2.5.0rc0\n",
      "  Downloading tensorflow_estimator-2.5.0-py2.py3-none-any.whl (462 kB)\n",
      "\u001b[K     |████████████████████████████████| 462 kB 53.5 MB/s eta 0:00:01\n",
      "\u001b[?25hCollecting flatbuffers~=1.12.0\n",
      "  Downloading flatbuffers-1.12-py2.py3-none-any.whl (15 kB)\n",
      "Collecting absl-py~=0.10\n",
      "  Downloading absl_py-0.12.0-py3-none-any.whl (129 kB)\n",
      "\u001b[K     |████████████████████████████████| 129 kB 50.1 MB/s eta 0:00:01\n",
      "\u001b[?25hRequirement already satisfied, skipping upgrade: typing-extensions~=3.7.4 in /Users/longmini/opt/anaconda3/lib/python3.8/site-packages (from tensorflow) (3.7.4.2)\n",
      "Collecting h5py~=3.1.0\n",
      "  Downloading h5py-3.1.0-cp38-cp38-macosx_10_9_x86_64.whl (2.9 MB)\n",
      "\u001b[K     |████████████████████████████████| 2.9 MB 28.3 MB/s eta 0:00:01\n",
      "\u001b[?25hRequirement already satisfied, skipping upgrade: astunparse~=1.6.3 in /Users/longmini/opt/anaconda3/lib/python3.8/site-packages (from tensorflow) (1.6.3)\n",
      "Collecting gast==0.4.0\n",
      "  Downloading gast-0.4.0-py3-none-any.whl (9.8 kB)\n",
      "Collecting tensorboard~=2.5\n",
      "  Downloading tensorboard-2.5.0-py3-none-any.whl (6.0 MB)\n",
      "\u001b[K     |████████████████████████████████| 6.0 MB 27.1 MB/s eta 0:00:01\n",
      "\u001b[?25hRequirement already satisfied, skipping upgrade: termcolor~=1.1.0 in /Users/longmini/opt/anaconda3/lib/python3.8/site-packages (from tensorflow) (1.1.0)\n",
      "Requirement already satisfied, skipping upgrade: six~=1.15.0 in /Users/longmini/opt/anaconda3/lib/python3.8/site-packages (from tensorflow) (1.15.0)\n",
      "Collecting grpcio~=1.34.0\n",
      "  Downloading grpcio-1.34.1-cp38-cp38-macosx_10_10_x86_64.whl (3.7 MB)\n",
      "\u001b[K     |████████████████████████████████| 3.7 MB 38.0 MB/s eta 0:00:01\n",
      "\u001b[?25hRequirement already satisfied, skipping upgrade: keras-preprocessing~=1.1.2 in /Users/longmini/opt/anaconda3/lib/python3.8/site-packages (from tensorflow) (1.1.2)\n",
      "Collecting keras-nightly~=2.5.0.dev\n",
      "  Downloading keras_nightly-2.5.0.dev2021032900-py2.py3-none-any.whl (1.2 MB)\n",
      "\u001b[K     |████████████████████████████████| 1.2 MB 28.9 MB/s eta 0:00:01\n",
      "\u001b[?25hCollecting wrapt~=1.12.1\n",
      "  Using cached wrapt-1.12.1.tar.gz (27 kB)\n",
      "Requirement already satisfied, skipping upgrade: protobuf>=3.9.2 in /Users/longmini/opt/anaconda3/lib/python3.8/site-packages (from tensorflow) (3.12.4)\n",
      "Requirement already satisfied, skipping upgrade: setuptools>=41.0.0 in /Users/longmini/opt/anaconda3/lib/python3.8/site-packages (from tensorboard~=2.5->tensorflow) (49.2.0.post20200714)\n",
      "Requirement already satisfied, skipping upgrade: werkzeug>=0.11.15 in /Users/longmini/opt/anaconda3/lib/python3.8/site-packages (from tensorboard~=2.5->tensorflow) (1.0.1)\n",
      "Requirement already satisfied, skipping upgrade: markdown>=2.6.8 in /Users/longmini/opt/anaconda3/lib/python3.8/site-packages (from tensorboard~=2.5->tensorflow) (3.2.2)\n",
      "Requirement already satisfied, skipping upgrade: requests<3,>=2.21.0 in /Users/longmini/opt/anaconda3/lib/python3.8/site-packages (from tensorboard~=2.5->tensorflow) (2.24.0)\n",
      "Collecting tensorboard-data-server<0.7.0,>=0.6.0\n",
      "  Downloading tensorboard_data_server-0.6.1-py3-none-macosx_10_9_x86_64.whl (3.5 MB)\n",
      "\u001b[K     |████████████████████████████████| 3.5 MB 37.5 MB/s eta 0:00:01\n",
      "\u001b[?25hRequirement already satisfied, skipping upgrade: tensorboard-plugin-wit>=1.6.0 in /Users/longmini/opt/anaconda3/lib/python3.8/site-packages (from tensorboard~=2.5->tensorflow) (1.7.0)\n",
      "Requirement already satisfied, skipping upgrade: google-auth<2,>=1.6.3 in /Users/longmini/opt/anaconda3/lib/python3.8/site-packages (from tensorboard~=2.5->tensorflow) (1.20.0)\n",
      "Requirement already satisfied, skipping upgrade: google-auth-oauthlib<0.5,>=0.4.1 in /Users/longmini/opt/anaconda3/lib/python3.8/site-packages (from tensorboard~=2.5->tensorflow) (0.4.1)\n",
      "Requirement already satisfied, skipping upgrade: urllib3!=1.25.0,!=1.25.1,<1.26,>=1.21.1 in /Users/longmini/opt/anaconda3/lib/python3.8/site-packages (from requests<3,>=2.21.0->tensorboard~=2.5->tensorflow) (1.25.9)\n",
      "Requirement already satisfied, skipping upgrade: idna<3,>=2.5 in /Users/longmini/opt/anaconda3/lib/python3.8/site-packages (from requests<3,>=2.21.0->tensorboard~=2.5->tensorflow) (2.10)\n",
      "Requirement already satisfied, skipping upgrade: chardet<4,>=3.0.2 in /Users/longmini/opt/anaconda3/lib/python3.8/site-packages (from requests<3,>=2.21.0->tensorboard~=2.5->tensorflow) (3.0.4)\n",
      "Requirement already satisfied, skipping upgrade: certifi>=2017.4.17 in /Users/longmini/opt/anaconda3/lib/python3.8/site-packages (from requests<3,>=2.21.0->tensorboard~=2.5->tensorflow) (2020.6.20)\n",
      "Requirement already satisfied, skipping upgrade: cachetools<5.0,>=2.0.0 in /Users/longmini/opt/anaconda3/lib/python3.8/site-packages (from google-auth<2,>=1.6.3->tensorboard~=2.5->tensorflow) (4.1.1)\n",
      "Requirement already satisfied, skipping upgrade: pyasn1-modules>=0.2.1 in /Users/longmini/opt/anaconda3/lib/python3.8/site-packages (from google-auth<2,>=1.6.3->tensorboard~=2.5->tensorflow) (0.2.8)\n",
      "Requirement already satisfied, skipping upgrade: rsa<5,>=3.1.4; python_version >= \"3.5\" in /Users/longmini/opt/anaconda3/lib/python3.8/site-packages (from google-auth<2,>=1.6.3->tensorboard~=2.5->tensorflow) (4.6)\n",
      "Requirement already satisfied, skipping upgrade: requests-oauthlib>=0.7.0 in /Users/longmini/opt/anaconda3/lib/python3.8/site-packages (from google-auth-oauthlib<0.5,>=0.4.1->tensorboard~=2.5->tensorflow) (1.3.0)\n",
      "Requirement already satisfied, skipping upgrade: pyasn1<0.5.0,>=0.4.6 in /Users/longmini/opt/anaconda3/lib/python3.8/site-packages (from pyasn1-modules>=0.2.1->google-auth<2,>=1.6.3->tensorboard~=2.5->tensorflow) (0.4.8)\n",
      "Requirement already satisfied, skipping upgrade: oauthlib>=3.0.0 in /Users/longmini/opt/anaconda3/lib/python3.8/site-packages (from requests-oauthlib>=0.7.0->google-auth-oauthlib<0.5,>=0.4.1->tensorboard~=2.5->tensorflow) (3.1.0)\n",
      "Building wheels for collected packages: wrapt\n"
     ]
    },
    {
     "name": "stdout",
     "output_type": "stream",
     "text": [
      "  Building wheel for wrapt (setup.py) ... \u001b[?25ldone\n",
      "\u001b[?25h  Created wheel for wrapt: filename=wrapt-1.12.1-cp38-cp38-macosx_10_9_x86_64.whl size=32727 sha256=7e5b04254c66f69eb13b9ca76833f4c0b138c8dd7c25697d35a634e99b2ceb6a\n",
      "  Stored in directory: /Users/longmini/Library/Caches/pip/wheels/5f/fd/9e/b6cf5890494cb8ef0b5eaff72e5d55a70fb56316007d6dfe73\n",
      "Successfully built wrapt\n",
      "Installing collected packages: numpy, wheel, tensorflow-estimator, flatbuffers, absl-py, h5py, gast, grpcio, tensorboard-data-server, tensorboard, keras-nightly, wrapt, tensorflow\n",
      "  Attempting uninstall: numpy\n",
      "    Found existing installation: numpy 1.18.5\n",
      "    Uninstalling numpy-1.18.5:\n",
      "      Successfully uninstalled numpy-1.18.5\n",
      "  Attempting uninstall: wheel\n",
      "    Found existing installation: wheel 0.34.2\n",
      "    Uninstalling wheel-0.34.2:\n",
      "      Successfully uninstalled wheel-0.34.2\n",
      "  Attempting uninstall: tensorflow-estimator\n",
      "    Found existing installation: tensorflow-estimator 2.3.0\n",
      "    Uninstalling tensorflow-estimator-2.3.0:\n",
      "      Successfully uninstalled tensorflow-estimator-2.3.0\n",
      "  Attempting uninstall: absl-py\n",
      "    Found existing installation: absl-py 0.9.0\n",
      "    Uninstalling absl-py-0.9.0:\n",
      "      Successfully uninstalled absl-py-0.9.0\n",
      "  Attempting uninstall: h5py\n",
      "    Found existing installation: h5py 2.10.0\n",
      "    Uninstalling h5py-2.10.0:\n",
      "      Successfully uninstalled h5py-2.10.0\n",
      "  Attempting uninstall: gast\n",
      "    Found existing installation: gast 0.3.3\n",
      "    Uninstalling gast-0.3.3:\n",
      "      Successfully uninstalled gast-0.3.3\n",
      "  Attempting uninstall: grpcio\n",
      "    Found existing installation: grpcio 1.30.0\n",
      "    Uninstalling grpcio-1.30.0:\n",
      "      Successfully uninstalled grpcio-1.30.0\n",
      "  Attempting uninstall: tensorboard\n",
      "    Found existing installation: tensorboard 2.3.0\n",
      "    Uninstalling tensorboard-2.3.0:\n",
      "      Successfully uninstalled tensorboard-2.3.0\n",
      "  Attempting uninstall: wrapt\n",
      "    Found existing installation: wrapt 1.11.2\n",
      "    Uninstalling wrapt-1.11.2:\n",
      "      Successfully uninstalled wrapt-1.11.2\n",
      "  Attempting uninstall: tensorflow\n",
      "    Found existing installation: tensorflow 2.3.0\n",
      "    Uninstalling tensorflow-2.3.0:\n",
      "      Successfully uninstalled tensorflow-2.3.0\n",
      "Successfully installed absl-py-0.12.0 flatbuffers-1.12 gast-0.4.0 grpcio-1.34.1 h5py-3.1.0 keras-nightly-2.5.0.dev2021032900 numpy-1.19.5 tensorboard-2.5.0 tensorboard-data-server-0.6.1 tensorflow-2.5.0 tensorflow-estimator-2.5.0 wheel-0.36.2 wrapt-1.12.1\n"
     ]
    }
   ],
   "source": [
    "# Use pytorch kernel and install TF\n",
    "!pip install --upgrade torch\n",
    "!pip install --upgrade tensorflow"
   ]
  },
  {
   "cell_type": "markdown",
   "metadata": {
    "id": "OoscV61GeqoT"
   },
   "source": [
    "## Classification with Embeddings and BERT\n",
    "\n",
    "We can use many approaches as seen earlier. A good summary of classification approaches in various NLP libraries is discussed here: https://towardsdatascience.com/which-is-the-best-nlp-d7965c71ec5f\n"
   ]
  },
  {
   "cell_type": "code",
   "execution_count": 3,
   "metadata": {
    "colab": {
     "base_uri": "https://localhost:8080/"
    },
    "executionInfo": {
     "elapsed": 1477,
     "status": "ok",
     "timestamp": 1621191320390,
     "user": {
      "displayName": "Sanjiv Das",
      "photoUrl": "https://lh3.googleusercontent.com/a-/AOh14GhgUU3RgThSxLUq6NKSN2tDGDl8IQdtHMvdaZPE=s64",
      "userId": "06377870171053566924"
     },
     "user_tz": 420
    },
    "id": "yiMeFKlwLZ2P",
    "outputId": "2a6c0433-260c-4f6d-e04b-3910bd714d3b"
   },
   "outputs": [
    {
     "name": "stdout",
     "output_type": "stream",
     "text": [
      "Populating the interactive namespace from numpy and matplotlib\n"
     ]
    }
   ],
   "source": [
    "%pylab inline\n",
    "import pandas as pd\n",
    "import seaborn as sns"
   ]
  },
  {
   "cell_type": "code",
   "execution_count": 3,
   "metadata": {
    "colab": {
     "base_uri": "https://localhost:8080/"
    },
    "executionInfo": {
     "elapsed": 22703,
     "status": "ok",
     "timestamp": 1621191341624,
     "user": {
      "displayName": "Sanjiv Das",
      "photoUrl": "https://lh3.googleusercontent.com/a-/AOh14GhgUU3RgThSxLUq6NKSN2tDGDl8IQdtHMvdaZPE=s64",
      "userId": "06377870171053566924"
     },
     "user_tz": 420
    },
    "id": "sH7YUgkBL1PJ",
    "outputId": "4610daf5-0919-4e0e-f5d6-dfb997209150"
   },
   "outputs": [
    {
     "name": "stdout",
     "output_type": "stream",
     "text": [
      "Mounted at /content/drive\n"
     ]
    }
   ],
   "source": [
    "from google.colab import drive\n",
    "drive.mount('/content/drive')  # Add My Drive/<>\n",
    "\n",
    "import os\n",
    "os.chdir('drive/My Drive')\n",
    "os.chdir('Teaching/NLP')"
   ]
  },
  {
   "cell_type": "markdown",
   "metadata": {
    "id": "7w5cMmLmp7Av"
   },
   "source": [
    "## Sequence of Classification Approaches\n",
    "\n",
    "Various forms of input are possible:\n",
    "\n",
    "1. Use a single vector from the TDM for classification of each document. Easy to construct, but lacking context. Input size is fixed. Vocab size is large. \n",
    "\n",
    "2. Use a single TFIDF vector. Same as TDM vectors. \n",
    "\n",
    "3. Word2Vec. Convert each word in the document into a fixed length vector. Combine vectors into a matrix for the document and this is the input into the classifier. Requires a package like gensim to make the word embeddings, some compute effort required. Fixed input size, 100-300, not huge as in TDM, TFIDF. \n",
    "\n",
    "4. Doc2Vec. Each document is converted into a vector, which is input into the classifier (also needs gensim). Input size is fixed. \n",
    "\n",
    "5. MPN. Use a standard NN to create word embeddings. Only takes a few tokens and truncates the document/sentence. Enlarging the window results in an explosion in parameters. No context. \n",
    "\n",
    "6. RNN. Keeps track of word sequences and generates one embedding for a sequence of words. Can take any sequence length. Same weight matrix for all inputs. Keeps context. But slow, loses track of words further back in the sequence, so may be giving greater weight to words at the end. Vanishing gradients. \n",
    "\n",
    "7. LSTMs. Same as RNN, but tries to fix the problem of vanishing gradients for RNNs. Goes in only one direction, so full context is missed. For example, in translation, words before and after current word matter. \n",
    "\n",
    "8. CNN. Faster than RNNs as they do not have to wait to process tokens sequentially. Parallelization possible. Not fixed input, so padding is required. \n",
    "\n",
    "9. Attention. These are bidirectional, so work better for all tasks as they have greater context. Also computationally better than LSTMs. No fixed input, limited maximum sequence length.  "
   ]
  },
  {
   "cell_type": "markdown",
   "metadata": {
    "id": "9pzG6W6zbd1S"
   },
   "source": [
    "## Read in the data\n",
    "\n",
    "Datasets:\n",
    "1. Reddit news with Dow sign, https://www.kaggle.com/aaron7sun/stocknews \n",
    "2. Movie reviews, https://www.kaggle.com/lakshmi25npathi/imdb-dataset-of-50k-movie-reviews \n",
    "3. Financial Phrase Bank, https://www.researchgate.net/publication/251231364_FinancialPhraseBank-v10  "
   ]
  },
  {
   "cell_type": "code",
   "execution_count": 16,
   "metadata": {
    "colab": {
     "base_uri": "https://localhost:8080/",
     "height": 270
    },
    "executionInfo": {
     "elapsed": 24618,
     "status": "ok",
     "timestamp": 1621191343547,
     "user": {
      "displayName": "Sanjiv Das",
      "photoUrl": "https://lh3.googleusercontent.com/a-/AOh14GhgUU3RgThSxLUq6NKSN2tDGDl8IQdtHMvdaZPE=s64",
      "userId": "06377870171053566924"
     },
     "user_tz": 420
    },
    "id": "2yJmlUZfLZ2T",
    "outputId": "141e56e5-a31c-4d5f-dd7b-baffc719a234"
   },
   "outputs": [
    {
     "name": "stdout",
     "output_type": "stream",
     "text": [
      "(2264, 2)\n"
     ]
    },
    {
     "name": "stderr",
     "output_type": "stream",
     "text": [
      "<ipython-input-16-7e830336685e>:4: ParserWarning: Falling back to the 'python' engine because the 'c' engine does not support regex separators (separators > 1 char and different from '\\s+' are interpreted as regex); you can avoid this warning by specifying engine='python'.\n",
      "  df = pd.read_csv('NLP_data/Sentences_AllAgree.txt', sep=\".@\", header=None)  # Finbert data\n"
     ]
    },
    {
     "data": {
      "text/html": [
       "<div>\n",
       "<style scoped>\n",
       "    .dataframe tbody tr th:only-of-type {\n",
       "        vertical-align: middle;\n",
       "    }\n",
       "\n",
       "    .dataframe tbody tr th {\n",
       "        vertical-align: top;\n",
       "    }\n",
       "\n",
       "    .dataframe thead th {\n",
       "        text-align: right;\n",
       "    }\n",
       "</style>\n",
       "<table border=\"1\" class=\"dataframe\">\n",
       "  <thead>\n",
       "    <tr style=\"text-align: right;\">\n",
       "      <th></th>\n",
       "      <th>Text</th>\n",
       "      <th>Label</th>\n",
       "    </tr>\n",
       "  </thead>\n",
       "  <tbody>\n",
       "    <tr>\n",
       "      <th>0</th>\n",
       "      <td>According to Gran , the company has no plans t...</td>\n",
       "      <td>neutral</td>\n",
       "    </tr>\n",
       "    <tr>\n",
       "      <th>1</th>\n",
       "      <td>For the last quarter of 2010 , Componenta 's n...</td>\n",
       "      <td>positive</td>\n",
       "    </tr>\n",
       "    <tr>\n",
       "      <th>2</th>\n",
       "      <td>In the third quarter of 2010 , net sales incre...</td>\n",
       "      <td>positive</td>\n",
       "    </tr>\n",
       "    <tr>\n",
       "      <th>3</th>\n",
       "      <td>Operating profit rose to EUR 13.1 mn from EUR ...</td>\n",
       "      <td>positive</td>\n",
       "    </tr>\n",
       "    <tr>\n",
       "      <th>4</th>\n",
       "      <td>Operating profit totalled EUR 21.1 mn , up fro...</td>\n",
       "      <td>positive</td>\n",
       "    </tr>\n",
       "  </tbody>\n",
       "</table>\n",
       "</div>"
      ],
      "text/plain": [
       "                                                Text     Label\n",
       "0  According to Gran , the company has no plans t...   neutral\n",
       "1  For the last quarter of 2010 , Componenta 's n...  positive\n",
       "2  In the third quarter of 2010 , net sales incre...  positive\n",
       "3  Operating profit rose to EUR 13.1 mn from EUR ...  positive\n",
       "4  Operating profit totalled EUR 21.1 mn , up fro...  positive"
      ]
     },
     "execution_count": 16,
     "metadata": {},
     "output_type": "execute_result"
    }
   ],
   "source": [
    "# Read data\n",
    "# df = pd.read_csv('NLP_data/Combined_News_DJIA.csv')  # Reddit News vs Dow data\n",
    "# df = pd.read_csv('NLP_data/movie_review.csv', parse_dates=True, index_col=0)  # Movie Reviews data\n",
    "df = pd.read_csv('NLP_data/Sentences_AllAgree.txt', sep=\".@\", header=None)  # Finbert data\n",
    "print(df.shape)\n",
    "# df.columns = [\"Label\",\"Text\"]  # for movie reviews\n",
    "df.columns = [\"Text\",\"Label\"]\n",
    "df.head()"
   ]
  },
  {
   "cell_type": "code",
   "execution_count": 14,
   "metadata": {
    "executionInfo": {
     "elapsed": 24615,
     "status": "ok",
     "timestamp": 1621191343548,
     "user": {
      "displayName": "Sanjiv Das",
      "photoUrl": "https://lh3.googleusercontent.com/a-/AOh14GhgUU3RgThSxLUq6NKSN2tDGDl8IQdtHMvdaZPE=s64",
      "userId": "06377870171053566924"
     },
     "user_tz": 420
    },
    "id": "VgPSHWKvR3-M"
   },
   "outputs": [],
   "source": [
    "# # Remove all the b-prefixes (for DJIA dataset)\n",
    "# for k in range(1,26):\n",
    "#     colname = \"Top\"+str(k)\n",
    "#     df[colname] = df[colname].str[2:]\n",
    "\n",
    "# # Prepare the data \n",
    "# columns = ['Top' + str(i+1) for i in range(25)]\n",
    "# df['Text'] = df[columns].apply(lambda x: ' '.join(x.astype(str)), axis=1)\n",
    "# df = df[['Label', 'Text']]\n",
    "# df.head()"
   ]
  },
  {
   "cell_type": "code",
   "execution_count": 17,
   "metadata": {
    "colab": {
     "base_uri": "https://localhost:8080/",
     "height": 296
    },
    "executionInfo": {
     "elapsed": 24815,
     "status": "ok",
     "timestamp": 1621191343752,
     "user": {
      "displayName": "Sanjiv Das",
      "photoUrl": "https://lh3.googleusercontent.com/a-/AOh14GhgUU3RgThSxLUq6NKSN2tDGDl8IQdtHMvdaZPE=s64",
      "userId": "06377870171053566924"
     },
     "user_tz": 420
    },
    "id": "0gGAmPp9LZ2X",
    "outputId": "8a179fc4-8c37-41d6-cfc5-98481dbf5b95",
    "scrolled": true
   },
   "outputs": [
    {
     "data": {
      "text/plain": [
       "<matplotlib.axes._subplots.AxesSubplot at 0x7ffb2e94f910>"
      ]
     },
     "execution_count": 17,
     "metadata": {},
     "output_type": "execute_result"
    },
    {
     "data": {
      "image/png": "[encoded data removed]",
      "text/plain": [
       "<Figure size 432x288 with 1 Axes>"
      ]
     },
     "metadata": {
      "needs_background": "light"
     },
     "output_type": "display_data"
    }
   ],
   "source": [
    "# Plot class distribution\n",
    "sns.countplot(x='Label', data=df)"
   ]
  },
  {
   "cell_type": "markdown",
   "metadata": {
    "id": "W3BqimKjLZ3c"
   },
   "source": [
    "## Now install raw text tools"
   ]
  },
  {
   "cell_type": "code",
   "execution_count": 18,
   "metadata": {
    "executionInfo": {
     "elapsed": 25128,
     "status": "ok",
     "timestamp": 1621191344069,
     "user": {
      "displayName": "Sanjiv Das",
      "photoUrl": "https://lh3.googleusercontent.com/a-/AOh14GhgUU3RgThSxLUq6NKSN2tDGDl8IQdtHMvdaZPE=s64",
      "userId": "06377870171053566924"
     },
     "user_tz": 420
    },
    "id": "IrzZ7zdILZ2f"
   },
   "outputs": [],
   "source": [
    "from sklearn.model_selection import train_test_split\n",
    "from sklearn.ensemble import RandomForestClassifier\n",
    "from sklearn.metrics import accuracy_score\n",
    "from sklearn.metrics import classification_report\n",
    "from sklearn.metrics import roc_curve,auc\n",
    "from sklearn.metrics import confusion_matrix\n",
    "from sklearn.linear_model import LogisticRegression\n",
    "from sklearn.model_selection import cross_val_score"
   ]
  },
  {
   "cell_type": "code",
   "execution_count": 19,
   "metadata": {
    "colab": {
     "base_uri": "https://localhost:8080/"
    },
    "executionInfo": {
     "elapsed": 33559,
     "status": "ok",
     "timestamp": 1621191352504,
     "user": {
      "displayName": "Sanjiv Das",
      "photoUrl": "https://lh3.googleusercontent.com/a-/AOh14GhgUU3RgThSxLUq6NKSN2tDGDl8IQdtHMvdaZPE=s64",
      "userId": "06377870171053566924"
     },
     "user_tz": 420
    },
    "id": "Xx2GuEUpLZ3d",
    "outputId": "05e98cf7-f35e-4c05-8dc9-f709492debc8",
    "scrolled": true
   },
   "outputs": [
    {
     "name": "stdout",
     "output_type": "stream",
     "text": [
      "Requirement already satisfied: gensim in /Users/longmini/opt/anaconda3/lib/python3.8/site-packages (4.0.1)\n",
      "Requirement already satisfied: smart-open>=1.8.1 in /Users/longmini/opt/anaconda3/lib/python3.8/site-packages (from gensim) (3.0.0)\n",
      "Requirement already satisfied: scipy>=0.18.1 in /Users/longmini/opt/anaconda3/lib/python3.8/site-packages (from gensim) (1.5.0)\n",
      "Requirement already satisfied: numpy>=1.11.3 in /Users/longmini/opt/anaconda3/lib/python3.8/site-packages (from gensim) (1.19.5)\n",
      "Requirement already satisfied: requests in /Users/longmini/opt/anaconda3/lib/python3.8/site-packages (from smart-open>=1.8.1->gensim) (2.24.0)\n",
      "Requirement already satisfied: idna<3,>=2.5 in /Users/longmini/opt/anaconda3/lib/python3.8/site-packages (from requests->smart-open>=1.8.1->gensim) (2.10)\n",
      "Requirement already satisfied: certifi>=2017.4.17 in /Users/longmini/opt/anaconda3/lib/python3.8/site-packages (from requests->smart-open>=1.8.1->gensim) (2020.6.20)\n",
      "Requirement already satisfied: urllib3!=1.25.0,!=1.25.1,<1.26,>=1.21.1 in /Users/longmini/opt/anaconda3/lib/python3.8/site-packages (from requests->smart-open>=1.8.1->gensim) (1.25.9)\n",
      "Requirement already satisfied: chardet<4,>=3.0.2 in /Users/longmini/opt/anaconda3/lib/python3.8/site-packages (from requests->smart-open>=1.8.1->gensim) (3.0.4)\n",
      "Requirement already satisfied: transformers in /Users/longmini/opt/anaconda3/lib/python3.8/site-packages (4.5.1)\n",
      "Requirement already satisfied: tokenizers<0.11,>=0.10.1 in /Users/longmini/opt/anaconda3/lib/python3.8/site-packages (from transformers) (0.10.2)\n",
      "Requirement already satisfied: packaging in /Users/longmini/opt/anaconda3/lib/python3.8/site-packages (from transformers) (20.4)\n",
      "Requirement already satisfied: requests in /Users/longmini/opt/anaconda3/lib/python3.8/site-packages (from transformers) (2.24.0)\n",
      "Requirement already satisfied: numpy>=1.17 in /Users/longmini/opt/anaconda3/lib/python3.8/site-packages (from transformers) (1.19.5)\n",
      "Requirement already satisfied: regex!=2019.12.17 in /Users/longmini/opt/anaconda3/lib/python3.8/site-packages (from transformers) (2020.6.8)\n",
      "Requirement already satisfied: tqdm>=4.27 in /Users/longmini/opt/anaconda3/lib/python3.8/site-packages (from transformers) (4.47.0)\n",
      "Requirement already satisfied: sacremoses in /Users/longmini/opt/anaconda3/lib/python3.8/site-packages (from transformers) (0.0.45)\n",
      "Requirement already satisfied: filelock in /Users/longmini/opt/anaconda3/lib/python3.8/site-packages (from transformers) (3.0.12)\n",
      "Requirement already satisfied: six in /Users/longmini/opt/anaconda3/lib/python3.8/site-packages (from packaging->transformers) (1.15.0)\n",
      "Requirement already satisfied: pyparsing>=2.0.2 in /Users/longmini/opt/anaconda3/lib/python3.8/site-packages (from packaging->transformers) (2.4.7)\n",
      "Requirement already satisfied: idna<3,>=2.5 in /Users/longmini/opt/anaconda3/lib/python3.8/site-packages (from requests->transformers) (2.10)\n",
      "Requirement already satisfied: certifi>=2017.4.17 in /Users/longmini/opt/anaconda3/lib/python3.8/site-packages (from requests->transformers) (2020.6.20)\n",
      "Requirement already satisfied: chardet<4,>=3.0.2 in /Users/longmini/opt/anaconda3/lib/python3.8/site-packages (from requests->transformers) (3.0.4)\n",
      "Requirement already satisfied: urllib3!=1.25.0,!=1.25.1,<1.26,>=1.21.1 in /Users/longmini/opt/anaconda3/lib/python3.8/site-packages (from requests->transformers) (1.25.9)\n",
      "Requirement already satisfied: click in /Users/longmini/opt/anaconda3/lib/python3.8/site-packages (from sacremoses->transformers) (7.1.2)\n",
      "Requirement already satisfied: joblib in /Users/longmini/opt/anaconda3/lib/python3.8/site-packages (from sacremoses->transformers) (0.16.0)\n"
     ]
    }
   ],
   "source": [
    "# See Transformers from Hugging Face: https://huggingface.co/transformers/ \n",
    "# Simple Transformers: https://github.com/ThilinaRajapakse/simpletransformers\n",
    "\n",
    "!pip install gensim\n",
    "!pip install transformers"
   ]
  },
  {
   "cell_type": "code",
   "execution_count": 20,
   "metadata": {
    "executionInfo": {
     "elapsed": 39075,
     "status": "ok",
     "timestamp": 1621191358026,
     "user": {
      "displayName": "Sanjiv Das",
      "photoUrl": "https://lh3.googleusercontent.com/a-/AOh14GhgUU3RgThSxLUq6NKSN2tDGDl8IQdtHMvdaZPE=s64",
      "userId": "06377870171053566924"
     },
     "user_tz": 420
    },
    "id": "9KjI4j8ULZ3g"
   },
   "outputs": [
    {
     "name": "stderr",
     "output_type": "stream",
     "text": [
      "/Users/longmini/opt/anaconda3/lib/python3.8/site-packages/gensim/similarities/__init__.py:15: UserWarning: The gensim.similarities.levenshtein submodule is disabled, because the optional Levenshtein package <https://pypi.org/project/python-Levenshtein/> is unavailable. Install Levenhstein (e.g. `pip install python-Levenshtein`) to suppress this warning.\n",
      "  warnings.warn(msg)\n"
     ]
    }
   ],
   "source": [
    "import json\n",
    "from sklearn import feature_extraction, feature_selection, metrics\n",
    "from sklearn import model_selection, naive_bayes, pipeline, manifold, preprocessing\n",
    "import gensim\n",
    "import gensim.downloader as gensim_api\n",
    "from tensorflow.keras import models, layers, preprocessing as kprocessing\n",
    "from tensorflow.keras import backend as K\n",
    "from tensorflow.keras.utils import plot_model\n",
    "import transformers"
   ]
  },
  {
   "cell_type": "code",
   "execution_count": 21,
   "metadata": {
    "colab": {
     "base_uri": "https://localhost:8080/"
    },
    "executionInfo": {
     "elapsed": 40649,
     "status": "ok",
     "timestamp": 1621191359605,
     "user": {
      "displayName": "Sanjiv Das",
      "photoUrl": "https://lh3.googleusercontent.com/a-/AOh14GhgUU3RgThSxLUq6NKSN2tDGDl8IQdtHMvdaZPE=s64",
      "userId": "06377870171053566924"
     },
     "user_tz": 420
    },
    "id": "rCt7nU8FLZ3j",
    "outputId": "648a0d0a-2a14-48fd-a23f-003de1fb0577"
   },
   "outputs": [
    {
     "name": "stderr",
     "output_type": "stream",
     "text": [
      "[nltk_data] Downloading package stopwords to\n",
      "[nltk_data]     /Users/longmini/nltk_data...\n",
      "[nltk_data]   Package stopwords is already up-to-date!\n",
      "[nltk_data] Downloading package wordnet to\n",
      "[nltk_data]     /Users/longmini/nltk_data...\n",
      "[nltk_data]   Package wordnet is already up-to-date!\n"
     ]
    }
   ],
   "source": [
    "import nltk\n",
    "nltk.download(\"stopwords\")\n",
    "nltk.download(\"wordnet\")\n",
    "stopwords = nltk.corpus.stopwords.words(\"english\")"
   ]
  },
  {
   "cell_type": "code",
   "execution_count": 22,
   "metadata": {
    "executionInfo": {
     "elapsed": 40646,
     "status": "ok",
     "timestamp": 1621191359606,
     "user": {
      "displayName": "Sanjiv Das",
      "photoUrl": "https://lh3.googleusercontent.com/a-/AOh14GhgUU3RgThSxLUq6NKSN2tDGDl8IQdtHMvdaZPE=s64",
      "userId": "06377870171053566924"
     },
     "user_tz": 420
    },
    "id": "7yQJpCWxLZ3n"
   },
   "outputs": [],
   "source": [
    "# Use texthero as an alternative text cleaner\n",
    "\n",
    "def removeNumbersStr(s):\n",
    "    for c in range(10):\n",
    "        n = str(c)\n",
    "        s = s.replace(n,\" \")\n",
    "    return s\n",
    "\n",
    "def cleanText(text, stem=False, lemm=True, stop=True):\n",
    "    text = re.sub(r'[^\\w\\s]', '', str(text).lower().strip())  # remove stuff\n",
    "    text = removeNumbersStr(text)\n",
    "    text = text.split()  # tokenize\n",
    "    if stop is not None:  # remove stopwords\n",
    "        text = [word for word in text if word not in stopwords]\n",
    "    if stem == True:  # stemming\n",
    "        ps = nltk.stem.porter.PorterStemmer()\n",
    "        text = [ps.stem(word) for word in text]\n",
    "    if lemm == True:\n",
    "        lem = nltk.stem.wordnet.WordNetLemmatizer()\n",
    "        text = [lem.lemmatize(word) for word in text]\n",
    "    text = \" \".join(text) \n",
    "    return text"
   ]
  },
  {
   "cell_type": "code",
   "execution_count": 23,
   "metadata": {
    "colab": {
     "base_uri": "https://localhost:8080/",
     "height": 215
    },
    "executionInfo": {
     "elapsed": 41951,
     "status": "ok",
     "timestamp": 1621191360916,
     "user": {
      "displayName": "Sanjiv Das",
      "photoUrl": "https://lh3.googleusercontent.com/a-/AOh14GhgUU3RgThSxLUq6NKSN2tDGDl8IQdtHMvdaZPE=s64",
      "userId": "06377870171053566924"
     },
     "user_tz": 420
    },
    "id": "YmwtKAWiLZ3q",
    "outputId": "99715640-c029-4489-8002-b7135989b37c"
   },
   "outputs": [
    {
     "name": "stdout",
     "output_type": "stream",
     "text": [
      "(2264, 3)\n"
     ]
    },
    {
     "data": {
      "text/html": [
       "<div>\n",
       "<style scoped>\n",
       "    .dataframe tbody tr th:only-of-type {\n",
       "        vertical-align: middle;\n",
       "    }\n",
       "\n",
       "    .dataframe tbody tr th {\n",
       "        vertical-align: top;\n",
       "    }\n",
       "\n",
       "    .dataframe thead th {\n",
       "        text-align: right;\n",
       "    }\n",
       "</style>\n",
       "<table border=\"1\" class=\"dataframe\">\n",
       "  <thead>\n",
       "    <tr style=\"text-align: right;\">\n",
       "      <th></th>\n",
       "      <th>Text</th>\n",
       "      <th>Label</th>\n",
       "      <th>cleanTxt</th>\n",
       "    </tr>\n",
       "  </thead>\n",
       "  <tbody>\n",
       "    <tr>\n",
       "      <th>0</th>\n",
       "      <td>According to Gran , the company has no plans t...</td>\n",
       "      <td>neutral</td>\n",
       "      <td>according gran company plan move production ru...</td>\n",
       "    </tr>\n",
       "    <tr>\n",
       "      <th>1</th>\n",
       "      <td>For the last quarter of 2010 , Componenta 's n...</td>\n",
       "      <td>positive</td>\n",
       "      <td>last quarter componenta net sale doubled eur e...</td>\n",
       "    </tr>\n",
       "    <tr>\n",
       "      <th>2</th>\n",
       "      <td>In the third quarter of 2010 , net sales incre...</td>\n",
       "      <td>positive</td>\n",
       "      <td>third quarter net sale increased eur mn operat...</td>\n",
       "    </tr>\n",
       "    <tr>\n",
       "      <th>3</th>\n",
       "      <td>Operating profit rose to EUR 13.1 mn from EUR ...</td>\n",
       "      <td>positive</td>\n",
       "      <td>operating profit rose eur mn eur mn correspond...</td>\n",
       "    </tr>\n",
       "    <tr>\n",
       "      <th>4</th>\n",
       "      <td>Operating profit totalled EUR 21.1 mn , up fro...</td>\n",
       "      <td>positive</td>\n",
       "      <td>operating profit totalled eur mn eur mn repres...</td>\n",
       "    </tr>\n",
       "  </tbody>\n",
       "</table>\n",
       "</div>"
      ],
      "text/plain": [
       "                                                Text     Label  \\\n",
       "0  According to Gran , the company has no plans t...   neutral   \n",
       "1  For the last quarter of 2010 , Componenta 's n...  positive   \n",
       "2  In the third quarter of 2010 , net sales incre...  positive   \n",
       "3  Operating profit rose to EUR 13.1 mn from EUR ...  positive   \n",
       "4  Operating profit totalled EUR 21.1 mn , up fro...  positive   \n",
       "\n",
       "                                            cleanTxt  \n",
       "0  according gran company plan move production ru...  \n",
       "1  last quarter componenta net sale doubled eur e...  \n",
       "2  third quarter net sale increased eur mn operat...  \n",
       "3  operating profit rose eur mn eur mn correspond...  \n",
       "4  operating profit totalled eur mn eur mn repres...  "
      ]
     },
     "execution_count": 23,
     "metadata": {},
     "output_type": "execute_result"
    }
   ],
   "source": [
    "df[\"cleanTxt\"] = [cleanText(df.Text[j]) for j in range(len(df.Label))]\n",
    "print(df.shape)\n",
    "df.head()"
   ]
  },
  {
   "cell_type": "code",
   "execution_count": 24,
   "metadata": {
    "executionInfo": {
     "elapsed": 41947,
     "status": "ok",
     "timestamp": 1621191360917,
     "user": {
      "displayName": "Sanjiv Das",
      "photoUrl": "https://lh3.googleusercontent.com/a-/AOh14GhgUU3RgThSxLUq6NKSN2tDGDl8IQdtHMvdaZPE=s64",
      "userId": "06377870171053566924"
     },
     "user_tz": 420
    },
    "id": "qYUVmnCwLZ3s"
   },
   "outputs": [],
   "source": [
    "df_train, df_test = model_selection.train_test_split(df, test_size=0.2)\n",
    "y_train = df_train[\"Label\"].values \n",
    "y_test = df_test[\"Label\"].values"
   ]
  },
  {
   "cell_type": "code",
   "execution_count": 25,
   "metadata": {
    "executionInfo": {
     "elapsed": 41942,
     "status": "ok",
     "timestamp": 1621191360917,
     "user": {
      "displayName": "Sanjiv Das",
      "photoUrl": "https://lh3.googleusercontent.com/a-/AOh14GhgUU3RgThSxLUq6NKSN2tDGDl8IQdtHMvdaZPE=s64",
      "userId": "06377870171053566924"
     },
     "user_tz": 420
    },
    "id": "n7Q8tM2sLZ3w"
   },
   "outputs": [],
   "source": [
    "# Choose BOW or TFIDF in NLTK\n",
    "# vectorizer = feature_extraction.text.CountVectorizer(max_features=10000, ngram_range=(1,2))  # BOW\n",
    "vectorizer = feature_extraction.text.TfidfVectorizer(max_features=10000, ngram_range=(1,2))  # TFIDF"
   ]
  },
  {
   "cell_type": "code",
   "execution_count": 26,
   "metadata": {
    "colab": {
     "base_uri": "https://localhost:8080/"
    },
    "executionInfo": {
     "elapsed": 42313,
     "status": "ok",
     "timestamp": 1621191361293,
     "user": {
      "displayName": "Sanjiv Das",
      "photoUrl": "https://lh3.googleusercontent.com/a-/AOh14GhgUU3RgThSxLUq6NKSN2tDGDl8IQdtHMvdaZPE=s64",
      "userId": "06377870171053566924"
     },
     "user_tz": 420
    },
    "id": "mYdLEA2NLZ3z",
    "outputId": "a8a0ce95-1fc0-44a2-bc99-b164957d2d7e"
   },
   "outputs": [
    {
     "data": {
      "text/plain": [
       "<1811x10000 sparse matrix of type '<class 'numpy.float64'>'\n",
       "\twith 29445 stored elements in Compressed Sparse Row format>"
      ]
     },
     "execution_count": 26,
     "metadata": {},
     "output_type": "execute_result"
    }
   ],
   "source": [
    "corpus = df_train[\"cleanTxt\"]\n",
    "vectorizer.fit(corpus)\n",
    "X_train = vectorizer.transform(corpus) \n",
    "X_train"
   ]
  },
  {
   "cell_type": "code",
   "execution_count": 28,
   "metadata": {
    "colab": {
     "base_uri": "https://localhost:8080/"
    },
    "executionInfo": {
     "elapsed": 42310,
     "status": "ok",
     "timestamp": 1621191361294,
     "user": {
      "displayName": "Sanjiv Das",
      "photoUrl": "https://lh3.googleusercontent.com/a-/AOh14GhgUU3RgThSxLUq6NKSN2tDGDl8IQdtHMvdaZPE=s64",
      "userId": "06377870171053566924"
     },
     "user_tz": 420
    },
    "id": "_iCM66TzLZ31",
    "outputId": "12a3fd99-eaec-4219-fd2c-390a74211f1d"
   },
   "outputs": [
    {
     "data": {
      "text/plain": [
       "dict_items([('port', 4147), ('facility', 1217), ('throughput', 8396), ('teus', 8331), ('mln', 2110), ('ton', 8540), ('general', 1420), ('cargo', 412), ('port facility', 4149), ('throughput teus', 8397), ('teus mln', 8332), ('ton general', 8542), ('saunalahti', 6242), ('part', 3502), ('elisa', 1064), ('group', 1470), ('saunalahti part', 6243), ('part elisa', 3511), ('sunk', 7834), ('metre', 2060), ('fixed', 1346), ('bottom', 330), ('mud', 2264), ('vacuum', 9177), ('sunk depth', 7835), ('mud vacuum', 2265), ('deal', 888), ('includes', 1628), ('entire', 1095), ('personnel', 3829), ('planmill', 3959), ('oy', 3335), ('transfer', 8720), ('new', 2459), ('company', 525), ('socalled', 7198), ('old', 2906), ('employee', 1070), ('deal includes', 891), ('includes entire', 1630), ('personnel planmill', 3832), ('planmill oy', 3960), ('oy transfer', 3356), ('transfer new', 8727), ('new company', 2466), ('socalled old', 7200), ('old employee', 2907), ('growth', 1491), ('rate', 5094), ('paying', 3632), ('national', 2338), ('debt', 894), ('extremely', 1214), ('painful', 3422), ('rate paying', 5100), ('paying national', 3633), ('national debt', 2341), ('operating', 3006), ('profit', 4611), ('eur', 1130), ('mn', 2123), ('operating profit', 3015), ('profit eur', 4621), ('eur mn', 1149), ('mn eur', 2126), ('currently', 855), ('operates', 2990), ('fleet', 1352), ('eight', 1045), ('carrier', 418), ('well', 9558), ('nine', 2567), ('pusher', 4911), ('operates fleet', 2994), ('well nine', 9585), ('nine pusher', 2570), ('pusher barge', 4912), ('tecnomen', 8201), ('headquartered', 1515), ('espoo', 1116), ('finland', 1274), ('develops', 954), ('messaging', 2052), ('charging', 456), ('solution', 7251), ('telecomms', 8246), ('operator', 3078), ('service', 6605), ('provider', 4811), ('worldwide', 9787), ('tecnomen headquartered', 8202), ('espoo finland', 1117), ('finland develops', 1279), ('charging solution', 458), ('solution telecomms', 7279), ('telecomms operator', 8247), ('operator service', 3086), ('service provider', 6660), ('provider worldwide', 4820), ('share', 6747), ('carry', 419), ('right', 5760), ('dividend', 995), ('shareholder', 6868), ('effect', 1038), ('today', 8496), ('new share', 2493), ('share carry', 6765), ('right dividend', 5765), ('shareholder right', 6879), ('right effect', 5766), ('acquisition', 31), ('expected', 1196), ('take', 8046), ('place', 3932), ('end', 1076), ('august', 218), ('expected take', 1201), ('take place', 8050), ('place end', 3933), ('also', 94), ('turned', 8839), ('earnings', 1024), ('per', 3721), ('eps', 1100), ('versus', 9294), ('loss', 1902), ('also turned', 103), ('turned earnings', 8840), ('earnings per', 1025), ('per share', 3728), ('share eps', 6778), ('eps eur', 1104), ('eur versus', 1157), ('versus loss', 9296), ('loss per', 1909), ('share eur', 6780), ('subject', 7738), ('approval', 161), ('norwegian', 2696), ('competition', 586), ('authority', 223), ('subject approval', 7739), ('norwegian competition', 2697), ('competition authority', 587), ('reiterated', 5307), ('forecast', 1370), ('handset', 1506), ('manufacturer', 1971), ('sell', 6514), ('around', 184), ('unit', 8973), ('year', 9882), ('reiterated forecast', 5308), ('handset manufacturer', 1507), ('sell around', 6516), ('around mln', 187), ('unit year', 9008), ('year globally', 9902), ('demand', 928), ('sport', 7380), ('equipment', 1106), ('good', 1449), ('sport equipment', 7384), ('maximum', 2017), ('obligated', 2779), ('total', 8577), ('trade', 8646), ('day', 886), ('market', 1993), ('value', 9189), ('obligated total', 2780), ('total trade', 8610), ('trade per', 8655), ('per day', 3724), ('market value', 2007), ('whitehall', 9649), ('street', 7675), ('real', 5162), ('estate', 1120), ('fund', 1410), ('invest', 1702), ('related', 5313), ('asset', 204), ('principally', 4425), ('property', 4747), ('mortgage', 2195), ('loan', 1884), ('whitehall street', 9650), ('street real', 7677), ('real estate', 5163), ('estate fund', 1123), ('related asset', 5316), ('principally acquisition', 4426), ('estate company', 1121), ('real property', 5165), ('property mortgage', 4752), ('mortgage loan', 2196), ('exit', 1190), ('contract', 663), ('manufacturing', 1975), ('segment', 6477), ('contract manufacturing', 669), ('manufacturing service', 1977), ('service segment', 6670), ('local', 1886), ('government', 1454), ('ml', 2109), ('svensson', 7928), ('say', 6266), ('contact', 652), ('management', 1960), ('finnish', 1288), ('componenta', 598), ('alternative', 104), ('decision', 899), ('close', 483), ('plant', 3972), ('local government', 1888), ('svensson say', 7929), ('say contact', 6269), ('finnish company', 1294), ('company componenta', 531), ('company decision', 533), ('plant ml', 3994), ('order', 3121), ('cover', 837), ('design', 936), ('hardware', 1509), ('software', 7207), ('licence', 1850), ('maintenance', 1939), ('six', 7075), ('order also', 3123), ('also cover', 95), ('design service', 939), ('service hardware', 6640), ('hardware software', 1510), ('software licence', 7216), ('well maintenance', 9582), ('maintenance service', 1940), ('service six', 6674), ('six year', 7083), ('sunrise', 7836), ('resource', 5595), ('russian', 5915), ('nearshore', 2372), ('development', 950), ('whollyowned', 9680), ('subsidiary', 7767), ('russia', 5900), ('sunrise resource', 7837), ('resource operates', 5602), ('operates russian', 3003), ('russian nearshore', 5921), ('nearshore development', 2373), ('development market', 953), ('whollyowned russian', 9681), ('russian subsidiary', 5922), ('subsidiary personnel', 7778), ('personnel russia', 3835), ('olvi', 2919), ('expects', 1202), ('sale', 6059), ('increase', 1638), ('first', 1326), ('quarter', 4937), ('olvi expects', 2922), ('sale market', 6106), ('market share', 2005), ('share increase', 6796), ('first quarter', 1329), ('financial', 1258), ('detail', 941), ('disclosed', 980), ('financial detail', 1260), ('mr', 2234), ('skogster', 7110), ('serf', 6586), ('manager', 1963), ('responsible', 5619), ('system', 7997), ('module', 2153), ('low', 1918), ('voltage', 9387), ('drive', 1010), ('mr skogster', 2249), ('skogster currently', 7111), ('serf manager', 6589), ('manager responsible', 1964), ('responsible abb', 5620), ('oy system', 3354), ('system module', 8015), ('voltage drive', 9388), ('building', 355), ('gross', 1467), ('floor', 1356), ('area', 177), ('sq', 7397), ('include', 1626), ('apartment', 151), ('building gross', 357), ('floor area', 1357), ('area sq', 180), ('sq also', 7398), ('also include', 97), ('volume', 9389), ('cocacola', 495), ('decreased', 908), ('sale volume', 6158), ('volume cocacola', 9392), ('cocacola market', 496), ('share decreased', 6775), ('rautaruukki', 5117), ('awarded', 237), ('supply', 7868), ('install', 1676), ('steel', 7558), ('superstructure', 7850), ('partihallsfrbindelsen', 3549), ('bridge', 344), ('gothenburg', 1452), ('sweden', 7943), ('rautaruukki awarded', 5118), ('awarded contract', 238), ('contract supply', 670), ('supply install', 7876), ('install steel', 1677), ('steel superstructure', 7573), ('superstructure partihallsfrbindelsen', 7852), ('partihallsfrbindelsen bridge', 3550), ('electronics', 1057), ('elcoteq', 1047), ('se', 6374), ('posted', 4211), ('net', 2410), ('euro', 1159), ('half', 1496), ('compared', 573), ('period', 3783), ('finnish electronics', 1299), ('electronics manufacturing', 1061), ('service em', 6632), ('elcoteq se', 1048), ('se posted', 6377), ('posted net', 4215), ('net loss', 2416), ('loss mln', 1907), ('mln euro', 2114), ('euro mln', 1163), ('mln first', 2115), ('first half', 1327), ('half compared', 1497), ('compared net', 581), ('net profit', 2418), ('profit mln', 4640), ('mln period', 2119), ('quality', 4929), ('charger', 455), ('brand', 335), ('sold', 7225), ('selected', 6507), ('retail', 5683), ('store', 7643), ('location', 1890), ('quality charger', 4931), ('sold selected', 7233), ('selected retail', 6510), ('retail store', 5691), ('store sale', 7650), ('sale location', 6103), ('kone', 1786), ('monospace', 2156), ('elevator', 1062), ('would', 9798), ('installed', 1680), ('order machineroomless', 3143), ('would installed', 9815), ('solteq', 7247), ('plc', 4035), ('announcement', 136), ('repurchase', 5560), ('helsinki', 1538), ('stock', 7592), ('exchange', 1179), ('hold', 1561), ('including', 1632), ('repurchased', 5563), ('solteq plc', 7249), ('plc announcement', 4036), ('share repurchase', 6837), ('repurchase helsinki', 5561), ('helsinki stock', 1543), ('stock exchange', 7595), ('plc hold', 4044), ('total share', 8605), ('share including', 6795), ('share repurchased', 6838), ('propose', 4770), ('propose dividend', 4772), ('dividend eur', 997), ('eur per', 1151), ('finalized', 1255), ('september', 6570), ('october', 2795), ('said', 5979), ('sale finalized', 6083), ('september october', 6579), ('october company', 2798), ('company said', 564), ('nokia', 2581), ('corp', 751), ('rose', 5834), ('thursday', 8398), ('phone', 3882), ('maker', 1947), ('thirdquarter', 8369), ('almost', 90), ('doubled', 1008), ('global', 1440), ('increased', 1641), ('share nokia', 6812), ('nokia corp', 2584), ('corp rose', 762), ('rose thursday', 5846), ('thursday cell', 8399), ('phone maker', 3887), ('maker said', 1953), ('said thirdquarter', 6035), ('thirdquarter earnings', 8370), ('share global', 6790), ('handset market', 1508), ('production', 4566), ('line', 1865), ('similarsized', 7018), ('product', 4515), ('weert', 9549), ('netherlands', 2425), ('orhangazi', 3189), ('turkey', 8833), ('combined', 503), ('output', 3273), ('approximately', 163), ('tonne', 8545), ('million', 2078), ('production line', 4575), ('similarsized product', 7019), ('product karkkila', 4538), ('weert netherlands', 9550), ('netherlands orhangazi', 2427), ('orhangazi turkey', 3190), ('turkey combined', 8834), ('output approximately', 3274), ('tonne net', 8550), ('net sale', 2419), ('sale eur', 6078), ('eur million', 1147), ('simultaneously', 7026), ('responsibility', 5614), ('extended', 1212), ('merger', 2049), ('simultaneously responsibility', 7027), ('responsibility area', 5615), ('scanfil', 6297), ('supplier', 7857), ('communication', 518), ('sector', 6425), ('industry', 1659), ('report', 5468), ('totalled', 8623), ('finnish scanfil', 1312), ('scanfil system', 6306), ('system supplier', 8025), ('supplier contract', 7861), ('contract manufacturer', 668), ('sector electronics', 6430), ('report net', 5491), ('sale totalled', 6155), ('totalled eur', 8624), ('mn first', 2127), ('half eur', 1498), ('based', 265), ('result', 5647), ('existing', 1189), ('backlog', 242), ('prospect', 4781), ('fullyear', 1408), ('margin', 1987), ('stay', 7554), ('level', 1847), ('lower', 1919), ('due', 1015), ('quarter result', 4974), ('result existing', 5656), ('order backlog', 3127), ('new order', 2488), ('order prospect', 3149), ('prospect company', 4782), ('company expects', 538), ('sale contract', 6069), ('stay healthy', 7555), ('profit margin', 4638), ('operation', 3024), ('review', 5743), ('totaled', 8615), ('remaining', 5391), ('profit operation', 4643), ('operation finland', 3036), ('period review', 3802), ('review totaled', 5745), ('totaled eur', 8617), ('remaining level', 5393), ('alexandria', 85), ('va', 9159), ('may', 2018), ('vista', 9362), ('developed', 946), ('ornamental', 3212), ('patent', 3601), ('trademark', 8662), ('office', 2843), ('announced', 133), ('alexandria va', 86), ('va may', 9161), ('vista calif', 9363), ('ornamental design', 3213), ('patent trademark', 3604), ('trademark office', 8664), ('office announced', 2845), ('hit', 1553), ('friday', 1397), ('percent', 3731), ('start', 7471), ('slow', 7145), ('touchscreen', 8630), ('model', 2149), ('nokia share', 2599), ('share hit', 6794), ('percent start', 3759), ('start year', 7488), ('year part', 9913), ('part slow', 3522), ('slow introduction', 7146), ('touchscreen model', 8631), ('duration', 1018), ('month', 2157), ('control', 674), ('seismic', 6496), ('drive control', 1011), ('control seismic', 678), ('seismic compressor', 6497), ('symphony', 7983), ('provides', 4821), ('aldata', 82), ('symphony service', 7984), ('service provides', 6661), ('provides development', 4828), ('service aldata', 6606), ('number', 2741), ('offered', 2834), ('number new', 2751), ('share offered', 6815), ('offered million', 2835), ('contains', 654), ('among', 118), ('others', 3232), ('valve', 9225), ('complete', 590), ('mill', 2076), ('engineering', 1085), ('electrification', 1054), ('metso', 2064), ('order contains', 3132), ('among others', 119), ('others control', 3233), ('control valve', 681), ('valve instrumentation', 9226), ('well complete', 9566), ('amanda', 112), ('capital', 398), ('investment', 1704), ('private', 4448), ('equity', 1111), ('unquoted', 9024), ('mainly', 1938), ('europe', 1168), ('amanda capital', 113), ('private equity', 4450), ('unquoted company', 9025), ('usd', 9083), ('value order', 9208), ('order usd', 3157), ('usd mn', 9098), ('paper', 3451), ('main', 1936), ('publication', 4853), ('average', 234), ('price', 4369), ('last', 1810), ('said paper', 6019), ('paper demand', 3458), ('main market', 1937), ('publication paper', 4856), ('paper increased', 3461), ('paper price', 3468), ('price percent', 4391), ('percent compared', 3738), ('compared last', 577), ('last year', 1814), ('lt', 1922), ('operative', 3075), ('latvia', 1821), ('norway', 2690), ('operative finland', 3077), ('finland sweden', 1283), ('sweden latvia', 7948), ('russia norway', 5907), ('make', 1946), ('garden', 1417), ('tool', 8561), ('scissors', 6352), ('consumer', 647), ('boosted', 328), ('income', 1636), ('received', 5182), ('pct', 3658), ('shareholding', 6883), ('wartsila', 9467), ('company make', 549), ('tool scissors', 8564), ('scissors consumer', 6353), ('consumer good', 649), ('said earnings', 5997), ('mln eur', 2113), ('received pct', 5186), ('pct shareholding', 3667), ('shareholding finnish', 6884), ('engineering group', 1087), ('trying', 8799), ('slavery', 7117), ('different', 961), ('perspective', 3836), ('balance', 243), ('story', 7653), ('writer', 9824), ('detroit', 945), ('press', 4336), ('news', 2507), ('trying deal', 8800), ('slavery different', 7118), ('perspective balance', 3837), ('story say', 7654), ('say deramus', 6270), ('writer detroit', 9825), ('press detroit', 4338), ('presentation', 4318), ('material', 2012), ('website', 9522), ('wwwseahawkdrillingcom', 9856), ('investor', 1715), ('relation', 5331), ('section', 6420), ('webcast', 9516), ('tab', 8032), ('presentation material', 4320), ('posted company', 4212), ('company website', 570), ('website wwwseahawkdrillingcom', 9528), ('wwwseahawkdrillingcom investor', 9857), ('investor relation', 1717), ('relation section', 5334), ('section webcast', 6424), ('webcast presentation', 9519), ('presentation tab', 4321), ('metal', 2054), ('international', 1694), ('located', 1889), ('sector company', 6428), ('operation production', 3053), ('production plant', 4580), ('plant located', 3993), ('netherlands sweden', 2428), ('sweden turkey', 7955), ('bank', 252), ('land', 1799), ('fell', 1243), ('third', 8362), ('finnish bank', 1289), ('bank land', 256), ('land report', 1800), ('report operating', 5492), ('profit fell', 4624), ('fell eur', 1244), ('mn third', 2137), ('third quarter', 8365), ('quarter eur', 4948), ('passenger', 3578), ('ferry', 1246), ('dimension', 969), ('length', 1844), ('overall', 3288), ('perpendicular', 3815), ('passenger ferry', 3585), ('overall length', 3290), ('perpendicular breadth', 3816), ('transaction', 8699), ('included', 1627), ('lease', 1833), ('agreement', 70), ('concerning', 609), ('premise', 4289), ('employment', 1072), ('transaction included', 8704), ('transfer lease', 8726), ('premise employment', 4290), ('related operation', 5323), ('kyro', 1793), ('strategy', 7669), ('glaston', 1437), ('strategy glaston', 7671), ('immediate', 1607), ('positive', 4195), ('impact', 1608), ('aspocomp', 199), ('positive impact', 4197), ('financial result', 1263), ('however', 1584), ('two', 8871), ('previously', 4356), ('ordered', 3161), ('set', 6694), ('producing', 4511), ('electricity', 1053), ('two previously', 8883), ('previously ordered', 4364), ('ordered set', 3165), ('set start', 6702), ('start producing', 7483), ('producing electricity', 4512), ('october said', 2807), ('offer', 2816), ('cash', 420), ('face', 1216), ('worth', 9791), ('cencorp', 432), ('issued', 1725), ('savcor', 6244), ('offer price', 2832), ('price million', 4385), ('million net', 2089), ('net debt', 2412), ('worth cencorp', 9794), ('share issued', 6800), ('estimate', 1124), ('considerably', 622), ('clearly', 480), ('sale increase', 6093), ('operating result', 3016), ('result clearly', 5654), ('redesigned', 5240), ('circuit', 469), ('since', 7028), ('weekly', 9547), ('basis', 269), ('excess', 1178), ('redesigned crushing', 5241), ('operation since', 3062), ('since start', 7038), ('start september', 7486), ('september overall', 6580), ('overall production', 3291), ('production rate', 4581), ('rate weekly', 5104), ('weekly basis', 9548), ('tonne day', 8548), ('commission', 513), ('corresponding', 810), ('commission income', 514), ('mn corresponding', 2125), ('corresponding period', 811), ('biggest', 297), ('challenge', 450), ('piece', 3904), ('look', 1900), ('raw', 5132), ('piece look', 3905), ('raw hansen', 5134), ('standard', 7461), ('chartered', 459), ('stan', 7456), ('ftse', 1404), ('royal', 5860), ('scotland', 6359), ('rb', 5136), ('barclays', 262), ('barc', 261), ('bcs', 279), ('share standard', 6848), ('standard chartered', 7462), ('stan rose', 7457), ('rose ftse', 5839), ('royal bank', 5861), ('scotland rb', 6360), ('rb share', 5138), ('share rose', 6841), ('rose barclays', 5836), ('share barc', 6757), ('saavalainen', 5956), ('head', 1513), ('comptel', 603), ('perfect', 3771), ('variety', 9241), ('business', 362), ('technical', 8162), ('regulatory', 5299), ('os', 3214), ('mr mikko', 2248), ('saavalainen head', 5957), ('sale concludes', 6067), ('provides perfect', 4832), ('perfect illustration', 3772), ('variety business', 9242), ('technical regulatory', 8164), ('regulatory challenge', 5300), ('operator facing', 3082), ('os today', 3215), ('tax', 8141), ('profit tax', 4654), ('tax eur', 8145), ('salt', 6169), ('fat', 1230), ('content', 655), ('product low', 4540), ('salt fat', 6170), ('medium', 2034), ('talentum', 8065), ('warning', 9460), ('finnish medium', 1305), ('medium group', 2036), ('talentum issued', 8068), ('issued profit', 1726), ('profit warning', 4663), ('following', 1365), ('workday', 9766), ('customer', 857), ('check', 460), ('home', 1567), ('computer', 605), ('purchase', 4890), ('divided', 994), ('ingredient', 1671), ('much', 2259), ('energy', 1082), ('various', 9244), ('nutritional', 2758), ('workday customer', 9767), ('purchase divided', 4891), ('much energy', 2262), ('various product', 9249), ('product contain', 4527), ('nutritional content', 2759), ('tekla', 8219), ('defense', 917), ('employ', 1067), ('person', 3819), ('tekla defense', 8220), ('business employ', 367), ('person located', 3822), ('frozen', 1400), ('food', 1366), ('fish', 1335), ('long', 1897), ('synergy', 7989), ('lnnen', 1880), ('tehtaat', 8214), ('frozen food', 1401), ('sector long', 6432), ('synergy lnnen', 7990), ('lnnen tehtaat', 1881), ('tehtaat business', 8215), ('sale totaled', 6154), ('addition', 40), ('stake', 7437), ('megafon', 2040), ('telecominvest', 8244), ('owns', 3321), ('web', 9508), ('plus', 4075), ('st', 7417), ('petersburg', 3845), ('payphones', 3641), ('telecom', 8236), ('producer', 4503), ('peterservis', 3855), ('stake megafon', 7445), ('telecominvest currently', 8245), ('owns share', 3329), ('share web', 6864), ('web plus', 9511), ('plus st', 4080), ('st petersburg', 7419), ('petersburg payphones', 3851), ('payphones telecom', 3642), ('telecom equipment', 8239), ('producer peterservis', 4507), ('peterservis number', 3856), ('number minor', 2750), ('product well', 4564), ('well product', 9596), ('quoted', 5005), ('nasdaq', 2334), ('omx', 2927), ('oyj', 3359), ('rtrks', 5871), ('company share', 566), ('share quoted', 6828), ('quoted nasdaq', 5007), ('nasdaq omx', 2335), ('omx helsinki', 2930), ('rautaruukki oyj', 5120), ('oyj rtrks', 3378), ('catalyst', 424), ('refinery', 5257), ('polyolefin', 4128), ('category', 425), ('segment includes', 6483), ('refinery catalyst', 5258), ('polyolefin catalyst', 4129), ('product category', 4522), ('go', 1444), ('provide', 4797), ('profile', 4602), ('ten', 8282), ('leading', 1830), ('european', 1170), ('specialty', 7348), ('chemical', 461), ('major', 1942), ('player', 4027), ('report go', 5485), ('provide detailed', 4799), ('profile ten', 4606), ('ten leading', 8284), ('specialty chemical', 7349), ('profile major', 4605), ('continuing', 661), ('profit continuing', 4616), ('continuing operation', 662), ('operation fell', 3034), ('sale price', 6122), ('price disclosed', 4378), ('transaction value', 8717), ('value cad', 9195), ('approximately eur', 166), ('cargotec', 415), ('corporation', 774), ('release', 5343), ('time', 8448), ('macgregor', 1927), ('providing', 4835), ('marine', 1990), ('handling', 1502), ('offshore', 2875), ('load', 1882), ('significant', 6983), ('crane', 839), ('retrofit', 5704), ('corporation press', 790), ('press release', 4339), ('release august', 5344), ('finnish time', 1320), ('time cargotec', 8451), ('business area', 363), ('providing marine', 4837), ('marine cargo', 1991), ('cargo handling', 413), ('handling offshore', 1503), ('offshore load', 2878), ('load handling', 1883), ('handling solution', 1505), ('solution received', 7274), ('received significant', 5188), ('significant offshore', 6992), ('offshore crane', 2877), ('retrofit order', 5705), ('group posted', 1480), ('sale mln', 6110), ('mln operating', 2118), ('profit euro', 4622), ('listed', 1870), ('hkscan', 1556), ('controlled', 682), ('baltic', 245), ('improved', 1615), ('revenue', 5723), ('food industry', 1368), ('industry company', 1661), ('company hkscan', 541), ('controlled company', 683), ('revenue eur', 5726), ('mn year', 2138), ('donation', 1005), ('granted', 1459), ('aalto', 0), ('university', 9015), ('tampere', 8101), ('turku', 8836), ('eastern', 1027), ('oulu', 3243), ('vaasa', 9168), ('polytechnic', 4130), ('later', 1817), ('university university', 9019), ('university helsinki', 9016), ('tampere turku', 8104), ('turku eastern', 8837), ('oulu vaasa', 3246), ('vaasa polytechnic', 9169), ('polytechnic announced', 4131), ('announced later', 134), ('need', 2377), ('nickel', 2553), ('talvivaara', 8092), ('need alloy', 2378), ('nickel ferrochrome', 2556), ('production said', 4584), ('said talvivaara', 6032), ('confirmed', 616), ('whole', 9651), ('yearago', 9928), ('given', 1433), ('interim', 1692), ('revenue whole', 5742), ('whole yearago', 9666), ('yearago eur', 9929), ('interim report', 1693), ('report august', 5471), ('annual', 138), ('turnover', 8845), ('vaahto', 9162), ('nordic', 2650), ('company employee', 536), ('employee annual', 1071), ('annual turnover', 145), ('turnover eur', 8849), ('vaahto group', 9163), ('listed nordic', 1872), ('nordic exchange', 2658), ('exchange helsinki', 1181), ('schwalm', 6341), ('outoteccom', 3271), ('eila', 1046), ('paatela', 3388), ('vice', 9316), ('president', 4326), ('corporate', 766), ('tel', 8227), ('mobile', 2140), ('email', 1065), ('schwalm outoteccom', 6342), ('outoteccom eila', 3272), ('paatela vice', 3389), ('vice president', 9318), ('president corporate', 4329), ('corporate communication', 767), ('communication tel', 524), ('tel mobile', 8230), ('turbine', 8829), ('launched', 1824), ('turbine expected', 8830), ('amount', 120), ('pensionable', 3705), ('salary', 6050), ('pensionable salary', 3706), ('pm', 4088), ('central', 437), ('nordea', 2638), ('ya', 9873), ('ulitsa', 8930), ('yamskogo', 9876), ('polya', 4126), ('telephone', 8254), ('unimilk', 8967), ('xvi', 9871), ('pm central', 4089), ('office nordea', 2849), ('nordea bank', 2641), ('ya ulitsa', 9875), ('ulitsa yamskogo', 8931), ('yamskogo polya', 9877), ('polya building', 4127), ('telephone ext', 8257), ('unimilk egm', 8968), ('xvi international', 9872), ('food business', 1367), ('russia take', 5910), ('niina', 2563), ('nenonen', 2402), ('marimekko', 1988), ('current', 854), ('director', 974), ('clothing', 487), ('accessory', 13), ('role', 5821), ('niina nenonen', 2564), ('nenonen marimekko', 2403), ('take role', 8052), ('city', 474), ('comment', 509), ('ashley', 192), ('analyst', 130), ('relation city', 5332), ('comment mr', 510), ('mr ashley', 2235), ('investor analyst', 1716), ('partly', 3551), ('reflect', 5265), ('higher', 1547), ('activity', 37), ('field', 1248), ('policy', 4120), ('partly reflect', 3555), ('reflect government', 5266), ('optimization', 3098), ('component', 596), ('heating', 1521), ('process', 4464), ('reduce', 5244), ('consumption', 650), ('optimization steel', 3100), ('steel component', 7560), ('process reduce', 4473), ('reduce energy', 5245), ('must', 2303), ('approved', 162), ('force', 1369), ('must approved', 2304), ('russian competition', 5916), ('adp', 46), ('jan', 1735), ('nok', 2575), ('billion', 301), ('bn', 315), ('adp news', 47), ('news jan', 2515), ('mobile phone', 2144), ('maker nokia', 1951), ('nokia oyj', 2597), ('oyj omx', 3374), ('omx nok', 2932), ('nok said', 2580), ('said today', 6037), ('today operating', 8512), ('profit decreased', 4618), ('decreased eur', 909), ('eur billion', 1133), ('usd bn', 9084), ('bn eur', 316), ('supplied', 7855), ('tesoro', 8318), ('similar', 7011), ('delivered', 921), ('spain', 7321), ('supplied tesoro', 7856), ('tesoro corporation', 8319), ('corporation golden', 785), ('refinery martinez', 5259), ('similar crane', 7012), ('crane delivered', 840), ('refinery spain', 5260), ('project', 4699), ('total investment', 8588), ('investment project', 1711), ('project approximately', 4702), ('owned', 3301), ('state', 7509), ('space', 7315), ('nv', 2760), ('construction', 631), ('distribution', 987), ('municipality', 2297), ('owned state', 3308), ('state finland', 7515), ('finland european', 1280), ('space company', 7316), ('nv tekla', 2761), ('tekla international', 8222), ('software company', 7210), ('provides solution', 4834), ('solution building', 7257), ('building construction', 356), ('ltd', 1924), ('comprise', 601), ('art', 189), ('function', 1409), ('sale savcor', 6134), ('savcor group', 6247), ('savcor art', 6245), ('corporate function', 769), ('cencorp corporation', 433), ('firm', 1325), ('copying', 736), ('printing', 4432), ('digital', 963), ('scanning', 6310), ('sokopro', 7221), ('service include', 6641), ('copying printing', 737), ('printing cadmodelling', 4434), ('digital printing', 964), ('printing scanning', 4441), ('scanning sokopro', 6311), ('sokopro project', 7222), ('project bank', 4705), ('science', 6346), ('park', 3488), ('build', 353), ('specialises', 7331), ('technologyoriented', 8189), ('tampere science', 8103), ('science park', 6348), ('park finnish', 3490), ('owns lease', 3323), ('office property', 2854), ('property specialises', 4757), ('specialises facility', 7333), ('technologyoriented business', 8190), ('anticipates', 150), ('result company', 5655), ('company currently', 532), ('increase operating', 1640), ('result positive', 5670), ('ground', 1469), ('notification', 2717), ('tiimari', 8428), ('convertible', 705), ('board', 318), ('notification tiimari', 2719), ('tiimari plc', 8433), ('plc issued', 4046), ('convertible loan', 706), ('built', 361), ('san', 6191), ('texas', 8334), ('usa', 9072), ('started', 7489), ('new unit', 2498), ('unit built', 8977), ('state art', 7510), ('san antonio', 6192), ('texas usa', 8335), ('usa started', 9078), ('started operation', 7496), ('size', 7092), ('remain', 5373), ('unchanged', 8940), ('size cider', 7093), ('remain unchanged', 5381), ('link', 1867), ('thewartsila', 8357), ('shorter', 6941), ('version', 9291), ('related link', 5322), ('thewartsila generating', 8358), ('set gasconversions', 6699), ('shorter two', 6942), ('two version', 8890), ('version press', 9292), ('estonia', 1126), ('poland', 4110), ('company net', 551), ('today approximately', 8497), ('approximately employee', 165), ('kci', 1771), ('konecranes', 1787), ('four', 1384), ('hot', 1577), ('ladle', 1795), ('indian', 1650), ('bhushan', 293), ('strip', 7693), ('finnish kci', 1303), ('kci konecranes', 1772), ('awarded order', 239), ('order four', 3137), ('four hot', 1385), ('hot metal', 1578), ('metal ladle', 2056), ('ladle crane', 1796), ('crane indian', 841), ('indian steel', 1651), ('steel producer', 7568), ('producer bhushan', 4505), ('bhushan steel', 294), ('steel strip', 7571), ('strip delivered', 7694), ('target', 8120), ('tieto', 8415), ('identity', 1599), ('code', 497), ('date', 885), ('change', 452), ('holding', 1562), ('january', 1736), ('portion', 4166), ('vote', 9412), ('oppohjola', 3094), ('cooperative', 722), ('opk', 3092), ('represents', 5550), ('voting', 9415), ('target company', 8121), ('tieto corporation', 8416), ('corporation business', 778), ('portion share', 4169), ('share vote', 6861), ('vote current', 9413), ('oppohjola group', 3095), ('cooperative opk', 723), ('opk share', 3093), ('share represents', 6836), ('represents share', 5552), ('share voting', 6862), ('voting right', 9416), ('mentioned', 2045), ('remains', 5397), ('share share', 6846), ('share capital', 6762), ('mentioned shareholder', 2046), ('shareholder remains', 6878), ('term', 8294), ('condition', 611), ('option', 3101), ('scheme', 6330), ('available', 231), ('internet', 1696), ('page', 3408), ('wwwsanomacom', 9855), ('term condition', 8296), ('condition stock', 612), ('stock option', 7598), ('option scheme', 3111), ('scheme available', 6331), ('available company', 232), ('company internet', 543), ('internet page', 1697), ('page wwwsanomacom', 3411), ('slipped', 7130), ('previous', 4351), ('slipped net', 7133), ('loss eur', 1904), ('eur previous', 1153), ('previous year', 4355), ('chairman', 447), ('give', 1432), ('question', 4997), ('new chairman', 2464), ('chairman board', 448), ('board director', 319), ('mr chaim', 2236), ('presentation answer', 4319), ('microsoft', 2071), ('week', 9537), ('patch', 3597), ('window', 9707), ('released', 5360), ('earlier', 1020), ('last week', 1813), ('week also', 9538), ('also issued', 99), ('patch window', 3598), ('window operating', 9708), ('operating system', 3021), ('system beta', 7998), ('released day', 5362), ('sampo', 6175), ('followed', 1364), ('sampo nordea', 6180), ('nordea biggest', 2642), ('biggest shareholder', 298), ('shareholder stake', 6880), ('stake followed', 7443), ('contractor', 673), ('shopping', 6934), ('center', 436), ('china', 466), ('eg', 1044), ('hotel', 1579), ('factory', 1220), ('large', 1801), ('world', 9781), ('shopping center', 6935), ('state construction', 7514), ('construction engineering', 634), ('corporation previously', 791), ('previously built', 4358), ('part world', 3529), ('route', 5857), ('tallinn', 8081), ('percentage', 3766), ('point', 4104), ('route helsinki', 5858), ('helsinki finland', 1540), ('tallinn estonia', 8082), ('percentage point', 3767), ('march', 1986), ('goldman', 1447), ('sachs', 5964), ('negative', 2388), ('telenor', 8252), ('asa', 191), ('osl', 3220), ('teliasonera', 8267), ('ab', 1), ('sto', 7587), ('tlsn', 8480), ('short', 6938), ('goldman sachs', 1448), ('sachs estimate', 5965), ('negative prospect', 2391), ('prospect norwegian', 4784), ('norwegian mobile', 2699), ('operation norway', 3050), ('norway telenor', 2695), ('telenor asa', 8253), ('osl tel', 3221), ('tel sweden', 8231), ('sweden teliasonera', 7954), ('teliasonera ab', 8268), ('ab sto', 2), ('sto tlsn', 7591), ('tlsn short', 8481), ('short term', 6940), ('printed', 4429), ('pcbs', 3654), ('december', 896), ('named', 2323), ('senior', 6546), ('asian', 194), ('finnish printed', 1309), ('printed circuit', 4430), ('circuit board', 470), ('pcbs maker', 3655), ('maker aspocomp', 1948), ('aspocomp group', 200), ('group oyj', 1479), ('oyj said', 3380), ('said december', 5995), ('named henry', 2325), ('senior vice', 6549), ('president group', 4330), ('operation january', 3043), ('suggest', 7806), ('monthly', 2176), ('paid', 3412), ('member', 2041), ('outside', 3276), ('shareholder suggest', 6881), ('suggest monthly', 7807), ('monthly salary', 2179), ('salary eur', 6051), ('would paid', 9817), ('paid board', 3413), ('board member', 321), ('outside company', 3277), ('rapala', 5083), ('aim', 78), ('move', 2219), ('ragot', 5017), ('loudeac', 1916), ('waterqueen', 9490), ('fishing', 1337), ('tortue', 8575), ('saint', 6044), ('marcel', 1984), ('france', 1394), ('morvillars', 2197), ('rapala aim', 5084), ('move distribution', 2221), ('distribution unit', 989), ('unit ragot', 8997), ('ragot loudeac', 5019), ('unit waterqueen', 9005), ('waterqueen fishing', 9491), ('line supplier', 1866), ('supplier tortue', 7866), ('tortue saint', 8576), ('saint marcel', 6045), ('oct', 2791), ('consulting', 645), ('poyry', 4255), ('poy', 4253), ('extension', 1213), ('consultancy', 642), ('venezue', 9283), ('news oct', 2519), ('oct finnish', 2792), ('finnish consulting', 1297), ('consulting engineering', 646), ('engineering company', 1086), ('poyry oyj', 4259), ('omx poy', 2936), ('poy said', 4254), ('today awarded', 8498), ('million usd', 2098), ('usd extension', 9088), ('july', 1756), ('grew', 1462), ('revenue july', 5731), ('july september', 1757), ('september grew', 6577), ('grew percent', 1464), ('percent euro', 3740), ('euro million', 1162), ('million year', 2099), ('year earlier', 9896), ('said thursday', 6036), ('kemira', 1774), ('ceo', 439), ('structural', 7708), ('reorganisation', 5443), ('continue', 659), ('least', 1834), ('kemira group', 1775), ('say group', 6273), ('structural reorganisation', 7709), ('reorganisation continue', 5445), ('scheduled', 6316), ('traffic', 8679), ('measured', 2024), ('kilometre', 1781), ('rpk', 5866), ('nearly', 2367), ('carried', 416), ('flight', 1355), ('february', 1236), ('scheduled traffic', 6327), ('traffic measured', 8686), ('measured revenue', 2025), ('revenue passenger', 5734), ('passenger kilometre', 3588), ('kilometre rpk', 1782), ('rpk grew', 5867), ('nearly passenger', 2370), ('passenger carried', 3582), ('scheduled flight', 6320), ('huge', 1586), ('issue', 1724), ('placement', 3947), ('newstex', 2535), ('nyse', 2771), ('report delivered', 5478), ('delivered newstex', 922), ('newstex nokia', 2536), ('nokia nyse', 2596), ('nyse nok', 2776), ('nok huh', 2579), ('raisio', 5041), ('bid', 295), ('buy', 375), ('glisten', 1439), ('winwin', 9714), ('uk', 8915), ('snack', 7183), ('told', 8523), ('raisio bid', 5043), ('winwin deal', 9715), ('deal company', 889), ('uk snack', 8924), ('snack firm', 7184), ('told justfood', 8526), ('today february', 8507), ('adpnews', 48), ('feb', 1234), ('finlandbased', 1284), ('hel', 1525), ('ruukki', 5928), ('largerthanexpected', 1803), ('pretax', 4345), ('fourth', 1387), ('adpnews feb', 49), ('finlandbased steel', 1285), ('steel maker', 7565), ('maker rautaruukki', 1952), ('oyj hel', 3370), ('hel rtrks', 1532), ('rtrks ruukki', 5872), ('ruukki said', 5938), ('today slipped', 8515), ('slipped largerthanexpected', 7132), ('largerthanexpected pretax', 1804), ('pretax loss', 4346), ('usd fourth', 9090), ('fourth quarter', 1388), ('asia', 193), ('pakistan', 3428), ('malaysia', 1955), ('taiwan', 8042), ('philippine', 3879), ('research', 5572), ('data', 880), ('going', 1445), ('publish', 4858), ('several', 6719), ('analysis', 126), ('pakistan malaysia', 3429), ('taiwan philippine', 8043), ('philippine today', 3880), ('today global', 8508), ('global research', 1441), ('research data', 5573), ('data service', 883), ('service going', 6638), ('going publish', 1446), ('publish several', 4863), ('several market', 6720), ('market analysis', 1994), ('village', 9342), ('designed', 940), ('scott', 6361), ('tallon', 8088), ('walker', 9441), ('point village', 4109), ('village designed', 9343), ('scott tallon', 6363), ('tallon walker', 8089), ('walker include', 9442), ('office premise', 2852), ('premise hotel', 4292), ('typically', 8899), ('using', 9142), ('ratio', 5109), ('spot', 7389), ('typically price', 8900), ('price sale', 4396), ('using ratio', 9146), ('ratio fixed', 5110), ('price spot', 4401), ('spot price', 7390), ('nov', 2720), ('pcb', 3652), ('acg', 24), ('narrowed', 2330), ('news nov', 2518), ('nov finnish', 2721), ('board pcb', 322), ('pcb maker', 3653), ('omx acg', 2928), ('acg said', 25), ('today net', 8511), ('loss narrowed', 1908), ('narrowed eur', 2331), ('usd first', 9089), ('first nine', 1328), ('nine month', 2569), ('month eur', 2163), ('pretax profit', 4347), ('profit totalled', 4660), ('mn compared', 2124), ('compared loss', 578), ('mn fourth', 2128), ('kalmar', 1763), ('department', 930), ('significant order', 6993), ('order department', 3134), ('swedish', 7957), ('smelter', 7179), ('return', 5708), ('nsr', 2734), ('royalty', 5864), ('advanced', 50), ('copper', 731), ('northern', 2683), ('viscaria', 9353), ('mineral', 2100), ('swedish subsidiary', 7971), ('subsidiary hold', 7774), ('net smelter', 2420), ('smelter return', 7180), ('return nsr', 5714), ('nsr royalty', 2735), ('royalty two', 5865), ('two advanced', 8872), ('copper project', 733), ('project northern', 4719), ('northern sweden', 2687), ('sweden viscaria', 7956), ('viscaria adak', 9354), ('project developed', 4711), ('article', 190), ('focus', 1361), ('india', 1649), ('stockmann', 7608), ('summary', 7823), ('address', 43), ('wwwstockmanncom', 9858), ('stockmann plc', 7618), ('plc company', 4039), ('announcement february', 137), ('summary stockmann', 7826), ('stockmann stock', 7620), ('release available', 5345), ('website address', 9523), ('brewery', 341), ('domestic', 1003), ('beer', 280), ('cent', 434), ('litre', 1878), ('domestic beer', 1004), ('beer sale', 282), ('sale per', 6118), ('per cent', 3723), ('year million', 9909), ('million litre', 2087), ('profit increased', 4632), ('increased eur', 1642), ('rapid', 5089), ('expansion', 1193), ('tallink', 8078), ('tallinna', 8084), ('sadam', 5967), ('november', 2724), ('due rapid', 1016), ('rapid expansion', 5091), ('share tallink', 6853), ('tallink term', 8080), ('term passenger', 8301), ('passenger carriage', 3581), ('tallinna sadam', 8085), ('sadam port', 5968), ('port tallinn', 4150), ('tallinn totaled', 8083), ('totaled percent', 8619), ('percent november', 3749), ('november percent', 2729), ('raute', 5122), ('raute listed', 5125), ('dropped', 1013), ('profit third', 4655), ('quarter dropped', 4946), ('mln mln', 2117), ('filter', 1252), ('assembly', 203), ('subsidiary responsible', 7780), ('responsible filter', 5624), ('sale local', 6102), ('market service', 2004), ('service china', 6615), ('arena', 183), ('partner', 3556), ('electronic', 1055), ('partner oy', 3560), ('oy development', 3339), ('development company', 951), ('sum', 7819), ('purchase sum', 4900), ('sum eur', 7822), ('mn mn', 2132), ('order around', 3126), ('around eur', 185), ('mall', 1956), ('convenient', 697), ('shop', 6928), ('three', 8380), ('residential', 5585), ('nearby', 2365), ('wysockiego', 9865), ('zgody', 9996), ('convenient place', 698), ('place shop', 3941), ('shop consumer', 6929), ('three large', 8383), ('residential area', 5586), ('nearby jaroszowka', 2366), ('wysockiego zgody', 9866), ('capman', 404), ('able', 3), ('restaurant', 5637), ('wynne', 9863), ('papa', 3447), ('john', 1746), ('partner able', 3557), ('business continue', 364), ('providing quality', 4838), ('quality restaurant', 4933), ('restaurant service', 5639), ('service customer', 6628), ('say christopher', 6268), ('wynne ceo', 9864), ('papa john', 3448), ('likely', 1864), ('bring', 345), ('saving', 6250), ('saving eur', 6253), ('basware', 272), ('invoice', 1718), ('processing', 4479), ('matching', 2010), ('reporting', 5524), ('enterprise', 1093), ('pay', 3621), ('suite', 7810), ('basware invoice', 274), ('processing basware', 4480), ('matching basware', 2011), ('basware order', 275), ('order matching', 3144), ('reporting tool', 5530), ('tool part', 8563), ('part basware', 3507), ('purchase pay', 4896), ('pay product', 3624), ('product suite', 4559), ('established', 1119), ('foreign', 1371), ('enter', 1092), ('stockmann established', 7613), ('russia retail', 5909), ('retail trade', 5692), ('trade market', 8653), ('spread', 7393), ('point spread', 4108), ('spread also', 7394), ('country', 833), ('company serf', 565), ('serf approximately', 6587), ('approximately customer', 164), ('meeting', 2038), ('company board', 529), ('director propose', 976), ('annual general', 139), ('general meeting', 1422), ('interest', 1688), ('net interest', 2414), ('interest income', 1689), ('compared eur', 575), ('issuer', 1727), ('solely', 7238), ('issuer solely', 1728), ('solely responsible', 7239), ('responsible content', 5623), ('content announcement', 656), ('according', 15), ('plan', 3948), ('jrvisuomen', 1753), ('portti', 4172), ('hkscan finland', 1558), ('plan increase', 3953), ('jrvisuomen portti', 1754), ('portti net', 4173), ('ixonos', 1734), ('xns', 9869), ('news feb', 2514), ('feb finnish', 1235), ('software solution', 7220), ('solution provider', 7273), ('provider ixonos', 4815), ('xns said', 9870), ('profit rose', 4649), ('rose eur', 5837), ('usd eur', 9087), ('solid', 7240), ('fuel', 1405), ('sludge', 7151), ('mixed', 2108), ('therein', 8354), ('solid fuel', 7242), ('sludge mixed', 7152), ('honkarakenne', 1571), ('decided', 897), ('yesterday', 9948), ('series', 6592), ('key', 1777), ('staff', 7427), ('honkarakenne also', 1572), ('also decided', 96), ('decided yesterday', 898), ('yesterday sell', 9951), ('sell series', 6524), ('series share', 6593), ('share key', 6802), ('key staff', 1780), ('staff member', 7428), ('member eur', 2043), ('digia', 962), ('inc', 1619), ('set two', 6703), ('two subsidiary', 8888), ('subsidiary digia', 7770), ('norway digia', 2691), ('usa inc', 9075), ('value deal', 9200), ('deal disclosed', 890), ('stockholm', 7601), ('cybercom', 872), ('hightech', 1549), ('sourcing', 7298), ('stockholm march', 7604), ('offer global', 2826), ('sourcing endtoend', 7300), ('detail disclosed', 942), ('scania', 6307), ('morgan', 2186), ('stanley', 7467), ('lifted', 1858), ('truck', 8789), ('crown', 847), ('scania morgan', 6309), ('morgan stanley', 2189), ('stanley lifted', 7468), ('share target', 6854), ('target swedish', 8133), ('swedish heavyduty', 7963), ('truck bus', 8790), ('scania ab', 6308), ('crown euro', 848), ('seven', 6709), ('image', 1606), ('logistics', 1893), ('seven interconnected', 6711), ('unit mega', 8992), ('logistics center', 1894), ('executive', 1185), ('brazil', 339), ('mexico', 2066), ('lead', 1829), ('ethernet', 1127), ('early', 1021), ('said country', 5992), ('segment brazil', 6478), ('steek', 7556), ('southwestern', 7312), ('steek set', 7557), ('set based', 6695), ('southwestern france', 7314), ('rsa', 5869), ('closed', 484), ('rsa share', 5870), ('share closed', 6766), ('time going', 8455), ('ramirent', 5051), ('second', 6403), ('quarterended', 4982), ('june', 1760), ('thesecond', 8355), ('ramirent net', 5054), ('sale second', 6135), ('second quarterended', 6408), ('quarterended june', 4983), ('june euro', 1761), ('million million', 2088), ('percent increase', 3742), ('increase compared', 1639), ('thesecond quarter', 8356), ('quarter last', 4955), ('security', 6439), ('packaging', 3396), ('slightly', 7124), ('sale security', 6136), ('security system', 6451), ('system packaging', 8016), ('packaging increased', 3398), ('estimated', 1125), ('meur', 2065), ('improvement', 1617), ('division', 999), ('starting', 7500), ('fiscal', 1333), ('annual improvement', 140), ('result starting', 5675), ('starting fiscal', 7502), ('fiscal year', 1334), ('delivery', 923), ('nokia nokia', 2595), ('nokia expected', 2585), ('expected start', 1200), ('start second', 7485), ('second quarter', 6407), ('implementation', 1610), ('important', 1613), ('launch', 1823), ('convergence', 699), ('see', 6454), ('operator since', 3087), ('since launch', 7035), ('convergence service', 700), ('service brazil', 6609), ('see brazil', 6455), ('internationally', 1695), ('recognized', 5212), ('green', 1460), ('council', 831), ('recognized green', 5214), ('green building', 1461), ('system developed', 8003), ('waste', 9474), ('lassila', 1808), ('tikanoja', 8437), ('went', 9620), ('finnish waste', 1321), ('waste management', 9475), ('lassila tikanoja', 1809), ('tikanoja oyj', 8440), ('oyj lt', 3372), ('lt net', 1923), ('profit went', 4664), ('went mln', 9626), ('tax totaled', 8148), ('accordance', 14), ('alma', 88), ('program', 4676), ('subscription', 7759), ('book', 325), ('alma medium', 89), ('option program', 3108), ('program share', 4687), ('share subscription', 6852), ('subscription price', 7764), ('price option', 4387), ('option right', 3110), ('right eur', 5767), ('share book', 6761), ('hk', 1554), ('ruokatalo', 5894), ('meat', 2027), ('used', 9119), ('come', 506), ('hk ruokatalo', 1555), ('ruokatalo almost', 5895), ('used company', 9120), ('concern', 608), ('fiber', 1247), ('composite', 600), ('staff specialty', 7429), ('specialty paper', 7351), ('paper fiber', 3459), ('incap', 1623), ('inked', 1674), ('incap contract', 1624), ('service private', 6658), ('private limited', 4453), ('six new', 7081), ('new customer', 2469), ('southafrica', 7304), ('japan', 1743), ('russian federation', 5917), ('southafrica japan', 7305), ('salonen', 6166), ('added', 39), ('show', 6948), ('pulp', 4880), ('north', 2676), ('america', 116), ('salonen added', 6167), ('show producer', 6952), ('producer pulp', 4509), ('pulp inventory', 4883), ('north america', 2678), ('like', 1863), ('changed', 454), ('next', 2538), ('attempt', 213), ('would like', 9816), ('see changed', 6456), ('nokia next', 2593), ('next attempt', 2540), ('completed', 591), ('previously plant', 4365), ('plant expected', 3983), ('expected completed', 1197), ('completed end', 592), ('came', 387), ('eps continuing', 1102), ('operation came', 3026), ('came eur', 388), ('april', 170), ('territory', 8316), ('work', 9756), ('eur contract', 1138), ('contract includes', 667), ('includes design', 1629), ('design construction', 937), ('construction work', 641), ('engaged', 1084), ('dollar', 1002), ('aldata solution', 83), ('solution global', 7263), ('supplier consumer', 7860), ('process optimization', 4470), ('optimization announced', 3099), ('yliopistonrinne', 9974), ('ft', 1403), ('let', 1845), ('area yliopistonrinne', 182), ('yliopistonrinne project', 9975), ('project sq', 4726), ('sq sq', 7403), ('sq ft', 7400), ('gross area', 1468), ('area total', 181), ('total sq', 8607), ('sq total', 7404), ('total facility', 8585), ('facility let', 1218), ('loss totalled', 1912), ('sale decreased', 6073), ('nd', 2356), ('nd disclosed', 2357), ('release result', 5354), ('result february', 5657), ('founded', 1382), ('finnair', 1286), ('one', 2940), ('oldest', 2911), ('airline', 81), ('aircraft', 80), ('people', 3711), ('one world', 2958), ('world oldest', 9785), ('oldest airline', 2912), ('mirabela', 2104), ('outokumpu', 3259), ('technology', 8168), ('sulfide', 7815), ('nickel awarded', 2555), ('outokumpu technology', 3261), ('technology contract', 8172), ('technology nickel', 8179), ('nickel sulfide', 2557), ('sulfide project', 7816), ('project bahia', 4704), ('state brazil', 7511), ('calculated', 381), ('proportion', 4761), ('registered', 5288), ('register', 5284), ('percentage share', 3768), ('right calculated', 5762), ('proportion total', 4763), ('total number', 8595), ('number share', 2755), ('share registered', 6831), ('registered trade', 5290), ('trade register', 8656), ('register total', 5287), ('number voting', 2757), ('right related', 5771), ('longterm', 1899), ('provisioning', 4839), ('major order', 1944), ('order india', 3141), ('comptel corporation', 604), ('corporation received', 794), ('significant longterm', 6990), ('order mediation', 3145), ('provisioning solution', 4840), ('solution used', 7280), ('used leading', 9125), ('operator india', 3083), ('usd million', 9097), ('sent', 6552), ('automatically', 225), ('annual report', 142), ('report sent', 5502), ('sent automatically', 6553), ('shareholder holding', 6873), ('sampo plc', 6181), ('plc share', 4055), ('raute posted', 5128), ('quarter compared', 4942), ('loss euro', 1905), ('furthermore', 1413), ('car', 410), ('light', 1862), ('commercial', 511), ('vehicle', 9263), ('declined', 904), ('yearonyear', 9939), ('sale new', 6113), ('new passenger', 2491), ('passenger car', 3580), ('vehicle country', 9264), ('yearonyear last', 9943), ('last month', 1811), ('stable', 7420), ('outlook', 3252), ('reflects', 5269), ('strong', 7698), ('position', 4179), ('flow', 1358), ('generation', 1425), ('sheet', 6894), ('raab', 5008), ('stable outlook', 7421), ('outlook reflects', 3258), ('reflects nokia', 5270), ('nokia strong', 2601), ('strong market', 7702), ('market position', 2003), ('position global', 4185), ('strong cash', 7699), ('cash flow', 421), ('balance sheet', 244), ('sheet said', 6896), ('said raab', 6024), ('tikkurila', 8443), ('powder', 4239), ('coating', 494), ('paint', 3423), ('generated', 1423), ('tikkurila powder', 8445), ('powder coating', 4240), ('paint plant', 3424), ('plant generated', 3986), ('eur usd', 1156), ('ilkka', 1604), ('sihvo', 7003), ('succeeded', 7788), ('ceo ilkka', 440), ('sihvo comment', 7004), ('report whole', 5504), ('whole basware', 9652), ('succeeded well', 7790), ('well second', 9603), ('apply', 157), ('job', 1745), ('directly', 973), ('select', 6505), ('cv', 871), ('letter', 1846), ('appropriate', 160), ('one also', 2941), ('select cv', 6506), ('yit', 9961), ('site', 7056), ('wwwyitgroupcominvestors', 9861), ('yit capital', 9964), ('capital market', 401), ('market day', 1998), ('site wwwyitgroupcominvestors', 7064), ('wwwyitgroupcominvestors september', 9862), ('total stock', 8608), ('option issued', 3105), ('client', 481), ('specialist', 7340), ('convenience', 695), ('textile', 8336), ('shoe', 6923), ('unit client', 8978), ('specialist convenience', 7343), ('convenience good', 696), ('well textile', 9606), ('textile shoe', 8338), ('shoe furniture', 6924), ('made', 1932), ('vaahto plant', 9164), ('plant hollola', 3989), ('delivery scheduled', 926), ('scheduled first', 6319), ('afx', 62), ('nokian', 2607), ('tyre', 8901), ('reported', 5507), ('back', 240), ('helsinki afx', 1539), ('nokian tyre', 2608), ('tyre reported', 8903), ('reported fourth', 5510), ('quarter pretax', 4968), ('eur mln', 1148), ('back strong', 241), ('strong sale', 7703), ('consists', 625), ('order value', 3158), ('value eur', 9201), ('multimedia', 2274), ('nokia multimedia', 2590), ('multimedia net', 2275), ('eur bn', 1134), ('heikki', 1523), ('westerlund', 9628), ('report capman', 5474), ('capman plc', 407), ('plc ceo', 4038), ('heikki westerlund', 1524), ('northrhine', 2688), ('westphalia', 9633), ('northrhine westphalia', 2689), ('westphalia issue', 9634), ('year fixed', 9901), ('rate deal', 5096), ('subscribe', 7744), ('magazine', 1935), ('subscribe magazine', 7745), ('sourced', 7296), ('rest', 5632), ('met', 2053), ('peat', 3681), ('much biomass', 2260), ('used sourced', 9135), ('sourced locally', 7297), ('rest plant', 5633), ('plant fuel', 3985), ('need met', 2383), ('within', 9732), ('report emailed', 5479), ('within business', 9733), ('sale finnish', 6085), ('finnish food', 1300), ('company lnnen', 547), ('tehtaat continuing', 8216), ('operation increased', 3041), ('mmo', 2121), ('may finnish', 2019), ('finnish textile', 1319), ('textile clothing', 8337), ('company marimekko', 550), ('marimekko oyj', 1989), ('hel mmo', 1530), ('mmo said', 2122), ('eur first', 1142), ('eur corresponding', 1139), ('period year', 3808), ('water', 9480), ('headquartered helsinki', 1516), ('chemical group', 462), ('pulp paper', 4885), ('paper kemira', 3463), ('water kemira', 9483), ('specialty kemira', 7350), ('temporary', 8280), ('specialises temporary', 7335), ('temporary electrification', 8281), ('consolidated', 626), ('reach', 5142), ('turnover kausta', 8850), ('reach lt', 5145), ('london', 1895), ('upgraded', 9035), ('abn', 5), ('raised', 5035), ('dealer', 892), ('london afx', 1896), ('afx share', 64), ('share rautaruukki', 6829), ('rautaruukki corp', 5119), ('corp upgraded', 764), ('upgraded hold', 9036), ('sell abn', 6515), ('price target', 4405), ('target raised', 8128), ('raised eur', 5036), ('said dealer', 5994), ('partihallsforbindelsen', 3547), ('western', 9630), ('finnish steel', 1318), ('oyj ruukki', 3379), ('said july', 6009), ('mln contract', 2112), ('superstructure partihallsforbindelsen', 7851), ('partihallsforbindelsen bridge', 3548), ('project gothenburg', 4716), ('western sweden', 9632), ('broadband', 347), ('teleste', 8258), ('tlt', 8482), ('rocketed', 5815), ('proposal', 4764), ('february finnish', 1238), ('finnish broadband', 1291), ('broadband data', 348), ('data communication', 881), ('communication system', 523), ('system provider', 8020), ('provider teleste', 4817), ('teleste oyj', 8261), ('hel tlt', 1534), ('tlt said', 8483), ('said yesterday', 6043), ('yesterday net', 9950), ('profit rocketed', 4648), ('rocketed eur', 5816), ('eur eur', 1141), ('eur lifted', 1145), ('lifted dividend', 1859), ('dividend proposal', 998), ('whether', 9643), ('import', 1612), ('decision made', 900), ('whether group', 9645), ('meat product', 2029), ('product finland', 4532), ('paper added', 3452), ('stockholmbased', 7606), ('nda', 2358), ('von', 9408), ('merchant', 2048), ('banking', 259), ('effective', 1040), ('stockholmbased nordea', 7607), ('sto nda', 7588), ('nda said', 2359), ('yesterday hired', 9949), ('von koskull', 9409), ('corporate merchant', 771), ('unit effective', 8982), ('participant', 3530), ('quote', 5003), ('conference', 614), ('id', 1598), ('participant quote', 3533), ('quote conference', 5004), ('basic', 267), ('forest', 1372), ('vantaa', 9230), ('southern', 7309), ('process technology', 4475), ('technology project', 8183), ('project management', 4718), ('basic engineering', 268), ('quality assurance', 4930), ('within forest', 9735), ('forest industry', 1373), ('vantaa southern', 9234), ('southern finland', 7310), ('value contract', 9199), ('contract eur', 666), ('boat', 323), ('manufacture', 1968), ('customised', 866), ('rigid', 5774), ('rib', 5754), ('primarily', 4415), ('sea', 6380), ('oy specialises', 3352), ('specialises boat', 7332), ('design manufacture', 938), ('sell customised', 6518), ('rigid inflatable', 5775), ('rib primarily', 5755), ('primarily baltic', 4416), ('baltic sea', 249), ('sea market', 6381), ('protocol', 4789), ('ietf', 1600), ('rfc', 5750), ('protocol developed', 4790), ('standard ietf', 7463), ('ietf rfc', 1601), ('rfc ietf', 5751), ('teleste office', 8260), ('office worldwide', 2863), ('worldwide listed', 9790), ('collect', 501), ('region', 5278), ('plant collect', 3979), ('raw material', 5135), ('sea region', 6383), ('risk', 5793), ('nonlife', 2617), ('insurance', 1684), ('moving', 2230), ('expense', 1206), ('excluding', 1183), ('rendered', 5413), ('portfolio', 4156), ('risk exposure', 5794), ('nonlife insurance', 2618), ('moving month', 2231), ('month expense', 2164), ('investment management', 1710), ('service rendered', 6666), ('rendered nonlife', 5414), ('portfolio allocatio', 4157), ('still', 7583), ('saving electricity', 6252), ('transfer still', 8730), ('still new', 7584), ('new one', 2487), ('previous share', 4354), ('subscription stock', 7765), ('house', 1581), ('involves', 1721), ('refurbishing', 5273), ('replumbing', 5464), ('sewer', 6726), ('pipe', 3915), ('refurbishing bathroom', 5274), ('unit well', 9006), ('well replumbing', 9601), ('replumbing water', 5465), ('water sewer', 9485), ('sewer pipe', 6727), ('quarter group', 4952), ('sale slightly', 6142), ('sanoma', 6197), ('sanoma magazine', 6205), ('sale grew', 6088), ('grew eur', 1463), ('test', 8320), ('laboratory', 1794), ('building house', 359), ('product development', 4530), ('test laboratory', 8326), ('oko', 2903), ('environment', 1097), ('januaryseptember', 1741), ('quarter oko', 4960), ('oko bank', 2904), ('expects operating', 1204), ('operating environment', 3009), ('banking investment', 260), ('investment service', 1713), ('service remain', 6665), ('remain similar', 5380), ('similar januaryseptember', 7013), ('repo', 5466), ('gradually', 1457), ('economic', 1035), ('repo rate', 5467), ('rate gradually', 5097), ('reach end', 5143), ('nordea economic', 2646), ('unaudited', 8934), ('ifrs', 1602), ('unaudited consolidated', 8935), ('result aspocomp', 5651), ('reporting standard', 5529), ('managing', 1966), ('notably', 2704), ('especially', 1115), ('managing director', 1967), ('sale first', 6086), ('quarter notably', 4959), ('notably lower', 2705), ('year especially', 9898), ('finland russia', 1282), ('russia baltic', 5902), ('baltic country', 247), ('wig', 9696), ('index', 1648), ('ended', 1081), ('session', 6691), ('pt', 4842), ('bluechip', 314), ('wig index', 9697), ('thursday session', 8405), ('session pct', 6693), ('pct pt', 3665), ('pt bluechip', 4843), ('wig pt', 9698), ('disclose', 978), ('company disclose', 535), ('disclose price', 979), ('price acquisition', 4370), ('electronics contract', 1059), ('manufacturer scanfil', 1973), ('scanfil report', 6305), ('arrangement', 188), ('group unit', 1487), ('unit outside', 8995), ('outside finland', 3278), ('department store', 931), ('sale improved', 6092), ('improved eur', 1616), ('consolidated net', 628), ('net operating', 2417), ('acquisition price', 33), ('cargo volume', 414), ('volume increased', 9396), ('diluted', 965), ('diluted earnings', 966), ('eps rose', 1105), ('versus eur', 9295), ('treatment', 8767), ('canada', 391), ('australia', 219), ('treatment product', 8768), ('product usa', 4562), ('usa canada', 9074), ('analysis market', 127), ('water treatment', 9486), ('product selected', 4555), ('selected country', 6509), ('pertti', 3839), ('independent', 1646), ('pertti ervi', 3840), ('independent company', 1647), ('company major', 548), ('delighted', 919), ('continuation', 658), ('cooperation', 716), ('viking', 9339), ('project continuation', 4709), ('cooperation viking', 721), ('viking line', 9340), ('sale midstrength', 6108), ('slid', 7119), ('said sale', 6026), ('sale three', 6151), ('three month', 8385), ('month end', 2162), ('slid eur', 7120), ('eur last', 1144), ('according finnish', 17), ('value company', 9198), ('company order', 556), ('order gone', 3138), ('hall', 1499), ('trial', 8776), ('marketing', 2008), ('stockmann group', 7614), ('order unit', 3156), ('unit hobby', 8987), ('trial marketing', 8778), ('outotec', 3262), ('finnish metal', 1306), ('metal industry', 2055), ('solution supplier', 7277), ('supplier outotec', 7863), ('outotec oyj', 3266), ('oyj net', 3373), ('rose mln', 5841), ('month mln', 2168), ('coated', 493), ('winder', 9706), ('delivery include', 924), ('related air', 5315), ('system two', 8028), ('two winder', 8892), ('branch', 333), ('ramirent branch', 5052), ('nordic central', 2655), ('european country', 1171), ('frame', 1390), ('value frame', 9203), ('agreement eur', 71), ('life', 1854), ('information', 1663), ('modelling', 2150), ('tailored', 8040), ('hosting', 1575), ('support', 7882), ('service cover', 6625), ('whole life', 9660), ('software information', 7215), ('information system', 1664), ('system process', 8019), ('process modelling', 4469), ('tailored software', 8041), ('software development', 7212), ('service solution', 6676), ('solution management', 7270), ('maintenance support', 1941), ('broker', 350), ('upmkymmene', 9047), ('stora', 7640), ('enso', 1091), ('sappi', 6216), ('recommendation', 5217), ('norske', 2674), ('skog', 7106), ('underweight', 8958), ('rating', 5105), ('started upmkymmene', 7498), ('upmkymmene stora', 9049), ('stora enso', 7642), ('sappi equalweight', 6218), ('recommendation holmen', 5219), ('norske skog', 2675), ('skog underweight', 7107), ('underweight rating', 8959), ('join', 1747), ('technopolis', 8195), ('held', 1535), ('recently', 5199), ('middle', 2074), ('technopolis kone', 8197), ('held various', 1537), ('various position', 9248), ('position within', 4192), ('within group', 9736), ('group recently', 1482), ('recently director', 5203), ('service business', 6611), ('business development', 365), ('flow operation', 1360), ('operation januarydecember', 3044), ('negative eur', 2389), ('rental', 5432), ('small', 7157), ('equipment rental', 1108), ('rental portfolio', 5438), ('portfolio consists', 4160), ('primarily tool', 4418), ('tool small', 8565), ('small midsized', 7162), ('customer construction', 859), ('otherwise', 3235), ('situation', 7067), ('otherwise situation', 3238), ('situation control', 7069), ('unbelievably', 8936), ('fiskars', 1338), ('formed', 1379), ('dutch', 1019), ('peter', 3843), ('thorwoste', 8376), ('establish', 1118), ('blast', 309), ('furnace', 1412), ('unbelievably company', 8937), ('fiskars corporation', 1340), ('corporation formed', 784), ('named peter', 2326), ('peter thorwoste', 3844), ('thorwoste given', 8377), ('blast furnace', 310), ('operation small', 3064), ('small finnish', 7159), ('village fiskars', 9344), ('sun', 7832), ('alliance', 87), ('continued', 660), ('slide', 7121), ('high', 1545), ('potential', 4228), ('suitor', 7811), ('ruled', 5885), ('takeover', 8059), ('share royal', 6842), ('royal sun', 5862), ('sun alliance', 7833), ('slide back', 7122), ('month high', 2165), ('month potential', 2171), ('potential suitor', 4231), ('suitor ruled', 7812), ('ruled takeover', 5886), ('takeover bid', 8060), ('medical', 2032), ('structure', 7710), ('history', 1552), ('report examines', 5481), ('medical equipment', 2033), ('structure operation', 7716), ('operation history', 3038), ('product provides', 4551), ('provides analysis', 4822), ('revenue line', 5732), ('study', 7722), ('evaluated', 1172), ('safety', 5969), ('tolerability', 8530), ('pharmacokinetics', 3870), ('repeated', 5456), ('antibody', 149), ('patient', 3609), ('active', 36), ('plaque', 4002), ('psoriasis', 4841), ('study evaluated', 7723), ('safety tolerability', 5972), ('tolerability pharmacokinetics', 8531), ('pharmacokinetics repeated', 3871), ('repeated dos', 5457), ('patient active', 3610), ('plaque psoriasis', 4003), ('payment', 3634), ('shall', 6734), ('payment share', 3638), ('share shall', 6845), ('shall effected', 6736), ('accounting', 22), ('passenger volume', 3593), ('volume rose', 9401), ('rose accounting', 5835), ('accounting period', 23), ('american', 117), ('solution installed', 7267), ('usa support', 9079), ('support north', 7886), ('north american', 2679), ('operation customer', 3030), ('eero', 1036), ('human', 1589), ('yearlong', 9934), ('sabbatical', 5958), ('president human', 4331), ('human resource', 1590), ('resource take', 5605), ('take yearlong', 8054), ('yearlong sabbatical', 9935), ('sabbatical starting', 5959), ('starting october', 7503), ('cooper', 714), ('sh', 6728), ('distributor', 990), ('lift', 1857), ('fiveyear', 1345), ('cooper sh', 715), ('sh uk', 6729), ('uk distributor', 8917), ('saving technology', 6257), ('flagship', 1349), ('managed', 1958), ('site flagship', 7057), ('retail llc', 5686), ('subsidiary established', 7771), ('jyvaskyla', 1762), ('technopolis approximately', 8196), ('total donation', 8584), ('amount eur', 121), ('organised', 3178), ('way', 9497), ('etteplan', 1128), ('organised february', 3179), ('way production', 9500), ('production design', 4571), ('service combined', 6617), ('one entity', 2944), ('expects net', 1203), ('sale whole', 6161), ('whole eur', 9655), ('citycon', 476), ('nominal', 2609), ('subscribed', 7747), ('exercising', 1188), ('total new', 8594), ('new citycon', 2465), ('share nominal', 6813), ('nominal value', 2610), ('share subscribed', 6851), ('subscribed march', 7750), ('option based', 3103), ('based company', 266), ('company stock', 568), ('option plan', 3107), ('differ', 960), ('slightly mainstream', 7128), ('utility', 9154), ('utility also', 9155), ('provide service', 4802), ('service related', 6664), ('related electricity', 5321), ('trade risk', 8657), ('risk management', 5795), ('infrastructure', 1666), ('concrete', 610), ('tekla provides', 8224), ('provides software', 4833), ('software building', 7208), ('steel concrete', 7561), ('structure design', 7712), ('security available', 6441), ('monthly subscription', 2180), ('odell', 2811), ('odell contacted', 2812), ('platen', 4012), ('band', 251), ('provided', 4803), ('seal', 6387), ('protrusion', 4791), ('directed', 971), ('towards', 8637), ('mean', 2020), ('pressure', 4342), ('platen edge', 4014), ('provided seal', 4809), ('seal protrusion', 6388), ('protrusion directed', 4792), ('directed towards', 972), ('towards middle', 8638), ('platen mean', 4015), ('provided exert', 4805), ('pressure volume', 4343), ('volume defined', 9393), ('platen band', 4013), ('wide', 9686), ('range', 5058), ('use', 9108), ('stainless', 7435), ('wide range', 9687), ('range industry', 5066), ('use stainless', 9118), ('stainless steel', 7436), ('steel service', 7569), ('service worldwide', 6685), ('name', 2313), ('otto', 3241), ('nyberg', 2766), ('transferred', 8733), ('corresponds', 813), ('aspo', 196), ('name shareholder', 2321), ('shareholder otto', 6877), ('otto henrik', 3242), ('nyberg information', 2768), ('share transferred', 6858), ('transferred corresponds', 8734), ('corresponds total', 815), ('share aspo', 6755), ('developer', 947), ('swung', 7976), ('finnish retail', 1310), ('retail software', 5690), ('software developer', 7211), ('developer aldata', 948), ('solution oyj', 7271), ('omx ald', 2929), ('today swung', 8516), ('swung net', 7977), ('month versus', 2174), ('versus net', 9298), ('applied', 156), ('sum applied', 7820), ('beginning', 284), ('subscription period', 7763), ('period may', 3797), ('know', 1784), ('receiving', 5192), ('office acknowledged', 2844), ('receiving letter', 5193), ('together', 8520), ('cramo', 838), ('operate', 2983), ('outlet', 3249), ('together latvia', 8521), ('operate rental', 2986), ('rental outlet', 5437), ('outlet baltic', 3250), ('baltic state', 250), ('today turned', 8518), ('turned net', 8842), ('eur second', 1155), ('quarter net', 4958), ('period last', 3796), ('comparable', 571), ('comparable operating', 572), ('combined value', 505), ('order eur', 3135), ('preliminary', 4280), ('operational', 3068), ('environmental', 1099), ('preliminary economic', 4282), ('operational environmental', 3070), ('pharmaceutical', 3861), ('orion', 3206), ('finnish pharmaceutical', 1307), ('pharmaceutical company', 3863), ('orion report', 3211), ('report profit', 5496), ('neste', 2408), ('oil', 2880), ('eet', 1037), ('neste oil', 2409), ('oil publish', 2885), ('publish third', 4864), ('result friday', 5658), ('friday october', 1398), ('october approximately', 2796), ('subjectmatter', 7742), ('invention', 1699), ('separating', 6561), ('particle', 3543), ('subjectmatter invention', 7743), ('use cyclone', 9112), ('separating partly', 6562), ('partly molten', 3554), ('fireplace', 1324), ('germany', 1427), ('product lower', 4541), ('copyright', 739), ('copyright afx', 740), ('afx news', 63), ('news afx', 2509), ('news logo', 2517), ('registered trademark', 5291), ('trademark afx', 8663), ('news limite', 2516), ('noncoherent', 2613), ('search', 6389), ('matrix', 2013), ('correlation', 804), ('invention released', 1700), ('released patent', 5364), ('patent office', 3603), ('office said', 2857), ('said noncoherent', 6014), ('noncoherent search', 2614), ('search matrix', 6390), ('said correlation', 5991), ('correlation function', 805), ('fortum', 1381), ('bought', 331), ('stateheld', 7524), ('tgk', 8339), ('rao', 5078), ('ues', 8913), ('reform', 5272), ('previously bought', 4357), ('stateheld stake', 7525), ('stake tgk', 7453), ('tgk rao', 8340), ('rao ues', 5079), ('ues reform', 8914), ('kcr', 1773), ('fall', 1223), ('konecranes oyj', 1788), ('oyj kcr', 3371), ('fell percent', 1245), ('since june', 7034), ('transferring', 8740), ('productionrelated', 4595), ('associate', 206), ('wholly', 9678), ('reorganisation carried', 5444), ('carried transferring', 417), ('transferring hkscan', 8741), ('hkscan corporation', 1557), ('corporation productionrelated', 792), ('productionrelated property', 4596), ('property plant', 4754), ('plant equipment', 3981), ('well holding', 9577), ('holding subsidiary', 1565), ('subsidiary associate', 7769), ('oy holding', 3343), ('holding company', 1564), ('wholly owned', 9679), ('owned hkscan', 3304), ('eu', 1129), ('law', 1825), ('amounted', 122), ('turnover amounted', 8846), ('amounted meur', 124), ('presently', 4324), ('examining', 1176), ('presently examining', 4325), ('whether project', 9646), ('project would', 4732), ('would financially', 9807), ('official', 2868), ('official disclose', 2871), ('contract value', 672), ('color', 502), ('orange', 3118), ('synonymous', 7991), ('year color', 9890), ('orange become', 3119), ('synonymous quality', 7992), ('national carrier', 2340), ('said net', 6012), ('april june', 172), ('concentrating', 607), ('supercalendered', 7846), ('running', 5890), ('satisfactorily', 6232), ('restarting', 5635), ('older', 2909), ('newsprint', 2530), ('supercalendered line', 7847), ('running satisfactorily', 5891), ('satisfactorily restarting', 6233), ('restarting older', 5636), ('older newsprint', 2910), ('newsprint line', 2531), ('many', 1979), ('niche', 2551), ('nonwovens', 2630), ('ahlstrom', 75), ('report profile', 5495), ('profile company', 4603), ('company including', 542), ('including many', 1633), ('many key', 1980), ('key niche', 1779), ('niche player', 2552), ('player including', 4031), ('nonwovens manufacturer', 2632), ('ahlstrom corporation', 76), ('corporation asahi', 776), ('corporation buckeye', 777), ('technology inc', 8176), ('operating loss', 3012), ('loss totaled', 1911), ('compared profit', 582), ('sullivan', 7817), ('really', 5167), ('lot', 1915), ('get', 1428), ('sullivan said', 7818), ('said board', 5985), ('really involve', 5168), ('work people', 9763), ('people get', 3715), ('paid time', 3419), ('nonrecurring', 2619), ('item', 1730), ('nonrecurring item', 2623), ('item eur', 1731), ('yet', 9952), ('name yet', 2322), ('yet released', 9954), ('tank', 8105), ('farm', 1229), ('belgium', 286), ('tank delivered', 8106), ('tank farm', 8107), ('northern belgium', 2685), ('paychex', 3630), ('serving', 6687), ('payroll', 3643), ('nationwide', 2344), ('paychex office', 3631), ('office serving', 2858), ('serving approximately', 6688), ('payroll client', 3644), ('nationwide may', 2345), ('purchase invoice', 4892), ('purchase order', 4895), ('cost', 819), ('cost saving', 829), ('lowest', 1921), ('dec', 895), ('percent kronor', 3744), ('since dec', 7032), ('systemhaus', 8030), ('systemhaus net', 8031), ('tim', 8446), ('moran', 2184), ('cellular', 431), ('giant', 1429), ('offering', 2836), ('map', 1981), ('navteq', 2352), ('tim moran', 8447), ('moran cellular', 2185), ('phone giant', 3886), ('corp offering', 757), ('offering billion', 2838), ('supplier navteq', 7862), ('navteq corp', 2353), ('corp chicago', 753), ('largest', 1805), ('association', 208), ('advisory', 52), ('mumbai', 2293), ('se europe', 6375), ('europe largest', 1169), ('electronics maker', 1060), ('set unit', 6704), ('unit bangalore', 8976), ('thomson', 8373), ('saudi', 6239), ('arabia', 174), ('united', 9010), ('emirate', 1066), ('qatar', 4923), ('helsinki thomson', 1544), ('thomson financial', 8374), ('said four', 6002), ('order saudi', 3153), ('saudi arabia', 6240), ('united arab', 9011), ('qatar worth', 4924), ('worth mln', 9797), ('fair', 1221), ('fair value', 1222), ('value capman', 9196), ('plc investment', 4045), ('september amounted', 6571), ('rubin', 5875), ('announce', 132), ('additional', 41), ('rubin say', 5876), ('say expects', 6272), ('specified', 7355), ('completion', 594), ('price specified', 4400), ('specified completion', 7356), ('registration', 5292), ('panostaja', 3440), ('since registration', 7037), ('registration share', 5296), ('subscribed directed', 7748), ('share issue', 6799), ('new number', 2485), ('number panostaja', 2754), ('panostaja share', 3446), ('danish', 876), ('organized', 3186), ('cap', 394), ('mid', 2072), ('swedish finnish', 7961), ('organized three', 3187), ('three market', 8384), ('market cap', 1996), ('cap segment', 395), ('segment nordic', 6487), ('nordic large', 2662), ('mid cap', 2073), ('small cap', 7158), ('resident', 5582), ('ngage', 2545), ('nokia capcom', 2583), ('resident evil', 5584), ('released ngage', 5363), ('ngage later', 2546), ('consolidated operating', 629), ('profit amounted', 4613), ('amounted eur', 123), ('mn yearonyear', 2139), ('result tax', 5677), ('tax decreased', 8144), ('decreased nearly', 911), ('nearly eur', 2368), ('previous accounting', 4352), ('recent', 5194), ('wahlroos', 9434), ('pc', 3648), ('sek', 6498), ('statement', 7526), ('recent interview', 5195), ('time ft', 8454), ('sampo board', 6178), ('wahlroos said', 9435), ('said pc', 6021), ('pc certainly', 3649), ('price set', 4397), ('set sek', 6700), ('sek billion', 6499), ('inventor', 1701), ('mukkavilli', 2266), ('sabharwal', 5960), ('mukkavilli krishna', 2267), ('sabharwal ashutosh', 5961), ('valued', 9220), ('order valued', 3159), ('valued eur', 9221), ('profit excluding', 4623), ('excluding nonrecurring', 1184), ('item totalled', 1732), ('lithuanian', 1877), ('liter', 1874), ('rise', 5780), ('yearearlier', 9930), ('figure', 1250), ('brewer', 340), ('beer market', 281), ('market made', 2001), ('million liter', 2086), ('rise percent', 5785), ('percent yearearlier', 3764), ('yearearlier figure', 9931), ('reporting citing', 5525), ('result member', 5665), ('profit improved', 4630), ('bertrand', 287), ('sciard', 6343), ('retailwholesale', 5702), ('dedicated', 913), ('wholesale', 9667), ('oyj bertrand', 3362), ('bertrand sciard', 288), ('sciard president', 6344), ('president ceo', 4328), ('tel aldata', 8228), ('retailwholesale aldata', 5703), ('retail wholesale', 5693), ('wholesale business', 9668), ('seller', 6529), ('seller include', 6533), ('shareholder including', 6874), ('cancellation', 392), ('cause', 428), ('daily', 875), ('ac', 10), ('finnair said', 1287), ('said cancellation', 5987), ('cancellation flight', 393), ('would cause', 9803), ('cause daily', 429), ('ac million', 11), ('value shareholder', 9214), ('shareholder good', 6872), ('significantly', 6996), ('price delivery', 4377), ('delivery volume', 927), ('volume broadband', 9391), ('product decreased', 4529), ('employ approximately', 1068), ('approximately person', 169), ('shipping', 6914), ('finnlines', 1323), ('grimaldi', 1466), ('januaryjune', 1738), ('finnish shipping', 1314), ('shipping company', 6916), ('company finnlines', 539), ('group report', 1483), ('januaryjune eur', 1739), ('financing', 1271), ('enable', 1073), ('treasury', 8762), ('sufficient', 7803), ('instrument', 1683), ('disposal', 986), ('requirement', 5570), ('treasury policy', 8763), ('policy sufficient', 4123), ('sufficient financial', 7805), ('financial instrument', 1262), ('potential capital', 4229), ('reiterates', 5309), ('reiterates outlook', 5310), ('unknown', 9020), ('site unknown', 7062), ('unknown logged', 9021), ('send', 6540), ('receive', 5177), ('tieto service', 8418), ('service also', 6607), ('used send', 9134), ('send process', 6542), ('process receive', 4471), ('receive material', 5179), ('related absentee', 5314), ('possession', 4201), ('tenth', 8290), ('time possession', 8458), ('possession one', 4202), ('one tenth', 2955), ('tenth share', 8291), ('share maximum', 6807), ('acquired', 27), ('administration', 45), ('fee', 1241), ('payment acquired', 3635), ('share made', 6806), ('price per', 4390), ('plus administration', 4076), ('road', 5801), ('road new', 5806), ('new traffic', 2496), ('traffic junction', 8684), ('nordstjernan', 2664), ('another', 147), ('salcomp', 6052), ('nordstjernan used', 2667), ('used option', 9129), ('option buy', 3104), ('stake salcomp', 7451), ('salcomp share', 6058), ('penttil', 3707), ('vision', 9355), ('reason', 5169), ('penttil vision', 3708), ('vision important', 9356), ('reason transaction', 5172), ('transaction russia', 8710), ('talk', 8073), ('involved', 1720), ('talk involved', 8075), ('division well', 1000), ('well group', 9576), ('service function', 6637), ('could', 830), ('depending', 932), ('cost deal', 824), ('range million', 5069), ('million euro', 2083), ('result two', 5679), ('two company', 8874), ('statement say', 7537), ('sciencebased', 6350), ('innovation', 1675), ('measurement', 2026), ('nearly year', 2371), ('year old', 9912), ('old focus', 2908), ('sciencebased innovation', 6351), ('technology environmental', 8174), ('public', 4846), ('trading', 8665), ('shall repurchased', 6741), ('repurchased public', 5565), ('public trading', 4852), ('trading reason', 8673), ('reason share', 5170), ('repurchased otherwise', 5564), ('otherwise proportion', 3237), ('proportion holding', 4762), ('amer', 114), ('whose', 9682), ('atomic', 209), ('salomon', 6163), ('wilson', 9703), ('saw', 6260), ('cut', 867), ('equipment maker', 1107), ('amer sport', 115), ('sport corp', 7382), ('corp whose', 765), ('whose brand', 9684), ('salomon wilson', 6165), ('wilson saw', 9705), ('saw percent', 6263), ('thirdquarter net', 8371), ('sale cost', 6071), ('cost cut', 822), ('auditor', 216), ('report contains', 5475), ('financial statement', 1266), ('statement consolidated', 7529), ('consolidated financial', 627), ('statement report', 7536), ('report board', 5473), ('auditor report', 217), ('profitability', 4667), ('say sale', 6276), ('sale return', 6129), ('return uk', 5716), ('uk operation', 8922), ('operation profitability', 3054), ('room', 5831), ('already', 92), ('indicated', 1652), ('room modify', 5833), ('share component', 6770), ('madison', 1933), ('square', 7405), ('york', 9978), ('basketball', 270), ('team', 8154), ('ranger', 5071), ('hockey', 1559), ('woman', 9747), ('wolf', 9745), ('pack', 3392), ('system corp', 8001), ('corp cvc', 755), ('madison square', 1934), ('square garden', 7406), ('owns operates', 3325), ('operates new', 2999), ('new york', 2499), ('york knickerbockers', 9979), ('basketball team', 271), ('team also', 8155), ('york ranger', 9981), ('ranger hockey', 5072), ('hockey team', 1560), ('team new', 8160), ('york liberty', 9980), ('woman basketball', 9748), ('team hartford', 8157), ('wolf pack', 9746), ('pack hockey', 3393), ('audio', 214), ('live', 1879), ('wwwcernercom', 9839), ('audio webcast', 215), ('webcast available', 9517), ('web site', 9513), ('site wwwcernercom', 7063), ('vacon', 9172), ('headquarters', 1518), ('vacon recently', 9175), ('recently announced', 5201), ('announced plan', 135), ('plan build', 3949), ('business park', 370), ('park chambersburg', 3489), ('operation rose', 3057), ('unicom', 8964), ('shse', 6958), ('china unicom', 467), ('unicom nyse', 8966), ('nyse chu', 2774), ('shse second', 6959), ('second largest', 6405), ('largest mobile', 1806), ('writing', 9826), ('lemminkinen', 1842), ('tuuri', 8860), ('writing publication', 9827), ('publication lemminkinen', 4855), ('tuuri company', 8861), ('profit totaled', 4659), ('slightly eur', 7126), ('possibly', 4207), ('photomsn', 3896), ('possibly also', 4208), ('convergent', 701), ('voice', 9375), ('sm', 7155), ('wap', 9455), ('convergent charging', 702), ('charging rating', 457), ('rating solution', 5106), ('solution voice', 7281), ('voice data', 9377), ('sm mm', 7156), ('us', 9069), ('stacker', 7423), ('container', 653), ('us eight', 9071), ('similar reach', 7016), ('reach stacker', 5146), ('stacker four', 7424), ('german', 1426), ('ag', 65), ('jp', 1750), ('jpm', 1752), ('participated', 3536), ('ing', 1670), ('jp morgan', 1751), ('morgan nyse', 2188), ('nyse jpm', 2775), ('participated arranger', 3537), ('chain', 446), ('full', 1406), ('posted sale', 4219), ('sale million', 6109), ('percent yearonyear', 3765), ('think', 8361), ('natural', 2346), ('retailed', 5694), ('range development', 5063), ('natural resource', 2347), ('resource retailed', 5604), ('retailed marketing', 5695), ('written', 9828), ('premium', 4295), ('written premium', 9830), ('premium eur', 4296), ('eur net', 1150), ('net combined', 2411), ('ratio staff', 5111), ('staff total', 7430), ('total office', 8596), ('office uk', 2861), ('uk germany', 8919), ('additionally', 42), ('preparation', 4300), ('use solution', 9117), ('solution automate', 7254), ('preparation financial', 4301), ('statement according', 7527), ('suomen', 7838), ('panostaja owns', 3444), ('owns pct', 3326), ('pct share', 3666), ('capital voting', 403), ('right suomen', 5773), ('suomen helasto', 7839), ('share following', 6786), ('share carried', 6764), ('prior', 4442), ('sale increased', 6094), ('reach eur', 5144), ('eur compared', 1137), ('prior year', 4445), ('year period', 9915), ('would increase', 9814), ('company result', 563), ('tax totalled', 8149), ('litas', 1873), ('year company', 9892), ('raised turnover', 5040), ('turnover approximately', 8847), ('approximately million', 167), ('million litas', 2085), ('ebit', 1029), ('see potential', 6461), ('potential getinge', 4230), ('share rise', 6840), ('satisfied', 6234), ('automation', 226), ('satisfied basware', 6235), ('automation solution', 227), ('solution extends', 7262), ('new geography', 2473), ('okmetic', 2896), ('corresponds percent', 814), ('percent okmetic', 3750), ('okmetic share', 2901), ('ago', 67), ('ahead', 74), ('quarter came', 4940), ('eur year', 1158), ('year ago', 9883), ('term acquisition', 8295), ('acquisition disclosed', 32), ('huhtamaki', 1587), ('outstanding', 3286), ('registered share', 5289), ('share outstanding', 6818), ('spokesperson', 7371), ('wwd', 9835), ('expect', 1194), ('mix', 2107), ('spokesperson told', 7372), ('told wwd', 8529), ('wwd expect', 9836), ('cutlery', 868), ('hand', 1500), ('abp', 6), ('fisa', 1331), ('finnish cutlery', 1298), ('cutlery hand', 869), ('hand tool', 1501), ('tool maker', 8562), ('maker fiskars', 1949), ('fiskars oyj', 1341), ('oyj abp', 3360), ('abp hel', 7), ('hel fisa', 1528), ('fisa said', 1332), ('usd third', 9105), ('falling', 1224), ('short eur', 6939), ('posted period', 4218), ('siemens', 6966), ('network', 2429), ('mr koistinen', 2243), ('nokia siemens', 2600), ('siemens network', 6968), ('network held', 2435), ('various senior', 9250), ('senior sale', 6548), ('sale management', 6105), ('position since', 4191), ('selling', 6534), ('showed', 6953), ('favourable', 1231), ('sakari', 6046), ('tamminen', 8099), ('ruukki delivery', 5932), ('volume selling', 9402), ('selling price', 6536), ('price showed', 4399), ('showed favourable', 6955), ('grew yearonyear', 1465), ('yearonyear eur', 9941), ('sakari tamminen', 6047), ('tamminen said', 8100), ('diluted loss', 968), ('share narrowed', 6810), ('cth', 849), ('metal product', 2057), ('product company', 4526), ('componenta oyj', 599), ('hel cth', 1527), ('cth said', 850), ('usd last', 9094), ('last quarter', 1812), ('million period', 2093), ('share corresponding', 6772), ('access', 12), ('propeller', 4745), ('package', 3394), ('source', 7292), ('propeller gear', 4746), ('package one', 3395), ('one source', 2953), ('savon', 6258), ('agricultural', 73), ('forestry', 1376), ('machinery', 1929), ('savon koulutuskuntayhtyma', 6259), ('finland based', 1276), ('company awarded', 528), ('specialist agricultural', 7341), ('transaction tikkurila', 8715), ('dopplr', 1007), ('smart', 7172), ('traveller', 8761), ('service smart', 6675), ('smart traveller', 7174), ('somoncom', 7284), ('serve', 6594), ('subscriber', 7755), ('somoncom serve', 7285), ('serve subscriber', 6598), ('subscriber market', 7758), ('share approximately', 6754), ('store division', 7647), ('sale fell', 6082), ('buyer', 377), ('sanoma buyer', 6199), ('target said', 8129), ('published', 4865), ('exchange release', 1182), ('release sanoma', 5355), ('sanoma published', 6208), ('published annual', 4866), ('report financial', 5482), ('statement first', 7531), ('corporate responsibility', 773), ('responsibility report', 5618), ('wednesday', 9529), ('se stock', 6379), ('exchange announcement', 1180), ('february eet', 1237), ('publish financial', 4860), ('statement bulletin', 7528), ('wednesday february', 9530), ('report fullyear', 5484), ('result august', 5652), ('behalf', 285), ('danske', 878), ('plc danske', 4041), ('danske bank', 879), ('stonesoft', 7628), ('presented', 4322), ('analyst held', 131), ('stonesoft headquarters', 7631), ('report presented', 5494), ('presented stonesoft', 4323), ('stonesoft ceo', 7630), ('sawmill', 6264), ('business unit', 374), ('unit investlesprom', 8989), ('owns forest', 3322), ('sawmill paper', 6265), ('paper pulp', 3469), ('pulp mill', 4884), ('processing plant', 4486), ('progressed', 4693), ('owing', 3298), ('prolonged', 4737), ('winter', 9711), ('season', 6392), ('sale also', 6062), ('progressed well', 4694), ('well owing', 9589), ('owing prolonged', 3300), ('prolonged winter', 4738), ('winter season', 9712), ('period expire', 3793), ('progress', 4691), ('qpr', 4925), ('representative', 5536), ('africa', 59), ('signed', 6976), ('framework', 1391), ('strategic', 7661), ('relationship', 5336), ('progress group', 4692), ('qpr representative', 4926), ('representative saudi', 5539), ('north africa', 2677), ('signed framework', 6979), ('term strategic', 8304), ('strategic relationship', 7666), ('relationship ise', 5338), ('red', 5238), ('sale period', 6119), ('period expected', 3792), ('well last', 9580), ('year result', 9919), ('result nonrecurring', 5669), ('said order', 6018), ('strip ltd', 7695), ('sixmonth', 7084), ('respectively', 5611), ('profit turnover', 4662), ('turnover sixmonth', 8853), ('sixmonth period', 7085), ('period increased', 3795), ('increased respectively', 1643), ('respectively eur', 5613), ('compared corresponding', 574), ('spring', 7395), ('work assignment', 9757), ('started due', 7491), ('power', 4242), ('tyumen', 8908), ('district', 991), ('company operates', 553), ('operates power', 3001), ('power plant', 4250), ('plant tyumen', 3999), ('tyumen chelyabinsk', 8909), ('region khantymansi', 5280), ('apriljune', 173), ('scheduled start', 6324), ('start apriljune', 7472), ('however net', 1585), ('sale declined', 6072), ('declined eur', 905), ('million eur', 2082), ('device', 956), ('volume area', 9390), ('serial', 6590), ('bond', 324), ('refinance', 5254), ('shortterm', 6943), ('credit', 842), ('serial bond', 6591), ('part plan', 3517), ('plan refinance', 3956), ('refinance shortterm', 5256), ('shortterm credit', 6944), ('credit facility', 843), ('wwwupmkymmenecom', 9859), ('produce', 4493), ('fine', 1272), ('converting', 708), ('wood', 9751), ('upmkymmene wwwupmkymmenecom', 9051), ('wwwupmkymmenecom produce', 9860), ('produce magazine', 4495), ('paper newsprint', 3467), ('newsprint well', 2532), ('well fine', 9572), ('paper converting', 3457), ('converting material', 709), ('wood product', 9753), ('struggling', 7720), ('slowing', 7149), ('suv', 7924), ('surfeit', 7902), ('uptodate', 9063), ('struggling face', 7721), ('slowing truck', 7150), ('truck suv', 8791), ('suv sale', 7925), ('sale surfeit', 6145), ('surfeit uptodate', 7903), ('uptodate gottahave', 9064), ('exel', 1187), ('tube', 8801), ('industrial', 1654), ('application', 154), ('technology company', 8171), ('company design', 534), ('manufacture market', 1969), ('profile tube', 4607), ('tube various', 8802), ('various industrial', 9245), ('industrial application', 1655), ('valmet', 9184), ('automotive', 228), ('valmet automotive', 9185), ('mn operating', 2134), ('sale rose', 6133), ('larger', 1802), ('expenditure', 1205), ('rd', 5139), ('pharmaceutical group', 3865), ('group orion', 1478), ('orion corp', 3207), ('corp reported', 761), ('reported fall', 5509), ('rd marketing', 5141), ('generates', 1424), ('annually', 146), ('yearly', 9936), ('remuneration', 5406), ('deputy', 934), ('yearly remuneration', 9937), ('remuneration member', 5409), ('member board', 2042), ('director shall', 977), ('shall remain', 6740), ('remain eur', 5374), ('eur chairman', 1135), ('board eur', 320), ('eur deputy', 1140), ('deputy chairman', 935), ('chamber', 451), ('pressurized', 4344), ('said chamber', 5988), ('major construction', 1943), ('construction company', 632), ('operating russia', 3019), ('verification', 9289), ('signature', 6973), ('stateapproved', 7520), ('enables', 1074), ('verification identity', 9290), ('signature new', 6974), ('new stateapproved', 2495), ('stateapproved mobile', 7521), ('vote election', 9414), ('eps amounted', 1101), ('eur loss', 1146), ('action', 35), ('deliver', 920), ('total value', 8613), ('controller', 687), ('preferably', 4274), ('wireless', 9722), ('transmission', 8744), ('address location', 44), ('provided local', 4807), ('controller preferably', 690), ('preferably wireless', 4275), ('wireless transmission', 9729), ('transmission us', 8745), ('us address', 9070), ('control module', 675), ('tunnel', 8822), ('put', 4915), ('passenger tunnel', 3592), ('tunnel expected', 8824), ('put operation', 4916), ('share listed', 6805), ('segment nasdaq', 6486), ('responsible operation', 5628), ('relationship development', 5337), ('surfacetreatment', 7900), ('installation', 1678), ('contract cover', 665), ('surfacetreatment installation', 7901), ('steel structure', 7572), ('interested', 1690), ('although', 105), ('quite', 5001), ('affarsvarlden', 55), ('share although', 6751), ('quite cheap', 5002), ('safran', 5973), ('license', 1851), ('safran software', 5974), ('solution license', 7269), ('sale well', 6160), ('well result', 9602), ('governance', 1453), ('majority', 1945), ('committee', 517), ('plc corporate', 4040), ('corporate governance', 770), ('shall independent', 6739), ('lemminkainen', 1840), ('lem', 1838), ('construct', 630), ('toolonlahti', 8567), ('without', 9740), ('company lemminkainen', 546), ('lemminkainen oyj', 1841), ('hel lem', 1529), ('lem said', 1839), ('today construct', 8501), ('office building', 2846), ('toolonlahti downtown', 8568), ('without disclosing', 9741), ('also said', 100), ('said third', 6034), ('quarter diluted', 4945), ('diluted eps', 967), ('eur quarter', 1154), ('quarter year', 4980), ('nviro', 2762), ('partnership', 3565), ('nviro operates', 2763), ('operates processing', 3002), ('processing facility', 4481), ('well partnership', 9590), ('partnership municipality', 3567), ('technology provider', 8184), ('provider vaahto', 4819), ('period september', 3804), ('september february', 6574), ('february increase', 1239), ('base', 263), ('price paid', 4388), ('paid cash', 3414), ('rest subscription', 5634), ('subscription offering', 7761), ('offering total', 2842), ('new ixonos', 2476), ('profit period', 4646), ('period totalled', 3807), ('upm', 9040), ('efficiency', 1041), ('chief', 464), ('pesonen', 3841), ('upm delivery', 9041), ('quarter percent', 4966), ('percent efficiency', 3739), ('operation improved', 3040), ('chief executive', 465), ('pesonen said', 3842), ('seventythree', 6717), ('training', 8696), ('latest', 1818), ('wonderware', 9749), ('platform', 4016), ('seventythree also', 6718), ('training product', 8697), ('product built', 4520), ('technology wonderware', 8188), ('wonderware system', 9750), ('system platform', 8018), ('period sale', 3803), ('sale dropped', 6075), ('dropped eur', 1014), ('report released', 5499), ('released today', 5365), ('poor', 4142), ('performance', 3775), ('operating margin', 3013), ('slipped dragged', 7131), ('poor performance', 4143), ('performance enterprise', 3776), ('januaryseptember group', 1742), ('group net', 1476), ('sale continuing', 6068), ('would focus', 9808), ('standard product', 7464), ('product production', 4550), ('production automation', 4569), ('flexible', 1353), ('suominen', 7844), ('flexible packaging', 1354), ('packaging manufacturer', 3400), ('suominen corporation', 7845), ('corporation report', 796), ('application maintenance', 155), ('sacanfil', 5962), ('quarter sacanfil', 4977), ('sacanfil net', 5963), ('affecto', 56), ('afe', 53), ('stateowned', 7539), ('social', 7202), ('institution', 1681), ('sodra', 7206), ('january finnish', 1737), ('finnish solution', 1316), ('provider affecto', 4812), ('affecto oyj', 57), ('hel afe', 1526), ('afe said', 54), ('today eur', 8505), ('usd contract', 9085), ('stateowned lithuanian', 7540), ('social insurance', 7203), ('rose year', 5847), ('said earlier', 5996), ('scandinavian', 6291), ('present', 4309), ('ncc', 2354), ('implement', 1609), ('asphalt', 195), ('housing', 1583), ('scandinavian company', 6292), ('present st', 4317), ('petersburg also', 3846), ('named swedish', 2327), ('swedish concern', 7960), ('ncc implement', 2355), ('project field', 4714), ('production road', 4582), ('road housing', 5803), ('construction project', 638), ('project swedish', 4729), ('swedish krona', 7966), ('sponda', 7373), ('sda', 6368), ('sponda oyj', 7374), ('sda said', 6369), ('usd profit', 9101), ('erkki', 1113), ('rautakirja', 5112), ('leave', 1835), ('task', 8137), ('president rautakirja', 4334), ('rautakirja head', 5113), ('sanoma trade', 6209), ('trade division', 8649), ('task spring', 8138), ('spring similar', 7396), ('similar position', 7015), ('position outside', 4188), ('outside sanoma', 3279), ('sanoma group', 6203), ('satama', 6228), ('satama net', 6230), ('sale would', 6162), ('would higher', 9812), ('higher year', 1548), ('noticeable', 2715), ('thing', 8359), ('tata', 8139), ('mostly', 2209), ('connection', 617), ('noticeable thing', 2716), ('thing search', 8360), ('search tata', 6391), ('tata airtel', 8140), ('mostly related', 2210), ('related broadband', 5317), ('operation mid', 3047), ('black', 307), ('decker', 901), ('husqvarna', 1592), ('outdoor', 3247), ('ryobi', 5946), ('miraclegro', 2105), ('van', 9228), ('player worldwide', 4034), ('worldwide black', 9788), ('black decker', 308), ('decker corporation', 902), ('corporation fiskars', 783), ('fiskars brand', 1339), ('brand inc', 336), ('inc husqvarna', 1621), ('husqvarna outdoor', 1593), ('outdoor product', 3248), ('product inc', 4534), ('inc group', 1620), ('group ryobi', 1484), ('ryobi technology', 5947), ('inc scott', 1622), ('scott miraclegro', 6362), ('miraclegro company', 2106), ('company van', 569), ('van group', 9229), ('group inc', 1474), ('negotiation', 2394), ('singulase', 7045), ('negotiation concern', 2396), ('personnel cencorp', 3830), ('corporation singulase', 799), ('singulase oy', 7046), ('oy whole', 3358), ('whole finland', 9656), ('sweden company', 7945), ('town', 8641), ('soon', 7288), ('owner', 3309), ('paper mill', 3466), ('mill central', 2077), ('town madison', 8643), ('soon new', 7289), ('new owner', 2489), ('stone', 7621), ('autumn', 230), ('stone sale', 7624), ('order book', 3128), ('strong end', 7700), ('end year', 1080), ('rfid', 5752), ('radio', 5013), ('method', 2059), ('transport', 8746), ('whereby', 9641), ('read', 5152), ('saved', 6248), ('remotely', 5403), ('rfid radio', 5753), ('radio frequency', 5014), ('socalled intelligent', 7199), ('transport whereby', 8750), ('whereby information', 9642), ('read saved', 5154), ('saved remotely', 6249), ('preprocess', 4305), ('packet', 3406), ('processed', 4476), ('processor', 4489), ('used preprocess', 9131), ('preprocess packet', 4306), ('packet determine', 3407), ('need processed', 2385), ('processed processor', 4478), ('processor network', 4490), ('network device', 2433), ('brought', 351), ('kroon', 1792), ('fifth', 1249), ('month previous', 2172), ('year brought', 9888), ('quarter running', 4976), ('vessel', 9300), ('vessel ordered', 9302), ('ordered india', 3162), ('comprises', 602), ('stream', 7672), ('treating', 8765), ('ore', 3167), ('pilanesberg', 3908), ('platinum', 4021), ('order comprises', 3130), ('organized two', 3188), ('two different', 8876), ('stream treating', 7674), ('treating ore', 8766), ('ore pilanesberg', 3170), ('pilanesberg platinum', 3909), ('platinum mine', 4022), ('determined', 943), ('factor', 1219), ('valuation', 9186), ('consideration', 623), ('prevailing', 4349), ('savcor face', 6246), ('result profit', 5671), ('profit loss', 4636), ('yet determined', 9953), ('owing factor', 3299), ('valuation consideration', 9187), ('share received', 6830), ('received prevailing', 5187), ('prevailing exchange', 4350), ('usd second', 9102), ('quarter profit', 4969), ('seeking', 6467), ('possibility', 4203), ('relocate', 5368), ('company also', 527), ('seeking possibility', 6468), ('possibility relocate', 4204), ('relocate luumaki', 5369), ('personnel people', 3831), ('people upm', 3720), ('upm mill', 9043), ('financial group', 1261), ('acquiring', 29), ('significant effect', 6989), ('acquiring company', 30), ('technological', 8166), ('specialize', 7346), ('telecommunication', 8248), ('technoparks', 8193), ('technological park', 8167), ('park specialize', 3493), ('specialize telecommunication', 7347), ('telecommunication information', 8250), ('information technology', 1665), ('technology part', 8182), ('part state', 3523), ('state program', 7517), ('program formation', 4681), ('technoparks hitech', 8194), ('sector russia', 6436), ('result including', 5660), ('mn loss', 2131), ('optimising', 3096), ('providing managed', 4836), ('managed service', 1959), ('service nokia', 6652), ('nokia take', 2603), ('take responsibility', 8051), ('responsibility building', 5616), ('operating transferring', 3023), ('transferring well', 8743), ('well optimising', 9588), ('optimising indosat', 3097), ('personal', 3824), ('settop', 6705), ('box', 332), ('flat', 1350), ('panel', 3436), ('tv', 8862), ('towertop', 8639), ('amplifier', 125), ('product include', 4535), ('personal communication', 3825), ('communication product', 521), ('product mobile', 4546), ('phone part', 3890), ('part home', 3514), ('product settop', 4557), ('settop box', 6706), ('flat panel', 1351), ('panel tv', 3439), ('tv well', 8864), ('well communication', 9564), ('communication network', 520), ('network product', 2443), ('product basestations', 4518), ('towertop amplifier', 8640), ('valga', 9180), ('moorits', 2182), ('valga lihatoostus', 9181), ('product mak', 4543), ('moorits trademark', 2183), ('positioned', 4193), ('uruguay', 9067), ('well positioned', 9593), ('positioned brazil', 4194), ('upstream', 9061), ('gas', 1418), ('value chain', 9197), ('upstream downstream', 9062), ('wide variety', 9688), ('oil gas', 2884), ('resource food', 5599), ('paper chemical', 3455), ('uponor', 9057), ('guidance', 1493), ('uponor maintains', 9059), ('jarmo', 1744), ('ukonaho', 8926), ('finish', 1273), ('mr jarmo', 2240), ('ukonaho current', 8927), ('general manager', 1421), ('operation finish', 3035), ('divested', 992), ('represented', 5540), ('stake represented', 7449), ('represented share', 5542), ('share okmetic', 6816), ('okmetic capital', 2898), ('interactive', 1686), ('took', 8556), ('finnish consultancy', 1296), ('consultancy satama', 643), ('satama interactive', 6229), ('interactive oyj', 1687), ('said november', 6015), ('november jarmo', 2726), ('took position', 8560), ('position ceo', 4180), ('export', 1209), ('log', 1892), ('onefamily', 2959), ('holiday', 1566), ('moscow', 2199), ('remainder', 5383), ('russia used', 5913), ('used onefamily', 9128), ('onefamily house', 2960), ('sale go', 6087), ('moscow region', 2202), ('region st', 5283), ('petersburg region', 3852), ('region remainder', 5282), ('remainder location', 5385), ('quickly', 4998), ('possible', 4205), ('quickly possible', 4999), ('eur apriljune', 1132), ('rautalinko', 5115), ('resposnible', 5630), ('mobility', 2146), ('rautalinko resposnible', 5116), ('resposnible also', 5631), ('mobility service', 2147), ('service job', 6645), ('flow operating', 1359), ('operating activity', 3007), ('activity investment', 38), ('investment eur', 1707), ('moved', 2227), ('zero', 9994), ('quarter componenta', 4943), ('sale doubled', 6074), ('doubled eur', 1009), ('eur period', 1152), ('moved zero', 2229), ('zero pretax', 9995), ('profit pretax', 4647), ('french', 1396), ('normandy', 2670), ('hook', 1573), ('vmc', 9368), ('said currently', 5993), ('ragot located', 5018), ('normandy distribution', 2671), ('waterqueen line', 9492), ('hook manufacturing', 1574), ('manufacturing unit', 1978), ('unit vmc', 9004), ('vmc hook', 9371), ('vmc europe', 9370), ('sale last', 6100), ('quarter level', 4956), ('sale finland', 6084), ('finland decreased', 1277), ('sale outside', 6117), ('nwc', 2764), ('nwc analysis', 2765), ('recorded', 5228), ('invested', 1703), ('nonrestricted', 2626), ('total amount', 8578), ('price recorded', 4395), ('recorded fund', 5229), ('nonrestricted equity', 2627), ('denmark', 929), ('representing', 5544), ('representing net', 5548), ('vehvilainen', 9267), ('officer', 2864), ('vehvilainen currently', 9268), ('operating officer', 3014), ('officer nokia', 2867), ('network join', 2439), ('take ceo', 8047), ('tree', 8771), ('specie', 7353), ('known', 1785), ('rubber', 5873), ('natural source', 2348), ('source isoprene', 7295), ('tree specie', 8772), ('specie hevea', 7354), ('rubber tree', 5874), ('sa', 5950), ('plc lse', 4048), ('nyse bcs', 2773), ('sa epa', 5952), ('take effect', 8048), ('effect january', 1039), ('number employee', 2746), ('principal', 4422), ('speciality', 7344), ('operates four', 2995), ('principal division', 4423), ('packaging office', 3402), ('office paper', 2851), ('paper speciality', 3470), ('speciality paper', 7345), ('paper well', 3472), ('well market', 9583), ('pulp energy', 4882), ('cet', 445), ('monday', 2155), ('copenhagen', 728), ('lost', 1913), ('past', 3594), ('share bavarian', 6760), ('nordic climbed', 2656), ('copenhagen lost', 729), ('past month', 3595), ('thus', 8407), ('working', 9775), ('planning', 3966), ('thus method', 8410), ('working cost', 9778), ('cost fasten', 827), ('planning building', 3968), ('proposed', 4773), ('oil board', 2881), ('proposed eur', 4775), ('order almost', 3122), ('finance', 1256), ('finance acquisition', 1257), ('mln loan', 2116), ('start production', 7484), ('production first', 4573), ('motorola', 2214), ('shipment', 6910), ('south', 7301), ('korea', 1790), ('samsung', 6186), ('co', 490), ('motorola inc', 2216), ('united state', 9013), ('state came', 7512), ('came second', 389), ('second shipment', 6410), ('shipment million', 6911), ('million unit', 2097), ('unit percent', 8996), ('percent market', 3746), ('share followed', 6785), ('south korea', 7302), ('samsung electronics', 6187), ('percent share', 3755), ('strong global', 7701), ('position fishing', 4184), ('required', 5568), ('registration required', 5295), ('stop', 7638), ('lithuania', 1876), ('concentrate', 606), ('parnu', 3498), ('stop operation', 7639), ('operation ruukki', 3059), ('ruukki construction', 5930), ('latvia lithuania', 1822), ('production logistics', 4576), ('parnu estonia', 3499), ('suunto', 7922), ('owns salomon', 3328), ('salomon atomic', 6164), ('suunto brand', 7923), ('rose percent', 5843), ('percent three', 3762), ('month dec', 2161), ('million ac', 2079), ('shane', 6743), ('svp', 7934), ('gypsii', 1495), ('shane lennon', 6744), ('svp marketing', 7935), ('restructuring', 5641), ('operation mean', 3046), ('structure restructuring', 7717), ('restructuring aspocomp', 5643), ('oulu headquarter', 3244), ('planned', 3961), ('closing', 485), ('planned closing', 3962), ('expectation', 1195), ('share quarter', 6827), ('quarter also', 4938), ('versus market', 9297), ('minister', 2103), ('mat', 2009), ('sweden minister', 7949), ('odell decision', 2813), ('sell state', 6527), ('state share', 7518), ('share telecom', 6855), ('telecom group', 8240), ('teliasonera carried', 8271), ('cooperation state', 720), ('counter', 832), ('totaling', 8621), ('prolongation', 4735), ('yit lodged', 9970), ('oil totaling', 2888), ('totaling eur', 8622), ('primarily based', 4417), ('work carried', 9758), ('prolongation project', 4736), ('represent', 5533), ('notification holding', 2718), ('group company', 1473), ('share represent', 6833), ('represent tekla', 5534), ('tekla share', 8225), ('prepaid', 4297), ('postpaid', 4224), ('billing', 299), ('video', 9322), ('call', 384), ('kind', 1783), ('tecnomen solution', 8205), ('used prepaid', 9130), ('prepaid postpaid', 4298), ('postpaid billing', 4225), ('billing charging', 300), ('rating voice', 5108), ('voice video', 9378), ('video call', 9325), ('data traffic', 884), ('traffic kind', 8685), ('service mobile', 6651), ('mobile fixed', 2142), ('fixed network', 1347), ('nilserik', 2565), ('nilserik eklund', 2566), ('satisfied viking', 6236), ('supermarket', 7848), ('organic', 3174), ('pirkka', 3923), ('tomato', 8532), ('seller chain', 6530), ('supermarket finland', 7849), ('organic pirkka', 3175), ('pirkka tomato', 3924), ('tomato carrot', 8533), ('event', 1174), ('online', 2968), ('via', 9303), ('wwworionfi', 9848), ('kauppalehti', 1768), ('wwwkauppalehtifilive', 9845), ('online via', 2974), ('via orion', 9309), ('orion finnish', 3208), ('wwworionfi well', 9849), ('well via', 9607), ('via kauppalehti', 9307), ('web service', 9512), ('service wwwkauppalehtifilive', 6686), ('sixyear', 7088), ('historic', 1550), ('also sixyear', 101), ('sixyear historic', 7089), ('historic analysis', 1551), ('analysis provided', 129), ('provided market', 4808), ('clarity', 479), ('meet', 2037), ('tmlsfor', 8492), ('grade', 1455), ('required transport', 5569), ('transport moisture', 8747), ('tmlsfor ore', 8493), ('ore grade', 3169), ('sahlberg', 5977), ('teppo', 8292), ('timo', 8467), ('mustonen', 2306), ('tuomas', 8825), ('novel', 2722), ('new delhi', 2470), ('sahlberg teppo', 5978), ('teppo kallio', 8293), ('timo mustonen', 8468), ('mustonen tuomas', 2307), ('tuomas real', 8826), ('real oyj', 5164), ('oyj espoo', 3366), ('finland developed', 1278), ('novel marking', 2723), ('outotec take', 3269), ('place month', 3936), ('separate', 6557), ('atrium', 210), ('revealed', 5721), ('separate announcement', 6558), ('revealed company', 5722), ('profit declined', 4617), ('year eur', 9899), ('ssh', 7413), ('ssh communication', 7414), ('communication security', 522), ('security corporation', 6444), ('corporation headquartered', 786), ('tomorrow', 8536), ('trading new', 8671), ('share right', 6839), ('dividend distribution', 996), ('start exchange', 7476), ('decrease', 907), ('reduction', 5248), ('wider', 9692), ('scale', 6285), ('initially', 1673), ('rapid decrease', 5090), ('sale personnel', 6120), ('personnel reduction', 3833), ('reduction carried', 5249), ('wider scale', 9693), ('scale initially', 6286), ('simmons', 7020), ('elected', 1049), ('portsmouth', 4170), ('nhgordon', 2547), ('union', 8969), ('simmons elected', 7022), ('portsmouth nhgordon', 4171), ('nhgordon simmons', 2548), ('simmons ceo', 7021), ('service credit', 6627), ('credit union', 844), ('union elected', 8972), ('union council', 8971), ('speed', 7358), ('electric', 1050), ('motor', 2211), ('municipal', 2294), ('renewable', 5418), ('used control', 9122), ('control speed', 679), ('speed electric', 7359), ('motor used', 2213), ('used industry', 9124), ('municipal engineering', 2295), ('power generation', 4248), ('using renewable', 9147), ('renewable energy', 5419), ('federal', 1240), ('putting', 4917), ('vendor', 9273), ('focused', 1362), ('putting stake', 4918), ('stake ground', 7444), ('vendor customer', 9275), ('customer focused', 861), ('declined percent', 906), ('percent million', 3747), ('stood', 7633), ('bln', 311), ('book stood', 326), ('stood bln', 7634), ('september pct', 6581), ('pct year', 3672), ('year international', 9906), ('order amounting', 3125), ('store chain', 7645), ('stockmann oyj', 7617), ('abp net', 8), ('hbos', 1512), ('plummeted', 4073), ('penny', 3696), ('saying', 6279), ('copper lead', 732), ('nickel also', 2554), ('plummeted penny', 4074), ('penny saying', 3697), ('saying year', 6280), ('raisio site', 5046), ('site main', 7060), ('plant well', 4000), ('well company', 9565), ('rally', 5049), ('authorized', 224), ('worker', 9771), ('spoke', 7369), ('rally authorized', 5050), ('official came', 2870), ('worker spoke', 9774), ('spoke took', 7370), ('took letter', 8558), ('particular', 3544), ('customer include', 862), ('process industry', 4467), ('sector particular', 6434), ('buyout', 378), ('investment area', 1705), ('area capman', 178), ('capman buyout', 405), ('buyout capman', 379), ('capman technology', 409), ('technology capman', 8170), ('capman life', 406), ('life science', 1856), ('science capman', 6347), ('capman real', 408), ('estate dedicated', 1122), ('dedicated team', 914), ('stage', 7431), ('stage contract', 7432), ('store cash', 7644), ('reached', 5147), ('operation recent', 3056), ('recent quarter', 5197), ('reached eight', 5148), ('year low', 9907), ('result showed', 5674), ('showed loss', 6956), ('year showed', 9921), ('showed profit', 6957), ('program negative', 4683), ('negative impact', 2390), ('mr meiklejohn', 2247), ('biohit', 304), ('expand', 1191), ('service many', 6648), ('customer base', 858), ('result agreement', 5648), ('feed', 1242), ('rehu', 5301), ('suomen rehu', 7841), ('rehu raisio', 5302), ('raisio import', 5044), ('rose yearonyear', 5848), ('yearonyear first', 9942), ('compared first', 576), ('tecnotree', 8207), ('tecnotree convergent', 8209), ('solution includes', 7265), ('voice call', 9376), ('raw data', 5133), ('traffic mobile', 8687), ('strategic operational', 7665), ('operational factor', 3072), ('total project', 8599), ('project duration', 4712), ('three year', 8387), ('year valued', 9924), ('value project', 9209), ('project valued', 4731), ('valued sek', 9222), ('sek bn', 6500), ('bn usd', 317), ('form', 1377), ('note', 2706), ('transaction consideration', 8701), ('paid form', 3417), ('vendor note', 9276), ('previousyear', 4367), ('profitability ebit', 4668), ('ebit compared', 1030), ('previousyear period', 4368), ('toy', 8644), ('toy building', 8645), ('entertainment', 1094), ('play', 4023), ('determining', 944), ('workout', 9779), ('experience', 1207), ('pleasurable', 4066), ('brian', 343), ('precor', 4268), ('year personal', 9916), ('personal entertainment', 3827), ('play significant', 4024), ('significant role', 6995), ('role determining', 5822), ('whether fitness', 9644), ('workout experience', 9780), ('pleasurable chore', 4067), ('said brian', 5986), ('wilson director', 9704), ('precor entertainment', 4269), ('service division', 6631), ('hour', 1580), ('try', 8797), ('icis', 1597), ('wwwiciscom', 9843), ('news try', 2523), ('try icis', 8798), ('news wwwiciscom', 2525), ('wwwiciscom click', 9844), ('trial icis', 8777), ('ii', 1603), ('country sale', 835), ('sixunder', 7086), ('shot', 6945), ('recari', 5173), ('welsh', 9616), ('british', 346), ('sharing', 6887), ('seventh', 6715), ('threeunder', 8392), ('shooting', 6927), ('took fifth', 8557), ('place sixunder', 3942), ('sixunder shot', 7087), ('shot behind', 6946), ('spain beatriz', 7322), ('recari germany', 5174), ('welsh player', 9617), ('player becky', 4028), ('sharing seventh', 6888), ('seventh place', 6716), ('place threeunder', 3944), ('threeunder shooting', 8393), ('subscribed stock', 7754), ('option registered', 3109), ('register january', 5285), ('share establish', 6779), ('mn second', 2136), ('reported operating', 5516), ('olive', 2915), ('cold', 499), ('pate', 3599), ('example', 1177), ('product range', 4552), ('range includes', 5065), ('olive cold', 2916), ('cold cut', 500), ('pate example', 3600), ('symbian', 7980), ('licensing', 1852), ('led', 1836), ('symbian software', 7982), ('software licensing', 7217), ('led nokia', 1837), ('eps decreased', 1103), ('capacity', 396), ('plant annual', 3974), ('capacity tonne', 397), ('tonne production', 8553), ('production sold', 4588), ('sold domestic', 7228), ('vilo', 9345), ('va march', 9160), ('vilo turku', 9346), ('turku finland', 8838), ('panel press', 3438), ('currency', 851), ('russia term', 5911), ('term euro', 8298), ('euro term', 1167), ('term local', 8299), ('local currency', 1887), ('besides', 289), ('preference', 4276), ('deposit', 933), ('rank', 5073), ('par', 3477), ('taken', 8055), ('preference finland', 4277), ('senior debt', 6547), ('rank par', 5074), ('par also', 3478), ('taken consideration', 8056), ('tournament', 8634), ('title', 8476), ('game', 1416), ('smaller', 7163), ('rapala tournament', 5087), ('tournament fishing', 8635), ('title already', 8477), ('smaller audience', 7164), ('acquires', 28), ('mechanical', 2030), ('rf', 5748), ('antenna', 148), ('camera', 390), ('display', 983), ('robot', 5809), ('testing', 8329), ('mechanical engineering', 2031), ('rf antenna', 5749), ('well device', 9569), ('robot unit', 5810), ('unit testing', 9003), ('testing mobile', 8330), ('mobile device', 2141), ('ote', 3230), ('phosphate', 3894), ('siilinjarvi', 7005), ('news dec', 2513), ('finnish construction', 1295), ('company outotec', 557), ('omx ote', 2935), ('ote said', 3231), ('usd order', 9099), ('order expand', 3136), ('phosphate concentrator', 3895), ('siilinjarvi norwegian', 7006), ('norwegian miner', 2698), ('understand', 8952), ('pattern', 3615), ('understand different', 8953), ('traffic pattern', 8688), ('pattern based', 3616), ('use building', 9110), ('srv', 7409), ('srv group', 7411), ('group private', 1481), ('private finnish', 4451), ('finland baltic', 1275), ('country russia', 834), ('healthcare', 1519), ('sale healthcare', 6090), ('trade business', 8647), ('business eur', 368), ('million operating', 2090), ('write', 9822), ('sizable', 7090), ('swedbank', 7940), ('seb', 6400), ('near', 2360), ('nordic bank', 2653), ('write sizable', 9823), ('sizable loan', 7091), ('swedbank nordea', 7941), ('nordea dnb', 2645), ('seb reporting', 6401), ('reporting combined', 5526), ('loss excess', 1906), ('period backdrop', 3786), ('near economic', 2361), ('robust', 5811), ('inclusion', 1635), ('robust growth', 5812), ('result inclusion', 5661), ('consumer electronics', 648), ('phone accessory', 3883), ('well system', 9605), ('system solution', 8023), ('solution product', 7272), ('product infrastructure', 4537), ('segment product', 6489), ('technopark', 8191), ('kari', 1764), ('reporter', 5522), ('technopolis planning', 8199), ('planning bring', 3967), ('section technopark', 6423), ('technopark stream', 8192), ('stream st', 7673), ('petersburg end', 3849), ('president technopolis', 4335), ('technopolis told', 8200), ('told reporter', 8528), ('reporter helsinki', 5523), ('moved operating', 2228), ('versus operating', 9299), ('turned eps', 8841), ('yhteishyv', 9955), ('reader', 5155), ('newspaper', 2526), ('sanomat', 6210), ('yhteishyv came', 9956), ('second reader', 6409), ('reader sanoma', 5158), ('sanoma corporation', 6200), ('corporation daily', 779), ('newspaper helsingin', 2528), ('sanomat third', 6213), ('third reader', 8366), ('brasil', 338), ('telecom software', 8242), ('tecnomen oyj', 8203), ('order supply', 3155), ('supply expansion', 7875), ('system mobile', 8014), ('network brasil', 2431), ('sale review', 6131), ('review period', 5744), ('period eur', 3791), ('million profit', 2094), ('share represented', 6834), ('represented total', 5543), ('total voting', 8614), ('sami', 6173), ('sarkamies', 6224), ('competitive', 588), ('nordic financial', 2659), ('nordea analyst', 2640), ('sami sarkamies', 6174), ('sarkamies make', 6225), ('nokia portfolio', 2598), ('portfolio competitive', 4158), ('replay', 5462), ('caller', 386), ('nonus', 2628), ('replay available', 5463), ('october following', 2801), ('number caller', 2743), ('nonus caller', 2629), ('scanfil issued', 6301), ('warning april', 9461), ('vacon cash', 9173), ('operation grew', 3037), ('wet', 9635), ('wipe', 9716), ('profitable', 4671), ('corporation estimate', 781), ('program started', 4688), ('started autumn', 7490), ('price expected', 4380), ('volume wet', 9407), ('wet wipe', 9636), ('wipe make', 9718), ('company operation', 555), ('operation profitable', 3055), ('growing', 1489), ('plan move', 3954), ('move production', 2224), ('production russia', 4583), ('russia although', 5901), ('plumbing', 4070), ('julyseptember', 1758), ('finnish plumbing', 1308), ('plumbing heating', 4072), ('heating system', 1522), ('supplier uponor', 7867), ('uponor net', 9060), ('business operation', 369), ('operation decreased', 3031), ('mn julyseptember', 2130), ('seen', 6471), ('seen october', 6475), ('october compared', 2799), ('group operating', 1477), ('mn profit', 2135), ('muling', 2268), ('raute corporation', 5123), ('corporation muling', 788), ('muling kemian', 2269), ('product co', 4524), ('co ltd', 491), ('november taken', 2730), ('taken effect', 8057), ('annual sale', 144), ('sale approximately', 6063), ('pershare', 3817), ('pershare subscription', 3818), ('price share', 4398), ('subscribed option', 7751), ('matti', 2015), ('perkonoja', 3809), ('parent', 3483), ('remained', 5387), ('ceo matti', 441), ('perkonoja parent', 3810), ('parent company', 3484), ('performance first', 3777), ('quarter remained', 4973), ('remained clearly', 5388), ('hybrid', 1594), ('xdsl', 9867), ('teleste hybrid', 8259), ('tv solution', 8863), ('whole process', 9662), ('process delivering', 4465), ('video service', 9328), ('service consumer', 6623), ('service creation', 6626), ('range access', 5059), ('solution including', 7266), ('xdsl etth', 9868), ('headbox', 1514), ('reel', 5253), ('order includes', 3140), ('new crecent', 2468), ('run', 5887), ('fully', 1407), ('underground', 8942), ('station', 7541), ('run fully', 5888), ('underground comprise', 8943), ('station executed', 7543), ('two implementation', 8879), ('responsible group', 5625), ('samporosenlew', 6184), ('machine', 1928), ('samporosenlew manufacture', 6185), ('seven forest', 6710), ('forest machine', 1374), ('monthly half', 2177), ('relates', 5326), ('relevant', 5366), ('relates available', 5327), ('relevant person', 5367), ('person engaged', 3821), ('commitment', 516), ('said already', 5981), ('usd investment', 9092), ('russia partner', 5908), ('partner ii', 3559), ('pipettors', 3919), ('proline', 4733), ('warranty', 9466), ('pipettors biohit', 3920), ('proline plus', 4734), ('plus ceivd', 4079), ('year warranty', 9925), ('kesko', 1776), ('previously published', 4366), ('published stock', 4874), ('release concerning', 5346), ('direct', 970), ('signing', 7000), ('readychex', 5159), ('offer payroll', 2831), ('payroll service', 3646), ('service including', 6642), ('payroll processing', 3645), ('processing payroll', 4485), ('payroll tax', 3647), ('tax administration', 8142), ('pay service', 3626), ('signing readychex', 7001), ('retailer', 5696), ('quarterly', 4984), ('totalling', 8625), ('th', 8341), ('tiimari finnish', 8429), ('finnish retailer', 1311), ('retailer reported', 5699), ('reported geenrated', 5511), ('quarterly revenue', 4989), ('revenue totalling', 5741), ('totalling eur', 8626), ('th quarter', 8342), ('ship', 6902), ('viking pay', 9341), ('pay eur', 3623), ('new ship', 2494), ('ship completed', 6903), ('corporation disclose', 780), ('statement thursday', 7538), ('thursday february', 8400), ('escalator', 1114), ('tuesday', 8803), ('sir', 7052), ('robert', 5807), ('watermark', 9488), ('elevator escalator', 1063), ('corporation said', 797), ('said tuesday', 6040), ('tuesday march', 8807), ('received major', 5185), ('order sir', 3154), ('sir robert', 7053), ('robert mcalpine', 5808), ('supply elevator', 7874), ('watermark place', 9489), ('place project', 3939), ('project city', 4706), ('glass', 1434), ('decreased mln', 910), ('trainer', 8694), ('satama trainer', 6231), ('trainer house', 8695), ('remain name', 5377), ('name independent', 2317), ('thanks', 8345), ('multiplying', 2285), ('wagon', 9431), ('efficient', 1042), ('vr', 9422), ('thanks multiplying', 8346), ('multiplying effect', 2286), ('wagon performance', 9433), ('performance transport', 3782), ('transport much', 8748), ('much efficient', 2261), ('say development', 6271), ('vr cargo', 9423), ('sale however', 6091), ('smartphone', 7175), ('vicepresident', 9320), ('shivakumar', 6921), ('smartphone available', 7176), ('per handset', 3725), ('nokia india', 2587), ('vicepresident managing', 9321), ('shivakumar told', 6922), ('multiple', 2282), ('voicedirected', 9379), ('operator need', 3084), ('need learn', 2381), ('use one', 9114), ('one device', 2943), ('multiple level', 2284), ('voicedirected operation', 9380), ('recorded revenue', 5231), ('revenue approximately', 5724), ('transaction would', 8719), ('share first', 6784), ('sale acquired', 6060), ('report sale', 5500), ('sale machine', 6104), ('shop division', 6930), ('wenchong', 9618), ('shipyard', 6919), ('ship crane', 6905), ('wenchong shipyard', 9619), ('shipyard china', 6920), ('cabot', 380), ('czech', 873), ('slovak', 7138), ('tire', 8473), ('continental', 657), ('slovak market', 7139), ('tire producer', 8475), ('producer barum', 4504), ('sderstrm', 6370), ('acting', 34), ('sderstrm previously', 6371), ('previously held', 4363), ('several position', 6722), ('position finance', 4183), ('control nokia', 676), ('nokia network', 2592), ('network including', 2437), ('controller corporate', 688), ('corporate controller', 768), ('controller position', 689), ('position nokia', 4187), ('scholarship', 6337), ('recipient', 5208), ('chosen', 468), ('total scholarship', 8603), ('scholarship amount', 6338), ('recipient chosen', 5209), ('recommendation fine', 5218), ('university sport', 9018), ('sport association', 7381), ('two site', 8886), ('site included', 7058), ('tougher', 8632), ('substantially', 7784), ('reduced', 5246), ('manufactured', 1970), ('market situation', 2006), ('situation tougher', 7073), ('tougher price', 8633), ('price competition', 4374), ('substantially reduced', 7785), ('reduced demand', 5247), ('packaging manufactured', 3399), ('plant according', 3973), ('according company', 16), ('scope', 6354), ('total scope', 8604), ('scope project', 6356), ('project square', 4727), ('square metre', 7408), ('valued total', 9223), ('total around', 8580), ('today effective', 8504), ('trading friday', 8668), ('warrant', 9464), ('period amer', 3785), ('sport warrant', 7388), ('warrant scheme', 9465), ('scheme end', 6332), ('family', 1225), ('mining', 2101), ('primary', 4419), ('zinc', 9997), ('talvivaara mining', 8094), ('mining company', 2102), ('plc talvivaara', 4057), ('significant base', 6985), ('base metal', 264), ('producer primary', 4508), ('primary focus', 4420), ('nickel zinc', 2558), ('zinc using', 9998), ('using technology', 9148), ('technology known', 8177), ('terminal', 8305), ('guide', 1494), ('participating', 3539), ('optionally', 3114), ('server', 6602), ('hosting mobile', 1576), ('mobile terminal', 2145), ('terminal guide', 8307), ('participating terminal', 3540), ('terminal optionally', 8308), ('optionally network', 3115), ('network server', 2447), ('server may', 6604), ('threemonth', 8390), ('surged', 7906), ('world second', 9786), ('largest stainless', 1807), ('profit threemonth', 4657), ('threemonth period', 8391), ('period dec', 3789), ('surged euro', 7908), ('euro per', 1164), ('share euro', 6781), ('share previous', 6825), ('rettig', 5706), ('grown', 1490), ('owned rettig', 3307), ('rettig family', 5707), ('recently acquisition', 5200), ('smaller shipping', 7169), ('transaction scheduled', 8711), ('scheduled take', 6326), ('place january', 3934), ('ponsse', 4134), ('pon', 4132), ('swing', 7972), ('april finnish', 171), ('finnish forest', 1301), ('forest machinery', 1375), ('machinery equipment', 1931), ('ponsse oyj', 4136), ('pon said', 4133), ('today expects', 8506), ('swing net', 7973), ('unfortunately', 8960), ('decline', 903), ('capital expenditure', 399), ('unfortunately fallen', 8961), ('fsecure', 1402), ('panda', 3434), ('proofpoint', 4743), ('sophos', 7290), ('symantec', 7978), ('trend', 8773), ('micro', 2070), ('tumbleweed', 8818), ('websense', 9521), ('report include', 5487), ('panda proofpoint', 3435), ('proofpoint sophos', 4744), ('sophos symantec', 7291), ('symantec trend', 7979), ('trend micro', 8774), ('tumbleweed websense', 8819), ('oy finnish', 3342), ('infrastructure construction', 1667), ('construction service', 639), ('service company', 6619), ('traffic route', 8689), ('route industrial', 5859), ('traffic environment', 8682), ('ongoing', 2965), ('vashi', 9254), ('centre', 438), ('pvt', 4919), ('ongoing project', 2967), ('project tekla', 4730), ('tekla structure', 8226), ('structure used', 7719), ('used vashi', 9137), ('vashi exhibition', 9255), ('pvt ltdiivrcl', 4920), ('infrastructure project', 1669), ('project ltd', 4717), ('previously company', 4359), ('performance remain', 3778), ('remain level', 5375), ('usd starting', 9104), ('vacon control', 9174), ('via investment', 9306), ('investment fund', 1708), ('power fund', 4246), ('rautakirja lead', 5114), ('one four', 2945), ('position president', 4189), ('nordic infrastructure', 2661), ('one strategic', 2954), ('strategic growth', 7664), ('mercator', 2047), ('slovenia', 7143), ('southeastern', 7306), ('use software', 9116), ('software logistic', 7218), ('wholesale operation', 9672), ('operation slovenia', 3063), ('slovenia market', 7144), ('southeastern europe', 7307), ('ragutis', 5020), ('ragutis controlled', 5022), ('controlled finnish', 684), ('finnish brewery', 1290), ('brewery olvi', 342), ('olvi achieved', 2920), ('percent rise', 3754), ('rise beer', 5781), ('held percent', 1536), ('share stood', 6850), ('stood eur', 7636), ('merrill', 2050), ('lynch', 1926), ('paperlinx', 3475), ('neutral', 2454), ('merrill lynch', 2051), ('morgan upgraded', 2190), ('upgraded recommendation', 9039), ('recommendation paperlinx', 5222), ('paperlinx neutral', 3476), ('neutral buy', 2455), ('iron', 1722), ('sweden hightech', 7947), ('producing upgraded', 4514), ('upgraded iron', 9038), ('iron ore', 1723), ('ore product', 3171), ('product steel', 4558), ('steel industry', 7564), ('improve', 1614), ('ponsse project', 4137), ('project forest', 4715), ('revenue grew', 5729), ('percent ac', 3732), ('billion billion', 302), ('euro billion', 1160), ('novotel', 2731), ('preliminary estimate', 4283), ('operate brand', 2985), ('usbased', 9081), ('uzbek', 9157), ('coscom', 816), ('usbased corp', 9082), ('corp talk', 763), ('talk scandinavian', 8077), ('scandinavian telecom', 6296), ('telecom company', 8238), ('teliasonera sell', 8277), ('sell stake', 6526), ('stake uzbek', 7454), ('uzbek cellular', 9158), ('operator coscom', 3081), ('coscom executive', 817), ('coscom told', 818), ('told interfax', 8525), ('measure', 2023), ('longer', 1898), ('needed', 2386), ('say measure', 6274), ('next year', 2544), ('recognize', 5210), ('transaction positive', 8708), ('ruukki recognize', 5937), ('recognize fourth', 5211), ('warehouse', 9456), ('east', 1026), ('group said', 1485), ('said intended', 6007), ('relocate warehouse', 5370), ('warehouse office', 9457), ('office space', 2859), ('space loudeac', 7317), ('loudeac saint', 1917), ('marcel morvillars', 1985), ('morvillars east', 2198), ('already operates', 93), ('operates hook', 2997), ('manufacturing distribution', 1976), ('prerequisite', 4307), ('receipt', 5175), ('gain', 1415), ('acquire', 26), ('prerequisite inclusion', 4308), ('program receipt', 4686), ('receipt gain', 5176), ('key employee', 1778), ('aspo share', 197), ('share amount', 6752), ('drop', 1012), ('yit baltic', 9963), ('three quarter', 8386), ('quarter totaled', 4979), ('totaled million', 8618), ('representing drop', 5546), ('percent year', 3763), ('year year', 9927), ('pile', 3910), ('delivery includes', 925), ('structure including', 7713), ('steel pile', 7567), ('pile bridge', 3911), ('network market', 2440), ('service site', 6673), ('site long', 7059), ('serving consumer', 6689), ('solution customer', 7260), ('final', 1253), ('transaction subject', 8714), ('subject final', 7740), ('final agreement', 1254), ('company profit', 560), ('tax fell', 8146), ('want', 9449), ('individual', 1653), ('want serve', 9454), ('serve industrial', 6596), ('usd versus', 9107), ('originally', 3197), ('pcmagcom', 3656), ('blog', 313), ('watch', 9479), ('originally posted', 3198), ('posted pcmagcom', 4216), ('pcmagcom security', 3657), ('security blog', 6442), ('security watch', 6453), ('sale euro', 6079), ('responsible sale', 5629), ('sale marketing', 6107), ('year cw', 9894), ('month company', 2158), ('reportable', 5505), ('operates business', 2991), ('two reportable', 8885), ('reportable segment', 5506), ('segment including', 6484), ('service nonlife', 6653), ('stichting', 7579), ('pensioenfonds', 3698), ('stichting pensioenfonds', 7580), ('pensioenfonds abp', 3699), ('share representing', 6835), ('representing share', 5549), ('annual revenue', 143), ('revenue finland', 5728), ('tenant', 8288), ('time investment', 8457), ('several tenant', 6725), ('revenue million', 5733), ('year ended', 9897), ('mwe', 2308), ('output contract', 3275), ('contract total', 671), ('total mwe', 8592), ('underutilisation', 8956), ('reflects underutilisation', 5271), ('underutilisation line', 8957), ('produce nonwovens', 4497), ('nonwovens used', 2633), ('used medical', 9127), ('wipe application', 9717), ('well automotive', 9559), ('sale third', 6150), ('controlling', 691), ('multimediacard', 2276), ('physical', 3897), ('interface', 1691), ('ruutana', 5942), ('system controlling', 8000), ('controlling hard', 693), ('using multimediacard', 9144), ('multimediacard physical', 2277), ('physical interface', 3898), ('ruutana finland', 5943), ('said wednesday', 6042), ('wednesday net', 9532), ('unveils', 9028), ('ivrcl', 1733), ('joint', 1748), ('venture', 9284), ('unveils indian', 9029), ('group kemira', 1475), ('tuesday announced', 8804), ('joint venture', 1749), ('venture india', 9286), ('construction firm', 635), ('seafood', 6385), ('vegetable', 9261), ('grain', 1458), ('segment company', 6479), ('operates frozen', 2996), ('seafood vegetable', 6386), ('vegetable oil', 9262), ('oil business', 2882), ('trading business', 8666), ('accountant', 19), ('washington', 9471), ('well certified', 9562), ('public accountant', 4847), ('washington state', 9473), ('sell bseries', 6517), ('taking', 8063), ('playbook', 4025), ('special', 7326), ('style', 7730), ('tummy', 8820), ('top', 8569), ('course', 836), ('boot', 329), ('taking cue', 8064), ('playbook east', 4026), ('special team', 7330), ('team heavyhitting', 8158), ('style player', 7731), ('player bootcut', 4029), ('tummy top', 8821), ('top course', 8571), ('preempt', 4270), ('zainalabedin', 9990), ('zain', 9988), ('today business', 8499), ('preempt consumer', 4271), ('want said', 9452), ('said mohammed', 6010), ('zainalabedin general', 9991), ('zain bahrain', 9989), ('smarket', 7170), ('responsible hkscan', 5626), ('development group', 952), ('smarket area', 7171), ('readymeal', 5160), ('multinational', 2278), ('business divested', 366), ('offer dairy', 2823), ('readymeal icecream', 5161), ('packaging multinational', 3401), ('multinational local', 2279), ('thyssenkrupp', 8411), ('otis', 3239), ('schindler', 6335), ('twelve', 8865), ('thyssenkrupp united', 8412), ('united technology', 9014), ('technology corp', 8173), ('corp otis', 758), ('otis schindler', 3240), ('schindler ag', 6336), ('oyj total', 3382), ('total mln', 8590), ('twelve year', 8866), ('quarter best', 4939), ('sale operating', 6116), ('normal', 2668), ('seasonal', 6393), ('weakened', 9504), ('normal seasonal', 2669), ('seasonal fluctuation', 6394), ('situation weakened', 7074), ('weakened autumn', 9505), ('affectogenimap', 58), ('customer finland', 860), ('nevertheless', 2457), ('nevertheless market', 2458), ('percent percent', 3752), ('autotank', 229), ('strengthen', 7681), ('also strengthen', 102), ('strengthen aspo', 7682), ('capital structure', 402), ('structure commented', 7711), ('nyberg ceo', 2767), ('stadigh', 7425), ('vicechairman', 9319), ('mr kari', 2242), ('stadigh carry', 7426), ('mr matti', 2245), ('occupancy', 2783), ('occupancy rate', 2784), ('rate sponda', 5103), ('sponda property', 7375), ('property portfolio', 4755), ('portfolio rose', 4165), ('rose pct', 5842), ('pct mln', 3661), ('strong volume', 7705), ('volume favourable', 9394), ('favourable currency', 1232), ('currency effect', 852), ('expertise', 1208), ('operation enable', 3033), ('resource expertise', 5598), ('wireless solution', 9728), ('solution also', 7252), ('strengthen capability', 7683), ('offer industryleading', 2828), ('product customer', 4528), ('tyrvaan', 8904), ('twice', 8867), ('sastamala', 6226), ('tyrvaan sanomat', 8905), ('sanomat published', 6212), ('published twice', 4875), ('twice week', 8868), ('week tyrvaan', 9544), ('sanomat oy', 6211), ('oy appears', 3337), ('sastamala kiikoinen', 6227), ('pct turnover', 3669), ('turnover mln', 8851), ('sell hartwall', 6519), ('whole part', 9661), ('booked', 327), ('total order', 8598), ('value booked', 9194), ('quarter remainder', 4972), ('remainder booked', 5384), ('tamglass', 8095), ('glaston glass', 1438), ('glass processing', 1435), ('processing unit', 4488), ('unit tamglass', 9002), ('tamglass glass', 8096), ('processing manufacturer', 4484), ('manufacturer high', 1972), ('high quality', 1546), ('quality safety', 4934), ('safety glass', 5971), ('glass product', 1436), ('product operates', 4547), ('operates finland', 2993), ('party', 3569), ('party approval', 3571), ('total floor', 8586), ('plant expansion', 3982), ('upon', 9052), ('closure', 486), ('purchase price', 4897), ('upon closure', 9054), ('scheduled april', 6317), ('renesas', 5415), ('wireless modem', 9726), ('unit approximately', 8975), ('transferred renesas', 8739), ('renesas electronics', 5416), ('price amount', 4371), ('nok approximately', 2576), ('price nok', 4386), ('nok eur', 2578), ('meter', 2058), ('preliminary estimation', 4284), ('technology park', 8181), ('park measure', 3491), ('square meter', 7407), ('share dropped', 6776), ('italy', 1729), ('pharmaceutical market', 3866), ('market italy', 2000), ('service published', 6662), ('published recently', 4873), ('recently market', 5204), ('analysis pharmaceutical', 128), ('accounted', 20), ('transported', 8756), ('whereas', 9639), ('industry accounted', 1660), ('accounted percent', 21), ('percent cargo', 3737), ('volume transported', 9406), ('transported whereas', 8757), ('whereas energy', 9640), ('percent industry', 3743), ('oslo', 3222), ('approximately people', 168), ('people helsinki', 3716), ('stockholm copenhagen', 7602), ('copenhagen oslo', 730), ('oslo moscow', 3223), ('moscow luxembourg', 2200), ('attached', 211), ('share held', 6792), ('number outstanding', 2753), ('outstanding share', 3287), ('right attached', 5761), ('attached share', 212), ('share thus', 6856), ('thus amount', 8408), ('vat', 9256), ('yearonye', 9938), ('retailer kesko', 5698), ('today total', 8517), ('total sale', 8602), ('sale excluding', 6080), ('value added', 9190), ('tax vat', 8150), ('vat stood', 9258), ('usd january', 9093), ('lowered', 1920), ('uncertainty', 8938), ('srv lowered', 7412), ('sale estimate', 6077), ('whole due', 9654), ('uncertainty housing', 8939), ('peeling', 3684), ('parquet', 3500), ('layer', 1827), ('veneer', 9279), ('plyfa', 4083), ('peeling line', 3686), ('production parquet', 4579), ('parquet base', 3501), ('veneer plyfa', 9280), ('plyfa hassela', 4084), ('single', 7041), ('multichannel', 2270), ('singlechannel', 7043), ('plus available', 4077), ('single multichannel', 7042), ('multichannel model', 2271), ('volume singlechannel', 9403), ('singlechannel model', 7044), ('volume range', 9400), ('range micro', 5068), ('sum disclosed', 7821), ('simple', 7023), ('policy simple', 4122), ('productional', 4593), ('productional situation', 4594), ('situation improved', 7070), ('value total', 9216), ('insurer', 1685), ('citigroup', 473), ('slashed', 7112), ('par slid', 3479), ('slashed target', 7113), ('target stock', 8132), ('phone communication', 3885), ('jumped', 1759), ('outotec net', 3265), ('profit second', 4651), ('quarter jumped', 4954), ('mln year', 2120), ('building home', 358), ('home improvement', 1568), ('improvement trade', 1618), ('trade net', 8654), ('wellbeing', 9610), ('survey', 7917), ('security solution', 6450), ('solution service', 7275), ('service internet', 6644), ('internet service', 1698), ('provider mobile', 4816), ('mobile operator', 2143), ('operator announced', 3079), ('result annual', 5650), ('online wellbeing', 2975), ('wellbeing survey', 9611), ('order included', 3139), ('quarter order', 4962), ('authentication', 221), ('tectia', 8211), ('sslvpn', 7415), ('sharepoint', 6885), ('secure', 6437), ('signing solution', 7002), ('solution branded', 7256), ('tectia mobileid', 8212), ('provides authentication', 4823), ('web email', 9509), ('sslvpn sharepoint', 7416), ('sharepoint tectia', 6886), ('tectia secure', 8213), ('secure solution', 6438), ('solution application', 7253), ('learning', 1831), ('literature', 1875), ('sanoma learning', 6204), ('learning literature', 1832), ('sanoma decreased', 6201), ('yard', 9880), ('yard cruise', 9881), ('went first', 9624), ('period ac', 3784), ('operated', 2987), ('supported', 7890), ('netact', 2421), ('operated nokia', 2988), ('nokia supported', 2602), ('supported nokia', 7892), ('nokia netact', 2591), ('netact network', 2422), ('network service', 2448), ('service management', 6647), ('management system', 1962), ('six brewery', 7076), ('recorded percent', 5230), ('percent growth', 3741), ('termination', 8312), ('ilkkayhtyma', 1605), ('sale printing', 6123), ('printing business', 4433), ('partly due', 3553), ('termination printing', 8313), ('printing contract', 4435), ('printing house', 4436), ('oy sector', 3351), ('sector player', 6435), ('player hs', 4030), ('printing price', 4439), ('present position', 4315), ('position director', 4181), ('stockmann international', 7615), ('part aspo', 3504), ('aspo system', 198), ('system division', 8007), ('organization', 3180), ('hydrocarbon', 1595), ('particularly', 3545), ('suitable', 7808), ('aviation', 235), ('posted world', 4223), ('world intellectual', 9783), ('property organization', 4753), ('organization present', 3183), ('present invention', 4311), ('relates hydrocarbon', 5328), ('particularly manufacture', 3546), ('suitable aviation', 7809), ('aviation fuel', 236), ('stock aviation', 7593), ('five', 1342), ('ten year', 8287), ('sale seen', 6137), ('seen grown', 6473), ('rmr', 5800), ('ramirent finland', 5053), ('unit machinery', 8990), ('rental company', 5435), ('ramirent oyj', 5055), ('varesvuo', 9237), ('subgroup', 7736), ('caused', 430), ('company reported', 562), ('reported profit', 5517), ('sale varesvuo', 6157), ('varesvuo partner', 9238), ('partner subgroup', 3564), ('subgroup loss', 7737), ('sale program', 6124), ('program production', 4685), ('production subsidiary', 4590), ('subsidiary oy', 7777), ('oy filmiteollisuus', 3341), ('total restructuring', 8600), ('restructuring cost', 5644), ('cost expected', 826), ('expected eur', 1198), ('value two', 9217), ('two contract', 8875), ('zao', 9992), ('moskovia', 2205), ('surrounding', 7913), ('zao yit', 9993), ('yit moskovia', 9971), ('moskovia build', 2206), ('moscow surrounding', 2204), ('surrounding city', 7914), ('slaughtering', 7115), ('cutting', 870), ('slaughterhouse', 7114), ('slaughtering cutting', 7116), ('transferred kauhajoki', 8735), ('ramsey', 5056), ('wait', 9436), ('thousand', 8378), ('oregon', 3172), ('seminar', 6538), ('ramsey wait', 5057), ('wait thousand', 9438), ('thousand oregon', 8379), ('oregon washington', 3173), ('washington guide', 9472), ('others flock', 3234), ('seminar nearly', 6539), ('omena', 2925), ('omena based', 2926), ('southern part', 7311), ('part city', 3508), ('revised', 5746), ('okmetic revised', 2900), ('revised financial', 5747), ('outlook based', 3253), ('tlt saw', 8484), ('saw net', 6262), ('profit jump', 4633), ('ninemonth', 2571), ('profit net', 4641), ('sale ninemonth', 6114), ('ninemonth period', 2572), ('respectively compared', 5612), ('lending', 1843), ('sampo bank', 6177), ('share lending', 6804), ('reported increase', 5512), ('true', 8793), ('turning', 8843), ('better', 290), ('pricing', 4410), ('said seen', 6028), ('seen true', 6476), ('true turning', 8794), ('turning point', 8844), ('point european', 4106), ('steel base', 7559), ('price better', 4372), ('pricing seen', 4412), ('seen carrying', 6472), ('variant', 9239), ('second variant', 6412), ('variant offer', 9240), ('offer complete', 2821), ('selected apartment', 6508), ('quality material', 4932), ('total usd', 8612), ('statement include', 7533), ('statement group', 7532), ('report auditor', 5470), ('report corporate', 5476), ('liquid', 1868), ('pipette', 3916), ('disposable', 984), ('tip', 8470), ('liquid handling', 1869), ('handling product', 1504), ('pipette disposable', 3917), ('disposable tip', 985), ('tip well', 8472), ('well pipette', 9592), ('pipette maintenance', 3918), ('service research', 6667), ('research institution', 5576), ('healthcare industrial', 1520), ('industrial laboratory', 1657), ('focusing', 1363), ('yit celtnieciba', 9965), ('said company', 5989), ('company focusing', 540), ('silicon', 7007), ('wafer', 9427), ('finnish silicon', 1315), ('silicon wafer', 7008), ('wafer manufacturer', 9429), ('okmetic oyj', 2899), ('said swung', 6031), ('month net', 2169), ('subcontractor', 7734), ('reinforced', 5305), ('subcontractor accommodate', 7735), ('steel grc', 7563), ('reinforced concrete', 5306), ('patrick', 3613), ('patrick jeambar', 3614), ('responsible innovation', 5627), ('safety environment', 5970), ('privacy', 4446), ('stonegate', 7625), ('finnish security', 1313), ('security privacy', 6446), ('privacy software', 4447), ('solution developer', 7261), ('developer stonesoft', 949), ('stonesoft oyj', 7632), ('said january', 6008), ('preliminary sale', 4286), ('sale stonegate', 6143), ('stonegate product', 7627), ('product grew', 4533), ('pct yearonyear', 3673), ('yearonyear mln', 9944), ('skf', 7097), ('skf april', 7099), ('buy recommendation', 376), ('recommendation swedish', 5224), ('swedish industrial', 7964), ('skf ab', 7098), ('sto skf', 7590), ('skf share', 7100), ('share price', 6826), ('target sek', 8130), ('necessary', 2374), ('necessary strengthen', 2376), ('strengthen company', 7684), ('operation however', 3039), ('oleg', 2913), ('yankov', 9878), ('manage', 1957), ('moron', 2193), ('vitim', 9366), ('onto', 2976), ('oleg yankov', 2914), ('yankov currently', 9879), ('moron vitim', 2194), ('vitim hold', 9367), ('onto stake', 2977), ('agreement includes', 72), ('support service', 7888), ('shuweihat', 6960), ('shuweihat got', 6961), ('way july', 9499), ('project awarded', 4703), ('power contractor', 4244), ('publishing', 4878), ('wwwcargoteccom', 9838), ('statement release', 7535), ('publishing company', 4879), ('page wwwcargoteccom', 3409), ('ebit excluding', 1031), ('assa', 201), ('abloy', 4), ('kaupthing', 1769), ('gave', 1419), ('lock', 1891), ('assa abloy', 202), ('kaupthing bank', 1770), ('neutral recommendation', 2456), ('recommendation share', 5223), ('target crown', 8122), ('swedish lock', 7967), ('quarter raute', 4971), ('raute net', 5126), ('company brand', 530), ('brand share', 337), ('share data', 6773), ('well distribution', 9570), ('today preliminary', 8513), ('preliminary operating', 4285), ('profit grew', 4625), ('ownership', 3317), ('okmetic board', 2897), ('director also', 975), ('share ownership', 6820), ('ownership program', 3319), ('program directed', 4680), ('top management', 8572), ('sole', 7236), ('sole line', 7237), ('corporation publish', 793), ('statement february', 7530), ('trend sport', 8775), ('sport leisure', 7387), ('month year', 2175), ('nokia nok', 2594), ('said fiveyear', 6000), ('service contract', 6624), ('run hutchison', 5889), ('network operation', 2442), ('operation nine', 3048), ('nine location', 2568), ('competitor', 589), ('future', 1414), ('business segment', 372), ('segment competitor', 6480), ('outlook provided', 3256), ('votorantim', 9417), ('papel', 3449), ('vcp', 9259), ('votorantim celulose', 9418), ('papel vcp', 3450), ('vcp part', 9260), ('part votorantim', 3528), ('votorantim group', 9419), ('remaining share', 5394), ('share owned', 6819), ('owned company', 3302), ('altimo', 106), ('practically', 4262), ('vimpelcom', 9347), ('scheme teliasonera', 6334), ('teliasonera altimo', 8269), ('practically identical', 4263), ('stake vimpelcom', 7455), ('vimpelcom kyivstar', 9348), ('necessary eur', 2375), ('eur company', 1136), ('open', 2980), ('open fall', 2981), ('platform would', 4020), ('would continue', 9804), ('symbian meego', 7981), ('significant capital', 6986), ('resource planning', 5603), ('planning erp', 3970), ('project product', 4722), ('production machine', 4577), ('therefore', 8350), ('seems', 6469), ('subsidy', 7782), ('therefore seems', 8353), ('seems finnish', 6470), ('subsidy need', 7783), ('need order', 2384), ('order new', 3147), ('new lngfuelled', 2478), ('connectivity', 618), ('stand', 7458), ('unit einvoice', 8983), ('number annual', 2742), ('transaction stand', 8713), ('stand nearly', 7460), ('nearly one', 2369), ('one million', 2948), ('surcharge', 7895), ('quarterly applied', 4985), ('surcharge differ', 7896), ('significantly actual', 6997), ('refining', 5261), ('tanker', 8109), ('dealer said', 893), ('said share', 6029), ('share largely', 6803), ('refining margin', 5263), ('usd per', 9100), ('per barrel', 3722), ('quarter performance', 4967), ('performance shipping', 3780), ('shipping unit', 6918), ('unit saw', 8998), ('saw ebit', 6261), ('year amid', 9886), ('volume tanker', 9404), ('tanker rate', 8111), ('veidekke', 9269), ('veidekke headquartered', 9270), ('oslo norway', 3224), ('norway scandinavian', 2693), ('scandinavian construction', 6293), ('property development', 4749), ('norway sweden', 2694), ('sweden denmark', 7946), ('turnover nok', 8852), ('nok bn', 2577), ('financialwire', 1269), ('tm', 8487), ('syndicate', 7985), ('schedule', 6314), ('oefirstalert', 2814), ('financialwire tm', 1270), ('tm cooperation', 8488), ('cooperation investrend', 719), ('syndicate also', 7986), ('provides complete', 4825), ('conference call', 615), ('webcast schedule', 9520), ('schedule service', 6315), ('service shareholder', 6672), ('shareholder investor', 6876), ('via firstalert', 9305), ('tm network', 8490), ('network oefirstalert', 2441), ('oefirstalert tm', 2815), ('tm daily', 8489), ('neomarkka', 2404), ('successor', 7797), ('finnish investment', 1302), ('investment company', 1706), ('neomarkka main', 2407), ('owner kuitu', 3312), ('rantanen', 5076), ('poultry', 4233), ('rantanen previously', 5077), ('previously development', 4360), ('ruokatalo poultry', 5897), ('poultry business', 4234), ('valid', 9182), ('valid four', 9183), ('four year', 1386), ('valueadded', 9218), ('telephone content', 8256), ('valueadded software', 9219), ('software financial', 7213), ('financial service', 1264), ('service security', 6668), ('security application', 6440), ('system integration', 8010), ('trade russia', 8658), ('russia currently', 5905), ('stand four', 7459), ('went yearonyear', 9627), ('nugget', 2739), ('nugget fish', 2740), ('share sell', 6844), ('sell share', 6525), ('peab', 3674), ('peab signed', 3677), ('signed exclusive', 6978), ('rental agreement', 5433), ('swedish market', 7968), ('five year', 1344), ('oka', 2889), ('renovation', 5427), ('nonresidential', 2624), ('oka specialises', 2890), ('specialises new', 7334), ('new construction', 2467), ('renovation work', 5428), ('work residential', 9764), ('residential nonresidential', 5588), ('nonresidential building', 2625), ('well premise', 9594), ('premise industrial', 4293), ('slipped operating', 7134), ('pearl', 3678), ('shanghai', 6745), ('part baltic', 3505), ('baltic pearl', 248), ('pearl development', 3680), ('petersburg baltic', 3848), ('pearl cjsc', 3679), ('subsidiary shanghai', 7781), ('shanghai foreign', 6746), ('operation totalled', 3066), ('compared negative', 580), ('quartal', 4935), ('quartal oy', 4936), ('oy owns', 3348), ('share satama', 6843), ('plc represents', 4053), ('represents per', 5551), ('cent share', 435), ('sale sixmonth', 6141), ('paijathame', 3420), ('shop located', 6931), ('region paijathame', 5281), ('paijathame region', 3421), ('rate increased', 5099), ('nonrecurring expense', 2621), ('recorded third', 5232), ('fabric', 1215), ('core', 744), ('printed fabric', 4431), ('related design', 5319), ('core marimekko', 747), ('nordstjernan make', 2666), ('offer approximately', 2818), ('one month', 2949), ('month september', 2173), ('twig', 8869), ('twig device', 8870), ('tietoenator', 8419), ('rejected', 5311), ('shareholder finnish', 6871), ('provider tietoenator', 4818), ('tietoenator oyj', 8424), ('oyj friday', 3369), ('rejected hostile', 5312), ('offer buyout', 2820), ('shop nordic', 6933), ('nordic capital', 2654), ('new life', 2477), ('possible counter', 4206), ('offer blackstone', 2819), ('norwegian telecom', 2703), ('telecom telenor', 8243), ('quarterly dividend', 4988), ('total capital', 8582), ('capital fund', 400), ('end september', 1079), ('net income', 2413), ('life insurance', 1855), ('mn net', 2133), ('efore', 1043), ('even', 1173), ('result last', 5663), ('quarter showed', 4978), ('showed even', 6954), ('source component', 7294), ('se listed', 6376), ('listed nasdaq', 1871), ('helsinki ltd', 1541), ('ryymin', 5948), ('replace', 5460), ('worked', 9768), ('welfare', 9556), ('ryymin born', 5949), ('replace juhani', 5461), ('worked acting', 9769), ('welfare since', 9557), ('since august', 7031), ('thirdquarter pretax', 8372), ('profit doubled', 4619), ('transaction disclosed', 8702), ('viewing', 9333), ('onwards', 2978), ('wwwsampocomir', 9854), ('proposed member', 4776), ('viewing march', 9334), ('onwards internet', 2979), ('slo', 7136), ('toptronics', 8573), ('normark', 2672), ('suomi', 7842), ('pellonpaja', 3692), ('slo oy', 7137), ('oy kiilto', 3345), ('oy toptronics', 3355), ('toptronics oy', 8574), ('oy normark', 3347), ('normark suomi', 2673), ('suomi oy', 7843), ('oy pellonpaja', 3349), ('pellonpaja oy', 3693), ('oy mansner', 3346), ('michelin', 2069), ('pirelli', 3921), ('paris', 3485), ('stefan', 7574), ('production mainly', 4578), ('plant poland', 3996), ('poland well', 4114), ('well germany', 9575), ('pirelli company', 3922), ('paris stefan', 3487), ('stefan said', 7575), ('phase', 3872), ('two project', 8884), ('project phase', 4720), ('phase expected', 3874), ('said town', 6038), ('town hall', 8642), ('would hold', 9813), ('talk investor', 8074), ('rule', 5882), ('share acquired', 6748), ('section rule', 6422), ('rule nasdaq', 5884), ('rule applicable', 5883), ('payable', 3627), ('deducted', 915), ('payable annually', 3628), ('shall deducted', 6735), ('sale kyro', 6099), ('technology manufacturer', 8178), ('processing machine', 4483), ('mn januaryseptember', 2129), ('republic', 5554), ('profiling', 4609), ('ostrava', 3225), ('relocated', 5371), ('hungary', 1591), ('romania', 5825), ('czech republic', 874), ('republic smaller', 5557), ('smaller profiling', 7167), ('profiling unit', 4610), ('unit ostrava', 8994), ('ostrava closed', 3226), ('relocated ruukki', 5372), ('ruukki bigger', 5929), ('plant hungary', 3990), ('poland romania', 4113), ('romania end', 5826), ('roi', 5819), ('return investment', 5713), ('roi compared', 5820), ('complex', 595), ('total size', 8606), ('size complex', 7094), ('project constructed', 4708), ('seppo', 6565), ('rantakari', 5075), ('outotec deputy', 3264), ('seppo rantakari', 6566), ('subscribed exercising', 7749), ('option stock', 3113), ('polish', 4124), ('polish business', 4125), ('employ people', 1069), ('people net', 3719), ('component supplier', 597), ('supplier scanfil', 7865), ('scanfil oyj', 6303), ('oyj tuesday', 3383), ('tuesday said', 8808), ('operates worldwide', 3005), ('worldwide employ', 9789), ('total approximately', 8579), ('tiimari registered', 8434), ('share per', 6822), ('per today', 3729), ('return equity', 5711), ('stood compared', 7635), ('threeyear', 8394), ('value threeyear', 9215), ('threeyear contract', 8395), ('powder coatingsrelated', 4241), ('operation company', 3028), ('user', 9138), ('late', 1816), ('subscriber base', 7756), ('user december', 9139), ('share number', 6814), ('number customer', 2745), ('teliasonera estimate', 8272), ('apiece', 153), ('company paid', 558), ('paid dividend', 3415), ('eur apiece', 1131), ('profit half', 4627), ('meat fish', 2028), ('fish poultry', 1336), ('poultry market', 4235), ('market finland', 1999), ('quatrocon', 4995), ('builder', 354), ('quatrocon clientele', 4996), ('public sector', 4851), ('sector builder', 6426), ('trading company', 8667), ('stationery', 7545), ('gift', 1430), ('tii', 8426), ('finnish stationery', 1317), ('stationery gift', 7546), ('gift retailer', 1431), ('retailer tiimari', 5700), ('tiimari hel', 8430), ('hel tii', 1533), ('tii said', 8427), ('today continue', 8502), ('operational efficiency', 3069), ('profitable core', 4673), ('core operation', 748), ('proforma', 4674), ('combined company', 504), ('proforma net', 4675), ('kauniskangas', 1767), ('currency rate', 853), ('rate also', 5095), ('sale ceo', 6065), ('kari kauniskangas', 1765), ('end number', 1078), ('number outlet', 2752), ('outlet rise', 3251), ('correspond', 807), ('offer include', 2827), ('share value', 6860), ('value share', 9213), ('share must', 6809), ('must correspond', 2305), ('correspond least', 808), ('tackle', 8033), ('rap', 5080), ('tackle company', 8034), ('rapala vmc', 5088), ('vmc corp', 9369), ('corp hel', 756), ('rap said', 5082), ('wholesaler', 9674), ('oriolakd', 3201), ('wholesaler oriolakd', 9676), ('oriolakd oyj', 3203), ('said october', 6016), ('october named', 2804), ('named anne', 2324), ('president logistics', 4332), ('sourcing department', 7299), ('goodwill', 1450), ('thus group', 8409), ('group balance', 1471), ('sheet eur', 6895), ('goodwill company', 1451), ('company added', 526), ('compensation', 584), ('opinion', 3089), ('compensation news', 585), ('news opinion', 2520), ('opinion distribution', 3091), ('prothious', 4787), ('wwwprothiouscom', 9850), ('prothious engineering', 4788), ('wwwprothiouscom employ', 9851), ('portfolio project', 4164), ('project annual', 4701), ('million per', 2092), ('share compared', 6769), ('profit million', 4639), ('corresponding quarter', 812), ('paper machinery', 3464), ('unit eur', 8985), ('september august', 6572), ('calendar', 383), ('pro', 4458), ('year combined', 9891), ('company eur', 537), ('pro forma', 4459), ('revenue expected', 5727), ('start operation', 7482), ('operation employee', 3032), ('quarteronquarter', 4992), ('ruukki order', 5936), ('yearonyear quarteronquarter', 9945), ('objective', 2777), ('commence', 508), ('objective trading', 2778), ('trading share', 8674), ('share commence', 6767), ('wellness', 9614), ('multifunctional', 2272), ('ice', 1596), ('srv also', 7410), ('park wellness', 3495), ('wellness area', 9615), ('restaurant multifunctional', 5638), ('multifunctional ice', 2273), ('option shareholder', 3112), ('right commence', 5764), ('quarter fiscal', 4951), ('period fiscal', 3794), ('october finnish', 2800), ('rugby', 5878), ('uk head', 8920), ('office rugby', 2855), ('rugby road', 5879), ('road lutterworth', 5804), ('oyj posted', 3375), ('mln compared', 2111), ('compared mln', 579), ('risen', 5787), ('sale risen', 6132), ('risen export', 5788), ('appointment', 159), ('coordinate', 724), ('coordinate capital', 725), ('overall service', 3292), ('service client', 6616), ('week finnish', 9541), ('technology group', 8175), ('plan sell', 3957), ('sell percent', 6523), ('percent technology', 3761), ('technology unit', 8186), ('unit company', 8980), ('strategic goal', 7663), ('world largest', 9784), ('altona', 107), ('stated', 7522), ('tulla', 8816), ('stated private', 7523), ('private company', 4449), ('tulla resource', 8817), ('resource would', 5606), ('would take', 9821), ('take entitlement', 8049), ('ruokatalo target', 5899), ('target know', 8126), ('strike', 7690), ('strike finnair', 7692), ('appointed', 158), ('rosen', 5849), ('plate', 4007), ('quarto', 4993), ('degerfors', 918), ('willich', 9701), ('pressplate', 4340), ('prefab', 4272), ('rosen head', 5850), ('special plate', 7329), ('plate unit', 4011), ('unit includes', 8988), ('quarto plate', 4994), ('unit degerfors', 8981), ('sweden new', 7950), ('new castle', 2462), ('usa unit', 9080), ('unit willich', 9007), ('willich germany', 9702), ('well pressplate', 9595), ('pressplate prefab', 4341), ('prefab avesta', 4273), ('plate service', 4010), ('service centre', 6614), ('nordic degerfors', 2657), ('fourthquarter', 1389), ('stora due', 7641), ('due release', 1017), ('release fourthquarter', 5349), ('profit whole', 4665), ('whole dropped', 9653), ('aluminium', 108), ('period nordic', 3798), ('nordic aluminium', 2651), ('product australia', 4517), ('publish market', 4862), ('multiyear', 2291), ('value multiyear', 9207), ('multiyear agreement', 2292), ('nordea group', 2647), ('yearonyear billion', 9940), ('billion euro', 303), ('total revenue', 8601), ('revenue percent', 5736), ('percent billion', 3736), ('sari', 6222), ('tapio', 8116), ('nomination', 2611), ('remuneration committee', 5407), ('sari baldauf', 6223), ('tapio hintikka', 8117), ('westerlund addition', 9629), ('nomination committee', 2612), ('usually', 9150), ('value kind', 9205), ('order amount', 3124), ('usually euro', 9151), ('surpass', 7909), ('turnover whole', 8855), ('whole surpass', 9665), ('surpass previous', 7910), ('lat', 1815), ('management company', 1961), ('company lassila', 545), ('said monday', 6011), ('whole slightly', 9664), ('slightly lower', 7127), ('wire', 9720), ('width', 9694), ('wire width', 9721), ('width design', 9695), ('speed mmin', 7360), ('produce close', 4494), ('tonne folding', 8549), ('worth eur', 9795), ('surveyed', 7918), ('surveyed thomson', 7919), ('vianor', 9313), ('vianor sell', 9315), ('sell tire', 6528), ('tire car', 8474), ('truck well', 8792), ('well range', 9598), ('range car', 5061), ('part provides', 3518), ('provides maintenance', 4830), ('eaton', 1028), ('mr doring', 2237), ('since acted', 7029), ('unit manager', 8991), ('power control', 4245), ('unit since', 9000), ('since january', 7033), ('documentation', 1001), ('part agreement', 3503), ('transfer dokumentori', 8722), ('six investment', 7079), ('russia capman', 5904), ('public market', 4849), ('team fund', 8156), ('process managing', 4468), ('supply chain', 7870), ('region company', 5279), ('tikkakoski', 8441), ('tikkakoski company', 8442), ('swedish operation', 7969), ('operation significantly', 3061), ('significantly improved', 6998), ('month compared', 2159), ('euro period', 1165), ('million compared', 2080), ('solar', 7223), ('okmetic used', 2902), ('used furnace', 9123), ('solar crystal', 7224), ('stockmann committed', 7610), ('street build', 7676), ('underground tunnel', 8947), ('tunnel crossing', 8823), ('transferring swedish', 8742), ('swedish business', 7959), ('operate branch', 2984), ('branch office', 334), ('office operation', 2850), ('operation would', 3067), ('would governed', 9811), ('oil corporation', 2883), ('corporation refining', 795), ('refining operation', 5264), ('operation asset', 3025), ('asset summary', 205), ('summary report', 7825), ('report summary', 5503), ('summary neste', 7824), ('report essential', 5480), ('source company', 7293), ('data information', 882), ('market poland', 2002), ('poland global', 4111), ('time profit', 8459), ('profit company', 4615), ('secondgeneration', 6413), ('called', 385), ('moorestown', 2181), ('platform based', 4017), ('secondgeneration mid', 6414), ('platform called', 4018), ('registration april', 5293), ('seeder', 6465), ('twoday', 8893), ('visit', 9357), ('sirkkaliisa', 7054), ('seeder finland', 6466), ('twoday visit', 8894), ('visit course', 9358), ('sirkkaliisa anttila', 7055), ('outotec said', 3267), ('said new', 6013), ('order worth', 3160), ('profit kauppalehti', 4635), ('institutional', 1682), ('huhtamaki oyj', 1588), ('oyj stock', 3381), ('release huhtamaki', 5350), ('september starting', 6584), ('starting pm', 7504), ('pm finnish', 4090), ('saving rise', 6256), ('rise mln', 5784), ('year oko', 9911), ('oko said', 2905), ('harvester', 1511), ('product portfolio', 4549), ('portfolio comprises', 4159), ('well crane', 9567), ('plywood', 4085), ('plywood mill', 4086), ('said statement', 6030), ('statement received', 7534), ('received lesprom', 5184), ('renewing', 5421), ('order related', 3151), ('related renewing', 5325), ('renewing network', 5422), ('network telecommunication', 2450), ('telecommunication operator', 8251), ('trained', 8692), ('paintshop', 3426), ('trained paintshop', 8693), ('paintshop owner', 3427), ('owner assistant', 3311), ('quarter yearearlier', 4981), ('yearearlier profit', 9932), ('technical service', 8165), ('service measure', 6649), ('quarter orion', 4964), ('orion net', 3209), ('share based', 6758), ('right granted', 5768), ('tyrvinen', 8906), ('repeating', 5458), ('tyrvinen opinion', 8907), ('opinion airline', 3090), ('repeating time', 5459), ('time already', 8450), ('please', 4060), ('tomi', 8534), ('october ssh', 2808), ('security corp', 6443), ('corp board', 752), ('please contact', 4061), ('tomi laamanen', 8535), ('tel distribution', 8229), ('distribution nasdaq', 988), ('parking', 3496), ('project also', 4700), ('underground parking', 8945), ('parking lot', 3497), ('newpage', 2504), ('move stora', 2226), ('newpage remain', 2506), ('tanqia', 8112), ('dibba', 959), ('ownerengineer', 3315), ('wastewater', 9477), ('uae', 8910), ('poyry plc', 4260), ('plc omx', 4050), ('wednesday october', 9534), ('october awarded', 2797), ('tanqia dibba', 8113), ('ownerengineer wastewater', 3316), ('wastewater system', 9478), ('system dibba', 8006), ('purchase remain', 4898), ('remain mn', 5376), ('signal', 6971), ('permit', 3811), ('round', 5855), ('need clear', 2379), ('signal commitment', 6972), ('permit available', 3812), ('start next', 7481), ('next round', 2542), ('round kuula', 5856), ('qualcomm', 4927), ('certain', 443), ('qualcomm estimated', 4928), ('profit cent', 4614), ('share excluding', 6783), ('print', 4427), ('morna', 2191), ('coowner', 726), ('move say', 2225), ('say morna', 6275), ('morna cowie', 2192), ('coowner double', 727), ('size current', 7095), ('shop lovely', 6932), ('metsaliitto', 2063), ('sell million', 6520), ('million share', 2095), ('share neomarkka', 6811), ('neomarkka accounting', 2405), ('pct neomarkka', 3662), ('neomarkka equity', 2406), ('pct voting', 3670), ('oborniki', 2781), ('sandwich', 6195), ('said poland', 6022), ('poland profitability', 4112), ('profitability program', 4670), ('program launched', 4682), ('oborniki steel', 2782), ('steel frame', 7562), ('sandwich panel', 6196), ('panel plant', 3437), ('relatively', 5339), ('scandinavia', 6289), ('volume food', 9395), ('remain relatively', 5379), ('relatively good', 5340), ('scandinavia atrium', 6290), ('implemented', 1611), ('reduction implemented', 5252), ('secondquarter', 6417), ('tietoenator pct', 8425), ('pct extending', 3660), ('recent low', 5196), ('week secondquarter', 9543), ('secondquarter report', 6418), ('report dealer', 5477), ('number joint', 2748), ('office total', 2860), ('ton light', 8543), ('six ship', 7082), ('ship construction', 6904), ('quarter final', 4950), ('upgrade', 9032), ('network said', 2445), ('today contract', 8503), ('upgrade radio', 9034), ('radio network', 5015), ('network homebased', 2436), ('telecommunication company', 8249), ('oyj reported', 3377), ('reported net', 5515), ('agreed', 68), ('party agreed', 3570), ('agreed disclose', 69), ('price deal', 4376), ('said press', 6023), ('tripled', 8782), ('soaring', 7196), ('proceeds', 4462), ('outokumpu said', 3260), ('said fourthquarter', 6003), ('profit tripled', 4661), ('tripled back', 8783), ('steel soaring', 7570), ('soaring base', 7197), ('price proceeds', 4392), ('proceeds sale', 4463), ('sale technology', 6148), ('summer', 7827), ('scheduled summer', 6325), ('summer autumn', 7828), ('vintage', 9349), ('coffee', 498), ('pot', 4226), ('ceramic', 442), ('dish', 982), ('vintage fabric', 9350), ('pot ceramic', 4227), ('serving dish', 6690), ('steel party', 7566), ('party dish', 3572), ('threeday', 8388), ('stock rose', 7599), ('rose third', 5845), ('third day', 8363), ('tuesday bringing', 8805), ('threeday rise', 8389), ('rise gbx', 5783), ('mreal', 2251), ('mreal sale', 2254), ('sale expected', 6081), ('increased yearonyear', 1644), ('plastic', 4004), ('plastic product', 4006), ('product maker', 4544), ('narrowed mln', 2332), ('plot', 4068), ('ratasmaki', 5092), ('purchased', 4901), ('forssa', 1380), ('sq plot', 7402), ('plot plant', 4069), ('ratasmaki business', 5093), ('park purchased', 3492), ('purchased city', 4902), ('city forssa', 475), ('october upm', 2810), ('upm reported', 9045), ('reported thirdquarter', 5518), ('pkc', 3929), ('pkc acquisition', 3930), ('would bring', 9802), ('significant addition', 6984), ('pkc customer', 3931), ('reimbursed', 5303), ('reimbursed according', 5304), ('alpina', 91), ('ski', 7101), ('pole', 4115), ('wax', 9495), ('peltonen', 3694), ('crosscountry', 846), ('sport lebanon', 7386), ('new hampshire', 2474), ('usa based', 9073), ('ski shoe', 7104), ('shoe ski', 6926), ('ski exel', 7102), ('ski pole', 7103), ('pole start', 4117), ('start ski', 7487), ('ski wax', 7105), ('wax also', 9496), ('peltonen crosscountry', 3695), ('hong', 1569), ('kong', 1789), ('transaction planned', 8707), ('planned financed', 3963), ('hong kong', 1570), ('organize', 3184), ('wtc', 9833), ('served', 6599), ('tekla organize', 8223), ('organize information', 3185), ('wtc helsinki', 9834), ('room aleksanterinkatu', 5832), ('pm light', 4092), ('tiimari operates', 8432), ('operates store', 3004), ('store six', 7651), ('six country', 7078), ('core finnish', 746), ('remainder revenue', 5386), ('revenue come', 5725), ('technology agreement', 8169), ('company part', 559), ('part tietoenator', 3525), ('tietoenator business', 8421), ('soapstone', 7191), ('tulikivi', 8812), ('reserve', 5580), ('soapstone deposit', 7193), ('area expected', 179), ('expected increase', 1199), ('tulikivi current', 8814), ('reserve considerably', 5581), ('position manty', 4186), ('worked since', 9770), ('discussion', 981), ('municipality concerning', 2298), ('sale water', 6159), ('water industrial', 9482), ('poser', 4177), ('poser want', 4178), ('want impress', 9451), ('people latest', 3717), ('founder', 1383), ('seller founder', 6532), ('report first', 5483), ('quarter published', 4970), ('published may', 4872), ('power generated', 4247), ('yit net', 9972), ('report oriolakd', 5493), ('oriolakd chief', 3202), ('officer eero', 2865), ('startup', 7506), ('commissioning', 515), ('also includes', 98), ('startup commissioning', 7507), ('negotiation address', 2395), ('needed adjust', 2387), ('operation present', 3052), ('present production', 4316), ('production situation', 4587), ('initial', 1672), ('offer customer', 2822), ('customer solution', 864), ('solution based', 7255), ('renewable raw', 5420), ('production level', 4574), ('producer long', 4506), ('time ago', 8449), ('consumption lead', 651), ('studying', 7727), ('studying feasibility', 7728), ('processed meat', 4477), ('production vantaa', 4592), ('vantaa facility', 9231), ('processing fresh', 4482), ('walking', 9443), ('stick', 7581), ('radome', 5016), ('product industrial', 4536), ('nordic walking', 2663), ('walking pole', 9444), ('pole floorball', 4116), ('stick antenna', 7582), ('trade sale', 8659), ('packed', 3404), ('product manufactured', 4545), ('packed country', 3405), ('metsabotnia', 2062), ('repayment', 5450), ('divestment', 993), ('pohjolan', 4101), ('voima', 9381), ('utilising', 9152), ('payment dividend', 3637), ('repayment capital', 5451), ('repurchase share', 5562), ('share fund', 6787), ('uruguay operation', 9068), ('operation share', 3060), ('share pohjolan', 6824), ('pohjolan voima', 4103), ('voima utilising', 9382), ('utilising existing', 9153), ('januarymarch', 1740), ('incap corporation', 1625), ('corporation stock', 801), ('pm invitation', 4091), ('news conference', 2511), ('report incap', 5486), ('publish interim', 4861), ('report januarymarch', 5489), ('wednesday may', 9531), ('rail', 5029), ('lahti', 1797), ('road near', 5805), ('near new', 2364), ('new direct', 2471), ('rail link', 5030), ('promise', 4739), ('promise sufficient', 4740), ('sufficient amount', 7804), ('weak', 9502), ('sale eaten', 6076), ('weak dollar', 9503), ('vodafone', 9372), ('say brian', 6267), ('security vodafone', 6452), ('vodafone uk', 9374), ('next four', 2541), ('year within', 9926), ('within range', 9738), ('range eur', 5064), ('revenue slightly', 5739), ('slightly ac', 7125), ('raised net', 5038), ('sale growth', 6089), ('result month', 5667), ('month period', 2170), ('period decreased', 3790), ('turnover decreased', 8848), ('advertising', 51), ('circulation', 471), ('circulation revenue', 472), ('talentum expects', 8067), ('sale core', 6070), ('core business', 745), ('period representing', 3801), ('million passenger', 2091), ('passenger flew', 3586), ('sharply', 6889), ('afternoon', 60), ('surprise', 7911), ('overshadowed', 3296), ('financial share', 1265), ('share cargotec', 6763), ('sharply early', 6891), ('early afternoon', 1022), ('afternoon trade', 61), ('trade cargo', 8648), ('posted surprise', 4221), ('surprise drop', 7912), ('profit overshadowed', 4644), ('overshadowed large', 3297), ('order received', 3150), ('received three', 5189), ('year dividend', 9895), ('tlcom', 8478), ('spent', 7361), ('pellissier', 3690), ('tlcom spent', 8479), ('spent time', 7362), ('time studying', 8463), ('studying teliasonera', 7729), ('teliasonera potential', 8276), ('potential takeover', 4232), ('takeover target', 8062), ('target shareholder', 8131), ('shareholder want', 6882), ('want sell', 9453), ('sell pellissier', 6522), ('pellissier said', 3691), ('value maritim', 9206), ('outotec delivery', 3263), ('engineering supply', 1089), ('supply construction', 7871), ('plant capacity', 3976), ('ton alumina', 8541), ('format', 1378), ('basware business', 273), ('business transaction', 373), ('transaction service', 8712), ('service enables', 6634), ('enables customer', 1075), ('customer receive', 863), ('receive send', 5181), ('send invoice', 6541), ('invoice electronic', 1719), ('electronic format', 1056), ('nordea cheapest', 2643), ('new name', 2484), ('name sanoma', 2320), ('sanoma division', 6202), ('sanoma news', 6206), ('outsourced', 3280), ('scan', 6287), ('outsourced scan', 3282), ('scan capture', 6288), ('transfer paper', 8728), ('paper invoice', 3462), ('raute reported', 5130), ('reported loss', 5513), ('share option', 6817), ('right plan', 5770), ('plan packaging', 3955), ('packaging company', 3397), ('reported monday', 5514), ('share company', 6768), ('subscription option', 7762), ('pleased', 4064), ('negotiating', 2392), ('productive', 4597), ('pleased effort', 4065), ('negotiating team', 2393), ('team look', 8159), ('productive four', 4598), ('year ahead', 9884), ('reported turnover', 5521), ('ruukki forecast', 5933), ('positive pretax', 4198), ('pretax result', 4348), ('taxpayer', 8151), ('filed', 1251), ('revenue service', 5738), ('service see', 6669), ('see percent', 6460), ('percent taxpayer', 3760), ('taxpayer wait', 8152), ('wait last', 9437), ('two week', 8891), ('week file', 9540), ('return filed', 5712), ('total traffic', 8611), ('traffic decreased', 8681), ('decreased term', 912), ('term revenue', 8302), ('require', 5566), ('copy', 734), ('custom', 856), ('version require', 9293), ('require hour', 5567), ('copy customized', 735), ('order portfolio', 3148), ('portfolio decreased', 4161), ('tulevaisuus', 8810), ('newspaper maaseudun', 2529), ('tulevaisuus reader', 8811), ('reader representing', 5157), ('representing decrease', 5545), ('young', 9982), ('young independent', 9983), ('working closely', 9777), ('several retailer', 6723), ('retailer including', 5697), ('usa market', 9076), ('wholesale club', 9669), ('rutav', 5925), ('corporation omx', 789), ('rutav issued', 5926), ('tuesday september', 8809), ('september profit', 6582), ('warning financial', 9462), ('financial year', 1268), ('calculates', 382), ('rvr', 5944), ('unit collect', 8979), ('rvr value', 5945), ('value provides', 9211), ('provides data', 4827), ('user via', 9141), ('via various', 9312), ('various interface', 9247), ('revenue quarter', 5737), ('totaled billion', 8616), ('bbl', 278), ('year bbl', 9887), ('product operating', 4548), ('operating finland', 3010), ('rainbow', 5031), ('trout', 8787), ('shad', 6730), ('perch', 3769), ('red head', 5239), ('rainbow trout', 5032), ('trout giant', 8788), ('shad rap', 6731), ('rap perch', 5081), ('perch color', 3770), ('visitor', 9360), ('silver', 7009), ('participant book', 3531), ('special event', 7328), ('visitor car', 9361), ('silver fourdoor', 7010), ('sale power', 6121), ('plant business', 3975), ('finnishswedish', 1322), ('tietoenator expanding', 8422), ('quickly russia', 5000), ('strengthens', 7688), ('strengthens longterm', 7689), ('partnership nokia', 3568), ('qa', 4921), ('qa session', 4922), ('session give', 6692), ('public already', 4848), ('consensus', 619), ('share higher', 6793), ('transportation', 8751), ('conducted', 613), ('rock', 5813), ('transportation business', 8752), ('rock tank', 5814), ('tank line', 8108), ('southeastern transportation', 7308), ('transportation company', 8753), ('motor carrier', 2212), ('total million', 8589), ('solidium', 7243), ('structure solidium', 7718), ('solidium may', 7244), ('tulikivi manufacture', 8815), ('soapstone ceramic', 7192), ('well natural', 9584), ('natural stone', 2349), ('stone product', 7623), ('product utility', 4563), ('utility ceramic', 9156), ('strengthen ruukki', 7685), ('ruukki offshore', 5935), ('offshore business', 2876), ('resulted', 5681), ('significant change', 6987), ('resulted significant', 5682), ('significant reduction', 6994), ('reduction estimated', 5251), ('transaction expected', 8703), ('unibrew', 8962), ('owned denmark', 3303), ('royal unibrew', 5863), ('unibrew raised', 8963), ('raised market', 5037), ('share percent', 6823), ('percent beer', 3735), ('sale seven', 6139), ('seven month', 6712), ('month jumped', 2166), ('undertaken', 8954), ('oriented', 3191), ('undertaken existing', 8955), ('oriented unit', 3192), ('unit eou', 8984), ('wartsila factory', 9468), ('near mumbai', 2363), ('slowed', 7147), ('crisis', 845), ('slowed due', 7148), ('financial crisis', 1259), ('quarterly diluted', 4987), ('globe', 1442), ('wwwglobesonlinecom', 9841), ('publisher', 4876), ('published globe', 4870), ('online israel', 2973), ('news wwwglobesonlinecom', 2524), ('wwwglobesonlinecom november', 9842), ('november copyright', 2725), ('copyright globe', 741), ('publisher itonut', 4877), ('status', 7549), ('reason st', 5171), ('petersburg status', 3853), ('status capital', 7551), ('one participant', 2950), ('participant meeting', 3532), ('quoted chikunov', 5006), ('seat', 6395), ('rpk went', 5868), ('went capacity', 9621), ('available seat', 233), ('seat kilometre', 6397), ('architecture', 175), ('electrical', 1051), ('petrochemical', 3857), ('catering', 426), ('household', 1582), ('serf customer', 6588), ('customer various', 865), ('various industry', 9246), ('industry including', 1662), ('including process', 1634), ('process resource', 4474), ('resource industrial', 5600), ('industrial machinery', 1658), ('machinery architecture', 1930), ('architecture building', 176), ('construction electrical', 633), ('electrical transportation', 1052), ('transportation electronics', 8755), ('electronics chemical', 1058), ('chemical petrochemical', 463), ('petrochemical energy', 3858), ('energy information', 1083), ('technology well', 8187), ('well catering', 9561), ('catering household', 427), ('coming', 507), ('lost eur', 1914), ('paris coming', 3486), ('income increased', 1637), ('theme', 8347), ('osaka', 3216), ('uk public', 8923), ('sector official', 6433), ('official airline', 2869), ('osaka japan', 3217), ('well flight', 9574), ('uk helsinki', 8921), ('transfer employee', 8724), ('within engineering', 9734), ('related delivery', 5318), ('product maintenance', 4542), ('stockmann shopping', 7619), ('shopping mall', 6937), ('subsidiary finland', 7772), ('previously grimaldi', 4362), ('pct stake', 3668), ('stake finnish', 7442), ('september finnish', 6575), ('remained weak', 5390), ('price would', 4407), ('would around', 9801), ('scanfil plc', 6304), ('plc global', 4042), ('manufacturer system', 1974), ('supplier communication', 7858), ('communication industrial', 519), ('industrial electronics', 1656), ('group sale', 1486), ('rapala said', 5086), ('said estimate', 5998), ('saving mln', 6254), ('year centralising', 9889), ('operation one', 3051), ('one site', 2952), ('underperform', 8950), ('upmkymmene upgraded', 9050), ('upgraded inline', 9037), ('underperform goldman', 8951), ('associated', 207), ('result also', 5649), ('cost associated', 820), ('operation china', 3027), ('mostar', 2207), ('said technology', 6033), ('unit mln', 8993), ('mostar upgrade', 2208), ('upgrade anode', 9033), ('year raute', 9917), ('raute expects', 5124), ('sale investment', 6095), ('receive pct', 5180), ('pct equity', 3659), ('aluminum', 109), ('washable', 9469), ('shade', 6732), ('white', 9647), ('pistachio', 3925), ('washable shade', 9470), ('shade come', 6733), ('white pistachio', 9648), ('pistachio orange', 3926), ('orange blue', 3120), ('targeted', 8135), ('phone targeted', 3893), ('targeted first', 8136), ('time user', 8464), ('user growth', 9140), ('ebitda', 1032), ('million ebitda', 2081), ('publ', 4844), ('publ hold', 4845), ('mursula', 2299), ('tried', 8780), ('mursula said', 2300), ('said tried', 6039), ('tried gather', 8781), ('perspective see', 3838), ('see malaysia', 6457), ('le', 1828), ('pension', 3700), ('ten people', 8285), ('people face', 3713), ('pension agreement', 3701), ('total delivery', 8583), ('volume paper', 9399), ('paper business', 3454), ('tonne tonne', 8555), ('premedia', 4287), ('nonrecurring cost', 2620), ('cost caused', 821), ('talentum premedia', 8071), ('premedia business', 4288), ('restructuring amount', 5642), ('result second', 5673), ('timetable', 8465), ('transaction timetable', 8716), ('timetable name', 8466), ('name new', 2319), ('new investor', 2475), ('within one', 9737), ('one week', 2957), ('quarter mln', 4957), ('offsetprinting', 2873), ('set service', 6701), ('printing printing', 4440), ('printing preparation', 4438), ('preparation offsetprinting', 4302), ('offsetprinting aftertreatment', 2874), ('service send', 6671), ('send service', 6543), ('seinajoki', 6494), ('raahe', 5009), ('welding', 9554), ('contract also', 664), ('wagon part', 9432), ('part ruukki', 3521), ('ruukki steel', 5939), ('seinajoki raahe', 6495), ('raahe southwestern', 5010), ('southwestern finland', 7313), ('vr welding', 9424), ('welding assembly', 9555), ('succeed', 7786), ('succeed krister', 7787), ('quarter fell', 4949), ('compared year', 583), ('removal', 5404), ('type', 8895), ('url', 9065), ('browser', 352), ('wrote', 9831), ('rik', 5778), ('need malware', 2382), ('removal tool', 5405), ('tool type', 8566), ('type url', 8898), ('url vendor', 9066), ('vendor choice', 9274), ('use link', 9113), ('website wrote', 9526), ('wrote trend', 9832), ('rik ferguson', 5779), ('new partnership', 2490), ('partnership agreement', 3566), ('represents significant', 5553), ('significant milestone', 6991), ('reporting period', 5528), ('period company', 3788), ('company operating', 554), ('annual production', 141), ('production capacity', 4570), ('million tonne', 2096), ('tonne paper', 8551), ('paper tonne', 3471), ('tonne pulp', 8554), ('vacon signed', 9176), ('signed significant', 6982), ('significant deal', 6988), ('norwegian scandinavian', 2701), ('scandinavian electric', 6294), ('system supply', 8026), ('supply ac', 7869), ('nordalu', 2636), ('nordalu producing', 2637), ('producing ton', 4513), ('ton liquid', 8544), ('solid aluminum', 7241), ('waste per', 9476), ('per year', 3730), ('viewed', 9330), ('english', 1090), ('viewed company', 9331), ('website english', 9524), ('mp', 2232), ('snapper', 7185), ('nothing', 2710), ('purchase mp', 4894), ('mp snapper', 2233), ('snapper nothing', 7186), ('nothing else', 2711), ('loss amounted', 1903), ('value property', 9210), ('portfolio doubled', 4162), ('result kapiteeli', 5662), ('osuuskunta', 3227), ('voimatel', 9383), ('tulikivi corporation', 8813), ('corporation also', 775), ('corporation jrvisuomen', 787), ('portti osuuskunta', 4174), ('osuuskunta osuuskunta', 3229), ('osuuskunta kpy', 3228), ('profile vehicle', 4608), ('vehicle oy', 9265), ('oy voimatel', 3357), ('voimatel oy', 9384), ('mr jortikka', 2241), ('president base', 4327), ('oyj finland', 3367), ('executive committee', 1186), ('second major', 6406), ('owner venture', 3314), ('venture capital', 9285), ('panostaja disclose', 3441), ('tamil', 8097), ('nadu', 2309), ('salcomp charger', 6053), ('plant india', 3991), ('nokia telecom', 2604), ('telecom park', 8241), ('park state', 3494), ('state tamil', 7519), ('tamil nadu', 8098), ('nadu eastern', 2310), ('part india', 3515), ('profit improve', 4629), ('mode', 2148), ('coop', 712), ('splitscreen', 7367), ('multiplayer', 2280), ('coop tournament', 713), ('tournament player', 8636), ('player splitscreen', 4033), ('splitscreen multiplayer', 7368), ('multiplayer mode', 2281), ('player much', 4032), ('much fun', 2263), ('would actually', 9799), ('share well', 6865), ('share information', 6797), ('stripy', 7696), ('wood lacquered', 9752), ('stripy handcrocheted', 7697), ('equipped', 1110), ('control system', 680), ('upmkymmene said', 9048), ('said indicated', 6006), ('multistorey', 2289), ('includes installation', 1631), ('installation work', 1679), ('work new', 9762), ('new multistorey', 2483), ('multistorey carpark', 2290), ('operating income', 3011), ('police', 4118), ('ponzi', 4140), ('police fire', 4119), ('pension billion', 3702), ('ponzi scheme', 4141), ('warehousing', 9458), ('onetenth', 2961), ('preceding', 4264), ('retailer wholesaler', 5701), ('wholesaler grain', 9675), ('warehousing machinery', 9459), ('onetenth preceding', 2962), ('preceding year', 4265), ('volume investment', 9397), ('two phase', 8882), ('phase project', 3878), ('project estimated', 4713), ('original', 3193), ('original name', 3195), ('name componenta', 2316), ('subsidiary finnish', 7773), ('seen growth', 6474), ('tekla group', 8221), ('result million', 5666), ('product technology', 4560), ('technology supplier', 8185), ('supplier raute', 7864), ('raute oyj', 5127), ('rutav said', 5927), ('period stock', 3805), ('option april', 3102), ('train', 8690), ('reaching', 5150), ('vostochny', 9410), ('train expected', 8691), ('russian territory', 5923), ('territory day', 8317), ('reaching vostochny', 5151), ('vostochny port', 9411), ('renovate', 5425), ('paperboard', 3473), ('vaahto pulp', 9165), ('paper finnish', 3460), ('order renovate', 3152), ('renovate finnishswedish', 5426), ('paperboard machine', 3474), ('position russian', 4190), ('russian metal', 5920), ('valued usd', 9224), ('year stock', 9922), ('scheme published', 6333), ('release march', 5351), ('sep', 6555), ('unnamed', 9022), ('news sep', 2522), ('sep finnish', 6556), ('today usd', 8519), ('order deliver', 3133), ('stonegate network', 7626), ('network security', 2446), ('security product', 6447), ('product unnamed', 4561), ('unnamed russian', 9023), ('production scheduled', 4586), ('start end', 7475), ('end april', 1077), ('sustainability', 7920), ('section also', 6421), ('sustainability report', 7921), ('proposes', 4777), ('proposes following', 4778), ('remuneration monthly', 5410), ('monthly remuneration', 2178), ('remuneration eur', 5408), ('chairman eur', 449), ('mti', 2256), ('lay', 1826), ('pecs', 3682), ('zoltan', 9999), ('mti finnish', 2257), ('worker plant', 9773), ('plant pecs', 3995), ('pecs hungary', 3683), ('september falling', 6573), ('order communication', 3129), ('unit zoltan', 9009), ('told mti', 8527), ('mti monday', 2258), ('nokiabranded', 2605), ('product advisory', 4516), ('nokiabranded battery', 2606), ('lifting', 1860), ('finnish lifting', 1304), ('lifting equipment', 1861), ('maker konecranes', 1950), ('omx kcr', 2931), ('nonfood', 2615), ('rukax', 5880), ('scantukka', 6312), ('operating retail', 3017), ('retail chain', 5684), ('store controlled', 7646), ('nonfood center', 2616), ('rukax oy', 5881), ('oy scantukka', 3350), ('scantukka oy', 6313), ('priced', 4408), ('reuters', 5717), ('sampo housing', 6179), ('unit finland', 8986), ('priced eur', 4409), ('reuters reported', 5720), ('strand', 7657), ('civil', 478), ('wisconsin', 9730), ('ohio', 2879), ('strand associate', 7658), ('provides civil', 4824), ('transportation electrical', 8754), ('engineering service', 1088), ('service employee', 6633), ('office wisconsin', 2862), ('wisconsin alabama', 9731), ('vap', 9235), ('vap antibody', 9236), ('increasing', 1645), ('turnover surged', 8854), ('surged eur', 7907), ('service demand', 6630), ('quarter overall', 4965), ('overall growth', 3289), ('sold share', 7234), ('share million', 6808), ('supplier componenta', 7859), ('wave', 9493), ('card', 411), ('front', 1399), ('touch', 8627), ('wave card', 9494), ('reader make', 5156), ('payment similar', 3639), ('similar touch', 7017), ('touch go', 8628), ('used transport', 9136), ('transport system', 8749), ('upon establishment', 9056), ('plan directed', 3951), ('party therefore', 3573), ('therefore agreed', 8351), ('pound', 4236), ('sport direct', 7383), ('sold pc', 7230), ('pc stake', 3651), ('stake company', 7440), ('pound time', 4238), ('time float', 8453), ('sale threemonth', 6152), ('jukka', 1755), ('ruuska', 5940), ('plc press', 4052), ('ruuska president', 5941), ('president omx', 4333), ('omx nordic', 2933), ('stockholm stock', 7605), ('transfer capman', 8721), ('whole fiscal', 9657), ('year lower', 9908), ('profit estimated', 4620), ('record', 5225), ('record date', 5226), ('maturity', 2016), ('societe', 7204), ('vridi', 9425), ('setv', 6707), ('coast', 492), ('terminal societe', 8310), ('societe dexploitation', 7205), ('terminal de', 8306), ('vridi setv', 9426), ('setv abidjan', 6708), ('start march', 7479), ('payment date', 3636), ('tag', 8036), ('stockmann department', 7611), ('store total', 7652), ('space square', 7319), ('stockmann investment', 7616), ('project price', 4721), ('price tag', 4403), ('tag eur', 8037), ('walden', 9439), ('mr walden', 2250), ('walden mr', 9440), ('mr ignatius', 2239), ('responsible also', 5621), ('newspaper business', 2527), ('korean', 1791), ('service support', 6678), ('support ten', 7889), ('ten different', 8283), ('prior transaction', 4443), ('transaction whose', 8718), ('whose financial', 9685), ('financial term', 1267), ('term disclosed', 8297), ('owned kotikokki', 3305), ('market belgium', 1995), ('stonesoft affect', 7629), ('range content', 5062), ('per lowest', 3726), ('price criterion', 4375), ('spinoff', 7363), ('oriolakd spinoff', 3204), ('spinoff finnish', 7364), ('orion oyj', 3210), ('oyj wholesale', 3385), ('wholesale division', 9670), ('new ceo', 2463), ('place later', 3935), ('participate', 3534), ('participate via', 3535), ('via conference', 9304), ('please dial', 4062), ('return capital', 5710), ('rose percentage', 5844), ('rating stock', 5107), ('stock differ', 7594), ('scanfil net', 6302), ('sale stood', 6144), ('scanfil also', 6298), ('profit group', 4626), ('diagnostic', 957), ('product diagnostic', 4531), ('diagnostic test', 958), ('test system', 8328), ('system maker', 8012), ('biohit oyj', 305), ('today may', 8510), ('probably', 4460), ('shell', 6897), ('offering probably', 2840), ('probably made', 4461), ('valuation partly', 9188), ('partly derives', 3552), ('stock market', 7597), ('marathon', 1983), ('protalix', 4785), ('value remaining', 9212), ('remaining stake', 5395), ('stake protalix', 7448), ('protalix million', 4786), ('controlling function', 692), ('nordea see', 2649), ('see return', 6462), ('return positive', 5715), ('positive growth', 4196), ('making', 1954), ('matter', 2014), ('pushed', 4908), ('said grappling', 6005), ('price pushed', 4393), ('pushed cost', 4909), ('cost energy', 825), ('year net', 9910), ('plccompany', 4058), ('pursuant', 4904), ('poyry plccompany', 4261), ('plccompany announcement', 4059), ('pm pursuant', 4093), ('pursuant poyry', 4905), ('plc stock', 4056), ('program new', 4684), ('subscribed since', 7753), ('since october', 7036), ('october stock', 2809), ('price kroon', 4383), ('par value', 3480), ('value bond', 9193), ('primary issue', 4421), ('far', 1228), ('personally', 3828), ('share owns', 6821), ('owns personally', 3327), ('part teleste', 3524), ('teleste video', 8264), ('video broadband', 9324), ('broadband solution', 349), ('solution business', 7258), ('expanded', 1192), ('ridge', 5758), ('yiliang', 9959), ('ridge justin', 5759), ('yiliang karczewicz', 9960), ('terminator', 8314), ('produced', 4499), ('subcontract', 7732), ('shenzhen', 6898), ('terminator lure', 8315), ('produced subcontract', 4502), ('subcontract facility', 7733), ('transferred rapala', 8738), ('rapala factory', 5085), ('shenzhen china', 6899), ('niemi', 2561), ('oriola', 3199), ('pharmaceutical trade', 3868), ('trade finland', 8651), ('niemi appointed', 2562), ('oriola addition', 3200), ('share annual', 6753), ('scheduled held', 6321), ('soared', 7194), ('report published', 5498), ('published friday', 4869), ('seb said', 6402), ('profit soared', 4652), ('soared sek', 7195), ('yearearlier sek', 9933), ('proposed dividend', 4774), ('sek per', 6503), ('original patent', 3196), ('patent filed', 3602), ('said result', 6025), ('result third', 5678), ('quarter include', 4953), ('corporation specialises', 800), ('specialises wet', 7336), ('wipe nonwovens', 9719), ('nonwovens flexible', 2631), ('packaging report', 3403), ('surface', 7897), ('surface valve', 7898), ('valve plate', 9227), ('plate directed', 4008), ('sysopen', 7993), ('portal', 4153), ('successfully', 7795), ('year sysopen', 9923), ('sysopen digia', 7994), ('product knowhow', 4539), ('portal trading', 4154), ('trading place', 8672), ('place system', 3943), ('system successfully', 8024), ('successfully implemented', 7796), ('solution supported', 7278), ('ship price', 6909), ('week measure', 9542), ('take tackle', 8053), ('tackle situation', 8035), ('release oct', 5352), ('oct peab', 2794), ('peab said', 3676), ('said two', 6041), ('two business', 8873), ('stockholm entreprenad', 7603), ('part peab', 3516), ('peab group', 3675), ('video shot', 9329), ('shot start', 6947), ('start finish', 7477), ('using nokia', 9145), ('los', 1901), ('pacific', 3390), ('trust', 8795), ('phoenix', 3881), ('pacific office', 3391), ('property trust', 4758), ('trust acquires', 8796), ('operates office', 3000), ('property western', 4760), ('western focusing', 9631), ('san diego', 6193), ('previous offer', 4353), ('offer voting', 2833), ('right capital', 5763), ('sale significantly', 6140), ('significantly increase', 6999), ('svyturysutenos', 7936), ('alus', 110), ('beverage', 291), ('bbh', 276), ('svyturysutenos alus', 7937), ('alus controlled', 111), ('controlled nordic', 686), ('nordic group', 2660), ('group baltic', 1472), ('baltic beverage', 246), ('beverage holding', 292), ('holding bbh', 1563), ('bbh posted', 277), ('posted percent', 4217), ('growth beer', 1492), ('sale januaryseptember', 6098), ('vantaa plant', 9233), ('plant extension', 3984), ('around million', 186), ('share investment', 6798), ('investment worth', 1714), ('worth around', 9793), ('wore', 9754), ('wore black', 9755), ('succeeded increasing', 7789), ('share sold', 6847), ('sold apartment', 7226), ('yit international', 9969), ('samas', 6171), ('pohjola', 4097), ('poh', 4094), ('svenska', 7926), ('shb', 6892), ('scandinavian lender', 6295), ('bank hel', 255), ('samas pohjola', 6172), ('pohjola bank', 4098), ('hel poh', 1531), ('poh svenska', 4096), ('svenska handelsbanken', 7927), ('sto shb', 7589), ('shb provided', 6893), ('provided eur', 4804), ('usd line', 9095), ('said friday', 6004), ('proprietary', 4779), ('sinter', 7047), ('outotec scope', 3268), ('scope delivery', 6355), ('supply proprietary', 7877), ('proprietary equipment', 4780), ('sinter plant', 7048), ('plant grate', 3987), ('salcomp finnish', 6054), ('phone charger', 3884), ('selling remaining', 6537), ('stake swedish', 7452), ('swedish investment', 7965), ('investment group', 1709), ('nordstjernan euro', 2665), ('oyj press', 3376), ('release february', 5347), ('outotec two', 3270), ('two large', 8880), ('processing technology', 4487), ('technology order', 8180), ('order mirabela', 3146), ('sukhraj', 7813), ('block', 312), ('sue', 7798), ('side', 6962), ('sukhraj dulai', 7814), ('sue court', 7799), ('north side', 2680), ('side started', 6964), ('started vehicle', 7499), ('vehicle went', 9266), ('went inside', 9625), ('tuesday leaving', 8806), ('seppl', 6563), ('clothing retail', 488), ('seppl sale', 6564), ('ten person', 8286), ('person three', 3823), ('three country', 8381), ('transfer tieto', 8732), ('metro', 2061), ('wwwmosmetroru', 9846), ('moscow metro', 2201), ('wwwmosmetroru first', 9847), ('system europe', 8008), ('smart card', 7173), ('together new', 8522), ('new type', 2497), ('type magnetic', 8897), ('vary', 9253), ('range vary', 5070), ('seat would', 6399), ('would go', 9810), ('retail industry', 5685), ('winter sport', 9713), ('sport good', 7385), ('sept', 6567), ('yit corporation', 9966), ('corporation sept', 798), ('sept corporate', 6568), ('corporate release', 772), ('release stock', 5358), ('release yit', 5359), ('sept wednesday', 6569), ('wednesday september', 9535), ('september yit', 6585), ('yit hold', 9968), ('sievi', 6969), ('sievi finland', 6970), ('volkswagen', 9385), ('stockmann auto', 7609), ('oy ab', 3336), ('sale aftersales', 6061), ('service concerning', 6622), ('volkswagen audi', 9386), ('offering also', 2837), ('related production', 5324), ('production transfer', 4591), ('transfer finnish', 8725), ('production asian', 4567), ('transfer production', 8729), ('solteq service', 7250), ('operating st', 3020), ('petersburg area', 3847), ('system data', 8002), ('republication', 5558), ('redistribution', 5242), ('framing', 1392), ('expressly', 1210), ('prohibited', 4697), ('consent', 620), ('copying republication', 738), ('republication redistribution', 5559), ('redistribution afx', 5243), ('news content', 2512), ('framing similar', 1393), ('similar mean', 7014), ('mean expressly', 2021), ('expressly prohibited', 1211), ('prohibited without', 4698), ('without prior', 9742), ('prior written', 4444), ('written consent', 9829), ('consent afx', 621), ('price raw', 4394), ('went end', 9622), ('outlook favourable', 3254), ('supervisory', 7853), ('wwwsampocom', 9852), ('plc jarmo', 4047), ('salonen head', 6168), ('relation group', 5333), ('principal medium', 4424), ('supervisory authority', 7854), ('wwwsampocom announcement', 9853), ('thomson reuters', 8375), ('reuters behalf', 5718), ('reuters client', 5719), ('organization assume', 3181), ('responsibility operation', 5617), ('operation russia', 3058), ('tax period', 8147), ('sale result', 6128), ('result gain', 5659), ('quarter oriolakd', 4963), ('oriolakd support', 3205), ('support finnish', 7884), ('strategy focus', 7670), ('pharmaceutical wholesale', 3869), ('wholesale retail', 9673), ('retail operation', 5688), ('yield', 9957), ('simulating', 7024), ('grade veneer', 1456), ('veneer yield', 9282), ('yield calculated', 9958), ('veneer product', 9281), ('well iterating', 9579), ('place peeling', 3938), ('peeling ax', 3685), ('simulating peeling', 7025), ('peeling process', 3687), ('penttila', 3709), ('timo penttila', 8469), ('penttila appointed', 3710), ('new manager', 2480), ('responsible asset', 5622), ('nordea institutional', 2648), ('passenger load', 3589), ('number sold', 2756), ('sold seat', 7232), ('seat share', 6398), ('share available', 6756), ('seat dropped', 6396), ('point september', 4107), ('outlook increased', 3255), ('pct pct', 3664), ('turun', 8856), ('talotekniikka', 8090), ('turun kaupunkin', 8857), ('talotekniikka oy', 8091), ('oy electrical', 3340), ('lg', 1848), ('previously eb', 4361), ('solution lg', 7268), ('lg electronics', 1849), ('terminal vendor', 8311), ('vendor well', 9278), ('well wireless', 9609), ('wireless operator', 9727), ('tikanoja operating', 8439), ('nonrecurring imputed', 2622), ('specialising', 7337), ('rentalrelated', 5441), ('modular', 2151), ('company specialising', 567), ('specialising construction', 7339), ('construction machinery', 637), ('rental rentalrelated', 5439), ('rentalrelated service', 5442), ('service well', 6682), ('well rental', 9600), ('rental sale', 5440), ('sale modular', 6111), ('modular space', 2152), ('panostaja oyj', 3445), ('october mln', 2803), ('see new', 6458), ('new register', 2492), ('register subscribe', 5286), ('subscribe newspaper', 7746), ('moment', 2154), ('vianor sale', 9314), ('sale office', 6115), ('office russia', 2856), ('tax amounted', 8143), ('share gla', 6789), ('value amount', 9191), ('two third', 8889), ('third olvi', 8364), ('olvi net', 2923), ('sale come', 6066), ('oral', 3116), ('oral hammaslaakarit', 3117), ('posted total', 4222), ('total net', 8593), ('reorganised', 5446), ('apetit', 152), ('tehtaat food', 8217), ('reorganised two', 5447), ('two strategic', 8887), ('strategic business', 7662), ('unit apetit', 8974), ('succeeds', 7791), ('walter', 9447), ('succeeds walter', 7792), ('walter gnter', 9448), ('reng', 5423), ('reng group', 5424), ('shipowner', 6912), ('system company', 7999), ('ship ordered', 6907), ('ordered norwegian', 3163), ('norwegian shipowner', 2702), ('shipowner grieg', 6913), ('total mn', 8591), ('passenger ship', 3591), ('ship journey', 6906), ('took place', 8559), ('place northern', 3937), ('northern baltic', 2684), ('sea slightly', 6384), ('slightly mn', 7129), ('scheduling', 6328), ('procurement', 4491), ('poyry contract', 4256), ('service time', 6681), ('time scheduling', 8462), ('scheduling procurement', 6329), ('procurement service', 4492), ('rihko', 5776), ('tobacco', 8494), ('rihko started', 5777), ('started manage', 7494), ('raisio benecol', 5042), ('summer heading', 7830), ('tobacco company', 8495), ('precision', 4266), ('weighing', 9551), ('raute precision', 5129), ('precision supply', 4267), ('supply weighing', 7881), ('weighing dosing', 9552), ('system plant', 8017), ('plant changing', 3977), ('name lahti', 2318), ('clinical', 482), ('said focus', 6001), ('resource clinical', 5597), ('stena', 7576), ('poseidon', 4175), ('panamax', 3432), ('pas', 3574), ('narrow', 2328), ('passage', 3576), ('panama', 3430), ('stena poseidon', 7577), ('poseidon socalled', 4176), ('socalled panamax', 7201), ('panamax tanker', 3433), ('tanker designed', 8110), ('pas narrow', 3575), ('narrow passage', 2329), ('passage panama', 3577), ('panama canal', 3431), ('sale month', 6112), ('remodeled', 5401), ('space rise', 7318), ('rise remodeled', 5786), ('remodeled cannon', 5402), ('street underground', 7678), ('underground station', 8946), ('tallinnbased', 8086), ('tallinnbased subsidiary', 8087), ('subsidiary aero', 7768), ('passenger decline', 3583), ('within southern', 9739), ('ponten', 4138), ('ponten fredrik', 4139), ('lundberg jorgen', 1925), ('ahlstrom share', 77), ('correspon', 806), ('revenue increased', 5730), ('vessel built', 9301), ('one block', 2942), ('time ruukki', 8460), ('ruukki delivered', 5931), ('plate material', 4009), ('subsidiary incap', 7775), ('corporation finland', 782), ('reflected', 5267), ('operates industry', 2998), ('reflected consumer', 5268), ('scanfil contract', 6299), ('released comptel', 5361), ('tomorrow chairman', 8537), ('scheduled deliver', 6318), ('national broadband', 2339), ('plan congress', 3950), ('evraz', 1175), ('roman', 5823), ('alexander', 84), ('owned lanebrook', 3306), ('whose beneficiary', 9683), ('one hand', 2946), ('roman abramovich', 5824), ('partner evraz', 3558), ('net investment', 2415), ('profile contains', 4604), ('product service', 4556), ('service prospect', 6659), ('prospect key', 4783), ('structure key', 7714), ('swedbank share', 7942), ('share hardest', 6791), ('swedish bank', 7958), ('ongoing international', 2966), ('quarter ebitda', 4947), ('shipping aspo', 6915), ('account', 18), ('supporting', 7893), ('pop', 4145), ('nokia messaging', 2588), ('receive email', 5178), ('phone supporting', 3892), ('supporting pop', 7894), ('pop imap', 4146), ('tex', 8333), ('tikkurila division', 8444), ('control russian', 677), ('russian market', 5918), ('owns st', 3330), ('petersburg paint', 3850), ('paint producer', 3425), ('producer tex', 4510), ('screen', 6364), ('selection', 6511), ('mark', 1992), ('touch screen', 8629), ('screen system', 6365), ('system selection', 8021), ('selection chosen', 6512), ('price start', 4402), ('start around', 7473), ('pound mark', 4237), ('transaction agreement', 8700), ('purchase metsabotnia', 4893), ('share upm', 6859), ('upm mreal', 9044), ('oxyview', 3333), ('pulse', 4887), ('oximeter', 3331), ('saturation', 6237), ('oxyview pulse', 3334), ('pulse oximeter', 4888), ('oximeter common', 3332), ('patient bloodoxygen', 3611), ('saturation level', 6238), ('pulse rate', 4889), ('rent', 5429), ('headquartered vantaa', 1517), ('vantaa finland', 9232), ('rent construction', 5430), ('equipment well', 1109), ('well rent', 9599), ('rent sell', 5431), ('sell modular', 6521), ('authorisation', 222), ('repeal', 5452), ('next annual', 2539), ('repeal authorisation', 5453), ('share given', 6788), ('meeting held', 2039), ('completed summer', 593), ('runway', 5892), ('visual', 9364), ('pilot', 3912), ('runway visual', 5893), ('visual range', 9365), ('range calculated', 5060), ('pilot see', 3914), ('see runway', 6463), ('sculptural', 6366), ('rabochy', 5011), ('snow', 7187), ('sculptural complex', 6367), ('rabochy kolkhoznitsa', 5012), ('worker collective', 9772), ('moscow snow', 2203), ('snow melting', 7188), ('begin', 283), ('strength', 7679), ('weakness', 9507), ('strength target', 7680), ('target weakness', 8134), ('cool', 710), ('cool makeover', 711), ('newstex report', 2537), ('report provides', 5497), ('provides key', 4829), ('represent voting', 5535), ('right share', 5772), ('citycon oyj', 477), ('rose international', 5840), ('olvi posted', 2924), ('posted strong', 4220), ('strong set', 7704), ('set figure', 6698), ('six month', 7080), ('sale surged', 6146), ('respecta', 5607), ('samuel', 6189), ('respecta oy', 5608), ('oy jyvaskyla', 3344), ('premise well', 4294), ('say samuel', 6277), ('samuel koivisto', 6190), ('technopolis operation', 8198), ('operation jyvaskyla', 3045), ('renesas mobile', 5417), ('company investment', 544), ('investment property', 1712), ('property went', 4759), ('went eur', 9623), ('tele', 8232), ('suomen lhikauppa', 7840), ('sa teliasonera', 5953), ('teliasonera broadband', 8270), ('tele finland', 8235), ('subscription tallink', 7766), ('tallink shipping', 8079), ('shipping line', 6917), ('power company', 4243), ('online ice', 2972), ('show ice', 6950), ('sea port', 6382), ('port coast', 4148), ('next spring', 2543), ('slumped', 7153), ('snowfall', 7189), ('resort', 5593), ('sale unit', 6156), ('unit slumped', 9001), ('slumped last', 7154), ('year industry', 9905), ('poor snowfall', 4144), ('snowfall major', 7190), ('resort winter', 5594), ('ponsse net', 4135), ('strongly', 7706), ('product sale', 4554), ('strongly financial', 7707), ('period percent', 3799), ('sale revenue', 6130), ('revenue per', 5735), ('per passenger', 3727), ('passenger expected', 3584), ('ruukki group', 5934), ('operates division', 2992), ('nsn', 2732), ('network head', 2434), ('resource nsn', 5601), ('nsn global', 2733), ('regarding', 5275), ('virala', 9351), ('regarding virala', 5277), ('virala oy', 9352), ('ownership share', 3320), ('share tiimari', 6857), ('tiimari taken', 8436), ('taken place', 8058), ('vaalipalveluservice', 9166), ('vaalipalveluservice especially', 9167), ('use community', 9111), ('kaukotelko', 1766), ('part transferred', 3527), ('transferred operating', 8736), ('newest', 2500), ('see slide', 6464), ('slide show', 7123), ('show newest', 6951), ('newest product', 2501), ('product release', 4553), ('release fiskars', 5348), ('deep', 916), ('outsourcing', 3283), ('proved', 4795), ('winning', 9709), ('outsourcing service', 3285), ('service offering', 6654), ('offering proved', 2841), ('proved winning', 4796), ('winning combination', 9710), ('selling information', 6535), ('system development', 8005), ('organisational', 3176), ('agm', 66), ('quarterlyannual', 4990), ('oyj board', 3363), ('organisational meeting', 3177), ('upon completion', 9055), ('paid share', 3418), ('share way', 6863), ('way share', 9501), ('transferred quarterly', 8737), ('quarterly basis', 4986), ('publication quarterlyannual', 4857), ('quarterlyannual report', 4991), ('change fair', 453), ('portfolio eur', 4163), ('vaisala', 9178), ('vaisala headquartered', 9179), ('develops manufacture', 955), ('system meteorology', 8013), ('science traffic', 6349), ('traffic industry', 8683), ('biotie', 306), ('northamerican', 2681), ('somaxon', 7282), ('suffering', 7800), ('pathological', 3607), ('nicotine', 2559), ('smoking', 7181), ('cessation', 444), ('northamerican licensing', 2682), ('licensing partner', 1853), ('partner somaxon', 3563), ('somaxon pharmaceutical', 7283), ('pharmaceutical started', 3867), ('started phase', 7497), ('phase iiiii', 3876), ('study patient', 7725), ('patient suffering', 3612), ('suffering pathological', 7802), ('pathological gambling', 3608), ('pilot phase', 3913), ('phase ii', 3875), ('study nicotine', 7724), ('nicotine addiction', 2560), ('smoking cessation', 7182), ('share deal', 6774), ('therapy', 8348), ('therapy corp', 8349), ('corp constitutes', 754), ('share aggregate', 6749), ('roof', 5827), ('move hallbergivarsson', 2223), ('service installation', 6643), ('roof service', 5828), ('service center', 6613), ('solution gothenburg', 7264), ('statutory', 7552), ('result statutory', 5676), ('statutory joint', 7553), ('negotiation employee', 2397), ('started february', 7493), ('operation country', 3029), ('medium company', 2035), ('talentum oyj', 8070), ('telgua', 8265), ('pc digital', 3650), ('using tecnomen', 9149), ('tecnomen prepaid', 8204), ('prepaid system', 4299), ('system telgua', 8027), ('telgua fixed', 8266), ('network well', 2453), ('well code', 9563), ('multiple access', 2283), ('pricing detail', 4411), ('smelt', 7177), ('spout', 7391), ('separated', 6559), ('shielding', 6900), ('wall', 9445), ('movable', 2217), ('smelt spout', 7178), ('spout separated', 7392), ('separated working', 6560), ('working area', 9776), ('shielding wall', 6901), ('wall arranged', 9446), ('movable relation', 2218), ('relation smelt', 5335), ('transfer take', 8731), ('transfer elisa', 8723), ('printing paper', 4437), ('paper maker', 3465), ('newpage corp', 2505), ('corp posted', 760), ('posted mixed', 4214), ('secondquarter result', 6419), ('result casting', 5653), ('planned initial', 3964), ('public offering', 4850), ('online business', 2971), ('tonne asphalt', 8546), ('used contract', 9121), ('oulu plant', 3245), ('plant employ', 3980), ('reservation', 5578), ('rerouting', 5571), ('strike cause', 7691), ('reservation passenger', 5579), ('passenger rerouting', 3590), ('casing', 422), ('pivotable', 3927), ('rotation', 5851), ('first side', 1330), ('side casing', 6963), ('casing member', 423), ('member provided', 2044), ('provided first', 4806), ('side vat', 6965), ('vat segment', 9257), ('segment second', 6490), ('second side', 6411), ('provided second', 4810), ('segment least', 6485), ('pivotable rotation', 3928), ('rotation axis', 5852), ('cost cutting', 823), ('produced around', 4500), ('saving past', 6255), ('past nine', 3596), ('month dampened', 2160), ('okhta', 2891), ('okhta center', 2892), ('wwwcityconcom', 9840), ('program also', 4677), ('viewed live', 9332), ('webcast internet', 9518), ('page wwwcityconcom', 3410), ('share entitled', 6777), ('one vote', 2956), ('weaker', 9506), ('therefore company', 8352), ('result remain', 5672), ('remain weaker', 5382), ('traded', 8660), ('underlying', 8948), ('tonne co', 8547), ('traded underlying', 8661), ('underlying market', 8949), ('value approx', 9192), ('aimed', 79), ('raise', 5033), ('offer million', 2830), ('share aimed', 6750), ('raise ac', 5034), ('oct outokumpu', 2793), ('roofing', 5829), ('started manufacture', 7495), ('roofing felt', 5830), ('production asphalt', 4568), ('quarter rose', 4975), ('rose euro', 5838), ('euro euro', 1161), ('received grew', 5183), ('russia video', 5914), ('video international', 9326), ('controlling stake', 694), ('stake russian', 7450), ('russian medium', 5919), ('takanen', 8044), ('abroad', 9), ('scanfil founder', 6300), ('takanen company', 8045), ('remaining amount', 5392), ('pushing', 4913), ('pushing share', 4914), ('slipped pretax', 7135), ('serve customer', 6595), ('via sale', 9310), ('office production', 2853), ('production facility', 4572), ('six continent', 7077), ('value investment', 9204), ('tlv', 8485), ('picked', 3899), ('tlv said', 8486), ('thursday picked', 8403), ('picked bofa', 3900), ('planned issue', 3965), ('convertible note', 707), ('note worth', 2707), ('negotiation representative', 2399), ('representative personnel', 5538), ('personnel regarding', 3834), ('regarding restructuring', 5276), ('restructuring process', 5646), ('process ended', 4466), ('noponen', 2634), ('shareholder informed', 6875), ('propose annual', 4771), ('number member', 2749), ('shall five', 6738), ('present member', 4314), ('mr lassi', 2244), ('noponen shall', 2635), ('shall elected', 6737), ('total operating', 8597), ('operating revenue', 3018), ('project come', 4707), ('segment offer', 6488), ('offer laboratory', 2829), ('tip used', 8471), ('used research', 9133), ('university hospital', 9017), ('well pharmaceutical', 9591), ('pharmaceutical food', 3864), ('served approximately', 6600), ('people manufacturing', 3718), ('unit several', 8999), ('several sale', 6724), ('office country', 2847), ('nt', 2736), ('term nt', 8300), ('nt disclosed', 2737), ('would propose', 9818), ('welcome', 9553), ('would remain', 9820), ('remain oulu', 5378), ('plant support', 3998), ('support function', 7885), ('netapp', 2423), ('strategically', 7667), ('repositioning', 5531), ('relaunch', 5342), ('work netapp', 9761), ('netapp included', 2424), ('strategically repositioning', 7668), ('repositioning brand', 5532), ('sitra', 7065), ('visit finland', 9359), ('sitra investment', 7066), ('nokia headquarters', 2586), ('study teliasonera', 7726), ('teliasonera ltd', 8274), ('profit per', 4645), ('way industry', 9498), ('starting point', 7505), ('point consumer', 4105), ('network test', 2451), ('test business', 8322), ('part elektrobit', 3510), ('test automation', 8321), ('segment employ', 6481), ('people finland', 3714), ('people abroad', 3712), ('sale issued', 6096), ('treasury share', 8764), ('share ya', 6867), ('ya global', 9874), ('term share', 8303), ('tieto latvia', 8417), ('represented service', 5541), ('tietoenator alise', 8420), ('tietoenator operation', 8423), ('operation industry', 3042), ('service card', 6612), ('retail logistics', 5687), ('outsourcing managed', 3284), ('onboard', 2938), ('singaporean', 7039), ('onboard two', 2939), ('two freighter', 8878), ('ordered singaporean', 3166), ('singaporean ship', 7040), ('ship owner', 6908), ('owner masterbulk', 3313), ('specified may', 7357), ('price pct', 4389), ('pct payable', 3663), ('payable aspo', 3629), ('priit', 4413), ('sauk', 6241), ('new apartment', 2460), ('yit ehitus', 9967), ('priit sauk', 4414), ('promising', 4741), ('viewpoint', 9335), ('oil refining', 2886), ('refining business', 5262), ('oil say', 2887), ('say situation', 6278), ('situation look', 7071), ('promising viewpoint', 4742), ('manages', 1965), ('well current', 9568), ('part transaction', 3526), ('transaction mreal', 8705), ('mreal sappi', 2255), ('sappi also', 6217), ('signed longterm', 6981), ('supply pulp', 7878), ('pulp bctmp', 4881), ('smaller service', 7168), ('service supply', 6677), ('stood mln', 7637), ('profit sale', 4650), ('repeat', 5454), ('yy', 9984), ('newsroom', 2533), ('tecnomenresult', 8206), ('repeat see', 5455), ('see operating', 6459), ('profit yy', 4666), ('yy reporting', 9985), ('reporting helsinki', 5527), ('newsroom keywords', 2534), ('spite', 7365), ('uponor improved', 9058), ('performance spite', 3781), ('spite decrease', 7366), ('residential construction', 5587), ('teleste set', 8262), ('set divided', 6696), ('network video', 2452), ('video network', 9327), ('network business', 2432), ('occupied', 2785), ('occupied metso', 2786), ('rockwell', 5817), ('rockwell collins', 5818), ('provider flight', 4814), ('ollipekka', 2917), ('laine', 1798), ('pehulehtonen', 3688), ('ollipekka laine', 2918), ('pehulehtonen vice', 3689), ('vice chairman', 9317), ('grow', 1488), ('success', 7793), ('plant ground', 3988), ('success garden', 7794), ('well maintained', 9581), ('webbased', 9514), ('road handset', 5802), ('wireless carrier', 9723), ('serve portal', 6597), ('portal webbased', 4155), ('webbased service', 9515), ('service wireless', 6683), ('wireless handset', 9725), ('subscription eur', 7760), ('multiradio', 2287), ('mhz', 2067), ('test conducted', 8324), ('siemens lte', 6967), ('production start', 4589), ('start lteready', 7478), ('multiradio base', 2288), ('station mhz', 7544), ('mhz band', 2068), ('test nokia', 8327), ('nokia mhz', 2589), ('stock trading', 7600), ('trading map', 8670), ('day map', 887), ('map sek', 1982), ('sek higher', 6502), ('sek bullish', 6501), ('thailand', 8343), ('saha', 5975), ('pathana', 3605), ('new majority', 2479), ('owner aspocomp', 3310), ('thailand co', 8344), ('private person', 4454), ('person belonging', 3820), ('present joint', 4312), ('venture partner', 9287), ('partner saha', 3562), ('saha pathana', 5976), ('pathana interholding', 3606), ('vacancy', 9170), ('roughly', 5853), ('ericsson', 1112), ('space vacancy', 7320), ('vacancy rate', 9171), ('rate roughly', 5102), ('roughly let', 5854), ('tenant two', 8289), ('two largest', 8881), ('swedish government', 7962), ('niam', 2549), ('property purchased', 4756), ('purchased swedish', 4903), ('swedish private', 7970), ('niam goldman', 2550), ('sachs whitehall', 5966), ('secondlargest', 6415), ('ragutis based', 5021), ('secondlargest city', 6416), ('year per', 9914), ('ruokatalo produce', 5898), ('produce many', 4496), ('turkey product', 8835), ('product cold', 4525), ('poyry headquartered', 4258), ('provides consulting', 4826), ('service energy', 6635), ('infrastructure environment', 1668), ('environment sector', 1098), ('october representing', 2806), ('registration number', 5294), ('number issued', 2747), ('share basware', 6759), ('swap', 7938), ('ubs', 8911), ('price talk', 4404), ('talk midmarket', 8076), ('swap plus', 7939), ('plus bps', 4078), ('ubs cba', 8912), ('rate growth', 5098), ('publish annual', 4859), ('result market', 5664), ('open thursday', 2982), ('thursday january', 8401), ('raiffeisen', 5023), ('signed cooperation', 6977), ('cooperation agreement', 717), ('raiffeisen concerning', 5024), ('bank group', 254), ('nation', 2336), ('picture', 3901), ('subscriber china', 7757), ('unicom nation', 8965), ('nation second', 2337), ('phone operator', 3889), ('operator china', 3080), ('release picture', 5353), ('picture video', 3902), ('video blog', 9323), ('via mobile', 9308), ('phone march', 3888), ('summer earliest', 7829), ('summer latest', 7831), ('coq', 742), ('coq special', 743), ('special developed', 7327), ('trade mark', 8652), ('produce tonne', 4498), ('pulp per', 4886), ('umo', 8932), ('veikko', 9271), ('umo capital', 8933), ('veikko laine', 9272), ('shareholder amanda', 6869), ('nalmefene', 2311), ('period biotie', 3787), ('pharmaceutical announced', 3862), ('positive result', 4200), ('result nalmefene', 5668), ('nalmefene pilot', 2312), ('phase clinical', 3873), ('trial smoking', 8779), ('participation', 3541), ('please inform', 4063), ('participation later', 3542), ('telephone conference', 8255), ('time eet', 8452), ('fancy', 1226), ('dans', 877), ('fancy dans', 1227), ('move fab', 2222), ('store fancy', 7649), ('whole issued', 9659), ('quarter company', 4941), ('tapiola', 8118), ('yit oyj', 9973), ('november mln', 2728), ('new office', 2486), ('property company', 4748), ('tapiola real', 8119), ('fl', 1348), ('travel', 8758), ('sterling', 7578), ('operating company', 3008), ('travel group', 8760), ('slovakia', 7140), ('statistic', 7547), ('preliminary data', 4281), ('slovakia statistic', 7141), ('statistic office', 7548), ('office good', 2848), ('worth million', 9796), ('october making', 2802), ('percent slovakia', 3756), ('slovakia total', 7142), ('total import', 8587), ('power supply', 4251), ('supply dc', 7872), ('power system', 4252), ('system inverter', 8011), ('system incorporating', 8009), ('used many', 9126), ('reorganization', 5448), ('telko', 8278), ('part reorganization', 3520), ('reorganization kaukotelko', 5449), ('telko ltd', 8279), ('terminal service', 8309), ('service ltd', 6646), ('sector constructionreal', 6429), ('target pohjolan', 8127), ('pohjolan designtalo', 4102), ('oy buyer', 3338), ('oyj vendor', 3384), ('vendor ruukki', 9277), ('oyj deal', 3364), ('size usd', 7096), ('usd type', 9106), ('type divestment', 8896), ('status agree', 7550), ('number class', 2744), ('share remains', 6832), ('remains unchanged', 5398), ('unchanged share', 8941), ('narrowed net', 2333), ('loss second', 1910), ('profit lower', 4637), ('outlook published', 3257), ('published earlier', 4868), ('whole increase', 9658), ('reached eur', 5149), ('recycling', 5235), ('recycling company', 5236), ('tikanoja expands', 8438), ('russia introducing', 5906), ('recently completed', 5202), ('recycling plant', 5237), ('plant city', 3978), ('near moscow', 2362), ('surfing', 7904), ('security security', 6448), ('security service', 6449), ('service surfing', 6679), ('surfing web', 7905), ('web online', 9510), ('online banking', 2970), ('shopping email', 6936), ('online activity', 2969), ('policy also', 4121), ('profitable competitive', 4672), ('phase logistics', 3877), ('sq logistics', 7401), ('premise gatehouse', 4291), ('sveza', 7932), ('raute said', 5131), ('supply several', 7879), ('several plywood', 6721), ('plywood production', 4087), ('operated russian', 2989), ('russian wood', 5924), ('sveza group', 7933), ('union company', 8970), ('official return', 2872), ('return call', 5709), ('sverige', 7930), ('perform', 3773), ('oy subsidiary', 3353), ('subsidiary lemminkainen', 7776), ('sverige ab', 7931), ('perform construction', 3774), ('work expected', 9759), ('start early', 7474), ('corp part', 759), ('part expires', 3512), ('seller eos', 6531), ('private individual', 4452), ('regulates', 5297), ('permitted', 3813), ('regulates amount', 5298), ('permitted write', 3814), ('sevenmonth', 6713), ('sevenmonth sale', 6714), ('sale ragutis', 6127), ('olvi declined', 2921), ('partner project', 3561), ('project st', 4728), ('petersburg water', 3854), ('water work', 9487), ('nekoski', 2400), ('transaction nekoski', 8706), ('nekoski paper', 2401), ('remained mreal', 5389), ('mreal ownership', 2252), ('ownership continued', 3318), ('production sappi', 4585), ('sappi longterm', 6219), ('sale januarymay', 6097), ('saa', 5954), ('payout', 3640), ('sanoma oyj', 6207), ('saa said', 5955), ('profit almost', 4612), ('tripled eur', 8784), ('proposal raised', 4768), ('raised payout', 5039), ('wholesale group', 9671), ('stq', 7655), ('widened', 9689), ('news apr', 2510), ('finnish business', 1292), ('system developer', 8004), ('solteq oyj', 7248), ('stq said', 7656), ('widened eur', 9690), ('placed', 3945), ('overlaid', 3293), ('ordered placed', 3164), ('placed new', 3946), ('new mill', 2482), ('overlaid birch', 3294), ('oneworld', 2963), ('oneworld alliance', 2964), ('talentum report', 8072), ('profit ninemonth', 4642), ('sending', 6544), ('wednesday sold', 9536), ('sold percent', 7231), ('percent stake', 3758), ('stake chemical', 7439), ('oyj ac', 3361), ('sending company', 6545), ('quarter decreased', 4944), ('corner', 749), ('osakeyhti', 3218), ('corner world', 750), ('world asfaltti', 9782), ('osakeyhti lemminkinen', 3219), ('specialist business', 7342), ('property investment', 4750), ('specialising commercial', 7338), ('property largest', 4751), ('omx offer', 2934), ('offer access', 2817), ('percent nordic', 3748), ('nordic baltic', 2652), ('security market', 6445), ('okm', 2893), ('wafer technology', 9430), ('company okmetic', 552), ('helsinki okm', 1542), ('okm reported', 2894), ('reported thursday', 5519), ('thursday october', 8402), ('october operating', 2805), ('offering print', 2839), ('print digital', 4428), ('present eleven', 4310), ('tele affarsvarlden', 8234), ('recommendation mobile', 5221), ('operator tele', 3088), ('tele ab', 8233), ('participated program', 3538), ('program development', 4679), ('norwegian pension', 2700), ('pension system', 3704), ('system since', 8022), ('totaled yearonyear', 8620), ('year improved', 9904), ('tehtaat planning', 8218), ('planning change', 3969), ('product business', 4521), ('wwwahlstromcom', 9837), ('website wwwahlstromcom', 9527), ('raivv', 5047), ('raisio oyj', 5045), ('omx raivv', 2937), ('raivv said', 5048), ('profit jumped', 4634), ('parameter', 3481), ('one important', 2947), ('parameter determining', 3482), ('price electricity', 4379), ('total capacity', 8581), ('sweden operating', 7952), ('project customer', 4710), ('recommencing', 5215), ('stranded', 7659), ('process recommencing', 4472), ('recommencing traffic', 5216), ('traffic caused', 8680), ('stranded passenger', 7660), ('passenger accommodation', 3579), ('recycled', 5233), ('tonne per', 8552), ('year raw', 9918), ('recycled paper', 5234), ('paper board', 3453), ('market czech', 1997), ('republic global', 5556), ('service pricing', 6657), ('sarantel', 6220), ('wellingborough', 9612), ('portable', 4151), ('sarantel based', 6221), ('wellingborough uk', 9613), ('uk design', 8916), ('portable wireless', 4152), ('wireless device', 9724), ('name company', 2315), ('restaurant well', 5640), ('well wholesaler', 9608), ('wholesaler retailer', 9677), ('time said', 8461), ('plant scheduled', 3997), ('scheduled operational', 6322), ('operational middle', 3074), ('reduction concluded', 5250), ('latin', 1819), ('sale latin', 6101), ('latin america', 1820), ('sold area', 7227), ('representing increase', 5547), ('meanwhile', 2022), ('volume meanwhile', 9398), ('rate percent', 5101), ('percent annually', 3734), ('business sector', 371), ('sector building', 6427), ('construction infrastructure', 636), ('construction technical', 640), ('technical building', 8163), ('building service', 360), ('sponsoring', 7378), ('professional', 4599), ('plumbing business', 4071), ('sponsoring professional', 7379), ('professional dart', 4600), ('tb', 8153), ('service teliasonera', 6680), ('teliasonera forecast', 8273), ('volume teliasonera', 9405), ('teliasonera network', 8275), ('network sweden', 2449), ('sweden rise', 7953), ('rise eightfold', 5782), ('dongguan', 1006), ('featuring', 1233), ('signature show', 6975), ('show dongguan', 6949), ('supported dongguan', 7891), ('municipal government', 2296), ('year featuring', 9900), ('software communication', 7209), ('worth approximately', 9792), ('transaction price', 8709), ('price upon', 4406), ('upon closing', 9053), ('remaining sum', 5396), ('tap', 8114), ('occurred', 2787), ('said pay', 6020), ('pay compensation', 3622), ('ruokatalo atrium', 5896), ('tap water', 8115), ('water occurred', 9484), ('occurred march', 2788), ('tomtom', 8538), ('navigation', 2350), ('tomtom europe', 8539), ('navigation device', 2351), ('performance second', 3779), ('second half', 6404), ('ylivieska', 9976), ('site plant', 7061), ('plant ylivieska', 4001), ('ylivieska finland', 9977), ('company report', 561), ('report loss', 5490), ('oyname', 3386), ('tuomo', 8827), ('piirainen', 3906), ('mika', 2075), ('name applicant', 2314), ('oyname inventor', 3387), ('tuomo piirainen', 8828), ('piirainen mika', 3907), ('publication date', 4854), ('five largest', 1343), ('converted', 703), ('produced browser', 4501), ('phone server', 3891), ('server converted', 6603), ('converted bitmapped', 704), ('sent handset', 6554), ('today reported', 8514), ('reported eps', 5508), ('eur increase', 1143), ('plc carried', 4037), ('record million', 5227), ('passenger increase', 3587), ('percent previous', 3753), ('year airline', 9885), ('reported tuesday', 5520), ('corrected', 802), ('entirety', 1096), ('corrected chapter', 803), ('revenue time', 5740), ('time grew', 8456), ('preferred', 4278), ('one price', 2951), ('price category', 4373), ('preferred operator', 4279), ('operator network', 3085), ('network another', 2430), ('rd loan', 5140), ('situation project', 7072), ('project sold', 4725), ('sold year', 7235), ('year completion', 9893), ('weekday', 9545), ('remind', 5399), ('tradition', 8675), ('wheat', 9637), ('rice', 5756), ('pie', 3903), ('recent weekday', 5198), ('weekday east', 9546), ('remind resident', 5400), ('resident easter', 5583), ('tradition making', 8676), ('wheat rice', 9638), ('rice pie', 5757), ('sponsor', 7376), ('big', 296), ('museum', 2301), ('national sponsor', 2343), ('sponsor big', 7377), ('read include', 5153), ('national endowment', 2342), ('cooperation institute', 718), ('museum library', 2302), ('service art', 6608), ('share januaryjune', 6801), ('sharply disappointing', 6890), ('ruble', 5877), ('paid euro', 3416), ('sale take', 6147), ('place ruble', 3940), ('proha', 4695), ('sale proha', 6125), ('proha would', 4696), ('would get', 9809), ('usd stake', 9103), ('stake artemis', 7438), ('network provides', 2444), ('provides mobile', 4831), ('network infrastructure', 2438), ('service platform', 6656), ('platform well', 4019), ('well professional', 9597), ('professional service', 4601), ('service operator', 6655), ('unrivalled', 9026), ('proposal shareholder', 4769), ('shareholder elect', 6870), ('mr hannu', 2238), ('unrivalled experience', 9027), ('related elcoteq', 5320), ('prepares', 4303), ('noted', 2708), ('sanoma also', 6198), ('prepares proposal', 4304), ('proposal matter', 4766), ('noted board', 2709), ('notice', 2712), ('proposal board', 4765), ('right otherwise', 5769), ('otherwise correspond', 3236), ('correspond proposal', 809), ('notice general', 2714), ('part bank', 3506), ('cost grew', 828), ('profit including', 4631), ('ebrd', 1033), ('syndicated', 7987), ('ebrd using', 1034), ('using fund', 9143), ('fund provide', 1411), ('provide million', 4800), ('loan portion', 1885), ('portion million', 4167), ('euro syndicated', 1166), ('syndicated two', 7988), ('two finnish', 8877), ('finnish commercial', 1293), ('commercial bank', 512), ('bank nordea', 257), ('bank finland', 253), ('finland plc', 1281), ('plc pohjola', 4051), ('bank plc', 258), ('solo', 7245), ('song', 7286), ('mr mcdonald', 2246), ('started evening', 7492), ('set featuring', 6697), ('solo career', 7246), ('year selection', 9920), ('selection rb', 6513), ('rb cover', 5137), ('song met', 7287), ('thirdparty', 8367), ('order consists', 3131), ('outsourced application', 3281), ('support planning', 7887), ('planning tecnotree', 3971), ('tecnotree thirdparty', 8210), ('thirdparty application', 8368), ('want credit', 9450), ('personal detail', 3826), ('pavement', 3619), ('work include', 9760), ('stone pavement', 7622), ('pavement installation', 3620), ('underground heating', 8944), ('surface water', 7899), ('water drainage', 9481), ('service building', 6610), ('test especially', 8325), ('test cancer', 8323), ('post', 4209), ('och', 2789), ('tidningar', 8413), ('notice entirety', 2713), ('proposal nomination', 4767), ('published least', 4871), ('week april', 9539), ('website post', 9525), ('post och', 4210), ('och inrikes', 2790), ('tidningar dagens', 8414), ('standardised', 7465), ('reception', 5206), ('standardised service', 7466), ('service met', 6650), ('positive reception', 4199), ('reception among', 5207), ('well itella', 9578), ('traditional', 8677), ('panostaja headquartered', 3442), ('tampere finland', 8102), ('small mediumsized', 7161), ('operating traditional', 3022), ('traditional industry', 8678), ('oyj develops', 3365), ('system use', 8029), ('use research', 9115), ('research healthcare', 5575), ('resin', 5591), ('treble', 8769), ('cm', 489), ('resin real', 5592), ('real treble', 5166), ('treble cm', 8770), ('top bottom', 8570), ('said secondquarter', 6027), ('result would', 5680), ('would fall', 9806), ('state company', 7513), ('operative ebit', 3076), ('privately', 4455), ('se privately', 6378), ('privately held', 4456), ('provider electronics', 4813), ('service communication', 6618), ('thursday signed', 8406), ('supply deal', 7873), ('respective', 5609), ('order intake', 3142), ('yearonyear yearonyear', 9947), ('yearonyear respectively', 9946), ('respective januaryseptember', 5610), ('petrol', 3859), ('wiio', 9699), ('rising', 5791), ('petrol station', 3860), ('station chain', 7542), ('st managing', 7418), ('wiio company', 9700), ('purchase rising', 4899), ('rising price', 5792), ('price first', 4381), ('price going', 4382), ('seikku', 6492), ('seikku retail', 6493), ('retail sector', 5689), ('sector finland', 6431), ('controlled large', 685), ('still relatively', 7585), ('relatively small', 5341), ('used refinance', 9132), ('refinance citycon', 5255), ('mreal part', 2253), ('part finnish', 3513), ('release secondquarter', 5356), ('report around', 5469), ('programming', 4689), ('subject project', 7741), ('project provide', 4723), ('provide company', 4798), ('software programming', 7219), ('programming consultancy', 4690), ('consultancy service', 644), ('service computerrelated', 6621), ('service data', 6629), ('service computer', 6620), ('support consultancy', 7883), ('service etc', 6636), ('trouble', 8785), ('small firm', 7160), ('suffering moment', 7801), ('trouble added', 8786), ('considering', 624), ('earned', 1023), ('stockmann earned', 7612), ('million lat', 2084), ('uk european', 8918), ('recommendation issued', 5220), ('today collated', 8500), ('news range', 2521), ('range market', 5067), ('poyry global', 4257), ('freenet', 1395), ('pursue', 4906), ('pushed freenet', 4910), ('trade eur', 8650), ('united internet', 9012), ('would pursue', 9819), ('pursue takeover', 4907), ('takeover breakup', 8061), ('restructuring creates', 5645), ('organization increased', 3182), ('operational focus', 3073), ('stable profitability', 7422), ('profitability lead', 4669), ('said bo', 5984), ('specialty stainless', 7352), ('upm finnishswedish', 9042), ('share still', 6849), ('still subscribed', 7586), ('subscribed series', 7752), ('option max', 3106), ('move carried', 2220), ('original contract', 3194), ('signed last', 6980), ('quarter operating', 4961), ('surveillance', 7915), ('total surveillance', 8609), ('surveillance camera', 7916), ('variety need', 9243), ('need company', 2380), ('share widened', 6866), ('widened percent', 9691), ('sandal', 6194), ('target design', 8124), ('well boot', 9560), ('whole release', 9663), ('period totaled', 3806), ('plan estimated', 3952), ('usd cost', 9086), ('saving annual', 6251), ('sintered', 7050), ('plant limestone', 3992), ('ore concentrate', 3168), ('sintered lump', 7051), ('sinter use', 7049), ('use blast', 9109), ('profit three', 4656), ('month march', 2167), ('sensor', 6550), ('okm said', 2895), ('september invest', 6578), ('sensor wafer', 6551), ('wafer business', 9428), ('sq building', 7399), ('receives', 5190), ('tm press', 8491), ('release service', 5357), ('service receives', 6663), ('receives compensation', 5191), ('share exchange', 6782), ('panostaja offer', 3443), ('offer full', 2824), ('value euro', 9202), ('talvivaara listed', 8093), ('thursday september', 8404), ('warning third', 9463), ('shanahan', 6742), ('sale tiimari', 6153), ('tiimari segment', 8435), ('segment fell', 6482), ('smaller loss', 7166), ('sciard vice', 6345), ('solution since', 7276), ('since april', 7030), ('spanning', 7324), ('river', 5796), ('rautaruukki said', 5121), ('said construction', 5990), ('yit awarded', 9962), ('supply steel', 7880), ('structure new', 7715), ('new bridge', 2461), ('spanning kemijoki', 7325), ('river northern', 5797), ('northern finland', 2686), ('situation coated', 7068), ('paper continue', 3456), ('profit surged', 4653), ('software group', 7214), ('profit halved', 4628), ('provide mln', 4801), ('portion mln', 4168), ('plc mln', 4049), ('rlnordic', 5798), ('raiffeisenbankinggroup', 5025), ('austria', 220), ('raiffeisenleasing', 5027), ('gmbh', 1443), ('rlnordic part', 5799), ('part raiffeisenbankinggroup', 3519), ('raiffeisenbankinggroup austria', 5026), ('subsidiary raiffeisenleasing', 7779), ('raiffeisenleasing gmbh', 5028), ('zaharova', 9986), ('tiimari latvian', 8431), ('representative ineta', 5537), ('zaharova said', 9987), ('profit time', 4658), ('turkcell', 8831), ('owns megafon', 3324), ('turkcell via', 8832), ('via stake', 9311), ('stake cukurova', 7441), ('talentum net', 8069), ('sale september', 6138), ('september smaller', 6583), ('smaller expected', 7165), ('part delivery', 3509), ('product belgian', 4519), ('telecom broadband', 8237), ('solution company', 7259), ('teleste spring', 8263), ('risfelt', 5789), ('nyman', 2769), ('schultz', 6339), ('renal', 5411), ('risfelt previously', 5790), ('operational executive', 3071), ('position europolitan', 4182), ('sa american', 5951), ('travel division', 8759), ('well nyman', 9586), ('nyman schultz', 2770), ('schultz ceo', 6340), ('vodafone sweden', 9373), ('sweden ceo', 7944), ('renal product', 5412), ('product ceo', 4523), ('stahlberg', 7433), ('vp', 9420), ('proud', 4793), ('stahlberg vp', 7434), ('vp fsecure', 9421), ('said excited', 5999), ('proud fsecure', 4794), ('recognized avcomparatives', 5213), ('product year', 4565), ('news advertising', 2508), ('tutkimuksen', 8858), ('tahdet', 8038), ('viii', 9336), ('star', 7469), ('plc hel', 4043), ('poh said', 4095), ('today issue', 8509), ('usd indexlinked', 9091), ('pohjola tutkimuksen', 4100), ('tutkimuksen tahdet', 8859), ('tahdet viii', 8039), ('viii pohjola', 9338), ('pohjola research', 4099), ('research star', 5577), ('star viii', 7470), ('viii october', 9337), ('report scheduled', 5501), ('scheduled published', 6323), ('published calendar', 4867), ('upm stock', 9046), ('stock fell', 7596), ('trading helsinki', 8669), ('share continued', 6771), ('updated', 9030), ('segment updated', 6491), ('updated according', 9031), ('price may', 4384), ('systeemitiimi', 7995), ('strengthened', 7686), ('paul', 3617), ('skogberg', 7108), ('systeemitiimi sale', 7996), ('sale project', 6126), ('project resource', 4724), ('resource also', 5596), ('strengthened director', 7687), ('paul skogberg', 3618), ('skogberg said', 7109), ('sale came', 6064), ('privatisation', 4457), ('nordea definitely', 2644), ('sampo acquire', 6176), ('said analyst', 5982), ('sampo would', 6183), ('would appear', 9800), ('nordea ahead', 2639), ('new equipment', 2472), ('training startup', 8698), ('startup service', 7508), ('well service', 9604), ('service work', 6684), ('work shoe', 9765), ('shoe press', 6925), ('press delivered', 4337), ('rental building', 5434), ('percent operating', 3751), ('salcomp oyj', 6056), ('oyj finnish', 3368), ('posted eur', 4213), ('period previous', 3800), ('scopi', 6357), ('scopi chief', 6358), ('officer eng', 2866), ('switzerland', 7974), ('ukraine', 8928), ('uk usa', 8925), ('usa spain', 9077), ('spain france', 7323), ('sweden norway', 7951), ('norway netherlands', 2692), ('netherlands austria', 2426), ('switzerland czech', 7975), ('republic finland', 5555), ('russia ukraine', 5912), ('ukraine denmark', 8929), ('sale tecnotree', 6149), ('tecnotree company', 8208), ('recently told', 5205), ('told bnamericas', 8524), ('sampo stake', 6182), ('stake nordea', 7446), ('wo', 9743), ('overnight', 3295), ('wo nt', 9744), ('nt happen', 2738), ('served starting', 6601), ('starting eet', 7501), ('well event', 9571), ('sal', 6048), ('salcomp plc', 6057), ('sal wednesday', 6049), ('wednesday november', 9533), ('november lowered', 2727), ('would eur', 9805), ('relating', 5329), ('start negotiation', 7480), ('negotiation relating', 2398), ('relating glaston', 5330), ('program announced', 4678), ('sdm', 6372), ('scaffolding', 6281), ('sdm offer', 6373), ('offer general', 2825), ('rental equipment', 5436), ('scaffolding power', 6282), ('power generator', 4249), ('talentum disclose', 8066), ('three interim', 8382), ('report january', 5488), ('september friday', 6576), ('varma', 9251), ('ver', 9288), ('varma well', 9252), ('well finnish', 9573), ('state pension', 7516), ('pension fund', 3703), ('year however', 9903), ('target inflation', 8125), ('plx', 4081), ('stake plx', 7447), ('plx said', 4082), ('said according', 5980), ('store engaged', 7648), ('operation nordic', 3049), ('russia belarus', 5903), ('plc service', 4054), ('resignation', 5589), ('salcomp mobile', 6055), ('said appointed', 5983), ('resignation mat', 5590), ('sanyo', 6214), ('nokia announced', 2582), ('plan team', 3958), ('team sanyo', 8161), ('sanyo manufacture', 6215), ('tyre fourthquarter', 8902), ('report beat', 5472), ('scala', 6283), ('nobel', 2573), ('morgan expects', 2187), ('scala lower', 6284), ('nobel biocare', 2574), ('pct well', 3671), ('well operating', 9587), ('target current', 8123), ('newly', 2502), ('said operation', 6017), ('operation sold', 3065), ('sold newly', 7229), ('newly established', 2503), ('present management', 4313), ('plastic business', 4005), ('pay sek', 3625), ('sek usd', 6504), ('usd meur', 9096), ('nyse announced', 2772), ('service gts', 6639), ('new mandate', 2481), ('motorola accounted', 2215), ('percent south', 3757), ('south korean', 7303), ('samsung held', 6188), ('percent lg', 3745), ('percent according', 3733), ('research group', 5574)])"
      ]
     },
     "execution_count": 28,
     "metadata": {},
     "output_type": "execute_result"
    }
   ],
   "source": [
    "vocab = vectorizer.vocabulary_   # is a dict\n",
    "vocab.items()"
   ]
  },
  {
   "cell_type": "code",
   "execution_count": 29,
   "metadata": {
    "colab": {
     "base_uri": "https://localhost:8080/"
    },
    "executionInfo": {
     "elapsed": 42305,
     "status": "ok",
     "timestamp": 1621191361294,
     "user": {
      "displayName": "Sanjiv Das",
      "photoUrl": "https://lh3.googleusercontent.com/a-/AOh14GhgUU3RgThSxLUq6NKSN2tDGDl8IQdtHMvdaZPE=s64",
      "userId": "06377870171053566924"
     },
     "user_tz": 420
    },
    "id": "9EES5uwqYfRb",
    "outputId": "7eaf7004-7d4e-47e7-9849-0bf14e1648e1"
   },
   "outputs": [
    {
     "data": {
      "text/plain": [
       "(1811, 10000)"
      ]
     },
     "execution_count": 29,
     "metadata": {},
     "output_type": "execute_result"
    }
   ],
   "source": [
    "X_train.shape"
   ]
  },
  {
   "cell_type": "markdown",
   "metadata": {
    "id": "jM4sEWXTCujR"
   },
   "source": [
    "## Visualize the DTM"
   ]
  },
  {
   "cell_type": "code",
   "execution_count": 18,
   "metadata": {
    "colab": {
     "base_uri": "https://localhost:8080/",
     "height": 491
    },
    "executionInfo": {
     "elapsed": 47662,
     "status": "ok",
     "timestamp": 1621191366655,
     "user": {
      "displayName": "Sanjiv Das",
      "photoUrl": "https://lh3.googleusercontent.com/a-/AOh14GhgUU3RgThSxLUq6NKSN2tDGDl8IQdtHMvdaZPE=s64",
      "userId": "06377870171053566924"
     },
     "user_tz": 420
    },
    "id": "9spv2OT3LZ34",
    "outputId": "bd586732-3a10-4ea0-bf1c-87781d619b92"
   },
   "outputs": [
    {
     "data": {
      "text/plain": [
       "Text(114.0, 0.5, 'Documents')"
      ]
     },
     "execution_count": 18,
     "metadata": {
      "tags": []
     },
     "output_type": "execute_result"
    },
    {
     "data": {
      "image/png": "[encoded data removed]",
      "text/plain": [
       "<Figure size 1080x504 with 1 Axes>"
      ]
     },
     "metadata": {
      "needs_background": "light",
      "tags": []
     },
     "output_type": "display_data"
    }
   ],
   "source": [
    "figure(figsize=(15,7))\n",
    "sns.heatmap(X_train.todense() [:,np.random.randint(0,X_train.shape[1],2000)]==0, \n",
    "            vmin=0, vmax=1, cbar=False).set_title('Document Term Matrix (DTM)')\n",
    "xlabel('Terms'); ylabel('Documents')"
   ]
  },
  {
   "cell_type": "markdown",
   "metadata": {
    "id": "W9s_wzmKCujS"
   },
   "source": [
    "## Reduce the dimension of the vocabulary"
   ]
  },
  {
   "cell_type": "code",
   "execution_count": 19,
   "metadata": {
    "colab": {
     "base_uri": "https://localhost:8080/"
    },
    "executionInfo": {
     "elapsed": 47659,
     "status": "ok",
     "timestamp": 1621191366656,
     "user": {
      "displayName": "Sanjiv Das",
      "photoUrl": "https://lh3.googleusercontent.com/a-/AOh14GhgUU3RgThSxLUq6NKSN2tDGDl8IQdtHMvdaZPE=s64",
      "userId": "06377870171053566924"
     },
     "user_tz": 420
    },
    "id": "ikfTAFQSLZ37",
    "outputId": "f67361e3-557f-4dbf-f75a-ef5c4019f9de"
   },
   "outputs": [
    {
     "name": "stdout",
     "output_type": "stream",
     "text": [
      "<class 'list'>\n",
      "['decreased', 'decreased eur', 'fell', 'eur mn', 'mn', 'sale decreased', 'operating loss', 'fell eur', 'compared profit', 'eur']\n",
      "# features = 1221\n"
     ]
    }
   ],
   "source": [
    "# Feature reduction using feature selection in sklearn\n",
    "y = df_train[\"Label\"]\n",
    "X_names = vectorizer.get_feature_names() \n",
    "p_value_limit = 0.75\n",
    "df_features = pd.DataFrame() \n",
    "for cat in np.unique(y):\n",
    "    chi2, p = feature_selection.chi2(X_train, y==cat) \n",
    "    df_features = df_features.append(pd.DataFrame({\"feature\":X_names, \"score\":1-p, \"y\":cat})) \n",
    "    df_features = df_features.sort_values([\"y\",\"score\"],ascending=[True,False])\n",
    "    df_features = df_features[df_features[\"score\"]>p_value_limit]\n",
    "X_names = df_features[\"feature\"].unique().tolist()\n",
    "print(type(X_names)); print(X_names[:10])\n",
    "print(\"# features =\",len(X_names))"
   ]
  },
  {
   "cell_type": "code",
   "execution_count": 20,
   "metadata": {
    "executionInfo": {
     "elapsed": 47656,
     "status": "ok",
     "timestamp": 1621191366657,
     "user": {
      "displayName": "Sanjiv Das",
      "photoUrl": "https://lh3.googleusercontent.com/a-/AOh14GhgUU3RgThSxLUq6NKSN2tDGDl8IQdtHMvdaZPE=s64",
      "userId": "06377870171053566924"
     },
     "user_tz": 420
    },
    "id": "PvjldBBaLZ3-"
   },
   "outputs": [],
   "source": [
    "# !conda install -c conda-forge xgboost -y"
   ]
  },
  {
   "cell_type": "markdown",
   "metadata": {
    "id": "1FiTu3UbaECB"
   },
   "source": [
    "## TFIDF Transform Classification"
   ]
  },
  {
   "cell_type": "code",
   "execution_count": 21,
   "metadata": {
    "colab": {
     "base_uri": "https://localhost:8080/"
    },
    "executionInfo": {
     "elapsed": 47920,
     "status": "ok",
     "timestamp": 1621191366925,
     "user": {
      "displayName": "Sanjiv Das",
      "photoUrl": "https://lh3.googleusercontent.com/a-/AOh14GhgUU3RgThSxLUq6NKSN2tDGDl8IQdtHMvdaZPE=s64",
      "userId": "06377870171053566924"
     },
     "user_tz": 420
    },
    "id": "OimC_uRqLZ4A",
    "outputId": "25265449-984e-4c6b-9fff-28d3b8da521b"
   },
   "outputs": [
    {
     "name": "stdout",
     "output_type": "stream",
     "text": [
      "Check vocab length: 1221\n"
     ]
    }
   ],
   "source": [
    "# Define Vectorizer\n",
    "vectorizer = feature_extraction.text.TfidfVectorizer(vocabulary=X_names)\n",
    "vectorizer.fit(corpus)\n",
    "X_train = vectorizer.transform(corpus) \n",
    "vocab = vectorizer.vocabulary_\n",
    "print(\"Check vocab length:\", len(vocab))\n",
    "\n",
    "# Define Classifier\n",
    "import xgboost as xgb\n",
    "# classifier = xgb.XGBClassifier(objective=\"binary:logistic\") # for 2 classes\n",
    "classifier = xgb.XGBClassifier(objective=\"multi:softmax\") # for multiclass"
   ]
  },
  {
   "cell_type": "code",
   "execution_count": 22,
   "metadata": {
    "executionInfo": {
     "elapsed": 47917,
     "status": "ok",
     "timestamp": 1621191366926,
     "user": {
      "displayName": "Sanjiv Das",
      "photoUrl": "https://lh3.googleusercontent.com/a-/AOh14GhgUU3RgThSxLUq6NKSN2tDGDl8IQdtHMvdaZPE=s64",
      "userId": "06377870171053566924"
     },
     "user_tz": 420
    },
    "id": "fO6qznqiLZ4D"
   },
   "outputs": [],
   "source": [
    "# Pipeline using sklearn\n",
    "model = pipeline.Pipeline([(\"vectorizer\", vectorizer),\n",
    "                           (\"classifier\", classifier)])"
   ]
  },
  {
   "cell_type": "code",
   "execution_count": 23,
   "metadata": {
    "executionInfo": {
     "elapsed": 49681,
     "status": "ok",
     "timestamp": 1621191368694,
     "user": {
      "displayName": "Sanjiv Das",
      "photoUrl": "https://lh3.googleusercontent.com/a-/AOh14GhgUU3RgThSxLUq6NKSN2tDGDl8IQdtHMvdaZPE=s64",
      "userId": "06377870171053566924"
     },
     "user_tz": 420
    },
    "id": "ws3iaS5uLZ4G"
   },
   "outputs": [],
   "source": [
    "model[\"classifier\"].fit(X_train, y_train)\n",
    "X_test = df_test[\"cleanTxt\"].values \n",
    "predicted = model.predict(X_test) \n",
    "predicted_prob = model.predict_proba(X_test)"
   ]
  },
  {
   "cell_type": "code",
   "execution_count": 24,
   "metadata": {
    "colab": {
     "base_uri": "https://localhost:8080/"
    },
    "executionInfo": {
     "elapsed": 49678,
     "status": "ok",
     "timestamp": 1621191368695,
     "user": {
      "displayName": "Sanjiv Das",
      "photoUrl": "https://lh3.googleusercontent.com/a-/AOh14GhgUU3RgThSxLUq6NKSN2tDGDl8IQdtHMvdaZPE=s64",
      "userId": "06377870171053566924"
     },
     "user_tz": 420
    },
    "id": "cqIIiC6HLZ4I",
    "outputId": "abbbeaf9-5675-45fd-b4cc-92caf7acc459"
   },
   "outputs": [
    {
     "name": "stdout",
     "output_type": "stream",
     "text": [
      "Accuracy: 0.83\n",
      "Detail:\n",
      "              precision    recall  f1-score   support\n",
      "\n",
      "    negative       0.86      0.47      0.61        64\n",
      "     neutral       0.85      0.96      0.90       281\n",
      "    positive       0.73      0.68      0.70       108\n",
      "\n",
      "    accuracy                           0.83       453\n",
      "   macro avg       0.81      0.70      0.74       453\n",
      "weighted avg       0.82      0.83      0.81       453\n",
      "\n",
      "[[ 30  16  18]\n",
      " [  1 271   9]\n",
      " [  4  31  73]]\n"
     ]
    }
   ],
   "source": [
    "accuracy = metrics.accuracy_score(y_test, predicted) \n",
    "# auc = metrics.roc_auc_score(y_test, predicted_prob[:,1])  # only for binary classification\n",
    "print(\"Accuracy:\", round(accuracy,2))\n",
    "# print(\"Auc:\", round(auc,2))\n",
    "print(\"Detail:\") \n",
    "print(metrics.classification_report(y_test, predicted))\n",
    "cm = metrics.confusion_matrix(y_test, predicted)\n",
    "print(cm)"
   ]
  },
  {
   "cell_type": "markdown",
   "metadata": {
    "id": "n-U5xCIcLZ4L"
   },
   "source": [
    "## Using Embeddings\n",
    "\n",
    "Ideally, we want an embedding model which gives us the smallest embedding vector and works great for the task. The smaller the embedding size, the lesser the compute required for training as well as inference.\n",
    "\n",
    "Use a pre-trained model below or roll one's own embeddings. We will do the latter. (Hence the Google News embeddings of vector size 300 are ignored.)"
   ]
  },
  {
   "cell_type": "code",
   "execution_count": 25,
   "metadata": {
    "colab": {
     "base_uri": "https://localhost:8080/"
    },
    "executionInfo": {
     "elapsed": 49676,
     "status": "ok",
     "timestamp": 1621191368696,
     "user": {
      "displayName": "Sanjiv Das",
      "photoUrl": "https://lh3.googleusercontent.com/a-/AOh14GhgUU3RgThSxLUq6NKSN2tDGDl8IQdtHMvdaZPE=s64",
      "userId": "06377870171053566924"
     },
     "user_tz": 420
    },
    "id": "t2GBO1LkLZ4L",
    "outputId": "7465cb73-a1bb-4ec7-e90d-422d4c2c4c95"
   },
   "outputs": [
    {
     "name": "stdout",
     "output_type": "stream",
     "text": [
      "CPU times: user 3 µs, sys: 1e+03 ns, total: 4 µs\n",
      "Wall time: 5.25 µs\n"
     ]
    }
   ],
   "source": [
    "%%time\n",
    "# Load a word-embedding model, only required for the first time\n",
    "# nlp = gensim_api.load(\"word2vec-google-news-300\")  # pre-trained by Google\n",
    "# nlp = gensim_api.load(\"glove-wiki-gigaword-100\")  # load pre-trained word-vectors from gensim-data\n",
    "\n",
    "# Saving the word vectors to disk and then reloading when needed\n",
    "# nlp.save('googlenews_vectors.kv')\n",
    "\n",
    "# from gensim.models import KeyedVectors\n",
    "# reloaded_word_vectors = KeyedVectors.load('googlenews_vectors.kv')"
   ]
  },
  {
   "cell_type": "code",
   "execution_count": 26,
   "metadata": {
    "executionInfo": {
     "elapsed": 49672,
     "status": "ok",
     "timestamp": 1621191368696,
     "user": {
      "displayName": "Sanjiv Das",
      "photoUrl": "https://lh3.googleusercontent.com/a-/AOh14GhgUU3RgThSxLUq6NKSN2tDGDl8IQdtHMvdaZPE=s64",
      "userId": "06377870171053566924"
     },
     "user_tz": 420
    },
    "id": "EFiThlkKLZ4P"
   },
   "outputs": [],
   "source": [
    "# Create embeddings from data itself\n",
    "corpus = df_train[\"cleanTxt\"]\n",
    "\n",
    "## create list of lists of unigrams\n",
    "lst_corpus = []\n",
    "for string in corpus:\n",
    "    lst_words = string.split()\n",
    "    lst_grams = [\" \".join(lst_words[i:i+1]) for i in range(0, len(lst_words), 1)] \n",
    "    lst_corpus.append(lst_grams)"
   ]
  },
  {
   "cell_type": "markdown",
   "metadata": {
    "id": "J06VnuJvCujV"
   },
   "source": [
    "#### Use the next two blocks only if not using google word vectors"
   ]
  },
  {
   "cell_type": "code",
   "execution_count": 27,
   "metadata": {
    "colab": {
     "base_uri": "https://localhost:8080/"
    },
    "executionInfo": {
     "elapsed": 50196,
     "status": "ok",
     "timestamp": 1621191369224,
     "user": {
      "displayName": "Sanjiv Das",
      "photoUrl": "https://lh3.googleusercontent.com/a-/AOh14GhgUU3RgThSxLUq6NKSN2tDGDl8IQdtHMvdaZPE=s64",
      "userId": "06377870171053566924"
     },
     "user_tz": 420
    },
    "id": "1EqHkLmmCujV",
    "outputId": "0518cd00-aef1-4a8a-f58b-ac250c1289d0"
   },
   "outputs": [
    {
     "name": "stdout",
     "output_type": "stream",
     "text": [
      "Size of training corpus: 1811\n",
      "size of each element: 9 12\n"
     ]
    }
   ],
   "source": [
    "## detect bigrams and trigrams\n",
    "bigrams_detector = gensim.models.phrases.Phrases(lst_corpus, delimiter=\" \".encode(), min_count=5, threshold=10) \n",
    "bigrams_detector = gensim.models.phrases.Phraser(bigrams_detector)\n",
    "trigrams_detector = gensim.models.phrases.Phrases(bigrams_detector[lst_corpus],\n",
    "                                                  delimiter=\" \".encode(), min_count=5, threshold=10) \n",
    "trigrams_detector = gensim.models.phrases.Phraser(trigrams_detector)\n",
    "\n",
    "## Run this for bigrams (and trigrams, if desired)\n",
    "lst_corpus = list(bigrams_detector[lst_corpus]) \n",
    "# lst_corpus = list(trigrams_detector[lst_corpus])\n",
    "\n",
    "print(\"Size of training corpus:\", len(lst_corpus))\n",
    "print(\"size of each element:\", len(lst_corpus[0]), len(lst_corpus[1])) # print first two docs length\n",
    "# lst_corpus"
   ]
  },
  {
   "cell_type": "code",
   "execution_count": 28,
   "metadata": {
    "colab": {
     "base_uri": "https://localhost:8080/"
    },
    "executionInfo": {
     "elapsed": 55052,
     "status": "ok",
     "timestamp": 1621191374084,
     "user": {
      "displayName": "Sanjiv Das",
      "photoUrl": "https://lh3.googleusercontent.com/a-/AOh14GhgUU3RgThSxLUq6NKSN2tDGDl8IQdtHMvdaZPE=s64",
      "userId": "06377870171053566924"
     },
     "user_tz": 420
    },
    "id": "1WBsjOb3LZ4V",
    "outputId": "8ee6f985-31b8-41bd-bbde-af66b88d9653"
   },
   "outputs": [
    {
     "name": "stdout",
     "output_type": "stream",
     "text": [
      "CPU times: user 7.92 s, sys: 74.7 ms, total: 8 s\n",
      "Wall time: 4.78 s\n"
     ]
    }
   ],
   "source": [
    "%%time\n",
    "# fit w2v\n",
    "# Params: word vector size, window within sentence, skip grams (sg) \n",
    "vector_size = 300\n",
    "nlp = gensim.models.word2vec.Word2Vec(lst_corpus, size=vector_size, window=8, min_count=1, sg=1, iter=30)"
   ]
  },
  {
   "cell_type": "markdown",
   "metadata": {
    "id": "3ynWICw5CujW"
   },
   "source": [
    "#### Use the chosen word vector system "
   ]
  },
  {
   "cell_type": "code",
   "execution_count": 29,
   "metadata": {
    "colab": {
     "base_uri": "https://localhost:8080/"
    },
    "executionInfo": {
     "elapsed": 55049,
     "status": "ok",
     "timestamp": 1621191374085,
     "user": {
      "displayName": "Sanjiv Das",
      "photoUrl": "https://lh3.googleusercontent.com/a-/AOh14GhgUU3RgThSxLUq6NKSN2tDGDl8IQdtHMvdaZPE=s64",
      "userId": "06377870171053566924"
     },
     "user_tz": 420
    },
    "id": "Hg2DNXVzLZ4Y",
    "outputId": "bfaf15ab-3bde-43d3-fa7f-da3893de5a09"
   },
   "outputs": [
    {
     "name": "stdout",
     "output_type": "stream",
     "text": [
      "[('warning', 0.9398658275604248), ('loss', 0.9250315427780151), ('operating loss', 0.9025672674179077), ('earned', 0.9015887975692749), ('revealed', 0.9007972478866577)]\n"
     ]
    },
    {
     "name": "stderr",
     "output_type": "stream",
     "text": [
      "/usr/local/lib/python3.7/dist-packages/ipykernel_launcher.py:3: DeprecationWarning: Call to deprecated `__getitem__` (Method will be removed in 4.0.0, use self.wv.__getitem__() instead).\n",
      "  This is separate from the ipykernel package so we can avoid doing imports until\n",
      "/usr/local/lib/python3.7/dist-packages/ipykernel_launcher.py:4: DeprecationWarning: Call to deprecated `__getitem__` (Method will be removed in 4.0.0, use self.wv.__getitem__() instead).\n",
      "  after removing the cwd from sys.path.\n",
      "/usr/local/lib/python3.7/dist-packages/ipykernel_launcher.py:5: DeprecationWarning: Call to deprecated `most_similar` (Method will be removed in 4.0.0, use self.wv.most_similar() instead).\n",
      "  \"\"\"\n",
      "/usr/local/lib/python3.7/dist-packages/ipykernel_launcher.py:7: DeprecationWarning: Call to deprecated `most_similar` (Method will be removed in 4.0.0, use self.wv.most_similar() instead).\n",
      "  import sys\n",
      "/usr/local/lib/python3.7/dist-packages/ipykernel_launcher.py:8: DeprecationWarning: Call to deprecated `__getitem__` (Method will be removed in 4.0.0, use self.wv.__getitem__() instead).\n",
      "  \n"
     ]
    },
    {
     "data": {
      "text/plain": [
       "(26, 300)"
      ]
     },
     "execution_count": 29,
     "metadata": {
      "tags": []
     },
     "output_type": "execute_result"
    }
   ],
   "source": [
    "# Visualize word context\n",
    "word = \"profit\"\n",
    "vector_size = len(nlp[word])\n",
    "word_vec = nlp[word] # to see a sample word vector\n",
    "print(nlp.most_similar(word, topn=5))\n",
    "## word embedding\n",
    "tot_words = [word] + [j[0] for j in nlp.most_similar(word, topn=25)]\n",
    "X = nlp[tot_words]\n",
    "X.shape"
   ]
  },
  {
   "cell_type": "code",
   "execution_count": 30,
   "metadata": {
    "colab": {
     "base_uri": "https://localhost:8080/"
    },
    "executionInfo": {
     "elapsed": 55431,
     "status": "ok",
     "timestamp": 1621191374471,
     "user": {
      "displayName": "Sanjiv Das",
      "photoUrl": "https://lh3.googleusercontent.com/a-/AOh14GhgUU3RgThSxLUq6NKSN2tDGDl8IQdtHMvdaZPE=s64",
      "userId": "06377870171053566924"
     },
     "user_tz": 420
    },
    "id": "pQicJPbsLZ4a",
    "outputId": "578de938-805e-4ced-8ae0-c58ae8c12640"
   },
   "outputs": [
    {
     "name": "stdout",
     "output_type": "stream",
     "text": [
      "(26, 3)\n"
     ]
    },
    {
     "name": "stderr",
     "output_type": "stream",
     "text": [
      "/usr/local/lib/python3.7/dist-packages/pandas/core/indexing.py:670: SettingWithCopyWarning: \n",
      "A value is trying to be set on a copy of a slice from a DataFrame\n",
      "\n",
      "See the caveats in the documentation: https://pandas.pydata.org/pandas-docs/stable/user_guide/indexing.html#returning-a-view-versus-a-copy\n",
      "  iloc._setitem_with_indexer(indexer, value)\n"
     ]
    }
   ],
   "source": [
    "## Reduce dimensionality from vector_size to 3\n",
    "pca = manifold.TSNE(perplexity=40, n_components=3, init='pca') \n",
    "X = pca.fit_transform(X)\n",
    "print(X.shape)\n",
    "\n",
    "## make X into dataframe\n",
    "df_ = pd.DataFrame(X, index=tot_words, columns=[\"x\",\"y\",\"z\"]) \n",
    "df_[\"input\"] = 0\n",
    "df_[\"input\"].iloc[0:1] = 1\n"
   ]
  },
  {
   "cell_type": "code",
   "execution_count": 31,
   "metadata": {
    "colab": {
     "base_uri": "https://localhost:8080/",
     "height": 575
    },
    "executionInfo": {
     "elapsed": 55807,
     "status": "ok",
     "timestamp": 1621191374851,
     "user": {
      "displayName": "Sanjiv Das",
      "photoUrl": "https://lh3.googleusercontent.com/a-/AOh14GhgUU3RgThSxLUq6NKSN2tDGDl8IQdtHMvdaZPE=s64",
      "userId": "06377870171053566924"
     },
     "user_tz": 420
    },
    "id": "gZU6FqI-LZ4d",
    "outputId": "f2174686-5ea7-41be-f366-ca368db191ee"
   },
   "outputs": [
    {
     "data": {
      "image/png": "[encoded data removed]",
      "text/plain": [
       "<Figure size 720x720 with 1 Axes>"
      ]
     },
     "metadata": {
      "needs_background": "light",
      "tags": []
     },
     "output_type": "display_data"
    }
   ],
   "source": [
    "## TSNE plot 3d\n",
    "from mpl_toolkits.mplot3d import Axes3D \n",
    "fig = figure(figsize=(10,10))\n",
    "ax = fig.add_subplot(111, projection='3d') \n",
    "ax.scatter(df_[df_[\"input\"]==0]['x'],\n",
    "df_[df_[\"input\"]==0]['y'],\n",
    "df_[df_[\"input\"]==0]['z'], c=\"black\") \n",
    "ax.scatter(df_[df_[\"input\"]==1]['x'],\n",
    "df_[df_[\"input\"]==1]['y'],\n",
    "df_[df_[\"input\"]==1]['z'], c=\"red\") \n",
    "ax.set(xlabel=None, ylabel=None, zlabel=None, xticklabels=[],\n",
    "yticklabels=[], zticklabels=[])\n",
    "for label, row in df_[[\"x\",\"y\",\"z\"]].iterrows():\n",
    "    x, y, z = row\n",
    "    ax.text(x, y, z, s=label)"
   ]
  },
  {
   "cell_type": "markdown",
   "metadata": {
    "id": "5-9efp2mrNOu"
   },
   "source": [
    "### Now prepare the text embeddings to go into the neural network"
   ]
  },
  {
   "cell_type": "code",
   "execution_count": 32,
   "metadata": {
    "colab": {
     "base_uri": "https://localhost:8080/"
    },
    "executionInfo": {
     "elapsed": 56024,
     "status": "ok",
     "timestamp": 1621191375071,
     "user": {
      "displayName": "Sanjiv Das",
      "photoUrl": "https://lh3.googleusercontent.com/a-/AOh14GhgUU3RgThSxLUq6NKSN2tDGDl8IQdtHMvdaZPE=s64",
      "userId": "06377870171053566924"
     },
     "user_tz": 420
    },
    "id": "b-o-gnP-LZ4h",
    "outputId": "a1ab3574-2901-4f5a-ba30-90f516e84acc"
   },
   "outputs": [
    {
     "name": "stdout",
     "output_type": "stream",
     "text": [
      "1811\n"
     ]
    },
    {
     "data": {
      "text/plain": [
       "[460, 200, 406, 751, 47, 2104, 124, 59, 17]"
      ]
     },
     "execution_count": 32,
     "metadata": {
      "tags": []
     },
     "output_type": "execute_result"
    }
   ],
   "source": [
    "## tokenize text, use keras processing\n",
    "tokenizer = kprocessing.text.Tokenizer(lower=True, split=' ', oov_token=\"NaN\", \n",
    "                                       filters='!\"#$%&()*+,-./:;<=>?@[\\\\]^_`{|}~\\t\\n') \n",
    "tokenizer.fit_on_texts(lst_corpus)\n",
    "vocab = tokenizer.word_index\n",
    "\n",
    "## create sequence\n",
    "lst_text2seq = tokenizer.texts_to_sequences(lst_corpus) # token ids for words in each doc\n",
    "print(len(lst_text2seq))\n",
    "lst_text2seq[0]"
   ]
  },
  {
   "cell_type": "code",
   "execution_count": 33,
   "metadata": {
    "colab": {
     "base_uri": "https://localhost:8080/"
    },
    "executionInfo": {
     "elapsed": 56021,
     "status": "ok",
     "timestamp": 1621191375072,
     "user": {
      "displayName": "Sanjiv Das",
      "photoUrl": "https://lh3.googleusercontent.com/a-/AOh14GhgUU3RgThSxLUq6NKSN2tDGDl8IQdtHMvdaZPE=s64",
      "userId": "06377870171053566924"
     },
     "user_tz": 420
    },
    "id": "eMniHkqtCujX",
    "outputId": "ac356d08-6756-4309-dd20-7d0fe999c91f"
   },
   "outputs": [
    {
     "name": "stdout",
     "output_type": "stream",
     "text": [
      "[[ 460  200  406 ...    0    0    0]\n",
      " [1427 2105  613 ...    0    0    0]\n",
      " [ 752   27   68 ...    0    0    0]\n",
      " ...\n",
      " [   8 1836    7 ...    0    0    0]\n",
      " [ 128  165  116 ...    0    0    0]\n",
      " [ 353 2003 1941 ...    0    0    0]]\n",
      "(1811, 128)\n"
     ]
    }
   ],
   "source": [
    "# TRAIN DATASET\n",
    "## padding sequence\n",
    "max_seq_length = 128\n",
    "X_train = kprocessing.sequence.pad_sequences(lst_text2seq, maxlen=max_seq_length, padding=\"post\", truncating=\"post\")\n",
    "print(X_train)\n",
    "print(X_train.shape)"
   ]
  },
  {
   "cell_type": "code",
   "execution_count": 34,
   "metadata": {
    "colab": {
     "base_uri": "https://localhost:8080/"
    },
    "executionInfo": {
     "elapsed": 56017,
     "status": "ok",
     "timestamp": 1621191375072,
     "user": {
      "displayName": "Sanjiv Das",
      "photoUrl": "https://lh3.googleusercontent.com/a-/AOh14GhgUU3RgThSxLUq6NKSN2tDGDl8IQdtHMvdaZPE=s64",
      "userId": "06377870171053566924"
     },
     "user_tz": 420
    },
    "id": "wfSkY0NbLZ4k",
    "outputId": "9414b2fd-7215-443c-968b-d2b4f77fa84e"
   },
   "outputs": [
    {
     "name": "stdout",
     "output_type": "stream",
     "text": [
      "453\n"
     ]
    }
   ],
   "source": [
    "# TEST DATA SET\n",
    "# Create embeddings from data itself\n",
    "corpus = df_test[\"cleanTxt\"]\n",
    "\n",
    "## create list of lists of unigrams\n",
    "lst_corpus = []\n",
    "for string in corpus:\n",
    "    lst_words = string.split()\n",
    "    lst_grams = [\" \".join(lst_words[i:i+1]) for i in range(0, len(lst_words), 1)] \n",
    "    lst_corpus.append(lst_grams)\n",
    "\n",
    "# lst_corpus = list(bigrams_detector[lst_corpus]) # Use if we want bigrams\n",
    "# lst_corpus = list(trigrams_detector[lst_corpus]) # Use if we want trigrams\n",
    "print(len(lst_corpus))\n",
    "# lst_corpus"
   ]
  },
  {
   "cell_type": "code",
   "execution_count": 35,
   "metadata": {
    "colab": {
     "base_uri": "https://localhost:8080/"
    },
    "executionInfo": {
     "elapsed": 56014,
     "status": "ok",
     "timestamp": 1621191375073,
     "user": {
      "displayName": "Sanjiv Das",
      "photoUrl": "https://lh3.googleusercontent.com/a-/AOh14GhgUU3RgThSxLUq6NKSN2tDGDl8IQdtHMvdaZPE=s64",
      "userId": "06377870171053566924"
     },
     "user_tz": 420
    },
    "id": "Ol9__kVCLZ4p",
    "outputId": "02c98f67-b363-4471-8362-24529ef7c14a"
   },
   "outputs": [
    {
     "name": "stdout",
     "output_type": "stream",
     "text": [
      "[[ 752    1  131 ...    0    0    0]\n",
      " [   1    1  142 ...    0    0    0]\n",
      " [ 946    1 1444 ...    0    0    0]\n",
      " ...\n",
      " [1043  692    1 ...    0    0    0]\n",
      " [  29 4342   36 ...    0    0    0]\n",
      " [ 131   45  826 ...    0    0    0]]\n",
      "(453, 128)\n"
     ]
    }
   ],
   "source": [
    "## create sequence\n",
    "lst_text2seq = tokenizer.texts_to_sequences(lst_corpus)\n",
    "\n",
    "## padding sequence\n",
    "X_test = kprocessing.sequence.pad_sequences(lst_text2seq, maxlen=max_seq_length, padding=\"post\", truncating=\"post\")\n",
    "print(X_test)\n",
    "print(X_test.shape)"
   ]
  },
  {
   "cell_type": "code",
   "execution_count": 36,
   "metadata": {
    "colab": {
     "base_uri": "https://localhost:8080/"
    },
    "executionInfo": {
     "elapsed": 56010,
     "status": "ok",
     "timestamp": 1621191375073,
     "user": {
      "displayName": "Sanjiv Das",
      "photoUrl": "https://lh3.googleusercontent.com/a-/AOh14GhgUU3RgThSxLUq6NKSN2tDGDl8IQdtHMvdaZPE=s64",
      "userId": "06377870171053566924"
     },
     "user_tz": 420
    },
    "id": "shrfxvEGLZ4r",
    "outputId": "4c11a3a9-980d-443b-dc86-8a6c4aa9e494"
   },
   "outputs": [
    {
     "name": "stdout",
     "output_type": "stream",
     "text": [
      "(4499, 300)\n"
     ]
    },
    {
     "name": "stderr",
     "output_type": "stream",
     "text": [
      "/usr/local/lib/python3.7/dist-packages/ipykernel_launcher.py:7: DeprecationWarning: Call to deprecated `__getitem__` (Method will be removed in 4.0.0, use self.wv.__getitem__() instead).\n",
      "  import sys\n"
     ]
    }
   ],
   "source": [
    "# Create embedding matrix (master list of embeddings from which we create the token embeddings for each doc)\n",
    "## start the matrix (length of vocabulary x vector size) with all 0s\n",
    "embeddings = zeros((len(vocab)+1, vector_size))\n",
    "for word,idx in vocab.items():\n",
    "    ## update the row with vector\n",
    "    try:\n",
    "        embeddings[idx] = nlp[word]\n",
    "    ## if word not in model then skip and the row stays all 0s\n",
    "    except:  \n",
    "        pass\n",
    "    \n",
    "print(embeddings.shape)  # This is vocab size V x N embedding dimension "
   ]
  },
  {
   "cell_type": "code",
   "execution_count": 37,
   "metadata": {
    "colab": {
     "base_uri": "https://localhost:8080/"
    },
    "executionInfo": {
     "elapsed": 56005,
     "status": "ok",
     "timestamp": 1621191375074,
     "user": {
      "displayName": "Sanjiv Das",
      "photoUrl": "https://lh3.googleusercontent.com/a-/AOh14GhgUU3RgThSxLUq6NKSN2tDGDl8IQdtHMvdaZPE=s64",
      "userId": "06377870171053566924"
     },
     "user_tz": 420
    },
    "id": "OlU6FuOrLZ4u",
    "outputId": "df7e243c-1bbe-4441-88a1-0e1380c137f6"
   },
   "outputs": [
    {
     "name": "stdout",
     "output_type": "stream",
     "text": [
      "Index of dic[word]: 45\n",
      "Embeddings[idx]: (300,) |vector\n"
     ]
    }
   ],
   "source": [
    "# Locate embedding index for a specific word\n",
    "print(\"Index of dic[word]:\", vocab['profit']) \n",
    "print(\"Embeddings[idx]:\", embeddings[vocab[word]].shape, \"|vector\")\n"
   ]
  },
  {
   "cell_type": "markdown",
   "metadata": {
    "id": "iY02SjKLZX-D"
   },
   "source": [
    "### Building up the NN using LSTMS and attention layer\n",
    "\n",
    "Bidirectional Recurrent Neural Networks (RNNs) involve duplicating the first recurrent layer in the network so that there are now two layers side-by-side, then providing the input sequence as-is as input to the first layer and providing a reversed copy of the input sequence to the second. This is useful for text processing where the context occurs from both sides of a keyword or phrase. "
   ]
  },
  {
   "cell_type": "code",
   "execution_count": 38,
   "metadata": {
    "executionInfo": {
     "elapsed": 56000,
     "status": "ok",
     "timestamp": 1621191375074,
     "user": {
      "displayName": "Sanjiv Das",
      "photoUrl": "https://lh3.googleusercontent.com/a-/AOh14GhgUU3RgThSxLUq6NKSN2tDGDl8IQdtHMvdaZPE=s64",
      "userId": "06377870171053566924"
     },
     "user_tz": 420
    },
    "id": "72ubACeCLZ4x"
   },
   "outputs": [],
   "source": [
    "## code attention layer\n",
    "def attention_layer(inputs, neurons):\n",
    "    x = layers.Permute((2,1))(inputs) \n",
    "    x = layers.Dense(neurons, activation=\"softmax\")(x) # 128x128+128=16512\n",
    "    x = layers.Permute((2,1), name=\"attention\")(x)\n",
    "    x = layers.multiply([inputs, x]) \n",
    "    return x"
   ]
  },
  {
   "cell_type": "code",
   "execution_count": 39,
   "metadata": {
    "colab": {
     "base_uri": "https://localhost:8080/"
    },
    "executionInfo": {
     "elapsed": 62113,
     "status": "ok",
     "timestamp": 1621191381192,
     "user": {
      "displayName": "Sanjiv Das",
      "photoUrl": "https://lh3.googleusercontent.com/a-/AOh14GhgUU3RgThSxLUq6NKSN2tDGDl8IQdtHMvdaZPE=s64",
      "userId": "06377870171053566924"
     },
     "user_tz": 420
    },
    "id": "H1HNPOb3LZ40",
    "outputId": "24f2201f-5709-4241-be48-dfc893c9319d",
    "scrolled": true
   },
   "outputs": [
    {
     "name": "stdout",
     "output_type": "stream",
     "text": [
      "Model: \"model\"\n",
      "__________________________________________________________________________________________________\n",
      "Layer (type)                    Output Shape         Param #     Connected to                     \n",
      "==================================================================================================\n",
      "input_1 (InputLayer)            [(None, 128)]        0                                            \n",
      "__________________________________________________________________________________________________\n",
      "embedding (Embedding)           (None, 128, 300)     1349700     input_1[0][0]                    \n",
      "__________________________________________________________________________________________________\n",
      "permute (Permute)               (None, 300, 128)     0           embedding[0][0]                  \n",
      "__________________________________________________________________________________________________\n",
      "dense (Dense)                   (None, 300, 128)     16512       permute[0][0]                    \n",
      "__________________________________________________________________________________________________\n",
      "attention (Permute)             (None, 128, 300)     0           dense[0][0]                      \n",
      "__________________________________________________________________________________________________\n",
      "multiply (Multiply)             (None, 128, 300)     0           embedding[0][0]                  \n",
      "                                                                 attention[0][0]                  \n",
      "__________________________________________________________________________________________________\n",
      "bidirectional (Bidirectional)   (None, 128, 256)     439296      multiply[0][0]                   \n",
      "__________________________________________________________________________________________________\n",
      "bidirectional_1 (Bidirectional) (None, 256)          394240      bidirectional[0][0]              \n",
      "__________________________________________________________________________________________________\n",
      "dense_1 (Dense)                 (None, 64)           16448       bidirectional_1[0][0]            \n",
      "__________________________________________________________________________________________________\n",
      "dense_2 (Dense)                 (None, 3)            195         dense_1[0][0]                    \n",
      "==================================================================================================\n",
      "Total params: 2,216,391\n",
      "Trainable params: 866,691\n",
      "Non-trainable params: 1,349,700\n",
      "__________________________________________________________________________________________________\n"
     ]
    }
   ],
   "source": [
    "## input\n",
    "x_in = layers.Input(shape=(max_seq_length,))\n",
    "## embedding\n",
    "x = layers.Embedding(input_dim=embeddings.shape[0],\n",
    "                     output_dim=embeddings.shape[1],  # VxN=1335900\n",
    "                     weights=[embeddings],\n",
    "                     input_length=max_seq_length, \n",
    "                     trainable=False)(x_in)\n",
    "## apply attention\n",
    "x = attention_layer(x, neurons=max_seq_length)\n",
    "## 2 layers of bidirectional lstm\n",
    "x = layers.Bidirectional(layers.LSTM(units=max_seq_length, dropout=0.2, return_sequences=True))(x)\n",
    "x = layers.Bidirectional(layers.LSTM(units=max_seq_length, dropout=0.2))(x)\n",
    "## final dense layers\n",
    "x = layers.Dense(64, activation='relu')(x) # 256*64+64=16448\n",
    "y_out = layers.Dense(3, activation='softmax')(x) #64*3+3=195\n",
    "## compile \n",
    "model = models.Model(x_in, y_out) \n",
    "model.compile(loss='sparse_categorical_crossentropy', optimizer='rmsprop', metrics=['accuracy']) \n",
    "model.summary()"
   ]
  },
  {
   "cell_type": "code",
   "execution_count": 40,
   "metadata": {
    "executionInfo": {
     "elapsed": 62109,
     "status": "ok",
     "timestamp": 1621191381193,
     "user": {
      "displayName": "Sanjiv Das",
      "photoUrl": "https://lh3.googleusercontent.com/a-/AOh14GhgUU3RgThSxLUq6NKSN2tDGDl8IQdtHMvdaZPE=s64",
      "userId": "06377870171053566924"
     },
     "user_tz": 420
    },
    "id": "oxe2EFxCCujY"
   },
   "outputs": [],
   "source": [
    "# !conda install pydot -y\n",
    "# !conda install pydotplus -y\n",
    "# !conda install graphviz -y"
   ]
  },
  {
   "cell_type": "code",
   "execution_count": 41,
   "metadata": {
    "colab": {
     "base_uri": "https://localhost:8080/",
     "height": 953
    },
    "executionInfo": {
     "elapsed": 62732,
     "status": "ok",
     "timestamp": 1621191381820,
     "user": {
      "displayName": "Sanjiv Das",
      "photoUrl": "https://lh3.googleusercontent.com/a-/AOh14GhgUU3RgThSxLUq6NKSN2tDGDl8IQdtHMvdaZPE=s64",
      "userId": "06377870171053566924"
     },
     "user_tz": 420
    },
    "id": "n0I7yfl_jsnY",
    "outputId": "a3584555-edb2-42b9-a1e8-e67140a5423d"
   },
   "outputs": [
    {
     "data": {
      "image/png": "[encoded data removed]",
      "text/plain": [
       "<IPython.core.display.Image object>"
      ]
     },
     "execution_count": 41,
     "metadata": {
      "tags": []
     },
     "output_type": "execute_result"
    }
   ],
   "source": [
    "plot_model(model)"
   ]
  },
  {
   "cell_type": "code",
   "execution_count": 42,
   "metadata": {
    "colab": {
     "base_uri": "https://localhost:8080/"
    },
    "executionInfo": {
     "elapsed": 62728,
     "status": "ok",
     "timestamp": 1621191381821,
     "user": {
      "displayName": "Sanjiv Das",
      "photoUrl": "https://lh3.googleusercontent.com/a-/AOh14GhgUU3RgThSxLUq6NKSN2tDGDl8IQdtHMvdaZPE=s64",
      "userId": "06377870171053566924"
     },
     "user_tz": 420
    },
    "id": "Hjcnm2BxLZ42",
    "outputId": "2fe88200-1ca0-4412-9518-f26056b2d7a1"
   },
   "outputs": [
    {
     "data": {
      "text/plain": [
       "array([2, 1, 0, ..., 2, 0, 1])"
      ]
     },
     "execution_count": 42,
     "metadata": {
      "tags": []
     },
     "output_type": "execute_result"
    }
   ],
   "source": [
    "## encode y\n",
    "dic_y_mapping = {n:label for n,label in enumerate(np.unique(y_train))}\n",
    "inverse_dic = {v:k for k,v in dic_y_mapping.items()} \n",
    "y_train = np.array([inverse_dic[y] for y in y_train])\n",
    "y_train"
   ]
  },
  {
   "cell_type": "code",
   "execution_count": 43,
   "metadata": {
    "colab": {
     "base_uri": "https://localhost:8080/"
    },
    "executionInfo": {
     "elapsed": 109230,
     "status": "ok",
     "timestamp": 1621191428327,
     "user": {
      "displayName": "Sanjiv Das",
      "photoUrl": "https://lh3.googleusercontent.com/a-/AOh14GhgUU3RgThSxLUq6NKSN2tDGDl8IQdtHMvdaZPE=s64",
      "userId": "06377870171053566924"
     },
     "user_tz": 420
    },
    "id": "g8E4iHKWLZ44",
    "outputId": "77ba0fac-d815-478c-8cff-1d53b83d9380"
   },
   "outputs": [
    {
     "name": "stdout",
     "output_type": "stream",
     "text": [
      "Epoch 1/5\n",
      "40/40 [==============================] - 40s 84ms/step - loss: 0.9892 - accuracy: 0.6152 - val_loss: 0.7873 - val_accuracy: 0.6673\n",
      "Epoch 2/5\n",
      "40/40 [==============================] - 2s 41ms/step - loss: 0.6812 - accuracy: 0.7277 - val_loss: 0.6341 - val_accuracy: 0.7537\n",
      "Epoch 3/5\n",
      "40/40 [==============================] - 2s 41ms/step - loss: 0.5947 - accuracy: 0.7796 - val_loss: 0.6098 - val_accuracy: 0.7482\n",
      "Epoch 4/5\n",
      "40/40 [==============================] - 2s 40ms/step - loss: 0.6218 - accuracy: 0.7629 - val_loss: 0.7084 - val_accuracy: 0.6581\n",
      "Epoch 5/5\n",
      "40/40 [==============================] - 2s 40ms/step - loss: 0.6085 - accuracy: 0.7370 - val_loss: 0.5804 - val_accuracy: 0.7684\n",
      "CPU times: user 17.4 s, sys: 1.9 s, total: 19.3 s\n",
      "Wall time: 46.5 s\n"
     ]
    }
   ],
   "source": [
    "%%time\n",
    "## train (try this with and without a GPU)\n",
    "training = model.fit(x=X_train, y=y_train, batch_size=32, epochs=25, shuffle=True, verbose=1, validation_split=0.3)"
   ]
  },
  {
   "cell_type": "code",
   "execution_count": 44,
   "metadata": {
    "colab": {
     "base_uri": "https://localhost:8080/",
     "height": 295
    },
    "executionInfo": {
     "elapsed": 109656,
     "status": "ok",
     "timestamp": 1621191428757,
     "user": {
      "displayName": "Sanjiv Das",
      "photoUrl": "https://lh3.googleusercontent.com/a-/AOh14GhgUU3RgThSxLUq6NKSN2tDGDl8IQdtHMvdaZPE=s64",
      "userId": "06377870171053566924"
     },
     "user_tz": 420
    },
    "id": "ovCfdS0oLZ47",
    "outputId": "a749309d-77d7-4d8c-84b0-d6d1769b707e"
   },
   "outputs": [
    {
     "data": {
      "image/png": "[encoded data removed]",
      "text/plain": [
       "<Figure size 432x288 with 4 Axes>"
      ]
     },
     "metadata": {
      "needs_background": "light",
      "tags": []
     },
     "output_type": "display_data"
    }
   ],
   "source": [
    "## plot loss and accuracy\n",
    "metrics = [k for k in training.history.keys() if (\"loss\" not in k) and (\"val\" not in k)]\n",
    "fig, ax = plt.subplots(nrows=1, ncols=2, sharey=True)\n",
    "ax[0].set(title=\"Training\")\n",
    "ax11 = ax[0].twinx() \n",
    "ax[0].plot(training.history['loss'], color='black') \n",
    "ax[0].set_xlabel('Epochs') \n",
    "ax[0].set_ylabel('Loss', color='black')\n",
    "for metric in metrics:\n",
    "    ax11.plot(training.history[metric], label=metric) \n",
    "ax11.set_ylabel(\"Score\", color='steelblue') \n",
    "ax11.legend()\n",
    "ax[1].set(title=\"Validation\")\n",
    "ax22 = ax[1].twinx() \n",
    "ax[1].plot(training.history['val_loss'], color='black') \n",
    "ax[1].set_xlabel('Epochs')\n",
    "ax[1].set_ylabel('Loss', color='black')\n",
    "for metric in metrics:\n",
    "    ax22.plot(training.history['val_'+metric], label=metric) \n",
    "ax22.set_ylabel(\"Score\", color=\"steelblue\")\n",
    "plt.show()"
   ]
  },
  {
   "cell_type": "code",
   "execution_count": 45,
   "metadata": {
    "executionInfo": {
     "elapsed": 111093,
     "status": "ok",
     "timestamp": 1621191430198,
     "user": {
      "displayName": "Sanjiv Das",
      "photoUrl": "https://lh3.googleusercontent.com/a-/AOh14GhgUU3RgThSxLUq6NKSN2tDGDl8IQdtHMvdaZPE=s64",
      "userId": "06377870171053566924"
     },
     "user_tz": 420
    },
    "id": "obmt0zl5LZ4-"
   },
   "outputs": [],
   "source": [
    "## test\n",
    "predicted_prob = model.predict(X_test)   \n",
    "dic_y_mapping = {0:'negative', 1:'neutral', 2:'positive'}  # for the financial phrase bank dataset\n",
    "predicted = [dic_y_mapping[argmax(pred)] for pred in predicted_prob] "
   ]
  },
  {
   "cell_type": "code",
   "execution_count": 46,
   "metadata": {
    "colab": {
     "base_uri": "https://localhost:8080/"
    },
    "executionInfo": {
     "elapsed": 111090,
     "status": "ok",
     "timestamp": 1621191430200,
     "user": {
      "displayName": "Sanjiv Das",
      "photoUrl": "https://lh3.googleusercontent.com/a-/AOh14GhgUU3RgThSxLUq6NKSN2tDGDl8IQdtHMvdaZPE=s64",
      "userId": "06377870171053566924"
     },
     "user_tz": 420
    },
    "id": "ceab4CaALZ5C",
    "outputId": "0877c55d-c06d-45b9-bd53-245d7bbf5fba"
   },
   "outputs": [
    {
     "name": "stdout",
     "output_type": "stream",
     "text": [
      "Accuracy: 0.75\n",
      "Detail:\n",
      "              precision    recall  f1-score   support\n",
      "\n",
      "    negative       0.00      0.00      0.00        64\n",
      "     neutral       0.84      0.95      0.89       281\n",
      "    positive       0.54      0.69      0.61       108\n",
      "\n",
      "    accuracy                           0.75       453\n",
      "   macro avg       0.46      0.55      0.50       453\n",
      "weighted avg       0.65      0.75      0.70       453\n",
      "\n",
      "[[  0  16  48]\n",
      " [  0 266  15]\n",
      " [  0  33  75]]\n"
     ]
    },
    {
     "name": "stderr",
     "output_type": "stream",
     "text": [
      "/usr/local/lib/python3.7/dist-packages/sklearn/metrics/_classification.py:1272: UndefinedMetricWarning: Precision and F-score are ill-defined and being set to 0.0 in labels with no predicted samples. Use `zero_division` parameter to control this behavior.\n",
      "  _warn_prf(average, modifier, msg_start, len(result))\n"
     ]
    }
   ],
   "source": [
    "from sklearn import metrics\n",
    "accuracy = metrics.accuracy_score(y_test, predicted) \n",
    "# auc = metrics.roc_auc_score(y_test, predicted_prob[:,1])  # only for binary classification\n",
    "print(\"Accuracy:\", round(accuracy,2))\n",
    "# print(\"Auc:\", round(auc,2))\n",
    "print(\"Detail:\") \n",
    "print(metrics.classification_report(y_test, predicted))\n",
    "cm = metrics.confusion_matrix(y_test, predicted)\n",
    "print(cm)"
   ]
  },
  {
   "cell_type": "markdown",
   "metadata": {
    "id": "sC39GMoftIci"
   },
   "source": [
    "## BERT\n",
    "\n",
    "BERT piggybacks on Transformer models, for a technical overview, see: https://drive.google.com/file/d/1G4tEu0SQrYglVIvgRqY17Khlbhvuf-4s/view?usp=sharing \n",
    "\n",
    "BERT handles context better than word embeddings. Therefore it takes care of *polysemy*, i.e., same word meaning different things in different context. \n",
    "\n",
    "BERT is trained using a denoising objective (masked language modeling), where it aims to reconstruct a noisy version of a sentence back into its original version. The concept is similar to autoencoders. \n",
    "\n",
    "The original BERT uses a next-sentence prediction objective, but it was shown in the RoBERTa paper that this training objective doesn’t help that much. In this way, BERT is trained on gigabytes of data from various sources (much of Wikipedia) in an unsupervised fashion.\n",
    "\n",
    "Google Research and Toyota Technological Institute jointly released a much smaller/smarter Lite Bert called ALBERT. (“ALBERT: A Lite BERT for Self-supervised Learning of Language Representations”). BERT x-large has 1.27 Billion parameters, vs ALBERT x-large with 59 Million parameters! The core architecture of ALBERT is BERT-like in that it uses a transformer encoder architecture, along with GELU activation. It also uses the identical vocabulary size of 30K as used in the original BERT. (V=30,000). \n",
    "\n",
    "Downside of BERT is compute: you definitely need a GPU. "
   ]
  },
  {
   "cell_type": "markdown",
   "metadata": {
    "id": "l9dkhNMMLZ5J"
   },
   "source": [
    "## BERT with transfer learning\n",
    "\n",
    "BERT input has a special structure. Take the sequence of words - \"The paycheck protection program\" and it gets encoded as \n",
    "\n",
    "CLS | The | paycheck | protection | program | SEP | PAD | PAD | PAD \n",
    "\n",
    "There are 3 vectors that are generated by this: \n",
    "\n",
    "(1) Token IDs: these are integers that refer to the vocab index. Some have fixed IDs such as \n",
    "\n",
    "- CLS = 101 (start id)\n",
    "- UNK = 100 (unknown id)\n",
    "- SEP = 102 (end/separator id)\n",
    "- PAD = 0 (padding slots id)\n",
    "\n",
    "The actual words get their ids from the vocab. \n",
    "\n",
    "(2) Mask = 1 from CLS through SEP, 0 thereafter. It delineates the text from its padding.\n",
    "\n",
    "(3) Segment = 1 for SEP, zero elsewhere. It counts the number of SEPs in the sentence. \n",
    "\n",
    "Steps: \n",
    "\n",
    "- tokenize + transform + create embedding\n",
    "\n",
    "- See the first element of the embedding that is generated, it is what is passed to the NN. "
   ]
  },
  {
   "cell_type": "code",
   "execution_count": 31,
   "metadata": {
    "colab": {
     "base_uri": "https://localhost:8080/",
     "height": 439,
     "referenced_widgets": [
      "69b9db875da64620a36499df9b4b35ea",
      "4394b31a5b4f4c18b707aac3d750e44b",
      "8c42b5f27f2e4076bddf9a959cee3d6b",
      "be63864b9ea44e73a4a6026d7312ebb3",
      "3dcd6132af1c4da588bc24e700c5339c",
      "cde82be8ddf549f98918091b1a42b409",
      "e79aba874e95473bae74ea65542e2a3a",
      "c635a947b4da439286b4c4ffda437737",
      "d85e0175866a4d479d96508099cec1fb",
      "48f1da8b12534703bc8f677d5cf747ac",
      "a394ad801a114fe98d5e7d2ff4049cee",
      "e5565fb2d3b44cbcb28b178d11ed957b",
      "2e9e734e45e04ef085cd8b7f36b93b4f",
      "3f6bfb96a43847e8aa5252e0dbf2b6dd",
      "538fa1a74e4f4239abcaa933ae457970",
      "5d50efaccbfd4c75b09580d6b044fafd",
      "ac24d293743c4736abd16f6cd560e12b",
      "f714a02f90af4a5aa33761762ec6af43",
      "600bcc6da6d7457f84577beb373b84cf",
      "94abd72873f5461f95dadd3005a345a9",
      "118531237cf64f3c89a43c82cf06cf02",
      "237dd1dba51d4a2ead7d05fa720827a1",
      "ac05948c455c46b8bf286fc24cf43a66",
      "aadb88dac4ca44649ecbfa6a9e27967b",
      "13bc6456a0ec421cacc0521fce519a6f",
      "6b9e6068d2464d839ade80131d1bc06f",
      "f1c7eec094a1442780124835ad89281a",
      "b46a4e53cdc84464849d7eaaabdcec67",
      "5b80d7e01ac842599651bfc5f54072cf",
      "59a7efe707e645a6b257fff4a3dfabb8",
      "f8aa870c05bf4630a2619e1e3e009a07",
      "cf6e019b29fb4cd0b1e59fa25e93be11",
      "32e792a26f2d41ea91d016bedb8ee258",
      "dd3e9ab8062b46e5b6dc2161b3848c77",
      "91f208215681460190947433c4c1110c",
      "2a53c82dc07e4b03911a1b548e02a7b7",
      "364ebd047e164877b67dcf43a7763669",
      "c7543edad4314bd8830d1de25f7aa559",
      "85e589112f00416e974ac0b7dcdb1777",
      "698670253dc2463f8ad5d424b88d10d4"
     ]
    },
    "executionInfo": {
     "elapsed": 126297,
     "status": "ok",
     "timestamp": 1621191445411,
     "user": {
      "displayName": "Sanjiv Das",
      "photoUrl": "https://lh3.googleusercontent.com/a-/AOh14GhgUU3RgThSxLUq6NKSN2tDGDl8IQdtHMvdaZPE=s64",
      "userId": "06377870171053566924"
     },
     "user_tz": 420
    },
    "id": "nKtHgK5NLZ5E",
    "outputId": "c24207cf-eabf-4040-e314-b77561102ed4"
   },
   "outputs": [
    {
     "name": "stderr",
     "output_type": "stream",
     "text": [
      "Some layers from the model checkpoint at bert-base-uncased were not used when initializing TFBertModel: ['mlm___cls', 'nsp___cls']\n",
      "- This IS expected if you are initializing TFBertModel from the checkpoint of a model trained on another task or with another architecture (e.g. initializing a BertForSequenceClassification model from a BertForPreTraining model).\n",
      "- This IS NOT expected if you are initializing TFBertModel from the checkpoint of a model that you expect to be exactly identical (initializing a BertForSequenceClassification model from a BertForSequenceClassification model).\n",
      "All the layers of TFBertModel were initialized from the model checkpoint at bert-base-uncased.\n",
      "If your task is similar to the task the model of the checkpoint was trained on, you can already use TFBertModel for predictions without further training.\n"
     ]
    },
    {
     "name": "stdout",
     "output_type": "stream",
     "text": [
      "Structure of BERT input (size of text + 2): [[ 101 2293 1996 2265  102]]\n",
      "Length of embedding structure: 2\n",
      "Shape of first element of embedding: (5, 768)\n",
      "Shape of second element of embedding: (768,)\n"
     ]
    }
   ],
   "source": [
    "# Just trying out original BERT\n",
    "txt = \"love the show\"\n",
    "tokenizer = transformers.BertTokenizer.from_pretrained('bert-base-uncased', do_lower_case=True)\n",
    "input_ids = array(tokenizer.encode(txt))[None,:] \n",
    "\n",
    "## Use language model to return hidden layer with embeddings\n",
    "nlp = transformers.TFBertModel.from_pretrained('bert-base-uncased')\n",
    "embedding = nlp(input_ids)\n",
    "print(\"Structure of BERT input (size of text + 2):\", input_ids)\n",
    "print(\"Length of embedding structure:\", len(embedding))\n",
    "print(\"Shape of first element of embedding:\", embedding[0][0].shape)  # size of input ids, BERT input vector size\n",
    "print(\"Shape of second element of embedding:\", embedding[1][0].shape)  # "
   ]
  },
  {
   "cell_type": "markdown",
   "metadata": {
    "id": "NTetuWD3LZ5H"
   },
   "source": [
    "## Use distill BERT from Hugging Face"
   ]
  },
  {
   "cell_type": "code",
   "execution_count": 32,
   "metadata": {
    "colab": {
     "base_uri": "https://localhost:8080/",
     "height": 456,
     "referenced_widgets": [
      "c53e91338c934613935e15fe27d30724",
      "3eb33311b2ac4f7a84fefc87edc7d2ab",
      "d8c3b19728a147d487380f7700a81290",
      "b0b1fa3b1a45470fae1d2f13d27293db",
      "89fce54c70be41b890ddaf9647bac290",
      "b00852c402b3492e94ba0b2108d69ce5",
      "1fdcded56e3f442fbe7acf39edbb906c",
      "af50e68414074918bd8a01146c135a5c",
      "728ad00a529d4c6f86e9bc4bea94c3e0",
      "59a88e38e595446e91b6b40ef2d5d1b6",
      "26fdd255ce74443788e2d0008197b98b",
      "55832bc42bdd4bceb6c32b6fe17a7a1a",
      "0ada8eaa2d764dc3b5b67ed9f5a9613a",
      "3fe28e12364047e38cdd7a12c47f6edb",
      "123a12318ac34a14974274c2aaf1f746",
      "7eb6c6c9492646c99eea781612b18009",
      "71c3d87f7cdb404e8cd5926668c3dc3f",
      "7dc0ca812ed9479eb7cad5fa5a13f5f8",
      "bfaba287e2de4ff38a9ab4ffe71b0314",
      "717ec1f46089450e8c0c1a67c192452b",
      "50cda512626947b4ac15e96076e59641",
      "e314556e820549f2b5fba58898085b13",
      "123a98255d8645778c8b4f05915a10fe",
      "4eb8eae7d62247e0b661964928d7aa0f",
      "94ef89cf1c824aeb830ff592a0234285",
      "2096eb6dc195494bac718baea7194c09",
      "f5d2959068a34d5b9a4e76d0899a9ba8",
      "610653b2025742f7a162e2d64b942d74",
      "c3fc0a83090a44c1b309922c7f00cfb1",
      "2f4f5df1ca234f80b6cfd7a41dfa3628",
      "fb37a195dd2f4b1fbd11c2551cea6a87",
      "3fc7cb0eec3e427cbc247fe9c864d824",
      "a6e6b1bd71f244c4ae4f407458ac4840",
      "cbe8d32f8271431baafd13077d82611c",
      "7a2e44248c6c46a49cbcd3ea83c3a68f",
      "afda496eeff44f4eaeeb4e8376f83729",
      "c5c5bd90df534b758e9312004d2b45f4",
      "b5dd92e5f4c54cb79c57249539228cf9",
      "2bc3a80c187e48de872e58f51ee28524",
      "aa5648d3b6e14c399591d4bcbb3eb5f9"
     ]
    },
    "executionInfo": {
     "elapsed": 138059,
     "status": "ok",
     "timestamp": 1621191457176,
     "user": {
      "displayName": "Sanjiv Das",
      "photoUrl": "https://lh3.googleusercontent.com/a-/AOh14GhgUU3RgThSxLUq6NKSN2tDGDl8IQdtHMvdaZPE=s64",
      "userId": "06377870171053566924"
     },
     "user_tz": 420
    },
    "id": "nWcdqwLILZ5H",
    "outputId": "23e5a079-46f7-4769-eee8-45a846eebda7"
   },
   "outputs": [
    {
     "data": {
      "application/vnd.jupyter.widget-view+json": {
       "model_id": "6508fece03fc4f5d8de0c33044047a12",
       "version_major": 2,
       "version_minor": 0
      },
      "text/plain": [
       "HBox(children=(FloatProgress(value=0.0, description='Downloading', max=442.0, style=ProgressStyle(description_…"
      ]
     },
     "metadata": {},
     "output_type": "display_data"
    },
    {
     "name": "stdout",
     "output_type": "stream",
     "text": [
      "\n"
     ]
    },
    {
     "data": {
      "application/vnd.jupyter.widget-view+json": {
       "model_id": "f48a562136f543a2a3c0b7ec8c8adaa8",
       "version_major": 2,
       "version_minor": 0
      },
      "text/plain": [
       "HBox(children=(FloatProgress(value=0.0, description='Downloading', max=231508.0, style=ProgressStyle(descripti…"
      ]
     },
     "metadata": {},
     "output_type": "display_data"
    },
    {
     "name": "stdout",
     "output_type": "stream",
     "text": [
      "\n"
     ]
    },
    {
     "data": {
      "application/vnd.jupyter.widget-view+json": {
       "model_id": "eaa78d1dc9eb4b61947d314f141fac48",
       "version_major": 2,
       "version_minor": 0
      },
      "text/plain": [
       "HBox(children=(FloatProgress(value=0.0, description='Downloading', max=466062.0, style=ProgressStyle(descripti…"
      ]
     },
     "metadata": {},
     "output_type": "display_data"
    },
    {
     "name": "stdout",
     "output_type": "stream",
     "text": [
      "\n"
     ]
    },
    {
     "data": {
      "application/vnd.jupyter.widget-view+json": {
       "model_id": "1d95a394250b4cfc8f3ba8a507cc1505",
       "version_major": 2,
       "version_minor": 0
      },
      "text/plain": [
       "HBox(children=(FloatProgress(value=0.0, description='Downloading', max=28.0, style=ProgressStyle(description_w…"
      ]
     },
     "metadata": {},
     "output_type": "display_data"
    },
    {
     "name": "stdout",
     "output_type": "stream",
     "text": [
      "\n"
     ]
    },
    {
     "name": "stderr",
     "output_type": "stream",
     "text": [
      "You are using a model of type distilbert to instantiate a model of type bert. This is not supported for all configurations of models and can yield errors.\n"
     ]
    },
    {
     "data": {
      "application/vnd.jupyter.widget-view+json": {
       "model_id": "ac90b565afd44a768e9daeed4f16632b",
       "version_major": 2,
       "version_minor": 0
      },
      "text/plain": [
       "HBox(children=(FloatProgress(value=0.0, description='Downloading', max=363423424.0, style=ProgressStyle(descri…"
      ]
     },
     "metadata": {},
     "output_type": "display_data"
    },
    {
     "name": "stdout",
     "output_type": "stream",
     "text": [
      "\n"
     ]
    },
    {
     "name": "stderr",
     "output_type": "stream",
     "text": [
      "Some layers from the model checkpoint at distilbert-base-uncased were not used when initializing TFBertModel: ['distilbert', 'vocab_projector', 'vocab_transform', 'vocab_layer_norm', 'activation_13']\n",
      "- This IS expected if you are initializing TFBertModel from the checkpoint of a model trained on another task or with another architecture (e.g. initializing a BertForSequenceClassification model from a BertForPreTraining model).\n",
      "- This IS NOT expected if you are initializing TFBertModel from the checkpoint of a model that you expect to be exactly identical (initializing a BertForSequenceClassification model from a BertForSequenceClassification model).\n",
      "Some layers of TFBertModel were not initialized from the model checkpoint at distilbert-base-uncased and are newly initialized: ['bert']\n",
      "You should probably TRAIN this model on a down-stream task to be able to use it for predictions and inference.\n"
     ]
    },
    {
     "name": "stdout",
     "output_type": "stream",
     "text": [
      "Structure of BERT input (size of text + 2): [[ 101 2293 1996 2265  102]]\n",
      "Length of embedding structure: 2\n",
      "   Shape of first element of embedding: (5, 768)\n",
      "   Shape of second element of embedding: (768,)\n"
     ]
    }
   ],
   "source": [
    "tokenizer = transformers.AutoTokenizer.from_pretrained('distilbert-base-uncased', do_lower_case=True)\n",
    "input_ids = array(tokenizer.encode(txt))[None,:] \n",
    "\n",
    "## Use language model to return hidden layer with embeddings\n",
    "nlp = transformers.TFBertModel.from_pretrained('distilbert-base-uncased')\n",
    "embedding = nlp(input_ids)\n",
    "print(\"Structure of BERT input (size of text + 2):\", input_ids)\n",
    "print(\"Length of embedding structure:\", len(embedding))\n",
    "print(\"   Shape of first element of embedding:\", embedding[0][0].shape)  # size of input ids, BERT input vector size\n",
    "print(\"   Shape of second element of embedding:\", embedding[1][0].shape)  # "
   ]
  },
  {
   "cell_type": "code",
   "execution_count": 33,
   "metadata": {
    "colab": {
     "base_uri": "https://localhost:8080/"
    },
    "executionInfo": {
     "elapsed": 266,
     "status": "ok",
     "timestamp": 1621192383452,
     "user": {
      "displayName": "Sanjiv Das",
      "photoUrl": "https://lh3.googleusercontent.com/a-/AOh14GhgUU3RgThSxLUq6NKSN2tDGDl8IQdtHMvdaZPE=s64",
      "userId": "06377870171053566924"
     },
     "user_tz": 420
    },
    "id": "jgsFIq0QLZ5J",
    "outputId": "3cab37ae-a219-4b44-b258-7b3d86d30eb3"
   },
   "outputs": [
    {
     "data": {
      "text/plain": [
       "1811"
      ]
     },
     "execution_count": 33,
     "metadata": {},
     "output_type": "execute_result"
    }
   ],
   "source": [
    "corpus = df_train[\"Text\"] # use Text not cleanTxt as we want context and need to keep the sentences as they are\n",
    "len(corpus)"
   ]
  },
  {
   "cell_type": "code",
   "execution_count": 36,
   "metadata": {
    "executionInfo": {
     "elapsed": 2949,
     "status": "ok",
     "timestamp": 1621192386923,
     "user": {
      "displayName": "Sanjiv Das",
      "photoUrl": "https://lh3.googleusercontent.com/a-/AOh14GhgUU3RgThSxLUq6NKSN2tDGDl8IQdtHMvdaZPE=s64",
      "userId": "06377870171053566924"
     },
     "user_tz": 420
    },
    "id": "VFpSIV9WLZ5N"
   },
   "outputs": [],
   "source": [
    "## Prepare BERT input for the training dataset\n",
    "max_seq_length = 128\n",
    "# Create a string of BERT and word tokens \n",
    "corpus_tokenized = [\"[CLS] \"+\" \".join(tokenizer.tokenize(re.sub(r'[^\\w\\s]+|\\n', '',\n",
    "                    str(txt).lower().strip()))[:max_seq_length])+\" [SEP] \" for txt in corpus]\n",
    "\n",
    "## 1. Generate index values for the tokens and add padding, then make sure tokens are at max sequence length\n",
    "txt2seq = [txt + \" [PAD]\"*(10+max_seq_length-len(txt.split(\" \"))) for txt in corpus_tokenized] # added 10 for extra padding (hack)\n",
    "idx = [tokenizer.encode(seq)[1:-1][:max_seq_length] for seq in txt2seq]  # Need to drop the first and last element, and set no of token to max_seq_len\n",
    "\n",
    "## 2. Generate masks\n",
    "masks = [[1]*len(txt.split(\" \")) + [0]*(max_seq_length - len( txt.split(\" \"))) for txt in corpus_tokenized]\n",
    "\n",
    "## 3. Generate segments\n",
    "segments = [] \n",
    "for seq in txt2seq: \n",
    "    temp, i = [], 0\n",
    "    for token in seq.split(\" \"): \n",
    "        temp.append(i)\n",
    "        if token == \"[SEP]\": \n",
    "            i += 1\n",
    "    segments.append(temp)\n",
    "\n",
    "# Finally, put all 3 elements into a feature matrix\n",
    "X_train = [asarray(idx, dtype='int32'), \n",
    "           asarray(masks, dtype='int32'),\n",
    "           asarray(segments, dtype='int32')]   "
   ]
  },
  {
   "cell_type": "code",
   "execution_count": 37,
   "metadata": {
    "colab": {
     "base_uri": "https://localhost:8080/"
    },
    "executionInfo": {
     "elapsed": 1255,
     "status": "ok",
     "timestamp": 1621192386926,
     "user": {
      "displayName": "Sanjiv Das",
      "photoUrl": "https://lh3.googleusercontent.com/a-/AOh14GhgUU3RgThSxLUq6NKSN2tDGDl8IQdtHMvdaZPE=s64",
      "userId": "06377870171053566924"
     },
     "user_tz": 420
    },
    "id": "VgfOD9SKLZ5O",
    "outputId": "05a86dfb-630a-4bee-9a0b-1acc33c1f1a4"
   },
   "outputs": [
    {
     "name": "stdout",
     "output_type": "stream",
     "text": [
      "3\n",
      "1811\n",
      "128\n"
     ]
    }
   ],
   "source": [
    "# X_train is a 3 dimension tensor\n",
    "print(len(X_train))  # one each for Token ID, Mask, Segment arrays\n",
    "print(len(X_train[0])) # Size of the training set\n",
    "print(len(X_train[0][0])) # max sequence length + 2 (for CLS and SEP)"
   ]
  },
  {
   "cell_type": "code",
   "execution_count": 38,
   "metadata": {
    "colab": {
     "base_uri": "https://localhost:8080/"
    },
    "executionInfo": {
     "elapsed": 244,
     "status": "ok",
     "timestamp": 1621192387870,
     "user": {
      "displayName": "Sanjiv Das",
      "photoUrl": "https://lh3.googleusercontent.com/a-/AOh14GhgUU3RgThSxLUq6NKSN2tDGDl8IQdtHMvdaZPE=s64",
      "userId": "06377870171053566924"
     },
     "user_tz": 420
    },
    "id": "aKXLEPPb6out",
    "outputId": "71864ec2-efcd-49e9-9d39-f4dda7478df4"
   },
   "outputs": [
    {
     "name": "stdout",
     "output_type": "stream",
     "text": [
      "128\n",
      "[  101  1996  3449  1001  1001 17155  1001  1001  1053  2177  3728  2623\n",
      "  2008  1996  2197  2093  2706  1997  1996  3025  2095  2716  2000  2009\n",
      "  1037  2350  3279  1997  2062  2084  2431  1037  4551  1047  1001  1001\n",
      " 20996  1001  1001  2006  2015  7327  1001  1001  1054  3590 19875  1001\n",
      "  1001  1050  2005  1996  3587  4284  2770   102     0     0     0     0\n",
      "     0     0     0     0     0     0     0     0     0     0     0     0\n",
      "     0     0     0     0     0     0     0     0     0     0     0     0\n",
      "     0     0     0     0     0     0     0     0     0     0     0     0\n",
      "     0     0     0     0     0     0     0     0     0     0     0     0\n",
      "     0     0     0     0     0     0     0     0     0     0     0     0\n",
      "     0     0     0     0     0     0     0     0]\n",
      "[1 1 1 1 1 1 1 1 1 1 1 1 1 1 1 1 1 1 1 1 1 1 1 1 1 1 1 1 1 1 1 1 1 1 1 1 1\n",
      " 1 1 1 1 1 1 1 0 0 0 0 0 0 0 0 0 0 0 0 0 0 0 0 0 0 0 0 0 0 0 0 0 0 0 0 0 0\n",
      " 0 0 0 0 0 0 0 0 0 0 0 0 0 0 0 0 0 0 0 0 0 0 0 0 0 0 0 0 0 0 0 0 0 0 0 0 0\n",
      " 0 0 0 0 0 0 0 0 0 0 0 0 0 0 0 0 0]\n",
      "[0 0 0 0 0 0 0 0 0 0 0 0 0 0 0 0 0 0 0 0 0 0 0 0 0 0 0 0 0 0 0 0 0 0 0 0 0\n",
      " 0 0 0 0 0 0 1 1 1 1 1 1 1 1 1 1 1 1 1 1 1 1 1 1 1 1 1 1 1 1 1 1 1 1 1 1 1\n",
      " 1 1 1 1 1 1 1 1 1 1 1 1 1 1 1 1 1 1 1 1 1 1 1 1 1 1 1 1 1 1 1 1 1 1 1 1 1\n",
      " 1 1 1 1 1 1 1 1 1 1 1 1 1 1 1 1 1 1 1 1 1 1 1 1 1 1 1]\n"
     ]
    }
   ],
   "source": [
    "k = randint(len(X_train[0]))\n",
    "print(len(X_train[0][k]))\n",
    "print(X_train[0][k])   # Token ids\n",
    "print(X_train[1][k])   # mask\n",
    "print(X_train[2][k])   # segment"
   ]
  },
  {
   "cell_type": "markdown",
   "metadata": {
    "id": "JVtTKq3ZCujb"
   },
   "source": [
    "## Fine-Tuning\n",
    "\n",
    "We are using DistilBERT below, which only requires the token IDs and masks (not segments). "
   ]
  },
  {
   "cell_type": "code",
   "execution_count": 39,
   "metadata": {
    "colab": {
     "base_uri": "https://localhost:8080/"
    },
    "executionInfo": {
     "elapsed": 13031,
     "status": "ok",
     "timestamp": 1621192403333,
     "user": {
      "displayName": "Sanjiv Das",
      "photoUrl": "https://lh3.googleusercontent.com/a-/AOh14GhgUU3RgThSxLUq6NKSN2tDGDl8IQdtHMvdaZPE=s64",
      "userId": "06377870171053566924"
     },
     "user_tz": 420
    },
    "id": "DyaHGvSzLZ5R",
    "outputId": "49f75c98-6de1-4fd3-8e6a-5aeda87de75a"
   },
   "outputs": [
    {
     "name": "stderr",
     "output_type": "stream",
     "text": [
      "Some layers from the model checkpoint at distilbert-base-uncased were not used when initializing TFDistilBertModel: ['vocab_transform', 'vocab_layer_norm', 'activation_13', 'vocab_projector']\n",
      "- This IS expected if you are initializing TFDistilBertModel from the checkpoint of a model trained on another task or with another architecture (e.g. initializing a BertForSequenceClassification model from a BertForPreTraining model).\n",
      "- This IS NOT expected if you are initializing TFDistilBertModel from the checkpoint of a model that you expect to be exactly identical (initializing a BertForSequenceClassification model from a BertForSequenceClassification model).\n",
      "All the layers of TFDistilBertModel were initialized from the model checkpoint at distilbert-base-uncased.\n",
      "If your task is similar to the task the model of the checkpoint was trained on, you can already use TFDistilBertModel for predictions without further training.\n"
     ]
    },
    {
     "name": "stdout",
     "output_type": "stream",
     "text": [
      "WARNING:tensorflow:The parameters `output_attentions`, `output_hidden_states` and `use_cache` cannot be updated when calling a model.They have to be set to True/False in the config object (i.e.: `config=XConfig.from_pretrained('name', output_attentions=True)`).\n",
      "WARNING:tensorflow:AutoGraph could not transform <bound method Socket.send of <zmq.sugar.socket.Socket object at 0x7ffb27219220>> and will run it as-is.\n",
      "Please report this to the TensorFlow team. When filing the bug, set the verbosity to 10 (on Linux, `export AUTOGRAPH_VERBOSITY=10`) and attach the full output.\n",
      "Cause: module, class, method, function, traceback, frame, or code object was expected, got cython_function_or_method\n",
      "To silence this warning, decorate the function with @tf.autograph.experimental.do_not_convert\n",
      "WARNING: AutoGraph could not transform <bound method Socket.send of <zmq.sugar.socket.Socket object at 0x7ffb27219220>> and will run it as-is.\n",
      "Please report this to the TensorFlow team. When filing the bug, set the verbosity to 10 (on Linux, `export AUTOGRAPH_VERBOSITY=10`) and attach the full output.\n",
      "Cause: module, class, method, function, traceback, frame, or code object was expected, got cython_function_or_method\n",
      "To silence this warning, decorate the function with @tf.autograph.experimental.do_not_convert\n",
      "WARNING:tensorflow:The parameter `return_dict` cannot be set in graph mode and will always be set to `True`.\n",
      "WARNING:tensorflow:From /Users/longmini/opt/anaconda3/lib/python3.8/site-packages/tensorflow/python/ops/array_ops.py:5043: calling gather (from tensorflow.python.ops.array_ops) with validate_indices is deprecated and will be removed in a future version.\n",
      "Instructions for updating:\n",
      "The `validate_indices` argument has no effect. Indices are always validated on CPU and never validated on GPU.\n",
      "Model: \"model\"\n",
      "__________________________________________________________________________________________________\n",
      "Layer (type)                    Output Shape         Param #     Connected to                     \n",
      "==================================================================================================\n",
      "input_idx (InputLayer)          [(None, 128)]        0                                            \n",
      "__________________________________________________________________________________________________\n",
      "input_masks (InputLayer)        [(None, 128)]        0                                            \n",
      "__________________________________________________________________________________________________\n",
      "tf_distil_bert_model (TFDistilB TFBaseModelOutput(la 66362880    input_idx[0][0]                  \n",
      "                                                                 input_masks[0][0]                \n",
      "__________________________________________________________________________________________________\n",
      "global_average_pooling1d (Globa (None, 768)          0           tf_distil_bert_model[0][0]       \n",
      "__________________________________________________________________________________________________\n",
      "dense (Dense)                   (None, 64)           49216       global_average_pooling1d[0][0]   \n",
      "__________________________________________________________________________________________________\n",
      "dense_1 (Dense)                 (None, 3)            195         dense[0][0]                      \n",
      "==================================================================================================\n",
      "Total params: 66,412,291\n",
      "Trainable params: 49,411\n",
      "Non-trainable params: 66,362,880\n",
      "__________________________________________________________________________________________________\n"
     ]
    }
   ],
   "source": [
    "# Build up model\n",
    "## inputs\n",
    "idx = layers.Input(max_seq_length, dtype=\"int32\", name=\"input_idx\") \n",
    "masks = layers.Input(max_seq_length, dtype=\"int32\", name=\"input_masks\")\n",
    "segments = layers.Input(max_seq_length, dtype=\"int32\", name=\"input_segments\")\n",
    "## pre-trained bert with config\n",
    "config = transformers.DistilBertConfig(dropout=0.2, attention_dropout=0.2)\n",
    "config.output_hidden_states = False\n",
    "nlp = transformers.TFDistilBertModel.from_pretrained('distilbert-base-uncased', config=config)\n",
    "bert_out = nlp(idx, masks)[0]\n",
    "## fine-tuning\n",
    "x = layers.GlobalAveragePooling1D()(bert_out) \n",
    "x = layers.Dense(64, activation=\"relu\")(x) \n",
    "y_out = layers.Dense(len(np.unique(y_train)),activation='softmax')(x)\n",
    "## compile\n",
    "model = models.Model([idx, masks], y_out)\n",
    "for layer in model.layers[:3]:  \n",
    "    layer.trainable = False\n",
    "    \n",
    "model.compile(loss='sparse_categorical_crossentropy', optimizer='adam', metrics=['accuracy'])\n",
    "model.summary()"
   ]
  },
  {
   "cell_type": "code",
   "execution_count": 40,
   "metadata": {
    "colab": {
     "base_uri": "https://localhost:8080/",
     "height": 466
    },
    "executionInfo": {
     "elapsed": 791,
     "status": "ok",
     "timestamp": 1621192410538,
     "user": {
      "displayName": "Sanjiv Das",
      "photoUrl": "https://lh3.googleusercontent.com/a-/AOh14GhgUU3RgThSxLUq6NKSN2tDGDl8IQdtHMvdaZPE=s64",
      "userId": "06377870171053566924"
     },
     "user_tz": 420
    },
    "id": "4hw6Y4XgkIwu",
    "outputId": "284889cf-affb-4339-abaa-49daba7369b0"
   },
   "outputs": [
    {
     "data": {
      "image/png": "[encoded data removed]",
      "text/plain": [
       "<IPython.core.display.Image object>"
      ]
     },
     "execution_count": 40,
     "metadata": {},
     "output_type": "execute_result"
    }
   ],
   "source": [
    "plot_model(model)  # option to_file="
   ]
  },
  {
   "cell_type": "code",
   "execution_count": 41,
   "metadata": {
    "executionInfo": {
     "elapsed": 253,
     "status": "ok",
     "timestamp": 1621192411768,
     "user": {
      "displayName": "Sanjiv Das",
      "photoUrl": "https://lh3.googleusercontent.com/a-/AOh14GhgUU3RgThSxLUq6NKSN2tDGDl8IQdtHMvdaZPE=s64",
      "userId": "06377870171053566924"
     },
     "user_tz": 420
    },
    "id": "Z9i6c9isLZ5T"
   },
   "outputs": [],
   "source": [
    "# Create label y\n",
    "dic_y_mapping = {n:label for n,label in enumerate(np.unique(y_train))}\n",
    "inverse_dic = {v:k for k,v in dic_y_mapping.items()} \n",
    "y_train = np.array([inverse_dic[y] for y in y_train])"
   ]
  },
  {
   "cell_type": "code",
   "execution_count": 42,
   "metadata": {
    "colab": {
     "base_uri": "https://localhost:8080/"
    },
    "executionInfo": {
     "elapsed": 235,
     "status": "ok",
     "timestamp": 1621192412803,
     "user": {
      "displayName": "Sanjiv Das",
      "photoUrl": "https://lh3.googleusercontent.com/a-/AOh14GhgUU3RgThSxLUq6NKSN2tDGDl8IQdtHMvdaZPE=s64",
      "userId": "06377870171053566924"
     },
     "user_tz": 420
    },
    "id": "TjFrF5fnUwe0",
    "outputId": "068b90df-bace-432e-a768-331424e5c30a"
   },
   "outputs": [
    {
     "data": {
      "text/plain": [
       "1811"
      ]
     },
     "execution_count": 42,
     "metadata": {},
     "output_type": "execute_result"
    }
   ],
   "source": [
    "len(X_train[1])"
   ]
  },
  {
   "cell_type": "code",
   "execution_count": 43,
   "metadata": {
    "colab": {
     "base_uri": "https://localhost:8080/"
    },
    "executionInfo": {
     "elapsed": 227917,
     "status": "ok",
     "timestamp": 1621192641566,
     "user": {
      "displayName": "Sanjiv Das",
      "photoUrl": "https://lh3.googleusercontent.com/a-/AOh14GhgUU3RgThSxLUq6NKSN2tDGDl8IQdtHMvdaZPE=s64",
      "userId": "06377870171053566924"
     },
     "user_tz": 420
    },
    "id": "tIPneDYuLZ5V",
    "outputId": "0cc4b449-f8b0-4373-c1b7-a35957130e36"
   },
   "outputs": [
    {
     "name": "stdout",
     "output_type": "stream",
     "text": [
      "Epoch 1/25\n",
      "WARNING:tensorflow:The parameters `output_attentions`, `output_hidden_states` and `use_cache` cannot be updated when calling a model.They have to be set to True/False in the config object (i.e.: `config=XConfig.from_pretrained('name', output_attentions=True)`).\n",
      "WARNING:tensorflow:The parameter `return_dict` cannot be set in graph mode and will always be set to `True`.\n",
      "WARNING:tensorflow:The parameters `output_attentions`, `output_hidden_states` and `use_cache` cannot be updated when calling a model.They have to be set to True/False in the config object (i.e.: `config=XConfig.from_pretrained('name', output_attentions=True)`).\n",
      "WARNING:tensorflow:The parameter `return_dict` cannot be set in graph mode and will always be set to `True`.\n",
      "40/40 [==============================] - ETA: 0s - loss: 0.7389 - accuracy: 0.6511WARNING:tensorflow:The parameters `output_attentions`, `output_hidden_states` and `use_cache` cannot be updated when calling a model.They have to be set to True/False in the config object (i.e.: `config=XConfig.from_pretrained('name', output_attentions=True)`).\n",
      "WARNING:tensorflow:The parameter `return_dict` cannot be set in graph mode and will always be set to `True`.\n",
      "40/40 [==============================] - 269s 7s/step - loss: 0.7389 - accuracy: 0.6511 - val_loss: 0.5624 - val_accuracy: 0.7518\n",
      "Epoch 2/25\n",
      " 3/40 [=>............................] - ETA: 3:33 - loss: 0.5593 - accuracy: 0.7604"
     ]
    },
    {
     "ename": "KeyboardInterrupt",
     "evalue": "",
     "output_type": "error",
     "traceback": [
      "\u001b[0;31m---------------------------------------------------------------------------\u001b[0m",
      "\u001b[0;31mKeyboardInterrupt\u001b[0m                         Traceback (most recent call last)",
      "\u001b[0;32m<ipython-input-43-b22d56d6b9d9>\u001b[0m in \u001b[0;36m<module>\u001b[0;34m\u001b[0m\n\u001b[1;32m      1\u001b[0m \u001b[0;31m## train\u001b[0m\u001b[0;34m\u001b[0m\u001b[0;34m\u001b[0m\u001b[0;34m\u001b[0m\u001b[0m\n\u001b[0;32m----> 2\u001b[0;31m \u001b[0mtraining\u001b[0m \u001b[0;34m=\u001b[0m \u001b[0mmodel\u001b[0m\u001b[0;34m.\u001b[0m\u001b[0mfit\u001b[0m\u001b[0;34m(\u001b[0m\u001b[0mx\u001b[0m\u001b[0;34m=\u001b[0m\u001b[0mX_train\u001b[0m\u001b[0;34m[\u001b[0m\u001b[0;34m:\u001b[0m\u001b[0;36m2\u001b[0m\u001b[0;34m]\u001b[0m\u001b[0;34m,\u001b[0m \u001b[0my\u001b[0m\u001b[0;34m=\u001b[0m\u001b[0my_train\u001b[0m\u001b[0;34m,\u001b[0m \u001b[0mbatch_size\u001b[0m\u001b[0;34m=\u001b[0m\u001b[0;36m32\u001b[0m\u001b[0;34m,\u001b[0m \u001b[0mepochs\u001b[0m\u001b[0;34m=\u001b[0m\u001b[0;36m25\u001b[0m\u001b[0;34m,\u001b[0m \u001b[0mshuffle\u001b[0m\u001b[0;34m=\u001b[0m\u001b[0;32mTrue\u001b[0m\u001b[0;34m,\u001b[0m \u001b[0mverbose\u001b[0m\u001b[0;34m=\u001b[0m\u001b[0;36m1\u001b[0m\u001b[0;34m,\u001b[0m \u001b[0mvalidation_split\u001b[0m\u001b[0;34m=\u001b[0m\u001b[0;36m0.3\u001b[0m\u001b[0;34m)\u001b[0m\u001b[0;34m\u001b[0m\u001b[0;34m\u001b[0m\u001b[0m\n\u001b[0m",
      "\u001b[0;32m~/opt/anaconda3/lib/python3.8/site-packages/tensorflow/python/keras/engine/training.py\u001b[0m in \u001b[0;36mfit\u001b[0;34m(self, x, y, batch_size, epochs, verbose, callbacks, validation_split, validation_data, shuffle, class_weight, sample_weight, initial_epoch, steps_per_epoch, validation_steps, validation_batch_size, validation_freq, max_queue_size, workers, use_multiprocessing)\u001b[0m\n\u001b[1;32m   1181\u001b[0m                 _r=1):\n\u001b[1;32m   1182\u001b[0m               \u001b[0mcallbacks\u001b[0m\u001b[0;34m.\u001b[0m\u001b[0mon_train_batch_begin\u001b[0m\u001b[0;34m(\u001b[0m\u001b[0mstep\u001b[0m\u001b[0;34m)\u001b[0m\u001b[0;34m\u001b[0m\u001b[0;34m\u001b[0m\u001b[0m\n\u001b[0;32m-> 1183\u001b[0;31m               \u001b[0mtmp_logs\u001b[0m \u001b[0;34m=\u001b[0m \u001b[0mself\u001b[0m\u001b[0;34m.\u001b[0m\u001b[0mtrain_function\u001b[0m\u001b[0;34m(\u001b[0m\u001b[0miterator\u001b[0m\u001b[0;34m)\u001b[0m\u001b[0;34m\u001b[0m\u001b[0;34m\u001b[0m\u001b[0m\n\u001b[0m\u001b[1;32m   1184\u001b[0m               \u001b[0;32mif\u001b[0m \u001b[0mdata_handler\u001b[0m\u001b[0;34m.\u001b[0m\u001b[0mshould_sync\u001b[0m\u001b[0;34m:\u001b[0m\u001b[0;34m\u001b[0m\u001b[0;34m\u001b[0m\u001b[0m\n\u001b[1;32m   1185\u001b[0m                 \u001b[0mcontext\u001b[0m\u001b[0;34m.\u001b[0m\u001b[0masync_wait\u001b[0m\u001b[0;34m(\u001b[0m\u001b[0;34m)\u001b[0m\u001b[0;34m\u001b[0m\u001b[0;34m\u001b[0m\u001b[0m\n",
      "\u001b[0;32m~/opt/anaconda3/lib/python3.8/site-packages/tensorflow/python/eager/def_function.py\u001b[0m in \u001b[0;36m__call__\u001b[0;34m(self, *args, **kwds)\u001b[0m\n\u001b[1;32m    887\u001b[0m \u001b[0;34m\u001b[0m\u001b[0m\n\u001b[1;32m    888\u001b[0m       \u001b[0;32mwith\u001b[0m \u001b[0mOptionalXlaContext\u001b[0m\u001b[0;34m(\u001b[0m\u001b[0mself\u001b[0m\u001b[0;34m.\u001b[0m\u001b[0m_jit_compile\u001b[0m\u001b[0;34m)\u001b[0m\u001b[0;34m:\u001b[0m\u001b[0;34m\u001b[0m\u001b[0;34m\u001b[0m\u001b[0m\n\u001b[0;32m--> 889\u001b[0;31m         \u001b[0mresult\u001b[0m \u001b[0;34m=\u001b[0m \u001b[0mself\u001b[0m\u001b[0;34m.\u001b[0m\u001b[0m_call\u001b[0m\u001b[0;34m(\u001b[0m\u001b[0;34m*\u001b[0m\u001b[0margs\u001b[0m\u001b[0;34m,\u001b[0m \u001b[0;34m**\u001b[0m\u001b[0mkwds\u001b[0m\u001b[0;34m)\u001b[0m\u001b[0;34m\u001b[0m\u001b[0;34m\u001b[0m\u001b[0m\n\u001b[0m\u001b[1;32m    890\u001b[0m \u001b[0;34m\u001b[0m\u001b[0m\n\u001b[1;32m    891\u001b[0m       \u001b[0mnew_tracing_count\u001b[0m \u001b[0;34m=\u001b[0m \u001b[0mself\u001b[0m\u001b[0;34m.\u001b[0m\u001b[0mexperimental_get_tracing_count\u001b[0m\u001b[0;34m(\u001b[0m\u001b[0;34m)\u001b[0m\u001b[0;34m\u001b[0m\u001b[0;34m\u001b[0m\u001b[0m\n",
      "\u001b[0;32m~/opt/anaconda3/lib/python3.8/site-packages/tensorflow/python/eager/def_function.py\u001b[0m in \u001b[0;36m_call\u001b[0;34m(self, *args, **kwds)\u001b[0m\n\u001b[1;32m    915\u001b[0m       \u001b[0;31m# In this case we have created variables on the first call, so we run the\u001b[0m\u001b[0;34m\u001b[0m\u001b[0;34m\u001b[0m\u001b[0;34m\u001b[0m\u001b[0m\n\u001b[1;32m    916\u001b[0m       \u001b[0;31m# defunned version which is guaranteed to never create variables.\u001b[0m\u001b[0;34m\u001b[0m\u001b[0;34m\u001b[0m\u001b[0;34m\u001b[0m\u001b[0m\n\u001b[0;32m--> 917\u001b[0;31m       \u001b[0;32mreturn\u001b[0m \u001b[0mself\u001b[0m\u001b[0;34m.\u001b[0m\u001b[0m_stateless_fn\u001b[0m\u001b[0;34m(\u001b[0m\u001b[0;34m*\u001b[0m\u001b[0margs\u001b[0m\u001b[0;34m,\u001b[0m \u001b[0;34m**\u001b[0m\u001b[0mkwds\u001b[0m\u001b[0;34m)\u001b[0m  \u001b[0;31m# pylint: disable=not-callable\u001b[0m\u001b[0;34m\u001b[0m\u001b[0;34m\u001b[0m\u001b[0m\n\u001b[0m\u001b[1;32m    918\u001b[0m     \u001b[0;32melif\u001b[0m \u001b[0mself\u001b[0m\u001b[0;34m.\u001b[0m\u001b[0m_stateful_fn\u001b[0m \u001b[0;32mis\u001b[0m \u001b[0;32mnot\u001b[0m \u001b[0;32mNone\u001b[0m\u001b[0;34m:\u001b[0m\u001b[0;34m\u001b[0m\u001b[0;34m\u001b[0m\u001b[0m\n\u001b[1;32m    919\u001b[0m       \u001b[0;31m# Release the lock early so that multiple threads can perform the call\u001b[0m\u001b[0;34m\u001b[0m\u001b[0;34m\u001b[0m\u001b[0;34m\u001b[0m\u001b[0m\n",
      "\u001b[0;32m~/opt/anaconda3/lib/python3.8/site-packages/tensorflow/python/eager/function.py\u001b[0m in \u001b[0;36m__call__\u001b[0;34m(self, *args, **kwargs)\u001b[0m\n\u001b[1;32m   3021\u001b[0m       (graph_function,\n\u001b[1;32m   3022\u001b[0m        filtered_flat_args) = self._maybe_define_function(args, kwargs)\n\u001b[0;32m-> 3023\u001b[0;31m     return graph_function._call_flat(\n\u001b[0m\u001b[1;32m   3024\u001b[0m         filtered_flat_args, captured_inputs=graph_function.captured_inputs)  # pylint: disable=protected-access\n\u001b[1;32m   3025\u001b[0m \u001b[0;34m\u001b[0m\u001b[0m\n",
      "\u001b[0;32m~/opt/anaconda3/lib/python3.8/site-packages/tensorflow/python/eager/function.py\u001b[0m in \u001b[0;36m_call_flat\u001b[0;34m(self, args, captured_inputs, cancellation_manager)\u001b[0m\n\u001b[1;32m   1958\u001b[0m         and executing_eagerly):\n\u001b[1;32m   1959\u001b[0m       \u001b[0;31m# No tape is watching; skip to running the function.\u001b[0m\u001b[0;34m\u001b[0m\u001b[0;34m\u001b[0m\u001b[0;34m\u001b[0m\u001b[0m\n\u001b[0;32m-> 1960\u001b[0;31m       return self._build_call_outputs(self._inference_function.call(\n\u001b[0m\u001b[1;32m   1961\u001b[0m           ctx, args, cancellation_manager=cancellation_manager))\n\u001b[1;32m   1962\u001b[0m     forward_backward = self._select_forward_and_backward_functions(\n",
      "\u001b[0;32m~/opt/anaconda3/lib/python3.8/site-packages/tensorflow/python/eager/function.py\u001b[0m in \u001b[0;36mcall\u001b[0;34m(self, ctx, args, cancellation_manager)\u001b[0m\n\u001b[1;32m    589\u001b[0m       \u001b[0;32mwith\u001b[0m \u001b[0m_InterpolateFunctionError\u001b[0m\u001b[0;34m(\u001b[0m\u001b[0mself\u001b[0m\u001b[0;34m)\u001b[0m\u001b[0;34m:\u001b[0m\u001b[0;34m\u001b[0m\u001b[0;34m\u001b[0m\u001b[0m\n\u001b[1;32m    590\u001b[0m         \u001b[0;32mif\u001b[0m \u001b[0mcancellation_manager\u001b[0m \u001b[0;32mis\u001b[0m \u001b[0;32mNone\u001b[0m\u001b[0;34m:\u001b[0m\u001b[0;34m\u001b[0m\u001b[0;34m\u001b[0m\u001b[0m\n\u001b[0;32m--> 591\u001b[0;31m           outputs = execute.execute(\n\u001b[0m\u001b[1;32m    592\u001b[0m               \u001b[0mstr\u001b[0m\u001b[0;34m(\u001b[0m\u001b[0mself\u001b[0m\u001b[0;34m.\u001b[0m\u001b[0msignature\u001b[0m\u001b[0;34m.\u001b[0m\u001b[0mname\u001b[0m\u001b[0;34m)\u001b[0m\u001b[0;34m,\u001b[0m\u001b[0;34m\u001b[0m\u001b[0;34m\u001b[0m\u001b[0m\n\u001b[1;32m    593\u001b[0m               \u001b[0mnum_outputs\u001b[0m\u001b[0;34m=\u001b[0m\u001b[0mself\u001b[0m\u001b[0;34m.\u001b[0m\u001b[0m_num_outputs\u001b[0m\u001b[0;34m,\u001b[0m\u001b[0;34m\u001b[0m\u001b[0;34m\u001b[0m\u001b[0m\n",
      "\u001b[0;32m~/opt/anaconda3/lib/python3.8/site-packages/tensorflow/python/eager/execute.py\u001b[0m in \u001b[0;36mquick_execute\u001b[0;34m(op_name, num_outputs, inputs, attrs, ctx, name)\u001b[0m\n\u001b[1;32m     57\u001b[0m   \u001b[0;32mtry\u001b[0m\u001b[0;34m:\u001b[0m\u001b[0;34m\u001b[0m\u001b[0;34m\u001b[0m\u001b[0m\n\u001b[1;32m     58\u001b[0m     \u001b[0mctx\u001b[0m\u001b[0;34m.\u001b[0m\u001b[0mensure_initialized\u001b[0m\u001b[0;34m(\u001b[0m\u001b[0;34m)\u001b[0m\u001b[0;34m\u001b[0m\u001b[0;34m\u001b[0m\u001b[0m\n\u001b[0;32m---> 59\u001b[0;31m     tensors = pywrap_tfe.TFE_Py_Execute(ctx._handle, device_name, op_name,\n\u001b[0m\u001b[1;32m     60\u001b[0m                                         inputs, attrs, num_outputs)\n\u001b[1;32m     61\u001b[0m   \u001b[0;32mexcept\u001b[0m \u001b[0mcore\u001b[0m\u001b[0;34m.\u001b[0m\u001b[0m_NotOkStatusException\u001b[0m \u001b[0;32mas\u001b[0m \u001b[0me\u001b[0m\u001b[0;34m:\u001b[0m\u001b[0;34m\u001b[0m\u001b[0;34m\u001b[0m\u001b[0m\n",
      "\u001b[0;31mKeyboardInterrupt\u001b[0m: "
     ]
    }
   ],
   "source": [
    "## train\n",
    "training = model.fit(x=X_train[:2], y=y_train, batch_size=32, epochs=25, shuffle=True, verbose=1, validation_split=0.3)"
   ]
  },
  {
   "cell_type": "code",
   "execution_count": 99,
   "metadata": {
    "executionInfo": {
     "elapsed": 1340,
     "status": "ok",
     "timestamp": 1621192653914,
     "user": {
      "displayName": "Sanjiv Das",
      "photoUrl": "https://lh3.googleusercontent.com/a-/AOh14GhgUU3RgThSxLUq6NKSN2tDGDl8IQdtHMvdaZPE=s64",
      "userId": "06377870171053566924"
     },
     "user_tz": 420
    },
    "id": "xpTvB2MHRbpD"
   },
   "outputs": [],
   "source": [
    "# INPUT STRUCTURE FOR TEST DATASET\n",
    "corpus = df_test[\"Text\"]\n",
    "\n",
    "# Create a string of BERT and word tokens \n",
    "corpus_tokenized = [\"[CLS] \"+\" \".join(tokenizer.tokenize(re.sub(r'[^\\w\\s]+|\\n', '',\n",
    "                    str(txt).lower().strip()))[:max_seq_length])+\" [SEP] \" for txt in corpus]\n",
    "\n",
    "## 1. Generate index values for the tokens and add padding, then make sure tokens are at max sequence length\n",
    "txt2seq = [txt + \" [PAD]\"*(10+max_seq_length-len(txt.split(\" \"))) for txt in corpus_tokenized] # added 10 for extra padding (hack)\n",
    "idx = [tokenizer.encode(seq)[1:-1][:max_seq_length] for seq in txt2seq]  # Need to drop the first and last element, and set no of token to max_seq_len\n",
    "\n",
    "## 2. Generate masks\n",
    "masks = [[1]*len(txt.split(\" \")) + [0]*(max_seq_length - len( txt.split(\" \"))) for txt in corpus_tokenized]\n",
    "\n",
    "## 3. Generate segments\n",
    "segments = [] \n",
    "for seq in txt2seq: \n",
    "    temp, i = [], 0\n",
    "    for token in seq.split(\" \"): \n",
    "        temp.append(i)\n",
    "        if token == \"[SEP]\": \n",
    "            i += 1\n",
    "    segments.append(temp)\n",
    "\n",
    "# Finally, put all 3 elements into a feature matrix\n",
    "X_test = [asarray(idx, dtype='int32'), \n",
    "           asarray(masks, dtype='int32'),\n",
    "           asarray(segments, dtype='int32')]   "
   ]
  },
  {
   "cell_type": "code",
   "execution_count": 100,
   "metadata": {
    "colab": {
     "base_uri": "https://localhost:8080/"
    },
    "executionInfo": {
     "elapsed": 3738,
     "status": "ok",
     "timestamp": 1621192661936,
     "user": {
      "displayName": "Sanjiv Das",
      "photoUrl": "https://lh3.googleusercontent.com/a-/AOh14GhgUU3RgThSxLUq6NKSN2tDGDl8IQdtHMvdaZPE=s64",
      "userId": "06377870171053566924"
     },
     "user_tz": 420
    },
    "id": "-3mZ_L5Yv1Da",
    "outputId": "84283261-6efc-421a-e6b8-c7a0b18310b9"
   },
   "outputs": [
    {
     "name": "stdout",
     "output_type": "stream",
     "text": [
      "WARNING:tensorflow:The parameters `output_attentions`, `output_hidden_states` and `use_cache` cannot be updated when calling a model.They have to be set to True/False in the config object (i.e.: `config=XConfig.from_pretrained('name', output_attentions=True)`).\n",
      "WARNING:tensorflow:The parameter `return_dict` cannot be set in graph mode and will always be set to `True`.\n"
     ]
    }
   ],
   "source": [
    "## test labels\n",
    "predicted_prob = model.predict(X_test[:2])   \n",
    "dic_y_mapping = {0:'negative', 1:'neutral', 2:'positive'}  # for the financial phrase bank dataset\n",
    "predicted = [dic_y_mapping[argmax(pred)] for pred in predicted_prob]"
   ]
  },
  {
   "cell_type": "code",
   "execution_count": 101,
   "metadata": {
    "colab": {
     "base_uri": "https://localhost:8080/"
    },
    "executionInfo": {
     "elapsed": 493,
     "status": "ok",
     "timestamp": 1621192666035,
     "user": {
      "displayName": "Sanjiv Das",
      "photoUrl": "https://lh3.googleusercontent.com/a-/AOh14GhgUU3RgThSxLUq6NKSN2tDGDl8IQdtHMvdaZPE=s64",
      "userId": "06377870171053566924"
     },
     "user_tz": 420
    },
    "id": "LVfyE-oaQkd1",
    "outputId": "794b6765-8049-4716-9346-b112337d89ab"
   },
   "outputs": [
    {
     "name": "stdout",
     "output_type": "stream",
     "text": [
      "Accuracy: 0.84\n",
      "Detail:\n",
      "              precision    recall  f1-score   support\n",
      "\n",
      "    negative       0.60      0.62      0.61        64\n",
      "     neutral       0.94      0.94      0.94       281\n",
      "    positive       0.72      0.69      0.70       108\n",
      "\n",
      "    accuracy                           0.84       453\n",
      "   macro avg       0.75      0.75      0.75       453\n",
      "weighted avg       0.84      0.84      0.84       453\n",
      "\n",
      "[[ 40   4  20]\n",
      " [  7 265   9]\n",
      " [ 20  14  74]]\n"
     ]
    }
   ],
   "source": [
    "accuracy = metrics.accuracy_score(y_test, predicted) \n",
    "# auc = metrics.roc_auc_score(y_test, predicted_prob[:,1])  # only for binary classification\n",
    "print(\"Accuracy:\", round(accuracy,2))\n",
    "# print(\"Auc:\", round(auc,2))\n",
    "print(\"Detail:\") \n",
    "print(metrics.classification_report(y_test, predicted))\n",
    "cm = metrics.confusion_matrix(y_test, predicted)\n",
    "print(cm)"
   ]
  },
  {
   "cell_type": "markdown",
   "metadata": {
    "id": "U2TeirRiREC5"
   },
   "source": [
    "- TFIDF accuracy = 80-85%\n",
    "- Word2Vec accuracy = 70-75%\n",
    "- BERT accuracy = 82-89%"
   ]
  },
  {
   "cell_type": "markdown",
   "metadata": {
    "id": "uCPF_XJ1kgUA"
   },
   "source": [
    "## REFERENCES\n",
    "\n",
    "1. https://towardsdatascience.com/a-no-frills-guide-to-most-natural-language-processing-models-the-transformer-xl-era-ff5035f04e0f\n",
    "\n",
    "2. Using BERT for the first time (by J Alammar): http://jalammar.github.io/a-visual-guide-to-using-bert-for-the-first-time/; code: https://colab.research.google.com/github/jalammar/jalammar.github.io/blob/master/notebooks/bert/A_Visual_Notebook_to_Using_BERT_for_the_First_Time.ipynb\n",
    "\n",
    "3. Stanford Sentiment Treebank: https://nlp.stanford.edu/sentiment/index.html"
   ]
  },
  {
   "cell_type": "markdown",
   "metadata": {
    "id": "oUJelZsE_0Xn"
   },
   "source": [
    "## From the reference above, using the SST dataset (movie reviews)"
   ]
  },
  {
   "cell_type": "code",
   "execution_count": 44,
   "metadata": {
    "executionInfo": {
     "elapsed": 373477,
     "status": "ok",
     "timestamp": 1621191692651,
     "user": {
      "displayName": "Sanjiv Das",
      "photoUrl": "https://lh3.googleusercontent.com/a-/AOh14GhgUU3RgThSxLUq6NKSN2tDGDl8IQdtHMvdaZPE=s64",
      "userId": "06377870171053566924"
     },
     "user_tz": 420
    },
    "id": "zjVl5lQlCujc"
   },
   "outputs": [],
   "source": [
    "from sklearn.linear_model import LogisticRegression\n",
    "from sklearn.model_selection import GridSearchCV\n",
    "from sklearn.model_selection import cross_val_score\n",
    "import torch\n",
    "import transformers as ppb\n",
    "import warnings\n",
    "warnings.filterwarnings('ignore')"
   ]
  },
  {
   "cell_type": "code",
   "execution_count": 45,
   "metadata": {
    "colab": {
     "base_uri": "https://localhost:8080/",
     "height": 215
    },
    "executionInfo": {
     "elapsed": 373665,
     "status": "ok",
     "timestamp": 1621191692844,
     "user": {
      "displayName": "Sanjiv Das",
      "photoUrl": "https://lh3.googleusercontent.com/a-/AOh14GhgUU3RgThSxLUq6NKSN2tDGDl8IQdtHMvdaZPE=s64",
      "userId": "06377870171053566924"
     },
     "user_tz": 420
    },
    "id": "r_jM-iJ3Cujc",
    "outputId": "b66bcafc-5408-476e-a484-f647897fecbd"
   },
   "outputs": [
    {
     "name": "stdout",
     "output_type": "stream",
     "text": [
      "(6920, 2)\n"
     ]
    },
    {
     "data": {
      "text/html": [
       "<div>\n",
       "<style scoped>\n",
       "    .dataframe tbody tr th:only-of-type {\n",
       "        vertical-align: middle;\n",
       "    }\n",
       "\n",
       "    .dataframe tbody tr th {\n",
       "        vertical-align: top;\n",
       "    }\n",
       "\n",
       "    .dataframe thead th {\n",
       "        text-align: right;\n",
       "    }\n",
       "</style>\n",
       "<table border=\"1\" class=\"dataframe\">\n",
       "  <thead>\n",
       "    <tr style=\"text-align: right;\">\n",
       "      <th></th>\n",
       "      <th>0</th>\n",
       "      <th>1</th>\n",
       "    </tr>\n",
       "  </thead>\n",
       "  <tbody>\n",
       "    <tr>\n",
       "      <th>0</th>\n",
       "      <td>a stirring , funny and finally transporting re...</td>\n",
       "      <td>1</td>\n",
       "    </tr>\n",
       "    <tr>\n",
       "      <th>1</th>\n",
       "      <td>apparently reassembled from the cutting room f...</td>\n",
       "      <td>0</td>\n",
       "    </tr>\n",
       "    <tr>\n",
       "      <th>2</th>\n",
       "      <td>they presume their audience wo n't sit still f...</td>\n",
       "      <td>0</td>\n",
       "    </tr>\n",
       "    <tr>\n",
       "      <th>3</th>\n",
       "      <td>this is a visually stunning rumination on love...</td>\n",
       "      <td>1</td>\n",
       "    </tr>\n",
       "    <tr>\n",
       "      <th>4</th>\n",
       "      <td>jonathan parker 's bartleby should have been t...</td>\n",
       "      <td>1</td>\n",
       "    </tr>\n",
       "  </tbody>\n",
       "</table>\n",
       "</div>"
      ],
      "text/plain": [
       "                                                   0  1\n",
       "0  a stirring , funny and finally transporting re...  1\n",
       "1  apparently reassembled from the cutting room f...  0\n",
       "2  they presume their audience wo n't sit still f...  0\n",
       "3  this is a visually stunning rumination on love...  1\n",
       "4  jonathan parker 's bartleby should have been t...  1"
      ]
     },
     "execution_count": 45,
     "metadata": {},
     "output_type": "execute_result"
    }
   ],
   "source": [
    "df_large = pd.read_csv('https://github.com/clairett/pytorch-sentiment-classification/raw/master/data/SST2/train.tsv', delimiter='\\t', header=None)\n",
    "print(df_large.shape)\n",
    "df_large.head()"
   ]
  },
  {
   "cell_type": "code",
   "execution_count": 46,
   "metadata": {
    "colab": {
     "base_uri": "https://localhost:8080/"
    },
    "executionInfo": {
     "elapsed": 373663,
     "status": "ok",
     "timestamp": 1621191692845,
     "user": {
      "displayName": "Sanjiv Das",
      "photoUrl": "https://lh3.googleusercontent.com/a-/AOh14GhgUU3RgThSxLUq6NKSN2tDGDl8IQdtHMvdaZPE=s64",
      "userId": "06377870171053566924"
     },
     "user_tz": 420
    },
    "id": "A1ll6n3ACujc",
    "outputId": "81e562a5-b163-4e1c-9a9b-4a81fa756cc1"
   },
   "outputs": [
    {
     "data": {
      "text/plain": [
       "1    782\n",
       "0    718\n",
       "Name: 1, dtype: int64"
      ]
     },
     "execution_count": 46,
     "metadata": {},
     "output_type": "execute_result"
    }
   ],
   "source": [
    "# Is the dataset balanced in labels?\n",
    "df = df_large[:1500]  # take a small subset\n",
    "df[1].value_counts()"
   ]
  },
  {
   "cell_type": "markdown",
   "metadata": {
    "id": "j_v82-E6Cujd"
   },
   "source": [
    "## Get the pre-trained model"
   ]
  },
  {
   "cell_type": "code",
   "execution_count": 47,
   "metadata": {
    "colab": {
     "base_uri": "https://localhost:8080/",
     "height": 138,
     "referenced_widgets": [
      "917e3b434e084fb9acd00dd4e8038a72",
      "2e4b1a3aefd749d98ba390c06bd190a9",
      "bb4c539ac55b4a238477990e71cf9dd0",
      "8c4b80db5a6248adb1e4fc55c8153ee4",
      "aae2a868526940d494db5b874155e4eb",
      "ef20085d9b1d4e16a4ff0bd13c5e55fd",
      "503af21f8dcb43bfb643b88d478f10c5",
      "c07f59b4944f464e84d16dcefe9f203e"
     ]
    },
    "executionInfo": {
     "elapsed": 381169,
     "status": "ok",
     "timestamp": 1621191700355,
     "user": {
      "displayName": "Sanjiv Das",
      "photoUrl": "https://lh3.googleusercontent.com/a-/AOh14GhgUU3RgThSxLUq6NKSN2tDGDl8IQdtHMvdaZPE=s64",
      "userId": "06377870171053566924"
     },
     "user_tz": 420
    },
    "id": "jASOh0TsCujd",
    "outputId": "84729d91-0678-46e7-915b-a7c15f4d0371"
   },
   "outputs": [
    {
     "data": {
      "application/vnd.jupyter.widget-view+json": {
       "model_id": "144a0cf6891a45c4a87d5ac8f2caab5e",
       "version_major": 2,
       "version_minor": 0
      },
      "text/plain": [
       "HBox(children=(FloatProgress(value=0.0, description='Downloading', max=267967963.0, style=ProgressStyle(descri…"
      ]
     },
     "metadata": {},
     "output_type": "display_data"
    },
    {
     "name": "stdout",
     "output_type": "stream",
     "text": [
      "\n"
     ]
    }
   ],
   "source": [
    "# For DistilBERT:\n",
    "model_class, tokenizer_class, pretrained_weights = (ppb.DistilBertModel, ppb.DistilBertTokenizer, 'distilbert-base-uncased')\n",
    "\n",
    "## Want BERT instead of distilBERT? Uncomment the following line:\n",
    "#model_class, tokenizer_class, pretrained_weights = (ppb.BertModel, ppb.BertTokenizer, 'bert-base-uncased')\n",
    "\n",
    "# Load pretrained model/tokenizer\n",
    "tokenizer = tokenizer_class.from_pretrained(pretrained_weights)\n",
    "model = model_class.from_pretrained(pretrained_weights)"
   ]
  },
  {
   "cell_type": "code",
   "execution_count": 48,
   "metadata": {
    "colab": {
     "base_uri": "https://localhost:8080/"
    },
    "executionInfo": {
     "elapsed": 381944,
     "status": "ok",
     "timestamp": 1621191701134,
     "user": {
      "displayName": "Sanjiv Das",
      "photoUrl": "https://lh3.googleusercontent.com/a-/AOh14GhgUU3RgThSxLUq6NKSN2tDGDl8IQdtHMvdaZPE=s64",
      "userId": "06377870171053566924"
     },
     "user_tz": 420
    },
    "id": "S3BXsQUmCujd",
    "outputId": "46cf0ffd-918d-41d7-eaf8-e044153e66b5"
   },
   "outputs": [
    {
     "name": "stdout",
     "output_type": "stream",
     "text": [
      "(1500,)\n"
     ]
    },
    {
     "data": {
      "text/plain": [
       "[101,\n",
       " 1037,\n",
       " 18385,\n",
       " 1010,\n",
       " 6057,\n",
       " 1998,\n",
       " 2633,\n",
       " 18276,\n",
       " 2128,\n",
       " 16603,\n",
       " 1997,\n",
       " 5053,\n",
       " 1998,\n",
       " 1996,\n",
       " 6841,\n",
       " 1998,\n",
       " 5687,\n",
       " 5469,\n",
       " 3152,\n",
       " 102]"
      ]
     },
     "execution_count": 48,
     "metadata": {},
     "output_type": "execute_result"
    }
   ],
   "source": [
    "# Get tokenized version\n",
    "tokenized = df[0].apply((lambda x: tokenizer.encode(x, add_special_tokens=True)))\n",
    "print(tokenized.shape)\n",
    "tokenized[0]"
   ]
  },
  {
   "cell_type": "markdown",
   "metadata": {
    "id": "JVUNuF68Cujd"
   },
   "source": [
    "## Construct token IDs and masks"
   ]
  },
  {
   "cell_type": "code",
   "execution_count": 49,
   "metadata": {
    "colab": {
     "base_uri": "https://localhost:8080/"
    },
    "executionInfo": {
     "elapsed": 381941,
     "status": "ok",
     "timestamp": 1621191701135,
     "user": {
      "displayName": "Sanjiv Das",
      "photoUrl": "https://lh3.googleusercontent.com/a-/AOh14GhgUU3RgThSxLUq6NKSN2tDGDl8IQdtHMvdaZPE=s64",
      "userId": "06377870171053566924"
     },
     "user_tz": 420
    },
    "id": "WizivDybCujd",
    "outputId": "780637cd-c708-4b4d-e7e5-0a8329abfd8c"
   },
   "outputs": [
    {
     "name": "stdout",
     "output_type": "stream",
     "text": [
      "(1500, 59)\n"
     ]
    },
    {
     "data": {
      "text/plain": [
       "array([[  101,  1037, 18385,  1010,  6057,  1998,  2633, 18276,  2128,\n",
       "        16603,  1997,  5053,  1998,  1996,  6841,  1998,  5687,  5469,\n",
       "         3152,   102,     0,     0,     0,     0,     0,     0,     0,\n",
       "            0,     0,     0,     0,     0,     0,     0,     0,     0,\n",
       "            0,     0,     0,     0,     0,     0,     0,     0,     0,\n",
       "            0,     0,     0,     0,     0,     0,     0,     0,     0,\n",
       "            0,     0,     0,     0,     0],\n",
       "       [  101,  4593,  2128, 27241, 23931,  2013,  1996,  6276,  2282,\n",
       "         2723,  1997,  2151,  2445, 12217,  7815,   102,     0,     0,\n",
       "            0,     0,     0,     0,     0,     0,     0,     0,     0,\n",
       "            0,     0,     0,     0,     0,     0,     0,     0,     0,\n",
       "            0,     0,     0,     0,     0,     0,     0,     0,     0,\n",
       "            0,     0,     0,     0,     0,     0,     0,     0,     0,\n",
       "            0,     0,     0,     0,     0],\n",
       "       [  101,  2027,  3653, 23545,  2037,  4378, 24185,  1050,  1005,\n",
       "         1056,  4133,  2145,  2005,  1037, 11507, 10800,  1010,  2174,\n",
       "        14036,  2135,  3591,  1010,  2061,  2027, 19817,  4140,  2041,\n",
       "         1996,  7511,  2671,  4349,  3787,  1997, 11829,  7168,  9219,\n",
       "         1998, 28971,  2308,  1999,  8301,  8737,  2100,  4253,   102,\n",
       "            0,     0,     0,     0,     0,     0,     0,     0,     0,\n",
       "            0,     0,     0,     0,     0]])"
      ]
     },
     "execution_count": 49,
     "metadata": {},
     "output_type": "execute_result"
    }
   ],
   "source": [
    "# Add padding and set max len to the longest entry in the dataset\n",
    "max_len = 0\n",
    "for i in tokenized.values:\n",
    "    if len(i) > max_len:\n",
    "        max_len = len(i)\n",
    "\n",
    "padded = array([i + [0]*(max_len-len(i)) for i in tokenized.values])\n",
    "print(array(padded).shape)\n",
    "padded[:3]"
   ]
  },
  {
   "cell_type": "code",
   "execution_count": 50,
   "metadata": {
    "colab": {
     "base_uri": "https://localhost:8080/"
    },
    "executionInfo": {
     "elapsed": 381939,
     "status": "ok",
     "timestamp": 1621191701136,
     "user": {
      "displayName": "Sanjiv Das",
      "photoUrl": "https://lh3.googleusercontent.com/a-/AOh14GhgUU3RgThSxLUq6NKSN2tDGDl8IQdtHMvdaZPE=s64",
      "userId": "06377870171053566924"
     },
     "user_tz": 420
    },
    "id": "RsCzwaJoCujd",
    "outputId": "34e92314-a251-4574-d1fb-e89b96e8180b"
   },
   "outputs": [
    {
     "name": "stdout",
     "output_type": "stream",
     "text": [
      "(1500, 59)\n"
     ]
    },
    {
     "data": {
      "text/plain": [
       "array([[1, 1, 1, 1, 1, 1, 1, 1, 1, 1, 1, 1, 1, 1, 1, 1, 1, 1, 1, 1, 0, 0,\n",
       "        0, 0, 0, 0, 0, 0, 0, 0, 0, 0, 0, 0, 0, 0, 0, 0, 0, 0, 0, 0, 0, 0,\n",
       "        0, 0, 0, 0, 0, 0, 0, 0, 0, 0, 0, 0, 0, 0, 0],\n",
       "       [1, 1, 1, 1, 1, 1, 1, 1, 1, 1, 1, 1, 1, 1, 1, 1, 0, 0, 0, 0, 0, 0,\n",
       "        0, 0, 0, 0, 0, 0, 0, 0, 0, 0, 0, 0, 0, 0, 0, 0, 0, 0, 0, 0, 0, 0,\n",
       "        0, 0, 0, 0, 0, 0, 0, 0, 0, 0, 0, 0, 0, 0, 0],\n",
       "       [1, 1, 1, 1, 1, 1, 1, 1, 1, 1, 1, 1, 1, 1, 1, 1, 1, 1, 1, 1, 1, 1,\n",
       "        1, 1, 1, 1, 1, 1, 1, 1, 1, 1, 1, 1, 1, 1, 1, 1, 1, 1, 1, 1, 1, 1,\n",
       "        1, 0, 0, 0, 0, 0, 0, 0, 0, 0, 0, 0, 0, 0, 0]])"
      ]
     },
     "execution_count": 50,
     "metadata": {},
     "output_type": "execute_result"
    }
   ],
   "source": [
    "# Add a mask to let BERT know where the real tokens are and not the padding\n",
    "# Essentially we can use zero for the padding mask so those tokens do not compute\n",
    "attention_mask = where(padded != 0, 1, 0)\n",
    "print(attention_mask.shape)\n",
    "attention_mask[:3]"
   ]
  },
  {
   "cell_type": "markdown",
   "metadata": {
    "id": "4-K-_8udCujd"
   },
   "source": [
    "## Run token IDs and attention masks through BERT to get embeddings"
   ]
  },
  {
   "cell_type": "code",
   "execution_count": 51,
   "metadata": {
    "colab": {
     "base_uri": "https://localhost:8080/"
    },
    "executionInfo": {
     "elapsed": 487221,
     "status": "ok",
     "timestamp": 1621191806423,
     "user": {
      "displayName": "Sanjiv Das",
      "photoUrl": "https://lh3.googleusercontent.com/a-/AOh14GhgUU3RgThSxLUq6NKSN2tDGDl8IQdtHMvdaZPE=s64",
      "userId": "06377870171053566924"
     },
     "user_tz": 420
    },
    "id": "1fxnt_TdCuje",
    "outputId": "a965403d-07f0-4c26-ea4b-6b945d3d4f92"
   },
   "outputs": [
    {
     "name": "stdout",
     "output_type": "stream",
     "text": [
      "CPU times: user 2min 1s, sys: 25.8 s, total: 2min 27s\n",
      "Wall time: 2min 48s\n"
     ]
    }
   ],
   "source": [
    "%%time\n",
    "input_ids = torch.tensor(padded)  \n",
    "attention_mask = torch.tensor(attention_mask)\n",
    "\n",
    "with torch.no_grad():\n",
    "    last_hidden_states = model(input_ids, attention_mask=attention_mask)  #embeddings"
   ]
  },
  {
   "cell_type": "code",
   "execution_count": 52,
   "metadata": {
    "colab": {
     "base_uri": "https://localhost:8080/"
    },
    "executionInfo": {
     "elapsed": 487216,
     "status": "ok",
     "timestamp": 1621191806424,
     "user": {
      "displayName": "Sanjiv Das",
      "photoUrl": "https://lh3.googleusercontent.com/a-/AOh14GhgUU3RgThSxLUq6NKSN2tDGDl8IQdtHMvdaZPE=s64",
      "userId": "06377870171053566924"
     },
     "user_tz": 420
    },
    "id": "xIfqqpQnCuje",
    "outputId": "0efd08ee-b62b-4aa3-c1fa-fcc8055cc038"
   },
   "outputs": [
    {
     "name": "stdout",
     "output_type": "stream",
     "text": [
      "1500\n"
     ]
    },
    {
     "data": {
      "text/plain": [
       "tensor([[-0.2159, -0.1403,  0.0083,  ..., -0.1369,  0.5867,  0.2011],\n",
       "        [-0.1726, -0.1448,  0.0022,  ..., -0.1744,  0.2139,  0.3720],\n",
       "        [-0.0506,  0.0720, -0.0296,  ..., -0.0715,  0.7185,  0.2623],\n",
       "        ...,\n",
       "        [ 0.0062,  0.0426, -0.1080,  ..., -0.0417,  0.6836,  0.3451],\n",
       "        [ 0.0087,  0.0605, -0.3309,  ..., -0.2005,  0.6268,  0.1546],\n",
       "        [-0.2395, -0.1362,  0.0463,  ..., -0.0285,  0.2219,  0.3242]])"
      ]
     },
     "execution_count": 52,
     "metadata": {},
     "output_type": "execute_result"
    }
   ],
   "source": [
    "# Embeddings from BERT\n",
    "print(len(last_hidden_states[0][:,0,:]))\n",
    "last_hidden_states[0][:,0,:]"
   ]
  },
  {
   "cell_type": "code",
   "execution_count": 53,
   "metadata": {
    "colab": {
     "base_uri": "https://localhost:8080/"
    },
    "executionInfo": {
     "elapsed": 487212,
     "status": "ok",
     "timestamp": 1621191806425,
     "user": {
      "displayName": "Sanjiv Das",
      "photoUrl": "https://lh3.googleusercontent.com/a-/AOh14GhgUU3RgThSxLUq6NKSN2tDGDl8IQdtHMvdaZPE=s64",
      "userId": "06377870171053566924"
     },
     "user_tz": 420
    },
    "id": "tGGiiiX7Cuje",
    "outputId": "2a0fa537-79bf-4af6-9780-ddc56008776e"
   },
   "outputs": [
    {
     "name": "stdout",
     "output_type": "stream",
     "text": [
      "(1500, 768)\n"
     ]
    }
   ],
   "source": [
    "# Collect the CLS embedding and labels to set up the classification task\n",
    "features = last_hidden_states[0][:,0,:].numpy()\n",
    "labels = df[1]\n",
    "print(features.shape)"
   ]
  },
  {
   "cell_type": "markdown",
   "metadata": {
    "id": "Bqs1yDSbCuje"
   },
   "source": [
    "## Use the BERT transformed dataset for machine learning as usual"
   ]
  },
  {
   "cell_type": "code",
   "execution_count": 54,
   "metadata": {
    "colab": {
     "base_uri": "https://localhost:8080/"
    },
    "executionInfo": {
     "elapsed": 487416,
     "status": "ok",
     "timestamp": 1621191806633,
     "user": {
      "displayName": "Sanjiv Das",
      "photoUrl": "https://lh3.googleusercontent.com/a-/AOh14GhgUU3RgThSxLUq6NKSN2tDGDl8IQdtHMvdaZPE=s64",
      "userId": "06377870171053566924"
     },
     "user_tz": 420
    },
    "id": "LUabCBVYCuje",
    "outputId": "a12c74c9-0660-4539-d7ae-e43309c89da7"
   },
   "outputs": [
    {
     "data": {
      "text/plain": [
       "0.8213333333333334"
      ]
     },
     "execution_count": 54,
     "metadata": {},
     "output_type": "execute_result"
    }
   ],
   "source": [
    "train_features, test_features, train_labels, test_labels = train_test_split(features, labels)\n",
    "lr_clf = LogisticRegression()\n",
    "lr_clf.fit(train_features, train_labels)\n",
    "lr_clf.score(test_features, test_labels)"
   ]
  },
  {
   "cell_type": "markdown",
   "metadata": {
    "id": "327w-UjsCuje"
   },
   "source": [
    "## Speed\n",
    "\n",
    "As you can see, BERT runs slow, so it is good to use a machine with GPUs. For more on computation speed, see: https://blog.inten.to/speeding-up-bert-5528e18bb4ea"
   ]
  },
  {
   "cell_type": "code",
   "execution_count": 71,
   "metadata": {
    "executionInfo": {
     "elapsed": 487413,
     "status": "ok",
     "timestamp": 1621191806634,
     "user": {
      "displayName": "Sanjiv Das",
      "photoUrl": "https://lh3.googleusercontent.com/a-/AOh14GhgUU3RgThSxLUq6NKSN2tDGDl8IQdtHMvdaZPE=s64",
      "userId": "06377870171053566924"
     },
     "user_tz": 420
    },
    "id": "pHCfKmN6Cuje"
   },
   "outputs": [],
   "source": []
  }
 ],
 "metadata": {
  "accelerator": "GPU",
  "celltoolbar": "Slideshow",
  "colab": {
   "collapsed_sections": [],
   "name": "08-LanguageModels_BERT.ipynb",
   "provenance": []
  },
  "kernelspec": {
   "display_name": "Python 3",
   "language": "python",
   "name": "python3"
  },
  "language_info": {
   "codemirror_mode": {
    "name": "ipython",
    "version": 3
   },
   "file_extension": ".py",
   "mimetype": "text/x-python",
   "name": "python",
   "nbconvert_exporter": "python",
   "pygments_lexer": "ipython3",
   "version": "3.8.3"
  },
  "widgets": {
   "application/vnd.jupyter.widget-state+json": {
    "0ada8eaa2d764dc3b5b67ed9f5a9613a": {
     "model_module": "@jupyter-widgets/controls",
     "model_name": "ProgressStyleModel",
     "state": {
      "_model_module": "@jupyter-widgets/controls",
      "_model_module_version": "1.5.0",
      "_model_name": "ProgressStyleModel",
      "_view_count": null,
      "_view_module": "@jupyter-widgets/base",
      "_view_module_version": "1.2.0",
      "_view_name": "StyleView",
      "bar_color": null,
      "description_width": "initial"
     }
    },
    "118531237cf64f3c89a43c82cf06cf02": {
     "model_module": "@jupyter-widgets/controls",
     "model_name": "ProgressStyleModel",
     "state": {
      "_model_module": "@jupyter-widgets/controls",
      "_model_module_version": "1.5.0",
      "_model_name": "ProgressStyleModel",
      "_view_count": null,
      "_view_module": "@jupyter-widgets/base",
      "_view_module_version": "1.2.0",
      "_view_name": "StyleView",
      "bar_color": null,
      "description_width": "initial"
     }
    },
    "123a12318ac34a14974274c2aaf1f746": {
     "model_module": "@jupyter-widgets/controls",
     "model_name": "DescriptionStyleModel",
     "state": {
      "_model_module": "@jupyter-widgets/controls",
      "_model_module_version": "1.5.0",
      "_model_name": "DescriptionStyleModel",
      "_view_count": null,
      "_view_module": "@jupyter-widgets/base",
      "_view_module_version": "1.2.0",
      "_view_name": "StyleView",
      "description_width": ""
     }
    },
    "123a98255d8645778c8b4f05915a10fe": {
     "model_module": "@jupyter-widgets/controls",
     "model_name": "DescriptionStyleModel",
     "state": {
      "_model_module": "@jupyter-widgets/controls",
      "_model_module_version": "1.5.0",
      "_model_name": "DescriptionStyleModel",
      "_view_count": null,
      "_view_module": "@jupyter-widgets/base",
      "_view_module_version": "1.2.0",
      "_view_name": "StyleView",
      "description_width": ""
     }
    },
    "13bc6456a0ec421cacc0521fce519a6f": {
     "model_module": "@jupyter-widgets/controls",
     "model_name": "HBoxModel",
     "state": {
      "_dom_classes": [],
      "_model_module": "@jupyter-widgets/controls",
      "_model_module_version": "1.5.0",
      "_model_name": "HBoxModel",
      "_view_count": null,
      "_view_module": "@jupyter-widgets/controls",
      "_view_module_version": "1.5.0",
      "_view_name": "HBoxView",
      "box_style": "",
      "children": [
       "IPY_MODEL_f1c7eec094a1442780124835ad89281a",
       "IPY_MODEL_b46a4e53cdc84464849d7eaaabdcec67"
      ],
      "layout": "IPY_MODEL_6b9e6068d2464d839ade80131d1bc06f"
     }
    },
    "1fdcded56e3f442fbe7acf39edbb906c": {
     "model_module": "@jupyter-widgets/controls",
     "model_name": "DescriptionStyleModel",
     "state": {
      "_model_module": "@jupyter-widgets/controls",
      "_model_module_version": "1.5.0",
      "_model_name": "DescriptionStyleModel",
      "_view_count": null,
      "_view_module": "@jupyter-widgets/base",
      "_view_module_version": "1.2.0",
      "_view_name": "StyleView",
      "description_width": ""
     }
    },
    "2096eb6dc195494bac718baea7194c09": {
     "model_module": "@jupyter-widgets/base",
     "model_name": "LayoutModel",
     "state": {
      "_model_module": "@jupyter-widgets/base",
      "_model_module_version": "1.2.0",
      "_model_name": "LayoutModel",
      "_view_count": null,
      "_view_module": "@jupyter-widgets/base",
      "_view_module_version": "1.2.0",
      "_view_name": "LayoutView",
      "align_content": null,
      "align_items": null,
      "align_self": null,
      "border": null,
      "bottom": null,
      "display": null,
      "flex": null,
      "flex_flow": null,
      "grid_area": null,
      "grid_auto_columns": null,
      "grid_auto_flow": null,
      "grid_auto_rows": null,
      "grid_column": null,
      "grid_gap": null,
      "grid_row": null,
      "grid_template_areas": null,
      "grid_template_columns": null,
      "grid_template_rows": null,
      "height": null,
      "justify_content": null,
      "justify_items": null,
      "left": null,
      "margin": null,
      "max_height": null,
      "max_width": null,
      "min_height": null,
      "min_width": null,
      "object_fit": null,
      "object_position": null,
      "order": null,
      "overflow": null,
      "overflow_x": null,
      "overflow_y": null,
      "padding": null,
      "right": null,
      "top": null,
      "visibility": null,
      "width": null
     }
    },
    "237dd1dba51d4a2ead7d05fa720827a1": {
     "model_module": "@jupyter-widgets/base",
     "model_name": "LayoutModel",
     "state": {
      "_model_module": "@jupyter-widgets/base",
      "_model_module_version": "1.2.0",
      "_model_name": "LayoutModel",
      "_view_count": null,
      "_view_module": "@jupyter-widgets/base",
      "_view_module_version": "1.2.0",
      "_view_name": "LayoutView",
      "align_content": null,
      "align_items": null,
      "align_self": null,
      "border": null,
      "bottom": null,
      "display": null,
      "flex": null,
      "flex_flow": null,
      "grid_area": null,
      "grid_auto_columns": null,
      "grid_auto_flow": null,
      "grid_auto_rows": null,
      "grid_column": null,
      "grid_gap": null,
      "grid_row": null,
      "grid_template_areas": null,
      "grid_template_columns": null,
      "grid_template_rows": null,
      "height": null,
      "justify_content": null,
      "justify_items": null,
      "left": null,
      "margin": null,
      "max_height": null,
      "max_width": null,
      "min_height": null,
      "min_width": null,
      "object_fit": null,
      "object_position": null,
      "order": null,
      "overflow": null,
      "overflow_x": null,
      "overflow_y": null,
      "padding": null,
      "right": null,
      "top": null,
      "visibility": null,
      "width": null
     }
    },
    "26fdd255ce74443788e2d0008197b98b": {
     "model_module": "@jupyter-widgets/controls",
     "model_name": "FloatProgressModel",
     "state": {
      "_dom_classes": [],
      "_model_module": "@jupyter-widgets/controls",
      "_model_module_version": "1.5.0",
      "_model_name": "FloatProgressModel",
      "_view_count": null,
      "_view_module": "@jupyter-widgets/controls",
      "_view_module_version": "1.5.0",
      "_view_name": "ProgressView",
      "bar_style": "success",
      "description": "Downloading: 100%",
      "description_tooltip": null,
      "layout": "IPY_MODEL_3fe28e12364047e38cdd7a12c47f6edb",
      "max": 231508,
      "min": 0,
      "orientation": "horizontal",
      "style": "IPY_MODEL_0ada8eaa2d764dc3b5b67ed9f5a9613a",
      "value": 231508
     }
    },
    "2a53c82dc07e4b03911a1b548e02a7b7": {
     "model_module": "@jupyter-widgets/controls",
     "model_name": "HTMLModel",
     "state": {
      "_dom_classes": [],
      "_model_module": "@jupyter-widgets/controls",
      "_model_module_version": "1.5.0",
      "_model_name": "HTMLModel",
      "_view_count": null,
      "_view_module": "@jupyter-widgets/controls",
      "_view_module_version": "1.5.0",
      "_view_name": "HTMLView",
      "description": "",
      "description_tooltip": null,
      "layout": "IPY_MODEL_698670253dc2463f8ad5d424b88d10d4",
      "placeholder": "​",
      "style": "IPY_MODEL_85e589112f00416e974ac0b7dcdb1777",
      "value": " 536M/536M [00:11&lt;00:00, 48.4MB/s]"
     }
    },
    "2bc3a80c187e48de872e58f51ee28524": {
     "model_module": "@jupyter-widgets/controls",
     "model_name": "DescriptionStyleModel",
     "state": {
      "_model_module": "@jupyter-widgets/controls",
      "_model_module_version": "1.5.0",
      "_model_name": "DescriptionStyleModel",
      "_view_count": null,
      "_view_module": "@jupyter-widgets/base",
      "_view_module_version": "1.2.0",
      "_view_name": "StyleView",
      "description_width": ""
     }
    },
    "2e4b1a3aefd749d98ba390c06bd190a9": {
     "model_module": "@jupyter-widgets/base",
     "model_name": "LayoutModel",
     "state": {
      "_model_module": "@jupyter-widgets/base",
      "_model_module_version": "1.2.0",
      "_model_name": "LayoutModel",
      "_view_count": null,
      "_view_module": "@jupyter-widgets/base",
      "_view_module_version": "1.2.0",
      "_view_name": "LayoutView",
      "align_content": null,
      "align_items": null,
      "align_self": null,
      "border": null,
      "bottom": null,
      "display": null,
      "flex": null,
      "flex_flow": null,
      "grid_area": null,
      "grid_auto_columns": null,
      "grid_auto_flow": null,
      "grid_auto_rows": null,
      "grid_column": null,
      "grid_gap": null,
      "grid_row": null,
      "grid_template_areas": null,
      "grid_template_columns": null,
      "grid_template_rows": null,
      "height": null,
      "justify_content": null,
      "justify_items": null,
      "left": null,
      "margin": null,
      "max_height": null,
      "max_width": null,
      "min_height": null,
      "min_width": null,
      "object_fit": null,
      "object_position": null,
      "order": null,
      "overflow": null,
      "overflow_x": null,
      "overflow_y": null,
      "padding": null,
      "right": null,
      "top": null,
      "visibility": null,
      "width": null
     }
    },
    "2e9e734e45e04ef085cd8b7f36b93b4f": {
     "model_module": "@jupyter-widgets/controls",
     "model_name": "ProgressStyleModel",
     "state": {
      "_model_module": "@jupyter-widgets/controls",
      "_model_module_version": "1.5.0",
      "_model_name": "ProgressStyleModel",
      "_view_count": null,
      "_view_module": "@jupyter-widgets/base",
      "_view_module_version": "1.2.0",
      "_view_name": "StyleView",
      "bar_color": null,
      "description_width": "initial"
     }
    },
    "2f4f5df1ca234f80b6cfd7a41dfa3628": {
     "model_module": "@jupyter-widgets/base",
     "model_name": "LayoutModel",
     "state": {
      "_model_module": "@jupyter-widgets/base",
      "_model_module_version": "1.2.0",
      "_model_name": "LayoutModel",
      "_view_count": null,
      "_view_module": "@jupyter-widgets/base",
      "_view_module_version": "1.2.0",
      "_view_name": "LayoutView",
      "align_content": null,
      "align_items": null,
      "align_self": null,
      "border": null,
      "bottom": null,
      "display": null,
      "flex": null,
      "flex_flow": null,
      "grid_area": null,
      "grid_auto_columns": null,
      "grid_auto_flow": null,
      "grid_auto_rows": null,
      "grid_column": null,
      "grid_gap": null,
      "grid_row": null,
      "grid_template_areas": null,
      "grid_template_columns": null,
      "grid_template_rows": null,
      "height": null,
      "justify_content": null,
      "justify_items": null,
      "left": null,
      "margin": null,
      "max_height": null,
      "max_width": null,
      "min_height": null,
      "min_width": null,
      "object_fit": null,
      "object_position": null,
      "order": null,
      "overflow": null,
      "overflow_x": null,
      "overflow_y": null,
      "padding": null,
      "right": null,
      "top": null,
      "visibility": null,
      "width": null
     }
    },
    "32e792a26f2d41ea91d016bedb8ee258": {
     "model_module": "@jupyter-widgets/controls",
     "model_name": "HBoxModel",
     "state": {
      "_dom_classes": [],
      "_model_module": "@jupyter-widgets/controls",
      "_model_module_version": "1.5.0",
      "_model_name": "HBoxModel",
      "_view_count": null,
      "_view_module": "@jupyter-widgets/controls",
      "_view_module_version": "1.5.0",
      "_view_name": "HBoxView",
      "box_style": "",
      "children": [
       "IPY_MODEL_91f208215681460190947433c4c1110c",
       "IPY_MODEL_2a53c82dc07e4b03911a1b548e02a7b7"
      ],
      "layout": "IPY_MODEL_dd3e9ab8062b46e5b6dc2161b3848c77"
     }
    },
    "364ebd047e164877b67dcf43a7763669": {
     "model_module": "@jupyter-widgets/controls",
     "model_name": "ProgressStyleModel",
     "state": {
      "_model_module": "@jupyter-widgets/controls",
      "_model_module_version": "1.5.0",
      "_model_name": "ProgressStyleModel",
      "_view_count": null,
      "_view_module": "@jupyter-widgets/base",
      "_view_module_version": "1.2.0",
      "_view_name": "StyleView",
      "bar_color": null,
      "description_width": "initial"
     }
    },
    "3dcd6132af1c4da588bc24e700c5339c": {
     "model_module": "@jupyter-widgets/controls",
     "model_name": "ProgressStyleModel",
     "state": {
      "_model_module": "@jupyter-widgets/controls",
      "_model_module_version": "1.5.0",
      "_model_name": "ProgressStyleModel",
      "_view_count": null,
      "_view_module": "@jupyter-widgets/base",
      "_view_module_version": "1.2.0",
      "_view_name": "StyleView",
      "bar_color": null,
      "description_width": "initial"
     }
    },
    "3eb33311b2ac4f7a84fefc87edc7d2ab": {
     "model_module": "@jupyter-widgets/base",
     "model_name": "LayoutModel",
     "state": {
      "_model_module": "@jupyter-widgets/base",
      "_model_module_version": "1.2.0",
      "_model_name": "LayoutModel",
      "_view_count": null,
      "_view_module": "@jupyter-widgets/base",
      "_view_module_version": "1.2.0",
      "_view_name": "LayoutView",
      "align_content": null,
      "align_items": null,
      "align_self": null,
      "border": null,
      "bottom": null,
      "display": null,
      "flex": null,
      "flex_flow": null,
      "grid_area": null,
      "grid_auto_columns": null,
      "grid_auto_flow": null,
      "grid_auto_rows": null,
      "grid_column": null,
      "grid_gap": null,
      "grid_row": null,
      "grid_template_areas": null,
      "grid_template_columns": null,
      "grid_template_rows": null,
      "height": null,
      "justify_content": null,
      "justify_items": null,
      "left": null,
      "margin": null,
      "max_height": null,
      "max_width": null,
      "min_height": null,
      "min_width": null,
      "object_fit": null,
      "object_position": null,
      "order": null,
      "overflow": null,
      "overflow_x": null,
      "overflow_y": null,
      "padding": null,
      "right": null,
      "top": null,
      "visibility": null,
      "width": null
     }
    },
    "3f6bfb96a43847e8aa5252e0dbf2b6dd": {
     "model_module": "@jupyter-widgets/base",
     "model_name": "LayoutModel",
     "state": {
      "_model_module": "@jupyter-widgets/base",
      "_model_module_version": "1.2.0",
      "_model_name": "LayoutModel",
      "_view_count": null,
      "_view_module": "@jupyter-widgets/base",
      "_view_module_version": "1.2.0",
      "_view_name": "LayoutView",
      "align_content": null,
      "align_items": null,
      "align_self": null,
      "border": null,
      "bottom": null,
      "display": null,
      "flex": null,
      "flex_flow": null,
      "grid_area": null,
      "grid_auto_columns": null,
      "grid_auto_flow": null,
      "grid_auto_rows": null,
      "grid_column": null,
      "grid_gap": null,
      "grid_row": null,
      "grid_template_areas": null,
      "grid_template_columns": null,
      "grid_template_rows": null,
      "height": null,
      "justify_content": null,
      "justify_items": null,
      "left": null,
      "margin": null,
      "max_height": null,
      "max_width": null,
      "min_height": null,
      "min_width": null,
      "object_fit": null,
      "object_position": null,
      "order": null,
      "overflow": null,
      "overflow_x": null,
      "overflow_y": null,
      "padding": null,
      "right": null,
      "top": null,
      "visibility": null,
      "width": null
     }
    },
    "3fc7cb0eec3e427cbc247fe9c864d824": {
     "model_module": "@jupyter-widgets/base",
     "model_name": "LayoutModel",
     "state": {
      "_model_module": "@jupyter-widgets/base",
      "_model_module_version": "1.2.0",
      "_model_name": "LayoutModel",
      "_view_count": null,
      "_view_module": "@jupyter-widgets/base",
      "_view_module_version": "1.2.0",
      "_view_name": "LayoutView",
      "align_content": null,
      "align_items": null,
      "align_self": null,
      "border": null,
      "bottom": null,
      "display": null,
      "flex": null,
      "flex_flow": null,
      "grid_area": null,
      "grid_auto_columns": null,
      "grid_auto_flow": null,
      "grid_auto_rows": null,
      "grid_column": null,
      "grid_gap": null,
      "grid_row": null,
      "grid_template_areas": null,
      "grid_template_columns": null,
      "grid_template_rows": null,
      "height": null,
      "justify_content": null,
      "justify_items": null,
      "left": null,
      "margin": null,
      "max_height": null,
      "max_width": null,
      "min_height": null,
      "min_width": null,
      "object_fit": null,
      "object_position": null,
      "order": null,
      "overflow": null,
      "overflow_x": null,
      "overflow_y": null,
      "padding": null,
      "right": null,
      "top": null,
      "visibility": null,
      "width": null
     }
    },
    "3fe28e12364047e38cdd7a12c47f6edb": {
     "model_module": "@jupyter-widgets/base",
     "model_name": "LayoutModel",
     "state": {
      "_model_module": "@jupyter-widgets/base",
      "_model_module_version": "1.2.0",
      "_model_name": "LayoutModel",
      "_view_count": null,
      "_view_module": "@jupyter-widgets/base",
      "_view_module_version": "1.2.0",
      "_view_name": "LayoutView",
      "align_content": null,
      "align_items": null,
      "align_self": null,
      "border": null,
      "bottom": null,
      "display": null,
      "flex": null,
      "flex_flow": null,
      "grid_area": null,
      "grid_auto_columns": null,
      "grid_auto_flow": null,
      "grid_auto_rows": null,
      "grid_column": null,
      "grid_gap": null,
      "grid_row": null,
      "grid_template_areas": null,
      "grid_template_columns": null,
      "grid_template_rows": null,
      "height": null,
      "justify_content": null,
      "justify_items": null,
      "left": null,
      "margin": null,
      "max_height": null,
      "max_width": null,
      "min_height": null,
      "min_width": null,
      "object_fit": null,
      "object_position": null,
      "order": null,
      "overflow": null,
      "overflow_x": null,
      "overflow_y": null,
      "padding": null,
      "right": null,
      "top": null,
      "visibility": null,
      "width": null
     }
    },
    "4394b31a5b4f4c18b707aac3d750e44b": {
     "model_module": "@jupyter-widgets/base",
     "model_name": "LayoutModel",
     "state": {
      "_model_module": "@jupyter-widgets/base",
      "_model_module_version": "1.2.0",
      "_model_name": "LayoutModel",
      "_view_count": null,
      "_view_module": "@jupyter-widgets/base",
      "_view_module_version": "1.2.0",
      "_view_name": "LayoutView",
      "align_content": null,
      "align_items": null,
      "align_self": null,
      "border": null,
      "bottom": null,
      "display": null,
      "flex": null,
      "flex_flow": null,
      "grid_area": null,
      "grid_auto_columns": null,
      "grid_auto_flow": null,
      "grid_auto_rows": null,
      "grid_column": null,
      "grid_gap": null,
      "grid_row": null,
      "grid_template_areas": null,
      "grid_template_columns": null,
      "grid_template_rows": null,
      "height": null,
      "justify_content": null,
      "justify_items": null,
      "left": null,
      "margin": null,
      "max_height": null,
      "max_width": null,
      "min_height": null,
      "min_width": null,
      "object_fit": null,
      "object_position": null,
      "order": null,
      "overflow": null,
      "overflow_x": null,
      "overflow_y": null,
      "padding": null,
      "right": null,
      "top": null,
      "visibility": null,
      "width": null
     }
    },
    "48f1da8b12534703bc8f677d5cf747ac": {
     "model_module": "@jupyter-widgets/base",
     "model_name": "LayoutModel",
     "state": {
      "_model_module": "@jupyter-widgets/base",
      "_model_module_version": "1.2.0",
      "_model_name": "LayoutModel",
      "_view_count": null,
      "_view_module": "@jupyter-widgets/base",
      "_view_module_version": "1.2.0",
      "_view_name": "LayoutView",
      "align_content": null,
      "align_items": null,
      "align_self": null,
      "border": null,
      "bottom": null,
      "display": null,
      "flex": null,
      "flex_flow": null,
      "grid_area": null,
      "grid_auto_columns": null,
      "grid_auto_flow": null,
      "grid_auto_rows": null,
      "grid_column": null,
      "grid_gap": null,
      "grid_row": null,
      "grid_template_areas": null,
      "grid_template_columns": null,
      "grid_template_rows": null,
      "height": null,
      "justify_content": null,
      "justify_items": null,
      "left": null,
      "margin": null,
      "max_height": null,
      "max_width": null,
      "min_height": null,
      "min_width": null,
      "object_fit": null,
      "object_position": null,
      "order": null,
      "overflow": null,
      "overflow_x": null,
      "overflow_y": null,
      "padding": null,
      "right": null,
      "top": null,
      "visibility": null,
      "width": null
     }
    },
    "4eb8eae7d62247e0b661964928d7aa0f": {
     "model_module": "@jupyter-widgets/base",
     "model_name": "LayoutModel",
     "state": {
      "_model_module": "@jupyter-widgets/base",
      "_model_module_version": "1.2.0",
      "_model_name": "LayoutModel",
      "_view_count": null,
      "_view_module": "@jupyter-widgets/base",
      "_view_module_version": "1.2.0",
      "_view_name": "LayoutView",
      "align_content": null,
      "align_items": null,
      "align_self": null,
      "border": null,
      "bottom": null,
      "display": null,
      "flex": null,
      "flex_flow": null,
      "grid_area": null,
      "grid_auto_columns": null,
      "grid_auto_flow": null,
      "grid_auto_rows": null,
      "grid_column": null,
      "grid_gap": null,
      "grid_row": null,
      "grid_template_areas": null,
      "grid_template_columns": null,
      "grid_template_rows": null,
      "height": null,
      "justify_content": null,
      "justify_items": null,
      "left": null,
      "margin": null,
      "max_height": null,
      "max_width": null,
      "min_height": null,
      "min_width": null,
      "object_fit": null,
      "object_position": null,
      "order": null,
      "overflow": null,
      "overflow_x": null,
      "overflow_y": null,
      "padding": null,
      "right": null,
      "top": null,
      "visibility": null,
      "width": null
     }
    },
    "503af21f8dcb43bfb643b88d478f10c5": {
     "model_module": "@jupyter-widgets/controls",
     "model_name": "DescriptionStyleModel",
     "state": {
      "_model_module": "@jupyter-widgets/controls",
      "_model_module_version": "1.5.0",
      "_model_name": "DescriptionStyleModel",
      "_view_count": null,
      "_view_module": "@jupyter-widgets/base",
      "_view_module_version": "1.2.0",
      "_view_name": "StyleView",
      "description_width": ""
     }
    },
    "50cda512626947b4ac15e96076e59641": {
     "model_module": "@jupyter-widgets/controls",
     "model_name": "ProgressStyleModel",
     "state": {
      "_model_module": "@jupyter-widgets/controls",
      "_model_module_version": "1.5.0",
      "_model_name": "ProgressStyleModel",
      "_view_count": null,
      "_view_module": "@jupyter-widgets/base",
      "_view_module_version": "1.2.0",
      "_view_name": "StyleView",
      "bar_color": null,
      "description_width": "initial"
     }
    },
    "538fa1a74e4f4239abcaa933ae457970": {
     "model_module": "@jupyter-widgets/controls",
     "model_name": "DescriptionStyleModel",
     "state": {
      "_model_module": "@jupyter-widgets/controls",
      "_model_module_version": "1.5.0",
      "_model_name": "DescriptionStyleModel",
      "_view_count": null,
      "_view_module": "@jupyter-widgets/base",
      "_view_module_version": "1.2.0",
      "_view_name": "StyleView",
      "description_width": ""
     }
    },
    "55832bc42bdd4bceb6c32b6fe17a7a1a": {
     "model_module": "@jupyter-widgets/controls",
     "model_name": "HTMLModel",
     "state": {
      "_dom_classes": [],
      "_model_module": "@jupyter-widgets/controls",
      "_model_module_version": "1.5.0",
      "_model_name": "HTMLModel",
      "_view_count": null,
      "_view_module": "@jupyter-widgets/controls",
      "_view_module_version": "1.5.0",
      "_view_name": "HTMLView",
      "description": "",
      "description_tooltip": null,
      "layout": "IPY_MODEL_7eb6c6c9492646c99eea781612b18009",
      "placeholder": "​",
      "style": "IPY_MODEL_123a12318ac34a14974274c2aaf1f746",
      "value": " 232k/232k [00:00&lt;00:00, 326kB/s]"
     }
    },
    "59a7efe707e645a6b257fff4a3dfabb8": {
     "model_module": "@jupyter-widgets/base",
     "model_name": "LayoutModel",
     "state": {
      "_model_module": "@jupyter-widgets/base",
      "_model_module_version": "1.2.0",
      "_model_name": "LayoutModel",
      "_view_count": null,
      "_view_module": "@jupyter-widgets/base",
      "_view_module_version": "1.2.0",
      "_view_name": "LayoutView",
      "align_content": null,
      "align_items": null,
      "align_self": null,
      "border": null,
      "bottom": null,
      "display": null,
      "flex": null,
      "flex_flow": null,
      "grid_area": null,
      "grid_auto_columns": null,
      "grid_auto_flow": null,
      "grid_auto_rows": null,
      "grid_column": null,
      "grid_gap": null,
      "grid_row": null,
      "grid_template_areas": null,
      "grid_template_columns": null,
      "grid_template_rows": null,
      "height": null,
      "justify_content": null,
      "justify_items": null,
      "left": null,
      "margin": null,
      "max_height": null,
      "max_width": null,
      "min_height": null,
      "min_width": null,
      "object_fit": null,
      "object_position": null,
      "order": null,
      "overflow": null,
      "overflow_x": null,
      "overflow_y": null,
      "padding": null,
      "right": null,
      "top": null,
      "visibility": null,
      "width": null
     }
    },
    "59a88e38e595446e91b6b40ef2d5d1b6": {
     "model_module": "@jupyter-widgets/base",
     "model_name": "LayoutModel",
     "state": {
      "_model_module": "@jupyter-widgets/base",
      "_model_module_version": "1.2.0",
      "_model_name": "LayoutModel",
      "_view_count": null,
      "_view_module": "@jupyter-widgets/base",
      "_view_module_version": "1.2.0",
      "_view_name": "LayoutView",
      "align_content": null,
      "align_items": null,
      "align_self": null,
      "border": null,
      "bottom": null,
      "display": null,
      "flex": null,
      "flex_flow": null,
      "grid_area": null,
      "grid_auto_columns": null,
      "grid_auto_flow": null,
      "grid_auto_rows": null,
      "grid_column": null,
      "grid_gap": null,
      "grid_row": null,
      "grid_template_areas": null,
      "grid_template_columns": null,
      "grid_template_rows": null,
      "height": null,
      "justify_content": null,
      "justify_items": null,
      "left": null,
      "margin": null,
      "max_height": null,
      "max_width": null,
      "min_height": null,
      "min_width": null,
      "object_fit": null,
      "object_position": null,
      "order": null,
      "overflow": null,
      "overflow_x": null,
      "overflow_y": null,
      "padding": null,
      "right": null,
      "top": null,
      "visibility": null,
      "width": null
     }
    },
    "5b80d7e01ac842599651bfc5f54072cf": {
     "model_module": "@jupyter-widgets/controls",
     "model_name": "ProgressStyleModel",
     "state": {
      "_model_module": "@jupyter-widgets/controls",
      "_model_module_version": "1.5.0",
      "_model_name": "ProgressStyleModel",
      "_view_count": null,
      "_view_module": "@jupyter-widgets/base",
      "_view_module_version": "1.2.0",
      "_view_name": "StyleView",
      "bar_color": null,
      "description_width": "initial"
     }
    },
    "5d50efaccbfd4c75b09580d6b044fafd": {
     "model_module": "@jupyter-widgets/base",
     "model_name": "LayoutModel",
     "state": {
      "_model_module": "@jupyter-widgets/base",
      "_model_module_version": "1.2.0",
      "_model_name": "LayoutModel",
      "_view_count": null,
      "_view_module": "@jupyter-widgets/base",
      "_view_module_version": "1.2.0",
      "_view_name": "LayoutView",
      "align_content": null,
      "align_items": null,
      "align_self": null,
      "border": null,
      "bottom": null,
      "display": null,
      "flex": null,
      "flex_flow": null,
      "grid_area": null,
      "grid_auto_columns": null,
      "grid_auto_flow": null,
      "grid_auto_rows": null,
      "grid_column": null,
      "grid_gap": null,
      "grid_row": null,
      "grid_template_areas": null,
      "grid_template_columns": null,
      "grid_template_rows": null,
      "height": null,
      "justify_content": null,
      "justify_items": null,
      "left": null,
      "margin": null,
      "max_height": null,
      "max_width": null,
      "min_height": null,
      "min_width": null,
      "object_fit": null,
      "object_position": null,
      "order": null,
      "overflow": null,
      "overflow_x": null,
      "overflow_y": null,
      "padding": null,
      "right": null,
      "top": null,
      "visibility": null,
      "width": null
     }
    },
    "600bcc6da6d7457f84577beb373b84cf": {
     "model_module": "@jupyter-widgets/controls",
     "model_name": "FloatProgressModel",
     "state": {
      "_dom_classes": [],
      "_model_module": "@jupyter-widgets/controls",
      "_model_module_version": "1.5.0",
      "_model_name": "FloatProgressModel",
      "_view_count": null,
      "_view_module": "@jupyter-widgets/controls",
      "_view_module_version": "1.5.0",
      "_view_name": "ProgressView",
      "bar_style": "success",
      "description": "Downloading: 100%",
      "description_tooltip": null,
      "layout": "IPY_MODEL_237dd1dba51d4a2ead7d05fa720827a1",
      "max": 466062,
      "min": 0,
      "orientation": "horizontal",
      "style": "IPY_MODEL_118531237cf64f3c89a43c82cf06cf02",
      "value": 466062
     }
    },
    "610653b2025742f7a162e2d64b942d74": {
     "model_module": "@jupyter-widgets/controls",
     "model_name": "HTMLModel",
     "state": {
      "_dom_classes": [],
      "_model_module": "@jupyter-widgets/controls",
      "_model_module_version": "1.5.0",
      "_model_name": "HTMLModel",
      "_view_count": null,
      "_view_module": "@jupyter-widgets/controls",
      "_view_module_version": "1.5.0",
      "_view_name": "HTMLView",
      "description": "",
      "description_tooltip": null,
      "layout": "IPY_MODEL_3fc7cb0eec3e427cbc247fe9c864d824",
      "placeholder": "​",
      "style": "IPY_MODEL_fb37a195dd2f4b1fbd11c2551cea6a87",
      "value": " 28.0/28.0 [00:08&lt;00:00, 3.37B/s]"
     }
    },
    "698670253dc2463f8ad5d424b88d10d4": {
     "model_module": "@jupyter-widgets/base",
     "model_name": "LayoutModel",
     "state": {
      "_model_module": "@jupyter-widgets/base",
      "_model_module_version": "1.2.0",
      "_model_name": "LayoutModel",
      "_view_count": null,
      "_view_module": "@jupyter-widgets/base",
      "_view_module_version": "1.2.0",
      "_view_name": "LayoutView",
      "align_content": null,
      "align_items": null,
      "align_self": null,
      "border": null,
      "bottom": null,
      "display": null,
      "flex": null,
      "flex_flow": null,
      "grid_area": null,
      "grid_auto_columns": null,
      "grid_auto_flow": null,
      "grid_auto_rows": null,
      "grid_column": null,
      "grid_gap": null,
      "grid_row": null,
      "grid_template_areas": null,
      "grid_template_columns": null,
      "grid_template_rows": null,
      "height": null,
      "justify_content": null,
      "justify_items": null,
      "left": null,
      "margin": null,
      "max_height": null,
      "max_width": null,
      "min_height": null,
      "min_width": null,
      "object_fit": null,
      "object_position": null,
      "order": null,
      "overflow": null,
      "overflow_x": null,
      "overflow_y": null,
      "padding": null,
      "right": null,
      "top": null,
      "visibility": null,
      "width": null
     }
    },
    "69b9db875da64620a36499df9b4b35ea": {
     "model_module": "@jupyter-widgets/controls",
     "model_name": "HBoxModel",
     "state": {
      "_dom_classes": [],
      "_model_module": "@jupyter-widgets/controls",
      "_model_module_version": "1.5.0",
      "_model_name": "HBoxModel",
      "_view_count": null,
      "_view_module": "@jupyter-widgets/controls",
      "_view_module_version": "1.5.0",
      "_view_name": "HBoxView",
      "box_style": "",
      "children": [
       "IPY_MODEL_8c42b5f27f2e4076bddf9a959cee3d6b",
       "IPY_MODEL_be63864b9ea44e73a4a6026d7312ebb3"
      ],
      "layout": "IPY_MODEL_4394b31a5b4f4c18b707aac3d750e44b"
     }
    },
    "6b9e6068d2464d839ade80131d1bc06f": {
     "model_module": "@jupyter-widgets/base",
     "model_name": "LayoutModel",
     "state": {
      "_model_module": "@jupyter-widgets/base",
      "_model_module_version": "1.2.0",
      "_model_name": "LayoutModel",
      "_view_count": null,
      "_view_module": "@jupyter-widgets/base",
      "_view_module_version": "1.2.0",
      "_view_name": "LayoutView",
      "align_content": null,
      "align_items": null,
      "align_self": null,
      "border": null,
      "bottom": null,
      "display": null,
      "flex": null,
      "flex_flow": null,
      "grid_area": null,
      "grid_auto_columns": null,
      "grid_auto_flow": null,
      "grid_auto_rows": null,
      "grid_column": null,
      "grid_gap": null,
      "grid_row": null,
      "grid_template_areas": null,
      "grid_template_columns": null,
      "grid_template_rows": null,
      "height": null,
      "justify_content": null,
      "justify_items": null,
      "left": null,
      "margin": null,
      "max_height": null,
      "max_width": null,
      "min_height": null,
      "min_width": null,
      "object_fit": null,
      "object_position": null,
      "order": null,
      "overflow": null,
      "overflow_x": null,
      "overflow_y": null,
      "padding": null,
      "right": null,
      "top": null,
      "visibility": null,
      "width": null
     }
    },
    "717ec1f46089450e8c0c1a67c192452b": {
     "model_module": "@jupyter-widgets/controls",
     "model_name": "HTMLModel",
     "state": {
      "_dom_classes": [],
      "_model_module": "@jupyter-widgets/controls",
      "_model_module_version": "1.5.0",
      "_model_name": "HTMLModel",
      "_view_count": null,
      "_view_module": "@jupyter-widgets/controls",
      "_view_module_version": "1.5.0",
      "_view_name": "HTMLView",
      "description": "",
      "description_tooltip": null,
      "layout": "IPY_MODEL_4eb8eae7d62247e0b661964928d7aa0f",
      "placeholder": "​",
      "style": "IPY_MODEL_123a98255d8645778c8b4f05915a10fe",
      "value": " 466k/466k [00:09&lt;00:00, 49.2kB/s]"
     }
    },
    "71c3d87f7cdb404e8cd5926668c3dc3f": {
     "model_module": "@jupyter-widgets/controls",
     "model_name": "HBoxModel",
     "state": {
      "_dom_classes": [],
      "_model_module": "@jupyter-widgets/controls",
      "_model_module_version": "1.5.0",
      "_model_name": "HBoxModel",
      "_view_count": null,
      "_view_module": "@jupyter-widgets/controls",
      "_view_module_version": "1.5.0",
      "_view_name": "HBoxView",
      "box_style": "",
      "children": [
       "IPY_MODEL_bfaba287e2de4ff38a9ab4ffe71b0314",
       "IPY_MODEL_717ec1f46089450e8c0c1a67c192452b"
      ],
      "layout": "IPY_MODEL_7dc0ca812ed9479eb7cad5fa5a13f5f8"
     }
    },
    "728ad00a529d4c6f86e9bc4bea94c3e0": {
     "model_module": "@jupyter-widgets/controls",
     "model_name": "HBoxModel",
     "state": {
      "_dom_classes": [],
      "_model_module": "@jupyter-widgets/controls",
      "_model_module_version": "1.5.0",
      "_model_name": "HBoxModel",
      "_view_count": null,
      "_view_module": "@jupyter-widgets/controls",
      "_view_module_version": "1.5.0",
      "_view_name": "HBoxView",
      "box_style": "",
      "children": [
       "IPY_MODEL_26fdd255ce74443788e2d0008197b98b",
       "IPY_MODEL_55832bc42bdd4bceb6c32b6fe17a7a1a"
      ],
      "layout": "IPY_MODEL_59a88e38e595446e91b6b40ef2d5d1b6"
     }
    },
    "7a2e44248c6c46a49cbcd3ea83c3a68f": {
     "model_module": "@jupyter-widgets/controls",
     "model_name": "FloatProgressModel",
     "state": {
      "_dom_classes": [],
      "_model_module": "@jupyter-widgets/controls",
      "_model_module_version": "1.5.0",
      "_model_name": "FloatProgressModel",
      "_view_count": null,
      "_view_module": "@jupyter-widgets/controls",
      "_view_module_version": "1.5.0",
      "_view_name": "ProgressView",
      "bar_style": "success",
      "description": "Downloading: 100%",
      "description_tooltip": null,
      "layout": "IPY_MODEL_b5dd92e5f4c54cb79c57249539228cf9",
      "max": 363423424,
      "min": 0,
      "orientation": "horizontal",
      "style": "IPY_MODEL_c5c5bd90df534b758e9312004d2b45f4",
      "value": 363423424
     }
    },
    "7dc0ca812ed9479eb7cad5fa5a13f5f8": {
     "model_module": "@jupyter-widgets/base",
     "model_name": "LayoutModel",
     "state": {
      "_model_module": "@jupyter-widgets/base",
      "_model_module_version": "1.2.0",
      "_model_name": "LayoutModel",
      "_view_count": null,
      "_view_module": "@jupyter-widgets/base",
      "_view_module_version": "1.2.0",
      "_view_name": "LayoutView",
      "align_content": null,
      "align_items": null,
      "align_self": null,
      "border": null,
      "bottom": null,
      "display": null,
      "flex": null,
      "flex_flow": null,
      "grid_area": null,
      "grid_auto_columns": null,
      "grid_auto_flow": null,
      "grid_auto_rows": null,
      "grid_column": null,
      "grid_gap": null,
      "grid_row": null,
      "grid_template_areas": null,
      "grid_template_columns": null,
      "grid_template_rows": null,
      "height": null,
      "justify_content": null,
      "justify_items": null,
      "left": null,
      "margin": null,
      "max_height": null,
      "max_width": null,
      "min_height": null,
      "min_width": null,
      "object_fit": null,
      "object_position": null,
      "order": null,
      "overflow": null,
      "overflow_x": null,
      "overflow_y": null,
      "padding": null,
      "right": null,
      "top": null,
      "visibility": null,
      "width": null
     }
    },
    "7eb6c6c9492646c99eea781612b18009": {
     "model_module": "@jupyter-widgets/base",
     "model_name": "LayoutModel",
     "state": {
      "_model_module": "@jupyter-widgets/base",
      "_model_module_version": "1.2.0",
      "_model_name": "LayoutModel",
      "_view_count": null,
      "_view_module": "@jupyter-widgets/base",
      "_view_module_version": "1.2.0",
      "_view_name": "LayoutView",
      "align_content": null,
      "align_items": null,
      "align_self": null,
      "border": null,
      "bottom": null,
      "display": null,
      "flex": null,
      "flex_flow": null,
      "grid_area": null,
      "grid_auto_columns": null,
      "grid_auto_flow": null,
      "grid_auto_rows": null,
      "grid_column": null,
      "grid_gap": null,
      "grid_row": null,
      "grid_template_areas": null,
      "grid_template_columns": null,
      "grid_template_rows": null,
      "height": null,
      "justify_content": null,
      "justify_items": null,
      "left": null,
      "margin": null,
      "max_height": null,
      "max_width": null,
      "min_height": null,
      "min_width": null,
      "object_fit": null,
      "object_position": null,
      "order": null,
      "overflow": null,
      "overflow_x": null,
      "overflow_y": null,
      "padding": null,
      "right": null,
      "top": null,
      "visibility": null,
      "width": null
     }
    },
    "85e589112f00416e974ac0b7dcdb1777": {
     "model_module": "@jupyter-widgets/controls",
     "model_name": "DescriptionStyleModel",
     "state": {
      "_model_module": "@jupyter-widgets/controls",
      "_model_module_version": "1.5.0",
      "_model_name": "DescriptionStyleModel",
      "_view_count": null,
      "_view_module": "@jupyter-widgets/base",
      "_view_module_version": "1.2.0",
      "_view_name": "StyleView",
      "description_width": ""
     }
    },
    "89fce54c70be41b890ddaf9647bac290": {
     "model_module": "@jupyter-widgets/controls",
     "model_name": "ProgressStyleModel",
     "state": {
      "_model_module": "@jupyter-widgets/controls",
      "_model_module_version": "1.5.0",
      "_model_name": "ProgressStyleModel",
      "_view_count": null,
      "_view_module": "@jupyter-widgets/base",
      "_view_module_version": "1.2.0",
      "_view_name": "StyleView",
      "bar_color": null,
      "description_width": "initial"
     }
    },
    "8c42b5f27f2e4076bddf9a959cee3d6b": {
     "model_module": "@jupyter-widgets/controls",
     "model_name": "FloatProgressModel",
     "state": {
      "_dom_classes": [],
      "_model_module": "@jupyter-widgets/controls",
      "_model_module_version": "1.5.0",
      "_model_name": "FloatProgressModel",
      "_view_count": null,
      "_view_module": "@jupyter-widgets/controls",
      "_view_module_version": "1.5.0",
      "_view_name": "ProgressView",
      "bar_style": "success",
      "description": "Downloading: 100%",
      "description_tooltip": null,
      "layout": "IPY_MODEL_cde82be8ddf549f98918091b1a42b409",
      "max": 231508,
      "min": 0,
      "orientation": "horizontal",
      "style": "IPY_MODEL_3dcd6132af1c4da588bc24e700c5339c",
      "value": 231508
     }
    },
    "8c4b80db5a6248adb1e4fc55c8153ee4": {
     "model_module": "@jupyter-widgets/controls",
     "model_name": "HTMLModel",
     "state": {
      "_dom_classes": [],
      "_model_module": "@jupyter-widgets/controls",
      "_model_module_version": "1.5.0",
      "_model_name": "HTMLModel",
      "_view_count": null,
      "_view_module": "@jupyter-widgets/controls",
      "_view_module_version": "1.5.0",
      "_view_name": "HTMLView",
      "description": "",
      "description_tooltip": null,
      "layout": "IPY_MODEL_c07f59b4944f464e84d16dcefe9f203e",
      "placeholder": "​",
      "style": "IPY_MODEL_503af21f8dcb43bfb643b88d478f10c5",
      "value": " 268M/268M [00:05&lt;00:00, 47.3MB/s]"
     }
    },
    "917e3b434e084fb9acd00dd4e8038a72": {
     "model_module": "@jupyter-widgets/controls",
     "model_name": "HBoxModel",
     "state": {
      "_dom_classes": [],
      "_model_module": "@jupyter-widgets/controls",
      "_model_module_version": "1.5.0",
      "_model_name": "HBoxModel",
      "_view_count": null,
      "_view_module": "@jupyter-widgets/controls",
      "_view_module_version": "1.5.0",
      "_view_name": "HBoxView",
      "box_style": "",
      "children": [
       "IPY_MODEL_bb4c539ac55b4a238477990e71cf9dd0",
       "IPY_MODEL_8c4b80db5a6248adb1e4fc55c8153ee4"
      ],
      "layout": "IPY_MODEL_2e4b1a3aefd749d98ba390c06bd190a9"
     }
    },
    "91f208215681460190947433c4c1110c": {
     "model_module": "@jupyter-widgets/controls",
     "model_name": "FloatProgressModel",
     "state": {
      "_dom_classes": [],
      "_model_module": "@jupyter-widgets/controls",
      "_model_module_version": "1.5.0",
      "_model_name": "FloatProgressModel",
      "_view_count": null,
      "_view_module": "@jupyter-widgets/controls",
      "_view_module_version": "1.5.0",
      "_view_name": "ProgressView",
      "bar_style": "success",
      "description": "Downloading: 100%",
      "description_tooltip": null,
      "layout": "IPY_MODEL_c7543edad4314bd8830d1de25f7aa559",
      "max": 536063208,
      "min": 0,
      "orientation": "horizontal",
      "style": "IPY_MODEL_364ebd047e164877b67dcf43a7763669",
      "value": 536063208
     }
    },
    "94abd72873f5461f95dadd3005a345a9": {
     "model_module": "@jupyter-widgets/controls",
     "model_name": "HTMLModel",
     "state": {
      "_dom_classes": [],
      "_model_module": "@jupyter-widgets/controls",
      "_model_module_version": "1.5.0",
      "_model_name": "HTMLModel",
      "_view_count": null,
      "_view_module": "@jupyter-widgets/controls",
      "_view_module_version": "1.5.0",
      "_view_name": "HTMLView",
      "description": "",
      "description_tooltip": null,
      "layout": "IPY_MODEL_aadb88dac4ca44649ecbfa6a9e27967b",
      "placeholder": "​",
      "style": "IPY_MODEL_ac05948c455c46b8bf286fc24cf43a66",
      "value": " 466k/466k [00:00&lt;00:00, 1.36MB/s]"
     }
    },
    "94ef89cf1c824aeb830ff592a0234285": {
     "model_module": "@jupyter-widgets/controls",
     "model_name": "HBoxModel",
     "state": {
      "_dom_classes": [],
      "_model_module": "@jupyter-widgets/controls",
      "_model_module_version": "1.5.0",
      "_model_name": "HBoxModel",
      "_view_count": null,
      "_view_module": "@jupyter-widgets/controls",
      "_view_module_version": "1.5.0",
      "_view_name": "HBoxView",
      "box_style": "",
      "children": [
       "IPY_MODEL_f5d2959068a34d5b9a4e76d0899a9ba8",
       "IPY_MODEL_610653b2025742f7a162e2d64b942d74"
      ],
      "layout": "IPY_MODEL_2096eb6dc195494bac718baea7194c09"
     }
    },
    "a394ad801a114fe98d5e7d2ff4049cee": {
     "model_module": "@jupyter-widgets/controls",
     "model_name": "FloatProgressModel",
     "state": {
      "_dom_classes": [],
      "_model_module": "@jupyter-widgets/controls",
      "_model_module_version": "1.5.0",
      "_model_name": "FloatProgressModel",
      "_view_count": null,
      "_view_module": "@jupyter-widgets/controls",
      "_view_module_version": "1.5.0",
      "_view_name": "ProgressView",
      "bar_style": "success",
      "description": "Downloading: 100%",
      "description_tooltip": null,
      "layout": "IPY_MODEL_3f6bfb96a43847e8aa5252e0dbf2b6dd",
      "max": 28,
      "min": 0,
      "orientation": "horizontal",
      "style": "IPY_MODEL_2e9e734e45e04ef085cd8b7f36b93b4f",
      "value": 28
     }
    },
    "a6e6b1bd71f244c4ae4f407458ac4840": {
     "model_module": "@jupyter-widgets/controls",
     "model_name": "HBoxModel",
     "state": {
      "_dom_classes": [],
      "_model_module": "@jupyter-widgets/controls",
      "_model_module_version": "1.5.0",
      "_model_name": "HBoxModel",
      "_view_count": null,
      "_view_module": "@jupyter-widgets/controls",
      "_view_module_version": "1.5.0",
      "_view_name": "HBoxView",
      "box_style": "",
      "children": [
       "IPY_MODEL_7a2e44248c6c46a49cbcd3ea83c3a68f",
       "IPY_MODEL_afda496eeff44f4eaeeb4e8376f83729"
      ],
      "layout": "IPY_MODEL_cbe8d32f8271431baafd13077d82611c"
     }
    },
    "aa5648d3b6e14c399591d4bcbb3eb5f9": {
     "model_module": "@jupyter-widgets/base",
     "model_name": "LayoutModel",
     "state": {
      "_model_module": "@jupyter-widgets/base",
      "_model_module_version": "1.2.0",
      "_model_name": "LayoutModel",
      "_view_count": null,
      "_view_module": "@jupyter-widgets/base",
      "_view_module_version": "1.2.0",
      "_view_name": "LayoutView",
      "align_content": null,
      "align_items": null,
      "align_self": null,
      "border": null,
      "bottom": null,
      "display": null,
      "flex": null,
      "flex_flow": null,
      "grid_area": null,
      "grid_auto_columns": null,
      "grid_auto_flow": null,
      "grid_auto_rows": null,
      "grid_column": null,
      "grid_gap": null,
      "grid_row": null,
      "grid_template_areas": null,
      "grid_template_columns": null,
      "grid_template_rows": null,
      "height": null,
      "justify_content": null,
      "justify_items": null,
      "left": null,
      "margin": null,
      "max_height": null,
      "max_width": null,
      "min_height": null,
      "min_width": null,
      "object_fit": null,
      "object_position": null,
      "order": null,
      "overflow": null,
      "overflow_x": null,
      "overflow_y": null,
      "padding": null,
      "right": null,
      "top": null,
      "visibility": null,
      "width": null
     }
    },
    "aadb88dac4ca44649ecbfa6a9e27967b": {
     "model_module": "@jupyter-widgets/base",
     "model_name": "LayoutModel",
     "state": {
      "_model_module": "@jupyter-widgets/base",
      "_model_module_version": "1.2.0",
      "_model_name": "LayoutModel",
      "_view_count": null,
      "_view_module": "@jupyter-widgets/base",
      "_view_module_version": "1.2.0",
      "_view_name": "LayoutView",
      "align_content": null,
      "align_items": null,
      "align_self": null,
      "border": null,
      "bottom": null,
      "display": null,
      "flex": null,
      "flex_flow": null,
      "grid_area": null,
      "grid_auto_columns": null,
      "grid_auto_flow": null,
      "grid_auto_rows": null,
      "grid_column": null,
      "grid_gap": null,
      "grid_row": null,
      "grid_template_areas": null,
      "grid_template_columns": null,
      "grid_template_rows": null,
      "height": null,
      "justify_content": null,
      "justify_items": null,
      "left": null,
      "margin": null,
      "max_height": null,
      "max_width": null,
      "min_height": null,
      "min_width": null,
      "object_fit": null,
      "object_position": null,
      "order": null,
      "overflow": null,
      "overflow_x": null,
      "overflow_y": null,
      "padding": null,
      "right": null,
      "top": null,
      "visibility": null,
      "width": null
     }
    },
    "aae2a868526940d494db5b874155e4eb": {
     "model_module": "@jupyter-widgets/controls",
     "model_name": "ProgressStyleModel",
     "state": {
      "_model_module": "@jupyter-widgets/controls",
      "_model_module_version": "1.5.0",
      "_model_name": "ProgressStyleModel",
      "_view_count": null,
      "_view_module": "@jupyter-widgets/base",
      "_view_module_version": "1.2.0",
      "_view_name": "StyleView",
      "bar_color": null,
      "description_width": "initial"
     }
    },
    "ac05948c455c46b8bf286fc24cf43a66": {
     "model_module": "@jupyter-widgets/controls",
     "model_name": "DescriptionStyleModel",
     "state": {
      "_model_module": "@jupyter-widgets/controls",
      "_model_module_version": "1.5.0",
      "_model_name": "DescriptionStyleModel",
      "_view_count": null,
      "_view_module": "@jupyter-widgets/base",
      "_view_module_version": "1.2.0",
      "_view_name": "StyleView",
      "description_width": ""
     }
    },
    "ac24d293743c4736abd16f6cd560e12b": {
     "model_module": "@jupyter-widgets/controls",
     "model_name": "HBoxModel",
     "state": {
      "_dom_classes": [],
      "_model_module": "@jupyter-widgets/controls",
      "_model_module_version": "1.5.0",
      "_model_name": "HBoxModel",
      "_view_count": null,
      "_view_module": "@jupyter-widgets/controls",
      "_view_module_version": "1.5.0",
      "_view_name": "HBoxView",
      "box_style": "",
      "children": [
       "IPY_MODEL_600bcc6da6d7457f84577beb373b84cf",
       "IPY_MODEL_94abd72873f5461f95dadd3005a345a9"
      ],
      "layout": "IPY_MODEL_f714a02f90af4a5aa33761762ec6af43"
     }
    },
    "af50e68414074918bd8a01146c135a5c": {
     "model_module": "@jupyter-widgets/base",
     "model_name": "LayoutModel",
     "state": {
      "_model_module": "@jupyter-widgets/base",
      "_model_module_version": "1.2.0",
      "_model_name": "LayoutModel",
      "_view_count": null,
      "_view_module": "@jupyter-widgets/base",
      "_view_module_version": "1.2.0",
      "_view_name": "LayoutView",
      "align_content": null,
      "align_items": null,
      "align_self": null,
      "border": null,
      "bottom": null,
      "display": null,
      "flex": null,
      "flex_flow": null,
      "grid_area": null,
      "grid_auto_columns": null,
      "grid_auto_flow": null,
      "grid_auto_rows": null,
      "grid_column": null,
      "grid_gap": null,
      "grid_row": null,
      "grid_template_areas": null,
      "grid_template_columns": null,
      "grid_template_rows": null,
      "height": null,
      "justify_content": null,
      "justify_items": null,
      "left": null,
      "margin": null,
      "max_height": null,
      "max_width": null,
      "min_height": null,
      "min_width": null,
      "object_fit": null,
      "object_position": null,
      "order": null,
      "overflow": null,
      "overflow_x": null,
      "overflow_y": null,
      "padding": null,
      "right": null,
      "top": null,
      "visibility": null,
      "width": null
     }
    },
    "afda496eeff44f4eaeeb4e8376f83729": {
     "model_module": "@jupyter-widgets/controls",
     "model_name": "HTMLModel",
     "state": {
      "_dom_classes": [],
      "_model_module": "@jupyter-widgets/controls",
      "_model_module_version": "1.5.0",
      "_model_name": "HTMLModel",
      "_view_count": null,
      "_view_module": "@jupyter-widgets/controls",
      "_view_module_version": "1.5.0",
      "_view_name": "HTMLView",
      "description": "",
      "description_tooltip": null,
      "layout": "IPY_MODEL_aa5648d3b6e14c399591d4bcbb3eb5f9",
      "placeholder": "​",
      "style": "IPY_MODEL_2bc3a80c187e48de872e58f51ee28524",
      "value": " 363M/363M [00:07&lt;00:00, 48.1MB/s]"
     }
    },
    "b00852c402b3492e94ba0b2108d69ce5": {
     "model_module": "@jupyter-widgets/base",
     "model_name": "LayoutModel",
     "state": {
      "_model_module": "@jupyter-widgets/base",
      "_model_module_version": "1.2.0",
      "_model_name": "LayoutModel",
      "_view_count": null,
      "_view_module": "@jupyter-widgets/base",
      "_view_module_version": "1.2.0",
      "_view_name": "LayoutView",
      "align_content": null,
      "align_items": null,
      "align_self": null,
      "border": null,
      "bottom": null,
      "display": null,
      "flex": null,
      "flex_flow": null,
      "grid_area": null,
      "grid_auto_columns": null,
      "grid_auto_flow": null,
      "grid_auto_rows": null,
      "grid_column": null,
      "grid_gap": null,
      "grid_row": null,
      "grid_template_areas": null,
      "grid_template_columns": null,
      "grid_template_rows": null,
      "height": null,
      "justify_content": null,
      "justify_items": null,
      "left": null,
      "margin": null,
      "max_height": null,
      "max_width": null,
      "min_height": null,
      "min_width": null,
      "object_fit": null,
      "object_position": null,
      "order": null,
      "overflow": null,
      "overflow_x": null,
      "overflow_y": null,
      "padding": null,
      "right": null,
      "top": null,
      "visibility": null,
      "width": null
     }
    },
    "b0b1fa3b1a45470fae1d2f13d27293db": {
     "model_module": "@jupyter-widgets/controls",
     "model_name": "HTMLModel",
     "state": {
      "_dom_classes": [],
      "_model_module": "@jupyter-widgets/controls",
      "_model_module_version": "1.5.0",
      "_model_name": "HTMLModel",
      "_view_count": null,
      "_view_module": "@jupyter-widgets/controls",
      "_view_module_version": "1.5.0",
      "_view_name": "HTMLView",
      "description": "",
      "description_tooltip": null,
      "layout": "IPY_MODEL_af50e68414074918bd8a01146c135a5c",
      "placeholder": "​",
      "style": "IPY_MODEL_1fdcded56e3f442fbe7acf39edbb906c",
      "value": " 442/442 [00:01&lt;00:00, 371B/s]"
     }
    },
    "b46a4e53cdc84464849d7eaaabdcec67": {
     "model_module": "@jupyter-widgets/controls",
     "model_name": "HTMLModel",
     "state": {
      "_dom_classes": [],
      "_model_module": "@jupyter-widgets/controls",
      "_model_module_version": "1.5.0",
      "_model_name": "HTMLModel",
      "_view_count": null,
      "_view_module": "@jupyter-widgets/controls",
      "_view_module_version": "1.5.0",
      "_view_name": "HTMLView",
      "description": "",
      "description_tooltip": null,
      "layout": "IPY_MODEL_cf6e019b29fb4cd0b1e59fa25e93be11",
      "placeholder": "​",
      "style": "IPY_MODEL_f8aa870c05bf4630a2619e1e3e009a07",
      "value": " 570/570 [00:11&lt;00:00, 50.1B/s]"
     }
    },
    "b5dd92e5f4c54cb79c57249539228cf9": {
     "model_module": "@jupyter-widgets/base",
     "model_name": "LayoutModel",
     "state": {
      "_model_module": "@jupyter-widgets/base",
      "_model_module_version": "1.2.0",
      "_model_name": "LayoutModel",
      "_view_count": null,
      "_view_module": "@jupyter-widgets/base",
      "_view_module_version": "1.2.0",
      "_view_name": "LayoutView",
      "align_content": null,
      "align_items": null,
      "align_self": null,
      "border": null,
      "bottom": null,
      "display": null,
      "flex": null,
      "flex_flow": null,
      "grid_area": null,
      "grid_auto_columns": null,
      "grid_auto_flow": null,
      "grid_auto_rows": null,
      "grid_column": null,
      "grid_gap": null,
      "grid_row": null,
      "grid_template_areas": null,
      "grid_template_columns": null,
      "grid_template_rows": null,
      "height": null,
      "justify_content": null,
      "justify_items": null,
      "left": null,
      "margin": null,
      "max_height": null,
      "max_width": null,
      "min_height": null,
      "min_width": null,
      "object_fit": null,
      "object_position": null,
      "order": null,
      "overflow": null,
      "overflow_x": null,
      "overflow_y": null,
      "padding": null,
      "right": null,
      "top": null,
      "visibility": null,
      "width": null
     }
    },
    "bb4c539ac55b4a238477990e71cf9dd0": {
     "model_module": "@jupyter-widgets/controls",
     "model_name": "FloatProgressModel",
     "state": {
      "_dom_classes": [],
      "_model_module": "@jupyter-widgets/controls",
      "_model_module_version": "1.5.0",
      "_model_name": "FloatProgressModel",
      "_view_count": null,
      "_view_module": "@jupyter-widgets/controls",
      "_view_module_version": "1.5.0",
      "_view_name": "ProgressView",
      "bar_style": "success",
      "description": "Downloading: 100%",
      "description_tooltip": null,
      "layout": "IPY_MODEL_ef20085d9b1d4e16a4ff0bd13c5e55fd",
      "max": 267967963,
      "min": 0,
      "orientation": "horizontal",
      "style": "IPY_MODEL_aae2a868526940d494db5b874155e4eb",
      "value": 267967963
     }
    },
    "be63864b9ea44e73a4a6026d7312ebb3": {
     "model_module": "@jupyter-widgets/controls",
     "model_name": "HTMLModel",
     "state": {
      "_dom_classes": [],
      "_model_module": "@jupyter-widgets/controls",
      "_model_module_version": "1.5.0",
      "_model_name": "HTMLModel",
      "_view_count": null,
      "_view_module": "@jupyter-widgets/controls",
      "_view_module_version": "1.5.0",
      "_view_name": "HTMLView",
      "description": "",
      "description_tooltip": null,
      "layout": "IPY_MODEL_c635a947b4da439286b4c4ffda437737",
      "placeholder": "​",
      "style": "IPY_MODEL_e79aba874e95473bae74ea65542e2a3a",
      "value": " 232k/232k [00:01&lt;00:00, 122kB/s]"
     }
    },
    "bfaba287e2de4ff38a9ab4ffe71b0314": {
     "model_module": "@jupyter-widgets/controls",
     "model_name": "FloatProgressModel",
     "state": {
      "_dom_classes": [],
      "_model_module": "@jupyter-widgets/controls",
      "_model_module_version": "1.5.0",
      "_model_name": "FloatProgressModel",
      "_view_count": null,
      "_view_module": "@jupyter-widgets/controls",
      "_view_module_version": "1.5.0",
      "_view_name": "ProgressView",
      "bar_style": "success",
      "description": "Downloading: 100%",
      "description_tooltip": null,
      "layout": "IPY_MODEL_e314556e820549f2b5fba58898085b13",
      "max": 466062,
      "min": 0,
      "orientation": "horizontal",
      "style": "IPY_MODEL_50cda512626947b4ac15e96076e59641",
      "value": 466062
     }
    },
    "c07f59b4944f464e84d16dcefe9f203e": {
     "model_module": "@jupyter-widgets/base",
     "model_name": "LayoutModel",
     "state": {
      "_model_module": "@jupyter-widgets/base",
      "_model_module_version": "1.2.0",
      "_model_name": "LayoutModel",
      "_view_count": null,
      "_view_module": "@jupyter-widgets/base",
      "_view_module_version": "1.2.0",
      "_view_name": "LayoutView",
      "align_content": null,
      "align_items": null,
      "align_self": null,
      "border": null,
      "bottom": null,
      "display": null,
      "flex": null,
      "flex_flow": null,
      "grid_area": null,
      "grid_auto_columns": null,
      "grid_auto_flow": null,
      "grid_auto_rows": null,
      "grid_column": null,
      "grid_gap": null,
      "grid_row": null,
      "grid_template_areas": null,
      "grid_template_columns": null,
      "grid_template_rows": null,
      "height": null,
      "justify_content": null,
      "justify_items": null,
      "left": null,
      "margin": null,
      "max_height": null,
      "max_width": null,
      "min_height": null,
      "min_width": null,
      "object_fit": null,
      "object_position": null,
      "order": null,
      "overflow": null,
      "overflow_x": null,
      "overflow_y": null,
      "padding": null,
      "right": null,
      "top": null,
      "visibility": null,
      "width": null
     }
    },
    "c3fc0a83090a44c1b309922c7f00cfb1": {
     "model_module": "@jupyter-widgets/controls",
     "model_name": "ProgressStyleModel",
     "state": {
      "_model_module": "@jupyter-widgets/controls",
      "_model_module_version": "1.5.0",
      "_model_name": "ProgressStyleModel",
      "_view_count": null,
      "_view_module": "@jupyter-widgets/base",
      "_view_module_version": "1.2.0",
      "_view_name": "StyleView",
      "bar_color": null,
      "description_width": "initial"
     }
    },
    "c53e91338c934613935e15fe27d30724": {
     "model_module": "@jupyter-widgets/controls",
     "model_name": "HBoxModel",
     "state": {
      "_dom_classes": [],
      "_model_module": "@jupyter-widgets/controls",
      "_model_module_version": "1.5.0",
      "_model_name": "HBoxModel",
      "_view_count": null,
      "_view_module": "@jupyter-widgets/controls",
      "_view_module_version": "1.5.0",
      "_view_name": "HBoxView",
      "box_style": "",
      "children": [
       "IPY_MODEL_d8c3b19728a147d487380f7700a81290",
       "IPY_MODEL_b0b1fa3b1a45470fae1d2f13d27293db"
      ],
      "layout": "IPY_MODEL_3eb33311b2ac4f7a84fefc87edc7d2ab"
     }
    },
    "c5c5bd90df534b758e9312004d2b45f4": {
     "model_module": "@jupyter-widgets/controls",
     "model_name": "ProgressStyleModel",
     "state": {
      "_model_module": "@jupyter-widgets/controls",
      "_model_module_version": "1.5.0",
      "_model_name": "ProgressStyleModel",
      "_view_count": null,
      "_view_module": "@jupyter-widgets/base",
      "_view_module_version": "1.2.0",
      "_view_name": "StyleView",
      "bar_color": null,
      "description_width": "initial"
     }
    },
    "c635a947b4da439286b4c4ffda437737": {
     "model_module": "@jupyter-widgets/base",
     "model_name": "LayoutModel",
     "state": {
      "_model_module": "@jupyter-widgets/base",
      "_model_module_version": "1.2.0",
      "_model_name": "LayoutModel",
      "_view_count": null,
      "_view_module": "@jupyter-widgets/base",
      "_view_module_version": "1.2.0",
      "_view_name": "LayoutView",
      "align_content": null,
      "align_items": null,
      "align_self": null,
      "border": null,
      "bottom": null,
      "display": null,
      "flex": null,
      "flex_flow": null,
      "grid_area": null,
      "grid_auto_columns": null,
      "grid_auto_flow": null,
      "grid_auto_rows": null,
      "grid_column": null,
      "grid_gap": null,
      "grid_row": null,
      "grid_template_areas": null,
      "grid_template_columns": null,
      "grid_template_rows": null,
      "height": null,
      "justify_content": null,
      "justify_items": null,
      "left": null,
      "margin": null,
      "max_height": null,
      "max_width": null,
      "min_height": null,
      "min_width": null,
      "object_fit": null,
      "object_position": null,
      "order": null,
      "overflow": null,
      "overflow_x": null,
      "overflow_y": null,
      "padding": null,
      "right": null,
      "top": null,
      "visibility": null,
      "width": null
     }
    },
    "c7543edad4314bd8830d1de25f7aa559": {
     "model_module": "@jupyter-widgets/base",
     "model_name": "LayoutModel",
     "state": {
      "_model_module": "@jupyter-widgets/base",
      "_model_module_version": "1.2.0",
      "_model_name": "LayoutModel",
      "_view_count": null,
      "_view_module": "@jupyter-widgets/base",
      "_view_module_version": "1.2.0",
      "_view_name": "LayoutView",
      "align_content": null,
      "align_items": null,
      "align_self": null,
      "border": null,
      "bottom": null,
      "display": null,
      "flex": null,
      "flex_flow": null,
      "grid_area": null,
      "grid_auto_columns": null,
      "grid_auto_flow": null,
      "grid_auto_rows": null,
      "grid_column": null,
      "grid_gap": null,
      "grid_row": null,
      "grid_template_areas": null,
      "grid_template_columns": null,
      "grid_template_rows": null,
      "height": null,
      "justify_content": null,
      "justify_items": null,
      "left": null,
      "margin": null,
      "max_height": null,
      "max_width": null,
      "min_height": null,
      "min_width": null,
      "object_fit": null,
      "object_position": null,
      "order": null,
      "overflow": null,
      "overflow_x": null,
      "overflow_y": null,
      "padding": null,
      "right": null,
      "top": null,
      "visibility": null,
      "width": null
     }
    },
    "cbe8d32f8271431baafd13077d82611c": {
     "model_module": "@jupyter-widgets/base",
     "model_name": "LayoutModel",
     "state": {
      "_model_module": "@jupyter-widgets/base",
      "_model_module_version": "1.2.0",
      "_model_name": "LayoutModel",
      "_view_count": null,
      "_view_module": "@jupyter-widgets/base",
      "_view_module_version": "1.2.0",
      "_view_name": "LayoutView",
      "align_content": null,
      "align_items": null,
      "align_self": null,
      "border": null,
      "bottom": null,
      "display": null,
      "flex": null,
      "flex_flow": null,
      "grid_area": null,
      "grid_auto_columns": null,
      "grid_auto_flow": null,
      "grid_auto_rows": null,
      "grid_column": null,
      "grid_gap": null,
      "grid_row": null,
      "grid_template_areas": null,
      "grid_template_columns": null,
      "grid_template_rows": null,
      "height": null,
      "justify_content": null,
      "justify_items": null,
      "left": null,
      "margin": null,
      "max_height": null,
      "max_width": null,
      "min_height": null,
      "min_width": null,
      "object_fit": null,
      "object_position": null,
      "order": null,
      "overflow": null,
      "overflow_x": null,
      "overflow_y": null,
      "padding": null,
      "right": null,
      "top": null,
      "visibility": null,
      "width": null
     }
    },
    "cde82be8ddf549f98918091b1a42b409": {
     "model_module": "@jupyter-widgets/base",
     "model_name": "LayoutModel",
     "state": {
      "_model_module": "@jupyter-widgets/base",
      "_model_module_version": "1.2.0",
      "_model_name": "LayoutModel",
      "_view_count": null,
      "_view_module": "@jupyter-widgets/base",
      "_view_module_version": "1.2.0",
      "_view_name": "LayoutView",
      "align_content": null,
      "align_items": null,
      "align_self": null,
      "border": null,
      "bottom": null,
      "display": null,
      "flex": null,
      "flex_flow": null,
      "grid_area": null,
      "grid_auto_columns": null,
      "grid_auto_flow": null,
      "grid_auto_rows": null,
      "grid_column": null,
      "grid_gap": null,
      "grid_row": null,
      "grid_template_areas": null,
      "grid_template_columns": null,
      "grid_template_rows": null,
      "height": null,
      "justify_content": null,
      "justify_items": null,
      "left": null,
      "margin": null,
      "max_height": null,
      "max_width": null,
      "min_height": null,
      "min_width": null,
      "object_fit": null,
      "object_position": null,
      "order": null,
      "overflow": null,
      "overflow_x": null,
      "overflow_y": null,
      "padding": null,
      "right": null,
      "top": null,
      "visibility": null,
      "width": null
     }
    },
    "cf6e019b29fb4cd0b1e59fa25e93be11": {
     "model_module": "@jupyter-widgets/base",
     "model_name": "LayoutModel",
     "state": {
      "_model_module": "@jupyter-widgets/base",
      "_model_module_version": "1.2.0",
      "_model_name": "LayoutModel",
      "_view_count": null,
      "_view_module": "@jupyter-widgets/base",
      "_view_module_version": "1.2.0",
      "_view_name": "LayoutView",
      "align_content": null,
      "align_items": null,
      "align_self": null,
      "border": null,
      "bottom": null,
      "display": null,
      "flex": null,
      "flex_flow": null,
      "grid_area": null,
      "grid_auto_columns": null,
      "grid_auto_flow": null,
      "grid_auto_rows": null,
      "grid_column": null,
      "grid_gap": null,
      "grid_row": null,
      "grid_template_areas": null,
      "grid_template_columns": null,
      "grid_template_rows": null,
      "height": null,
      "justify_content": null,
      "justify_items": null,
      "left": null,
      "margin": null,
      "max_height": null,
      "max_width": null,
      "min_height": null,
      "min_width": null,
      "object_fit": null,
      "object_position": null,
      "order": null,
      "overflow": null,
      "overflow_x": null,
      "overflow_y": null,
      "padding": null,
      "right": null,
      "top": null,
      "visibility": null,
      "width": null
     }
    },
    "d85e0175866a4d479d96508099cec1fb": {
     "model_module": "@jupyter-widgets/controls",
     "model_name": "HBoxModel",
     "state": {
      "_dom_classes": [],
      "_model_module": "@jupyter-widgets/controls",
      "_model_module_version": "1.5.0",
      "_model_name": "HBoxModel",
      "_view_count": null,
      "_view_module": "@jupyter-widgets/controls",
      "_view_module_version": "1.5.0",
      "_view_name": "HBoxView",
      "box_style": "",
      "children": [
       "IPY_MODEL_a394ad801a114fe98d5e7d2ff4049cee",
       "IPY_MODEL_e5565fb2d3b44cbcb28b178d11ed957b"
      ],
      "layout": "IPY_MODEL_48f1da8b12534703bc8f677d5cf747ac"
     }
    },
    "d8c3b19728a147d487380f7700a81290": {
     "model_module": "@jupyter-widgets/controls",
     "model_name": "FloatProgressModel",
     "state": {
      "_dom_classes": [],
      "_model_module": "@jupyter-widgets/controls",
      "_model_module_version": "1.5.0",
      "_model_name": "FloatProgressModel",
      "_view_count": null,
      "_view_module": "@jupyter-widgets/controls",
      "_view_module_version": "1.5.0",
      "_view_name": "ProgressView",
      "bar_style": "success",
      "description": "Downloading: 100%",
      "description_tooltip": null,
      "layout": "IPY_MODEL_b00852c402b3492e94ba0b2108d69ce5",
      "max": 442,
      "min": 0,
      "orientation": "horizontal",
      "style": "IPY_MODEL_89fce54c70be41b890ddaf9647bac290",
      "value": 442
     }
    },
    "dd3e9ab8062b46e5b6dc2161b3848c77": {
     "model_module": "@jupyter-widgets/base",
     "model_name": "LayoutModel",
     "state": {
      "_model_module": "@jupyter-widgets/base",
      "_model_module_version": "1.2.0",
      "_model_name": "LayoutModel",
      "_view_count": null,
      "_view_module": "@jupyter-widgets/base",
      "_view_module_version": "1.2.0",
      "_view_name": "LayoutView",
      "align_content": null,
      "align_items": null,
      "align_self": null,
      "border": null,
      "bottom": null,
      "display": null,
      "flex": null,
      "flex_flow": null,
      "grid_area": null,
      "grid_auto_columns": null,
      "grid_auto_flow": null,
      "grid_auto_rows": null,
      "grid_column": null,
      "grid_gap": null,
      "grid_row": null,
      "grid_template_areas": null,
      "grid_template_columns": null,
      "grid_template_rows": null,
      "height": null,
      "justify_content": null,
      "justify_items": null,
      "left": null,
      "margin": null,
      "max_height": null,
      "max_width": null,
      "min_height": null,
      "min_width": null,
      "object_fit": null,
      "object_position": null,
      "order": null,
      "overflow": null,
      "overflow_x": null,
      "overflow_y": null,
      "padding": null,
      "right": null,
      "top": null,
      "visibility": null,
      "width": null
     }
    },
    "e314556e820549f2b5fba58898085b13": {
     "model_module": "@jupyter-widgets/base",
     "model_name": "LayoutModel",
     "state": {
      "_model_module": "@jupyter-widgets/base",
      "_model_module_version": "1.2.0",
      "_model_name": "LayoutModel",
      "_view_count": null,
      "_view_module": "@jupyter-widgets/base",
      "_view_module_version": "1.2.0",
      "_view_name": "LayoutView",
      "align_content": null,
      "align_items": null,
      "align_self": null,
      "border": null,
      "bottom": null,
      "display": null,
      "flex": null,
      "flex_flow": null,
      "grid_area": null,
      "grid_auto_columns": null,
      "grid_auto_flow": null,
      "grid_auto_rows": null,
      "grid_column": null,
      "grid_gap": null,
      "grid_row": null,
      "grid_template_areas": null,
      "grid_template_columns": null,
      "grid_template_rows": null,
      "height": null,
      "justify_content": null,
      "justify_items": null,
      "left": null,
      "margin": null,
      "max_height": null,
      "max_width": null,
      "min_height": null,
      "min_width": null,
      "object_fit": null,
      "object_position": null,
      "order": null,
      "overflow": null,
      "overflow_x": null,
      "overflow_y": null,
      "padding": null,
      "right": null,
      "top": null,
      "visibility": null,
      "width": null
     }
    },
    "e5565fb2d3b44cbcb28b178d11ed957b": {
     "model_module": "@jupyter-widgets/controls",
     "model_name": "HTMLModel",
     "state": {
      "_dom_classes": [],
      "_model_module": "@jupyter-widgets/controls",
      "_model_module_version": "1.5.0",
      "_model_name": "HTMLModel",
      "_view_count": null,
      "_view_module": "@jupyter-widgets/controls",
      "_view_module_version": "1.5.0",
      "_view_name": "HTMLView",
      "description": "",
      "description_tooltip": null,
      "layout": "IPY_MODEL_5d50efaccbfd4c75b09580d6b044fafd",
      "placeholder": "​",
      "style": "IPY_MODEL_538fa1a74e4f4239abcaa933ae457970",
      "value": " 28.0/28.0 [00:00&lt;00:00, 61.8B/s]"
     }
    },
    "e79aba874e95473bae74ea65542e2a3a": {
     "model_module": "@jupyter-widgets/controls",
     "model_name": "DescriptionStyleModel",
     "state": {
      "_model_module": "@jupyter-widgets/controls",
      "_model_module_version": "1.5.0",
      "_model_name": "DescriptionStyleModel",
      "_view_count": null,
      "_view_module": "@jupyter-widgets/base",
      "_view_module_version": "1.2.0",
      "_view_name": "StyleView",
      "description_width": ""
     }
    },
    "ef20085d9b1d4e16a4ff0bd13c5e55fd": {
     "model_module": "@jupyter-widgets/base",
     "model_name": "LayoutModel",
     "state": {
      "_model_module": "@jupyter-widgets/base",
      "_model_module_version": "1.2.0",
      "_model_name": "LayoutModel",
      "_view_count": null,
      "_view_module": "@jupyter-widgets/base",
      "_view_module_version": "1.2.0",
      "_view_name": "LayoutView",
      "align_content": null,
      "align_items": null,
      "align_self": null,
      "border": null,
      "bottom": null,
      "display": null,
      "flex": null,
      "flex_flow": null,
      "grid_area": null,
      "grid_auto_columns": null,
      "grid_auto_flow": null,
      "grid_auto_rows": null,
      "grid_column": null,
      "grid_gap": null,
      "grid_row": null,
      "grid_template_areas": null,
      "grid_template_columns": null,
      "grid_template_rows": null,
      "height": null,
      "justify_content": null,
      "justify_items": null,
      "left": null,
      "margin": null,
      "max_height": null,
      "max_width": null,
      "min_height": null,
      "min_width": null,
      "object_fit": null,
      "object_position": null,
      "order": null,
      "overflow": null,
      "overflow_x": null,
      "overflow_y": null,
      "padding": null,
      "right": null,
      "top": null,
      "visibility": null,
      "width": null
     }
    },
    "f1c7eec094a1442780124835ad89281a": {
     "model_module": "@jupyter-widgets/controls",
     "model_name": "FloatProgressModel",
     "state": {
      "_dom_classes": [],
      "_model_module": "@jupyter-widgets/controls",
      "_model_module_version": "1.5.0",
      "_model_name": "FloatProgressModel",
      "_view_count": null,
      "_view_module": "@jupyter-widgets/controls",
      "_view_module_version": "1.5.0",
      "_view_name": "ProgressView",
      "bar_style": "success",
      "description": "Downloading: 100%",
      "description_tooltip": null,
      "layout": "IPY_MODEL_59a7efe707e645a6b257fff4a3dfabb8",
      "max": 570,
      "min": 0,
      "orientation": "horizontal",
      "style": "IPY_MODEL_5b80d7e01ac842599651bfc5f54072cf",
      "value": 570
     }
    },
    "f5d2959068a34d5b9a4e76d0899a9ba8": {
     "model_module": "@jupyter-widgets/controls",
     "model_name": "FloatProgressModel",
     "state": {
      "_dom_classes": [],
      "_model_module": "@jupyter-widgets/controls",
      "_model_module_version": "1.5.0",
      "_model_name": "FloatProgressModel",
      "_view_count": null,
      "_view_module": "@jupyter-widgets/controls",
      "_view_module_version": "1.5.0",
      "_view_name": "ProgressView",
      "bar_style": "success",
      "description": "Downloading: 100%",
      "description_tooltip": null,
      "layout": "IPY_MODEL_2f4f5df1ca234f80b6cfd7a41dfa3628",
      "max": 28,
      "min": 0,
      "orientation": "horizontal",
      "style": "IPY_MODEL_c3fc0a83090a44c1b309922c7f00cfb1",
      "value": 28
     }
    },
    "f714a02f90af4a5aa33761762ec6af43": {
     "model_module": "@jupyter-widgets/base",
     "model_name": "LayoutModel",
     "state": {
      "_model_module": "@jupyter-widgets/base",
      "_model_module_version": "1.2.0",
      "_model_name": "LayoutModel",
      "_view_count": null,
      "_view_module": "@jupyter-widgets/base",
      "_view_module_version": "1.2.0",
      "_view_name": "LayoutView",
      "align_content": null,
      "align_items": null,
      "align_self": null,
      "border": null,
      "bottom": null,
      "display": null,
      "flex": null,
      "flex_flow": null,
      "grid_area": null,
      "grid_auto_columns": null,
      "grid_auto_flow": null,
      "grid_auto_rows": null,
      "grid_column": null,
      "grid_gap": null,
      "grid_row": null,
      "grid_template_areas": null,
      "grid_template_columns": null,
      "grid_template_rows": null,
      "height": null,
      "justify_content": null,
      "justify_items": null,
      "left": null,
      "margin": null,
      "max_height": null,
      "max_width": null,
      "min_height": null,
      "min_width": null,
      "object_fit": null,
      "object_position": null,
      "order": null,
      "overflow": null,
      "overflow_x": null,
      "overflow_y": null,
      "padding": null,
      "right": null,
      "top": null,
      "visibility": null,
      "width": null
     }
    },
    "f8aa870c05bf4630a2619e1e3e009a07": {
     "model_module": "@jupyter-widgets/controls",
     "model_name": "DescriptionStyleModel",
     "state": {
      "_model_module": "@jupyter-widgets/controls",
      "_model_module_version": "1.5.0",
      "_model_name": "DescriptionStyleModel",
      "_view_count": null,
      "_view_module": "@jupyter-widgets/base",
      "_view_module_version": "1.2.0",
      "_view_name": "StyleView",
      "description_width": ""
     }
    },
    "fb37a195dd2f4b1fbd11c2551cea6a87": {
     "model_module": "@jupyter-widgets/controls",
     "model_name": "DescriptionStyleModel",
     "state": {
      "_model_module": "@jupyter-widgets/controls",
      "_model_module_version": "1.5.0",
      "_model_name": "DescriptionStyleModel",
      "_view_count": null,
      "_view_module": "@jupyter-widgets/base",
      "_view_module_version": "1.2.0",
      "_view_name": "StyleView",
      "description_width": ""
     }
    }
   }
  }
 },
 "nbformat": 4,
 "nbformat_minor": 1
}
