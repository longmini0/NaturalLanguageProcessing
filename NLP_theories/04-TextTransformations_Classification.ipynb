{
 "cells": [
  {
   "cell_type": "markdown",
   "metadata": {
    "id": "g2HsW7jyVlVY"
   },
   "source": [
    "# Text Transformations and Classification\n",
    "\n",
    "### Note: using the PyTorch kernel\n",
    "\n",
    "Where we process text in different ways in order to clean it up and make it more amenable to analysis. "
   ]
  },
  {
   "cell_type": "code",
   "execution_count": 1,
   "metadata": {
    "colab": {
     "base_uri": "https://localhost:8080/"
    },
    "executionInfo": {
     "elapsed": 28803,
     "status": "ok",
     "timestamp": 1618874955353,
     "user": {
      "displayName": "Sanjiv Das",
      "photoUrl": "https://lh3.googleusercontent.com/a-/AOh14GhgUU3RgThSxLUq6NKSN2tDGDl8IQdtHMvdaZPE=s64",
      "userId": "06377870171053566924"
     },
     "user_tz": 420
    },
    "id": "Q7CQkvFuJ3Ok",
    "outputId": "e5863a40-0616-40ff-c337-aff32d1adcd3"
   },
   "outputs": [
    {
     "name": "stdout",
     "output_type": "stream",
     "text": [
      "Mounted at /content/drive\n"
     ]
    }
   ],
   "source": [
    "from google.colab import drive\n",
    "drive.mount('/content/drive')  # Add My Drive/<>\n",
    "\n",
    "import os\n",
    "os.chdir('drive/My Drive')\n",
    "os.chdir('Teaching/NLP')"
   ]
  },
  {
   "cell_type": "code",
   "execution_count": 79,
   "metadata": {
    "executionInfo": {
     "elapsed": 344,
     "status": "ok",
     "timestamp": 1618878424695,
     "user": {
      "displayName": "Sanjiv Das",
      "photoUrl": "https://lh3.googleusercontent.com/a-/AOh14GhgUU3RgThSxLUq6NKSN2tDGDl8IQdtHMvdaZPE=s64",
      "userId": "06377870171053566924"
     },
     "user_tz": 420
    },
    "id": "xCCoJtvOad27"
   },
   "outputs": [],
   "source": [
    "# For installing conda or miniconda in Colab\n",
    "# !wget https://repo.anaconda.com/archive/Anaconda3-5.2.0-Linux-x86_64.sh && bash Anaconda3-5.2.0-Linux-x86_64.sh -bfp /usr/local\n",
    "\n",
    "# Smaller miniconda if better\n",
    "# !wget https://repo.continuum.io/miniconda/Miniconda3-4.5.4-Linux-x86_64.sh && bash Miniconda3-4.5.4-Linux-x86_64.sh -bfp /usr/local \n",
    "\n",
    "# import sys\n",
    "# sys.path.append('/usr/local/lib/python3.6/site-packages')"
   ]
  },
  {
   "cell_type": "code",
   "execution_count": 78,
   "metadata": {
    "colab": {
     "base_uri": "https://localhost:8080/"
    },
    "executionInfo": {
     "elapsed": 6050,
     "status": "ok",
     "timestamp": 1618876867922,
     "user": {
      "displayName": "Sanjiv Das",
      "photoUrl": "https://lh3.googleusercontent.com/a-/AOh14GhgUU3RgThSxLUq6NKSN2tDGDl8IQdtHMvdaZPE=s64",
      "userId": "06377870171053566924"
     },
     "user_tz": 420
    },
    "id": "zLzg-WNKVo1P",
    "outputId": "0b05e92e-2638-4c67-b51e-1428c6eb091b",
    "scrolled": true
   },
   "outputs": [
    {
     "name": "stdout",
     "output_type": "stream",
     "text": [
      "Requirement already satisfied: ipypublish in /usr/local/lib/python3.7/dist-packages (0.10.12)\n",
      "Requirement already satisfied: nbformat in /usr/local/lib/python3.7/dist-packages (from ipypublish) (5.1.3)\n",
      "Requirement already satisfied: docutils in /usr/local/lib/python3.7/dist-packages (from ipypublish) (0.17)\n",
      "Requirement already satisfied: six>=1.11.0 in /usr/local/lib/python3.7/dist-packages (from ipypublish) (1.15.0)\n",
      "Requirement already satisfied: jinja2 in /usr/local/lib/python3.7/dist-packages (from ipypublish) (2.11.3)\n",
      "Requirement already satisfied: nbconvert in /usr/local/lib/python3.7/dist-packages (from ipypublish) (5.6.1)\n",
      "Requirement already satisfied: bibtexparser in /usr/local/lib/python3.7/dist-packages (from ipypublish) (1.2.0)\n",
      "Requirement already satisfied: jsonextended>=0.7 in /usr/local/lib/python3.7/dist-packages (from ipypublish) (0.7.11)\n",
      "Requirement already satisfied: tornado in /usr/local/lib/python3.7/dist-packages (from ipypublish) (5.1.1)\n",
      "Requirement already satisfied: jupytext in /usr/local/lib/python3.7/dist-packages (from ipypublish) (1.11.1)\n",
      "Requirement already satisfied: panflute in /usr/local/lib/python3.7/dist-packages (from ipypublish) (2.0.5)\n",
      "Requirement already satisfied: ordered-set in /usr/local/lib/python3.7/dist-packages (from ipypublish) (4.0.2)\n",
      "Requirement already satisfied: ruamel.yaml in /usr/local/lib/python3.7/dist-packages (from ipypublish) (0.17.4)\n",
      "Requirement already satisfied: traitlets in /usr/local/lib/python3.7/dist-packages (from ipypublish) (5.0.5)\n",
      "Requirement already satisfied: jsonschema in /usr/local/lib/python3.7/dist-packages (from ipypublish) (2.6.0)\n",
      "Requirement already satisfied: pathlib2 in /usr/local/lib/python3.7/dist-packages (from jsonextended>=0.7->ipypublish) (2.3.5)\n",
      "Requirement already satisfied: pyparsing>=2.0.3 in /usr/local/lib/python3.7/dist-packages (from bibtexparser->ipypublish) (2.4.7)\n",
      "Requirement already satisfied: future>=0.16.0 in /usr/local/lib/python3.7/dist-packages (from bibtexparser->ipypublish) (0.16.0)\n",
      "Requirement already satisfied: MarkupSafe>=0.23 in /usr/local/lib/python3.7/dist-packages (from jinja2->ipypublish) (1.1.1)\n",
      "Requirement already satisfied: toml in /usr/local/lib/python3.7/dist-packages (from jupytext->ipypublish) (0.10.2)\n",
      "Requirement already satisfied: pyyaml in /usr/local/lib/python3.7/dist-packages (from jupytext->ipypublish) (3.13)\n",
      "Requirement already satisfied: markdown-it-py~=0.6.0 in /usr/local/lib/python3.7/dist-packages (from jupytext->ipypublish) (0.6.2)\n",
      "Requirement already satisfied: mdit-py-plugins~=0.2.1 in /usr/local/lib/python3.7/dist-packages (from markdown-it-py~=0.6.0->jupytext->ipypublish) (0.2.6)\n",
      "Requirement already satisfied: attrs<21,>=19 in /usr/local/lib/python3.7/dist-packages (from markdown-it-py~=0.6.0->jupytext->ipypublish) (20.3.0)\n",
      "Requirement already satisfied: mistune<2,>=0.8.1 in /usr/local/lib/python3.7/dist-packages (from nbconvert->ipypublish) (0.8.4)\n",
      "Requirement already satisfied: pandocfilters>=1.4.1 in /usr/local/lib/python3.7/dist-packages (from nbconvert->ipypublish) (1.4.3)\n",
      "Requirement already satisfied: pygments in /usr/local/lib/python3.7/dist-packages (from nbconvert->ipypublish) (2.6.1)\n",
      "Requirement already satisfied: testpath in /usr/local/lib/python3.7/dist-packages (from nbconvert->ipypublish) (0.4.4)\n",
      "Requirement already satisfied: entrypoints>=0.2.2 in /usr/local/lib/python3.7/dist-packages (from nbconvert->ipypublish) (0.3)\n",
      "Requirement already satisfied: jupyter-core in /usr/local/lib/python3.7/dist-packages (from nbconvert->ipypublish) (4.7.1)\n",
      "Requirement already satisfied: bleach in /usr/local/lib/python3.7/dist-packages (from nbconvert->ipypublish) (3.3.0)\n",
      "Requirement already satisfied: defusedxml in /usr/local/lib/python3.7/dist-packages (from nbconvert->ipypublish) (0.7.1)\n",
      "Requirement already satisfied: ipython-genutils in /usr/local/lib/python3.7/dist-packages (from nbformat->ipypublish) (0.2.0)\n",
      "Requirement already satisfied: webencodings in /usr/local/lib/python3.7/dist-packages (from bleach->nbconvert->ipypublish) (0.5.1)\n",
      "Requirement already satisfied: packaging in /usr/local/lib/python3.7/dist-packages (from bleach->nbconvert->ipypublish) (20.9)\n",
      "Requirement already satisfied: click in /usr/local/lib/python3.7/dist-packages (from panflute->ipypublish) (7.1.2)\n",
      "Requirement already satisfied: ruamel.yaml.clib>=0.1.2 in /usr/local/lib/python3.7/dist-packages (from ruamel.yaml->ipypublish) (0.2.2)\n",
      "Requirement already satisfied: cssselect in /usr/local/lib/python3.7/dist-packages (1.1.0)\n"
     ]
    }
   ],
   "source": [
    "# !pip install rpy2  # this will need to be run in a separate notebook with the R kernel\n",
    "!pip install ipypublish\n",
    "!pip install cssselect"
   ]
  },
  {
   "cell_type": "code",
   "execution_count": 4,
   "metadata": {
    "colab": {
     "base_uri": "https://localhost:8080/"
    },
    "executionInfo": {
     "elapsed": 41942,
     "status": "ok",
     "timestamp": 1618874968605,
     "user": {
      "displayName": "Sanjiv Das",
      "photoUrl": "https://lh3.googleusercontent.com/a-/AOh14GhgUU3RgThSxLUq6NKSN2tDGDl8IQdtHMvdaZPE=s64",
      "userId": "06377870171053566924"
     },
     "user_tz": 420
    },
    "id": "GV1u57DPVlVZ",
    "outputId": "eb6b1c92-2096-4807-a62f-ab2ba6ac5948"
   },
   "outputs": [
    {
     "name": "stdout",
     "output_type": "stream",
     "text": [
      "Populating the interactive namespace from numpy and matplotlib\n"
     ]
    }
   ],
   "source": [
    "%pylab inline\n",
    "import pandas as pd\n",
    "import os\n",
    "from ipypublish import nb_setup\n",
    "%load_ext rpy2.ipython"
   ]
  },
  {
   "cell_type": "code",
   "execution_count": 5,
   "metadata": {
    "executionInfo": {
     "elapsed": 41935,
     "status": "ok",
     "timestamp": 1618874968608,
     "user": {
      "displayName": "Sanjiv Das",
      "photoUrl": "https://lh3.googleusercontent.com/a-/AOh14GhgUU3RgThSxLUq6NKSN2tDGDl8IQdtHMvdaZPE=s64",
      "userId": "06377870171053566924"
     },
     "user_tz": 420
    },
    "id": "WUuh3J2QVlVg"
   },
   "outputs": [],
   "source": [
    "import requests\n",
    "from lxml.html import fromstring"
   ]
  },
  {
   "cell_type": "code",
   "execution_count": 6,
   "metadata": {
    "colab": {
     "base_uri": "https://localhost:8080/"
    },
    "executionInfo": {
     "elapsed": 42309,
     "status": "ok",
     "timestamp": 1618874969025,
     "user": {
      "displayName": "Sanjiv Das",
      "photoUrl": "https://lh3.googleusercontent.com/a-/AOh14GhgUU3RgThSxLUq6NKSN2tDGDl8IQdtHMvdaZPE=s64",
      "userId": "06377870171053566924"
     },
     "user_tz": 420
    },
    "id": "jHT0PrC3VlVk",
    "outputId": "7c20c873-3fe6-4010-c418-efa692613331"
   },
   "outputs": [
    {
     "data": {
      "text/plain": [
       "[<Element li at 0x7f8182de58f0>,\n",
       " <Element li at 0x7f8182de5950>,\n",
       " <Element li at 0x7f8182de59b0>,\n",
       " <Element li at 0x7f8182de5a10>,\n",
       " <Element li at 0x7f8182de5a70>,\n",
       " <Element li at 0x7f8182de5ad0>,\n",
       " <Element li at 0x7f8182de5b30>,\n",
       " <Element li at 0x7f8182de5b90>,\n",
       " <Element li at 0x7f8182de5bf0>,\n",
       " <Element li at 0x7f8182de5c50>]"
      ]
     },
     "execution_count": 6,
     "metadata": {
      "tags": []
     },
     "output_type": "execute_result"
    }
   ],
   "source": [
    "#Copy the URL from the web site\n",
    "url = 'https://economictimes.indiatimes.com'\n",
    "html = requests.get(url, timeout=10).text\n",
    "\n",
    "#See: http://infohost.nmt.edu/~shipman/soft/pylxml/web/etree-fromstring.html\n",
    "doc = fromstring(html)      \n",
    "\n",
    "#http://lxml.de/cssselect.html#the-cssselect-method\n",
    "doc.cssselect(\".active\")\n"
   ]
  },
  {
   "cell_type": "code",
   "execution_count": 7,
   "metadata": {
    "colab": {
     "base_uri": "https://localhost:8080/"
    },
    "executionInfo": {
     "elapsed": 42289,
     "status": "ok",
     "timestamp": 1618874969028,
     "user": {
      "displayName": "Sanjiv Das",
      "photoUrl": "https://lh3.googleusercontent.com/a-/AOh14GhgUU3RgThSxLUq6NKSN2tDGDl8IQdtHMvdaZPE=s64",
      "userId": "06377870171053566924"
     },
     "user_tz": 420
    },
    "id": "G4l7-J_oVlVp",
    "outputId": "decd0c10-73a6-4dbf-cd96-4e736f093b1b"
   },
   "outputs": [
    {
     "name": "stdout",
     "output_type": "stream",
     "text": [
      "Covid Impact: Loan pool sales halve in FY21\n",
      "ABN AMRO pays $574 mn fine for laundering\n",
      "EU official looks to align with India on 5G\n",
      "Rising cases may delay new leasing recovery\n",
      "US designates India a currency manipulator\n",
      "India to fund capacity boost at SII: Source\n",
      "Fresh virus surge may upend fuel demand\n",
      "Experimental Mars helicopter takes flight \n",
      "India's EVs face practical, technical hurdles\n",
      "Amid shortages, a black market for vaccines\n",
      "Pandemic hurts working cap management\n",
      "Indian-origin billionaire brothers buy Leon\n",
      "UK PM Johnson cancels trip to India \n",
      "Attracting Infra Investments\n",
      "Future case: SC stays further proceedings\n",
      "What Biden saw during US' Afghan invasion\n",
      "\n",
      "HDFC Bank embarks on tech agenda: MD\n",
      "IT jobs back in demand as firms go digital\n",
      "UAE visit: Pak denies India-specific agenda\n"
     ]
    }
   ],
   "source": [
    "x = doc.cssselect(\".active li\")    #Try a, h2, section if you like\n",
    "headlines = [x[j].text_content() for j in range(len(x))]\n",
    "headlines = headlines[:20]   #Needed to exclude any other stuff that was not needed. \n",
    "for h in headlines: \n",
    "    print(h)"
   ]
  },
  {
   "cell_type": "markdown",
   "metadata": {
    "id": "QXRfWiafVlVt"
   },
   "source": [
    "## Remove punctuation from headlines"
   ]
  },
  {
   "cell_type": "code",
   "execution_count": 8,
   "metadata": {
    "executionInfo": {
     "elapsed": 42287,
     "status": "ok",
     "timestamp": 1618874969030,
     "user": {
      "displayName": "Sanjiv Das",
      "photoUrl": "https://lh3.googleusercontent.com/a-/AOh14GhgUU3RgThSxLUq6NKSN2tDGDl8IQdtHMvdaZPE=s64",
      "userId": "06377870171053566924"
     },
     "user_tz": 420
    },
    "id": "eIYyhrpWVlVu"
   },
   "outputs": [],
   "source": [
    "import string\n",
    "def removePuncStr(s):\n",
    "    for c in string.punctuation:\n",
    "        s = s.replace(c,\" \")\n",
    "    return s\n",
    "\n",
    "def removePunc(text_array):\n",
    "    return [removePuncStr(h) for h in text_array]"
   ]
  },
  {
   "cell_type": "code",
   "execution_count": 9,
   "metadata": {
    "colab": {
     "base_uri": "https://localhost:8080/"
    },
    "executionInfo": {
     "elapsed": 42276,
     "status": "ok",
     "timestamp": 1618874969032,
     "user": {
      "displayName": "Sanjiv Das",
      "photoUrl": "https://lh3.googleusercontent.com/a-/AOh14GhgUU3RgThSxLUq6NKSN2tDGDl8IQdtHMvdaZPE=s64",
      "userId": "06377870171053566924"
     },
     "user_tz": 420
    },
    "id": "6xDWWsQ1VlVz",
    "outputId": "c4df60e3-fd8f-408e-f58b-8ab963f6a0a5"
   },
   "outputs": [
    {
     "data": {
      "text/plain": [
       "['Covid Impact  Loan pool sales halve in FY21',\n",
       " 'ABN AMRO pays  574 mn fine for laundering',\n",
       " 'EU official looks to align with India on 5G',\n",
       " 'Rising cases may delay new leasing recovery',\n",
       " 'US designates India a currency manipulator',\n",
       " 'India to fund capacity boost at SII  Source',\n",
       " 'Fresh virus surge may upend fuel demand',\n",
       " 'Experimental Mars helicopter takes flight ',\n",
       " 'India s EVs face practical  technical hurdles',\n",
       " 'Amid shortages  a black market for vaccines',\n",
       " 'Pandemic hurts working cap management',\n",
       " 'Indian origin billionaire brothers buy Leon',\n",
       " 'UK PM Johnson cancels trip to India ',\n",
       " 'Attracting Infra Investments',\n",
       " 'Future case  SC stays further proceedings',\n",
       " 'What Biden saw during US  Afghan invasion',\n",
       " '',\n",
       " 'HDFC Bank embarks on tech agenda  MD',\n",
       " 'IT jobs back in demand as firms go digital',\n",
       " 'UAE visit  Pak denies India specific agenda']"
      ]
     },
     "execution_count": 9,
     "metadata": {
      "tags": []
     },
     "output_type": "execute_result"
    }
   ],
   "source": [
    "headlines = removePunc(headlines)\n",
    "headlines"
   ]
  },
  {
   "cell_type": "markdown",
   "metadata": {
    "id": "CVpRcsIwVlV4"
   },
   "source": [
    "## Remove Numbers"
   ]
  },
  {
   "cell_type": "code",
   "execution_count": 10,
   "metadata": {
    "executionInfo": {
     "elapsed": 42273,
     "status": "ok",
     "timestamp": 1618874969034,
     "user": {
      "displayName": "Sanjiv Das",
      "photoUrl": "https://lh3.googleusercontent.com/a-/AOh14GhgUU3RgThSxLUq6NKSN2tDGDl8IQdtHMvdaZPE=s64",
      "userId": "06377870171053566924"
     },
     "user_tz": 420
    },
    "id": "jglTsg0NVlV4"
   },
   "outputs": [],
   "source": [
    "def removeNumbersStr(s):\n",
    "    for c in range(10):\n",
    "        n = str(c)\n",
    "        s = s.replace(n,\" \")\n",
    "    return s\n",
    "\n",
    "def removeNumbers(text_array):\n",
    "    return [removeNumbersStr(h) for h in text_array]"
   ]
  },
  {
   "cell_type": "code",
   "execution_count": 11,
   "metadata": {
    "colab": {
     "base_uri": "https://localhost:8080/"
    },
    "executionInfo": {
     "elapsed": 42259,
     "status": "ok",
     "timestamp": 1618874969036,
     "user": {
      "displayName": "Sanjiv Das",
      "photoUrl": "https://lh3.googleusercontent.com/a-/AOh14GhgUU3RgThSxLUq6NKSN2tDGDl8IQdtHMvdaZPE=s64",
      "userId": "06377870171053566924"
     },
     "user_tz": 420
    },
    "id": "P31YbjuzVlV9",
    "outputId": "72f335c4-7cb5-4110-b5b5-7d506d0e350f"
   },
   "outputs": [
    {
     "data": {
      "text/plain": [
       "['Covid Impact  Loan pool sales halve in FY  ',\n",
       " 'ABN AMRO pays      mn fine for laundering',\n",
       " 'EU official looks to align with India on  G',\n",
       " 'Rising cases may delay new leasing recovery',\n",
       " 'US designates India a currency manipulator',\n",
       " 'India to fund capacity boost at SII  Source',\n",
       " 'Fresh virus surge may upend fuel demand',\n",
       " 'Experimental Mars helicopter takes flight ',\n",
       " 'India s EVs face practical  technical hurdles',\n",
       " 'Amid shortages  a black market for vaccines',\n",
       " 'Pandemic hurts working cap management',\n",
       " 'Indian origin billionaire brothers buy Leon',\n",
       " 'UK PM Johnson cancels trip to India ',\n",
       " 'Attracting Infra Investments',\n",
       " 'Future case  SC stays further proceedings',\n",
       " 'What Biden saw during US  Afghan invasion',\n",
       " '',\n",
       " 'HDFC Bank embarks on tech agenda  MD',\n",
       " 'IT jobs back in demand as firms go digital',\n",
       " 'UAE visit  Pak denies India specific agenda']"
      ]
     },
     "execution_count": 11,
     "metadata": {
      "tags": []
     },
     "output_type": "execute_result"
    }
   ],
   "source": [
    "headlines = removeNumbers(headlines)\n",
    "headlines"
   ]
  },
  {
   "cell_type": "markdown",
   "metadata": {
    "id": "6bmcpm7fVlWL"
   },
   "source": [
    "## Remove Stopwords\n",
    "\n",
    "Reference: https://pythonprogramming.net/stop-words-nltk-tutorial/"
   ]
  },
  {
   "cell_type": "code",
   "execution_count": 12,
   "metadata": {
    "executionInfo": {
     "elapsed": 43278,
     "status": "ok",
     "timestamp": 1618874970060,
     "user": {
      "displayName": "Sanjiv Das",
      "photoUrl": "https://lh3.googleusercontent.com/a-/AOh14GhgUU3RgThSxLUq6NKSN2tDGDl8IQdtHMvdaZPE=s64",
      "userId": "06377870171053566924"
     },
     "user_tz": 420
    },
    "id": "SQc1M25LVlWL"
   },
   "outputs": [],
   "source": [
    "import nltk\n",
    "from nltk.corpus import stopwords\n",
    "from nltk.tokenize import word_tokenize\n",
    "\n",
    "def stopText(text_array):\n",
    "    stop_words = set(stopwords.words('english'))\n",
    "    stopped_text = []\n",
    "    for h in text_array:\n",
    "        words = word_tokenize(h)\n",
    "        h2 = ''\n",
    "        for w in words:\n",
    "            if w.lower() not in stop_words:\n",
    "                h2 = h2 + ' ' + w\n",
    "        stopped_text.append(h2)\n",
    "    return stopped_text"
   ]
  },
  {
   "cell_type": "code",
   "execution_count": 13,
   "metadata": {
    "colab": {
     "base_uri": "https://localhost:8080/"
    },
    "executionInfo": {
     "elapsed": 44038,
     "status": "ok",
     "timestamp": 1618874970836,
     "user": {
      "displayName": "Sanjiv Das",
      "photoUrl": "https://lh3.googleusercontent.com/a-/AOh14GhgUU3RgThSxLUq6NKSN2tDGDl8IQdtHMvdaZPE=s64",
      "userId": "06377870171053566924"
     },
     "user_tz": 420
    },
    "id": "_4FYg5qZVlWQ",
    "outputId": "554fb04a-6508-45e6-9c31-c3a810b58813"
   },
   "outputs": [
    {
     "name": "stdout",
     "output_type": "stream",
     "text": [
      "[nltk_data] Downloading package stopwords to /root/nltk_data...\n",
      "[nltk_data]   Unzipping corpora/stopwords.zip.\n",
      "[nltk_data] Downloading package punkt to /root/nltk_data...\n",
      "[nltk_data]   Unzipping tokenizers/punkt.zip.\n"
     ]
    },
    {
     "data": {
      "text/plain": [
       "[' Covid Impact Loan pool sales halve FY',\n",
       " ' ABN AMRO pays mn fine laundering',\n",
       " ' EU official looks align India G',\n",
       " ' Rising cases may delay new leasing recovery',\n",
       " ' US designates India currency manipulator',\n",
       " ' India fund capacity boost SII Source',\n",
       " ' Fresh virus surge may upend fuel demand',\n",
       " ' Experimental Mars helicopter takes flight',\n",
       " ' India EVs face practical technical hurdles',\n",
       " ' Amid shortages black market vaccines',\n",
       " ' Pandemic hurts working cap management',\n",
       " ' Indian origin billionaire brothers buy Leon',\n",
       " ' UK PM Johnson cancels trip India',\n",
       " ' Attracting Infra Investments',\n",
       " ' Future case SC stays proceedings',\n",
       " ' Biden saw US Afghan invasion',\n",
       " '',\n",
       " ' HDFC Bank embarks tech agenda MD',\n",
       " ' jobs back demand firms go digital',\n",
       " ' UAE visit Pak denies India specific agenda']"
      ]
     },
     "execution_count": 13,
     "metadata": {
      "tags": []
     },
     "output_type": "execute_result"
    }
   ],
   "source": [
    "nltk.download('stopwords')\n",
    "nltk.download('punkt')\n",
    "stopped_headlines = stopText(headlines)\n",
    "stopped_headlines"
   ]
  },
  {
   "cell_type": "markdown",
   "metadata": {
    "id": "f4YBAkgjVlWB"
   },
   "source": [
    "## Stemming\n",
    "\n",
    "https://pythonprogramming.net/stemming-nltk-tutorial/"
   ]
  },
  {
   "cell_type": "code",
   "execution_count": 14,
   "metadata": {
    "executionInfo": {
     "elapsed": 44035,
     "status": "ok",
     "timestamp": 1618874970838,
     "user": {
      "displayName": "Sanjiv Das",
      "photoUrl": "https://lh3.googleusercontent.com/a-/AOh14GhgUU3RgThSxLUq6NKSN2tDGDl8IQdtHMvdaZPE=s64",
      "userId": "06377870171053566924"
     },
     "user_tz": 420
    },
    "id": "1k15BKPqVlWC"
   },
   "outputs": [],
   "source": [
    "from nltk.stem import PorterStemmer\n",
    "from nltk.tokenize import sent_tokenize, word_tokenize\n",
    "\n",
    "def stemText(text_array):\n",
    "    stemmed_text = []\n",
    "    for h in text_array:\n",
    "        words = word_tokenize(h)\n",
    "        h2 = ''\n",
    "        for w in words:\n",
    "            h2 = h2 + ' ' + PorterStemmer().stem(w)\n",
    "        stemmed_text.append(h2)\n",
    "    return stemmed_text"
   ]
  },
  {
   "cell_type": "code",
   "execution_count": 15,
   "metadata": {
    "colab": {
     "base_uri": "https://localhost:8080/"
    },
    "executionInfo": {
     "elapsed": 44016,
     "status": "ok",
     "timestamp": 1618874970839,
     "user": {
      "displayName": "Sanjiv Das",
      "photoUrl": "https://lh3.googleusercontent.com/a-/AOh14GhgUU3RgThSxLUq6NKSN2tDGDl8IQdtHMvdaZPE=s64",
      "userId": "06377870171053566924"
     },
     "user_tz": 420
    },
    "id": "EbLiDFSxVlWG",
    "outputId": "13592f26-18e5-4094-87fa-5cea5ddccac3"
   },
   "outputs": [
    {
     "name": "stdout",
     "output_type": "stream",
     "text": [
      "[nltk_data] Downloading package punkt to /root/nltk_data...\n",
      "[nltk_data]   Package punkt is already up-to-date!\n"
     ]
    },
    {
     "data": {
      "text/plain": [
       "[' covid impact loan pool sale halv in FY',\n",
       " ' abn amro pay mn fine for launder',\n",
       " ' EU offici look to align with india on G',\n",
       " ' rise case may delay new leas recoveri',\n",
       " ' US design india a currenc manipul',\n",
       " ' india to fund capac boost at sii sourc',\n",
       " ' fresh viru surg may upend fuel demand',\n",
       " ' experiment mar helicopt take flight',\n",
       " ' india s ev face practic technic hurdl',\n",
       " ' amid shortag a black market for vaccin',\n",
       " ' pandem hurt work cap manag',\n",
       " ' indian origin billionair brother buy leon',\n",
       " ' UK PM johnson cancel trip to india',\n",
       " ' attract infra invest',\n",
       " ' futur case SC stay further proceed',\n",
       " ' what biden saw dure US afghan invas',\n",
       " '',\n",
       " ' hdfc bank embark on tech agenda MD',\n",
       " ' IT job back in demand as firm go digit',\n",
       " ' uae visit pak deni india specif agenda']"
      ]
     },
     "execution_count": 15,
     "metadata": {
      "tags": []
     },
     "output_type": "execute_result"
    }
   ],
   "source": [
    "import nltk\n",
    "nltk.download('punkt')\n",
    "stemmed_headlines = stemText(headlines)\n",
    "stemmed_headlines"
   ]
  },
  {
   "cell_type": "markdown",
   "metadata": {
    "id": "qMzov_5qVlWU"
   },
   "source": [
    "## Write all docs to separate text files"
   ]
  },
  {
   "cell_type": "code",
   "execution_count": 16,
   "metadata": {
    "executionInfo": {
     "elapsed": 44013,
     "status": "ok",
     "timestamp": 1618874970841,
     "user": {
      "displayName": "Sanjiv Das",
      "photoUrl": "https://lh3.googleusercontent.com/a-/AOh14GhgUU3RgThSxLUq6NKSN2tDGDl8IQdtHMvdaZPE=s64",
      "userId": "06377870171053566924"
     },
     "user_tz": 420
    },
    "id": "yEsXPRpUVlWV"
   },
   "outputs": [],
   "source": [
    "def write2textfile(s,filename):\n",
    "    text_file = open(filename, \"w\")\n",
    "    text_file.write(s)\n",
    "    text_file.close()"
   ]
  },
  {
   "cell_type": "code",
   "execution_count": 17,
   "metadata": {
    "executionInfo": {
     "elapsed": 50430,
     "status": "ok",
     "timestamp": 1618874977263,
     "user": {
      "displayName": "Sanjiv Das",
      "photoUrl": "https://lh3.googleusercontent.com/a-/AOh14GhgUU3RgThSxLUq6NKSN2tDGDl8IQdtHMvdaZPE=s64",
      "userId": "06377870171053566924"
     },
     "user_tz": 420
    },
    "id": "Gi7fL3tjVlWY"
   },
   "outputs": [],
   "source": [
    "import os\n",
    "os.system('mkdir CTEXT')\n",
    "\n",
    "j = 0\n",
    "for h in headlines:\n",
    "    j = j + 1\n",
    "    fname = \"CTEXT/\" + str(j) + \".ctxt\"  #using \"ctxt\" to denote a corpus related file\n",
    "    write2textfile(h,fname)"
   ]
  },
  {
   "cell_type": "markdown",
   "metadata": {
    "id": "gVSFMjKIVlWc"
   },
   "source": [
    "## Create a Corpus\n",
    "\n",
    "A corpus is a data structure that contains multiple documents.\n",
    "\n",
    "Functions may be written at the corpus level itself. "
   ]
  },
  {
   "cell_type": "code",
   "execution_count": 18,
   "metadata": {
    "colab": {
     "base_uri": "https://localhost:8080/"
    },
    "executionInfo": {
     "elapsed": 50413,
     "status": "ok",
     "timestamp": 1618874977265,
     "user": {
      "displayName": "Sanjiv Das",
      "photoUrl": "https://lh3.googleusercontent.com/a-/AOh14GhgUU3RgThSxLUq6NKSN2tDGDl8IQdtHMvdaZPE=s64",
      "userId": "06377870171053566924"
     },
     "user_tz": 420
    },
    "id": "k-C1ZOGAVlWd",
    "outputId": "37902f8f-58a8-47c8-aa15-b5e9a9fe3e3b"
   },
   "outputs": [
    {
     "data": {
      "text/plain": [
       "<PlaintextCorpusReader in '/content/drive/My Drive/Teaching/NLP/CTEXT'>"
      ]
     },
     "execution_count": 18,
     "metadata": {
      "tags": []
     },
     "output_type": "execute_result"
    }
   ],
   "source": [
    "#Read in the corpus\n",
    "import nltk\n",
    "from nltk.corpus import PlaintextCorpusReader\n",
    "corpus_root = 'CTEXT/'\n",
    "ctext = PlaintextCorpusReader(corpus_root, '.*')\n",
    "ctext"
   ]
  },
  {
   "cell_type": "code",
   "execution_count": 19,
   "metadata": {
    "colab": {
     "base_uri": "https://localhost:8080/"
    },
    "executionInfo": {
     "elapsed": 50398,
     "status": "ok",
     "timestamp": 1618874977267,
     "user": {
      "displayName": "Sanjiv Das",
      "photoUrl": "https://lh3.googleusercontent.com/a-/AOh14GhgUU3RgThSxLUq6NKSN2tDGDl8IQdtHMvdaZPE=s64",
      "userId": "06377870171053566924"
     },
     "user_tz": 420
    },
    "id": "LyQP_1_iVlWh",
    "outputId": "1975efca-cf6f-43da-b938-05383960b820"
   },
   "outputs": [
    {
     "data": {
      "text/plain": [
       "['1.ctxt', '10.ctxt', '11.ctxt', '12.ctxt', '13.ctxt', '14.ctxt']"
      ]
     },
     "execution_count": 19,
     "metadata": {
      "tags": []
     },
     "output_type": "execute_result"
    }
   ],
   "source": [
    "ctext.fileids()[:6]"
   ]
  },
  {
   "cell_type": "code",
   "execution_count": 20,
   "metadata": {
    "colab": {
     "base_uri": "https://localhost:8080/"
    },
    "executionInfo": {
     "elapsed": 50553,
     "status": "ok",
     "timestamp": 1618874977435,
     "user": {
      "displayName": "Sanjiv Das",
      "photoUrl": "https://lh3.googleusercontent.com/a-/AOh14GhgUU3RgThSxLUq6NKSN2tDGDl8IQdtHMvdaZPE=s64",
      "userId": "06377870171053566924"
     },
     "user_tz": 420
    },
    "id": "ZmdYsbI6VlWl",
    "outputId": "78c9f95e-3838-4f79-f2eb-7c5c8bd99ac9"
   },
   "outputs": [
    {
     "name": "stdout",
     "output_type": "stream",
     "text": [
      "['Covid', 'Impact', 'Loan', 'pool', 'sales', 'halve', ...] 128\n",
      "113\n",
      "['Covid', 'Impact', 'Loan', 'pool', 'sales', 'halve', ...] 8\n"
     ]
    }
   ],
   "source": [
    "# We now have functions that apply to the entire corpus\n",
    "print(ctext.words(), len(ctext.words()))  \n",
    "print(len(set(ctext.words()))) # gives the vocabulary\n",
    "print(ctext.words('1.ctxt'), len(ctext.words('1.ctxt')))"
   ]
  },
  {
   "cell_type": "code",
   "execution_count": 21,
   "metadata": {
    "colab": {
     "base_uri": "https://localhost:8080/"
    },
    "executionInfo": {
     "elapsed": 50543,
     "status": "ok",
     "timestamp": 1618874977437,
     "user": {
      "displayName": "Sanjiv Das",
      "photoUrl": "https://lh3.googleusercontent.com/a-/AOh14GhgUU3RgThSxLUq6NKSN2tDGDl8IQdtHMvdaZPE=s64",
      "userId": "06377870171053566924"
     },
     "user_tz": 420
    },
    "id": "i4_PVgO1VlW3",
    "outputId": "f9d06d69-b184-4634-c7a7-8e7cfdd20e93"
   },
   "outputs": [
    {
     "data": {
      "text/plain": [
       "['ABN', 'AMRO', 'pays', 'mn', 'fine', 'for', ...]"
      ]
     },
     "execution_count": 21,
     "metadata": {
      "tags": []
     },
     "output_type": "execute_result"
    }
   ],
   "source": [
    "ctext.words('2.ctxt')"
   ]
  },
  {
   "cell_type": "markdown",
   "metadata": {
    "id": "XJ8PYaAwVlW8"
   },
   "source": [
    "## Text Classification using GLMNet\n",
    "\n",
    "The large movie review dataset is here: https://ai.stanford.edu/~amaas/data/sentiment/\n",
    "        \n",
    "For an excellent description of glmnet see: https://web.stanford.edu/~hastie/glmnet/glmnet_alpha.html\n",
    "\n",
    "Let's move over to the R program to run GLMNet, as it was written for that environmemt. We will execute the %%R code blocks in a separate notebook with a R kernel. "
   ]
  },
  {
   "cell_type": "code",
   "execution_count": 22,
   "metadata": {
    "colab": {
     "base_uri": "https://localhost:8080/"
    },
    "executionInfo": {
     "elapsed": 226456,
     "status": "ok",
     "timestamp": 1618875153362,
     "user": {
      "displayName": "Sanjiv Das",
      "photoUrl": "https://lh3.googleusercontent.com/a-/AOh14GhgUU3RgThSxLUq6NKSN2tDGDl8IQdtHMvdaZPE=s64",
      "userId": "06377870171053566924"
     },
     "user_tz": 420
    },
    "id": "vYK2WiUjVlW8",
    "outputId": "f8226c97-9d21-4bfa-ea1d-872029c7dfe7"
   },
   "outputs": [
    {
     "name": "stderr",
     "output_type": "stream",
     "text": [
      "R[write to console]: Installing package into ‘/usr/local/lib/R/site-library’\n",
      "(as ‘lib’ is unspecified)\n",
      "\n",
      "R[write to console]: also installing the dependencies ‘float’, ‘RhpcBLASctl’, ‘RcppArmadillo’, ‘data.table’, ‘rsparse’, ‘mlapi’, ‘lgr’\n",
      "\n",
      "\n",
      "R[write to console]: trying URL 'https://cran.rstudio.com/src/contrib/float_0.2-4.tar.gz'\n",
      "\n",
      "R[write to console]: Content type 'application/x-gzip'\n",
      "R[write to console]:  length 1372759 bytes (1.3 MB)\n",
      "\n",
      "R[write to console]: =\n",
      "R[write to console]: =\n",
      "R[write to console]: =\n",
      "R[write to console]: =\n",
      "R[write to console]: =\n",
      "R[write to console]: =\n",
      "R[write to console]: =\n",
      "R[write to console]: =\n",
      "R[write to console]: =\n",
      "R[write to console]: =\n",
      "R[write to console]: =\n",
      "R[write to console]: =\n",
      "R[write to console]: =\n",
      "R[write to console]: =\n",
      "R[write to console]: =\n",
      "R[write to console]: =\n",
      "R[write to console]: =\n",
      "R[write to console]: =\n",
      "R[write to console]: =\n",
      "R[write to console]: =\n",
      "R[write to console]: =\n",
      "R[write to console]: =\n",
      "R[write to console]: =\n",
      "R[write to console]: =\n",
      "R[write to console]: =\n",
      "R[write to console]: =\n",
      "R[write to console]: =\n",
      "R[write to console]: =\n",
      "R[write to console]: =\n",
      "R[write to console]: =\n",
      "R[write to console]: =\n",
      "R[write to console]: =\n",
      "R[write to console]: =\n",
      "R[write to console]: =\n",
      "R[write to console]: =\n",
      "R[write to console]: =\n",
      "R[write to console]: =\n",
      "R[write to console]: =\n",
      "R[write to console]: =\n",
      "R[write to console]: =\n",
      "R[write to console]: =\n",
      "R[write to console]: =\n",
      "R[write to console]: =\n",
      "R[write to console]: =\n",
      "R[write to console]: =\n",
      "R[write to console]: =\n",
      "R[write to console]: =\n",
      "R[write to console]: =\n",
      "R[write to console]: =\n",
      "R[write to console]: =\n",
      "R[write to console]: \n",
      "\n",
      "R[write to console]: downloaded 1.3 MB\n",
      "\n",
      "\n",
      "R[write to console]: trying URL 'https://cran.rstudio.com/src/contrib/RhpcBLASctl_0.20-137.tar.gz'\n",
      "\n",
      "R[write to console]: Content type 'application/x-gzip'\n",
      "R[write to console]:  length 40773 bytes (39 KB)\n",
      "\n",
      "R[write to console]: =\n",
      "R[write to console]: =\n",
      "R[write to console]: =\n",
      "R[write to console]: =\n",
      "R[write to console]: =\n",
      "R[write to console]: =\n",
      "R[write to console]: =\n",
      "R[write to console]: =\n",
      "R[write to console]: =\n",
      "R[write to console]: =\n",
      "R[write to console]: =\n",
      "R[write to console]: =\n",
      "R[write to console]: =\n",
      "R[write to console]: =\n",
      "R[write to console]: =\n",
      "R[write to console]: =\n",
      "R[write to console]: =\n",
      "R[write to console]: =\n",
      "R[write to console]: =\n",
      "R[write to console]: =\n",
      "R[write to console]: =\n",
      "R[write to console]: =\n",
      "R[write to console]: =\n",
      "R[write to console]: =\n",
      "R[write to console]: =\n",
      "R[write to console]: =\n",
      "R[write to console]: =\n",
      "R[write to console]: =\n",
      "R[write to console]: =\n",
      "R[write to console]: =\n",
      "R[write to console]: =\n",
      "R[write to console]: =\n",
      "R[write to console]: =\n",
      "R[write to console]: =\n",
      "R[write to console]: =\n",
      "R[write to console]: =\n",
      "R[write to console]: =\n",
      "R[write to console]: =\n",
      "R[write to console]: =\n",
      "R[write to console]: =\n",
      "R[write to console]: =\n",
      "R[write to console]: =\n",
      "R[write to console]: =\n",
      "R[write to console]: =\n",
      "R[write to console]: =\n",
      "R[write to console]: =\n",
      "R[write to console]: =\n",
      "R[write to console]: =\n",
      "R[write to console]: =\n",
      "R[write to console]: =\n",
      "R[write to console]: \n",
      "\n",
      "R[write to console]: downloaded 39 KB\n",
      "\n",
      "\n",
      "R[write to console]: trying URL 'https://cran.rstudio.com/src/contrib/RcppArmadillo_0.10.4.0.0.tar.gz'\n",
      "\n",
      "R[write to console]: Content type 'application/x-gzip'\n",
      "R[write to console]:  length 1667929 bytes (1.6 MB)\n",
      "\n",
      "R[write to console]: =\n",
      "R[write to console]: =\n",
      "R[write to console]: =\n",
      "R[write to console]: =\n",
      "R[write to console]: =\n",
      "R[write to console]: =\n",
      "R[write to console]: =\n",
      "R[write to console]: =\n",
      "R[write to console]: =\n",
      "R[write to console]: =\n",
      "R[write to console]: =\n",
      "R[write to console]: =\n",
      "R[write to console]: =\n",
      "R[write to console]: =\n",
      "R[write to console]: =\n",
      "R[write to console]: =\n",
      "R[write to console]: =\n",
      "R[write to console]: =\n",
      "R[write to console]: =\n",
      "R[write to console]: =\n",
      "R[write to console]: =\n",
      "R[write to console]: =\n",
      "R[write to console]: =\n",
      "R[write to console]: =\n",
      "R[write to console]: =\n",
      "R[write to console]: =\n",
      "R[write to console]: =\n",
      "R[write to console]: =\n",
      "R[write to console]: =\n",
      "R[write to console]: =\n",
      "R[write to console]: =\n",
      "R[write to console]: =\n",
      "R[write to console]: =\n",
      "R[write to console]: =\n",
      "R[write to console]: =\n",
      "R[write to console]: =\n",
      "R[write to console]: =\n",
      "R[write to console]: =\n",
      "R[write to console]: =\n",
      "R[write to console]: =\n",
      "R[write to console]: =\n",
      "R[write to console]: =\n",
      "R[write to console]: =\n",
      "R[write to console]: =\n",
      "R[write to console]: =\n",
      "R[write to console]: =\n",
      "R[write to console]: =\n",
      "R[write to console]: =\n",
      "R[write to console]: =\n",
      "R[write to console]: =\n",
      "R[write to console]: \n",
      "\n",
      "R[write to console]: downloaded 1.6 MB\n",
      "\n",
      "\n",
      "R[write to console]: trying URL 'https://cran.rstudio.com/src/contrib/data.table_1.14.0.tar.gz'\n",
      "\n",
      "R[write to console]: Content type 'application/x-gzip'\n",
      "R[write to console]:  length 5303849 bytes (5.1 MB)\n",
      "\n",
      "R[write to console]: =\n",
      "R[write to console]: =\n",
      "R[write to console]: =\n",
      "R[write to console]: =\n",
      "R[write to console]: =\n",
      "R[write to console]: =\n",
      "R[write to console]: =\n",
      "R[write to console]: =\n",
      "R[write to console]: =\n",
      "R[write to console]: =\n",
      "R[write to console]: =\n",
      "R[write to console]: =\n",
      "R[write to console]: =\n",
      "R[write to console]: =\n",
      "R[write to console]: =\n",
      "R[write to console]: =\n",
      "R[write to console]: =\n",
      "R[write to console]: =\n",
      "R[write to console]: =\n",
      "R[write to console]: =\n",
      "R[write to console]: =\n",
      "R[write to console]: =\n",
      "R[write to console]: =\n",
      "R[write to console]: =\n",
      "R[write to console]: =\n",
      "R[write to console]: =\n",
      "R[write to console]: =\n",
      "R[write to console]: =\n",
      "R[write to console]: =\n",
      "R[write to console]: =\n",
      "R[write to console]: =\n",
      "R[write to console]: =\n",
      "R[write to console]: =\n",
      "R[write to console]: =\n",
      "R[write to console]: =\n",
      "R[write to console]: =\n",
      "R[write to console]: =\n",
      "R[write to console]: =\n",
      "R[write to console]: =\n",
      "R[write to console]: =\n",
      "R[write to console]: =\n",
      "R[write to console]: =\n",
      "R[write to console]: =\n",
      "R[write to console]: =\n",
      "R[write to console]: =\n",
      "R[write to console]: =\n",
      "R[write to console]: =\n",
      "R[write to console]: =\n",
      "R[write to console]: =\n",
      "R[write to console]: =\n",
      "R[write to console]: \n",
      "\n",
      "R[write to console]: downloaded 5.1 MB\n",
      "\n",
      "\n",
      "R[write to console]: trying URL 'https://cran.rstudio.com/src/contrib/rsparse_0.4.0.tar.gz'\n",
      "\n",
      "R[write to console]: Content type 'application/x-gzip'\n",
      "R[write to console]:  length 212404 bytes (207 KB)\n",
      "\n",
      "R[write to console]: =\n",
      "R[write to console]: =\n",
      "R[write to console]: =\n",
      "R[write to console]: =\n",
      "R[write to console]: =\n",
      "R[write to console]: =\n",
      "R[write to console]: =\n",
      "R[write to console]: =\n",
      "R[write to console]: =\n",
      "R[write to console]: =\n",
      "R[write to console]: =\n",
      "R[write to console]: =\n",
      "R[write to console]: =\n",
      "R[write to console]: =\n",
      "R[write to console]: =\n",
      "R[write to console]: =\n",
      "R[write to console]: =\n",
      "R[write to console]: =\n",
      "R[write to console]: =\n",
      "R[write to console]: =\n",
      "R[write to console]: =\n",
      "R[write to console]: =\n",
      "R[write to console]: =\n",
      "R[write to console]: =\n",
      "R[write to console]: =\n",
      "R[write to console]: =\n",
      "R[write to console]: =\n",
      "R[write to console]: =\n",
      "R[write to console]: =\n",
      "R[write to console]: =\n",
      "R[write to console]: =\n",
      "R[write to console]: =\n",
      "R[write to console]: =\n",
      "R[write to console]: =\n",
      "R[write to console]: =\n",
      "R[write to console]: =\n",
      "R[write to console]: =\n",
      "R[write to console]: =\n",
      "R[write to console]: =\n",
      "R[write to console]: =\n",
      "R[write to console]: =\n",
      "R[write to console]: =\n",
      "R[write to console]: =\n",
      "R[write to console]: =\n",
      "R[write to console]: =\n",
      "R[write to console]: =\n",
      "R[write to console]: =\n",
      "R[write to console]: =\n",
      "R[write to console]: =\n",
      "R[write to console]: =\n",
      "R[write to console]: \n",
      "\n",
      "R[write to console]: downloaded 207 KB\n",
      "\n",
      "\n",
      "R[write to console]: trying URL 'https://cran.rstudio.com/src/contrib/mlapi_0.1.0.tar.gz'\n",
      "\n",
      "R[write to console]: Content type 'application/x-gzip'\n",
      "R[write to console]:  length 13965 bytes (13 KB)\n",
      "\n",
      "R[write to console]: =\n",
      "R[write to console]: =\n",
      "R[write to console]: =\n",
      "R[write to console]: =\n",
      "R[write to console]: =\n",
      "R[write to console]: =\n",
      "R[write to console]: =\n",
      "R[write to console]: =\n",
      "R[write to console]: =\n",
      "R[write to console]: =\n",
      "R[write to console]: =\n",
      "R[write to console]: =\n",
      "R[write to console]: =\n",
      "R[write to console]: =\n",
      "R[write to console]: =\n",
      "R[write to console]: =\n",
      "R[write to console]: =\n",
      "R[write to console]: =\n",
      "R[write to console]: =\n",
      "R[write to console]: =\n",
      "R[write to console]: =\n",
      "R[write to console]: =\n",
      "R[write to console]: =\n",
      "R[write to console]: =\n",
      "R[write to console]: =\n",
      "R[write to console]: =\n",
      "R[write to console]: =\n",
      "R[write to console]: =\n",
      "R[write to console]: =\n",
      "R[write to console]: =\n",
      "R[write to console]: =\n",
      "R[write to console]: =\n",
      "R[write to console]: =\n",
      "R[write to console]: =\n",
      "R[write to console]: =\n",
      "R[write to console]: =\n",
      "R[write to console]: =\n",
      "R[write to console]: =\n",
      "R[write to console]: =\n",
      "R[write to console]: =\n",
      "R[write to console]: =\n",
      "R[write to console]: =\n",
      "R[write to console]: =\n",
      "R[write to console]: =\n",
      "R[write to console]: =\n",
      "R[write to console]: =\n",
      "R[write to console]: =\n",
      "R[write to console]: =\n",
      "R[write to console]: =\n",
      "R[write to console]: =\n",
      "R[write to console]: \n",
      "\n",
      "R[write to console]: downloaded 13 KB\n",
      "\n",
      "\n",
      "R[write to console]: trying URL 'https://cran.rstudio.com/src/contrib/lgr_0.4.2.tar.gz'\n",
      "\n",
      "R[write to console]: Content type 'application/x-gzip'\n",
      "R[write to console]:  length 572970 bytes (559 KB)\n",
      "\n",
      "R[write to console]: =\n",
      "R[write to console]: =\n",
      "R[write to console]: =\n",
      "R[write to console]: =\n",
      "R[write to console]: =\n",
      "R[write to console]: =\n",
      "R[write to console]: =\n",
      "R[write to console]: =\n",
      "R[write to console]: =\n",
      "R[write to console]: =\n",
      "R[write to console]: =\n",
      "R[write to console]: =\n",
      "R[write to console]: =\n",
      "R[write to console]: =\n",
      "R[write to console]: =\n",
      "R[write to console]: =\n",
      "R[write to console]: =\n",
      "R[write to console]: =\n",
      "R[write to console]: =\n",
      "R[write to console]: =\n",
      "R[write to console]: =\n",
      "R[write to console]: =\n",
      "R[write to console]: =\n",
      "R[write to console]: =\n",
      "R[write to console]: =\n",
      "R[write to console]: =\n",
      "R[write to console]: =\n",
      "R[write to console]: =\n",
      "R[write to console]: =\n",
      "R[write to console]: =\n",
      "R[write to console]: =\n",
      "R[write to console]: =\n",
      "R[write to console]: =\n",
      "R[write to console]: =\n",
      "R[write to console]: =\n",
      "R[write to console]: =\n",
      "R[write to console]: =\n",
      "R[write to console]: =\n",
      "R[write to console]: =\n",
      "R[write to console]: =\n",
      "R[write to console]: =\n",
      "R[write to console]: =\n",
      "R[write to console]: =\n",
      "R[write to console]: =\n",
      "R[write to console]: =\n",
      "R[write to console]: =\n",
      "R[write to console]: =\n",
      "R[write to console]: =\n",
      "R[write to console]: =\n",
      "R[write to console]: =\n",
      "R[write to console]: \n",
      "\n",
      "R[write to console]: downloaded 559 KB\n",
      "\n",
      "\n",
      "R[write to console]: trying URL 'https://cran.rstudio.com/src/contrib/text2vec_0.6.tar.gz'\n",
      "\n",
      "R[write to console]: Content type 'application/x-gzip'\n",
      "R[write to console]:  length 3203962 bytes (3.1 MB)\n",
      "\n",
      "R[write to console]: =\n",
      "R[write to console]: =\n",
      "R[write to console]: =\n",
      "R[write to console]: =\n",
      "R[write to console]: =\n",
      "R[write to console]: =\n",
      "R[write to console]: =\n",
      "R[write to console]: =\n",
      "R[write to console]: =\n",
      "R[write to console]: =\n",
      "R[write to console]: =\n",
      "R[write to console]: =\n",
      "R[write to console]: =\n",
      "R[write to console]: =\n",
      "R[write to console]: =\n",
      "R[write to console]: =\n",
      "R[write to console]: =\n",
      "R[write to console]: =\n",
      "R[write to console]: =\n",
      "R[write to console]: =\n",
      "R[write to console]: =\n",
      "R[write to console]: =\n",
      "R[write to console]: =\n",
      "R[write to console]: =\n",
      "R[write to console]: =\n",
      "R[write to console]: =\n",
      "R[write to console]: =\n",
      "R[write to console]: =\n",
      "R[write to console]: =\n",
      "R[write to console]: =\n",
      "R[write to console]: =\n",
      "R[write to console]: =\n",
      "R[write to console]: =\n",
      "R[write to console]: =\n",
      "R[write to console]: =\n",
      "R[write to console]: =\n",
      "R[write to console]: =\n",
      "R[write to console]: =\n",
      "R[write to console]: =\n",
      "R[write to console]: =\n",
      "R[write to console]: =\n",
      "R[write to console]: =\n",
      "R[write to console]: =\n",
      "R[write to console]: =\n",
      "R[write to console]: =\n",
      "R[write to console]: =\n",
      "R[write to console]: =\n",
      "R[write to console]: =\n",
      "R[write to console]: =\n",
      "R[write to console]: =\n",
      "R[write to console]: \n",
      "\n",
      "R[write to console]: downloaded 3.1 MB\n",
      "\n",
      "\n",
      "R[write to console]: \n",
      "\n",
      "R[write to console]: \n",
      "R[write to console]: The downloaded source packages are in\n",
      "\t‘/tmp/Rtmp7c8Ol6/downloaded_packages’\n",
      "R[write to console]: \n",
      "R[write to console]: \n",
      "\n"
     ]
    }
   ],
   "source": [
    "%%R\n",
    "install.packages(c(\"text2vec\")) # VERY LONG INSTALL\n",
    "# !conda install -c conda-forge r-text2vec -y   # Need the -y to not have to answer 'y' after packages are detected"
   ]
  },
  {
   "cell_type": "code",
   "execution_count": 23,
   "metadata": {
    "colab": {
     "base_uri": "https://localhost:8080/"
    },
    "executionInfo": {
     "elapsed": 248370,
     "status": "ok",
     "timestamp": 1618875175286,
     "user": {
      "displayName": "Sanjiv Das",
      "photoUrl": "https://lh3.googleusercontent.com/a-/AOh14GhgUU3RgThSxLUq6NKSN2tDGDl8IQdtHMvdaZPE=s64",
      "userId": "06377870171053566924"
     },
     "user_tz": 420
    },
    "id": "utt48vGNVlXA",
    "outputId": "bc88b31d-5280-43e2-a775-8dccddb7f22f"
   },
   "outputs": [
    {
     "name": "stderr",
     "output_type": "stream",
     "text": [
      "R[write to console]: Installing packages into ‘/usr/local/lib/R/site-library’\n",
      "(as ‘lib’ is unspecified)\n",
      "\n",
      "R[write to console]: trying URL 'https://cran.rstudio.com/src/contrib/data.table_1.14.0.tar.gz'\n",
      "\n",
      "R[write to console]: Content type 'application/x-gzip'\n",
      "R[write to console]:  length 5303849 bytes (5.1 MB)\n",
      "\n",
      "R[write to console]: =\n",
      "R[write to console]: =\n",
      "R[write to console]: =\n",
      "R[write to console]: =\n",
      "R[write to console]: =\n",
      "R[write to console]: =\n",
      "R[write to console]: =\n",
      "R[write to console]: =\n",
      "R[write to console]: =\n",
      "R[write to console]: =\n",
      "R[write to console]: =\n",
      "R[write to console]: =\n",
      "R[write to console]: =\n",
      "R[write to console]: =\n",
      "R[write to console]: =\n",
      "R[write to console]: =\n",
      "R[write to console]: =\n",
      "R[write to console]: =\n",
      "R[write to console]: =\n",
      "R[write to console]: =\n",
      "R[write to console]: =\n",
      "R[write to console]: =\n",
      "R[write to console]: =\n",
      "R[write to console]: =\n",
      "R[write to console]: =\n",
      "R[write to console]: =\n",
      "R[write to console]: =\n",
      "R[write to console]: =\n",
      "R[write to console]: =\n",
      "R[write to console]: =\n",
      "R[write to console]: =\n",
      "R[write to console]: =\n",
      "R[write to console]: =\n",
      "R[write to console]: =\n",
      "R[write to console]: =\n",
      "R[write to console]: =\n",
      "R[write to console]: =\n",
      "R[write to console]: =\n",
      "R[write to console]: =\n",
      "R[write to console]: =\n",
      "R[write to console]: =\n",
      "R[write to console]: =\n",
      "R[write to console]: =\n",
      "R[write to console]: =\n",
      "R[write to console]: =\n",
      "R[write to console]: =\n",
      "R[write to console]: =\n",
      "R[write to console]: =\n",
      "R[write to console]: =\n",
      "R[write to console]: =\n",
      "R[write to console]: \n",
      "\n",
      "R[write to console]: downloaded 5.1 MB\n",
      "\n",
      "\n",
      "R[write to console]: trying URL 'https://cran.rstudio.com/src/contrib/magrittr_2.0.1.tar.gz'\n",
      "\n",
      "R[write to console]: Content type 'application/x-gzip'\n",
      "R[write to console]:  length 265580 bytes (259 KB)\n",
      "\n",
      "R[write to console]: =\n",
      "R[write to console]: =\n",
      "R[write to console]: =\n",
      "R[write to console]: =\n",
      "R[write to console]: =\n",
      "R[write to console]: =\n",
      "R[write to console]: =\n",
      "R[write to console]: =\n",
      "R[write to console]: =\n",
      "R[write to console]: =\n",
      "R[write to console]: =\n",
      "R[write to console]: =\n",
      "R[write to console]: =\n",
      "R[write to console]: =\n",
      "R[write to console]: =\n",
      "R[write to console]: =\n",
      "R[write to console]: =\n",
      "R[write to console]: =\n",
      "R[write to console]: =\n",
      "R[write to console]: =\n",
      "R[write to console]: =\n",
      "R[write to console]: =\n",
      "R[write to console]: =\n",
      "R[write to console]: =\n",
      "R[write to console]: =\n",
      "R[write to console]: =\n",
      "R[write to console]: =\n",
      "R[write to console]: =\n",
      "R[write to console]: =\n",
      "R[write to console]: =\n",
      "R[write to console]: =\n",
      "R[write to console]: =\n",
      "R[write to console]: =\n",
      "R[write to console]: =\n",
      "R[write to console]: =\n",
      "R[write to console]: =\n",
      "R[write to console]: =\n",
      "R[write to console]: =\n",
      "R[write to console]: =\n",
      "R[write to console]: =\n",
      "R[write to console]: =\n",
      "R[write to console]: =\n",
      "R[write to console]: =\n",
      "R[write to console]: =\n",
      "R[write to console]: =\n",
      "R[write to console]: =\n",
      "R[write to console]: =\n",
      "R[write to console]: =\n",
      "R[write to console]: =\n",
      "R[write to console]: =\n",
      "R[write to console]: \n",
      "\n",
      "R[write to console]: downloaded 259 KB\n",
      "\n",
      "\n",
      "R[write to console]: \n",
      "\n",
      "R[write to console]: \n",
      "R[write to console]: The downloaded source packages are in\n",
      "\t‘/tmp/Rtmp7c8Ol6/downloaded_packages’\n",
      "R[write to console]: \n",
      "R[write to console]: \n",
      "\n"
     ]
    }
   ],
   "source": [
    "%%R\n",
    "install.packages(c(\"data.table\",\"magrittr\"))\n",
    "# !conda install -c r r-data.table r-magrittr -y"
   ]
  },
  {
   "cell_type": "code",
   "execution_count": 24,
   "metadata": {
    "colab": {
     "base_uri": "https://localhost:8080/"
    },
    "executionInfo": {
     "elapsed": 269635,
     "status": "ok",
     "timestamp": 1618875196564,
     "user": {
      "displayName": "Sanjiv Das",
      "photoUrl": "https://lh3.googleusercontent.com/a-/AOh14GhgUU3RgThSxLUq6NKSN2tDGDl8IQdtHMvdaZPE=s64",
      "userId": "06377870171053566924"
     },
     "user_tz": 420
    },
    "id": "P4Zf7uqCVlXD",
    "outputId": "4c3531c3-9a42-4e8d-9576-c150fd166539"
   },
   "outputs": [
    {
     "name": "stderr",
     "output_type": "stream",
     "text": [
      "R[write to console]: Installing package into ‘/usr/local/lib/R/site-library’\n",
      "(as ‘lib’ is unspecified)\n",
      "\n",
      "R[write to console]: also installing the dependencies ‘iterators’, ‘foreach’, ‘shape’\n",
      "\n",
      "\n",
      "R[write to console]: trying URL 'https://cran.rstudio.com/src/contrib/iterators_1.0.13.tar.gz'\n",
      "\n",
      "R[write to console]: Content type 'application/x-gzip'\n",
      "R[write to console]:  length 288559 bytes (281 KB)\n",
      "\n",
      "R[write to console]: =\n",
      "R[write to console]: =\n",
      "R[write to console]: =\n",
      "R[write to console]: =\n",
      "R[write to console]: =\n",
      "R[write to console]: =\n",
      "R[write to console]: =\n",
      "R[write to console]: =\n",
      "R[write to console]: =\n",
      "R[write to console]: =\n",
      "R[write to console]: =\n",
      "R[write to console]: =\n",
      "R[write to console]: =\n",
      "R[write to console]: =\n",
      "R[write to console]: =\n",
      "R[write to console]: =\n",
      "R[write to console]: =\n",
      "R[write to console]: =\n",
      "R[write to console]: =\n",
      "R[write to console]: =\n",
      "R[write to console]: =\n",
      "R[write to console]: =\n",
      "R[write to console]: =\n",
      "R[write to console]: =\n",
      "R[write to console]: =\n",
      "R[write to console]: =\n",
      "R[write to console]: =\n",
      "R[write to console]: =\n",
      "R[write to console]: =\n",
      "R[write to console]: =\n",
      "R[write to console]: =\n",
      "R[write to console]: =\n",
      "R[write to console]: =\n",
      "R[write to console]: =\n",
      "R[write to console]: =\n",
      "R[write to console]: =\n",
      "R[write to console]: =\n",
      "R[write to console]: =\n",
      "R[write to console]: =\n",
      "R[write to console]: =\n",
      "R[write to console]: =\n",
      "R[write to console]: =\n",
      "R[write to console]: =\n",
      "R[write to console]: =\n",
      "R[write to console]: =\n",
      "R[write to console]: =\n",
      "R[write to console]: =\n",
      "R[write to console]: =\n",
      "R[write to console]: =\n",
      "R[write to console]: =\n",
      "R[write to console]: \n",
      "\n",
      "R[write to console]: downloaded 281 KB\n",
      "\n",
      "\n",
      "R[write to console]: trying URL 'https://cran.rstudio.com/src/contrib/foreach_1.5.1.tar.gz'\n",
      "\n",
      "R[write to console]: Content type 'application/x-gzip'\n",
      "R[write to console]:  length 87352 bytes (85 KB)\n",
      "\n",
      "R[write to console]: =\n",
      "R[write to console]: =\n",
      "R[write to console]: =\n",
      "R[write to console]: =\n",
      "R[write to console]: =\n",
      "R[write to console]: =\n",
      "R[write to console]: =\n",
      "R[write to console]: =\n",
      "R[write to console]: =\n",
      "R[write to console]: =\n",
      "R[write to console]: =\n",
      "R[write to console]: =\n",
      "R[write to console]: =\n",
      "R[write to console]: =\n",
      "R[write to console]: =\n",
      "R[write to console]: =\n",
      "R[write to console]: =\n",
      "R[write to console]: =\n",
      "R[write to console]: =\n",
      "R[write to console]: =\n",
      "R[write to console]: =\n",
      "R[write to console]: =\n",
      "R[write to console]: =\n",
      "R[write to console]: =\n",
      "R[write to console]: =\n",
      "R[write to console]: =\n",
      "R[write to console]: =\n",
      "R[write to console]: =\n",
      "R[write to console]: =\n",
      "R[write to console]: =\n",
      "R[write to console]: =\n",
      "R[write to console]: =\n",
      "R[write to console]: =\n",
      "R[write to console]: =\n",
      "R[write to console]: =\n",
      "R[write to console]: =\n",
      "R[write to console]: =\n",
      "R[write to console]: =\n",
      "R[write to console]: =\n",
      "R[write to console]: =\n",
      "R[write to console]: =\n",
      "R[write to console]: =\n",
      "R[write to console]: =\n",
      "R[write to console]: =\n",
      "R[write to console]: =\n",
      "R[write to console]: =\n",
      "R[write to console]: =\n",
      "R[write to console]: =\n",
      "R[write to console]: =\n",
      "R[write to console]: =\n",
      "R[write to console]: \n",
      "\n",
      "R[write to console]: downloaded 85 KB\n",
      "\n",
      "\n",
      "R[write to console]: trying URL 'https://cran.rstudio.com/src/contrib/shape_1.4.5.tar.gz'\n",
      "\n",
      "R[write to console]: Content type 'application/x-gzip'\n",
      "R[write to console]:  length 686439 bytes (670 KB)\n",
      "\n",
      "R[write to console]: =\n",
      "R[write to console]: =\n",
      "R[write to console]: =\n",
      "R[write to console]: =\n",
      "R[write to console]: =\n",
      "R[write to console]: =\n",
      "R[write to console]: =\n",
      "R[write to console]: =\n",
      "R[write to console]: =\n",
      "R[write to console]: =\n",
      "R[write to console]: =\n",
      "R[write to console]: =\n",
      "R[write to console]: =\n",
      "R[write to console]: =\n",
      "R[write to console]: =\n",
      "R[write to console]: =\n",
      "R[write to console]: =\n",
      "R[write to console]: =\n",
      "R[write to console]: =\n",
      "R[write to console]: =\n",
      "R[write to console]: =\n",
      "R[write to console]: =\n",
      "R[write to console]: =\n",
      "R[write to console]: =\n",
      "R[write to console]: =\n",
      "R[write to console]: =\n",
      "R[write to console]: =\n",
      "R[write to console]: =\n",
      "R[write to console]: =\n",
      "R[write to console]: =\n",
      "R[write to console]: =\n",
      "R[write to console]: =\n",
      "R[write to console]: =\n",
      "R[write to console]: =\n",
      "R[write to console]: =\n",
      "R[write to console]: =\n",
      "R[write to console]: =\n",
      "R[write to console]: =\n",
      "R[write to console]: =\n",
      "R[write to console]: =\n",
      "R[write to console]: =\n",
      "R[write to console]: =\n",
      "R[write to console]: =\n",
      "R[write to console]: =\n",
      "R[write to console]: =\n",
      "R[write to console]: =\n",
      "R[write to console]: =\n",
      "R[write to console]: =\n",
      "R[write to console]: =\n",
      "R[write to console]: =\n",
      "R[write to console]: \n",
      "\n",
      "R[write to console]: downloaded 670 KB\n",
      "\n",
      "\n",
      "R[write to console]: trying URL 'https://cran.rstudio.com/src/contrib/glmnet_4.1-1.tar.gz'\n",
      "\n",
      "R[write to console]: Content type 'application/x-gzip'\n",
      "R[write to console]:  length 2154483 bytes (2.1 MB)\n",
      "\n",
      "R[write to console]: =\n",
      "R[write to console]: =\n",
      "R[write to console]: =\n",
      "R[write to console]: =\n",
      "R[write to console]: =\n",
      "R[write to console]: =\n",
      "R[write to console]: =\n",
      "R[write to console]: =\n",
      "R[write to console]: =\n",
      "R[write to console]: =\n",
      "R[write to console]: =\n",
      "R[write to console]: =\n",
      "R[write to console]: =\n",
      "R[write to console]: =\n",
      "R[write to console]: =\n",
      "R[write to console]: =\n",
      "R[write to console]: =\n",
      "R[write to console]: =\n",
      "R[write to console]: =\n",
      "R[write to console]: =\n",
      "R[write to console]: =\n",
      "R[write to console]: =\n",
      "R[write to console]: =\n",
      "R[write to console]: =\n",
      "R[write to console]: =\n",
      "R[write to console]: =\n",
      "R[write to console]: =\n",
      "R[write to console]: =\n",
      "R[write to console]: =\n",
      "R[write to console]: =\n",
      "R[write to console]: =\n",
      "R[write to console]: =\n",
      "R[write to console]: =\n",
      "R[write to console]: =\n",
      "R[write to console]: =\n",
      "R[write to console]: =\n",
      "R[write to console]: =\n",
      "R[write to console]: =\n",
      "R[write to console]: =\n",
      "R[write to console]: =\n",
      "R[write to console]: =\n",
      "R[write to console]: =\n",
      "R[write to console]: =\n",
      "R[write to console]: =\n",
      "R[write to console]: =\n",
      "R[write to console]: =\n",
      "R[write to console]: =\n",
      "R[write to console]: =\n",
      "R[write to console]: =\n",
      "R[write to console]: =\n",
      "R[write to console]: \n",
      "\n",
      "R[write to console]: downloaded 2.1 MB\n",
      "\n",
      "\n",
      "R[write to console]: \n",
      "\n",
      "R[write to console]: \n",
      "R[write to console]: The downloaded source packages are in\n",
      "\t‘/tmp/Rtmp7c8Ol6/downloaded_packages’\n",
      "R[write to console]: \n",
      "R[write to console]: \n",
      "\n"
     ]
    }
   ],
   "source": [
    "%%R\n",
    "install.packages(\"glmnet\")\n",
    "# !conda install -c conda-forge glmnet -y"
   ]
  },
  {
   "cell_type": "code",
   "execution_count": 25,
   "metadata": {
    "colab": {
     "base_uri": "https://localhost:8080/"
    },
    "executionInfo": {
     "elapsed": 271053,
     "status": "ok",
     "timestamp": 1618875197992,
     "user": {
      "displayName": "Sanjiv Das",
      "photoUrl": "https://lh3.googleusercontent.com/a-/AOh14GhgUU3RgThSxLUq6NKSN2tDGDl8IQdtHMvdaZPE=s64",
      "userId": "06377870171053566924"
     },
     "user_tz": 420
    },
    "id": "1UM43cQ3VlXG",
    "outputId": "cd9e73d8-77af-4493-e961-5098978a6ae1"
   },
   "outputs": [
    {
     "name": "stderr",
     "output_type": "stream",
     "text": [
      "R[write to console]: data.table 1.14.0 using 1 threads (see ?getDTthreads).  Latest news: r-datatable.com\n",
      "\n"
     ]
    }
   ],
   "source": [
    "%%R\n",
    "library(text2vec)\n",
    "library(data.table)"
   ]
  },
  {
   "cell_type": "code",
   "execution_count": 26,
   "metadata": {
    "colab": {
     "base_uri": "https://localhost:8080/"
    },
    "executionInfo": {
     "elapsed": 271254,
     "status": "ok",
     "timestamp": 1618875198205,
     "user": {
      "displayName": "Sanjiv Das",
      "photoUrl": "https://lh3.googleusercontent.com/a-/AOh14GhgUU3RgThSxLUq6NKSN2tDGDl8IQdtHMvdaZPE=s64",
      "userId": "06377870171053566924"
     },
     "user_tz": 420
    },
    "id": "OV4iPf3VVlXI",
    "outputId": "601236db-e8ec-4055-86eb-0474c7b74f27",
    "scrolled": true
   },
   "outputs": [
    {
     "name": "stdout",
     "output_type": "stream",
     "text": [
      "         id sentiment\n",
      "1:   6748_8         1\n",
      "2:   1294_7         1\n",
      "3: 11206_10         1\n",
      "4:  1217_10         1\n",
      "5:  10395_8         1\n",
      "6:   6531_8         1\n",
      "                                                                                                                                                                                                                                                                                                                                                                                                                                                                                                                                                                                                                                                                                                                                                                                                                                                                                                                                                                                                                                                                                                                                                                                                                                                                                                                                                                                                                                                                                                                                                                                                                                                                                                                                                                                                                                                                                                                                                                                                                                                                                                                                                                                                                                                                                                                                                                                                                                                                                                                                                                                                                                                                                                                                                                                                                                                                                                                                                                                                                                                                                                                                                                                                                                                                                                                                                                                                                                                                                                                                                                                                                                                                                                                                                                                                                                         review\n",
      "1: New York police detective Mark Dixon (Dana Andrews) is a guy who has to deal with his own demons on a daily basis at the same time as coping with the normal ups and downs of everyday life. The strain produced by his internal struggle and his intense hatred of criminals, leads him to make serious errors of judgement and to fail to recognise the need for any code of conduct to be adhered to in his dealings with people on the wrong side of the law. He has a track record of treating suspects and known criminals with gross brutality and this has brought him into conflict with his superior officers who have censured him for the amount of violence he has regularly used. Dixon cannot reconcile these calls for restraint with his own extreme and irrational hatred of all criminals. He is tormented by the fact that his father was a criminal and has been left with a powerful need to live down his father's reputation and to avoid fulfilling the low expectations that many people have of him as a consequence.<br /><br />When a rich Texan is murdered following an evening's gambling run by gangster Tommy Scalise (Gary Merrill), Dixon is assigned to the case. Scalise tells Dixon's superior officer Detective Lieutenant Thomas (Karl Malden) that the victim had been accompanied by Ken Paine (Craig Stevens) and his wife Morgan (Gene Tierney) and that Paine had committed the murder. Dixon goes to Paine's apartment and questions the suspect who is both inebriated and uncooperative and when Paine punches him, Dixon retaliates and Paine collapses and dies. Dixon goes on to dispose of the body in a nearby river. Paine's wife is questioned and after describing what had happened at Scalise's place, adds that her father had gone to Paine's apartment later that night to take issue with him about the fact that she'd returned home with facial bruising. Paine had previously attacked her on a number of occasions and her father, Jiggs Taylor (Tom Tully), had threatened that if it happened again he would beat Paine up. This information leads to Taylor being arrested and charged with murder. Nobody accepts Dixon's explanation that Scalise had killed the Texan and then had Paine killed to eliminate him as a witness.<br /><br />Dixon continues to make various attempts to get Scalise convicted but eventually realises that the only way to successfully achieve his goal is to write a confession about his own role in Paine's death and the cover up. He does this and also records that he is going alone to confront Scalise so that the police can arrest the gangster for Dixon's murder. The confrontation with Scalise and the eventual means by which Dixon achieves his own redemption, provide a tense and fitting conclusion to this gritty thriller.<br /><br />Dana Andrews' strained and preoccupied expressions convey his character's perpetually troubled nature and his anxieties as he deals with a series of misfortunes which include and follow Paine's accidental death. Dixon, however, isn't the only one to experience misfortune as Morgan, a successful model loses her job because of all the trouble surrounding her. Her father, who'd some years earlier been awarded a diploma for assisting the police, unjustly finds himself charged with a crime he did not commit. Ken Paine who'd been a war hero had experienced unemployment and a loss of self esteem which led to alcoholism and wife beating and Scalise who'd been set up in business by Dixon's father also suffers his own misfortunes.<br /><br />\\\\\"Where The Sidewalk Ends\\\\\" is a thoroughly engaging tale involving a group of interesting and diverse characters and a main protagonist who is the absolute personification of moral ambiguity.\n",
      "2:                                                                                                                                                                                                                                                                                                                                                                                                                                                                                                                                                                                                                                                                                                                                                                                                                                                                                                                                                                                                                                                                                                                                                                                                                                                                                                                                                                                                                                                                                                                                                                                                                                                                                                                                                                                                                                                                                                                                                                                                                                                                                                                                                                                                                                                                                                                                                                                                                                                                                                                                                                                                                                                                                                                                                                                                                                                                                                                                                                                                                                                                                                                                                                                                                                                                                                                                                  Unremittingly bleak and depressing, the film evokes as well as could be desired the legendary misery and emptiness that characterised Houellebecq's controversial novel of the same name. Like many French films, its manner is one of wistful profundity but it is painfully slow - or should that be, slowly painful? While this is an excellent and challenging film, it is not an enjoyable one and its difficult to think of any time when one might be in the 'right' mood to see it.\n",
      "3:                                                                                                                                                                                                                                                                                                                                                                                                                                                                                                                                                                                                                                                                                                                                                                                                                                                                                                                                                                                                                                                                                                                                                                                                                                                                                                                                                                                                                                                                                                                                                                                                                                                                                                                                                                                                                                                                                                                                                                                                                                                                                                                                                                                                                                                                                                                                                                                                                                                                                                                                                                                                                                                                                                                                                                                                                                                                                                                                                                                                                                                                                                                                                     I have not seen this movie! At least not in its entirety. I have seen a few haunting clips which have left me gagging to see it all. One sequence remains in my memory to this day. A (very convincing looking) spacecraft is orbiting the dark side of the moon. The pilot releases a flash device in order to photograph the hidden surface below him. The moon flashes into visability . . . . and for a few seconds there it is. Parallel lines, squares, Could it be .. then the light fades and the brief glimse of ...what... has gone and it is time for the spacecraft to return to Earth. Wonderful. I have seen some other clips too but would LOVE to obtain the full movie.\n",
      "4:                                                                                                                                                                                                                                                                                                                                                                                                                                                                                                                                                                                                                                                                                                                                                                                                                                                                                                                                                                                                                                                                                                                                                                                                                                                                                                                                                                                                                                                                                                                                                                                                                                                                                                                                                                                                                                                                                                                                                                                                                                                                                                                                                                                                                                                                                                                                                                                                                                                                                                                                                                                                                                                                                                                                                                                                                                                                                                                                                                                                                                                                                                       I was worried that my daughter might get the wrong idea. I think the \\\\\"Dark-Heart\\\\\" character is a little on the rough side and I don't like the way he shape-shifts into a \\\\\"mean\\\\\" frog, fox, boy I was wrong, This movie was made for my kid, not for me. She \\\\\"gets it\\\\\" when it went over (under?) my head. Of course I don't \\\\\"get it\\\\\". This isn't one of the NEW kids movies that adults will ALSO enjoy. This is straight for the young ones, and the crew knew what they were doing. There isn't any political junk ether. There's no magic key that will save the world from ourselves, nobody has the right to access excess, and everyone isn't happy all the time. And as a side benefit, nobody DIES! russwill.\n",
      "5:                                                                                                                                                                                                                                                                                                                                                                                                                                                                                                                                                                                                                                                                                                                                                                                                                                                                                                                                                                                                                                                                                                                                                                                                                                                                                                                                                                                                                                                                                                                                                                                                                                                                                                                                                                                                                                                                                                                                                                                                                                                                                                                                                                                                                                                                                                                                                                                                                                    A fantastic Arabian adventure. A former king, Ahmad, and his best friend, the thief Abu (played by Sabu of Black Narcissus) search for Ahmad's love interest, who has been stolen by the new king, Jaffar (Conrad Veidt). There's hardly a down moment here. It's always inventing new adventures for the heroes. Personally, I found Ahmad and his princess a little boring (there's no need to ask why John Justin, who plays Ahmad, is listed fourth in the credits). Conrad Veidt, always a fun actor, makes a great villain, and Sabu is a lot of fun as the prince of thieves, who at one point finds a genie in a bottle. I also really loved Miles Malleson as the Sultan of Basra, the father of the princess. He collects amazing toys from around the world. Jaffar bribes him for his daughter's hand with a mechanical flying horse. This probably would count as one of the great children's films of all time, but the special effects are horribly dated nowadays. Kids will certainly deride the superimposed images when Abu and the genie are on screen together. And the scene with the giant spider looks especially awful. Although most of the younger generation probably thinks that King Kong looks bad at this point in time, Willis O'Brien's stop-motion animation is a thousand times better than a puppet on a string that doesn't even look remotely like a spider. 8/10.\n",
      "6:                                                                                                                                                                                                                                                                                                                                                                                                                                                                                                                                                                                                                                                                                                                                                                                                                                                                                                                                                                                                                                                                                                                                                                                                                                                                                                                                                                                                                                                                                                                                                                                                                                                                                                                                                                                                                                                                                                                                                                                                                                                                                                                                                                                                                                                                                                                                                                                                                                                                                                                                                                                                                                                                                                                                                                                                                                                                                                                                                                                                                                                                                                                     I really liked this movie...it was cute. I enjoyed it, but if you didn't, that is your fault. Emma Roberts played a good Nancy Drew, even though she isn't quite like the books. The old fashion outfits are weird when you see them in modern times, but she looks good on them. To me, the rich girls didn't have outfits that made them look rich. I mean, it looks like they got all the clothes -blindfolded- at a garage sale and just decided to put it on all together. All of the outfits were tacky, especially when they wore the penny loafers with their regular outfits. I do not want to make the movie look bad, because it definitely wasn't! Just go to the theater and watch it!!! You will enjoy it!\n"
     ]
    }
   ],
   "source": [
    "%%R\n",
    "data(\"movie_review\")\n",
    "setDT(movie_review)\n",
    "setkey(movie_review, id)\n",
    "set.seed(2016L)\n",
    "all_ids = movie_review$id\n",
    "train_ids = sample(all_ids, 4000)\n",
    "test_ids = setdiff(all_ids, train_ids)\n",
    "train = movie_review[J(train_ids)]\n",
    "test = movie_review[J(test_ids)]\n",
    "\n",
    "print(head(train))"
   ]
  },
  {
   "cell_type": "code",
   "execution_count": 27,
   "metadata": {
    "executionInfo": {
     "elapsed": 271845,
     "status": "ok",
     "timestamp": 1618875198799,
     "user": {
      "displayName": "Sanjiv Das",
      "photoUrl": "https://lh3.googleusercontent.com/a-/AOh14GhgUU3RgThSxLUq6NKSN2tDGDl8IQdtHMvdaZPE=s64",
      "userId": "06377870171053566924"
     },
     "user_tz": 420
    },
    "id": "Qkk6Ed76Hjee"
   },
   "outputs": [],
   "source": [
    "%%R\n",
    "# Get from R into python, through csv file\n",
    "write.csv(movie_review, \"NLP_data/movie_review.csv\", row.names=FALSE)"
   ]
  },
  {
   "cell_type": "code",
   "execution_count": 28,
   "metadata": {
    "colab": {
     "base_uri": "https://localhost:8080/",
     "height": 203
    },
    "executionInfo": {
     "elapsed": 272029,
     "status": "ok",
     "timestamp": 1618875198996,
     "user": {
      "displayName": "Sanjiv Das",
      "photoUrl": "https://lh3.googleusercontent.com/a-/AOh14GhgUU3RgThSxLUq6NKSN2tDGDl8IQdtHMvdaZPE=s64",
      "userId": "06377870171053566924"
     },
     "user_tz": 420
    },
    "id": "9_LUVqWCHjeh",
    "outputId": "8640ce06-5f7b-413f-bc99-5abf4a0e7ea9"
   },
   "outputs": [
    {
     "data": {
      "text/html": [
       "<div>\n",
       "<style scoped>\n",
       "    .dataframe tbody tr th:only-of-type {\n",
       "        vertical-align: middle;\n",
       "    }\n",
       "\n",
       "    .dataframe tbody tr th {\n",
       "        vertical-align: top;\n",
       "    }\n",
       "\n",
       "    .dataframe thead th {\n",
       "        text-align: right;\n",
       "    }\n",
       "</style>\n",
       "<table border=\"1\" class=\"dataframe\">\n",
       "  <thead>\n",
       "    <tr style=\"text-align: right;\">\n",
       "      <th></th>\n",
       "      <th>id</th>\n",
       "      <th>sentiment</th>\n",
       "      <th>review</th>\n",
       "    </tr>\n",
       "  </thead>\n",
       "  <tbody>\n",
       "    <tr>\n",
       "      <th>0</th>\n",
       "      <td>10000_8</td>\n",
       "      <td>1</td>\n",
       "      <td>Homelessness (or Houselessness as George Carli...</td>\n",
       "    </tr>\n",
       "    <tr>\n",
       "      <th>1</th>\n",
       "      <td>10001_4</td>\n",
       "      <td>0</td>\n",
       "      <td>This film lacked something I couldn't put my f...</td>\n",
       "    </tr>\n",
       "    <tr>\n",
       "      <th>2</th>\n",
       "      <td>10004_3</td>\n",
       "      <td>0</td>\n",
       "      <td>\\\"It appears that many critics find the idea o...</td>\n",
       "    </tr>\n",
       "    <tr>\n",
       "      <th>3</th>\n",
       "      <td>10004_8</td>\n",
       "      <td>1</td>\n",
       "      <td>This isn't the comedic Robin Williams, nor is ...</td>\n",
       "    </tr>\n",
       "    <tr>\n",
       "      <th>4</th>\n",
       "      <td>10006_4</td>\n",
       "      <td>0</td>\n",
       "      <td>I don't know who to blame, the timid writers o...</td>\n",
       "    </tr>\n",
       "  </tbody>\n",
       "</table>\n",
       "</div>"
      ],
      "text/plain": [
       "        id  sentiment                                             review\n",
       "0  10000_8          1  Homelessness (or Houselessness as George Carli...\n",
       "1  10001_4          0  This film lacked something I couldn't put my f...\n",
       "2  10004_3          0  \\\"It appears that many critics find the idea o...\n",
       "3  10004_8          1  This isn't the comedic Robin Williams, nor is ...\n",
       "4  10006_4          0  I don't know who to blame, the timid writers o..."
      ]
     },
     "execution_count": 28,
     "metadata": {
      "tags": []
     },
     "output_type": "execute_result"
    }
   ],
   "source": [
    "mr = pd.read_csv(\"NLP_data/movie_review.csv\")\n",
    "mr.head()"
   ]
  },
  {
   "cell_type": "code",
   "execution_count": 29,
   "metadata": {
    "colab": {
     "base_uri": "https://localhost:8080/"
    },
    "executionInfo": {
     "elapsed": 273065,
     "status": "ok",
     "timestamp": 1618875200043,
     "user": {
      "displayName": "Sanjiv Das",
      "photoUrl": "https://lh3.googleusercontent.com/a-/AOh14GhgUU3RgThSxLUq6NKSN2tDGDl8IQdtHMvdaZPE=s64",
      "userId": "06377870171053566924"
     },
     "user_tz": 420
    },
    "id": "5jRjRkpOVlXL",
    "outputId": "90ffe9a2-db39-4231-d539-cba8bdde5bf6"
   },
   "outputs": [
    {
     "name": "stdout",
     "output_type": "stream",
     "text": [
      "Number of docs: 4000 \n",
      "0 stopwords:  ... \n",
      "ngram_min = 1; ngram_max = 1 \n",
      "Vocabulary: \n",
      "       term term_count doc_count\n",
      "    1: 0.02          1         1\n",
      "    2:  0.3          1         1\n",
      "    3: 0.48          1         1\n",
      "    4:  0.5          1         1\n",
      "    5: 0.89          1         1\n",
      "   ---                          \n",
      "38457:   to      22238      3792\n",
      "38458:   of      23604      3787\n",
      "38459:    a      26609      3876\n",
      "38460:  and      26950      3863\n",
      "38461:  the      54281      3971\n"
     ]
    }
   ],
   "source": [
    "%%R\n",
    "prep_fun = tolower\n",
    "tok_fun = word_tokenizer\n",
    "\n",
    "#Create an iterator to pass to the create_vocabulary function\n",
    "it_train = itoken(train$review, \n",
    "             preprocessor = prep_fun, \n",
    "             tokenizer = tok_fun, \n",
    "             ids = train$id, \n",
    "             progressbar = FALSE)\n",
    "\n",
    "#Now create a vocabulary\n",
    "vocab = create_vocabulary(it_train)\n",
    "print(vocab)"
   ]
  },
  {
   "cell_type": "code",
   "execution_count": 30,
   "metadata": {
    "colab": {
     "base_uri": "https://localhost:8080/"
    },
    "executionInfo": {
     "elapsed": 277007,
     "status": "ok",
     "timestamp": 1618875204001,
     "user": {
      "displayName": "Sanjiv Das",
      "photoUrl": "https://lh3.googleusercontent.com/a-/AOh14GhgUU3RgThSxLUq6NKSN2tDGDl8IQdtHMvdaZPE=s64",
      "userId": "06377870171053566924"
     },
     "user_tz": 420
    },
    "id": "LXjSp4SlVlXO",
    "outputId": "aef5cc0a-890c-40a5-93ca-26a5d48c7524"
   },
   "outputs": [
    {
     "name": "stdout",
     "output_type": "stream",
     "text": [
      "[1]  4000 38461\n",
      "Number of docs: 4000 \n",
      "0 stopwords:  ... \n",
      "ngram_min = 1; ngram_max = 2 \n",
      "Vocabulary: \n",
      "            term term_count doc_count\n",
      "     1:     0.02          1         1\n",
      "     2: 0.02_out          1         1\n",
      "     3:   0.0_10          1         1\n",
      "     4: 0.0_it's          1         1\n",
      "     5:      0.3          1         1\n",
      "    ---                              \n",
      "406974:       to      22238      3792\n",
      "406975:       of      23604      3787\n",
      "406976:        a      26609      3876\n",
      "406977:      and      26950      3863\n",
      "406978:      the      54281      3971\n"
     ]
    }
   ],
   "source": [
    "%%R\n",
    "vectorizer = vocab_vectorizer(vocab)\n",
    "dtm_train = create_dtm(it_train, vectorizer)\n",
    "print(dim(as.matrix(dtm_train)))\n",
    "vocab = create_vocabulary(it_train, ngram = c(1, 2))\n",
    "print(vocab)"
   ]
  },
  {
   "cell_type": "code",
   "execution_count": 31,
   "metadata": {
    "colab": {
     "base_uri": "https://localhost:8080/"
    },
    "executionInfo": {
     "elapsed": 276996,
     "status": "ok",
     "timestamp": 1618875204005,
     "user": {
      "displayName": "Sanjiv Das",
      "photoUrl": "https://lh3.googleusercontent.com/a-/AOh14GhgUU3RgThSxLUq6NKSN2tDGDl8IQdtHMvdaZPE=s64",
      "userId": "06377870171053566924"
     },
     "user_tz": 420
    },
    "id": "Du8TXvkdVlXR",
    "outputId": "ff274096-ab1a-456c-85cc-94c22941574f"
   },
   "outputs": [
    {
     "name": "stderr",
     "output_type": "stream",
     "text": [
      "R[write to console]: Loading required package: Matrix\n",
      "\n",
      "R[write to console]: Loaded glmnet 4.1-1\n",
      "\n"
     ]
    },
    {
     "name": "stdout",
     "output_type": "stream",
     "text": [
      "Number of docs: 4000 \n",
      "0 stopwords:  ... \n",
      "ngram_min = 1; ngram_max = 2 \n",
      "Vocabulary: \n",
      "         term term_count doc_count\n",
      "    1:   1948         10         9\n",
      "    2:   1951         10         9\n",
      "    3:   1966         10         6\n",
      "    4: 1970_s         10         9\n",
      "    5:   1977         10        10\n",
      "   ---                            \n",
      "17700:   like       3374      1920\n",
      "17701:   they       3403      1642\n",
      "17702:     by       3642      1885\n",
      "17703:     he       4240      1571\n",
      "17704:    his       4688      1721\n"
     ]
    }
   ],
   "source": [
    "%%R\n",
    "library(glmnet)\n",
    "library(magrittr)\n",
    "NFOLDS = 5\n",
    "\n",
    "vocab2 = vocab %>% prune_vocabulary(term_count_min = 10, \n",
    "                   doc_proportion_max = 0.5) \n",
    "print(vocab2)"
   ]
  },
  {
   "cell_type": "code",
   "execution_count": 32,
   "metadata": {
    "colab": {
     "base_uri": "https://localhost:8080/",
     "height": 497
    },
    "executionInfo": {
     "elapsed": 283465,
     "status": "ok",
     "timestamp": 1618875210490,
     "user": {
      "displayName": "Sanjiv Das",
      "photoUrl": "https://lh3.googleusercontent.com/a-/AOh14GhgUU3RgThSxLUq6NKSN2tDGDl8IQdtHMvdaZPE=s64",
      "userId": "06377870171053566924"
     },
     "user_tz": 420
    },
    "id": "zKK9ktVkVlXU",
    "outputId": "572663e0-0e8f-464b-d48a-5e31b962c416"
   },
   "outputs": [
    {
     "data": {
      "image/png": "[encoded data removed]"
     },
     "metadata": {
      "tags": []
     },
     "output_type": "display_data"
    }
   ],
   "source": [
    "%%R\n",
    "bigram_vectorizer = vocab_vectorizer(vocab2)\n",
    "dtm_train = create_dtm(it_train, bigram_vectorizer)\n",
    "res = cv.glmnet(x = dtm_train, y = train[['sentiment']], \n",
    "                 family = 'binomial', \n",
    "                 alpha = 1,\n",
    "                 type.measure = \"auc\",\n",
    "                 nfolds = NFOLDS,\n",
    "                 thresh = 1e-3,\n",
    "                 maxit = 1e3) \n",
    "plot(res)\n"
   ]
  },
  {
   "cell_type": "code",
   "execution_count": 33,
   "metadata": {
    "colab": {
     "base_uri": "https://localhost:8080/"
    },
    "executionInfo": {
     "elapsed": 283453,
     "status": "ok",
     "timestamp": 1618875210492,
     "user": {
      "displayName": "Sanjiv Das",
      "photoUrl": "https://lh3.googleusercontent.com/a-/AOh14GhgUU3RgThSxLUq6NKSN2tDGDl8IQdtHMvdaZPE=s64",
      "userId": "06377870171053566924"
     },
     "user_tz": 420
    },
    "id": "nkpbiyJZVlXW",
    "outputId": "51d58a5d-397b-4f51-df91-ba7dea04c8ca"
   },
   "outputs": [
    {
     "name": "stdout",
     "output_type": "stream",
     "text": [
      " [1] \"lambda\"     \"cvm\"        \"cvsd\"       \"cvup\"       \"cvlo\"      \n",
      " [6] \"nzero\"      \"call\"       \"name\"       \"glmnet.fit\" \"lambda.min\"\n",
      "[11] \"lambda.1se\" \"index\"     \n",
      "AUC (area under curve):[1] 0.9179888\n"
     ]
    }
   ],
   "source": [
    "%%R\n",
    "print(names(res))\n",
    "cat(\"AUC (area under curve):\")\n",
    "print(max(res$cvm))"
   ]
  },
  {
   "cell_type": "code",
   "execution_count": 34,
   "metadata": {
    "colab": {
     "base_uri": "https://localhost:8080/"
    },
    "executionInfo": {
     "elapsed": 283699,
     "status": "ok",
     "timestamp": 1618875210753,
     "user": {
      "displayName": "Sanjiv Das",
      "photoUrl": "https://lh3.googleusercontent.com/a-/AOh14GhgUU3RgThSxLUq6NKSN2tDGDl8IQdtHMvdaZPE=s64",
      "userId": "06377870171053566924"
     },
     "user_tz": 420
    },
    "id": "UOnIZuSCVlXa",
    "outputId": "9685bae1-ba0f-4ac3-95cb-e29568eff8b2"
   },
   "outputs": [
    {
     "name": "stdout",
     "output_type": "stream",
     "text": [
      "[1] 0.9164907\n"
     ]
    }
   ],
   "source": [
    "%%R\n",
    "#Out-of-sample test\n",
    "it_test = test$review %>% \n",
    "  prep_fun %>% \n",
    "  tok_fun %>% \n",
    "  itoken(ids = test$id, \n",
    "         # turn off progressbar because it won't look nice in rmd\n",
    "         progressbar = FALSE)\n",
    "\n",
    "dtm_test = create_dtm(it_test, bigram_vectorizer)\n",
    "preds = predict(res, dtm_test, type = 'response')[,1]\n",
    "glmnet:::auc(test$sentiment, preds)"
   ]
  },
  {
   "cell_type": "code",
   "execution_count": 35,
   "metadata": {
    "colab": {
     "base_uri": "https://localhost:8080/"
    },
    "executionInfo": {
     "elapsed": 285054,
     "status": "ok",
     "timestamp": 1618875212123,
     "user": {
      "displayName": "Sanjiv Das",
      "photoUrl": "https://lh3.googleusercontent.com/a-/AOh14GhgUU3RgThSxLUq6NKSN2tDGDl8IQdtHMvdaZPE=s64",
      "userId": "06377870171053566924"
     },
     "user_tz": 420
    },
    "id": "3kwp96GDVlXd",
    "outputId": "cbe9eaa6-e5b8-4228-b8f2-7e56b2aaf096"
   },
   "outputs": [
    {
     "name": "stdout",
     "output_type": "stream",
     "text": [
      " [1] \"a0\"         \"beta\"       \"df\"         \"dim\"        \"lambda\"    \n",
      " [6] \"dev.ratio\"  \"nulldev\"    \"npasses\"    \"jerr\"       \"offset\"    \n",
      "[11] \"classnames\" \"call\"       \"nobs\"      \n",
      "\n",
      "Call:  glmnet(x = dtm_train, y = train[[\"sentiment\"]], family = \"binomial\",      alpha = 1, thresh = 0.001, maxit = 1000) \n",
      "\n",
      "      Df  %Dev   Lambda\n",
      "1      0  0.00 0.130300\n",
      "2      1  0.44 0.124400\n",
      "3      1  0.83 0.118700\n",
      "4      2  1.25 0.113300\n",
      "5      2  1.78 0.108200\n",
      "6      3  2.32 0.103300\n",
      "7      3  3.05 0.098570\n",
      "8      3  3.71 0.094090\n",
      "9      3  4.33 0.089820\n",
      "10     4  5.04 0.085740\n",
      "11     5  5.79 0.081840\n",
      "12     6  6.63 0.078120\n",
      "13     6  7.42 0.074570\n",
      "14     7  8.26 0.071180\n",
      "15     7  9.05 0.067940\n",
      "16     9  9.95 0.064860\n",
      "17    11 10.85 0.061910\n",
      "18    12 11.76 0.059090\n",
      "19    14 12.75 0.056410\n",
      "20    17 13.74 0.053840\n",
      "21    22 14.81 0.051400\n",
      "22    24 15.94 0.049060\n",
      "23    26 17.03 0.046830\n",
      "24    26 18.11 0.044700\n",
      "25    35 19.23 0.042670\n",
      "26    37 20.35 0.040730\n",
      "27    43 21.51 0.038880\n",
      "28    49 22.70 0.037110\n",
      "29    55 23.89 0.035430\n",
      "30    62 25.10 0.033820\n",
      "31    68 26.32 0.032280\n",
      "32    74 27.56 0.030810\n",
      "33    78 28.77 0.029410\n",
      "34    87 29.96 0.028070\n",
      "35   101 31.18 0.026800\n",
      "36   112 32.40 0.025580\n",
      "37   123 33.63 0.024420\n",
      "38   139 34.90 0.023310\n",
      "39   158 36.19 0.022250\n",
      "40   176 37.50 0.021240\n",
      "41   193 38.83 0.020270\n",
      "42   213 40.18 0.019350\n",
      "43   230 41.54 0.018470\n",
      "44   265 42.92 0.017630\n",
      "45   286 44.32 0.016830\n",
      "46   305 45.74 0.016070\n",
      "47   336 47.16 0.015340\n",
      "48   369 48.61 0.014640\n",
      "49   410 50.07 0.013970\n",
      "50   456 51.56 0.013340\n",
      "51   484 53.06 0.012730\n",
      "52   513 54.54 0.012150\n",
      "53   553 56.01 0.011600\n",
      "54   582 57.46 0.011070\n",
      "55   630 58.88 0.010570\n",
      "56   671 60.30 0.010090\n",
      "57   714 61.70 0.009631\n",
      "58   768 63.08 0.009193\n",
      "59   814 64.44 0.008775\n",
      "60   851 65.78 0.008376\n",
      "61   886 67.10 0.007996\n",
      "62   922 68.39 0.007632\n",
      "63   962 69.65 0.007285\n",
      "64   991 70.87 0.006954\n",
      "65  1041 72.07 0.006638\n",
      "66  1069 73.23 0.006336\n",
      "67  1095 74.35 0.006048\n",
      "68  1129 75.44 0.005774\n",
      "69  1168 76.49 0.005511\n",
      "70  1194 77.49 0.005261\n",
      "71  1223 78.46 0.005022\n",
      "72  1253 79.40 0.004793\n",
      "73  1281 80.30 0.004575\n",
      "74  1311 81.16 0.004367\n",
      "75  1338 82.00 0.004169\n",
      "76  1354 82.79 0.003979\n",
      "77  1377 83.56 0.003799\n",
      "78  1391 84.29 0.003626\n",
      "79  1414 84.99 0.003461\n",
      "80  1445 85.67 0.003304\n",
      "81  1465 86.31 0.003154\n",
      "82  1485 86.93 0.003010\n",
      "83  1507 87.52 0.002874\n",
      "84  1529 88.09 0.002743\n",
      "85  1548 88.63 0.002618\n",
      "86  1570 89.15 0.002499\n",
      "87  1595 89.64 0.002386\n",
      "88  1613 90.12 0.002277\n",
      "89  1631 90.57 0.002174\n",
      "90  1648 91.00 0.002075\n",
      "91  1669 91.42 0.001981\n",
      "92  1680 91.81 0.001891\n",
      "93  1691 92.19 0.001805\n",
      "94  1703 92.55 0.001723\n",
      "95  1714 92.89 0.001644\n",
      "96  1719 93.21 0.001570\n",
      "97  1726 93.52 0.001498\n",
      "98  1741 93.82 0.001430\n",
      "99  1755 94.10 0.001365\n",
      "100 1763 94.37 0.001303\n"
     ]
    }
   ],
   "source": [
    "%%R\n",
    "res = glmnet(x = dtm_train, \n",
    "             y = train[['sentiment']], \n",
    "             family = 'binomial', \n",
    "             alpha = 1,\n",
    "             thresh = 1e-3,\n",
    "             maxit = 1e3) \n",
    "             \n",
    "print(names(res))\n",
    "print(res)"
   ]
  },
  {
   "cell_type": "code",
   "execution_count": 36,
   "metadata": {
    "colab": {
     "base_uri": "https://localhost:8080/"
    },
    "executionInfo": {
     "elapsed": 285657,
     "status": "ok",
     "timestamp": 1618875212740,
     "user": {
      "displayName": "Sanjiv Das",
      "photoUrl": "https://lh3.googleusercontent.com/a-/AOh14GhgUU3RgThSxLUq6NKSN2tDGDl8IQdtHMvdaZPE=s64",
      "userId": "06377870171053566924"
     },
     "user_tz": 420
    },
    "id": "79SphoSsVlXg",
    "outputId": "47b50408-bd7f-4a39-eaaf-d5ff29ba8fb2"
   },
   "outputs": [
    {
     "name": "stdout",
     "output_type": "stream",
     "text": [
      "  [1] \"7_10\"             \"br_4\"             \"4_10\"            \n",
      "  [4] \"well_worth\"       \"top_notch\"        \"8_10\"            \n",
      "  [7] \"loved_it\"         \"not_worth\"        \"wonderfully\"     \n",
      " [10] \"avoid_this\"       \"at_best\"          \"sit_through\"     \n",
      " [13] \"outstanding\"      \"highly_recommend\" \"disappointment\"  \n",
      " [16] \"gem\"              \"a_must\"           \"disappointing\"   \n",
      " [19] \"laughable\"        \"garbage\"          \"wasted\"          \n",
      " [22] \"masterpiece\"      \"fails\"            \"pointless\"       \n",
      " [25] \"mess\"             \"poorly\"           \"lame\"            \n",
      " [28] \"badly\"            \"7\"                \"not_even\"        \n",
      " [31] \"unless\"           \"powerful\"         \"perfectly\"       \n",
      " [34] \"predictable\"      \"enjoyable\"        \"very_well\"       \n",
      " [37] \"8\"                \"fantastic\"        \"watching_this\"   \n",
      " [40] \"dull\"             \"today\"            \"annoying\"        \n",
      " [43] \"crap\"             \"simple\"           \"horrible\"        \n",
      " [46] \"amazing\"          \"favorite\"         \"highly\"          \n",
      " [49] \"enjoyed\"          \"oh\"               \"sometimes\"       \n",
      " [52] \"works\"            \"waste\"            \"loved\"           \n",
      " [55] \"perfect\"          \"worse\"            \"supposed\"        \n",
      " [58] \"boring\"           \"terrible\"         \"wonderful\"       \n",
      " [61] \"the_rest\"         \"stupid\"           \"could_have\"      \n",
      " [64] \"awful\"            \"half\"             \"at_all\"          \n",
      " [67] \"poor\"             \"beautiful\"        \"instead\"         \n",
      " [70] \"is_one\"           \"excellent\"        \"each\"            \n",
      " [73] \"at_least\"         \"worst\"            \"fun\"             \n",
      " [76] \"minutes\"          \"script\"           \"both\"            \n",
      " [79] \"the_best\"         \"young\"            \"nothing\"         \n",
      " [82] \"as_the\"           \"life\"             \"love\"            \n",
      " [85] \"best\"             \"plot\"             \"any\"             \n",
      " [88] \"could\"            \"one_of\"           \"don't\"           \n",
      " [91] \"him\"              \"bad\"              \"great\"           \n",
      " [94] \"also\"             \"it_is\"            \"well\"            \n",
      " [97] \"would\"            \"even\"             \"no\"              \n",
      "[100] \"is_a\"             \"very\"            \n"
     ]
    }
   ],
   "source": [
    "%%R\n",
    "f = res$beta[,35]   # feature coefficients\n",
    "non0f = f[which(f!=0)]\n",
    "words = names(non0f)\n",
    "words"
   ]
  },
  {
   "cell_type": "code",
   "execution_count": 37,
   "metadata": {
    "colab": {
     "base_uri": "https://localhost:8080/"
    },
    "executionInfo": {
     "elapsed": 286741,
     "status": "ok",
     "timestamp": 1618875213837,
     "user": {
      "displayName": "Sanjiv Das",
      "photoUrl": "https://lh3.googleusercontent.com/a-/AOh14GhgUU3RgThSxLUq6NKSN2tDGDl8IQdtHMvdaZPE=s64",
      "userId": "06377870171053566924"
     },
     "user_tz": 420
    },
    "id": "bLj4P-0gVlXj",
    "outputId": "ec9cbca9-dd56-41f1-8eab-19d429fc0017",
    "scrolled": true
   },
   "outputs": [
    {
     "name": "stdout",
     "output_type": "stream",
     "text": [
      "            7_10             br_4             4_10       well_worth \n",
      "    0.1737067586     0.1537751268     0.3880592581     0.3721005160 \n",
      "       top_notch             8_10         loved_it        not_worth \n",
      "    0.1157643981     0.1437147773     0.1253946753     0.2077053276 \n",
      "     wonderfully       avoid_this          at_best      sit_through \n",
      "    0.0079554276     0.0036507732     0.0214432289     0.0607129693 \n",
      "     outstanding highly_recommend   disappointment              gem \n",
      "    0.0047577928     0.0988630166     0.0818577013     0.1342509068 \n",
      "          a_must    disappointing        laughable          garbage \n",
      "    0.1715726286     0.1759929451     0.2081529479     0.1119382084 \n",
      "          wasted      masterpiece            fails        pointless \n",
      "    0.3001975715     0.0041195919     0.0058318607     0.1993796540 \n",
      "            mess           poorly             lame            badly \n",
      "    0.2689532511     0.2970575807     0.1526924575     0.3828920102 \n",
      "               7         not_even           unless         powerful \n",
      "    0.0088373081     0.0361185497     0.2174626008     0.0182370456 \n",
      "       perfectly      predictable        enjoyable        very_well \n",
      "    0.2586627696     0.2015641458     0.0005408445     0.0061813889 \n",
      "               8        fantastic    watching_this             dull \n",
      "    0.0231843817     0.0202758204     0.1296938457     0.4398502258 \n",
      "           today         annoying             crap           simple \n",
      "    0.0101171262     0.2076269105     0.1254315225     0.1017981025 \n",
      "        horrible          amazing         favorite           highly \n",
      "    0.1749285318     0.0893412032     0.1761840209     0.2677309675 \n",
      "         enjoyed               oh        sometimes            works \n",
      "    0.0866742982     0.0573299884     0.0130417036     0.0027208958 \n",
      "           waste            loved          perfect            worse \n",
      "    0.8885586751     0.0632260955     0.3187142793     0.4235111169 \n",
      "        supposed           boring         terrible        wonderful \n",
      "    0.1548044670     0.1784309085     0.2657562365     0.2533313569 \n",
      "        the_rest           stupid       could_have            awful \n",
      "    0.0094969159     0.2870561445     0.0752214542     0.5492803509 \n",
      "            half           at_all             poor        beautiful \n",
      "    0.0443046286     0.0788475274     0.5598074983     0.1687722766 \n",
      "         instead           is_one        excellent             each \n",
      "    0.0645239348     0.0062682730     0.4474954042     0.0144275364 \n",
      "        at_least            worst              fun          minutes \n",
      "    0.0528647141     0.8213753489     0.0923106102     0.0443434723 \n",
      "          script             both         the_best            young \n",
      "    0.0985778855     0.0950806449     0.1126035088     0.0138495028 \n",
      "         nothing           as_the             life             love \n",
      "    0.2215979212     0.0234677050     0.1088309270     0.0524184778 \n",
      "            best             plot              any            could \n",
      "    0.1377961400     0.0291256213     0.1053974099     0.0401790143 \n",
      "          one_of            don't              him              bad \n",
      "    0.1274950682     0.0128343286     0.0048012887     0.4182907095 \n",
      "           great             also            it_is             well \n",
      "    0.3300346391     0.0116133244     0.0023719490     0.0332481484 \n",
      "           would             even               no             is_a \n",
      "    0.0176289220     0.0032845980     0.0689067059     0.1087572723 \n",
      "            very \n",
      "    0.0642045123 \n"
     ]
    }
   ],
   "source": [
    "%%R\n",
    "wordcount = abs(non0f)\n",
    "wordcount"
   ]
  },
  {
   "cell_type": "code",
   "execution_count": 38,
   "metadata": {
    "colab": {
     "base_uri": "https://localhost:8080/"
    },
    "executionInfo": {
     "elapsed": 286716,
     "status": "ok",
     "timestamp": 1618875213840,
     "user": {
      "displayName": "Sanjiv Das",
      "photoUrl": "https://lh3.googleusercontent.com/a-/AOh14GhgUU3RgThSxLUq6NKSN2tDGDl8IQdtHMvdaZPE=s64",
      "userId": "06377870171053566924"
     },
     "user_tz": 420
    },
    "id": "zvPlSRqAVlXm",
    "outputId": "37d9a45e-67b7-4870-b618-4c4262a36b93"
   },
   "outputs": [
    {
     "name": "stdout",
     "output_type": "stream",
     "text": [
      "[1] \"term\"       \"term_count\" \"doc_count\" \n"
     ]
    }
   ],
   "source": [
    "%%R\n",
    "print(names(vocab2))\n",
    "all_words = vocab2$term\n",
    "all_term_count = vocab2$term_count\n",
    "all_doc_count = vocab2$doc_count"
   ]
  },
  {
   "cell_type": "code",
   "execution_count": 39,
   "metadata": {
    "executionInfo": {
     "elapsed": 286714,
     "status": "ok",
     "timestamp": 1618875213843,
     "user": {
      "displayName": "Sanjiv Das",
      "photoUrl": "https://lh3.googleusercontent.com/a-/AOh14GhgUU3RgThSxLUq6NKSN2tDGDl8IQdtHMvdaZPE=s64",
      "userId": "06377870171053566924"
     },
     "user_tz": 420
    },
    "id": "EEL8puWeVlXo"
   },
   "outputs": [],
   "source": [
    "words = %Rget words\n",
    "wordcount = %Rget wordcount\n",
    "all_words = %Rget all_words\n",
    "all_term_count = %Rget all_term_count\n",
    "all_doc_count = %Rget all_doc_count"
   ]
  },
  {
   "cell_type": "code",
   "execution_count": 40,
   "metadata": {
    "executionInfo": {
     "elapsed": 286716,
     "status": "ok",
     "timestamp": 1618875213851,
     "user": {
      "displayName": "Sanjiv Das",
      "photoUrl": "https://lh3.googleusercontent.com/a-/AOh14GhgUU3RgThSxLUq6NKSN2tDGDl8IQdtHMvdaZPE=s64",
      "userId": "06377870171053566924"
     },
     "user_tz": 420
    },
    "id": "5rJ7VMX-VlXr"
   },
   "outputs": [],
   "source": [
    "all_words = array([j for j in all_words])\n",
    "all_term_count = array([j for j in all_term_count])\n",
    "all_doc_count = array([j for j in all_doc_count])"
   ]
  },
  {
   "cell_type": "code",
   "execution_count": 41,
   "metadata": {
    "executionInfo": {
     "elapsed": 286714,
     "status": "ok",
     "timestamp": 1618875213854,
     "user": {
      "displayName": "Sanjiv Das",
      "photoUrl": "https://lh3.googleusercontent.com/a-/AOh14GhgUU3RgThSxLUq6NKSN2tDGDl8IQdtHMvdaZPE=s64",
      "userId": "06377870171053566924"
     },
     "user_tz": 420
    },
    "id": "uqIXp3LeVlXu"
   },
   "outputs": [],
   "source": [
    "text = \"\"\n",
    "for w in words:\n",
    "    n = all_term_count[all_words==w][0]\n",
    "    n = 1\n",
    "    if n>0:\n",
    "        for j in range(n):\n",
    "            text = text + \" \" + w"
   ]
  },
  {
   "cell_type": "code",
   "execution_count": 42,
   "metadata": {
    "colab": {
     "base_uri": "https://localhost:8080/",
     "height": 467
    },
    "executionInfo": {
     "elapsed": 287303,
     "status": "ok",
     "timestamp": 1618875214463,
     "user": {
      "displayName": "Sanjiv Das",
      "photoUrl": "https://lh3.googleusercontent.com/a-/AOh14GhgUU3RgThSxLUq6NKSN2tDGDl8IQdtHMvdaZPE=s64",
      "userId": "06377870171053566924"
     },
     "user_tz": 420
    },
    "id": "glL5JqauVlXx",
    "outputId": "d5d50651-d3e4-4eec-ad18-0feab6535d31"
   },
   "outputs": [
    {
     "data": {
      "text/plain": [
       "(-0.5, 399.5, 199.5, -0.5)"
      ]
     },
     "execution_count": 42,
     "metadata": {
      "tags": []
     },
     "output_type": "execute_result"
    },
    {
     "data": {
      "image/png": "[encoded data removed]",
      "text/plain": [
       "<Figure size 1080x576 with 1 Axes>"
      ]
     },
     "metadata": {
      "needs_background": "light",
      "tags": []
     },
     "output_type": "display_data"
    }
   ],
   "source": [
    "from wordcloud import WordCloud\n",
    "wordcloud = WordCloud(max_font_size=15).generate(text)\n",
    "\n",
    "#Use pyplot from matplotlib\n",
    "figure(figsize=(15,8))\n",
    "pyplot.imshow(wordcloud, interpolation='bilinear')\n",
    "pyplot.axis(\"off\")"
   ]
  },
  {
   "cell_type": "markdown",
   "metadata": {
    "id": "BuY5Xf7THjfW"
   },
   "source": [
    "## Use Fasttext from Facebook for classification of movie reviews\n",
    "\n",
    "https://fasttext.cc/\n",
    "\n",
    "https://fasttext.cc/docs/en/supervised-tutorial.html\n",
    "\n",
    "Use NLPGluon: https://gluon-nlp.mxnet.io/model_zoo/text_classification/index.html\n",
    "\n",
    "PyPi: https://pypi.org/project/fasttext/\n",
    "\n",
    "See [Malafosse (2019)](https://medium.com/@media_73863/fasttext-sentiment-analysis-for-tweets-a-straightforward-guide-9a8c070449a2): FastText sentiment analysis for tweets: A straightforward guide; [pdf](https://drive.google.com/file/d/10XnkFAxVyGEDVEyxP8f3dFdMmlQvpRq5/view?usp=sharing) for a fun example. \n",
    "\n",
    "See also: https://autogluon.mxnet.io/tutorials/text_prediction/beginner.html\n",
    "\n",
    "Here we will revisit the movie review dataset. "
   ]
  },
  {
   "cell_type": "markdown",
   "metadata": {
    "id": "38m21k6nHjfW"
   },
   "source": [
    "The format for the input file is `__label__labelname text`\n",
    "\n",
    "Example: `__label__0` and `__label__1` for a binary classifier. \n",
    "\n",
    "You can put as many labels as needed on one line. "
   ]
  },
  {
   "cell_type": "code",
   "execution_count": 43,
   "metadata": {
    "colab": {
     "base_uri": "https://localhost:8080/",
     "height": 220
    },
    "executionInfo": {
     "elapsed": 287293,
     "status": "ok",
     "timestamp": 1618875214465,
     "user": {
      "displayName": "Sanjiv Das",
      "photoUrl": "https://lh3.googleusercontent.com/a-/AOh14GhgUU3RgThSxLUq6NKSN2tDGDl8IQdtHMvdaZPE=s64",
      "userId": "06377870171053566924"
     },
     "user_tz": 420
    },
    "id": "FtHwQD-0HjfX",
    "outputId": "9046fe85-2691-445c-daa6-809819de2c1a"
   },
   "outputs": [
    {
     "name": "stdout",
     "output_type": "stream",
     "text": [
      "(5000, 2)\n"
     ]
    },
    {
     "data": {
      "text/html": [
       "<div>\n",
       "<style scoped>\n",
       "    .dataframe tbody tr th:only-of-type {\n",
       "        vertical-align: middle;\n",
       "    }\n",
       "\n",
       "    .dataframe tbody tr th {\n",
       "        vertical-align: top;\n",
       "    }\n",
       "\n",
       "    .dataframe thead th {\n",
       "        text-align: right;\n",
       "    }\n",
       "</style>\n",
       "<table border=\"1\" class=\"dataframe\">\n",
       "  <thead>\n",
       "    <tr style=\"text-align: right;\">\n",
       "      <th></th>\n",
       "      <th>sentiment</th>\n",
       "      <th>review</th>\n",
       "    </tr>\n",
       "  </thead>\n",
       "  <tbody>\n",
       "    <tr>\n",
       "      <th>0</th>\n",
       "      <td>__label__0</td>\n",
       "      <td>Homelessness (or Houselessness as George Carli...</td>\n",
       "    </tr>\n",
       "    <tr>\n",
       "      <th>1</th>\n",
       "      <td>__label__1</td>\n",
       "      <td>This film lacked something I couldn't put my f...</td>\n",
       "    </tr>\n",
       "    <tr>\n",
       "      <th>2</th>\n",
       "      <td>__label__1</td>\n",
       "      <td>\\\"It appears that many critics find the idea o...</td>\n",
       "    </tr>\n",
       "    <tr>\n",
       "      <th>3</th>\n",
       "      <td>__label__0</td>\n",
       "      <td>This isn't the comedic Robin Williams, nor is ...</td>\n",
       "    </tr>\n",
       "    <tr>\n",
       "      <th>4</th>\n",
       "      <td>__label__1</td>\n",
       "      <td>I don't know who to blame, the timid writers o...</td>\n",
       "    </tr>\n",
       "  </tbody>\n",
       "</table>\n",
       "</div>"
      ],
      "text/plain": [
       "    sentiment                                             review\n",
       "0  __label__0  Homelessness (or Houselessness as George Carli...\n",
       "1  __label__1  This film lacked something I couldn't put my f...\n",
       "2  __label__1  \\\"It appears that many critics find the idea o...\n",
       "3  __label__0  This isn't the comedic Robin Williams, nor is ...\n",
       "4  __label__1  I don't know who to blame, the timid writers o..."
      ]
     },
     "execution_count": 43,
     "metadata": {
      "tags": []
     },
     "output_type": "execute_result"
    }
   ],
   "source": [
    "# Let's take a look at the movie database structure\n",
    "movie_review = pd.read_csv('NLP_data/movie_review.csv')\n",
    "\n",
    "# Convert df into the format required for fasttext\n",
    "movie_review.sentiment = [\"__label__\" + str(movie_review.sentiment[j]) for j in movie_review.sentiment]\n",
    "movie_review = movie_review.drop(\"id\", axis=1)\n",
    "print(movie_review.shape)\n",
    "movie_review.head()"
   ]
  },
  {
   "cell_type": "code",
   "execution_count": 44,
   "metadata": {
    "executionInfo": {
     "elapsed": 287291,
     "status": "ok",
     "timestamp": 1618875214467,
     "user": {
      "displayName": "Sanjiv Das",
      "photoUrl": "https://lh3.googleusercontent.com/a-/AOh14GhgUU3RgThSxLUq6NKSN2tDGDl8IQdtHMvdaZPE=s64",
      "userId": "06377870171053566924"
     },
     "user_tz": 420
    },
    "id": "ewgtIzwCHjfc"
   },
   "outputs": [],
   "source": [
    "def cleanText(text):\n",
    "    for c in string.punctuation:\n",
    "        text = text.replace(c,\" \")\n",
    "    text = text.replace('“','')\n",
    "    text = text.replace('”','')\n",
    "    text = text.replace('’','')\n",
    "    text = text.replace('—',' ')\n",
    "    # Remove numbers\n",
    "    for c in range(10):\n",
    "        n = str(c)\n",
    "        text = text.replace(n,\" \")\n",
    "    text = text.str.lower()\n",
    "    text = stopText(text)\n",
    "    text = stemText(text)\n",
    "    text = [j.strip() for j in text]\n",
    "    return text"
   ]
  },
  {
   "cell_type": "code",
   "execution_count": 45,
   "metadata": {
    "colab": {
     "base_uri": "https://localhost:8080/"
    },
    "executionInfo": {
     "elapsed": 287282,
     "status": "ok",
     "timestamp": 1618875214469,
     "user": {
      "displayName": "Sanjiv Das",
      "photoUrl": "https://lh3.googleusercontent.com/a-/AOh14GhgUU3RgThSxLUq6NKSN2tDGDl8IQdtHMvdaZPE=s64",
      "userId": "06377870171053566924"
     },
     "user_tz": 420
    },
    "id": "Hia8N8qTHjfg",
    "outputId": "2f59fa4d-fa25-413e-85a0-3c07fe8e8047"
   },
   "outputs": [
    {
     "name": "stdout",
     "output_type": "stream",
     "text": [
      "CPU times: user 3 µs, sys: 0 ns, total: 3 µs\n",
      "Wall time: 6.91 µs\n"
     ]
    }
   ],
   "source": [
    "%%time\n",
    "# Run it with this cleanup and without to see the difference\n",
    "# movie_review.review = cleanText(movie_review.review)"
   ]
  },
  {
   "cell_type": "code",
   "execution_count": 46,
   "metadata": {
    "executionInfo": {
     "elapsed": 288268,
     "status": "ok",
     "timestamp": 1618875215458,
     "user": {
      "displayName": "Sanjiv Das",
      "photoUrl": "https://lh3.googleusercontent.com/a-/AOh14GhgUU3RgThSxLUq6NKSN2tDGDl8IQdtHMvdaZPE=s64",
      "userId": "06377870171053566924"
     },
     "user_tz": 420
    },
    "id": "iiCHvibuHjfl"
   },
   "outputs": [],
   "source": [
    "tmp = movie_review.loc[:4000]\n",
    "tmp.to_csv('NLP_data/movie_review_train.txt', sep=\" \", header=False, index=False)\n",
    "tmp = movie_review.loc[4000:]\n",
    "tmp.to_csv('NLP_data/movie_review_test.txt', sep=\" \", header=False, index=False)"
   ]
  },
  {
   "cell_type": "code",
   "execution_count": 47,
   "metadata": {
    "colab": {
     "base_uri": "https://localhost:8080/"
    },
    "executionInfo": {
     "elapsed": 325726,
     "status": "ok",
     "timestamp": 1618875252928,
     "user": {
      "displayName": "Sanjiv Das",
      "photoUrl": "https://lh3.googleusercontent.com/a-/AOh14GhgUU3RgThSxLUq6NKSN2tDGDl8IQdtHMvdaZPE=s64",
      "userId": "06377870171053566924"
     },
     "user_tz": 420
    },
    "id": "tBz4l3J0Hjfn",
    "outputId": "f513b28b-d2ab-4aed-975b-3b0085778b65",
    "scrolled": true
   },
   "outputs": [
    {
     "name": "stdout",
     "output_type": "stream",
     "text": [
      "Collecting fasttext\n",
      "\u001b[?25l  Downloading https://files.pythonhosted.org/packages/f8/85/e2b368ab6d3528827b147fdb814f8189acc981a4bc2f99ab894650e05c40/fasttext-0.9.2.tar.gz (68kB)\n",
      "\r",
      "\u001b[K     |████▊                           | 10kB 25.1MB/s eta 0:00:01\r",
      "\u001b[K     |█████████▌                      | 20kB 14.0MB/s eta 0:00:01\r",
      "\u001b[K     |██████████████▎                 | 30kB 12.7MB/s eta 0:00:01\r",
      "\u001b[K     |███████████████████             | 40kB 12.1MB/s eta 0:00:01\r",
      "\u001b[K     |███████████████████████▉        | 51kB 7.7MB/s eta 0:00:01\r",
      "\u001b[K     |████████████████████████████▋   | 61kB 7.2MB/s eta 0:00:01\r",
      "\u001b[K     |████████████████████████████████| 71kB 5.1MB/s \n",
      "\u001b[?25hRequirement already satisfied: pybind11>=2.2 in /usr/local/lib/python3.7/dist-packages (from fasttext) (2.6.2)\n",
      "Requirement already satisfied: setuptools>=0.7.0 in /usr/local/lib/python3.7/dist-packages (from fasttext) (54.2.0)\n",
      "Requirement already satisfied: numpy in /usr/local/lib/python3.7/dist-packages (from fasttext) (1.19.5)\n",
      "Building wheels for collected packages: fasttext\n",
      "  Building wheel for fasttext (setup.py) ... \u001b[?25l\u001b[?25hdone\n",
      "  Created wheel for fasttext: filename=fasttext-0.9.2-cp37-cp37m-linux_x86_64.whl size=3098837 sha256=d37d441bf6527f2648ccca5cbab9c7cb83fd666cebfb4eb6f2d2973ac470624a\n",
      "  Stored in directory: /root/.cache/pip/wheels/98/ba/7f/b154944a1cf5a8cee91c154b75231136cc3a3321ab0e30f592\n",
      "Successfully built fasttext\n",
      "Installing collected packages: fasttext\n",
      "Successfully installed fasttext-0.9.2\n"
     ]
    }
   ],
   "source": [
    "!pip install fasttext"
   ]
  },
  {
   "cell_type": "code",
   "execution_count": 48,
   "metadata": {
    "colab": {
     "base_uri": "https://localhost:8080/"
    },
    "executionInfo": {
     "elapsed": 337732,
     "status": "ok",
     "timestamp": 1618875264946,
     "user": {
      "displayName": "Sanjiv Das",
      "photoUrl": "https://lh3.googleusercontent.com/a-/AOh14GhgUU3RgThSxLUq6NKSN2tDGDl8IQdtHMvdaZPE=s64",
      "userId": "06377870171053566924"
     },
     "user_tz": 420
    },
    "id": "WFsDXij1Hjfp",
    "outputId": "e5d86653-2dba-431d-e5e1-b58f6a33eb34"
   },
   "outputs": [
    {
     "name": "stdout",
     "output_type": "stream",
     "text": [
      "CPU times: user 11.9 s, sys: 145 ms, total: 12 s\n",
      "Wall time: 12 s\n"
     ]
    }
   ],
   "source": [
    "%%time\n",
    "import fasttext\n",
    "model = fasttext.train_supervised('NLP_data/movie_review_train.txt', epoch=50) # Choose epochs to manage overfitting"
   ]
  },
  {
   "cell_type": "code",
   "execution_count": 49,
   "metadata": {
    "colab": {
     "base_uri": "https://localhost:8080/"
    },
    "executionInfo": {
     "elapsed": 337724,
     "status": "ok",
     "timestamp": 1618875264950,
     "user": {
      "displayName": "Sanjiv Das",
      "photoUrl": "https://lh3.googleusercontent.com/a-/AOh14GhgUU3RgThSxLUq6NKSN2tDGDl8IQdtHMvdaZPE=s64",
      "userId": "06377870171053566924"
     },
     "user_tz": 420
    },
    "id": "6DiSdY9XHjft",
    "outputId": "813c1487-514c-4385-846b-0c059ed58001"
   },
   "outputs": [
    {
     "name": "stdout",
     "output_type": "stream",
     "text": [
      "['__label__0', '__label__1']\n"
     ]
    }
   ],
   "source": [
    "print(model.labels)"
   ]
  },
  {
   "cell_type": "code",
   "execution_count": 50,
   "metadata": {
    "colab": {
     "base_uri": "https://localhost:8080/"
    },
    "executionInfo": {
     "elapsed": 337715,
     "status": "ok",
     "timestamp": 1618875264953,
     "user": {
      "displayName": "Sanjiv Das",
      "photoUrl": "https://lh3.googleusercontent.com/a-/AOh14GhgUU3RgThSxLUq6NKSN2tDGDl8IQdtHMvdaZPE=s64",
      "userId": "06377870171053566924"
     },
     "user_tz": 420
    },
    "id": "wIr_AuguHjfv",
    "outputId": "0e15f458-4335-4415-ed7a-11c6d39248a9"
   },
   "outputs": [
    {
     "name": "stdout",
     "output_type": "stream",
     "text": [
      "90603\n",
      "['the', 'a', 'and', 'of', 'to', 'is', 'in', 'that', 'I', 'this', 'it', '/><br', 'was', 'as', 'with', 'for', 'but', 'The', 'on', 'movie', 'are', 'film', 'his', 'have', 'not', 'be', 'you', '</s>', 'by', 'he', 'an', 'at', 'one', 'from', 'who', 'like', 'all', 'they', 'her', 'or', 'about', 'has', 'so', 'just', 'some', 'out', 'very', 'more', 'would', 'if', 'when', 'their', 'had', 'good', 'what', 'only', 'really', 'up', 'It', \"it's\", 'can', 'she', 'which', 'were', 'my', 'even', 'no', 'see', 'than', 'there', 'into', 'been', '-', 'because', 'much', 'will', 'get', 'This', 'story', 'most', 'time', 'could', 'other', 'how', 'me', 'people', 'its', 'make', 'any', 'we', 'first', 'do', 'great', 'also', '/>The', 'made', 'think', \"don't\", 'him', 'being']\n"
     ]
    }
   ],
   "source": [
    "print(len(model.words))\n",
    "print(model.words[:100])"
   ]
  },
  {
   "cell_type": "code",
   "execution_count": 51,
   "metadata": {
    "colab": {
     "base_uri": "https://localhost:8080/",
     "height": 203
    },
    "executionInfo": {
     "elapsed": 337706,
     "status": "ok",
     "timestamp": 1618875264956,
     "user": {
      "displayName": "Sanjiv Das",
      "photoUrl": "https://lh3.googleusercontent.com/a-/AOh14GhgUU3RgThSxLUq6NKSN2tDGDl8IQdtHMvdaZPE=s64",
      "userId": "06377870171053566924"
     },
     "user_tz": 420
    },
    "id": "9yt6K2aoHjf0",
    "outputId": "9b77896c-0411-46fc-8f07-e83d19e4c5a9"
   },
   "outputs": [
    {
     "data": {
      "text/html": [
       "<div>\n",
       "<style scoped>\n",
       "    .dataframe tbody tr th:only-of-type {\n",
       "        vertical-align: middle;\n",
       "    }\n",
       "\n",
       "    .dataframe tbody tr th {\n",
       "        vertical-align: top;\n",
       "    }\n",
       "\n",
       "    .dataframe thead th {\n",
       "        text-align: right;\n",
       "    }\n",
       "</style>\n",
       "<table border=\"1\" class=\"dataframe\">\n",
       "  <thead>\n",
       "    <tr style=\"text-align: right;\">\n",
       "      <th></th>\n",
       "      <th>sentiment</th>\n",
       "      <th>review</th>\n",
       "    </tr>\n",
       "  </thead>\n",
       "  <tbody>\n",
       "    <tr>\n",
       "      <th>0</th>\n",
       "      <td>__label__0</td>\n",
       "      <td>Homelessness (or Houselessness as George Carli...</td>\n",
       "    </tr>\n",
       "    <tr>\n",
       "      <th>1</th>\n",
       "      <td>__label__1</td>\n",
       "      <td>This film lacked something I couldn't put my f...</td>\n",
       "    </tr>\n",
       "    <tr>\n",
       "      <th>2</th>\n",
       "      <td>__label__1</td>\n",
       "      <td>\\\"It appears that many critics find the idea o...</td>\n",
       "    </tr>\n",
       "    <tr>\n",
       "      <th>3</th>\n",
       "      <td>__label__0</td>\n",
       "      <td>This isn't the comedic Robin Williams, nor is ...</td>\n",
       "    </tr>\n",
       "    <tr>\n",
       "      <th>4</th>\n",
       "      <td>__label__1</td>\n",
       "      <td>I don't know who to blame, the timid writers o...</td>\n",
       "    </tr>\n",
       "  </tbody>\n",
       "</table>\n",
       "</div>"
      ],
      "text/plain": [
       "    sentiment                                             review\n",
       "0  __label__0  Homelessness (or Houselessness as George Carli...\n",
       "1  __label__1  This film lacked something I couldn't put my f...\n",
       "2  __label__1  \\\"It appears that many critics find the idea o...\n",
       "3  __label__0  This isn't the comedic Robin Williams, nor is ...\n",
       "4  __label__1  I don't know who to blame, the timid writers o..."
      ]
     },
     "execution_count": 51,
     "metadata": {
      "tags": []
     },
     "output_type": "execute_result"
    }
   ],
   "source": [
    "train = pd.read_csv(\"NLP_data/movie_review_train.txt\", sep = \" \", header=None)\n",
    "test = pd.read_csv(\"NLP_data/movie_review_test.txt\", sep = \" \", header=None)\n",
    "train.columns = ['sentiment','review']\n",
    "test.columns = ['sentiment','review']\n",
    "train.head()"
   ]
  },
  {
   "cell_type": "code",
   "execution_count": 52,
   "metadata": {
    "colab": {
     "base_uri": "https://localhost:8080/"
    },
    "executionInfo": {
     "elapsed": 337695,
     "status": "ok",
     "timestamp": 1618875264958,
     "user": {
      "displayName": "Sanjiv Das",
      "photoUrl": "https://lh3.googleusercontent.com/a-/AOh14GhgUU3RgThSxLUq6NKSN2tDGDl8IQdtHMvdaZPE=s64",
      "userId": "06377870171053566924"
     },
     "user_tz": 420
    },
    "id": "dbvPmC0cHjf9",
    "outputId": "aeba909c-c320-41bd-95ef-bc3561710cd4"
   },
   "outputs": [
    {
     "data": {
      "text/plain": [
       "(('__label__1',), array([0.99998164]))"
      ]
     },
     "execution_count": 52,
     "metadata": {
      "tags": []
     },
     "output_type": "execute_result"
    }
   ],
   "source": [
    "model.predict(\"The good the bad and the ugly is an awesome movie\")"
   ]
  },
  {
   "cell_type": "code",
   "execution_count": 53,
   "metadata": {
    "colab": {
     "base_uri": "https://localhost:8080/"
    },
    "executionInfo": {
     "elapsed": 337687,
     "status": "ok",
     "timestamp": 1618875264962,
     "user": {
      "displayName": "Sanjiv Das",
      "photoUrl": "https://lh3.googleusercontent.com/a-/AOh14GhgUU3RgThSxLUq6NKSN2tDGDl8IQdtHMvdaZPE=s64",
      "userId": "06377870171053566924"
     },
     "user_tz": 420
    },
    "id": "o1zYiXLeHjgC",
    "outputId": "e58e9ff7-4cf2-4a7b-8ffb-a6b0c6c52ecd"
   },
   "outputs": [
    {
     "name": "stdout",
     "output_type": "stream",
     "text": [
      "713\n",
      "__label__0\n",
      "Red Rock West is one of those tight noir thrillers we rarely see anymore. It's well paced, well acted and doesn't leave us with loose ends or unanswered questions so typical in this genre.<br /><br />Nicolas Cage stars as Michael, an unemployed Texas roughneck, desperate enough for a job to drive all the way to Wyoming for potential employment. He is honest to a fault, but always on the dark side of fate.<br /><br />After failing to obtain gainful employment, Michael stumbles into the Red Rock bar where the owner Wayne (J.T.Walsh) mistakes him for a contract killer he summoned from Dallas, hired to do in his lovely but lethal wife Suzanne (Lara Flynn Boyle).<br /><br />Wayne gives Michael the necessary details and a down payment for the hit on the adulterous Suzie. With no intent on following through, Michael accepts the money and then sets out to warn Suzanne of her impending demise. He also mails a letter to the local sheriff exposing the plot and splits.<br /><br />As fate would dictate, Michael is not going to be rid of the situation that easy. While leaving in a violent rainstorm, he runs down Suzannes lover. Of course Michael being Michael, he takes him to the local hospital where it's discovered that he's also been shot.<br /><br />The sheriff is summoned and as luck would have it, Wayne is also the local law. Michael manages to escape while being taken on that last ride and is subsequently picked up by the real \\\"Lyle from Dallas\\\" played with murderous glee by the quirky Dennis Hopper. After discovering that they're fellow marines, Lyle insists that Michael join him for a drink at, where else, the Red Rock bar. There Wayne realizes his mistake and soon he and Lyle are in hot pursuit of Michael who falls willingly into Suzannes waiting arms.<br /><br />As the pace picks up we learn that Wayne and Suzanne are really wanted armed robbers, on the lam for a multi million dollar theft. Getting the money now becomes the films central focus with a series of betrayals, double crosses and murders.<br /><br />The film was very well cast. Nicolas Cage was typically low key, Dennis Hopper and Lara Flynn Bolye assumed their respective roles with more than ample ability. The best performance was by the late J.T. Walsh who was menacing without appearing to be. Walsh was a great character actor who left us much too soon.<br /><br />Marc Reshoskys photography utilized many unique angles which added to the suspense and plot development. The film was further enhanced by John Dahl's tight directorial style and Morris Chestnut's rapid fire editing.\n",
      "__label__0\n"
     ]
    }
   ],
   "source": [
    "k = randint(len(test)); print(k)\n",
    "print(test.loc[k][0])\n",
    "print(test.loc[k][1])\n",
    "res = model.predict(test.loc[k][1])\n",
    "print(res[0][0])"
   ]
  },
  {
   "cell_type": "code",
   "execution_count": 54,
   "metadata": {
    "colab": {
     "base_uri": "https://localhost:8080/"
    },
    "executionInfo": {
     "elapsed": 338487,
     "status": "ok",
     "timestamp": 1618875265773,
     "user": {
      "displayName": "Sanjiv Das",
      "photoUrl": "https://lh3.googleusercontent.com/a-/AOh14GhgUU3RgThSxLUq6NKSN2tDGDl8IQdtHMvdaZPE=s64",
      "userId": "06377870171053566924"
     },
     "user_tz": 420
    },
    "id": "TfjT7e0BHjgG",
    "outputId": "3f934be0-e502-4442-8d57-59fa4876319a"
   },
   "outputs": [
    {
     "name": "stdout",
     "output_type": "stream",
     "text": [
      "acc = 0.9995001249687578\n",
      "[[2017    2]\n",
      " [   0 1982]]\n"
     ]
    }
   ],
   "source": [
    "# Train dataset\n",
    "yhat = [model.predict(train.loc[k][1])[0][0] for k in range(len(train))]\n",
    "y0 = list(train.iloc[:,0])\n",
    "\n",
    "from sklearn.metrics import confusion_matrix\n",
    "cm = confusion_matrix(y0, yhat)\n",
    "acc = sum(diag(cm))/sum(cm)\n",
    "print(\"acc =\",acc)\n",
    "print(cm)"
   ]
  },
  {
   "cell_type": "code",
   "execution_count": 55,
   "metadata": {
    "colab": {
     "base_uri": "https://localhost:8080/"
    },
    "executionInfo": {
     "elapsed": 338475,
     "status": "ok",
     "timestamp": 1618875265774,
     "user": {
      "displayName": "Sanjiv Das",
      "photoUrl": "https://lh3.googleusercontent.com/a-/AOh14GhgUU3RgThSxLUq6NKSN2tDGDl8IQdtHMvdaZPE=s64",
      "userId": "06377870171053566924"
     },
     "user_tz": 420
    },
    "id": "eQxDEkHkHjgM",
    "outputId": "52c83c44-af8c-47e4-c0b0-dc49034fd8b1"
   },
   "outputs": [
    {
     "name": "stdout",
     "output_type": "stream",
     "text": [
      "acc = 0.823\n",
      "[[406  93]\n",
      " [ 84 417]]\n"
     ]
    }
   ],
   "source": [
    "# Test dataset\n",
    "yhat = [model.predict(test.loc[k][1])[0][0] for k in range(len(test))]\n",
    "y0 = list(test.iloc[:,0])\n",
    "\n",
    "cm = confusion_matrix(y0, yhat)\n",
    "acc = sum(diag(cm))/sum(cm)\n",
    "print(\"acc =\",acc)\n",
    "print(cm)"
   ]
  },
  {
   "cell_type": "markdown",
   "metadata": {
    "id": "62FOAkQDHjgO"
   },
   "source": [
    "## Using spaCy\n",
    "\n",
    "spaCy has an excellent pipeline for doing text classification. We will learn about this pipeline here. \n",
    "\n",
    "We will also use scikit learn. https://scikit-learn.org/stable/"
   ]
  },
  {
   "cell_type": "code",
   "execution_count": 56,
   "metadata": {
    "executionInfo": {
     "elapsed": 338473,
     "status": "ok",
     "timestamp": 1618875265775,
     "user": {
      "displayName": "Sanjiv Das",
      "photoUrl": "https://lh3.googleusercontent.com/a-/AOh14GhgUU3RgThSxLUq6NKSN2tDGDl8IQdtHMvdaZPE=s64",
      "userId": "06377870171053566924"
     },
     "user_tz": 420
    },
    "id": "ly804y7DHjgP"
   },
   "outputs": [],
   "source": [
    "from sklearn.feature_extraction.text import CountVectorizer,TfidfVectorizer\n",
    "from sklearn.base import TransformerMixin\n",
    "from sklearn.pipeline import Pipeline"
   ]
  },
  {
   "cell_type": "code",
   "execution_count": 57,
   "metadata": {
    "colab": {
     "base_uri": "https://localhost:8080/"
    },
    "executionInfo": {
     "elapsed": 338655,
     "status": "ok",
     "timestamp": 1618875265968,
     "user": {
      "displayName": "Sanjiv Das",
      "photoUrl": "https://lh3.googleusercontent.com/a-/AOh14GhgUU3RgThSxLUq6NKSN2tDGDl8IQdtHMvdaZPE=s64",
      "userId": "06377870171053566924"
     },
     "user_tz": 420
    },
    "id": "OdZCFwEHHjgS",
    "outputId": "ca151b40-910f-4c06-a24a-6a30ee8885c0"
   },
   "outputs": [
    {
     "name": "stdout",
     "output_type": "stream",
     "text": [
      "<class 'pandas.core.frame.DataFrame'>\n",
      "RangeIndex: 5000 entries, 0 to 4999\n",
      "Data columns (total 3 columns):\n",
      " #   Column     Non-Null Count  Dtype \n",
      "---  ------     --------------  ----- \n",
      " 0   id         5000 non-null   object\n",
      " 1   sentiment  5000 non-null   int64 \n",
      " 2   review     5000 non-null   object\n",
      "dtypes: int64(1), object(2)\n",
      "memory usage: 117.3+ KB\n"
     ]
    }
   ],
   "source": [
    "# Loading CSV file\n",
    "df = pd.read_csv(\"NLP_data/movie_review.csv\")\n",
    "# View data information\n",
    "df.info()"
   ]
  },
  {
   "cell_type": "code",
   "execution_count": 58,
   "metadata": {
    "colab": {
     "base_uri": "https://localhost:8080/"
    },
    "executionInfo": {
     "elapsed": 338645,
     "status": "ok",
     "timestamp": 1618875265969,
     "user": {
      "displayName": "Sanjiv Das",
      "photoUrl": "https://lh3.googleusercontent.com/a-/AOh14GhgUU3RgThSxLUq6NKSN2tDGDl8IQdtHMvdaZPE=s64",
      "userId": "06377870171053566924"
     },
     "user_tz": 420
    },
    "id": "3vupoRTQHjgV",
    "outputId": "ecc24e91-3e0a-4ee1-b706-ba5cb5a70263"
   },
   "outputs": [
    {
     "data": {
      "text/plain": [
       "1    2517\n",
       "0    2483\n",
       "Name: sentiment, dtype: int64"
      ]
     },
     "execution_count": 58,
     "metadata": {
      "tags": []
     },
     "output_type": "execute_result"
    }
   ],
   "source": [
    "# Feedback Value count\n",
    "df.sentiment.value_counts()"
   ]
  },
  {
   "cell_type": "code",
   "execution_count": 59,
   "metadata": {
    "colab": {
     "base_uri": "https://localhost:8080/"
    },
    "executionInfo": {
     "elapsed": 350155,
     "status": "ok",
     "timestamp": 1618875277491,
     "user": {
      "displayName": "Sanjiv Das",
      "photoUrl": "https://lh3.googleusercontent.com/a-/AOh14GhgUU3RgThSxLUq6NKSN2tDGDl8IQdtHMvdaZPE=s64",
      "userId": "06377870171053566924"
     },
     "user_tz": 420
    },
    "id": "MYmfjm7_HjgX",
    "outputId": "60a42f43-0655-443e-a58f-8b9145b5f9ca",
    "scrolled": true
   },
   "outputs": [
    {
     "name": "stdout",
     "output_type": "stream",
     "text": [
      "Requirement already satisfied: spacy in /usr/local/lib/python3.7/dist-packages (2.2.4)\n",
      "Requirement already satisfied: thinc==7.4.0 in /usr/local/lib/python3.7/dist-packages (from spacy) (7.4.0)\n",
      "Requirement already satisfied: cymem<2.1.0,>=2.0.2 in /usr/local/lib/python3.7/dist-packages (from spacy) (2.0.5)\n",
      "Requirement already satisfied: murmurhash<1.1.0,>=0.28.0 in /usr/local/lib/python3.7/dist-packages (from spacy) (1.0.5)\n",
      "Requirement already satisfied: requests<3.0.0,>=2.13.0 in /usr/local/lib/python3.7/dist-packages (from spacy) (2.23.0)\n",
      "Requirement already satisfied: srsly<1.1.0,>=1.0.2 in /usr/local/lib/python3.7/dist-packages (from spacy) (1.0.5)\n",
      "Requirement already satisfied: numpy>=1.15.0 in /usr/local/lib/python3.7/dist-packages (from spacy) (1.19.5)\n",
      "Requirement already satisfied: setuptools in /usr/local/lib/python3.7/dist-packages (from spacy) (54.2.0)\n",
      "Requirement already satisfied: catalogue<1.1.0,>=0.0.7 in /usr/local/lib/python3.7/dist-packages (from spacy) (1.0.0)\n",
      "Requirement already satisfied: plac<1.2.0,>=0.9.6 in /usr/local/lib/python3.7/dist-packages (from spacy) (1.1.3)\n",
      "Requirement already satisfied: preshed<3.1.0,>=3.0.2 in /usr/local/lib/python3.7/dist-packages (from spacy) (3.0.5)\n",
      "Requirement already satisfied: wasabi<1.1.0,>=0.4.0 in /usr/local/lib/python3.7/dist-packages (from spacy) (0.8.2)\n",
      "Requirement already satisfied: tqdm<5.0.0,>=4.38.0 in /usr/local/lib/python3.7/dist-packages (from spacy) (4.41.1)\n",
      "Requirement already satisfied: blis<0.5.0,>=0.4.0 in /usr/local/lib/python3.7/dist-packages (from spacy) (0.4.1)\n",
      "Requirement already satisfied: idna<3,>=2.5 in /usr/local/lib/python3.7/dist-packages (from requests<3.0.0,>=2.13.0->spacy) (2.10)\n",
      "Requirement already satisfied: chardet<4,>=3.0.2 in /usr/local/lib/python3.7/dist-packages (from requests<3.0.0,>=2.13.0->spacy) (3.0.4)\n",
      "Requirement already satisfied: certifi>=2017.4.17 in /usr/local/lib/python3.7/dist-packages (from requests<3.0.0,>=2.13.0->spacy) (2020.12.5)\n",
      "Requirement already satisfied: urllib3!=1.25.0,!=1.25.1,<1.26,>=1.21.1 in /usr/local/lib/python3.7/dist-packages (from requests<3.0.0,>=2.13.0->spacy) (1.24.3)\n",
      "Requirement already satisfied: importlib-metadata>=0.20; python_version < \"3.8\" in /usr/local/lib/python3.7/dist-packages (from catalogue<1.1.0,>=0.0.7->spacy) (3.10.1)\n",
      "Requirement already satisfied: typing-extensions>=3.6.4; python_version < \"3.8\" in /usr/local/lib/python3.7/dist-packages (from importlib-metadata>=0.20; python_version < \"3.8\"->catalogue<1.1.0,>=0.0.7->spacy) (3.7.4.3)\n",
      "Requirement already satisfied: zipp>=0.5 in /usr/local/lib/python3.7/dist-packages (from importlib-metadata>=0.20; python_version < \"3.8\"->catalogue<1.1.0,>=0.0.7->spacy) (3.4.1)\n",
      "Requirement already satisfied: en_core_web_sm==2.2.5 from https://github.com/explosion/spacy-models/releases/download/en_core_web_sm-2.2.5/en_core_web_sm-2.2.5.tar.gz#egg=en_core_web_sm==2.2.5 in /usr/local/lib/python3.7/dist-packages (2.2.5)\n",
      "Requirement already satisfied: spacy>=2.2.2 in /usr/local/lib/python3.7/dist-packages (from en_core_web_sm==2.2.5) (2.2.4)\n",
      "Requirement already satisfied: thinc==7.4.0 in /usr/local/lib/python3.7/dist-packages (from spacy>=2.2.2->en_core_web_sm==2.2.5) (7.4.0)\n",
      "Requirement already satisfied: requests<3.0.0,>=2.13.0 in /usr/local/lib/python3.7/dist-packages (from spacy>=2.2.2->en_core_web_sm==2.2.5) (2.23.0)\n",
      "Requirement already satisfied: preshed<3.1.0,>=3.0.2 in /usr/local/lib/python3.7/dist-packages (from spacy>=2.2.2->en_core_web_sm==2.2.5) (3.0.5)\n",
      "Requirement already satisfied: plac<1.2.0,>=0.9.6 in /usr/local/lib/python3.7/dist-packages (from spacy>=2.2.2->en_core_web_sm==2.2.5) (1.1.3)\n",
      "Requirement already satisfied: wasabi<1.1.0,>=0.4.0 in /usr/local/lib/python3.7/dist-packages (from spacy>=2.2.2->en_core_web_sm==2.2.5) (0.8.2)\n",
      "Requirement already satisfied: blis<0.5.0,>=0.4.0 in /usr/local/lib/python3.7/dist-packages (from spacy>=2.2.2->en_core_web_sm==2.2.5) (0.4.1)\n",
      "Requirement already satisfied: numpy>=1.15.0 in /usr/local/lib/python3.7/dist-packages (from spacy>=2.2.2->en_core_web_sm==2.2.5) (1.19.5)\n",
      "Requirement already satisfied: setuptools in /usr/local/lib/python3.7/dist-packages (from spacy>=2.2.2->en_core_web_sm==2.2.5) (54.2.0)\n",
      "Requirement already satisfied: cymem<2.1.0,>=2.0.2 in /usr/local/lib/python3.7/dist-packages (from spacy>=2.2.2->en_core_web_sm==2.2.5) (2.0.5)\n",
      "Requirement already satisfied: tqdm<5.0.0,>=4.38.0 in /usr/local/lib/python3.7/dist-packages (from spacy>=2.2.2->en_core_web_sm==2.2.5) (4.41.1)\n",
      "Requirement already satisfied: srsly<1.1.0,>=1.0.2 in /usr/local/lib/python3.7/dist-packages (from spacy>=2.2.2->en_core_web_sm==2.2.5) (1.0.5)\n",
      "Requirement already satisfied: catalogue<1.1.0,>=0.0.7 in /usr/local/lib/python3.7/dist-packages (from spacy>=2.2.2->en_core_web_sm==2.2.5) (1.0.0)\n",
      "Requirement already satisfied: murmurhash<1.1.0,>=0.28.0 in /usr/local/lib/python3.7/dist-packages (from spacy>=2.2.2->en_core_web_sm==2.2.5) (1.0.5)\n",
      "Requirement already satisfied: idna<3,>=2.5 in /usr/local/lib/python3.7/dist-packages (from requests<3.0.0,>=2.13.0->spacy>=2.2.2->en_core_web_sm==2.2.5) (2.10)\n",
      "Requirement already satisfied: chardet<4,>=3.0.2 in /usr/local/lib/python3.7/dist-packages (from requests<3.0.0,>=2.13.0->spacy>=2.2.2->en_core_web_sm==2.2.5) (3.0.4)\n",
      "Requirement already satisfied: certifi>=2017.4.17 in /usr/local/lib/python3.7/dist-packages (from requests<3.0.0,>=2.13.0->spacy>=2.2.2->en_core_web_sm==2.2.5) (2020.12.5)\n",
      "Requirement already satisfied: urllib3!=1.25.0,!=1.25.1,<1.26,>=1.21.1 in /usr/local/lib/python3.7/dist-packages (from requests<3.0.0,>=2.13.0->spacy>=2.2.2->en_core_web_sm==2.2.5) (1.24.3)\n",
      "Requirement already satisfied: importlib-metadata>=0.20; python_version < \"3.8\" in /usr/local/lib/python3.7/dist-packages (from catalogue<1.1.0,>=0.0.7->spacy>=2.2.2->en_core_web_sm==2.2.5) (3.10.1)\n",
      "Requirement already satisfied: zipp>=0.5 in /usr/local/lib/python3.7/dist-packages (from importlib-metadata>=0.20; python_version < \"3.8\"->catalogue<1.1.0,>=0.0.7->spacy>=2.2.2->en_core_web_sm==2.2.5) (3.4.1)\n",
      "Requirement already satisfied: typing-extensions>=3.6.4; python_version < \"3.8\" in /usr/local/lib/python3.7/dist-packages (from importlib-metadata>=0.20; python_version < \"3.8\"->catalogue<1.1.0,>=0.0.7->spacy>=2.2.2->en_core_web_sm==2.2.5) (3.7.4.3)\n",
      "\u001b[38;5;2m✔ Download and installation successful\u001b[0m\n",
      "You can now load the model via spacy.load('en_core_web_sm')\n",
      "Requirement already satisfied: en_core_web_sm==2.2.5 from https://github.com/explosion/spacy-models/releases/download/en_core_web_sm-2.2.5/en_core_web_sm-2.2.5.tar.gz#egg=en_core_web_sm==2.2.5 in /usr/local/lib/python3.7/dist-packages (2.2.5)\n",
      "Requirement already satisfied: spacy>=2.2.2 in /usr/local/lib/python3.7/dist-packages (from en_core_web_sm==2.2.5) (2.2.4)\n",
      "Requirement already satisfied: requests<3.0.0,>=2.13.0 in /usr/local/lib/python3.7/dist-packages (from spacy>=2.2.2->en_core_web_sm==2.2.5) (2.23.0)\n",
      "Requirement already satisfied: setuptools in /usr/local/lib/python3.7/dist-packages (from spacy>=2.2.2->en_core_web_sm==2.2.5) (54.2.0)\n",
      "Requirement already satisfied: numpy>=1.15.0 in /usr/local/lib/python3.7/dist-packages (from spacy>=2.2.2->en_core_web_sm==2.2.5) (1.19.5)\n",
      "Requirement already satisfied: murmurhash<1.1.0,>=0.28.0 in /usr/local/lib/python3.7/dist-packages (from spacy>=2.2.2->en_core_web_sm==2.2.5) (1.0.5)\n",
      "Requirement already satisfied: catalogue<1.1.0,>=0.0.7 in /usr/local/lib/python3.7/dist-packages (from spacy>=2.2.2->en_core_web_sm==2.2.5) (1.0.0)\n",
      "Requirement already satisfied: tqdm<5.0.0,>=4.38.0 in /usr/local/lib/python3.7/dist-packages (from spacy>=2.2.2->en_core_web_sm==2.2.5) (4.41.1)\n",
      "Requirement already satisfied: plac<1.2.0,>=0.9.6 in /usr/local/lib/python3.7/dist-packages (from spacy>=2.2.2->en_core_web_sm==2.2.5) (1.1.3)\n",
      "Requirement already satisfied: cymem<2.1.0,>=2.0.2 in /usr/local/lib/python3.7/dist-packages (from spacy>=2.2.2->en_core_web_sm==2.2.5) (2.0.5)\n",
      "Requirement already satisfied: thinc==7.4.0 in /usr/local/lib/python3.7/dist-packages (from spacy>=2.2.2->en_core_web_sm==2.2.5) (7.4.0)\n",
      "Requirement already satisfied: preshed<3.1.0,>=3.0.2 in /usr/local/lib/python3.7/dist-packages (from spacy>=2.2.2->en_core_web_sm==2.2.5) (3.0.5)\n",
      "Requirement already satisfied: wasabi<1.1.0,>=0.4.0 in /usr/local/lib/python3.7/dist-packages (from spacy>=2.2.2->en_core_web_sm==2.2.5) (0.8.2)\n",
      "Requirement already satisfied: blis<0.5.0,>=0.4.0 in /usr/local/lib/python3.7/dist-packages (from spacy>=2.2.2->en_core_web_sm==2.2.5) (0.4.1)\n",
      "Requirement already satisfied: srsly<1.1.0,>=1.0.2 in /usr/local/lib/python3.7/dist-packages (from spacy>=2.2.2->en_core_web_sm==2.2.5) (1.0.5)\n",
      "Requirement already satisfied: chardet<4,>=3.0.2 in /usr/local/lib/python3.7/dist-packages (from requests<3.0.0,>=2.13.0->spacy>=2.2.2->en_core_web_sm==2.2.5) (3.0.4)\n",
      "Requirement already satisfied: idna<3,>=2.5 in /usr/local/lib/python3.7/dist-packages (from requests<3.0.0,>=2.13.0->spacy>=2.2.2->en_core_web_sm==2.2.5) (2.10)\n",
      "Requirement already satisfied: urllib3!=1.25.0,!=1.25.1,<1.26,>=1.21.1 in /usr/local/lib/python3.7/dist-packages (from requests<3.0.0,>=2.13.0->spacy>=2.2.2->en_core_web_sm==2.2.5) (1.24.3)\n",
      "Requirement already satisfied: certifi>=2017.4.17 in /usr/local/lib/python3.7/dist-packages (from requests<3.0.0,>=2.13.0->spacy>=2.2.2->en_core_web_sm==2.2.5) (2020.12.5)\n",
      "Requirement already satisfied: importlib-metadata>=0.20; python_version < \"3.8\" in /usr/local/lib/python3.7/dist-packages (from catalogue<1.1.0,>=0.0.7->spacy>=2.2.2->en_core_web_sm==2.2.5) (3.10.1)\n",
      "Requirement already satisfied: zipp>=0.5 in /usr/local/lib/python3.7/dist-packages (from importlib-metadata>=0.20; python_version < \"3.8\"->catalogue<1.1.0,>=0.0.7->spacy>=2.2.2->en_core_web_sm==2.2.5) (3.4.1)\n",
      "Requirement already satisfied: typing-extensions>=3.6.4; python_version < \"3.8\" in /usr/local/lib/python3.7/dist-packages (from importlib-metadata>=0.20; python_version < \"3.8\"->catalogue<1.1.0,>=0.0.7->spacy>=2.2.2->en_core_web_sm==2.2.5) (3.7.4.3)\n",
      "\u001b[38;5;2m✔ Download and installation successful\u001b[0m\n",
      "You can now load the model via spacy.load('en_core_web_sm')\n",
      "\u001b[38;5;2m✔ Linking successful\u001b[0m\n",
      "/usr/local/lib/python3.7/dist-packages/en_core_web_sm -->\n",
      "/usr/local/lib/python3.7/dist-packages/spacy/data/en\n",
      "You can now load the model via spacy.load('en')\n"
     ]
    }
   ],
   "source": [
    "!pip install spacy\n",
    "!python -m spacy download en_core_web_sm\n",
    "!python -m spacy download en"
   ]
  },
  {
   "cell_type": "code",
   "execution_count": 60,
   "metadata": {
    "executionInfo": {
     "elapsed": 351976,
     "status": "ok",
     "timestamp": 1618875279315,
     "user": {
      "displayName": "Sanjiv Das",
      "photoUrl": "https://lh3.googleusercontent.com/a-/AOh14GhgUU3RgThSxLUq6NKSN2tDGDl8IQdtHMvdaZPE=s64",
      "userId": "06377870171053566924"
     },
     "user_tz": 420
    },
    "id": "JB2EMdWHHjgZ"
   },
   "outputs": [],
   "source": [
    "# Set up various spaCY stuff\n",
    "import spacy\n",
    "import string\n",
    "from spacy.lang.en.stop_words import STOP_WORDS\n",
    "from spacy.lang.en import English\n",
    "\n",
    "# Create our list of punctuation marks\n",
    "punctuations = string.punctuation\n",
    "\n",
    "# Create our list of stopwords\n",
    "nlp = spacy.load('en')\n",
    "stop_words = spacy.lang.en.stop_words.STOP_WORDS\n",
    "\n",
    "# Load English tokenizer, tagger, parser, NER and word vectors\n",
    "parser = English()\n",
    "\n",
    "# Creating our tokenizer function\n",
    "def spacy_tokenizer(sentence):\n",
    "    # Creating our token object, which is used to create documents with linguistic annotations.\n",
    "    mytokens = parser(sentence)\n",
    "\n",
    "    # Lemmatizing each token and converting each token into lowercase\n",
    "    mytokens = [ word.lemma_.lower().strip() if word.lemma_ != \"-PRON-\" else word.lower_ for word in mytokens ]\n",
    "\n",
    "    # Removing stop words\n",
    "    mytokens = [ word for word in mytokens if word not in stop_words and word not in punctuations ]\n",
    "\n",
    "    # return preprocessed list of tokens\n",
    "    return mytokens"
   ]
  },
  {
   "cell_type": "code",
   "execution_count": 61,
   "metadata": {
    "executionInfo": {
     "elapsed": 351976,
     "status": "ok",
     "timestamp": 1618875279318,
     "user": {
      "displayName": "Sanjiv Das",
      "photoUrl": "https://lh3.googleusercontent.com/a-/AOh14GhgUU3RgThSxLUq6NKSN2tDGDl8IQdtHMvdaZPE=s64",
      "userId": "06377870171053566924"
     },
     "user_tz": 420
    },
    "id": "SnoNo-GnHjgb"
   },
   "outputs": [],
   "source": [
    "# Custom transformer using spaCy\n",
    "class predictors(TransformerMixin):\n",
    "    def transform(self, X, **transform_params):\n",
    "        # Cleaning Text\n",
    "        return [clean_text(text) for text in X]\n",
    "\n",
    "    def fit(self, X, y=None, **fit_params):\n",
    "        return self\n",
    "\n",
    "    def get_params(self, deep=True):\n",
    "        return {}\n",
    "\n",
    "# Basic function to clean the text\n",
    "def clean_text(text):\n",
    "    # Removing spaces and converting text into lowercase\n",
    "    return text.strip().lower()"
   ]
  },
  {
   "cell_type": "code",
   "execution_count": 62,
   "metadata": {
    "executionInfo": {
     "elapsed": 351976,
     "status": "ok",
     "timestamp": 1618875279321,
     "user": {
      "displayName": "Sanjiv Das",
      "photoUrl": "https://lh3.googleusercontent.com/a-/AOh14GhgUU3RgThSxLUq6NKSN2tDGDl8IQdtHMvdaZPE=s64",
      "userId": "06377870171053566924"
     },
     "user_tz": 420
    },
    "id": "09BBPmBYHjgd"
   },
   "outputs": [],
   "source": [
    "bow_vector = CountVectorizer(tokenizer = spacy_tokenizer, ngram_range=(1,1))\n",
    "tfidf_vector = TfidfVectorizer(tokenizer = spacy_tokenizer)"
   ]
  },
  {
   "cell_type": "code",
   "execution_count": 63,
   "metadata": {
    "colab": {
     "base_uri": "https://localhost:8080/"
    },
    "executionInfo": {
     "elapsed": 351966,
     "status": "ok",
     "timestamp": 1618875279323,
     "user": {
      "displayName": "Sanjiv Das",
      "photoUrl": "https://lh3.googleusercontent.com/a-/AOh14GhgUU3RgThSxLUq6NKSN2tDGDl8IQdtHMvdaZPE=s64",
      "userId": "06377870171053566924"
     },
     "user_tz": 420
    },
    "id": "0BAKcSS8Hjgf",
    "outputId": "5cff73c3-e463-4a0f-ed53-777c8a3ee82d"
   },
   "outputs": [
    {
     "data": {
      "text/plain": [
       "Index(['id', 'sentiment', 'review'], dtype='object')"
      ]
     },
     "execution_count": 63,
     "metadata": {
      "tags": []
     },
     "output_type": "execute_result"
    }
   ],
   "source": [
    "df.columns"
   ]
  },
  {
   "cell_type": "code",
   "execution_count": 64,
   "metadata": {
    "executionInfo": {
     "elapsed": 351964,
     "status": "ok",
     "timestamp": 1618875279325,
     "user": {
      "displayName": "Sanjiv Das",
      "photoUrl": "https://lh3.googleusercontent.com/a-/AOh14GhgUU3RgThSxLUq6NKSN2tDGDl8IQdtHMvdaZPE=s64",
      "userId": "06377870171053566924"
     },
     "user_tz": 420
    },
    "id": "0c7hwerwHjgh"
   },
   "outputs": [],
   "source": [
    "from sklearn.model_selection import train_test_split\n",
    "\n",
    "X = df['review'] # the features we want to analyze\n",
    "ylabels = df['sentiment'] # the labels, or answers, we want to test against\n",
    "\n",
    "X_train, X_test, y_train, y_test = train_test_split(X, ylabels, test_size=0.3)"
   ]
  },
  {
   "cell_type": "code",
   "execution_count": 65,
   "metadata": {
    "colab": {
     "base_uri": "https://localhost:8080/"
    },
    "executionInfo": {
     "elapsed": 550002,
     "status": "ok",
     "timestamp": 1618875477374,
     "user": {
      "displayName": "Sanjiv Das",
      "photoUrl": "https://lh3.googleusercontent.com/a-/AOh14GhgUU3RgThSxLUq6NKSN2tDGDl8IQdtHMvdaZPE=s64",
      "userId": "06377870171053566924"
     },
     "user_tz": 420
    },
    "id": "vNhTzurXHjgj",
    "outputId": "fc4f8c90-82a9-440e-80f7-baf4d1b144a1"
   },
   "outputs": [
    {
     "name": "stdout",
     "output_type": "stream",
     "text": [
      "CPU times: user 3min 10s, sys: 3.94 s, total: 3min 14s\n",
      "Wall time: 3min 18s\n"
     ]
    }
   ],
   "source": [
    "%%time\n",
    "# Logistic Regression Classifier\n",
    "from sklearn.linear_model import LogisticRegression\n",
    "classifier = LogisticRegression(max_iter=10000)\n",
    "\n",
    "# Create pipeline using Bag of Words\n",
    "pipe = Pipeline([(\"cleaner\", predictors()),\n",
    "                 ('vectorizer', tfidf_vector),   # replace with tf_idf, or bow to try\n",
    "                 ('classifier', classifier)])\n",
    "\n",
    "# model generation\n",
    "pipe.fit(X_train,y_train)"
   ]
  },
  {
   "cell_type": "code",
   "execution_count": 66,
   "metadata": {
    "colab": {
     "base_uri": "https://localhost:8080/"
    },
    "executionInfo": {
     "elapsed": 598933,
     "status": "ok",
     "timestamp": 1618875526320,
     "user": {
      "displayName": "Sanjiv Das",
      "photoUrl": "https://lh3.googleusercontent.com/a-/AOh14GhgUU3RgThSxLUq6NKSN2tDGDl8IQdtHMvdaZPE=s64",
      "userId": "06377870171053566924"
     },
     "user_tz": 420
    },
    "id": "UWdSA0QwHjgl",
    "outputId": "322e01bc-490b-4659-ac26-0f2cdba5dd24"
   },
   "outputs": [
    {
     "name": "stdout",
     "output_type": "stream",
     "text": [
      "Logistic Regression Accuracy: 0.844\n",
      "Logistic Regression Precision: 0.818295739348371\n",
      "Logistic Regression Recall: 0.8800539083557951\n"
     ]
    }
   ],
   "source": [
    "from sklearn import metrics\n",
    "# Predicting with a test dataset\n",
    "predicted = pipe.predict(X_test)\n",
    "\n",
    "# Model Accuracy\n",
    "print(\"Logistic Regression Accuracy:\",metrics.accuracy_score(y_test, predicted))\n",
    "print(\"Logistic Regression Precision:\",metrics.precision_score(y_test, predicted))\n",
    "print(\"Logistic Regression Recall:\",metrics.recall_score(y_test, predicted))"
   ]
  },
  {
   "cell_type": "code",
   "execution_count": 67,
   "metadata": {
    "colab": {
     "base_uri": "https://localhost:8080/"
    },
    "executionInfo": {
     "elapsed": 598924,
     "status": "ok",
     "timestamp": 1618875526322,
     "user": {
      "displayName": "Sanjiv Das",
      "photoUrl": "https://lh3.googleusercontent.com/a-/AOh14GhgUU3RgThSxLUq6NKSN2tDGDl8IQdtHMvdaZPE=s64",
      "userId": "06377870171053566924"
     },
     "user_tz": 420
    },
    "id": "xTQang5YHjgn",
    "outputId": "7b0618a8-42c7-4f54-ee47-78c404c78752"
   },
   "outputs": [
    {
     "name": "stdout",
     "output_type": "stream",
     "text": [
      "acc = 0.844\n",
      "[[613 145]\n",
      " [ 89 653]]\n"
     ]
    }
   ],
   "source": [
    "from sklearn.metrics import confusion_matrix\n",
    "cm = confusion_matrix(y_test, predicted)\n",
    "acc = sum(diag(cm))/sum(cm)\n",
    "print(\"acc =\",acc)\n",
    "print(cm)"
   ]
  },
  {
   "cell_type": "markdown",
   "metadata": {
    "id": "PfwQ8sv5FPZD"
   },
   "source": [
    "## Use AutoGluon Tabular on News Dataset\n",
    "\n",
    "Apache MXNET: https://mxnet.apache.org/versions/1.7.0/"
   ]
  },
  {
   "cell_type": "code",
   "execution_count": 68,
   "metadata": {
    "colab": {
     "base_uri": "https://localhost:8080/",
     "height": 1000
    },
    "executionInfo": {
     "elapsed": 756579,
     "status": "ok",
     "timestamp": 1618875683991,
     "user": {
      "displayName": "Sanjiv Das",
      "photoUrl": "https://lh3.googleusercontent.com/a-/AOh14GhgUU3RgThSxLUq6NKSN2tDGDl8IQdtHMvdaZPE=s64",
      "userId": "06377870171053566924"
     },
     "user_tz": 420
    },
    "id": "oMq1fBoSFPZD",
    "outputId": "f2b90497-565b-4de1-af9e-8cd4ecade58a"
   },
   "outputs": [
    {
     "name": "stdout",
     "output_type": "stream",
     "text": [
      "Collecting pip\n",
      "\u001b[?25l  Downloading https://files.pythonhosted.org/packages/fe/ef/60d7ba03b5c442309ef42e7d69959f73aacccd0d86008362a681c4698e83/pip-21.0.1-py3-none-any.whl (1.5MB)\n",
      "\r",
      "\u001b[K     |▏                               | 10kB 25.9MB/s eta 0:00:01\r",
      "\u001b[K     |▍                               | 20kB 16.8MB/s eta 0:00:01\r",
      "\u001b[K     |▋                               | 30kB 14.8MB/s eta 0:00:01\r",
      "\u001b[K     |▉                               | 40kB 13.7MB/s eta 0:00:01\r",
      "\u001b[K     |█                               | 51kB 8.0MB/s eta 0:00:01\r",
      "\u001b[K     |█▎                              | 61kB 8.2MB/s eta 0:00:01\r",
      "\u001b[K     |█▌                              | 71kB 9.3MB/s eta 0:00:01\r",
      "\u001b[K     |█▊                              | 81kB 8.8MB/s eta 0:00:01\r",
      "\u001b[K     |██                              | 92kB 9.7MB/s eta 0:00:01\r",
      "\u001b[K     |██▏                             | 102kB 8.4MB/s eta 0:00:01\r",
      "\u001b[K     |██▍                             | 112kB 8.4MB/s eta 0:00:01\r",
      "\u001b[K     |██▌                             | 122kB 8.4MB/s eta 0:00:01\r",
      "\u001b[K     |██▊                             | 133kB 8.4MB/s eta 0:00:01\r",
      "\u001b[K     |███                             | 143kB 8.4MB/s eta 0:00:01\r",
      "\u001b[K     |███▏                            | 153kB 8.4MB/s eta 0:00:01\r",
      "\u001b[K     |███▍                            | 163kB 8.4MB/s eta 0:00:01\r",
      "\u001b[K     |███▋                            | 174kB 8.4MB/s eta 0:00:01\r",
      "\u001b[K     |███▉                            | 184kB 8.4MB/s eta 0:00:01\r",
      "\u001b[K     |████                            | 194kB 8.4MB/s eta 0:00:01\r",
      "\u001b[K     |████▎                           | 204kB 8.4MB/s eta 0:00:01\r",
      "\u001b[K     |████▌                           | 215kB 8.4MB/s eta 0:00:01\r",
      "\u001b[K     |████▊                           | 225kB 8.4MB/s eta 0:00:01\r",
      "\u001b[K     |█████                           | 235kB 8.4MB/s eta 0:00:01\r",
      "\u001b[K     |█████                           | 245kB 8.4MB/s eta 0:00:01\r",
      "\u001b[K     |█████▎                          | 256kB 8.4MB/s eta 0:00:01\r",
      "\u001b[K     |█████▌                          | 266kB 8.4MB/s eta 0:00:01\r",
      "\u001b[K     |█████▊                          | 276kB 8.4MB/s eta 0:00:01\r",
      "\u001b[K     |██████                          | 286kB 8.4MB/s eta 0:00:01\r",
      "\u001b[K     |██████▏                         | 296kB 8.4MB/s eta 0:00:01\r",
      "\u001b[K     |██████▍                         | 307kB 8.4MB/s eta 0:00:01\r",
      "\u001b[K     |██████▋                         | 317kB 8.4MB/s eta 0:00:01\r",
      "\u001b[K     |██████▉                         | 327kB 8.4MB/s eta 0:00:01\r",
      "\u001b[K     |███████                         | 337kB 8.4MB/s eta 0:00:01\r",
      "\u001b[K     |███████▎                        | 348kB 8.4MB/s eta 0:00:01\r",
      "\u001b[K     |███████▌                        | 358kB 8.4MB/s eta 0:00:01\r",
      "\u001b[K     |███████▋                        | 368kB 8.4MB/s eta 0:00:01\r",
      "\u001b[K     |███████▉                        | 378kB 8.4MB/s eta 0:00:01\r",
      "\u001b[K     |████████                        | 389kB 8.4MB/s eta 0:00:01\r",
      "\u001b[K     |████████▎                       | 399kB 8.4MB/s eta 0:00:01\r",
      "\u001b[K     |████████▌                       | 409kB 8.4MB/s eta 0:00:01\r",
      "\u001b[K     |████████▊                       | 419kB 8.4MB/s eta 0:00:01\r",
      "\u001b[K     |█████████                       | 430kB 8.4MB/s eta 0:00:01\r",
      "\u001b[K     |█████████▏                      | 440kB 8.4MB/s eta 0:00:01\r",
      "\u001b[K     |█████████▍                      | 450kB 8.4MB/s eta 0:00:01\r",
      "\u001b[K     |█████████▋                      | 460kB 8.4MB/s eta 0:00:01\r",
      "\u001b[K     |█████████▉                      | 471kB 8.4MB/s eta 0:00:01\r",
      "\u001b[K     |██████████                      | 481kB 8.4MB/s eta 0:00:01\r",
      "\u001b[K     |██████████▏                     | 491kB 8.4MB/s eta 0:00:01\r",
      "\u001b[K     |██████████▍                     | 501kB 8.4MB/s eta 0:00:01\r",
      "\u001b[K     |██████████▋                     | 512kB 8.4MB/s eta 0:00:01\r",
      "\u001b[K     |██████████▉                     | 522kB 8.4MB/s eta 0:00:01\r",
      "\u001b[K     |███████████                     | 532kB 8.4MB/s eta 0:00:01\r",
      "\u001b[K     |███████████▎                    | 542kB 8.4MB/s eta 0:00:01\r",
      "\u001b[K     |███████████▌                    | 552kB 8.4MB/s eta 0:00:01\r",
      "\u001b[K     |███████████▊                    | 563kB 8.4MB/s eta 0:00:01\r",
      "\u001b[K     |████████████                    | 573kB 8.4MB/s eta 0:00:01\r",
      "\u001b[K     |████████████▏                   | 583kB 8.4MB/s eta 0:00:01\r",
      "\u001b[K     |████████████▍                   | 593kB 8.4MB/s eta 0:00:01\r",
      "\u001b[K     |████████████▋                   | 604kB 8.4MB/s eta 0:00:01\r",
      "\u001b[K     |████████████▊                   | 614kB 8.4MB/s eta 0:00:01\r",
      "\u001b[K     |█████████████                   | 624kB 8.4MB/s eta 0:00:01\r",
      "\u001b[K     |█████████████▏                  | 634kB 8.4MB/s eta 0:00:01\r",
      "\u001b[K     |█████████████▍                  | 645kB 8.4MB/s eta 0:00:01\r",
      "\u001b[K     |█████████████▋                  | 655kB 8.4MB/s eta 0:00:01\r",
      "\u001b[K     |█████████████▉                  | 665kB 8.4MB/s eta 0:00:01\r",
      "\u001b[K     |██████████████                  | 675kB 8.4MB/s eta 0:00:01\r",
      "\u001b[K     |██████████████▎                 | 686kB 8.4MB/s eta 0:00:01\r",
      "\u001b[K     |██████████████▌                 | 696kB 8.4MB/s eta 0:00:01\r",
      "\u001b[K     |██████████████▊                 | 706kB 8.4MB/s eta 0:00:01\r",
      "\u001b[K     |███████████████                 | 716kB 8.4MB/s eta 0:00:01\r",
      "\u001b[K     |███████████████▏                | 727kB 8.4MB/s eta 0:00:01\r",
      "\u001b[K     |███████████████▎                | 737kB 8.4MB/s eta 0:00:01\r",
      "\u001b[K     |███████████████▌                | 747kB 8.4MB/s eta 0:00:01\r",
      "\u001b[K     |███████████████▊                | 757kB 8.4MB/s eta 0:00:01\r",
      "\u001b[K     |████████████████                | 768kB 8.4MB/s eta 0:00:01\r",
      "\u001b[K     |████████████████▏               | 778kB 8.4MB/s eta 0:00:01\r",
      "\u001b[K     |████████████████▍               | 788kB 8.4MB/s eta 0:00:01\r",
      "\u001b[K     |████████████████▋               | 798kB 8.4MB/s eta 0:00:01\r",
      "\u001b[K     |████████████████▉               | 808kB 8.4MB/s eta 0:00:01\r",
      "\u001b[K     |█████████████████               | 819kB 8.4MB/s eta 0:00:01\r",
      "\u001b[K     |█████████████████▎              | 829kB 8.4MB/s eta 0:00:01\r",
      "\u001b[K     |█████████████████▌              | 839kB 8.4MB/s eta 0:00:01\r",
      "\u001b[K     |█████████████████▊              | 849kB 8.4MB/s eta 0:00:01\r",
      "\u001b[K     |█████████████████▉              | 860kB 8.4MB/s eta 0:00:01\r",
      "\u001b[K     |██████████████████              | 870kB 8.4MB/s eta 0:00:01\r",
      "\u001b[K     |██████████████████▎             | 880kB 8.4MB/s eta 0:00:01\r",
      "\u001b[K     |██████████████████▌             | 890kB 8.4MB/s eta 0:00:01\r",
      "\u001b[K     |██████████████████▊             | 901kB 8.4MB/s eta 0:00:01\r",
      "\u001b[K     |███████████████████             | 911kB 8.4MB/s eta 0:00:01\r",
      "\u001b[K     |███████████████████▏            | 921kB 8.4MB/s eta 0:00:01\r",
      "\u001b[K     |███████████████████▍            | 931kB 8.4MB/s eta 0:00:01\r",
      "\u001b[K     |███████████████████▋            | 942kB 8.4MB/s eta 0:00:01\r",
      "\u001b[K     |███████████████████▉            | 952kB 8.4MB/s eta 0:00:01\r",
      "\u001b[K     |████████████████████            | 962kB 8.4MB/s eta 0:00:01\r",
      "\u001b[K     |████████████████████▎           | 972kB 8.4MB/s eta 0:00:01\r",
      "\u001b[K     |████████████████████▍           | 983kB 8.4MB/s eta 0:00:01\r",
      "\u001b[K     |████████████████████▋           | 993kB 8.4MB/s eta 0:00:01\r",
      "\u001b[K     |████████████████████▉           | 1.0MB 8.4MB/s eta 0:00:01\r",
      "\u001b[K     |█████████████████████           | 1.0MB 8.4MB/s eta 0:00:01\r",
      "\u001b[K     |█████████████████████▎          | 1.0MB 8.4MB/s eta 0:00:01\r",
      "\u001b[K     |█████████████████████▌          | 1.0MB 8.4MB/s eta 0:00:01\r",
      "\u001b[K     |█████████████████████▊          | 1.0MB 8.4MB/s eta 0:00:01\r",
      "\u001b[K     |██████████████████████          | 1.1MB 8.4MB/s eta 0:00:01\r",
      "\u001b[K     |██████████████████████▏         | 1.1MB 8.4MB/s eta 0:00:01\r",
      "\u001b[K     |██████████████████████▍         | 1.1MB 8.4MB/s eta 0:00:01\r",
      "\u001b[K     |██████████████████████▋         | 1.1MB 8.4MB/s eta 0:00:01\r",
      "\u001b[K     |██████████████████████▉         | 1.1MB 8.4MB/s eta 0:00:01\r",
      "\u001b[K     |███████████████████████         | 1.1MB 8.4MB/s eta 0:00:01\r",
      "\u001b[K     |███████████████████████▏        | 1.1MB 8.4MB/s eta 0:00:01\r",
      "\u001b[K     |███████████████████████▍        | 1.1MB 8.4MB/s eta 0:00:01\r",
      "\u001b[K     |███████████████████████▋        | 1.1MB 8.4MB/s eta 0:00:01\r",
      "\u001b[K     |███████████████████████▉        | 1.1MB 8.4MB/s eta 0:00:01\r",
      "\u001b[K     |████████████████████████        | 1.2MB 8.4MB/s eta 0:00:01\r",
      "\u001b[K     |████████████████████████▎       | 1.2MB 8.4MB/s eta 0:00:01\r",
      "\u001b[K     |████████████████████████▌       | 1.2MB 8.4MB/s eta 0:00:01\r",
      "\u001b[K     |████████████████████████▊       | 1.2MB 8.4MB/s eta 0:00:01\r",
      "\u001b[K     |█████████████████████████       | 1.2MB 8.4MB/s eta 0:00:01\r",
      "\u001b[K     |█████████████████████████▏      | 1.2MB 8.4MB/s eta 0:00:01\r",
      "\u001b[K     |█████████████████████████▍      | 1.2MB 8.4MB/s eta 0:00:01\r",
      "\u001b[K     |█████████████████████████▌      | 1.2MB 8.4MB/s eta 0:00:01\r",
      "\u001b[K     |█████████████████████████▊      | 1.2MB 8.4MB/s eta 0:00:01\r",
      "\u001b[K     |██████████████████████████      | 1.2MB 8.4MB/s eta 0:00:01\r",
      "\u001b[K     |██████████████████████████▏     | 1.3MB 8.4MB/s eta 0:00:01\r",
      "\u001b[K     |██████████████████████████▍     | 1.3MB 8.4MB/s eta 0:00:01\r",
      "\u001b[K     |██████████████████████████▋     | 1.3MB 8.4MB/s eta 0:00:01\r",
      "\u001b[K     |██████████████████████████▉     | 1.3MB 8.4MB/s eta 0:00:01\r",
      "\u001b[K     |███████████████████████████     | 1.3MB 8.4MB/s eta 0:00:01\r",
      "\u001b[K     |███████████████████████████▎    | 1.3MB 8.4MB/s eta 0:00:01\r",
      "\u001b[K     |███████████████████████████▌    | 1.3MB 8.4MB/s eta 0:00:01\r",
      "\u001b[K     |███████████████████████████▊    | 1.3MB 8.4MB/s eta 0:00:01\r",
      "\u001b[K     |███████████████████████████▉    | 1.3MB 8.4MB/s eta 0:00:01\r",
      "\u001b[K     |████████████████████████████    | 1.4MB 8.4MB/s eta 0:00:01\r",
      "\u001b[K     |████████████████████████████▎   | 1.4MB 8.4MB/s eta 0:00:01\r",
      "\u001b[K     |████████████████████████████▌   | 1.4MB 8.4MB/s eta 0:00:01\r",
      "\u001b[K     |████████████████████████████▊   | 1.4MB 8.4MB/s eta 0:00:01\r",
      "\u001b[K     |█████████████████████████████   | 1.4MB 8.4MB/s eta 0:00:01\r",
      "\u001b[K     |█████████████████████████████▏  | 1.4MB 8.4MB/s eta 0:00:01\r",
      "\u001b[K     |█████████████████████████████▍  | 1.4MB 8.4MB/s eta 0:00:01\r",
      "\u001b[K     |█████████████████████████████▋  | 1.4MB 8.4MB/s eta 0:00:01\r",
      "\u001b[K     |█████████████████████████████▉  | 1.4MB 8.4MB/s eta 0:00:01\r",
      "\u001b[K     |██████████████████████████████  | 1.4MB 8.4MB/s eta 0:00:01\r",
      "\u001b[K     |██████████████████████████████▎ | 1.5MB 8.4MB/s eta 0:00:01\r",
      "\u001b[K     |██████████████████████████████▍ | 1.5MB 8.4MB/s eta 0:00:01\r",
      "\u001b[K     |██████████████████████████████▋ | 1.5MB 8.4MB/s eta 0:00:01\r",
      "\u001b[K     |██████████████████████████████▉ | 1.5MB 8.4MB/s eta 0:00:01\r",
      "\u001b[K     |███████████████████████████████ | 1.5MB 8.4MB/s eta 0:00:01\r",
      "\u001b[K     |███████████████████████████████▎| 1.5MB 8.4MB/s eta 0:00:01\r",
      "\u001b[K     |███████████████████████████████▌| 1.5MB 8.4MB/s eta 0:00:01\r",
      "\u001b[K     |███████████████████████████████▊| 1.5MB 8.4MB/s eta 0:00:01\r",
      "\u001b[K     |████████████████████████████████| 1.5MB 8.4MB/s eta 0:00:01\r",
      "\u001b[K     |████████████████████████████████| 1.5MB 8.4MB/s \n",
      "\u001b[?25hInstalling collected packages: pip\n",
      "  Found existing installation: pip 19.3.1\n",
      "    Uninstalling pip-19.3.1:\n",
      "      Successfully uninstalled pip-19.3.1\n",
      "Successfully installed pip-21.0.1\n",
      "Requirement already satisfied: setuptools in /usr/local/lib/python3.7/dist-packages (54.2.0)\n",
      "Collecting setuptools\n",
      "  Downloading setuptools-56.0.0-py3-none-any.whl (784 kB)\n",
      "\u001b[K     |████████████████████████████████| 784 kB 7.8 MB/s \n",
      "\u001b[?25hInstalling collected packages: setuptools\n",
      "  Attempting uninstall: setuptools\n",
      "    Found existing installation: setuptools 54.2.0\n",
      "    Uninstalling setuptools-54.2.0:\n",
      "      Successfully uninstalled setuptools-54.2.0\n",
      "\u001b[31mERROR: pip's dependency resolver does not currently take into account all the packages that are installed. This behaviour is the source of the following dependency conflicts.\n",
      "datascience 0.10.6 requires folium==0.2.1, but you have folium 0.8.3 which is incompatible.\u001b[0m\n",
      "Successfully installed setuptools-56.0.0\n"
     ]
    },
    {
     "data": {
      "application/vnd.colab-display-data+json": {
       "pip_warning": {
        "packages": [
         "pkg_resources"
        ]
       }
      }
     },
     "metadata": {
      "tags": []
     },
     "output_type": "display_data"
    },
    {
     "name": "stdout",
     "output_type": "stream",
     "text": [
      "Collecting mxnet_cu110<2.0.0\n",
      "  Downloading mxnet_cu110-1.8.0.post0-py2.py3-none-manylinux2014_x86_64.whl (323.5 MB)\n",
      "\u001b[K     |████████████████████████████████| 323.5 MB 366 bytes/s \n",
      "\u001b[?25hRequirement already satisfied: numpy<2.0.0,>1.16.0 in /usr/local/lib/python3.7/dist-packages (from mxnet_cu110<2.0.0) (1.19.5)\n",
      "Collecting graphviz<0.9.0,>=0.8.1\n",
      "  Downloading graphviz-0.8.4-py2.py3-none-any.whl (16 kB)\n",
      "Requirement already satisfied: requests<3,>=2.20.0 in /usr/local/lib/python3.7/dist-packages (from mxnet_cu110<2.0.0) (2.23.0)\n",
      "Requirement already satisfied: chardet<4,>=3.0.2 in /usr/local/lib/python3.7/dist-packages (from requests<3,>=2.20.0->mxnet_cu110<2.0.0) (3.0.4)\n",
      "Requirement already satisfied: certifi>=2017.4.17 in /usr/local/lib/python3.7/dist-packages (from requests<3,>=2.20.0->mxnet_cu110<2.0.0) (2020.12.5)\n",
      "Requirement already satisfied: idna<3,>=2.5 in /usr/local/lib/python3.7/dist-packages (from requests<3,>=2.20.0->mxnet_cu110<2.0.0) (2.10)\n",
      "Requirement already satisfied: urllib3!=1.25.0,!=1.25.1,<1.26,>=1.21.1 in /usr/local/lib/python3.7/dist-packages (from requests<3,>=2.20.0->mxnet_cu110<2.0.0) (1.24.3)\n",
      "Installing collected packages: graphviz, mxnet-cu110\n",
      "  Attempting uninstall: graphviz\n",
      "    Found existing installation: graphviz 0.10.1\n",
      "    Uninstalling graphviz-0.10.1:\n",
      "      Successfully uninstalled graphviz-0.10.1\n",
      "Successfully installed graphviz-0.8.4 mxnet-cu110-1.8.0.post0\n",
      "Collecting autogluon==0.1.0\n",
      "  Downloading autogluon-0.1.0-py3-none-any.whl (5.4 kB)\n",
      "Collecting autogluon.tabular[all]==0.1.0\n",
      "  Downloading autogluon.tabular-0.1.0-py3-none-any.whl (230 kB)\n",
      "\u001b[K     |████████████████████████████████| 230 kB 7.3 MB/s \n",
      "\u001b[?25hCollecting autogluon.text==0.1.0\n",
      "  Downloading autogluon.text-0.1.0-py3-none-any.whl (48 kB)\n",
      "\u001b[K     |████████████████████████████████| 48 kB 4.2 MB/s \n",
      "\u001b[?25hCollecting autogluon.core==0.1.0\n",
      "  Downloading autogluon.core-0.1.0-py3-none-any.whl (311 kB)\n",
      "\u001b[K     |████████████████████████████████| 311 kB 10.1 MB/s \n",
      "\u001b[?25hCollecting autogluon.vision==0.1.0\n",
      "  Downloading autogluon.vision-0.1.0-py3-none-any.whl (28 kB)\n",
      "Collecting autogluon.extra==0.1.0\n",
      "  Downloading autogluon.extra-0.1.0-py3-none-any.whl (23 kB)\n",
      "Collecting autogluon.features==0.1.0\n",
      "  Downloading autogluon.features-0.1.0-py3-none-any.whl (48 kB)\n",
      "\u001b[K     |████████████████████████████████| 48 kB 5.8 MB/s \n",
      "\u001b[?25hCollecting autogluon.mxnet==0.1.0\n",
      "  Downloading autogluon.mxnet-0.1.0-py3-none-any.whl (31 kB)\n",
      "Requirement already satisfied: tqdm>=4.38.0 in /usr/local/lib/python3.7/dist-packages (from autogluon.core==0.1.0->autogluon==0.1.0) (4.41.1)\n",
      "Requirement already satisfied: matplotlib in /usr/local/lib/python3.7/dist-packages (from autogluon.core==0.1.0->autogluon==0.1.0) (3.2.2)\n",
      "Requirement already satisfied: dill==0.3.3 in /usr/local/lib/python3.7/dist-packages (from autogluon.core==0.1.0->autogluon==0.1.0) (0.3.3)\n",
      "Collecting ConfigSpace==0.4.18\n",
      "  Downloading ConfigSpace-0.4.18.tar.gz (950 kB)\n",
      "\u001b[K     |████████████████████████████████| 950 kB 15.1 MB/s \n",
      "\u001b[?25h  Installing build dependencies ... \u001b[?25l\u001b[?25hdone\n",
      "  Getting requirements to build wheel ... \u001b[?25l\u001b[?25hdone\n",
      "    Preparing wheel metadata ... \u001b[?25l\u001b[?25hdone\n",
      "Requirement already satisfied: dask>=2.6.0 in /usr/local/lib/python3.7/dist-packages (from autogluon.core==0.1.0->autogluon==0.1.0) (2.12.0)\n",
      "Requirement already satisfied: cython in /usr/local/lib/python3.7/dist-packages (from autogluon.core==0.1.0->autogluon==0.1.0) (0.29.22)\n",
      "Requirement already satisfied: tornado>=5.0.1 in /usr/local/lib/python3.7/dist-packages (from autogluon.core==0.1.0->autogluon==0.1.0) (5.1.1)\n",
      "Requirement already satisfied: requests in /usr/local/lib/python3.7/dist-packages (from autogluon.core==0.1.0->autogluon==0.1.0) (2.23.0)\n",
      "Collecting paramiko>=2.4\n",
      "  Downloading paramiko-2.7.2-py2.py3-none-any.whl (206 kB)\n",
      "\u001b[K     |████████████████████████████████| 206 kB 29.0 MB/s \n",
      "\u001b[?25hRequirement already satisfied: autograd>=1.3 in /usr/local/lib/python3.7/dist-packages (from autogluon.core==0.1.0->autogluon==0.1.0) (1.3)\n",
      "Requirement already satisfied: graphviz<0.9.0,>=0.8.1 in /usr/local/lib/python3.7/dist-packages (from autogluon.core==0.1.0->autogluon==0.1.0) (0.8.4)\n",
      "Requirement already satisfied: scikit-learn<0.25,>=0.22.0 in /usr/local/lib/python3.7/dist-packages (from autogluon.core==0.1.0->autogluon==0.1.0) (0.22.2.post1)\n",
      "Requirement already satisfied: pandas<2.0,>=1.0.0 in /usr/local/lib/python3.7/dist-packages (from autogluon.core==0.1.0->autogluon==0.1.0) (1.1.5)\n",
      "Collecting scipy==1.5.4\n",
      "  Downloading scipy-1.5.4-cp37-cp37m-manylinux1_x86_64.whl (25.9 MB)\n",
      "\u001b[K     |████████████████████████████████| 25.9 MB 1.4 kB/s \n",
      "\u001b[?25hRequirement already satisfied: numpy==1.19.5 in /usr/local/lib/python3.7/dist-packages (from autogluon.core==0.1.0->autogluon==0.1.0) (1.19.5)\n",
      "Collecting boto3\n",
      "  Downloading boto3-1.17.54-py2.py3-none-any.whl (131 kB)\n",
      "\u001b[K     |████████████████████████████████| 131 kB 75.7 MB/s \n",
      "\u001b[?25hCollecting distributed>=2.6.0\n",
      "  Downloading distributed-2021.4.0-py3-none-any.whl (684 kB)\n",
      "\u001b[K     |████████████████████████████████| 684 kB 71.3 MB/s \n",
      "\u001b[?25hRequirement already satisfied: bokeh in /usr/local/lib/python3.7/dist-packages (from autogluon.extra==0.1.0->autogluon==0.1.0) (2.3.1)\n",
      "Requirement already satisfied: pytest in /usr/local/lib/python3.7/dist-packages (from autogluon.extra==0.1.0->autogluon==0.1.0) (3.6.4)\n",
      "Collecting gluoncv<0.11.0,>=0.9.4\n",
      "  Downloading gluoncv-0.10.1.post0-py3-none-any.whl (1.1 MB)\n",
      "\u001b[K     |████████████████████████████████| 1.1 MB 68.5 MB/s \n",
      "\u001b[?25hCollecting openml\n",
      "  Downloading openml-0.12.1.tar.gz (115 kB)\n",
      "\u001b[K     |████████████████████████████████| 115 kB 78.4 MB/s \n",
      "\u001b[?25hRequirement already satisfied: Pillow<=8.1 in /usr/local/lib/python3.7/dist-packages (from autogluon.mxnet==0.1.0->autogluon==0.1.0) (7.1.2)\n",
      "Requirement already satisfied: networkx<3.0,>=2.3 in /usr/local/lib/python3.7/dist-packages (from autogluon.tabular[all]==0.1.0->autogluon==0.1.0) (2.5.1)\n",
      "Requirement already satisfied: psutil<=5.7.0,>=5.0.0 in /usr/local/lib/python3.7/dist-packages (from autogluon.tabular[all]==0.1.0->autogluon==0.1.0) (5.4.8)\n",
      "Requirement already satisfied: torch<2.0,>=1.0 in /usr/local/lib/python3.7/dist-packages (from autogluon.tabular[all]==0.1.0->autogluon==0.1.0) (1.8.1+cu101)\n",
      "Collecting catboost<0.25,>=0.23.0\n",
      "  Downloading catboost-0.24.4-cp37-none-manylinux1_x86_64.whl (65.7 MB)\n",
      "\u001b[K     |████████████████████████████████| 65.7 MB 8.5 kB/s \n",
      "\u001b[?25hCollecting xgboost<1.4,>=1.3.2\n",
      "  Downloading xgboost-1.3.3-py3-none-manylinux2010_x86_64.whl (157.5 MB)\n",
      "\u001b[K     |████████████████████████████████| 157.5 MB 64 kB/s \n",
      "\u001b[?25hRequirement already satisfied: fastai<2.0,>=1.0 in /usr/local/lib/python3.7/dist-packages (from autogluon.tabular[all]==0.1.0->autogluon==0.1.0) (1.0.61)\n",
      "Collecting lightgbm<4.0,>=3.0\n",
      "  Downloading lightgbm-3.2.1-py3-none-manylinux1_x86_64.whl (2.0 MB)\n",
      "\u001b[K     |████████████████████████████████| 2.0 MB 67.7 MB/s \n",
      "\u001b[?25hRequirement already satisfied: pyarrow>=3.0.0 in /usr/local/lib/python3.7/dist-packages (from autogluon.text==0.1.0->autogluon==0.1.0) (3.0.0)\n",
      "Collecting autogluon-contrib-nlp==0.0.1b20210201\n",
      "  Downloading autogluon_contrib_nlp-0.0.1b20210201-py3-none-any.whl (157 kB)\n",
      "\u001b[K     |████████████████████████████████| 157 kB 60.0 MB/s \n",
      "\u001b[?25hCollecting sacrebleu\n",
      "  Downloading sacrebleu-1.5.1-py3-none-any.whl (54 kB)\n",
      "\u001b[K     |████████████████████████████████| 54 kB 3.7 MB/s \n",
      "\u001b[?25hCollecting sentencepiece==0.1.95\n",
      "  Downloading sentencepiece-0.1.95-cp37-cp37m-manylinux2014_x86_64.whl (1.2 MB)\n",
      "\u001b[K     |████████████████████████████████| 1.2 MB 54.6 MB/s \n",
      "\u001b[?25hCollecting yacs>=0.1.6\n",
      "  Downloading yacs-0.1.8-py3-none-any.whl (14 kB)\n",
      "Collecting tokenizers==0.9.4\n",
      "  Downloading tokenizers-0.9.4-cp37-cp37m-manylinux2010_x86_64.whl (2.9 MB)\n",
      "\u001b[K     |████████████████████████████████| 2.9 MB 58.7 MB/s \n",
      "\u001b[?25hRequirement already satisfied: protobuf in /usr/local/lib/python3.7/dist-packages (from autogluon-contrib-nlp==0.0.1b20210201->autogluon.text==0.1.0->autogluon==0.1.0) (3.12.4)\n",
      "Collecting sacremoses>=0.0.38\n",
      "  Downloading sacremoses-0.0.45-py3-none-any.whl (895 kB)\n",
      "\u001b[K     |████████████████████████████████| 895 kB 62.2 MB/s \n",
      "\u001b[?25hRequirement already satisfied: regex in /usr/local/lib/python3.7/dist-packages (from autogluon-contrib-nlp==0.0.1b20210201->autogluon.text==0.1.0->autogluon==0.1.0) (2019.12.20)\n",
      "Collecting flake8\n",
      "  Downloading flake8-3.9.1-py2.py3-none-any.whl (73 kB)\n",
      "\u001b[K     |████████████████████████████████| 73 kB 1.8 MB/s \n",
      "\u001b[?25hCollecting contextvars\n",
      "  Downloading contextvars-2.4.tar.gz (9.6 kB)\n",
      "Collecting d8<1.0,>=0.0.2\n",
      "  Downloading d8-0.0.2.post0-py3-none-any.whl (28 kB)\n",
      "Requirement already satisfied: pyparsing in /usr/local/lib/python3.7/dist-packages (from ConfigSpace==0.4.18->autogluon.core==0.1.0->autogluon==0.1.0) (2.4.7)\n",
      "Requirement already satisfied: future>=0.15.2 in /usr/local/lib/python3.7/dist-packages (from autograd>=1.3->autogluon.core==0.1.0->autogluon==0.1.0) (0.16.0)\n",
      "Requirement already satisfied: plotly in /usr/local/lib/python3.7/dist-packages (from catboost<0.25,>=0.23.0->autogluon.tabular[all]==0.1.0->autogluon==0.1.0) (4.4.1)\n",
      "Requirement already satisfied: six in /usr/local/lib/python3.7/dist-packages (from catboost<0.25,>=0.23.0->autogluon.tabular[all]==0.1.0->autogluon==0.1.0) (1.15.0)\n",
      "Collecting xxhash\n",
      "  Downloading xxhash-2.0.2-cp37-cp37m-manylinux2010_x86_64.whl (243 kB)\n",
      "\u001b[K     |████████████████████████████████| 243 kB 66.2 MB/s \n",
      "\u001b[?25hRequirement already satisfied: kaggle in /usr/local/lib/python3.7/dist-packages (from d8<1.0,>=0.0.2->autogluon.vision==0.1.0->autogluon==0.1.0) (1.5.12)\n",
      "Requirement already satisfied: sortedcontainers!=2.0.0,!=2.0.1 in /usr/local/lib/python3.7/dist-packages (from distributed>=2.6.0->autogluon.core==0.1.0->autogluon==0.1.0) (2.3.0)\n",
      "Requirement already satisfied: pyyaml in /usr/local/lib/python3.7/dist-packages (from distributed>=2.6.0->autogluon.core==0.1.0->autogluon==0.1.0) (3.13)\n",
      "Requirement already satisfied: click>=6.6 in /usr/local/lib/python3.7/dist-packages (from distributed>=2.6.0->autogluon.core==0.1.0->autogluon==0.1.0) (7.1.2)\n",
      "Requirement already satisfied: tblib>=1.6.0 in /usr/local/lib/python3.7/dist-packages (from distributed>=2.6.0->autogluon.core==0.1.0->autogluon==0.1.0) (1.7.0)\n",
      "Collecting dask>=2.6.0\n",
      "  Downloading dask-2021.4.0-py3-none-any.whl (941 kB)\n",
      "\u001b[K     |████████████████████████████████| 941 kB 59.0 MB/s \n",
      "\u001b[?25hRequirement already satisfied: msgpack>=0.6.0 in /usr/local/lib/python3.7/dist-packages (from distributed>=2.6.0->autogluon.core==0.1.0->autogluon==0.1.0) (1.0.2)\n",
      "Requirement already satisfied: zict>=0.1.3 in /usr/local/lib/python3.7/dist-packages (from distributed>=2.6.0->autogluon.core==0.1.0->autogluon==0.1.0) (2.0.0)\n",
      "Requirement already satisfied: toolz>=0.8.2 in /usr/local/lib/python3.7/dist-packages (from distributed>=2.6.0->autogluon.core==0.1.0->autogluon==0.1.0) (0.11.1)\n",
      "Collecting cloudpickle>=1.5.0\n",
      "  Downloading cloudpickle-1.6.0-py3-none-any.whl (23 kB)\n",
      "Requirement already satisfied: setuptools in /usr/local/lib/python3.7/dist-packages (from distributed>=2.6.0->autogluon.core==0.1.0->autogluon==0.1.0) (56.0.0)\n",
      "Collecting fsspec>=0.6.0\n",
      "  Downloading fsspec-2021.4.0-py3-none-any.whl (108 kB)\n",
      "\u001b[K     |████████████████████████████████| 108 kB 78.8 MB/s \n",
      "\u001b[?25hCollecting partd>=0.3.10\n",
      "  Downloading partd-1.2.0-py3-none-any.whl (19 kB)\n",
      "Requirement already satisfied: beautifulsoup4 in /usr/local/lib/python3.7/dist-packages (from fastai<2.0,>=1.0->autogluon.tabular[all]==0.1.0->autogluon==0.1.0) (4.6.3)\n",
      "Requirement already satisfied: fastprogress>=0.2.1 in /usr/local/lib/python3.7/dist-packages (from fastai<2.0,>=1.0->autogluon.tabular[all]==0.1.0->autogluon==0.1.0) (1.0.0)\n",
      "Requirement already satisfied: packaging in /usr/local/lib/python3.7/dist-packages (from fastai<2.0,>=1.0->autogluon.tabular[all]==0.1.0->autogluon==0.1.0) (20.9)\n",
      "Requirement already satisfied: torchvision in /usr/local/lib/python3.7/dist-packages (from fastai<2.0,>=1.0->autogluon.tabular[all]==0.1.0->autogluon==0.1.0) (0.9.1+cu101)\n",
      "Requirement already satisfied: spacy>=2.0.18 in /usr/local/lib/python3.7/dist-packages (from fastai<2.0,>=1.0->autogluon.tabular[all]==0.1.0->autogluon==0.1.0) (2.2.4)\n",
      "Requirement already satisfied: nvidia-ml-py3 in /usr/local/lib/python3.7/dist-packages (from fastai<2.0,>=1.0->autogluon.tabular[all]==0.1.0->autogluon==0.1.0) (7.352.0)\n",
      "Requirement already satisfied: bottleneck in /usr/local/lib/python3.7/dist-packages (from fastai<2.0,>=1.0->autogluon.tabular[all]==0.1.0->autogluon==0.1.0) (1.3.2)\n",
      "Requirement already satisfied: numexpr in /usr/local/lib/python3.7/dist-packages (from fastai<2.0,>=1.0->autogluon.tabular[all]==0.1.0->autogluon==0.1.0) (2.7.3)\n",
      "Collecting decord\n",
      "  Downloading decord-0.5.2-py3-none-manylinux2010_x86_64.whl (14.1 MB)\n",
      "\u001b[K     |████████████████████████████████| 14.1 MB 60 kB/s \n",
      "\u001b[?25hCollecting tensorboardx\n",
      "  Downloading tensorboardX-2.2-py2.py3-none-any.whl (120 kB)\n",
      "\u001b[K     |████████████████████████████████| 120 kB 71.3 MB/s \n",
      "\u001b[?25hRequirement already satisfied: opencv-python in /usr/local/lib/python3.7/dist-packages (from gluoncv<0.11.0,>=0.9.4->autogluon.extra==0.1.0->autogluon==0.1.0) (4.1.2.30)\n",
      "Collecting portalocker\n",
      "  Downloading portalocker-2.3.0-py2.py3-none-any.whl (15 kB)\n",
      "Collecting autocfg\n",
      "  Downloading autocfg-0.0.8-py3-none-any.whl (13 kB)\n",
      "Requirement already satisfied: wheel in /usr/local/lib/python3.7/dist-packages (from lightgbm<4.0,>=3.0->autogluon.tabular[all]==0.1.0->autogluon==0.1.0) (0.36.2)\n",
      "Requirement already satisfied: decorator<5,>=4.3 in /usr/local/lib/python3.7/dist-packages (from networkx<3.0,>=2.3->autogluon.tabular[all]==0.1.0->autogluon==0.1.0) (4.4.2)\n",
      "Requirement already satisfied: pytz>=2017.2 in /usr/local/lib/python3.7/dist-packages (from pandas<2.0,>=1.0.0->autogluon.core==0.1.0->autogluon==0.1.0) (2018.9)\n",
      "Requirement already satisfied: python-dateutil>=2.7.3 in /usr/local/lib/python3.7/dist-packages (from pandas<2.0,>=1.0.0->autogluon.core==0.1.0->autogluon==0.1.0) (2.8.1)\n",
      "Collecting cryptography>=2.5\n",
      "  Downloading cryptography-3.4.7-cp36-abi3-manylinux2014_x86_64.whl (3.2 MB)\n",
      "\u001b[K     |████████████████████████████████| 3.2 MB 61.1 MB/s \n",
      "\u001b[?25hCollecting pynacl>=1.0.1\n",
      "  Downloading PyNaCl-1.4.0-cp35-abi3-manylinux1_x86_64.whl (961 kB)\n",
      "\u001b[K     |████████████████████████████████| 961 kB 66.5 MB/s \n",
      "\u001b[?25hCollecting bcrypt>=3.1.3\n",
      "  Downloading bcrypt-3.2.0-cp36-abi3-manylinux2010_x86_64.whl (63 kB)\n",
      "\u001b[K     |████████████████████████████████| 63 kB 3.4 MB/s \n",
      "\u001b[?25hRequirement already satisfied: cffi>=1.1 in /usr/local/lib/python3.7/dist-packages (from bcrypt>=3.1.3->paramiko>=2.4->autogluon.core==0.1.0->autogluon==0.1.0) (1.14.5)\n",
      "Requirement already satisfied: pycparser in /usr/local/lib/python3.7/dist-packages (from cffi>=1.1->bcrypt>=3.1.3->paramiko>=2.4->autogluon.core==0.1.0->autogluon==0.1.0) (2.20)\n",
      "Collecting locket\n",
      "  Downloading locket-0.2.1-py2.py3-none-any.whl (4.1 kB)\n",
      "Requirement already satisfied: joblib in /usr/local/lib/python3.7/dist-packages (from sacremoses>=0.0.38->autogluon-contrib-nlp==0.0.1b20210201->autogluon.text==0.1.0->autogluon==0.1.0) (1.0.1)\n",
      "Requirement already satisfied: thinc==7.4.0 in /usr/local/lib/python3.7/dist-packages (from spacy>=2.0.18->fastai<2.0,>=1.0->autogluon.tabular[all]==0.1.0->autogluon==0.1.0) (7.4.0)\n",
      "Requirement already satisfied: blis<0.5.0,>=0.4.0 in /usr/local/lib/python3.7/dist-packages (from spacy>=2.0.18->fastai<2.0,>=1.0->autogluon.tabular[all]==0.1.0->autogluon==0.1.0) (0.4.1)\n",
      "Requirement already satisfied: catalogue<1.1.0,>=0.0.7 in /usr/local/lib/python3.7/dist-packages (from spacy>=2.0.18->fastai<2.0,>=1.0->autogluon.tabular[all]==0.1.0->autogluon==0.1.0) (1.0.0)\n",
      "Requirement already satisfied: srsly<1.1.0,>=1.0.2 in /usr/local/lib/python3.7/dist-packages (from spacy>=2.0.18->fastai<2.0,>=1.0->autogluon.tabular[all]==0.1.0->autogluon==0.1.0) (1.0.5)\n",
      "Requirement already satisfied: plac<1.2.0,>=0.9.6 in /usr/local/lib/python3.7/dist-packages (from spacy>=2.0.18->fastai<2.0,>=1.0->autogluon.tabular[all]==0.1.0->autogluon==0.1.0) (1.1.3)\n",
      "Requirement already satisfied: wasabi<1.1.0,>=0.4.0 in /usr/local/lib/python3.7/dist-packages (from spacy>=2.0.18->fastai<2.0,>=1.0->autogluon.tabular[all]==0.1.0->autogluon==0.1.0) (0.8.2)\n",
      "Requirement already satisfied: preshed<3.1.0,>=3.0.2 in /usr/local/lib/python3.7/dist-packages (from spacy>=2.0.18->fastai<2.0,>=1.0->autogluon.tabular[all]==0.1.0->autogluon==0.1.0) (3.0.5)\n",
      "Requirement already satisfied: murmurhash<1.1.0,>=0.28.0 in /usr/local/lib/python3.7/dist-packages (from spacy>=2.0.18->fastai<2.0,>=1.0->autogluon.tabular[all]==0.1.0->autogluon==0.1.0) (1.0.5)\n",
      "Requirement already satisfied: cymem<2.1.0,>=2.0.2 in /usr/local/lib/python3.7/dist-packages (from spacy>=2.0.18->fastai<2.0,>=1.0->autogluon.tabular[all]==0.1.0->autogluon==0.1.0) (2.0.5)\n",
      "Requirement already satisfied: importlib-metadata>=0.20 in /usr/local/lib/python3.7/dist-packages (from catalogue<1.1.0,>=0.0.7->spacy>=2.0.18->fastai<2.0,>=1.0->autogluon.tabular[all]==0.1.0->autogluon==0.1.0) (3.10.1)\n",
      "Requirement already satisfied: zipp>=0.5 in /usr/local/lib/python3.7/dist-packages (from importlib-metadata>=0.20->catalogue<1.1.0,>=0.0.7->spacy>=2.0.18->fastai<2.0,>=1.0->autogluon.tabular[all]==0.1.0->autogluon==0.1.0) (3.4.1)\n",
      "Requirement already satisfied: typing-extensions>=3.6.4 in /usr/local/lib/python3.7/dist-packages (from importlib-metadata>=0.20->catalogue<1.1.0,>=0.0.7->spacy>=2.0.18->fastai<2.0,>=1.0->autogluon.tabular[all]==0.1.0->autogluon==0.1.0) (3.7.4.3)\n",
      "Requirement already satisfied: urllib3!=1.25.0,!=1.25.1,<1.26,>=1.21.1 in /usr/local/lib/python3.7/dist-packages (from requests->autogluon.core==0.1.0->autogluon==0.1.0) (1.24.3)\n",
      "Requirement already satisfied: certifi>=2017.4.17 in /usr/local/lib/python3.7/dist-packages (from requests->autogluon.core==0.1.0->autogluon==0.1.0) (2020.12.5)\n",
      "Requirement already satisfied: chardet<4,>=3.0.2 in /usr/local/lib/python3.7/dist-packages (from requests->autogluon.core==0.1.0->autogluon==0.1.0) (3.0.4)\n",
      "Requirement already satisfied: idna<3,>=2.5 in /usr/local/lib/python3.7/dist-packages (from requests->autogluon.core==0.1.0->autogluon==0.1.0) (2.10)\n",
      "Requirement already satisfied: heapdict in /usr/local/lib/python3.7/dist-packages (from zict>=0.1.3->distributed>=2.6.0->autogluon.core==0.1.0->autogluon==0.1.0) (1.0.1)\n",
      "Requirement already satisfied: Jinja2>=2.7 in /usr/local/lib/python3.7/dist-packages (from bokeh->autogluon.extra==0.1.0->autogluon==0.1.0) (2.11.3)\n",
      "Requirement already satisfied: MarkupSafe>=0.23 in /usr/local/lib/python3.7/dist-packages (from Jinja2>=2.7->bokeh->autogluon.extra==0.1.0->autogluon==0.1.0) (1.1.1)\n",
      "Collecting s3transfer<0.5.0,>=0.4.0\n",
      "  Downloading s3transfer-0.4.0-py2.py3-none-any.whl (79 kB)\n",
      "\u001b[K     |████████████████████████████████| 79 kB 10.4 MB/s \n",
      "\u001b[?25hCollecting botocore<1.21.0,>=1.20.54\n",
      "  Downloading botocore-1.20.54-py2.py3-none-any.whl (7.4 MB)\n",
      "\u001b[K     |████████████████████████████████| 7.4 MB 60.9 MB/s \n",
      "\u001b[?25hCollecting jmespath<1.0.0,>=0.7.1\n",
      "  Downloading jmespath-0.10.0-py2.py3-none-any.whl (24 kB)\n",
      "Collecting urllib3!=1.25.0,!=1.25.1,<1.26,>=1.21.1\n",
      "  Downloading urllib3-1.25.11-py2.py3-none-any.whl (127 kB)\n",
      "\u001b[K     |████████████████████████████████| 127 kB 75.8 MB/s \n",
      "\u001b[?25hCollecting immutables>=0.9\n",
      "  Downloading immutables-0.15-cp37-cp37m-manylinux1_x86_64.whl (101 kB)\n",
      "\u001b[K     |████████████████████████████████| 101 kB 15.1 MB/s \n",
      "\u001b[?25hCollecting mccabe<0.7.0,>=0.6.0\n",
      "  Downloading mccabe-0.6.1-py2.py3-none-any.whl (8.6 kB)\n",
      "Collecting pyflakes<2.4.0,>=2.3.0\n",
      "  Downloading pyflakes-2.3.1-py2.py3-none-any.whl (68 kB)\n",
      "\u001b[K     |████████████████████████████████| 68 kB 9.1 MB/s \n",
      "\u001b[?25hCollecting pycodestyle<2.8.0,>=2.7.0\n",
      "  Downloading pycodestyle-2.7.0-py2.py3-none-any.whl (41 kB)\n",
      "\u001b[K     |████████████████████████████████| 41 kB 827 kB/s \n",
      "\u001b[?25hRequirement already satisfied: python-slugify in /usr/local/lib/python3.7/dist-packages (from kaggle->d8<1.0,>=0.0.2->autogluon.vision==0.1.0->autogluon==0.1.0) (4.0.1)\n",
      "Requirement already satisfied: cycler>=0.10 in /usr/local/lib/python3.7/dist-packages (from matplotlib->autogluon.core==0.1.0->autogluon==0.1.0) (0.10.0)\n",
      "Requirement already satisfied: kiwisolver>=1.0.1 in /usr/local/lib/python3.7/dist-packages (from matplotlib->autogluon.core==0.1.0->autogluon==0.1.0) (1.3.1)\n",
      "Collecting liac-arff>=2.4.0\n",
      "  Downloading liac-arff-2.5.0.tar.gz (13 kB)\n",
      "Collecting xmltodict\n",
      "  Downloading xmltodict-0.12.0-py2.py3-none-any.whl (9.2 kB)\n",
      "Collecting minio\n",
      "  Downloading minio-7.0.3-py3-none-any.whl (75 kB)\n",
      "\u001b[K     |████████████████████████████████| 75 kB 5.1 MB/s \n",
      "\u001b[?25hRequirement already satisfied: retrying>=1.3.3 in /usr/local/lib/python3.7/dist-packages (from plotly->catboost<0.25,>=0.23.0->autogluon.tabular[all]==0.1.0->autogluon==0.1.0) (1.3.3)\n",
      "Requirement already satisfied: attrs>=17.4.0 in /usr/local/lib/python3.7/dist-packages (from pytest->autogluon.extra==0.1.0->autogluon==0.1.0) (20.3.0)\n",
      "Requirement already satisfied: more-itertools>=4.0.0 in /usr/local/lib/python3.7/dist-packages (from pytest->autogluon.extra==0.1.0->autogluon==0.1.0) (8.7.0)\n",
      "Requirement already satisfied: py>=1.5.0 in /usr/local/lib/python3.7/dist-packages (from pytest->autogluon.extra==0.1.0->autogluon==0.1.0) (1.10.0)\n",
      "Requirement already satisfied: atomicwrites>=1.0 in /usr/local/lib/python3.7/dist-packages (from pytest->autogluon.extra==0.1.0->autogluon==0.1.0) (1.4.0)\n",
      "Requirement already satisfied: pluggy<0.8,>=0.5 in /usr/local/lib/python3.7/dist-packages (from pytest->autogluon.extra==0.1.0->autogluon==0.1.0) (0.7.1)\n",
      "Requirement already satisfied: text-unidecode>=1.3 in /usr/local/lib/python3.7/dist-packages (from python-slugify->kaggle->d8<1.0,>=0.0.2->autogluon.vision==0.1.0->autogluon==0.1.0) (1.3)\n",
      "Collecting portalocker\n",
      "  Downloading portalocker-2.0.0-py2.py3-none-any.whl (11 kB)\n",
      "Building wheels for collected packages: ConfigSpace, contextvars, openml, liac-arff\n",
      "  Building wheel for ConfigSpace (PEP 517) ... \u001b[?25l\u001b[?25hdone\n",
      "  Created wheel for ConfigSpace: filename=ConfigSpace-0.4.18-cp37-cp37m-linux_x86_64.whl size=2880058 sha256=baa23b983fc126c4c9ff0e65c902592051c731994c7870dc98304be6beb32cdc\n",
      "  Stored in directory: /root/.cache/pip/wheels/36/f7/0f/36f368c419ea1a8024fc3d6c078c3111dfef43fa1d14cfebe0\n",
      "  Building wheel for contextvars (setup.py) ... \u001b[?25l\u001b[?25hdone\n",
      "  Created wheel for contextvars: filename=contextvars-2.4-py3-none-any.whl size=7665 sha256=a50b5ae183db9d6b1e3507b67a401b6451bee9e7e8c051351b177aef201888b5\n",
      "  Stored in directory: /root/.cache/pip/wheels/0a/11/79/e70e668095c0bb1f94718af672ef2d35ee7a023fee56ef54d9\n",
      "  Building wheel for openml (setup.py) ... \u001b[?25l\u001b[?25hdone\n",
      "  Created wheel for openml: filename=openml-0.12.1-py3-none-any.whl size=132143 sha256=4dee41e05812096e9bd007b28b5d6c65cd64a2bcb284165c58a77d9d26012838\n",
      "  Stored in directory: /root/.cache/pip/wheels/ea/77/16/c4f01efd89dd4a30524ec3bb91ba344b2c890031c0a85653b2\n",
      "  Building wheel for liac-arff (setup.py) ... \u001b[?25l\u001b[?25hdone\n",
      "  Created wheel for liac-arff: filename=liac_arff-2.5.0-py3-none-any.whl size=11731 sha256=d6eb666b2e7282e4555a0e28d6243dc2b3dbaeb2bb05b4e9dffe41bb8dc9835e\n",
      "  Stored in directory: /root/.cache/pip/wheels/1f/0f/15/332ca86cbebf25ddf98518caaf887945fbe1712b97a0f2493b\n",
      "Successfully built ConfigSpace contextvars openml liac-arff\n",
      "Installing collected packages: urllib3, locket, jmespath, partd, fsspec, cloudpickle, botocore, scipy, s3transfer, pynacl, dask, cryptography, bcrypt, paramiko, distributed, ConfigSpace, boto3, xmltodict, pyflakes, pycodestyle, portalocker, minio, mccabe, liac-arff, immutables, autogluon.core, yacs, xxhash, tokenizers, tensorboardx, sentencepiece, sacremoses, sacrebleu, openml, flake8, decord, contextvars, autogluon.features, autocfg, xgboost, lightgbm, gluoncv, d8, catboost, autogluon.tabular, autogluon.mxnet, autogluon-contrib-nlp, autogluon.vision, autogluon.text, autogluon.extra, autogluon\n",
      "  Attempting uninstall: urllib3\n",
      "    Found existing installation: urllib3 1.24.3\n",
      "    Uninstalling urllib3-1.24.3:\n",
      "      Successfully uninstalled urllib3-1.24.3\n",
      "  Attempting uninstall: cloudpickle\n",
      "    Found existing installation: cloudpickle 1.3.0\n",
      "    Uninstalling cloudpickle-1.3.0:\n",
      "      Successfully uninstalled cloudpickle-1.3.0\n",
      "  Attempting uninstall: scipy\n",
      "    Found existing installation: scipy 1.4.1\n",
      "    Uninstalling scipy-1.4.1:\n",
      "      Successfully uninstalled scipy-1.4.1\n",
      "  Attempting uninstall: dask\n",
      "    Found existing installation: dask 2.12.0\n",
      "    Uninstalling dask-2.12.0:\n",
      "      Successfully uninstalled dask-2.12.0\n",
      "  Attempting uninstall: distributed\n",
      "    Found existing installation: distributed 1.25.3\n",
      "    Uninstalling distributed-1.25.3:\n",
      "      Successfully uninstalled distributed-1.25.3\n",
      "  Attempting uninstall: xgboost\n",
      "    Found existing installation: xgboost 0.90\n",
      "    Uninstalling xgboost-0.90:\n",
      "      Successfully uninstalled xgboost-0.90\n",
      "  Attempting uninstall: lightgbm\n",
      "    Found existing installation: lightgbm 2.2.3\n",
      "    Uninstalling lightgbm-2.2.3:\n",
      "      Successfully uninstalled lightgbm-2.2.3\n",
      "\u001b[31mERROR: pip's dependency resolver does not currently take into account all the packages that are installed. This behaviour is the source of the following dependency conflicts.\n",
      "datascience 0.10.6 requires folium==0.2.1, but you have folium 0.8.3 which is incompatible.\n",
      "albumentations 0.1.12 requires imgaug<0.2.7,>=0.2.5, but you have imgaug 0.2.9 which is incompatible.\u001b[0m\n",
      "Successfully installed ConfigSpace-0.4.18 autocfg-0.0.8 autogluon-0.1.0 autogluon-contrib-nlp-0.0.1b20210201 autogluon.core-0.1.0 autogluon.extra-0.1.0 autogluon.features-0.1.0 autogluon.mxnet-0.1.0 autogluon.tabular-0.1.0 autogluon.text-0.1.0 autogluon.vision-0.1.0 bcrypt-3.2.0 boto3-1.17.54 botocore-1.20.54 catboost-0.24.4 cloudpickle-1.6.0 contextvars-2.4 cryptography-3.4.7 d8-0.0.2.post0 dask-2021.4.0 decord-0.5.2 distributed-2021.4.0 flake8-3.9.1 fsspec-2021.4.0 gluoncv-0.10.1.post0 immutables-0.15 jmespath-0.10.0 liac-arff-2.5.0 lightgbm-3.2.1 locket-0.2.1 mccabe-0.6.1 minio-7.0.3 openml-0.12.1 paramiko-2.7.2 partd-1.2.0 portalocker-2.0.0 pycodestyle-2.7.0 pyflakes-2.3.1 pynacl-1.4.0 s3transfer-0.4.0 sacrebleu-1.5.1 sacremoses-0.0.45 scipy-1.5.4 sentencepiece-0.1.95 tensorboardx-2.2 tokenizers-0.9.4 urllib3-1.25.11 xgboost-1.3.3 xmltodict-0.12.0 xxhash-2.0.2 yacs-0.1.8\n"
     ]
    },
    {
     "data": {
      "application/vnd.colab-display-data+json": {
       "pip_warning": {
        "packages": [
         "contextvars",
         "numpy",
         "scipy",
         "urllib3"
        ]
       }
      }
     },
     "metadata": {
      "tags": []
     },
     "output_type": "display_data"
    }
   ],
   "source": [
    "!pip install --upgrade pip\n",
    "!pip install --upgrade setuptools\n",
    "!pip install --upgrade \"mxnet_cu110<2.0.0\"\n",
    "!pip install autogluon==0.1.0"
   ]
  },
  {
   "cell_type": "code",
   "execution_count": 69,
   "metadata": {
    "executionInfo": {
     "elapsed": 757283,
     "status": "ok",
     "timestamp": 1618875684699,
     "user": {
      "displayName": "Sanjiv Das",
      "photoUrl": "https://lh3.googleusercontent.com/a-/AOh14GhgUU3RgThSxLUq6NKSN2tDGDl8IQdtHMvdaZPE=s64",
      "userId": "06377870171053566924"
     },
     "user_tz": 420
    },
    "id": "O4kO6wJNFPZD"
   },
   "outputs": [],
   "source": [
    "from autogluon.tabular import TabularPredictor\n",
    "import pandas as pd\n",
    "from sklearn.model_selection import train_test_split"
   ]
  },
  {
   "cell_type": "code",
   "execution_count": 70,
   "metadata": {
    "colab": {
     "base_uri": "https://localhost:8080/",
     "height": 220
    },
    "executionInfo": {
     "elapsed": 757798,
     "status": "ok",
     "timestamp": 1618875685226,
     "user": {
      "displayName": "Sanjiv Das",
      "photoUrl": "https://lh3.googleusercontent.com/a-/AOh14GhgUU3RgThSxLUq6NKSN2tDGDl8IQdtHMvdaZPE=s64",
      "userId": "06377870171053566924"
     },
     "user_tz": 420
    },
    "id": "qmpLeHyqFPZD",
    "outputId": "eaa2c753-d707-4289-daea-22c7eef1785e"
   },
   "outputs": [
    {
     "name": "stdout",
     "output_type": "stream",
     "text": [
      "(2264, 2)\n"
     ]
    },
    {
     "data": {
      "text/html": [
       "<div>\n",
       "<style scoped>\n",
       "    .dataframe tbody tr th:only-of-type {\n",
       "        vertical-align: middle;\n",
       "    }\n",
       "\n",
       "    .dataframe tbody tr th {\n",
       "        vertical-align: top;\n",
       "    }\n",
       "\n",
       "    .dataframe thead th {\n",
       "        text-align: right;\n",
       "    }\n",
       "</style>\n",
       "<table border=\"1\" class=\"dataframe\">\n",
       "  <thead>\n",
       "    <tr style=\"text-align: right;\">\n",
       "      <th></th>\n",
       "      <th>Text</th>\n",
       "      <th>Label</th>\n",
       "    </tr>\n",
       "  </thead>\n",
       "  <tbody>\n",
       "    <tr>\n",
       "      <th>0</th>\n",
       "      <td>According to Gran , the company has no plans t...</td>\n",
       "      <td>neutral</td>\n",
       "    </tr>\n",
       "    <tr>\n",
       "      <th>1</th>\n",
       "      <td>For the last quarter of 2010 , Componenta 's n...</td>\n",
       "      <td>positive</td>\n",
       "    </tr>\n",
       "    <tr>\n",
       "      <th>2</th>\n",
       "      <td>In the third quarter of 2010 , net sales incre...</td>\n",
       "      <td>positive</td>\n",
       "    </tr>\n",
       "    <tr>\n",
       "      <th>3</th>\n",
       "      <td>Operating profit rose to EUR 13.1 mn from EUR ...</td>\n",
       "      <td>positive</td>\n",
       "    </tr>\n",
       "    <tr>\n",
       "      <th>4</th>\n",
       "      <td>Operating profit totalled EUR 21.1 mn , up fro...</td>\n",
       "      <td>positive</td>\n",
       "    </tr>\n",
       "  </tbody>\n",
       "</table>\n",
       "</div>"
      ],
      "text/plain": [
       "                                                Text     Label\n",
       "0  According to Gran , the company has no plans t...   neutral\n",
       "1  For the last quarter of 2010 , Componenta 's n...  positive\n",
       "2  In the third quarter of 2010 , net sales incre...  positive\n",
       "3  Operating profit rose to EUR 13.1 mn from EUR ...  positive\n",
       "4  Operating profit totalled EUR 21.1 mn , up fro...  positive"
      ]
     },
     "execution_count": 70,
     "metadata": {
      "tags": []
     },
     "output_type": "execute_result"
    }
   ],
   "source": [
    "# Read data\n",
    "df = pd.read_csv('NLP_data/Sentences_AllAgree.txt', sep=\".@\", header=None, engine='python')  # Finbert data\n",
    "# tmp = pd.read_csv('NLP_data/Sentences_75Agree.txt', sep=\".@\", header=None, engine='python')  \n",
    "# df = pd.concat([df,tmp])\n",
    "# tmp = pd.read_csv('NLP_data/Sentences_66Agree.txt', sep=\".@\", header=None, engine='python')  \n",
    "# df = pd.concat([df,tmp])\n",
    "# tmp = pd.read_csv('NLP_data/Sentences_50Agree.txt', sep=\".@\", header=None, engine='python')  \n",
    "# df = pd.concat([df,tmp])\n",
    "df.columns = [\"Text\",\"Label\"]\n",
    "print(df.shape)\n",
    "df.head()"
   ]
  },
  {
   "cell_type": "code",
   "execution_count": 71,
   "metadata": {
    "colab": {
     "base_uri": "https://localhost:8080/",
     "height": 279
    },
    "executionInfo": {
     "elapsed": 758016,
     "status": "ok",
     "timestamp": 1618875685459,
     "user": {
      "displayName": "Sanjiv Das",
      "photoUrl": "https://lh3.googleusercontent.com/a-/AOh14GhgUU3RgThSxLUq6NKSN2tDGDl8IQdtHMvdaZPE=s64",
      "userId": "06377870171053566924"
     },
     "user_tz": 420
    },
    "id": "kCMjqEswFPZE",
    "outputId": "c265b247-5d2a-4dee-eece-46b72f70aa1c"
   },
   "outputs": [
    {
     "data": {
      "image/png": "[encoded data removed]",
      "text/plain": [
       "<Figure size 432x288 with 1 Axes>"
      ]
     },
     "metadata": {
      "needs_background": "light",
      "tags": []
     },
     "output_type": "display_data"
    }
   ],
   "source": [
    "import seaborn as sns\n",
    "sns.countplot(x='Label', data=df)\n",
    "show()"
   ]
  },
  {
   "cell_type": "code",
   "execution_count": 72,
   "metadata": {
    "colab": {
     "base_uri": "https://localhost:8080/"
    },
    "executionInfo": {
     "elapsed": 807146,
     "status": "ok",
     "timestamp": 1618875734606,
     "user": {
      "displayName": "Sanjiv Das",
      "photoUrl": "https://lh3.googleusercontent.com/a-/AOh14GhgUU3RgThSxLUq6NKSN2tDGDl8IQdtHMvdaZPE=s64",
      "userId": "06377870171053566924"
     },
     "user_tz": 420
    },
    "id": "JRTbVGP4FPZE",
    "outputId": "eb799aa1-bfe2-46a9-8da7-0a1246491e4a",
    "scrolled": true
   },
   "outputs": [
    {
     "name": "stderr",
     "output_type": "stream",
     "text": [
      "No path specified. Models will be saved in: \"AutogluonModels/ag-20210419_234124/\"\n",
      "Beginning AutoGluon training ...\n",
      "AutoGluon will save models to \"AutogluonModels/ag-20210419_234124/\"\n",
      "AutoGluon Version:  0.1.0\n",
      "Train Data Rows:    1584\n",
      "Train Data Columns: 1\n",
      "Preprocessing data ...\n",
      "AutoGluon infers your prediction problem is: 'multiclass' (because dtype of label-column == object).\n",
      "\t3 unique label values:  ['neutral', 'positive', 'negative']\n"
     ]
    },
    {
     "name": "stdout",
     "output_type": "stream",
     "text": [
      "Train size = (1584, 2)  | Test size = (680, 2)\n"
     ]
    },
    {
     "name": "stderr",
     "output_type": "stream",
     "text": [
      "\tIf 'multiclass' is not the correct problem_type, please manually specify the problem_type argument in fit() (You may specify problem_type as one of: ['binary', 'multiclass', 'regression'])\n",
      "NumExpr defaulting to 2 threads.\n",
      "Train Data Class Count: 3\n",
      "Using Feature Generators to preprocess the data ...\n",
      "Fitting AutoMLPipelineFeatureGenerator...\n",
      "\tAvailable Memory:                    12356.2 MB\n",
      "\tTrain Data (Original)  Memory Usage: 0.28 MB (0.0% of available memory)\n",
      "\tInferring data type of each feature based on column values. Set feature_metadata_in to manually specify special dtypes of the features.\n",
      "\tStage 1 Generators:\n",
      "\t\tFitting AsTypeFeatureGenerator...\n",
      "\tStage 2 Generators:\n",
      "\t\tFitting FillNaFeatureGenerator...\n",
      "\tStage 3 Generators:\n",
      "\t\tFitting CategoryFeatureGenerator...\n",
      "\t\t\tFitting CategoryMemoryMinimizeFeatureGenerator...\n",
      "\t\tFitting TextSpecialFeatureGenerator...\n",
      "\t\t\tFitting BinnedFeatureGenerator...\n",
      "\t\t\tFitting DropDuplicatesFeatureGenerator...\n",
      "\t\tFitting TextNgramFeatureGenerator...\n",
      "\t\t\tFitting CountVectorizer for text features: ['Text']\n",
      "\t\t\tCountVectorizer fit with vocabulary size = 186\n",
      "\t\tWarning: Due to memory constraints, ngram feature count is being reduced. Allocate more memory to maximize model quality.\n",
      "\t\tReducing Vectorizer vocab size from 186 to 115 to avoid OOM error\n",
      "\tStage 4 Generators:\n",
      "\t\tFitting DropUniqueFeatureGenerator...\n",
      "\tTypes of features in original data (raw dtype, special dtypes):\n",
      "\t\t('object', ['text']) : 1 | ['Text']\n",
      "\tTypes of features in processed data (raw dtype, special dtypes):\n",
      "\t\t('int', ['binned', 'text_special']) :  27 | ['Text.char_count', 'Text.word_count', 'Text.capital_ratio', 'Text.lower_ratio', 'Text.digit_ratio', ...]\n",
      "\t\t('int', ['text_ngram'])             : 116 | ['__nlp__.000', '__nlp__.10', '__nlp__.2005', '__nlp__.2006', '__nlp__.2007', ...]\n",
      "\t1.9s = Fit runtime\n",
      "\t1 features in original data used to generate 143 features in processed data.\n",
      "\tTrain Data (Processed) Memory Usage: 0.23 MB (0.0% of available memory)\n",
      "Data preprocessing and feature engineering runtime = 2.01s ...\n",
      "AutoGluon will gauge predictive performance using evaluation metric: 'accuracy'\n",
      "\tTo change this, specify the eval_metric argument of fit()\n",
      "Automatically generating train/validation split with holdout_frac=0.2, Train Rows: 1267, Val Rows: 317\n",
      "Fitting model: NeuralNetMXNet ...\n",
      "\t0.7287\t = Validation accuracy score\n",
      "\t6.42s\t = Training runtime\n",
      "\t0.13s\t = Validation runtime\n",
      "Fitting model: NeuralNetFastAI ...\n",
      "/usr/local/lib/python3.7/dist-packages/nbconvert/filters/strings.py:22: DeprecationWarning: defusedxml.cElementTree is deprecated, import from defusedxml.ElementTree instead.\n",
      "  from defusedxml import cElementTree as ElementTree\n"
     ]
    },
    {
     "name": "stdout",
     "output_type": "stream",
     "text": []
    },
    {
     "name": "stderr",
     "output_type": "stream",
     "text": [
      "\t0.8454\t = Validation accuracy score\n",
      "\t23.63s\t = Training runtime\n",
      "\t0.26s\t = Validation runtime\n",
      "Fitting model: KNeighborsUnif ...\n",
      "\tNo valid features to train KNeighborsUnif... Skipping this model.\n",
      "Fitting model: KNeighborsDist ...\n",
      "\tNo valid features to train KNeighborsDist... Skipping this model.\n",
      "Fitting model: RandomForestGini ...\n",
      "\t0.8517\t = Validation accuracy score\n",
      "\t0.96s\t = Training runtime\n",
      "\t0.1s\t = Validation runtime\n",
      "Fitting model: RandomForestEntr ...\n",
      "\t0.8612\t = Validation accuracy score\n",
      "\t1.06s\t = Training runtime\n",
      "\t0.1s\t = Validation runtime\n",
      "Fitting model: ExtraTreesGini ...\n",
      "\t0.858\t = Validation accuracy score\n",
      "\t0.86s\t = Training runtime\n",
      "\t0.1s\t = Validation runtime\n",
      "Fitting model: ExtraTreesEntr ...\n",
      "\t0.8549\t = Validation accuracy score\n",
      "\t0.94s\t = Training runtime\n",
      "\t0.1s\t = Validation runtime\n",
      "Fitting model: LightGBM ...\n",
      "/usr/local/lib/python3.7/dist-packages/fsspec/__init__.py:47: DeprecationWarning: SelectableGroups dict interface is deprecated. Use select.\n",
      "  for spec in entry_points.get(\"fsspec.specs\", []):\n",
      "\t0.8454\t = Validation accuracy score\n",
      "\t2.04s\t = Training runtime\n",
      "\t0.03s\t = Validation runtime\n",
      "Fitting model: LightGBMXT ...\n",
      "\t0.858\t = Validation accuracy score\n",
      "\t1.02s\t = Training runtime\n",
      "\t0.03s\t = Validation runtime\n",
      "Fitting model: CatBoost ...\n",
      "\t0.8612\t = Validation accuracy score\n",
      "\t1.2s\t = Training runtime\n",
      "\t0.01s\t = Validation runtime\n",
      "Fitting model: XGBoost ...\n",
      "\t0.8233\t = Validation accuracy score\n",
      "\t1.21s\t = Training runtime\n",
      "\t0.0s\t = Validation runtime\n",
      "Fitting model: LightGBMLarge ...\n",
      "\t0.8454\t = Validation accuracy score\n",
      "\t1.71s\t = Training runtime\n",
      "\t0.01s\t = Validation runtime\n"
     ]
    },
    {
     "name": "stdout",
     "output_type": "stream",
     "text": [
      "█\r"
     ]
    },
    {
     "name": "stderr",
     "output_type": "stream",
     "text": [
      "Fitting model: WeightedEnsemble_L2 ...\n",
      "\t0.8801\t = Validation accuracy score\n",
      "\t0.26s\t = Training runtime\n",
      "\t0.0s\t = Validation runtime\n",
      "AutoGluon training complete, total runtime = 47.0s ...\n",
      "TabularPredictor saved. To load, use: predictor = TabularPredictor.load(\"AutogluonModels/ag-20210419_234124/\")\n"
     ]
    },
    {
     "name": "stdout",
     "output_type": "stream",
     "text": [
      "█\r",
      "Predictive performance on given data: accuracy = 0.9753787878787878\n",
      "CPU times: user 34 s, sys: 7.08 s, total: 41.1 s\n",
      "Wall time: 49.1 s\n"
     ]
    }
   ],
   "source": [
    "%%time\n",
    "#TRAIN THE MODEL\n",
    "\n",
    "train_data, test_data = train_test_split(df, test_size=0.3, random_state=42)\n",
    "print(\"Train size =\",train_data.shape,\" | Test size =\",test_data.shape)\n",
    "\n",
    "predictor = TabularPredictor(label='Label').fit(train_data=train_data) #,    hyperparameters='multimodal')\n",
    "\n",
    "# predictor = task.fit(train_data=train_data, label='Label')\n",
    "performance = predictor.evaluate(train_data)"
   ]
  },
  {
   "cell_type": "code",
   "execution_count": 73,
   "metadata": {
    "colab": {
     "base_uri": "https://localhost:8080/"
    },
    "executionInfo": {
     "elapsed": 809773,
     "status": "ok",
     "timestamp": 1618875737251,
     "user": {
      "displayName": "Sanjiv Das",
      "photoUrl": "https://lh3.googleusercontent.com/a-/AOh14GhgUU3RgThSxLUq6NKSN2tDGDl8IQdtHMvdaZPE=s64",
      "userId": "06377870171053566924"
     },
     "user_tz": 420
    },
    "id": "-Smm3AN8FPZE",
    "outputId": "b9eb8106-f526-4793-d793-97a5896ac28b"
   },
   "outputs": [
    {
     "name": "stdout",
     "output_type": "stream",
     "text": []
    },
    {
     "name": "stderr",
     "output_type": "stream",
     "text": [
      "Evaluation: accuracy on test data: 0.8411764705882353\n",
      "Evaluations on test data:\n",
      "{\n",
      "    \"accuracy\": 0.8411764705882353,\n",
      "    \"accuracy_score\": 0.8411764705882353,\n",
      "    \"balanced_accuracy_score\": 0.7245228895253703,\n",
      "    \"matthews_corrcoef\": 0.6965723799082324\n",
      "}\n",
      "Detailed (per-class) classification report:\n",
      "{\n",
      "    \"negative\": {\n",
      "        \"precision\": 0.6714285714285714,\n",
      "        \"recall\": 0.5402298850574713,\n",
      "        \"f1-score\": 0.5987261146496815,\n",
      "        \"support\": 87\n",
      "    },\n",
      "    \"neutral\": {\n",
      "        \"precision\": 0.8819742489270386,\n",
      "        \"recall\": 0.9856115107913669,\n",
      "        \"f1-score\": 0.9309173272933181,\n",
      "        \"support\": 417\n",
      "    },\n",
      "    \"positive\": {\n",
      "        \"precision\": 0.7916666666666666,\n",
      "        \"recall\": 0.6477272727272727,\n",
      "        \"f1-score\": 0.7124999999999999,\n",
      "        \"support\": 176\n",
      "    },\n",
      "    \"accuracy\": 0.8411764705882353,\n",
      "    \"macro avg\": {\n",
      "        \"precision\": 0.7816898290074255,\n",
      "        \"recall\": 0.7245228895253703,\n",
      "        \"f1-score\": 0.7473811473143331,\n",
      "        \"support\": 680\n",
      "    },\n",
      "    \"weighted avg\": {\n",
      "        \"precision\": 0.8316630600738149,\n",
      "        \"recall\": 0.8411764705882353,\n",
      "        \"f1-score\": 0.8318848491997587,\n",
      "        \"support\": 680\n",
      "    }\n",
      "}\n"
     ]
    }
   ],
   "source": [
    "# TEST OUT-OF-SAMPLE\n",
    "\n",
    "y_test = test_data['Label']\n",
    "test_data_nolabel = test_data.drop(labels=['Label'],axis=1)\n",
    "y_pred = predictor.predict(test_data_nolabel)\n",
    "y_prob = predictor.predict(test_data_nolabel)\n",
    "perf = predictor.evaluate_predictions(y_true=y_test, y_pred=y_pred, auxiliary_metrics=True)"
   ]
  },
  {
   "cell_type": "markdown",
   "metadata": {
    "id": "9b6kmtXFFPZE"
   },
   "source": [
    "## Metrics \n",
    "\n",
    "https://en.wikipedia.org/wiki/Receiver_operating_characteristic\n",
    "\n",
    "https://srdas.github.io/MLBook2/3_MachineLearningOverview.html\n",
    "\n",
    "https://srdas.github.io/MLBook2/3_MachineLearningOverview.html#ROC-and-AUC"
   ]
  },
  {
   "cell_type": "markdown",
   "metadata": {
    "id": "kqQtA9r2FPZF"
   },
   "source": [
    "## Movie Reviews, one more time, with AG-Tabular"
   ]
  },
  {
   "cell_type": "code",
   "execution_count": 74,
   "metadata": {
    "colab": {
     "base_uri": "https://localhost:8080/",
     "height": 220
    },
    "executionInfo": {
     "elapsed": 613,
     "status": "ok",
     "timestamp": 1618875770834,
     "user": {
      "displayName": "Sanjiv Das",
      "photoUrl": "https://lh3.googleusercontent.com/a-/AOh14GhgUU3RgThSxLUq6NKSN2tDGDl8IQdtHMvdaZPE=s64",
      "userId": "06377870171053566924"
     },
     "user_tz": 420
    },
    "id": "XBsRKSIZFPZF",
    "outputId": "8c002fb9-c01e-4027-d41e-a5aed087cd8c"
   },
   "outputs": [
    {
     "name": "stdout",
     "output_type": "stream",
     "text": [
      "(4001, 2) (1000, 2)\n"
     ]
    },
    {
     "data": {
      "text/html": [
       "<div>\n",
       "<style scoped>\n",
       "    .dataframe tbody tr th:only-of-type {\n",
       "        vertical-align: middle;\n",
       "    }\n",
       "\n",
       "    .dataframe tbody tr th {\n",
       "        vertical-align: top;\n",
       "    }\n",
       "\n",
       "    .dataframe thead th {\n",
       "        text-align: right;\n",
       "    }\n",
       "</style>\n",
       "<table border=\"1\" class=\"dataframe\">\n",
       "  <thead>\n",
       "    <tr style=\"text-align: right;\">\n",
       "      <th></th>\n",
       "      <th>Label</th>\n",
       "      <th>Text</th>\n",
       "    </tr>\n",
       "  </thead>\n",
       "  <tbody>\n",
       "    <tr>\n",
       "      <th>0</th>\n",
       "      <td>__label__0</td>\n",
       "      <td>Homelessness (or Houselessness as George Carli...</td>\n",
       "    </tr>\n",
       "    <tr>\n",
       "      <th>1</th>\n",
       "      <td>__label__1</td>\n",
       "      <td>This film lacked something I couldn't put my f...</td>\n",
       "    </tr>\n",
       "    <tr>\n",
       "      <th>2</th>\n",
       "      <td>__label__1</td>\n",
       "      <td>\\\"It appears that many critics find the idea o...</td>\n",
       "    </tr>\n",
       "    <tr>\n",
       "      <th>3</th>\n",
       "      <td>__label__0</td>\n",
       "      <td>This isn't the comedic Robin Williams, nor is ...</td>\n",
       "    </tr>\n",
       "    <tr>\n",
       "      <th>4</th>\n",
       "      <td>__label__1</td>\n",
       "      <td>I don't know who to blame, the timid writers o...</td>\n",
       "    </tr>\n",
       "  </tbody>\n",
       "</table>\n",
       "</div>"
      ],
      "text/plain": [
       "        Label                                               Text\n",
       "0  __label__0  Homelessness (or Houselessness as George Carli...\n",
       "1  __label__1  This film lacked something I couldn't put my f...\n",
       "2  __label__1  \\\"It appears that many critics find the idea o...\n",
       "3  __label__0  This isn't the comedic Robin Williams, nor is ...\n",
       "4  __label__1  I don't know who to blame, the timid writers o..."
      ]
     },
     "execution_count": 74,
     "metadata": {
      "tags": []
     },
     "output_type": "execute_result"
    }
   ],
   "source": [
    "train_data = pd.read_csv(\"NLP_data/movie_review_train.txt\", sep = \" \", header=None)\n",
    "test_data = pd.read_csv(\"NLP_data/movie_review_test.txt\", sep = \" \", header=None)\n",
    "train_data.columns = ['Label','Text']\n",
    "test_data.columns = ['Label','Text']\n",
    "print(train_data.shape, test_data.shape)\n",
    "train_data.head()"
   ]
  },
  {
   "cell_type": "code",
   "execution_count": 75,
   "metadata": {
    "colab": {
     "base_uri": "https://localhost:8080/"
    },
    "executionInfo": {
     "elapsed": 132336,
     "status": "ok",
     "timestamp": 1618875908063,
     "user": {
      "displayName": "Sanjiv Das",
      "photoUrl": "https://lh3.googleusercontent.com/a-/AOh14GhgUU3RgThSxLUq6NKSN2tDGDl8IQdtHMvdaZPE=s64",
      "userId": "06377870171053566924"
     },
     "user_tz": 420
    },
    "id": "u4L9rodvFPZF",
    "outputId": "faf4ce59-3d5f-4b8c-9edb-55000446f3eb"
   },
   "outputs": [
    {
     "name": "stderr",
     "output_type": "stream",
     "text": [
      "No path specified. Models will be saved in: \"AutogluonModels/ag-20210419_234255/\"\n",
      "Beginning AutoGluon training ...\n",
      "AutoGluon will save models to \"AutogluonModels/ag-20210419_234255/\"\n",
      "AutoGluon Version:  0.1.0\n",
      "Train Data Rows:    4001\n",
      "Train Data Columns: 1\n",
      "Preprocessing data ...\n",
      "AutoGluon infers your prediction problem is: 'binary' (because only two unique label-values observed).\n",
      "\t2 unique label values:  ['__label__0', '__label__1']\n",
      "\tIf 'binary' is not the correct problem_type, please manually specify the problem_type argument in fit() (You may specify problem_type as one of: ['binary', 'multiclass', 'regression'])\n",
      "Selected class <--> label mapping:  class 1 = __label__1, class 0 = __label__0\n",
      "\tNote: For your binary classification, AutoGluon arbitrarily selected which label-value represents positive (__label__1) vs negative (__label__0) class.\n",
      "\tTo explicitly set the positive_class, either rename classes to 1 and 0, or specify positive_class in Predictor init.\n",
      "Using Feature Generators to preprocess the data ...\n",
      "Fitting AutoMLPipelineFeatureGenerator...\n",
      "\tAvailable Memory:                    10596.55 MB\n",
      "\tTrain Data (Original)  Memory Usage: 5.51 MB (0.1% of available memory)\n",
      "\tInferring data type of each feature based on column values. Set feature_metadata_in to manually specify special dtypes of the features.\n",
      "\tStage 1 Generators:\n",
      "\t\tFitting AsTypeFeatureGenerator...\n",
      "\tStage 2 Generators:\n",
      "\t\tFitting FillNaFeatureGenerator...\n",
      "\tStage 3 Generators:\n"
     ]
    },
    {
     "name": "stdout",
     "output_type": "stream",
     "text": [
      "Train size = (4001, 2)  | Test size = (1000, 2)\n"
     ]
    },
    {
     "name": "stderr",
     "output_type": "stream",
     "text": [
      "\t\tFitting CategoryFeatureGenerator...\n",
      "\t\t\tFitting CategoryMemoryMinimizeFeatureGenerator...\n",
      "\t\tFitting TextSpecialFeatureGenerator...\n",
      "\t\t\tFitting BinnedFeatureGenerator...\n",
      "\t\t\tFitting DropDuplicatesFeatureGenerator...\n",
      "\t\tFitting TextNgramFeatureGenerator...\n",
      "\t\t\tFitting CountVectorizer for text features: ['Text']\n",
      "\t\t\tCountVectorizer fit with vocabulary size = 5515\n",
      "\t\tWarning: Due to memory constraints, ngram feature count is being reduced. Allocate more memory to maximize model quality.\n",
      "\t\tReducing Vectorizer vocab size from 5515 to 1759 to avoid OOM error\n",
      "\tStage 4 Generators:\n",
      "\t\tFitting DropUniqueFeatureGenerator...\n",
      "\tTypes of features in original data (raw dtype, special dtypes):\n",
      "\t\t('object', ['text']) : 1 | ['Text']\n",
      "\tTypes of features in processed data (raw dtype, special dtypes):\n",
      "\t\t('int', ['binned', 'text_special']) :   38 | ['Text.char_count', 'Text.word_count', 'Text.capital_ratio', 'Text.lower_ratio', 'Text.digit_ratio', ...]\n",
      "\t\t('int', ['text_ngram'])             : 1760 | ['__nlp__.10', '__nlp__.20', '__nlp__.30', '__nlp__.80', '__nlp__.able', ...]\n",
      "\t16.2s = Fit runtime\n",
      "\t1 features in original data used to generate 1798 features in processed data.\n",
      "\tTrain Data (Processed) Memory Usage: 7.21 MB (0.1% of available memory)\n",
      "Data preprocessing and feature engineering runtime = 16.37s ...\n",
      "AutoGluon will gauge predictive performance using evaluation metric: 'accuracy'\n",
      "\tTo change this, specify the eval_metric argument of fit()\n",
      "Automatically generating train/validation split with holdout_frac=0.12496875781054737, Train Rows: 3501, Val Rows: 500\n",
      "Fitting model: RandomForestGini ...\n",
      "\t0.834\t = Validation accuracy score\n",
      "\t4.83s\t = Training runtime\n",
      "\t0.11s\t = Validation runtime\n",
      "Fitting model: RandomForestEntr ...\n",
      "\t0.838\t = Validation accuracy score\n",
      "\t5.15s\t = Training runtime\n",
      "\t0.11s\t = Validation runtime\n",
      "Fitting model: ExtraTreesGini ...\n",
      "\t0.838\t = Validation accuracy score\n",
      "\t5.66s\t = Training runtime\n",
      "\t0.11s\t = Validation runtime\n",
      "Fitting model: ExtraTreesEntr ...\n",
      "\t0.844\t = Validation accuracy score\n",
      "\t6.55s\t = Training runtime\n",
      "\t0.11s\t = Validation runtime\n",
      "Fitting model: KNeighborsUnif ...\n",
      "\tNo valid features to train KNeighborsUnif... Skipping this model.\n",
      "Fitting model: KNeighborsDist ...\n",
      "\tNo valid features to train KNeighborsDist... Skipping this model.\n",
      "Fitting model: LightGBM ...\n",
      "\t0.846\t = Validation accuracy score\n",
      "\t3.34s\t = Training runtime\n",
      "\t0.03s\t = Validation runtime\n",
      "Fitting model: LightGBMXT ...\n",
      "\t0.864\t = Validation accuracy score\n",
      "\t2.98s\t = Training runtime\n",
      "\t0.03s\t = Validation runtime\n",
      "Fitting model: CatBoost ...\n",
      "\t0.856\t = Validation accuracy score\n",
      "\t13.22s\t = Training runtime\n",
      "\t0.03s\t = Validation runtime\n",
      "Fitting model: XGBoost ...\n",
      "\t0.82\t = Validation accuracy score\n",
      "\t6.25s\t = Training runtime\n",
      "\t0.02s\t = Validation runtime\n",
      "Fitting model: NeuralNetMXNet ...\n",
      "\t0.6\t = Validation accuracy score\n",
      "\t7.41s\t = Training runtime\n",
      "\t0.17s\t = Validation runtime\n",
      "Fitting model: NeuralNetFastAI ...\n"
     ]
    },
    {
     "name": "stdout",
     "output_type": "stream",
     "text": [
      "Epoch 22: early stopping\n"
     ]
    },
    {
     "name": "stderr",
     "output_type": "stream",
     "text": [
      "\t0.854\t = Validation accuracy score\n",
      "\t30.95s\t = Training runtime\n",
      "\t2.01s\t = Validation runtime\n",
      "Fitting model: LightGBMLarge ...\n",
      "\t0.84\t = Validation accuracy score\n",
      "\t13.81s\t = Training runtime\n",
      "\t0.04s\t = Validation runtime\n"
     ]
    },
    {
     "name": "stdout",
     "output_type": "stream",
     "text": [
      "█\r"
     ]
    },
    {
     "name": "stderr",
     "output_type": "stream",
     "text": [
      "Fitting model: WeightedEnsemble_L2 ...\n",
      "\t0.864\t = Validation accuracy score\n",
      "\t0.45s\t = Training runtime\n",
      "\t0.0s\t = Validation runtime\n",
      "AutoGluon training complete, total runtime = 124.78s ...\n",
      "TabularPredictor saved. To load, use: predictor = TabularPredictor.load(\"AutogluonModels/ag-20210419_234255/\")\n"
     ]
    },
    {
     "name": "stdout",
     "output_type": "stream",
     "text": [
      "Predictive performance on given data: accuracy = 0.9795051237190703\n",
      "CPU times: user 3min 5s, sys: 7.91 s, total: 3min 12s\n",
      "Wall time: 2min 11s\n"
     ]
    }
   ],
   "source": [
    "%%time\n",
    "#TRAIN THE MODEL\n",
    "\n",
    "print(\"Train size =\",train_data.shape,\" | Test size =\",test_data.shape)\n",
    "\n",
    "predictor = TabularPredictor(label='Label').fit(train_data=train_data) #,    hyperparameters='multimodal')\n",
    "performance = predictor.evaluate(train_data)"
   ]
  },
  {
   "cell_type": "code",
   "execution_count": 76,
   "metadata": {
    "colab": {
     "base_uri": "https://localhost:8080/"
    },
    "executionInfo": {
     "elapsed": 4242,
     "status": "ok",
     "timestamp": 1618875918567,
     "user": {
      "displayName": "Sanjiv Das",
      "photoUrl": "https://lh3.googleusercontent.com/a-/AOh14GhgUU3RgThSxLUq6NKSN2tDGDl8IQdtHMvdaZPE=s64",
      "userId": "06377870171053566924"
     },
     "user_tz": 420
    },
    "id": "76gGAme2FPZF",
    "outputId": "6b2e8c57-4e95-4953-dce7-c73f19c3b4bd"
   },
   "outputs": [
    {
     "name": "stderr",
     "output_type": "stream",
     "text": [
      "Evaluation: accuracy on test data: 0.834\n",
      "Evaluations on test data:\n",
      "{\n",
      "    \"accuracy\": 0.834,\n",
      "    \"accuracy_score\": 0.834,\n",
      "    \"balanced_accuracy_score\": 0.8340313361253444,\n",
      "    \"matthews_corrcoef\": 0.6683621668012076,\n",
      "    \"f1_score\": 0.834\n",
      "}\n",
      "Detailed (per-class) classification report:\n",
      "{\n",
      "    \"__label__0\": {\n",
      "        \"precision\": 0.8233009708737864,\n",
      "        \"recall\": 0.8496993987975952,\n",
      "        \"f1-score\": 0.8362919132149902,\n",
      "        \"support\": 499\n",
      "    },\n",
      "    \"__label__1\": {\n",
      "        \"precision\": 0.845360824742268,\n",
      "        \"recall\": 0.8183632734530938,\n",
      "        \"f1-score\": 0.8316430020283975,\n",
      "        \"support\": 501\n",
      "    },\n",
      "    \"accuracy\": 0.834,\n",
      "    \"macro avg\": {\n",
      "        \"precision\": 0.8343308978080273,\n",
      "        \"recall\": 0.8340313361253444,\n",
      "        \"f1-score\": 0.8339674576216938,\n",
      "        \"support\": 1000\n",
      "    },\n",
      "    \"weighted avg\": {\n",
      "        \"precision\": 0.8343529576618958,\n",
      "        \"recall\": 0.834,\n",
      "        \"f1-score\": 0.8339628087105072,\n",
      "        \"support\": 1000\n",
      "    }\n",
      "}\n"
     ]
    },
    {
     "name": "stdout",
     "output_type": "stream",
     "text": [
      "CPU times: user 3.91 s, sys: 18.4 ms, total: 3.93 s\n",
      "Wall time: 3.83 s\n"
     ]
    }
   ],
   "source": [
    "%%time\n",
    "# TEST OUT-OF-SAMPLE\n",
    "\n",
    "y_test = test_data['Label']\n",
    "test_data_nolabel = test_data.drop(labels=['Label'],axis=1)\n",
    "y_pred = predictor.predict(test_data_nolabel)\n",
    "y_prob = predictor.predict_proba(test_data_nolabel)\n",
    "perf = predictor.evaluate_predictions(y_true=y_test, y_pred=y_pred, auxiliary_metrics=True)"
   ]
  },
  {
   "cell_type": "code",
   "execution_count": 77,
   "metadata": {
    "colab": {
     "base_uri": "https://localhost:8080/",
     "height": 313
    },
    "executionInfo": {
     "elapsed": 602,
     "status": "ok",
     "timestamp": 1618875997354,
     "user": {
      "displayName": "Sanjiv Das",
      "photoUrl": "https://lh3.googleusercontent.com/a-/AOh14GhgUU3RgThSxLUq6NKSN2tDGDl8IQdtHMvdaZPE=s64",
      "userId": "06377870171053566924"
     },
     "user_tz": 420
    },
    "id": "5HX8ZJ7FFPZF",
    "outputId": "166c0a2a-d829-4e1d-ac62-5373a2e7a84a"
   },
   "outputs": [
    {
     "data": {
      "image/png": "[encoded data removed]",
      "text/plain": [
       "<Figure size 432x288 with 1 Axes>"
      ]
     },
     "metadata": {
      "needs_background": "light",
      "tags": []
     },
     "output_type": "display_data"
    },
    {
     "name": "stdout",
     "output_type": "stream",
     "text": [
      "Area under curve (AUC):  0.8340313361253444\n"
     ]
    }
   ],
   "source": [
    "#ROC, AUC\n",
    "from sklearn.metrics import roc_curve, auc\n",
    "y_score = [1 if y_prob.loc[i][1]>y_prob.loc[i][0] else 0 for i in range(len(y_prob)) ]\n",
    "y_true = array([1 if j==\"__label__1\" else 0 for j in y_test])\n",
    "fpr, tpr, _ = roc_curve(y_true, y_score)\n",
    "\n",
    "title('ROC curve')\n",
    "xlabel('FPR (Precision)')\n",
    "ylabel('TPR (Recall)')\n",
    "\n",
    "plot(fpr,tpr)\n",
    "plot((0,1), ls='dashed',color='black')\n",
    "plt.show()\n",
    "print('Area under curve (AUC): ', auc(fpr,tpr))"
   ]
  },
  {
   "cell_type": "code",
   "execution_count": null,
   "metadata": {
    "colab": {
     "base_uri": "https://localhost:8080/",
     "height": 1000
    },
    "executionInfo": {
     "elapsed": 5539655,
     "status": "ok",
     "timestamp": 1618779815672,
     "user": {
      "displayName": "Sanjiv Das",
      "photoUrl": "https://lh3.googleusercontent.com/a-/AOh14GhgUU3RgThSxLUq6NKSN2tDGDl8IQdtHMvdaZPE=s64",
      "userId": "06377870171053566924"
     },
     "user_tz": 420
    },
    "id": "Aok_pU2YFPZF",
    "outputId": "f7c53cde-375c-49f2-a284-b49ecced6b11"
   },
   "outputs": [
    {
     "name": "stderr",
     "output_type": "stream",
     "text": [
      "No path specified. Models will be saved in: \"AutogluonModels/ag-20210418_194632/\"\n",
      "Beginning AutoGluon training ...\n",
      "AutoGluon will save models to \"AutogluonModels/ag-20210418_194632/\"\n",
      "AutoGluon Version:  0.1.0\n",
      "Train Data Rows:    4001\n",
      "Train Data Columns: 1\n",
      "Preprocessing data ...\n",
      "AutoGluon infers your prediction problem is: 'binary' (because only two unique label-values observed).\n",
      "\t2 unique label values:  ['__label__0', '__label__1']\n",
      "\tIf 'binary' is not the correct problem_type, please manually specify the problem_type argument in fit() (You may specify problem_type as one of: ['binary', 'multiclass', 'regression'])\n",
      "Selected class <--> label mapping:  class 1 = __label__1, class 0 = __label__0\n",
      "\tNote: For your binary classification, AutoGluon arbitrarily selected which label-value represents positive (__label__1) vs negative (__label__0) class.\n",
      "\tTo explicitly set the positive_class, either rename classes to 1 and 0, or specify positive_class in Predictor init.\n",
      "Using Feature Generators to preprocess the data ...\n",
      "Fitting AutoMLPipelineFeatureGenerator...\n",
      "\tAvailable Memory:                    10540.71 MB\n",
      "\tTrain Data (Original)  Memory Usage: 5.51 MB (0.1% of available memory)\n",
      "\tInferring data type of each feature based on column values. Set feature_metadata_in to manually specify special dtypes of the features.\n",
      "\tStage 1 Generators:\n",
      "\t\tFitting AsTypeFeatureGenerator...\n",
      "\tStage 2 Generators:\n",
      "\t\tFitting FillNaFeatureGenerator...\n",
      "\tStage 3 Generators:\n",
      "\t\tFitting IdentityFeatureGenerator...\n",
      "\t\t\tFitting RenameFeatureGenerator...\n",
      "\t\tFitting CategoryFeatureGenerator...\n",
      "\t\t\tFitting CategoryMemoryMinimizeFeatureGenerator...\n",
      "\t\tFitting TextSpecialFeatureGenerator...\n",
      "\t\t\tFitting BinnedFeatureGenerator...\n",
      "\t\t\tFitting DropDuplicatesFeatureGenerator...\n",
      "\t\tFitting TextNgramFeatureGenerator...\n",
      "\t\t\tFitting CountVectorizer for text features: ['Text']\n",
      "\t\t\tCountVectorizer fit with vocabulary size = 5515\n",
      "\t\tWarning: Due to memory constraints, ngram feature count is being reduced. Allocate more memory to maximize model quality.\n",
      "\t\tReducing Vectorizer vocab size from 5515 to 1713 to avoid OOM error\n",
      "\tStage 4 Generators:\n",
      "\t\tFitting DropUniqueFeatureGenerator...\n",
      "\tTypes of features in original data (raw dtype, special dtypes):\n",
      "\t\t('object', ['text']) : 1 | ['Text']\n",
      "\tTypes of features in processed data (raw dtype, special dtypes):\n",
      "\t\t('int', ['binned', 'text_special']) :   38 | ['Text.char_count', 'Text.word_count', 'Text.capital_ratio', 'Text.lower_ratio', 'Text.digit_ratio', ...]\n",
      "\t\t('int', ['text_ngram'])             : 1714 | ['__nlp__.10', '__nlp__.20', '__nlp__.30', '__nlp__.80', '__nlp__.able', ...]\n",
      "\t\t('object', ['text'])                :    1 | ['Text_raw_text']\n",
      "\t16.4s = Fit runtime\n",
      "\t1 features in original data used to generate 1753 features in processed data.\n",
      "\tTrain Data (Processed) Memory Usage: 12.53 MB (0.1% of available memory)\n",
      "Data preprocessing and feature engineering runtime = 16.61s ...\n",
      "AutoGluon will gauge predictive performance using evaluation metric: 'accuracy'\n",
      "\tTo change this, specify the eval_metric argument of fit()\n",
      "Automatically generating train/validation split with holdout_frac=0.12496875781054737, Train Rows: 3501, Val Rows: 500\n",
      "Fitting model: LightGBM ...\n",
      "\t0.852\t = Validation accuracy score\n",
      "\t3.93s\t = Training runtime\n",
      "\t0.03s\t = Validation runtime\n",
      "Fitting model: LightGBMXT ...\n",
      "\t0.86\t = Validation accuracy score\n",
      "\t2.67s\t = Training runtime\n",
      "\t0.03s\t = Validation runtime\n",
      "Fitting model: CatBoost ...\n",
      "\t0.836\t = Validation accuracy score\n",
      "\t13.51s\t = Training runtime\n",
      "\t0.07s\t = Validation runtime\n",
      "Fitting model: XGBoost ...\n",
      "\t0.824\t = Validation accuracy score\n",
      "\t6.42s\t = Training runtime\n",
      "\t0.03s\t = Validation runtime\n",
      "Fitting model: NeuralNetMXNet ...\n",
      "\t0.602\t = Validation accuracy score\n",
      "\t9.68s\t = Training runtime\n",
      "\t0.17s\t = Validation runtime\n",
      "Fitting model: LightGBMLarge ...\n",
      "\t0.84\t = Validation accuracy score\n",
      "\t11.53s\t = Training runtime\n",
      "\t0.03s\t = Validation runtime\n",
      "Fitting model: TextNeuralNetwork ...\n"
     ]
    },
    {
     "name": "stdout",
     "output_type": "stream",
     "text": [
      "All Logs will be saved to /content/drive/My Drive/Teaching/NLP/AutogluonModels/ag-20210418_194632/models/TextNeuralNetwork/task0/training.log\n",
      "Downloading /root/.mxnet/models/nlp/google_electra_base/model-5b35ca0b.yml from https://gluonnlp-numpy-data.s3-accelerate.amazonaws.com/models/google_electra_base/model-5b35ca0b.yml...\n"
     ]
    },
    {
     "name": "stderr",
     "output_type": "stream",
     "text": [
      "100%|██████████| 477/477 [00:00<00:00, 322kiB/s]\n"
     ]
    },
    {
     "name": "stdout",
     "output_type": "stream",
     "text": [
      "Downloading /root/.mxnet/models/nlp/google_electra_base/vocab-e6d2b21d.json from https://gluonnlp-numpy-data.s3-accelerate.amazonaws.com/models/google_electra_base/vocab-e6d2b21d.json...\n"
     ]
    },
    {
     "name": "stderr",
     "output_type": "stream",
     "text": [
      "100%|██████████| 323k/323k [00:00<00:00, 1.74MiB/s]\n"
     ]
    },
    {
     "name": "stdout",
     "output_type": "stream",
     "text": [
      "Downloading /root/.mxnet/models/nlp/google_electra_base/model-31c235cc.params from https://gluonnlp-numpy-data.s3-accelerate.amazonaws.com/models/google_electra_base/model-31c235cc.params...\n"
     ]
    },
    {
     "name": "stderr",
     "output_type": "stream",
     "text": [
      "100%|██████████| 436M/436M [00:07<00:00, 58.5MiB/s]\n",
      "[Iter 6/280, Epoch 0] valid f1=4.0498e-01, mcc=3.2617e-01, roc_auc=7.6858e-01, accuracy=6.1800e-01, log_loss=6.7251e-01, accuracy=6.1800e-01, time spent=19.353s, total time spent=1.61min. Find new best=True, Find new top-3=True\n",
      "[Iter 12/280, Epoch 0] valid f1=8.8632e-01, mcc=7.6741e-01, roc_auc=9.6454e-01, accuracy=8.8200e-01, log_loss=2.7600e-01, accuracy=8.8200e-01, time spent=19.350s, total time spent=3.26min. Find new best=True, Find new top-3=True\n",
      "[Iter 18/280, Epoch 0] valid f1=8.8742e-01, mcc=8.0778e-01, roc_auc=9.6958e-01, accuracy=8.9800e-01, log_loss=3.1387e-01, accuracy=8.9800e-01, time spent=19.272s, total time spent=4.88min. Find new best=True, Find new top-3=True\n",
      "[Iter 24/280, Epoch 0] valid f1=8.8053e-01, mcc=7.9615e-01, roc_auc=9.7896e-01, accuracy=8.9200e-01, log_loss=2.6181e-01, accuracy=8.9200e-01, time spent=19.257s, total time spent=6.48min. Find new best=False, Find new top-3=True\n",
      "[Iter 30/280, Epoch 1] valid f1=9.2402e-01, mcc=8.5250e-01, roc_auc=9.8029e-01, accuracy=9.2600e-01, log_loss=1.9438e-01, accuracy=9.2600e-01, time spent=19.018s, total time spent=8.05min. Find new best=True, Find new top-3=True\n",
      "[Iter 36/280, Epoch 1] valid f1=9.3724e-01, mcc=8.8222e-01, roc_auc=9.8658e-01, accuracy=9.4000e-01, log_loss=1.7243e-01, accuracy=9.4000e-01, time spent=18.975s, total time spent=9.67min. Find new best=True, Find new top-3=True\n",
      "[Iter 42/280, Epoch 1] valid f1=8.7080e-01, mcc=7.3713e-01, roc_auc=9.8341e-01, accuracy=8.5400e-01, log_loss=4.2687e-01, accuracy=8.5400e-01, time spent=19.299s, total time spent=11.21min. Find new best=False, Find new top-3=False\n",
      "[Iter 48/280, Epoch 1] valid f1=8.9231e-01, mcc=8.1479e-01, roc_auc=9.8438e-01, accuracy=9.0200e-01, log_loss=2.4787e-01, accuracy=9.0200e-01, time spent=19.077s, total time spent=12.78min. Find new best=False, Find new top-3=True\n",
      "[Iter 54/280, Epoch 1] valid f1=8.2185e-01, mcc=7.3320e-01, roc_auc=9.7691e-01, accuracy=8.5000e-01, log_loss=4.1766e-01, accuracy=8.5000e-01, time spent=19.421s, total time spent=14.35min. Find new best=False, Find new top-3=False\n",
      "[Iter 60/280, Epoch 2] valid f1=9.1932e-01, mcc=8.3739e-01, roc_auc=9.8142e-01, accuracy=9.1400e-01, log_loss=2.8564e-01, accuracy=9.1400e-01, time spent=19.380s, total time spent=15.92min. Find new best=False, Find new top-3=True\n",
      "[Iter 66/280, Epoch 2] valid f1=9.3501e-01, mcc=8.7846e-01, roc_auc=9.8944e-01, accuracy=9.3800e-01, log_loss=1.7589e-01, accuracy=9.3800e-01, time spent=19.090s, total time spent=17.49min. Find new best=False, Find new top-3=True\n",
      "[Iter 72/280, Epoch 2] valid f1=9.2672e-01, mcc=8.7103e-01, roc_auc=9.9000e-01, accuracy=9.3200e-01, log_loss=2.1277e-01, accuracy=9.3200e-01, time spent=19.359s, total time spent=19.03min. Find new best=False, Find new top-3=True\n",
      "[Iter 78/280, Epoch 2] valid f1=9.4821e-01, mcc=8.9627e-01, roc_auc=9.9021e-01, accuracy=9.4800e-01, log_loss=1.3996e-01, accuracy=9.4800e-01, time spent=19.336s, total time spent=20.65min. Find new best=True, Find new top-3=True\n",
      "[Iter 84/280, Epoch 2] valid f1=9.4695e-01, mcc=8.9325e-01, roc_auc=9.9086e-01, accuracy=9.4600e-01, log_loss=1.4091e-01, accuracy=9.4600e-01, time spent=18.991s, total time spent=22.25min. Find new best=False, Find new top-3=True\n",
      "[Iter 90/280, Epoch 3] valid f1=9.5316e-01, mcc=9.0816e-01, roc_auc=9.9051e-01, accuracy=9.5400e-01, log_loss=1.3538e-01, accuracy=9.5400e-01, time spent=19.002s, total time spent=23.85min. Find new best=True, Find new top-3=True\n",
      "[Iter 96/280, Epoch 3] valid f1=8.9823e-01, mcc=8.2870e-01, roc_auc=9.8925e-01, accuracy=9.0800e-01, log_loss=2.5352e-01, accuracy=9.0800e-01, time spent=19.221s, total time spent=25.39min. Find new best=False, Find new top-3=False\n",
      "[Iter 102/280, Epoch 3] valid f1=9.5409e-01, mcc=9.0819e-01, roc_auc=9.9170e-01, accuracy=9.5400e-01, log_loss=1.2648e-01, accuracy=9.5400e-01, time spent=19.070s, total time spent=27.02min. Find new best=True, Find new top-3=True\n",
      "[Iter 108/280, Epoch 3] valid f1=9.5238e-01, mcc=9.0448e-01, roc_auc=9.9198e-01, accuracy=9.5200e-01, log_loss=1.3016e-01, accuracy=9.5200e-01, time spent=19.271s, total time spent=28.59min. Find new best=False, Find new top-3=True\n",
      "[Iter 114/280, Epoch 4] valid f1=9.3724e-01, mcc=8.8222e-01, roc_auc=9.9147e-01, accuracy=9.4000e-01, log_loss=1.5136e-01, accuracy=9.4000e-01, time spent=19.278s, total time spent=30.13min. Find new best=False, Find new top-3=False\n",
      "[Iter 120/280, Epoch 4] valid f1=9.3501e-01, mcc=8.7846e-01, roc_auc=9.9059e-01, accuracy=9.3800e-01, log_loss=1.7297e-01, accuracy=9.3800e-01, time spent=19.031s, total time spent=31.67min. Find new best=False, Find new top-3=False\n",
      "[Iter 126/280, Epoch 4] valid f1=9.5030e-01, mcc=9.0037e-01, roc_auc=9.9075e-01, accuracy=9.5000e-01, log_loss=1.5228e-01, accuracy=9.5000e-01, time spent=19.112s, total time spent=33.21min. Find new best=False, Find new top-3=False\n",
      "[Iter 132/280, Epoch 4] valid f1=9.4589e-01, mcc=8.9207e-01, roc_auc=9.9144e-01, accuracy=9.4600e-01, log_loss=1.4542e-01, accuracy=9.4600e-01, time spent=19.030s, total time spent=34.76min. Find new best=False, Find new top-3=False\n",
      "[Iter 138/280, Epoch 4] valid f1=9.4142e-01, mcc=8.9024e-01, roc_auc=9.9133e-01, accuracy=9.4400e-01, log_loss=1.8530e-01, accuracy=9.4400e-01, time spent=19.363s, total time spent=36.31min. Find new best=False, Find new top-3=False\n",
      "[Iter 144/280, Epoch 5] valid f1=9.4215e-01, mcc=8.8898e-01, roc_auc=9.9133e-01, accuracy=9.4400e-01, log_loss=1.7010e-01, accuracy=9.4400e-01, time spent=19.314s, total time spent=37.86min. Find new best=False, Find new top-3=False\n",
      "[Iter 150/280, Epoch 5] valid f1=9.3895e-01, mcc=8.8705e-01, roc_auc=9.9110e-01, accuracy=9.4200e-01, log_loss=2.3162e-01, accuracy=9.4200e-01, time spent=19.374s, total time spent=39.42min. Find new best=False, Find new top-3=False\n",
      "[Iter 156/280, Epoch 5] valid f1=9.3634e-01, mcc=8.7652e-01, roc_auc=9.9099e-01, accuracy=9.3800e-01, log_loss=2.0974e-01, accuracy=9.3800e-01, time spent=19.103s, total time spent=40.96min. Find new best=False, Find new top-3=False\n",
      "[Iter 162/280, Epoch 5] valid f1=9.4286e-01, mcc=8.8823e-01, roc_auc=9.9070e-01, accuracy=9.4400e-01, log_loss=1.8601e-01, accuracy=9.4400e-01, time spent=19.105s, total time spent=42.50min. Find new best=False, Find new top-3=False\n",
      "[Iter 168/280, Epoch 5] valid f1=9.5142e-01, mcc=9.0402e-01, roc_auc=9.9152e-01, accuracy=9.5200e-01, log_loss=1.7242e-01, accuracy=9.5200e-01, time spent=19.068s, total time spent=44.10min. Find new best=False, Find new top-3=True\n",
      "[Iter 174/280, Epoch 6] valid f1=9.3528e-01, mcc=8.7796e-01, roc_auc=9.9010e-01, accuracy=9.3800e-01, log_loss=2.0611e-01, accuracy=9.3800e-01, time spent=19.078s, total time spent=45.65min. Find new best=False, Find new top-3=False\n",
      "[Iter 180/280, Epoch 6] valid f1=9.4523e-01, mcc=8.9205e-01, roc_auc=9.9098e-01, accuracy=9.4600e-01, log_loss=1.8950e-01, accuracy=9.4600e-01, time spent=19.086s, total time spent=47.18min. Find new best=False, Find new top-3=False\n",
      "[Iter 186/280, Epoch 6] valid f1=9.4387e-01, mcc=8.9355e-01, roc_auc=9.9083e-01, accuracy=9.4600e-01, log_loss=2.0492e-01, accuracy=9.4600e-01, time spent=19.058s, total time spent=48.74min. Find new best=False, Find new top-3=False\n",
      "[Iter 192/280, Epoch 6] valid f1=9.4309e-01, mcc=8.8809e-01, roc_auc=9.9141e-01, accuracy=9.4400e-01, log_loss=1.8939e-01, accuracy=9.4400e-01, time spent=19.055s, total time spent=50.28min. Find new best=False, Find new top-3=False\n",
      "[Iter 198/280, Epoch 7] valid f1=9.3802e-01, mcc=8.8096e-01, roc_auc=9.9115e-01, accuracy=9.4000e-01, log_loss=2.1589e-01, accuracy=9.4000e-01, time spent=19.083s, total time spent=51.82min. Find new best=False, Find new top-3=False\n",
      "[Iter 204/280, Epoch 7] valid f1=9.4501e-01, mcc=8.9215e-01, roc_auc=9.9155e-01, accuracy=9.4600e-01, log_loss=2.0818e-01, accuracy=9.4600e-01, time spent=19.067s, total time spent=53.38min. Find new best=False, Find new top-3=False\n",
      "[Iter 210/280, Epoch 7] valid f1=9.3996e-01, mcc=8.8514e-01, roc_auc=9.9122e-01, accuracy=9.4200e-01, log_loss=2.3363e-01, accuracy=9.4200e-01, time spent=19.020s, total time spent=54.92min. Find new best=False, Find new top-3=False\n",
      "[Iter 216/280, Epoch 7] valid f1=9.5354e-01, mcc=9.0800e-01, roc_auc=9.9194e-01, accuracy=9.5400e-01, log_loss=2.0858e-01, accuracy=9.5400e-01, time spent=19.113s, total time spent=56.52min. Find new best=True, Find new top-3=True\n",
      "[Iter 222/280, Epoch 7] valid f1=9.3996e-01, mcc=8.8514e-01, roc_auc=9.9160e-01, accuracy=9.4200e-01, log_loss=2.3687e-01, accuracy=9.4200e-01, time spent=19.378s, total time spent=58.08min. Find new best=False, Find new top-3=False\n",
      "[Iter 228/280, Epoch 8] valid f1=9.3111e-01, mcc=8.6994e-01, roc_auc=9.9152e-01, accuracy=9.3400e-01, log_loss=2.3917e-01, accuracy=9.3400e-01, time spent=19.098s, total time spent=59.62min. Find new best=False, Find new top-3=False\n",
      "[Iter 234/280, Epoch 8] valid f1=9.4929e-01, mcc=9.0005e-01, roc_auc=9.9204e-01, accuracy=9.5000e-01, log_loss=1.9866e-01, accuracy=9.5000e-01, time spent=19.365s, total time spent=61.17min. Find new best=False, Find new top-3=False\n",
      "[Iter 240/280, Epoch 8] valid f1=9.4433e-01, mcc=8.9282e-01, roc_auc=9.9150e-01, accuracy=9.4600e-01, log_loss=2.1464e-01, accuracy=9.4600e-01, time spent=19.063s, total time spent=62.71min. Find new best=False, Find new top-3=False\n",
      "[Iter 246/280, Epoch 8] valid f1=9.3996e-01, mcc=8.8514e-01, roc_auc=9.9126e-01, accuracy=9.4200e-01, log_loss=2.2281e-01, accuracy=9.4200e-01, time spent=19.061s, total time spent=64.26min. Find new best=False, Find new top-3=False\n",
      "[Iter 252/280, Epoch 8] valid f1=9.4215e-01, mcc=8.8898e-01, roc_auc=9.9141e-01, accuracy=9.4400e-01, log_loss=2.2143e-01, accuracy=9.4400e-01, time spent=19.351s, total time spent=65.81min. Find new best=False, Find new top-3=False\n",
      "[Iter 258/280, Epoch 9] valid f1=9.4672e-01, mcc=8.9643e-01, roc_auc=9.9134e-01, accuracy=9.4800e-01, log_loss=2.1999e-01, accuracy=9.4800e-01, time spent=19.037s, total time spent=67.35min. Find new best=False, Find new top-3=False\n",
      "[Iter 264/280, Epoch 9] valid f1=9.4672e-01, mcc=8.9643e-01, roc_auc=9.9122e-01, accuracy=9.4800e-01, log_loss=2.1951e-01, accuracy=9.4800e-01, time spent=19.398s, total time spent=68.89min. Find new best=False, Find new top-3=False\n",
      "[Iter 270/280, Epoch 9] valid f1=9.4672e-01, mcc=8.9643e-01, roc_auc=9.9114e-01, accuracy=9.4800e-01, log_loss=2.2073e-01, accuracy=9.4800e-01, time spent=19.099s, total time spent=70.46min. Find new best=False, Find new top-3=False\n",
      "[Iter 276/280, Epoch 9] valid f1=9.4672e-01, mcc=8.9643e-01, roc_auc=9.9110e-01, accuracy=9.4800e-01, log_loss=2.2266e-01, accuracy=9.4800e-01, time spent=19.400s, total time spent=71.99min. Find new best=False, Find new top-3=False\n",
      "[Iter 280/280, Epoch 9] valid f1=9.4672e-01, mcc=8.9643e-01, roc_auc=9.9110e-01, accuracy=9.4800e-01, log_loss=2.2293e-01, accuracy=9.4800e-01, time spent=19.353s, total time spent=73.16min. Find new best=False, Find new top-3=False\n"
     ]
    },
    {
     "data": {
      "image/png": "[encoded data removed]",
      "text/plain": [
       "<Figure size 432x288 with 1 Axes>"
      ]
     },
     "metadata": {
      "needs_background": "light",
      "tags": []
     },
     "output_type": "display_data"
    },
    {
     "name": "stderr",
     "output_type": "stream",
     "text": [
      "\t0.952\t = Validation accuracy score\n",
      "\t4465.99s\t = Training runtime\n",
      "\t20.31s\t = Validation runtime\n",
      "Fitting model: WeightedEnsemble_L2 ...\n",
      "\t0.96\t = Validation accuracy score\n",
      "\t0.32s\t = Training runtime\n",
      "\t0.0s\t = Validation runtime\n",
      "AutoGluon training complete, total runtime = 4577.55s ...\n",
      "TabularPredictor saved. To load, use: predictor = TabularPredictor.load(\"AutogluonModels/ag-20210418_194632/\")\n",
      "Evaluation: accuracy on test data: 0.948\n",
      "Evaluations on test data:\n",
      "{\n",
      "    \"accuracy\": 0.948,\n",
      "    \"accuracy_score\": 0.948,\n",
      "    \"balanced_accuracy_score\": 0.9479757919031677,\n",
      "    \"matthews_corrcoef\": 0.8962527765529131,\n",
      "    \"f1_score\": 0.948\n",
      "}\n",
      "Detailed (per-class) classification report:\n",
      "{\n",
      "    \"__label__0\": {\n",
      "        \"precision\": 0.9589322381930184,\n",
      "        \"recall\": 0.935871743486974,\n",
      "        \"f1-score\": 0.947261663286004,\n",
      "        \"support\": 499\n",
      "    },\n",
      "    \"__label__1\": {\n",
      "        \"precision\": 0.9376218323586745,\n",
      "        \"recall\": 0.9600798403193613,\n",
      "        \"f1-score\": 0.9487179487179488,\n",
      "        \"support\": 501\n",
      "    },\n",
      "    \"accuracy\": 0.948,\n",
      "    \"macro avg\": {\n",
      "        \"precision\": 0.9482770352758465,\n",
      "        \"recall\": 0.9479757919031677,\n",
      "        \"f1-score\": 0.9479898060019765,\n",
      "        \"support\": 1000\n",
      "    },\n",
      "    \"weighted avg\": {\n",
      "        \"precision\": 0.9482557248700121,\n",
      "        \"recall\": 0.948,\n",
      "        \"f1-score\": 0.9479912622874083,\n",
      "        \"support\": 1000\n",
      "    }\n",
      "}\n"
     ]
    }
   ],
   "source": [
    "%%time\n",
    "predictor = TabularPredictor(label='Label').fit(train_data=train_data, hyperparameters='multimodal')\n",
    "y_test = test_data['Label']\n",
    "test_data_nolabel = test_data.drop(labels=['Label'],axis=1)\n",
    "y_pred = predictor.predict(test_data_nolabel)\n",
    "perf = predictor.evaluate_predictions(y_true=y_test, y_pred=y_pred, auxiliary_metrics=True)"
   ]
  },
  {
   "cell_type": "code",
   "execution_count": null,
   "metadata": {
    "id": "HmeZ9OGdbjh0"
   },
   "outputs": [],
   "source": []
  }
 ],
 "metadata": {
  "accelerator": "GPU",
  "celltoolbar": "Slideshow",
  "colab": {
   "collapsed_sections": [],
   "name": "04-TextTransformations_Classification.ipynb",
   "provenance": []
  },
  "kernelspec": {
   "display_name": "Python 3",
   "language": "python",
   "name": "python3"
  },
  "language_info": {
   "codemirror_mode": {
    "name": "ipython",
    "version": 3
   },
   "file_extension": ".py",
   "mimetype": "text/x-python",
   "name": "python",
   "nbconvert_exporter": "python",
   "pygments_lexer": "ipython3",
   "version": "3.8.3"
  }
 },
 "nbformat": 4,
 "nbformat_minor": 1
}
