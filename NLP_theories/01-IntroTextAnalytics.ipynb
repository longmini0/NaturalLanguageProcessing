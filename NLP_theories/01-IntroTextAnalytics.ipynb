{
 "cells": [
  {
   "cell_type": "markdown",
   "metadata": {
    "id": "CFNcW70zGxtx"
   },
   "source": [
    "# Introduction to Text Analytics and Basic String Handling\n",
    "\n",
    "Sanjiv R. Das\n",
    "\n",
    "**Reading references**\n",
    "\n",
    "- NLTK: http://www.nltk.org/book/\n",
    "- Introduction to Linguistics: http://www.ling.upenn.edu/courses/Fall_2003/ling001/\n",
    "- Hugging Face: https://huggingface.co/\n",
    "- My book on Text Analytics for Finance: http://srdas.github.io/Papers/Das_TextAnalyticsInFinance.pdf\n",
    "- A history of Information Retrieval, [Harmon (2019)](https://www.nowpublishers.com/article/Details/INR-065); [pdf](https://drive.google.com/file/d/14OVI18rui61vdNOKQCfD7-8CM4wVmYTw/view?usp=sharing)"
   ]
  },
  {
   "cell_type": "code",
   "execution_count": 10,
   "metadata": {
    "colab": {
     "base_uri": "https://localhost:8080/"
    },
    "executionInfo": {
     "elapsed": 37732,
     "status": "ok",
     "timestamp": 1616866940558,
     "user": {
      "displayName": "Sanjiv Das",
      "photoUrl": "https://lh3.googleusercontent.com/a-/AOh14GhgUU3RgThSxLUq6NKSN2tDGDl8IQdtHMvdaZPE=s64",
      "userId": "06377870171053566924"
     },
     "user_tz": 420
    },
    "id": "sD52J6NdMJSe",
    "outputId": "6f093c36-4960-4b27-8f5d-0279ce7f895c"
   },
   "outputs": [
    {
     "ename": "ModuleNotFoundError",
     "evalue": "No module named 'rpy2'",
     "output_type": "error",
     "traceback": [
      "\u001b[0;31m---------------------------------------------------------------------------\u001b[0m",
      "\u001b[0;31mModuleNotFoundError\u001b[0m                       Traceback (most recent call last)",
      "\u001b[0;32m<ipython-input-10-68d771c787fa>\u001b[0m in \u001b[0;36m<module>\u001b[0;34m\u001b[0m\n\u001b[1;32m      6\u001b[0m \u001b[0;32mfrom\u001b[0m \u001b[0mipypublish\u001b[0m \u001b[0;32mimport\u001b[0m \u001b[0mnb_setup\u001b[0m\u001b[0;34m\u001b[0m\u001b[0;34m\u001b[0m\u001b[0m\n\u001b[1;32m      7\u001b[0m \u001b[0;32mimport\u001b[0m \u001b[0mpandas\u001b[0m \u001b[0;32mas\u001b[0m \u001b[0mpd\u001b[0m\u001b[0;34m\u001b[0m\u001b[0;34m\u001b[0m\u001b[0m\n\u001b[0;32m----> 8\u001b[0;31m \u001b[0mget_ipython\u001b[0m\u001b[0;34m(\u001b[0m\u001b[0;34m)\u001b[0m\u001b[0;34m.\u001b[0m\u001b[0mrun_line_magic\u001b[0m\u001b[0;34m(\u001b[0m\u001b[0;34m'load_ext'\u001b[0m\u001b[0;34m,\u001b[0m \u001b[0;34m'rpy2.ipython'\u001b[0m\u001b[0;34m)\u001b[0m\u001b[0;34m\u001b[0m\u001b[0;34m\u001b[0m\u001b[0m\n\u001b[0m\u001b[1;32m      9\u001b[0m \u001b[0;34m\u001b[0m\u001b[0m\n\u001b[1;32m     10\u001b[0m \u001b[0;31m# Basic lines of code needed to import a data file with permissions from Google Drive\u001b[0m\u001b[0;34m\u001b[0m\u001b[0;34m\u001b[0m\u001b[0;34m\u001b[0m\u001b[0m\n",
      "\u001b[0;32m~/opt/anaconda3/lib/python3.8/site-packages/IPython/core/interactiveshell.py\u001b[0m in \u001b[0;36mrun_line_magic\u001b[0;34m(self, magic_name, line, _stack_depth)\u001b[0m\n\u001b[1;32m   2324\u001b[0m                 \u001b[0mkwargs\u001b[0m\u001b[0;34m[\u001b[0m\u001b[0;34m'local_ns'\u001b[0m\u001b[0;34m]\u001b[0m \u001b[0;34m=\u001b[0m \u001b[0msys\u001b[0m\u001b[0;34m.\u001b[0m\u001b[0m_getframe\u001b[0m\u001b[0;34m(\u001b[0m\u001b[0mstack_depth\u001b[0m\u001b[0;34m)\u001b[0m\u001b[0;34m.\u001b[0m\u001b[0mf_locals\u001b[0m\u001b[0;34m\u001b[0m\u001b[0;34m\u001b[0m\u001b[0m\n\u001b[1;32m   2325\u001b[0m             \u001b[0;32mwith\u001b[0m \u001b[0mself\u001b[0m\u001b[0;34m.\u001b[0m\u001b[0mbuiltin_trap\u001b[0m\u001b[0;34m:\u001b[0m\u001b[0;34m\u001b[0m\u001b[0;34m\u001b[0m\u001b[0m\n\u001b[0;32m-> 2326\u001b[0;31m                 \u001b[0mresult\u001b[0m \u001b[0;34m=\u001b[0m \u001b[0mfn\u001b[0m\u001b[0;34m(\u001b[0m\u001b[0;34m*\u001b[0m\u001b[0margs\u001b[0m\u001b[0;34m,\u001b[0m \u001b[0;34m**\u001b[0m\u001b[0mkwargs\u001b[0m\u001b[0;34m)\u001b[0m\u001b[0;34m\u001b[0m\u001b[0;34m\u001b[0m\u001b[0m\n\u001b[0m\u001b[1;32m   2327\u001b[0m             \u001b[0;32mreturn\u001b[0m \u001b[0mresult\u001b[0m\u001b[0;34m\u001b[0m\u001b[0;34m\u001b[0m\u001b[0m\n\u001b[1;32m   2328\u001b[0m \u001b[0;34m\u001b[0m\u001b[0m\n",
      "\u001b[0;32m<decorator-gen-64>\u001b[0m in \u001b[0;36mload_ext\u001b[0;34m(self, module_str)\u001b[0m\n",
      "\u001b[0;32m~/opt/anaconda3/lib/python3.8/site-packages/IPython/core/magic.py\u001b[0m in \u001b[0;36m<lambda>\u001b[0;34m(f, *a, **k)\u001b[0m\n\u001b[1;32m    185\u001b[0m     \u001b[0;31m# but it's overkill for just that one bit of state.\u001b[0m\u001b[0;34m\u001b[0m\u001b[0;34m\u001b[0m\u001b[0;34m\u001b[0m\u001b[0m\n\u001b[1;32m    186\u001b[0m     \u001b[0;32mdef\u001b[0m \u001b[0mmagic_deco\u001b[0m\u001b[0;34m(\u001b[0m\u001b[0marg\u001b[0m\u001b[0;34m)\u001b[0m\u001b[0;34m:\u001b[0m\u001b[0;34m\u001b[0m\u001b[0;34m\u001b[0m\u001b[0m\n\u001b[0;32m--> 187\u001b[0;31m         \u001b[0mcall\u001b[0m \u001b[0;34m=\u001b[0m \u001b[0;32mlambda\u001b[0m \u001b[0mf\u001b[0m\u001b[0;34m,\u001b[0m \u001b[0;34m*\u001b[0m\u001b[0ma\u001b[0m\u001b[0;34m,\u001b[0m \u001b[0;34m**\u001b[0m\u001b[0mk\u001b[0m\u001b[0;34m:\u001b[0m \u001b[0mf\u001b[0m\u001b[0;34m(\u001b[0m\u001b[0;34m*\u001b[0m\u001b[0ma\u001b[0m\u001b[0;34m,\u001b[0m \u001b[0;34m**\u001b[0m\u001b[0mk\u001b[0m\u001b[0;34m)\u001b[0m\u001b[0;34m\u001b[0m\u001b[0;34m\u001b[0m\u001b[0m\n\u001b[0m\u001b[1;32m    188\u001b[0m \u001b[0;34m\u001b[0m\u001b[0m\n\u001b[1;32m    189\u001b[0m         \u001b[0;32mif\u001b[0m \u001b[0mcallable\u001b[0m\u001b[0;34m(\u001b[0m\u001b[0marg\u001b[0m\u001b[0;34m)\u001b[0m\u001b[0;34m:\u001b[0m\u001b[0;34m\u001b[0m\u001b[0;34m\u001b[0m\u001b[0m\n",
      "\u001b[0;32m~/opt/anaconda3/lib/python3.8/site-packages/IPython/core/magics/extension.py\u001b[0m in \u001b[0;36mload_ext\u001b[0;34m(self, module_str)\u001b[0m\n\u001b[1;32m     31\u001b[0m         \u001b[0;32mif\u001b[0m \u001b[0;32mnot\u001b[0m \u001b[0mmodule_str\u001b[0m\u001b[0;34m:\u001b[0m\u001b[0;34m\u001b[0m\u001b[0;34m\u001b[0m\u001b[0m\n\u001b[1;32m     32\u001b[0m             \u001b[0;32mraise\u001b[0m \u001b[0mUsageError\u001b[0m\u001b[0;34m(\u001b[0m\u001b[0;34m'Missing module name.'\u001b[0m\u001b[0;34m)\u001b[0m\u001b[0;34m\u001b[0m\u001b[0;34m\u001b[0m\u001b[0m\n\u001b[0;32m---> 33\u001b[0;31m         \u001b[0mres\u001b[0m \u001b[0;34m=\u001b[0m \u001b[0mself\u001b[0m\u001b[0;34m.\u001b[0m\u001b[0mshell\u001b[0m\u001b[0;34m.\u001b[0m\u001b[0mextension_manager\u001b[0m\u001b[0;34m.\u001b[0m\u001b[0mload_extension\u001b[0m\u001b[0;34m(\u001b[0m\u001b[0mmodule_str\u001b[0m\u001b[0;34m)\u001b[0m\u001b[0;34m\u001b[0m\u001b[0;34m\u001b[0m\u001b[0m\n\u001b[0m\u001b[1;32m     34\u001b[0m \u001b[0;34m\u001b[0m\u001b[0m\n\u001b[1;32m     35\u001b[0m         \u001b[0;32mif\u001b[0m \u001b[0mres\u001b[0m \u001b[0;34m==\u001b[0m \u001b[0;34m'already loaded'\u001b[0m\u001b[0;34m:\u001b[0m\u001b[0;34m\u001b[0m\u001b[0;34m\u001b[0m\u001b[0m\n",
      "\u001b[0;32m~/opt/anaconda3/lib/python3.8/site-packages/IPython/core/extensions.py\u001b[0m in \u001b[0;36mload_extension\u001b[0;34m(self, module_str)\u001b[0m\n\u001b[1;32m     78\u001b[0m             \u001b[0;32mif\u001b[0m \u001b[0mmodule_str\u001b[0m \u001b[0;32mnot\u001b[0m \u001b[0;32min\u001b[0m \u001b[0msys\u001b[0m\u001b[0;34m.\u001b[0m\u001b[0mmodules\u001b[0m\u001b[0;34m:\u001b[0m\u001b[0;34m\u001b[0m\u001b[0;34m\u001b[0m\u001b[0m\n\u001b[1;32m     79\u001b[0m                 \u001b[0;32mwith\u001b[0m \u001b[0mprepended_to_syspath\u001b[0m\u001b[0;34m(\u001b[0m\u001b[0mself\u001b[0m\u001b[0;34m.\u001b[0m\u001b[0mipython_extension_dir\u001b[0m\u001b[0;34m)\u001b[0m\u001b[0;34m:\u001b[0m\u001b[0;34m\u001b[0m\u001b[0;34m\u001b[0m\u001b[0m\n\u001b[0;32m---> 80\u001b[0;31m                     \u001b[0mmod\u001b[0m \u001b[0;34m=\u001b[0m \u001b[0mimport_module\u001b[0m\u001b[0;34m(\u001b[0m\u001b[0mmodule_str\u001b[0m\u001b[0;34m)\u001b[0m\u001b[0;34m\u001b[0m\u001b[0;34m\u001b[0m\u001b[0m\n\u001b[0m\u001b[1;32m     81\u001b[0m                     \u001b[0;32mif\u001b[0m \u001b[0mmod\u001b[0m\u001b[0;34m.\u001b[0m\u001b[0m__file__\u001b[0m\u001b[0;34m.\u001b[0m\u001b[0mstartswith\u001b[0m\u001b[0;34m(\u001b[0m\u001b[0mself\u001b[0m\u001b[0;34m.\u001b[0m\u001b[0mipython_extension_dir\u001b[0m\u001b[0;34m)\u001b[0m\u001b[0;34m:\u001b[0m\u001b[0;34m\u001b[0m\u001b[0;34m\u001b[0m\u001b[0m\n\u001b[1;32m     82\u001b[0m                         print((\"Loading extensions from {dir} is deprecated. \"\n",
      "\u001b[0;32m~/opt/anaconda3/lib/python3.8/importlib/__init__.py\u001b[0m in \u001b[0;36mimport_module\u001b[0;34m(name, package)\u001b[0m\n\u001b[1;32m    125\u001b[0m                 \u001b[0;32mbreak\u001b[0m\u001b[0;34m\u001b[0m\u001b[0;34m\u001b[0m\u001b[0m\n\u001b[1;32m    126\u001b[0m             \u001b[0mlevel\u001b[0m \u001b[0;34m+=\u001b[0m \u001b[0;36m1\u001b[0m\u001b[0;34m\u001b[0m\u001b[0;34m\u001b[0m\u001b[0m\n\u001b[0;32m--> 127\u001b[0;31m     \u001b[0;32mreturn\u001b[0m \u001b[0m_bootstrap\u001b[0m\u001b[0;34m.\u001b[0m\u001b[0m_gcd_import\u001b[0m\u001b[0;34m(\u001b[0m\u001b[0mname\u001b[0m\u001b[0;34m[\u001b[0m\u001b[0mlevel\u001b[0m\u001b[0;34m:\u001b[0m\u001b[0;34m]\u001b[0m\u001b[0;34m,\u001b[0m \u001b[0mpackage\u001b[0m\u001b[0;34m,\u001b[0m \u001b[0mlevel\u001b[0m\u001b[0;34m)\u001b[0m\u001b[0;34m\u001b[0m\u001b[0;34m\u001b[0m\u001b[0m\n\u001b[0m\u001b[1;32m    128\u001b[0m \u001b[0;34m\u001b[0m\u001b[0m\n\u001b[1;32m    129\u001b[0m \u001b[0;34m\u001b[0m\u001b[0m\n",
      "\u001b[0;32m~/opt/anaconda3/lib/python3.8/importlib/_bootstrap.py\u001b[0m in \u001b[0;36m_gcd_import\u001b[0;34m(name, package, level)\u001b[0m\n",
      "\u001b[0;32m~/opt/anaconda3/lib/python3.8/importlib/_bootstrap.py\u001b[0m in \u001b[0;36m_find_and_load\u001b[0;34m(name, import_)\u001b[0m\n",
      "\u001b[0;32m~/opt/anaconda3/lib/python3.8/importlib/_bootstrap.py\u001b[0m in \u001b[0;36m_find_and_load_unlocked\u001b[0;34m(name, import_)\u001b[0m\n",
      "\u001b[0;32m~/opt/anaconda3/lib/python3.8/importlib/_bootstrap.py\u001b[0m in \u001b[0;36m_call_with_frames_removed\u001b[0;34m(f, *args, **kwds)\u001b[0m\n",
      "\u001b[0;32m~/opt/anaconda3/lib/python3.8/importlib/_bootstrap.py\u001b[0m in \u001b[0;36m_gcd_import\u001b[0;34m(name, package, level)\u001b[0m\n",
      "\u001b[0;32m~/opt/anaconda3/lib/python3.8/importlib/_bootstrap.py\u001b[0m in \u001b[0;36m_find_and_load\u001b[0;34m(name, import_)\u001b[0m\n",
      "\u001b[0;32m~/opt/anaconda3/lib/python3.8/importlib/_bootstrap.py\u001b[0m in \u001b[0;36m_find_and_load_unlocked\u001b[0;34m(name, import_)\u001b[0m\n",
      "\u001b[0;31mModuleNotFoundError\u001b[0m: No module named 'rpy2'"
     ]
    }
   ],
   "source": [
    "%%capture\n",
    "#INCLUDING SCIENTIFIC AND NUMERICAL COMPUTING LIBRARIES\n",
    "#Run this code to make sure that you have all the libraries at one go.\n",
    "%pylab inline\n",
    "import os\n",
    "!pip install ipypublish\n",
    "from ipypublish import nb_setup\n",
    "import pandas as pd\n",
    "%load_ext rpy2.ipython\n",
    "\n",
    "# Basic lines of code needed to import a data file with permissions from Google Drive\n",
    "from google.colab import drive\n",
    "# drive.mount(\"/content/drive\", force_remount=True)\n",
    "drive.mount('/content/drive')\n",
    "os.chdir(\"drive/My Drive/Teaching/NLP/\")"
   ]
  },
  {
   "cell_type": "markdown",
   "metadata": {
    "id": "9TwEvgavG1xw"
   },
   "source": [
    "**Question**: Why has Covid made text analysis in finance more relevant?"
   ]
  },
  {
   "cell_type": "markdown",
   "metadata": {
    "id": "sY4LC4cOGxt9"
   },
   "source": [
    "## News Analysis for Finance\n",
    "\n",
    "In Finance, for example, text has become a major source of trading information, leading to a new field known as News Metrics.\n",
    "\n",
    "News analysis is defined as “the measurement of the various qualitative and quantitative attributes of textual news stories. Some of these attributes are: sentiment, relevance, and novelty. Expressing news stories as numbers permits the manipulation of everyday information in a mathematical and statistical way.” (Wikipedia). \n",
    "\n",
    "In this class, we will study frameworks for text analytics techniques that are in widespread use. We will discuss various text analytic methods and software, and then provide a set of metrics that may be used to assess the performance of analytics. Various directions for this field are discussed through the exposition. The techniques herein can aid in the valuation and trading of securities, facilitate investment decision making, meet regulatory requirements, provide marketing insights, or manage risk."
   ]
  },
  {
   "cell_type": "markdown",
   "metadata": {
    "id": "OdanDsN1Gxt_"
   },
   "source": [
    "## News Analytics\n",
    "\n",
    "See: https://www.amazon.com/Handbook-News-Analytics-Finance/dp/047066679X/ref=sr_1_1?ie=UTF8&qid=1466897817&sr=8-1&keywords=handbook+of+news+analytics\n",
    "\n",
    "“News analytics are used in financial modeling, particularly in quantitative and algorithmic trading. Further, news analytics can be used to plot and characterize firm behaviors over time and thus yield important strategic insights about rival firms. News analytics are usually derived through automated text analysis and applied to digital texts using elements from natural language processing and machine learning such as latent semantic analysis, support vector machines, `bag of words’, among other techniques.” (Wikipedia)"
   ]
  },
  {
   "cell_type": "markdown",
   "metadata": {
    "id": "e-DdVDPSGxuA"
   },
   "source": [
    "## Text as Data\n",
    "\n",
    "There are many reasons why text has business value. But this is a narrow view. Textual data provides a means of understanding all human behavior through a data-driven, analytical approach. Let’s enumerate some reasons for this.\n",
    "\n",
    "- Big Text: there is more textual data than numerical data.\n",
    "- Text is versatile. Nuances and behavioral expressions are not conveyed with numbers, so analyzing text allows us to explore these aspects of human interaction.\n",
    "- Text contains emotive content. This has led to the ubiquity of “Sentiment analysis”. See for example: Admati-Pfleiderer 2001; DeMarzo et al 2003; Antweiler-Frank 2004, 2005; Das-Chen 2007; Tetlock 2007; Tetlock et al 2008; Mitra et al 2008; Leinweber-Sisk 2010.\n",
    "- Text contains opinions and connections. See: Das et al 2005; Das and Sisk 2005; Godes et al 2005; Li 2006; Hochberg et al 2007.\n",
    "- Numbers aggregate; text disaggregates. Text allows us to drill down into underlying behavior when understanding human interaction.\n",
    "- Text is forward looking, much more than tabular data. Recent structural shifts in the economy (pandemics, trade wars, etc.) have made unstructured text data relatively more important than structured tabular data."
   ]
  },
  {
   "cell_type": "markdown",
   "metadata": {
    "id": "HSWdqmS6GxuB"
   },
   "source": [
    "## Chris Anderson: “Data is the New Theory.” \n",
    "\n",
    "In a talk at the 17th ACM Conference on Information Knowledge and Management (CIKM ’08), Google’s director of research Peter Norvig stated his unequivocal preference for data over algorithms—“data is more agile than code.” Yet, it is well-understood that too much data can lead to overfitting so that an algorithm becomes mostly useless out-of-sample. "
   ]
  },
  {
   "cell_type": "markdown",
   "metadata": {
    "id": "9ndIOOHnGxuD"
   },
   "source": [
    "## Definition: Text-Mining\n",
    "\n",
    "- Text mining is the large-scale, automated processing of plain text language in digital form to extract data that is converted into useful quantitative or qualitative information.\n",
    "- Text mining is automated on big data that is not amenable to human processing within reasonable time frames. It entails extracting data that is converted into information of many types.\n",
    "- Simple: Text mining may be simple as key word searches and counts.\n",
    "- Complicated: It may require language parsing and complex rules for information extraction.\n",
    "- Involves structured text, such as the information in forms and some kinds of web pages.\n",
    "- May be applied to unstructured text is a much harder endeavor.\n",
    "- Text mining is also aimed at unearthing unseen relationships in unstructured text as in meta analyses of research papers, see Van Noorden 2012."
   ]
  },
  {
   "cell_type": "code",
   "execution_count": null,
   "metadata": {
    "colab": {
     "base_uri": "https://localhost:8080/",
     "height": 487
    },
    "executionInfo": {
     "elapsed": 3222,
     "status": "ok",
     "timestamp": 1616500417966,
     "user": {
      "displayName": "Sanjiv Das",
      "photoUrl": "https://lh3.googleusercontent.com/a-/AOh14GhgUU3RgThSxLUq6NKSN2tDGDl8IQdtHMvdaZPE=s64",
      "userId": "06377870171053566924"
     },
     "user_tz": 420
    },
    "id": "T-oENS4iGxuE",
    "outputId": "e1188acf-60cf-4ccf-a010-e71f2bb329f6"
   },
   "outputs": [
    {
     "data": {
      "image/png": "[encoded data removed]",
      "text/plain": [
       "<PIL.Image.Image image mode=RGBA size=500x470 at 0x7FE670C8F510>"
      ]
     },
     "execution_count": 2,
     "metadata": {
      "tags": []
     },
     "output_type": "execute_result"
    }
   ],
   "source": [
    "nb_setup.images_hconcat([\"NLP_images/algo_complexity.jpg\"], width=500)"
   ]
  },
  {
   "cell_type": "markdown",
   "metadata": {
    "id": "aPOU8cfjGxuL"
   },
   "source": [
    "## The Response to News\n",
    "Das, Martinez-Jerez, and Tufano (FM 2005)"
   ]
  },
  {
   "cell_type": "code",
   "execution_count": null,
   "metadata": {
    "id": "PSrQf_ZBGxuN",
    "outputId": "cdaadaee-0e6f-4a10-a47f-31c31853b20d"
   },
   "outputs": [
    {
     "data": {
      "image/png": "[encoded data removed]",
      "text/plain": [
       "<PIL.Image.Image image mode=RGBA size=600x399 at 0x7F23F496C9E8>"
      ]
     },
     "execution_count": 4,
     "metadata": {
      "tags": []
     },
     "output_type": "execute_result"
    }
   ],
   "source": [
    "nb_setup.images_hconcat([\"NLP_images/news_cycle.png\"], width=600)"
   ]
  },
  {
   "cell_type": "markdown",
   "metadata": {
    "id": "NJmvmLNDGxuU"
   },
   "source": [
    "## Breakdown of news flow"
   ]
  },
  {
   "cell_type": "code",
   "execution_count": null,
   "metadata": {
    "id": "fTLGfIWoGxuV",
    "outputId": "9d50f31c-758a-4c7d-cdcb-e2f46020703f",
    "scrolled": true
   },
   "outputs": [
    {
     "data": {
      "image/png": "[encoded data removed]",
      "text/plain": [
       "<PIL.Image.Image image mode=RGBA size=600x397 at 0x7F23F496CA20>"
      ]
     },
     "execution_count": 5,
     "metadata": {
      "tags": []
     },
     "output_type": "execute_result"
    }
   ],
   "source": [
    "nb_setup.images_hconcat([\"NLP_images/breakdown_newsflow.png\"], width=600)"
   ]
  },
  {
   "cell_type": "markdown",
   "metadata": {
    "id": "PTRIP9cJGxuc"
   },
   "source": [
    "## Frequency of posting"
   ]
  },
  {
   "cell_type": "code",
   "execution_count": null,
   "metadata": {
    "id": "LJ3Sy62wGxue",
    "outputId": "d609f41c-eec2-4eac-a3f9-338b7e43a2b9",
    "scrolled": true
   },
   "outputs": [
    {
     "data": {
      "image/png": "[encoded data removed]",
      "text/plain": [
       "<PIL.Image.Image image mode=RGBA size=600x317 at 0x7F23F496CB00>"
      ]
     },
     "execution_count": 6,
     "metadata": {
      "tags": []
     },
     "output_type": "execute_result"
    }
   ],
   "source": [
    "nb_setup.images_hconcat([\"NLP_images/freq_postings.png\"], width=600)"
   ]
  },
  {
   "cell_type": "markdown",
   "metadata": {
    "id": "HH9d8I5bGxul"
   },
   "source": [
    "## Weekly posting"
   ]
  },
  {
   "cell_type": "code",
   "execution_count": null,
   "metadata": {
    "id": "0BzGA-EgGxun",
    "outputId": "4be992f7-ad1b-449f-cf7b-202eeda3032f"
   },
   "outputs": [
    {
     "data": {
      "image/png": "[encoded data removed]",
      "text/plain": [
       "<PIL.Image.Image image mode=RGBA size=600x321 at 0x7F23F496CD30>"
      ]
     },
     "execution_count": 7,
     "metadata": {
      "tags": []
     },
     "output_type": "execute_result"
    }
   ],
   "source": [
    "nb_setup.images_hconcat([\"NLP_images/weekly_posting.png\"], width=600)"
   ]
  },
  {
   "cell_type": "markdown",
   "metadata": {
    "id": "W5G2HDROGxut"
   },
   "source": [
    "## Intraday posting"
   ]
  },
  {
   "cell_type": "code",
   "execution_count": null,
   "metadata": {
    "id": "9B5tHyfJGxuv",
    "outputId": "0b5af66c-d554-45c0-c42d-9ab11fc6d801",
    "scrolled": true
   },
   "outputs": [
    {
     "data": {
      "image/png": "[encoded data removed]",
      "text/plain": [
       "<PIL.Image.Image image mode=RGBA size=600x291 at 0x7F23F496CDD8>"
      ]
     },
     "execution_count": 8,
     "metadata": {
      "tags": []
     },
     "output_type": "execute_result"
    }
   ],
   "source": [
    "nb_setup.images_hconcat([\"NLP_images/intraday_posting.png\"], width=600)"
   ]
  },
  {
   "cell_type": "markdown",
   "metadata": {
    "id": "rA9sPnBRGxu1"
   },
   "source": [
    "## Number of characters per posting"
   ]
  },
  {
   "cell_type": "code",
   "execution_count": null,
   "metadata": {
    "id": "TXhA7yF2Gxu2",
    "outputId": "a969f285-8f15-4b25-cb1f-29dc8570a770",
    "scrolled": true
   },
   "outputs": [
    {
     "data": {
      "image/png": "[encoded data removed]",
      "text/plain": [
       "<PIL.Image.Image image mode=RGBA size=600x303 at 0x7F23F496CF60>"
      ]
     },
     "execution_count": 9,
     "metadata": {
      "tags": []
     },
     "output_type": "execute_result"
    }
   ],
   "source": [
    "nb_setup.images_hconcat([\"NLP_images/characters_posting.png\"], width=600)"
   ]
  },
  {
   "cell_type": "markdown",
   "metadata": {
    "id": "0CFK6zDWGxu8"
   },
   "source": [
    "## Examples: Basic Text Handling"
   ]
  },
  {
   "cell_type": "code",
   "execution_count": 1,
   "metadata": {
    "executionInfo": {
     "elapsed": 585,
     "status": "ok",
     "timestamp": 1616866987884,
     "user": {
      "displayName": "Sanjiv Das",
      "photoUrl": "https://lh3.googleusercontent.com/a-/AOh14GhgUU3RgThSxLUq6NKSN2tDGDl8IQdtHMvdaZPE=s64",
      "userId": "06377870171053566924"
     },
     "user_tz": 420
    },
    "id": "W8rGHv1IGxu9"
   },
   "outputs": [],
   "source": [
    "text = \"We the People of the United States, in Order to form a more perfect Union, establish Justice, \\\n",
    "        insure domestic Tranquility, provide for the common defence, promote the general Welfare, \\\n",
    "        and secure the Blessings of Liberty to ourselves and our Posterity, do ordain and establish \\\n",
    "        this Constitution for the United States of America.\""
   ]
  },
  {
   "cell_type": "code",
   "execution_count": 2,
   "metadata": {
    "colab": {
     "base_uri": "https://localhost:8080/"
    },
    "executionInfo": {
     "elapsed": 523,
     "status": "ok",
     "timestamp": 1616866989200,
     "user": {
      "displayName": "Sanjiv Das",
      "photoUrl": "https://lh3.googleusercontent.com/a-/AOh14GhgUU3RgThSxLUq6NKSN2tDGDl8IQdtHMvdaZPE=s64",
      "userId": "06377870171053566924"
     },
     "user_tz": 420
    },
    "id": "_GhqqpK463DW",
    "outputId": "840800b1-fa15-4418-cfb5-a12db37bf2d4"
   },
   "outputs": [
    {
     "data": {
      "text/plain": [
       "str"
      ]
     },
     "execution_count": 2,
     "metadata": {},
     "output_type": "execute_result"
    }
   ],
   "source": [
    "type(text)"
   ]
  },
  {
   "cell_type": "code",
   "execution_count": 3,
   "metadata": {
    "colab": {
     "base_uri": "https://localhost:8080/"
    },
    "executionInfo": {
     "elapsed": 548,
     "status": "ok",
     "timestamp": 1616866990630,
     "user": {
      "displayName": "Sanjiv Das",
      "photoUrl": "https://lh3.googleusercontent.com/a-/AOh14GhgUU3RgThSxLUq6NKSN2tDGDl8IQdtHMvdaZPE=s64",
      "userId": "06377870171053566924"
     },
     "user_tz": 420
    },
    "id": "vItg7OgJGxvB",
    "outputId": "0878cd99-fe01-4989-bc85-9bef4391e75e"
   },
   "outputs": [
    {
     "data": {
      "text/plain": [
       "351"
      ]
     },
     "execution_count": 3,
     "metadata": {},
     "output_type": "execute_result"
    }
   ],
   "source": [
    "#How many characters including blanks? \n",
    "len(text)"
   ]
  },
  {
   "cell_type": "code",
   "execution_count": 4,
   "metadata": {
    "colab": {
     "base_uri": "https://localhost:8080/"
    },
    "executionInfo": {
     "elapsed": 599,
     "status": "ok",
     "timestamp": 1616866993283,
     "user": {
      "displayName": "Sanjiv Das",
      "photoUrl": "https://lh3.googleusercontent.com/a-/AOh14GhgUU3RgThSxLUq6NKSN2tDGDl8IQdtHMvdaZPE=s64",
      "userId": "06377870171053566924"
     },
     "user_tz": 420
    },
    "id": "QP_M1XlfGxvF",
    "outputId": "bce82ca9-4c93-4d69-cdfa-9f60442ee400",
    "scrolled": true
   },
   "outputs": [
    {
     "name": "stdout",
     "output_type": "stream",
     "text": [
      "['We', 'the', 'People', 'of', 'the', 'United', 'States,', 'in', 'Order', 'to', 'form', 'a', 'more', 'perfect', 'Union,', 'establish', 'Justice,', '', '', '', '', '', '', '', '', 'insure', 'domestic', 'Tranquility,', 'provide', 'for', 'the', 'common', 'defence,', 'promote', 'the', 'general', 'Welfare,', '', '', '', '', '', '', '', '', 'and', 'secure', 'the', 'Blessings', 'of', 'Liberty', 'to', 'ourselves', 'and', 'our', 'Posterity,', 'do', 'ordain', 'and', 'establish', '', '', '', '', '', '', '', '', 'this', 'Constitution', 'for', 'the', 'United', 'States', 'of', 'America.']\n"
     ]
    }
   ],
   "source": [
    "#Tokenize the words, separating by spaces, periods, commas\n",
    "x = text.split(\" \")\n",
    "print(x)"
   ]
  },
  {
   "cell_type": "code",
   "execution_count": 5,
   "metadata": {
    "colab": {
     "base_uri": "https://localhost:8080/"
    },
    "executionInfo": {
     "elapsed": 753,
     "status": "ok",
     "timestamp": 1616866996977,
     "user": {
      "displayName": "Sanjiv Das",
      "photoUrl": "https://lh3.googleusercontent.com/a-/AOh14GhgUU3RgThSxLUq6NKSN2tDGDl8IQdtHMvdaZPE=s64",
      "userId": "06377870171053566924"
     },
     "user_tz": 420
    },
    "id": "q5WzrbGpGxvJ",
    "outputId": "0597b788-e1e5-4fc6-f2ab-549608a6f965"
   },
   "outputs": [
    {
     "data": {
      "text/plain": [
       "76"
      ]
     },
     "execution_count": 5,
     "metadata": {},
     "output_type": "execute_result"
    }
   ],
   "source": [
    "#How many words?\n",
    "len(x)"
   ]
  },
  {
   "cell_type": "markdown",
   "metadata": {
    "id": "eBhO5KIsGxvM"
   },
   "source": [
    "But this returns words with commas and periods included, which is not desired. So what we need is the regular expressions package, i.e., **re**. There are several online regex utilities you may use, e.g., https://regex101.com/. "
   ]
  },
  {
   "cell_type": "code",
   "execution_count": 6,
   "metadata": {
    "colab": {
     "base_uri": "https://localhost:8080/"
    },
    "executionInfo": {
     "elapsed": 612,
     "status": "ok",
     "timestamp": 1616867085204,
     "user": {
      "displayName": "Sanjiv Das",
      "photoUrl": "https://lh3.googleusercontent.com/a-/AOh14GhgUU3RgThSxLUq6NKSN2tDGDl8IQdtHMvdaZPE=s64",
      "userId": "06377870171053566924"
     },
     "user_tz": 420
    },
    "id": "MM_PJ72uGxvM",
    "outputId": "c89aa7d3-95d4-4274-e603-81c919cd359b"
   },
   "outputs": [
    {
     "name": "stdout",
     "output_type": "stream",
     "text": [
      "['We', 'the', 'People', 'of', 'the', 'United', 'States', '', 'in', 'Order', 'to', 'form', 'a', 'more', 'perfect', 'Union', '', 'establish', 'Justice', '', '', '', '', '', '', '', '', '', 'insure', 'domestic', 'Tranquility', '', 'provide', 'for', 'the', 'common', 'defence', '', 'promote', 'the', 'general', 'Welfare', '', '', '', '', '', '', '', '', '', 'and', 'secure', 'the', 'Blessings', 'of', 'Liberty', 'to', 'ourselves', 'and', 'our', 'Posterity', '', 'do', 'ordain', 'and', 'establish', '', '', '', '', '', '', '', '', 'this', 'Constitution', 'for', 'the', 'United', 'States', 'of', 'America', '']\n"
     ]
    }
   ],
   "source": [
    "import re\n",
    "x = re.split('[ ,.]',text)\n",
    "print(x)"
   ]
  },
  {
   "cell_type": "code",
   "execution_count": 7,
   "metadata": {
    "colab": {
     "base_uri": "https://localhost:8080/"
    },
    "executionInfo": {
     "elapsed": 574,
     "status": "ok",
     "timestamp": 1616867102483,
     "user": {
      "displayName": "Sanjiv Das",
      "photoUrl": "https://lh3.googleusercontent.com/a-/AOh14GhgUU3RgThSxLUq6NKSN2tDGDl8IQdtHMvdaZPE=s64",
      "userId": "06377870171053566924"
     },
     "user_tz": 420
    },
    "id": "j0QVjg5tGxvQ",
    "outputId": "045876ef-9e9d-48e2-e4da-cb6abc3f18b1"
   },
   "outputs": [
    {
     "name": "stdout",
     "output_type": "stream",
     "text": [
      "['We', 'the', 'People', 'of', 'the', 'United', 'States', 'in', 'Order', 'to', 'form', 'a', 'more', 'perfect', 'Union', 'establish', 'Justice', 'insure', 'domestic', 'Tranquility', 'provide', 'for', 'the', 'common', 'defence', 'promote', 'the', 'general', 'Welfare', 'and', 'secure', 'the', 'Blessings', 'of', 'Liberty', 'to', 'ourselves', 'and', 'our', 'Posterity', 'do', 'ordain', 'and', 'establish', 'this', 'Constitution', 'for', 'the', 'United', 'States', 'of', 'America']\n"
     ]
    }
   ],
   "source": [
    "#Use a list comprehension to remove spaces\n",
    "x = [j for j in x if len(j)>0]\n",
    "print(x)"
   ]
  },
  {
   "cell_type": "code",
   "execution_count": 8,
   "metadata": {
    "colab": {
     "base_uri": "https://localhost:8080/"
    },
    "executionInfo": {
     "elapsed": 720,
     "status": "ok",
     "timestamp": 1616867109819,
     "user": {
      "displayName": "Sanjiv Das",
      "photoUrl": "https://lh3.googleusercontent.com/a-/AOh14GhgUU3RgThSxLUq6NKSN2tDGDl8IQdtHMvdaZPE=s64",
      "userId": "06377870171053566924"
     },
     "user_tz": 420
    },
    "id": "4oizyT5YGxvU",
    "outputId": "dac25218-0fdf-4fab-9ade-d8784d309081"
   },
   "outputs": [
    {
     "data": {
      "text/plain": [
       "52"
      ]
     },
     "execution_count": 8,
     "metadata": {},
     "output_type": "execute_result"
    }
   ],
   "source": [
    "len(x)"
   ]
  },
  {
   "cell_type": "code",
   "execution_count": 11,
   "metadata": {
    "colab": {
     "base_uri": "https://localhost:8080/"
    },
    "executionInfo": {
     "elapsed": 585,
     "status": "ok",
     "timestamp": 1616867114870,
     "user": {
      "displayName": "Sanjiv Das",
      "photoUrl": "https://lh3.googleusercontent.com/a-/AOh14GhgUU3RgThSxLUq6NKSN2tDGDl8IQdtHMvdaZPE=s64",
      "userId": "06377870171053566924"
     },
     "user_tz": 420
    },
    "id": "Et5cqo4VGxvY",
    "outputId": "c6706138-9cfd-4a4a-f7aa-254c8a198b86"
   },
   "outputs": [
    {
     "name": "stdout",
     "output_type": "stream",
     "text": [
      "['a' 'america' 'and' 'blessings' 'common' 'constitution' 'defence' 'do'\n",
      " 'domestic' 'establish' 'for' 'form' 'general' 'in' 'insure' 'justice'\n",
      " 'liberty' 'more' 'of' 'ordain' 'order' 'our' 'ourselves' 'people'\n",
      " 'perfect' 'posterity' 'promote' 'provide' 'secure' 'states' 'the' 'this'\n",
      " 'to' 'tranquility' 'union' 'united' 'we' 'welfare']\n"
     ]
    }
   ],
   "source": [
    "#Unique words\n",
    "y = [j.lower() for j in x]\n",
    "z = unique(y)\n",
    "print(z)"
   ]
  },
  {
   "cell_type": "code",
   "execution_count": 12,
   "metadata": {
    "colab": {
     "base_uri": "https://localhost:8080/"
    },
    "executionInfo": {
     "elapsed": 679,
     "status": "ok",
     "timestamp": 1616867121390,
     "user": {
      "displayName": "Sanjiv Das",
      "photoUrl": "https://lh3.googleusercontent.com/a-/AOh14GhgUU3RgThSxLUq6NKSN2tDGDl8IQdtHMvdaZPE=s64",
      "userId": "06377870171053566924"
     },
     "user_tz": 420
    },
    "id": "oqU0maqHGxvb",
    "outputId": "562197c4-29bf-4254-9795-5745f082e216"
   },
   "outputs": [
    {
     "data": {
      "text/plain": [
       "38"
      ]
     },
     "execution_count": 12,
     "metadata": {},
     "output_type": "execute_result"
    }
   ],
   "source": [
    "len(z)"
   ]
  },
  {
   "cell_type": "markdown",
   "metadata": {
    "id": "HnUt-p4HGxve"
   },
   "source": [
    "## Using List Comprehensions to find specific words"
   ]
  },
  {
   "cell_type": "code",
   "execution_count": 13,
   "metadata": {
    "colab": {
     "base_uri": "https://localhost:8080/"
    },
    "executionInfo": {
     "elapsed": 684,
     "status": "ok",
     "timestamp": 1616867126100,
     "user": {
      "displayName": "Sanjiv Das",
      "photoUrl": "https://lh3.googleusercontent.com/a-/AOh14GhgUU3RgThSxLUq6NKSN2tDGDl8IQdtHMvdaZPE=s64",
      "userId": "06377870171053566924"
     },
     "user_tz": 420
    },
    "id": "-PYyek6YGxve",
    "outputId": "fc73b5ee-3d9f-4e7e-c292-639bf4578e9c"
   },
   "outputs": [
    {
     "data": {
      "text/plain": [
       "['People',\n",
       " 'United',\n",
       " 'States',\n",
       " 'Order',\n",
       " 'form',\n",
       " 'more',\n",
       " 'perfect',\n",
       " 'Union',\n",
       " 'establish',\n",
       " 'Justice',\n",
       " 'insure',\n",
       " 'domestic',\n",
       " 'Tranquility',\n",
       " 'provide',\n",
       " 'common',\n",
       " 'defence',\n",
       " 'promote',\n",
       " 'general',\n",
       " 'Welfare',\n",
       " 'secure',\n",
       " 'Blessings',\n",
       " 'Liberty',\n",
       " 'ourselves',\n",
       " 'Posterity',\n",
       " 'ordain',\n",
       " 'establish',\n",
       " 'this',\n",
       " 'Constitution',\n",
       " 'United',\n",
       " 'States',\n",
       " 'America']"
      ]
     },
     "execution_count": 13,
     "metadata": {},
     "output_type": "execute_result"
    }
   ],
   "source": [
    "#Find words greater than 3 characters\n",
    "[j for j in x if len(j)>3]"
   ]
  },
  {
   "cell_type": "code",
   "execution_count": 14,
   "metadata": {
    "colab": {
     "base_uri": "https://localhost:8080/"
    },
    "executionInfo": {
     "elapsed": 695,
     "status": "ok",
     "timestamp": 1616867130275,
     "user": {
      "displayName": "Sanjiv Das",
      "photoUrl": "https://lh3.googleusercontent.com/a-/AOh14GhgUU3RgThSxLUq6NKSN2tDGDl8IQdtHMvdaZPE=s64",
      "userId": "06377870171053566924"
     },
     "user_tz": 420
    },
    "id": "gNdcY6RaGxvh",
    "outputId": "8d597594-f001-4083-ca9a-bfbea5d6ae30"
   },
   "outputs": [
    {
     "data": {
      "text/plain": [
       "['We',\n",
       " 'People',\n",
       " 'United',\n",
       " 'States',\n",
       " 'Order',\n",
       " 'Union',\n",
       " 'Justice',\n",
       " 'Tranquility',\n",
       " 'Welfare',\n",
       " 'Blessings',\n",
       " 'Liberty',\n",
       " 'Posterity',\n",
       " 'Constitution',\n",
       " 'United',\n",
       " 'States',\n",
       " 'America']"
      ]
     },
     "execution_count": 14,
     "metadata": {},
     "output_type": "execute_result"
    }
   ],
   "source": [
    "#Find capitalized words\n",
    "[j for j in x if j.istitle()]"
   ]
  },
  {
   "cell_type": "code",
   "execution_count": 15,
   "metadata": {
    "colab": {
     "base_uri": "https://localhost:8080/"
    },
    "executionInfo": {
     "elapsed": 897,
     "status": "ok",
     "timestamp": 1616867136099,
     "user": {
      "displayName": "Sanjiv Das",
      "photoUrl": "https://lh3.googleusercontent.com/a-/AOh14GhgUU3RgThSxLUq6NKSN2tDGDl8IQdtHMvdaZPE=s64",
      "userId": "06377870171053566924"
     },
     "user_tz": 420
    },
    "id": "IZxQmhXPGxvk",
    "outputId": "62727465-bffe-4dd7-95d1-41ec5c125c11"
   },
   "outputs": [
    {
     "data": {
      "text/plain": [
       "['common']"
      ]
     },
     "execution_count": 15,
     "metadata": {},
     "output_type": "execute_result"
    }
   ],
   "source": [
    "#Find words that begin with c\n",
    "[j for j in x if j.startswith('c')]"
   ]
  },
  {
   "cell_type": "code",
   "execution_count": 16,
   "metadata": {
    "colab": {
     "base_uri": "https://localhost:8080/"
    },
    "executionInfo": {
     "elapsed": 462,
     "status": "ok",
     "timestamp": 1616867138332,
     "user": {
      "displayName": "Sanjiv Das",
      "photoUrl": "https://lh3.googleusercontent.com/a-/AOh14GhgUU3RgThSxLUq6NKSN2tDGDl8IQdtHMvdaZPE=s64",
      "userId": "06377870171053566924"
     },
     "user_tz": 420
    },
    "id": "xWu1Z-D9Gxvn",
    "outputId": "e61d4eea-326b-4ae2-854e-b89758fb37a4"
   },
   "outputs": [
    {
     "data": {
      "text/plain": [
       "['perfect']"
      ]
     },
     "execution_count": 16,
     "metadata": {},
     "output_type": "execute_result"
    }
   ],
   "source": [
    "#Find words that end in t\n",
    "[j for j in x if j.endswith('t')]"
   ]
  },
  {
   "cell_type": "code",
   "execution_count": 17,
   "metadata": {
    "colab": {
     "base_uri": "https://localhost:8080/"
    },
    "executionInfo": {
     "elapsed": 666,
     "status": "ok",
     "timestamp": 1616867147266,
     "user": {
      "displayName": "Sanjiv Das",
      "photoUrl": "https://lh3.googleusercontent.com/a-/AOh14GhgUU3RgThSxLUq6NKSN2tDGDl8IQdtHMvdaZPE=s64",
      "userId": "06377870171053566924"
     },
     "user_tz": 420
    },
    "id": "nESGB1hWGxvr",
    "outputId": "cfbf73b1-f5f8-4a68-9d37-278904a7a95c"
   },
   "outputs": [
    {
     "data": {
      "text/plain": [
       "['States',\n",
       " 'a',\n",
       " 'establish',\n",
       " 'Tranquility',\n",
       " 'general',\n",
       " 'Welfare',\n",
       " 'and',\n",
       " 'and',\n",
       " 'ordain',\n",
       " 'and',\n",
       " 'establish',\n",
       " 'States',\n",
       " 'America']"
      ]
     },
     "execution_count": 17,
     "metadata": {},
     "output_type": "execute_result"
    }
   ],
   "source": [
    "#Find words that contain a\n",
    "[j for j in x if \"a\" in set(j.lower())]"
   ]
  },
  {
   "cell_type": "markdown",
   "metadata": {
    "id": "PbT-1HC363DZ"
   },
   "source": [
    "## Other Simple Text Functions"
   ]
  },
  {
   "cell_type": "code",
   "execution_count": 18,
   "metadata": {
    "colab": {
     "base_uri": "https://localhost:8080/"
    },
    "executionInfo": {
     "elapsed": 709,
     "status": "ok",
     "timestamp": 1616867153312,
     "user": {
      "displayName": "Sanjiv Das",
      "photoUrl": "https://lh3.googleusercontent.com/a-/AOh14GhgUU3RgThSxLUq6NKSN2tDGDl8IQdtHMvdaZPE=s64",
      "userId": "06377870171053566924"
     },
     "user_tz": 420
    },
    "id": "c8hB6dGOGxvz",
    "outputId": "48f4984e-f181-4436-829c-5fe13ddb3bd1"
   },
   "outputs": [
    {
     "name": "stdout",
     "output_type": "stream",
     "text": [
      "['We', 'the', 'People', 'of', 'the', 'United', 'States', 'in', 'Order', 'to', 'form', 'a', 'more', 'perfect', 'Union', 'establish', 'Justice', 'insure', 'domestic', 'Tranquility', 'provide', 'for', 'the', 'common', 'defence', 'promote', 'the', 'general', 'Welfare', 'and', 'secure', 'the', 'Blessings', 'of', 'Liberty', 'to', 'ourselves', 'and', 'our', 'Posterity', 'do', 'ordain', 'and', 'establish', 'this', 'Constitution', 'for', 'the', 'United', 'States', 'of', 'America']\n"
     ]
    },
    {
     "data": {
      "text/plain": [
       "['the',\n",
       " 'of',\n",
       " 'the',\n",
       " 'in',\n",
       " 'to',\n",
       " 'form',\n",
       " 'a',\n",
       " 'more',\n",
       " 'perfect',\n",
       " 'establish',\n",
       " 'insure',\n",
       " 'domestic',\n",
       " 'provide',\n",
       " 'for',\n",
       " 'the',\n",
       " 'common',\n",
       " 'defence',\n",
       " 'promote',\n",
       " 'the',\n",
       " 'general',\n",
       " 'and',\n",
       " 'secure',\n",
       " 'the',\n",
       " 'of',\n",
       " 'to',\n",
       " 'ourselves',\n",
       " 'and',\n",
       " 'our',\n",
       " 'do',\n",
       " 'ordain',\n",
       " 'and',\n",
       " 'establish',\n",
       " 'this',\n",
       " 'for',\n",
       " 'the',\n",
       " 'of']"
      ]
     },
     "execution_count": 18,
     "metadata": {},
     "output_type": "execute_result"
    }
   ],
   "source": [
    "#Test type of tokens\n",
    "print(x)\n",
    "[j for j in x if j.islower()]"
   ]
  },
  {
   "cell_type": "code",
   "execution_count": 19,
   "metadata": {
    "colab": {
     "base_uri": "https://localhost:8080/"
    },
    "executionInfo": {
     "elapsed": 576,
     "status": "ok",
     "timestamp": 1616867162248,
     "user": {
      "displayName": "Sanjiv Das",
      "photoUrl": "https://lh3.googleusercontent.com/a-/AOh14GhgUU3RgThSxLUq6NKSN2tDGDl8IQdtHMvdaZPE=s64",
      "userId": "06377870171053566924"
     },
     "user_tz": 420
    },
    "id": "cNgdwhW4Gxv2",
    "outputId": "cfbff54b-8fda-46e2-fd8b-d2884af88675"
   },
   "outputs": [
    {
     "name": "stdout",
     "output_type": "stream",
     "text": [
      "['We', 'the', 'People', 'of', 'the', 'United', 'States', 'in', 'Order', 'to', 'form', 'a', 'more', 'perfect', 'Union', 'establish', 'Justice', 'insure', 'domestic', 'Tranquility', 'provide', 'for', 'the', 'common', 'defence', 'promote', 'the', 'general', 'Welfare', 'and', 'secure', 'the', 'Blessings', 'of', 'Liberty', 'to', 'ourselves', 'and', 'our', 'Posterity', 'do', 'ordain', 'and', 'establish', 'this', 'Constitution', 'for', 'the', 'United', 'States', 'of', 'America']\n"
     ]
    },
    {
     "data": {
      "text/plain": [
       "[]"
      ]
     },
     "execution_count": 19,
     "metadata": {},
     "output_type": "execute_result"
    }
   ],
   "source": [
    "print(x)\n",
    "[j for j in x if j.isdigit()]"
   ]
  },
  {
   "cell_type": "code",
   "execution_count": 20,
   "metadata": {
    "colab": {
     "base_uri": "https://localhost:8080/"
    },
    "executionInfo": {
     "elapsed": 817,
     "status": "ok",
     "timestamp": 1616867174705,
     "user": {
      "displayName": "Sanjiv Das",
      "photoUrl": "https://lh3.googleusercontent.com/a-/AOh14GhgUU3RgThSxLUq6NKSN2tDGDl8IQdtHMvdaZPE=s64",
      "userId": "06377870171053566924"
     },
     "user_tz": 420
    },
    "id": "8oh81ExWGxv5",
    "outputId": "d0d067d7-3275-4edd-df90-1f11003c4ca2"
   },
   "outputs": [
    {
     "data": {
      "text/plain": [
       "['We',\n",
       " 'the',\n",
       " 'People',\n",
       " 'of',\n",
       " 'the',\n",
       " 'United',\n",
       " 'States',\n",
       " 'in',\n",
       " 'Order',\n",
       " 'to',\n",
       " 'form',\n",
       " 'a',\n",
       " 'more',\n",
       " 'perfect',\n",
       " 'Union',\n",
       " 'establish',\n",
       " 'Justice',\n",
       " 'insure',\n",
       " 'domestic',\n",
       " 'Tranquility',\n",
       " 'provide',\n",
       " 'for',\n",
       " 'the',\n",
       " 'common',\n",
       " 'defence',\n",
       " 'promote',\n",
       " 'the',\n",
       " 'general',\n",
       " 'Welfare',\n",
       " 'and',\n",
       " 'secure',\n",
       " 'the',\n",
       " 'Blessings',\n",
       " 'of',\n",
       " 'Liberty',\n",
       " 'to',\n",
       " 'ourselves',\n",
       " 'and',\n",
       " 'our',\n",
       " 'Posterity',\n",
       " 'do',\n",
       " 'ordain',\n",
       " 'and',\n",
       " 'establish',\n",
       " 'this',\n",
       " 'Constitution',\n",
       " 'for',\n",
       " 'the',\n",
       " 'United',\n",
       " 'States',\n",
       " 'of',\n",
       " 'America']"
      ]
     },
     "execution_count": 20,
     "metadata": {},
     "output_type": "execute_result"
    }
   ],
   "source": [
    "[j for j in x if j.isalnum()]"
   ]
  },
  {
   "cell_type": "markdown",
   "metadata": {
    "id": "DNMEHvBzGxv8"
   },
   "source": [
    "## String operations"
   ]
  },
  {
   "cell_type": "code",
   "execution_count": 21,
   "metadata": {
    "colab": {
     "base_uri": "https://localhost:8080/"
    },
    "executionInfo": {
     "elapsed": 657,
     "status": "ok",
     "timestamp": 1616867179366,
     "user": {
      "displayName": "Sanjiv Das",
      "photoUrl": "https://lh3.googleusercontent.com/a-/AOh14GhgUU3RgThSxLUq6NKSN2tDGDl8IQdtHMvdaZPE=s64",
      "userId": "06377870171053566924"
     },
     "user_tz": 420
    },
    "id": "hEDoyKeAGxv9",
    "outputId": "53b6caa2-417f-46ce-c336-ba6c1203c236"
   },
   "outputs": [
    {
     "name": "stdout",
     "output_type": "stream",
     "text": [
      "To be or not to be.\n",
      "  To be or not to be.\n",
      "To be or not to be.  \n",
      "  to be or not to be.  \n",
      "  TO BE OR NOT TO BE.  \n"
     ]
    }
   ],
   "source": [
    "y = '  To be or not to be.  '\n",
    "print(y.strip())\n",
    "print(y.rstrip())\n",
    "print(y.lstrip())\n",
    "print(y.lower())\n",
    "print(y.upper())"
   ]
  },
  {
   "cell_type": "code",
   "execution_count": 22,
   "metadata": {
    "colab": {
     "base_uri": "https://localhost:8080/"
    },
    "executionInfo": {
     "elapsed": 605,
     "status": "ok",
     "timestamp": 1616867183890,
     "user": {
      "displayName": "Sanjiv Das",
      "photoUrl": "https://lh3.googleusercontent.com/a-/AOh14GhgUU3RgThSxLUq6NKSN2tDGDl8IQdtHMvdaZPE=s64",
      "userId": "06377870171053566924"
     },
     "user_tz": 420
    },
    "id": "kObaf7C7GxwA",
    "outputId": "1a27c724-5789-4e4e-8926-d696f11618dc"
   },
   "outputs": [
    {
     "name": "stdout",
     "output_type": "stream",
     "text": [
      "5\n",
      "18\n"
     ]
    }
   ],
   "source": [
    "#Return the starting position of the string\n",
    "print(y.find('be'))\n",
    "print(y.rfind('be'))"
   ]
  },
  {
   "cell_type": "code",
   "execution_count": 23,
   "metadata": {
    "colab": {
     "base_uri": "https://localhost:8080/"
    },
    "executionInfo": {
     "elapsed": 596,
     "status": "ok",
     "timestamp": 1616867188918,
     "user": {
      "displayName": "Sanjiv Das",
      "photoUrl": "https://lh3.googleusercontent.com/a-/AOh14GhgUU3RgThSxLUq6NKSN2tDGDl8IQdtHMvdaZPE=s64",
      "userId": "06377870171053566924"
     },
     "user_tz": 420
    },
    "id": "U_RyhcgiGxwD",
    "outputId": "e8cd1e3e-5c01-49a4-adec-f6c0828f7f33"
   },
   "outputs": [
    {
     "name": "stdout",
     "output_type": "stream",
     "text": [
      "  To do or not to do.  \n"
     ]
    }
   ],
   "source": [
    "print(y.replace('be','do'))"
   ]
  },
  {
   "cell_type": "code",
   "execution_count": 24,
   "metadata": {
    "colab": {
     "base_uri": "https://localhost:8080/"
    },
    "executionInfo": {
     "elapsed": 609,
     "status": "ok",
     "timestamp": 1616867200110,
     "user": {
      "displayName": "Sanjiv Das",
      "photoUrl": "https://lh3.googleusercontent.com/a-/AOh14GhgUU3RgThSxLUq6NKSN2tDGDl8IQdtHMvdaZPE=s64",
      "userId": "06377870171053566924"
     },
     "user_tz": 420
    },
    "id": "wPVWHkM7GxwG",
    "outputId": "ae2d9de6-3963-4d46-9a81-45f34e6ae085"
   },
   "outputs": [
    {
     "name": "stdout",
     "output_type": "stream",
     "text": [
      "['Don', 'ud', 'mpfschifff', 'hrtselektrizit', 'tenh', 'uptbetriebswerkb', 'uunterbe', 'mtengesellsch', 'ft']\n"
     ]
    }
   ],
   "source": [
    "# At 80 letters, the longest word ever composed in German is \n",
    "# \"Donaudampfschifffahrtselektrizitätenhauptbetriebswerkbauunterbeamtengesellschaft,\" \n",
    "# meaning, the \"Association for Subordinate Officials of the Head Office Management of the \n",
    "# Danube Steamboat Electrical Services.\"\n",
    "y = 'Donaudampfschifffahrtselektrizitatenhauptbetriebswerkbauunterbeamtengesellschaft'\n",
    "ytok = y.split('a')\n",
    "print(ytok)"
   ]
  },
  {
   "cell_type": "code",
   "execution_count": 25,
   "metadata": {
    "colab": {
     "base_uri": "https://localhost:8080/"
    },
    "executionInfo": {
     "elapsed": 609,
     "status": "ok",
     "timestamp": 1616867205902,
     "user": {
      "displayName": "Sanjiv Das",
      "photoUrl": "https://lh3.googleusercontent.com/a-/AOh14GhgUU3RgThSxLUq6NKSN2tDGDl8IQdtHMvdaZPE=s64",
      "userId": "06377870171053566924"
     },
     "user_tz": 420
    },
    "id": "uZPIcvUzGxwI",
    "outputId": "e0aca872-e972-4875-e5e2-eabed5b3e6f2"
   },
   "outputs": [
    {
     "name": "stdout",
     "output_type": "stream",
     "text": [
      "Donaudampfschifffahrtselektrizitatenhauptbetriebswerkbauunterbeamtengesellschaft\n"
     ]
    }
   ],
   "source": [
    "print('a'.join(ytok))"
   ]
  },
  {
   "cell_type": "code",
   "execution_count": 26,
   "metadata": {
    "colab": {
     "base_uri": "https://localhost:8080/"
    },
    "executionInfo": {
     "elapsed": 618,
     "status": "ok",
     "timestamp": 1616867210324,
     "user": {
      "displayName": "Sanjiv Das",
      "photoUrl": "https://lh3.googleusercontent.com/a-/AOh14GhgUU3RgThSxLUq6NKSN2tDGDl8IQdtHMvdaZPE=s64",
      "userId": "06377870171053566924"
     },
     "user_tz": 420
    },
    "id": "Yn1a7_ap63Da",
    "outputId": "ae307714-5baa-4919-ec11-d3400d3bde78"
   },
   "outputs": [
    {
     "name": "stdout",
     "output_type": "stream",
     "text": [
      "['D', 'o', 'n', 'a', 'u', 'd', 'a', 'm', 'p', 'f', 's', 'c', 'h', 'i', 'f', 'f', 'f', 'a', 'h', 'r', 't', 's', 'e', 'l', 'e', 'k', 't', 'r', 'i', 'z', 'i', 't', 'a', 't', 'e', 'n', 'h', 'a', 'u', 'p', 't', 'b', 'e', 't', 'r', 'i', 'e', 'b', 's', 'w', 'e', 'r', 'k', 'b', 'a', 'u', 'u', 'n', 't', 'e', 'r', 'b', 'e', 'a', 'm', 't', 'e', 'n', 'g', 'e', 's', 'e', 'l', 'l', 's', 'c', 'h', 'a', 'f', 't']\n"
     ]
    }
   ],
   "source": [
    "print(list(y))"
   ]
  },
  {
   "cell_type": "markdown",
   "metadata": {
    "id": "72DkTONvGxvv"
   },
   "source": [
    "## Regex\n",
    "\n",
    "Use regular expressions to help us with more complex parsing. \n",
    "\n",
    "Read: https://automatetheboringstuff.com/2e/chapter7/\n",
    "\n",
    "For example `'@[A-Za-z0-9_]+'` will return all words that: \n",
    "* start with `'@'` and are followed by at least one: \n",
    "* capital letter (`'A-Z'`)\n",
    "* lowercase letter (`'a-z'`) \n",
    "* number (`'0-9'`)\n",
    "* or underscore (`'_'`)\n",
    "\n",
    "Cory Doctorow suggests that we teach regex even before we learn programming. "
   ]
  },
  {
   "cell_type": "markdown",
   "metadata": {
    "id": "cb4hCvpR63Db"
   },
   "source": [
    "## Character codes\n",
    "\n",
    "- \\d, digit 0-9\n",
    "- \\D, not \\d, not a numeric digit from 0-9\n",
    "- \\w, any letter, numeric, underscore\n",
    "- \\W, not \\w\n",
    "- \\s, space, tab, newline\n",
    "- \\S, not \\s"
   ]
  },
  {
   "cell_type": "code",
   "execution_count": 27,
   "metadata": {
    "colab": {
     "base_uri": "https://localhost:8080/"
    },
    "executionInfo": {
     "elapsed": 694,
     "status": "ok",
     "timestamp": 1616867374144,
     "user": {
      "displayName": "Sanjiv Das",
      "photoUrl": "https://lh3.googleusercontent.com/a-/AOh14GhgUU3RgThSxLUq6NKSN2tDGDl8IQdtHMvdaZPE=s64",
      "userId": "06377870171053566924"
     },
     "user_tz": 420
    },
    "id": "tRYRKTG7Gxvw",
    "outputId": "a03e8c64-a991-41f8-df9b-1bbc3d1037ac",
    "scrolled": true
   },
   "outputs": [
    {
     "data": {
      "text/plain": [
       "['States',\n",
       " 'a',\n",
       " 'establish',\n",
       " 'Tranquility',\n",
       " 'general',\n",
       " 'Welfare',\n",
       " 'and',\n",
       " 'and',\n",
       " 'ordain',\n",
       " 'and',\n",
       " 'establish',\n",
       " 'States',\n",
       " 'America']"
      ]
     },
     "execution_count": 27,
     "metadata": {},
     "output_type": "execute_result"
    }
   ],
   "source": [
    "#Find words that contain 'a' using RE\n",
    "# Remember x was the list of words from the first paragraph of the constitution\n",
    "import re\n",
    "[j for j in x if re.search('[Aa]',j)] "
   ]
  },
  {
   "cell_type": "code",
   "execution_count": 28,
   "metadata": {
    "colab": {
     "base_uri": "https://localhost:8080/"
    },
    "executionInfo": {
     "elapsed": 704,
     "status": "ok",
     "timestamp": 1616867461782,
     "user": {
      "displayName": "Sanjiv Das",
      "photoUrl": "https://lh3.googleusercontent.com/a-/AOh14GhgUU3RgThSxLUq6NKSN2tDGDl8IQdtHMvdaZPE=s64",
      "userId": "06377870171053566924"
     },
     "user_tz": 420
    },
    "id": "dzawt50PGxwL",
    "outputId": "8186261d-1cad-458f-f0ec-451e4be53fb7"
   },
   "outputs": [
    {
     "name": "stdout",
     "output_type": "stream",
     "text": [
      "<re.Match object; span=(11, 23), match='408-554-4000'>\n",
      "408-554-4000\n",
      "408-554-4000\n"
     ]
    }
   ],
   "source": [
    "# Checking for phone number patterns\n",
    "pattern = re.compile(r'\\d\\d\\d-\\d\\d\\d-\\d\\d\\d\\d')\n",
    "res = pattern.search('Call me at 408-554-4000 for SCU')\n",
    "print(res)\n",
    "print(res.group())\n",
    "print(res[0])"
   ]
  },
  {
   "cell_type": "code",
   "execution_count": 29,
   "metadata": {
    "colab": {
     "base_uri": "https://localhost:8080/",
     "height": 35
    },
    "executionInfo": {
     "elapsed": 603,
     "status": "ok",
     "timestamp": 1616867473944,
     "user": {
      "displayName": "Sanjiv Das",
      "photoUrl": "https://lh3.googleusercontent.com/a-/AOh14GhgUU3RgThSxLUq6NKSN2tDGDl8IQdtHMvdaZPE=s64",
      "userId": "06377870171053566924"
     },
     "user_tz": 420
    },
    "id": "qklRocEu63Dc",
    "outputId": "6d585062-1c84-4600-8341-43f8abeda87e"
   },
   "outputs": [
    {
     "data": {
      "text/plain": [
       "'408-554-4000'"
      ]
     },
     "execution_count": 29,
     "metadata": {},
     "output_type": "execute_result"
    }
   ],
   "source": [
    "# Use search(pattern, text) function structure\n",
    "re.search(r'\\d\\d\\d-\\d\\d\\d-\\d\\d\\d\\d', 'Call me at 408-554-4000 for SCU')[0]"
   ]
  },
  {
   "cell_type": "code",
   "execution_count": 30,
   "metadata": {
    "colab": {
     "base_uri": "https://localhost:8080/"
    },
    "executionInfo": {
     "elapsed": 818,
     "status": "ok",
     "timestamp": 1616867565311,
     "user": {
      "displayName": "Sanjiv Das",
      "photoUrl": "https://lh3.googleusercontent.com/a-/AOh14GhgUU3RgThSxLUq6NKSN2tDGDl8IQdtHMvdaZPE=s64",
      "userId": "06377870171053566924"
     },
     "user_tz": 420
    },
    "id": "nd7v-ciW63Dd",
    "outputId": "6e7a94e3-5cae-41ab-c588-9c01e8d0ef60"
   },
   "outputs": [
    {
     "name": "stdout",
     "output_type": "stream",
     "text": [
      "<re.Match object; span=(11, 23), match='408-554-4000'>\n",
      "408-554-4000\n",
      "408-554-4000\n"
     ]
    }
   ],
   "source": [
    "# Note that it finds the first match not all matches\n",
    "res = pattern.search('Call me at 408-554-4000 or 408-551-5700 for SCU')\n",
    "print(res)\n",
    "print(res.group())\n",
    "print(res[0])"
   ]
  },
  {
   "cell_type": "code",
   "execution_count": 31,
   "metadata": {
    "colab": {
     "base_uri": "https://localhost:8080/"
    },
    "executionInfo": {
     "elapsed": 620,
     "status": "ok",
     "timestamp": 1616867575427,
     "user": {
      "displayName": "Sanjiv Das",
      "photoUrl": "https://lh3.googleusercontent.com/a-/AOh14GhgUU3RgThSxLUq6NKSN2tDGDl8IQdtHMvdaZPE=s64",
      "userId": "06377870171053566924"
     },
     "user_tz": 420
    },
    "id": "h7Cuw38Z63Dd",
    "outputId": "2d01c46f-3f7e-4885-ef80-bb78cc5c1149"
   },
   "outputs": [
    {
     "name": "stdout",
     "output_type": "stream",
     "text": [
      "<re.Match object; span=(11, 23), match='408-554-4000'>\n",
      "['408-554-4000', '408', '554', '4000']\n",
      "408-554-4000\n",
      "408\n",
      "554\n",
      "4000\n"
     ]
    }
   ],
   "source": [
    "# Grouping components of the search object\n",
    "pattern = re.compile(r'(\\d\\d\\d)-(\\d\\d\\d)-(\\d\\d\\d\\d)')  # parenthesis: different groups\n",
    "res = pattern.search('Call me at 408-554-4000 for SCU')\n",
    "print(res)\n",
    "print([res.group(j) for j in range(4)])\n",
    "print(res[0])\n",
    "print(res[1])\n",
    "print(res[2])\n",
    "print(res[3])"
   ]
  },
  {
   "cell_type": "code",
   "execution_count": 32,
   "metadata": {
    "colab": {
     "base_uri": "https://localhost:8080/"
    },
    "executionInfo": {
     "elapsed": 829,
     "status": "ok",
     "timestamp": 1616867743264,
     "user": {
      "displayName": "Sanjiv Das",
      "photoUrl": "https://lh3.googleusercontent.com/a-/AOh14GhgUU3RgThSxLUq6NKSN2tDGDl8IQdtHMvdaZPE=s64",
      "userId": "06377870171053566924"
     },
     "user_tz": 420
    },
    "id": "LqwukU8y63Dd",
    "outputId": "64b68394-5cfd-45a5-883d-456cf577ad83"
   },
   "outputs": [
    {
     "name": "stdout",
     "output_type": "stream",
     "text": [
      "<re.Match object; span=(11, 25), match='(408) 554-4000'>\n",
      "['(408) 554-4000', '(408)', '554', '4000']\n",
      "(408) 554-4000\n",
      "(408)\n",
      "554\n",
      "4000\n"
     ]
    }
   ],
   "source": [
    "# Special characters need to be 'escaped' with backslashes\n",
    "pattern = re.compile(r'(\\(\\d\\d\\d\\)) (\\d\\d\\d)-(\\d\\d\\d\\d)')\n",
    "res = pattern.search('Call me at (408) 554-4000 for SCU')\n",
    "print(res)\n",
    "print([res.group(j) for j in range(4)])\n",
    "print(res[0])\n",
    "print(res[1])\n",
    "print(res[2])\n",
    "print(res[3])"
   ]
  },
  {
   "cell_type": "code",
   "execution_count": 33,
   "metadata": {
    "colab": {
     "base_uri": "https://localhost:8080/"
    },
    "executionInfo": {
     "elapsed": 642,
     "status": "ok",
     "timestamp": 1616867901355,
     "user": {
      "displayName": "Sanjiv Das",
      "photoUrl": "https://lh3.googleusercontent.com/a-/AOh14GhgUU3RgThSxLUq6NKSN2tDGDl8IQdtHMvdaZPE=s64",
      "userId": "06377870171053566924"
     },
     "user_tz": 420
    },
    "id": "mMVkBXbE63Dd",
    "outputId": "aad62dac-4e59-4d35-91c9-576bae1897e2"
   },
   "outputs": [
    {
     "name": "stdout",
     "output_type": "stream",
     "text": [
      "<re.Match object; span=(11, 25), match='(408) 554-4000'>\n",
      "['(408) 554-4000', '(408)', '554', '4000']\n",
      "(408) 554-4000\n",
      "(408)\n",
      "554\n",
      "4000\n"
     ]
    }
   ],
   "source": [
    "# Using Unix pipes\n",
    "# Special characters need to be 'escaped' with backslashes\n",
    "# Do not leave a gap between the pipe character and strings\n",
    "pattern = re.compile(r'(\\(\\d\\d\\d\\)) (\\d\\d\\d)-(\\d\\d\\d\\d)|(\\d\\d\\d)-(\\d\\d\\d)-(\\d\\d\\d\\d)')\n",
    "res = pattern.search('Call me at (408) 554-4000 or 408-551-5700 for SCU')  #search is the first one\n",
    "print(res)\n",
    "print([res.group(j) for j in range(4)])\n",
    "print(res[0])\n",
    "print(res[1])\n",
    "print(res[2])\n",
    "print(res[3])"
   ]
  },
  {
   "cell_type": "code",
   "execution_count": 34,
   "metadata": {
    "colab": {
     "base_uri": "https://localhost:8080/"
    },
    "executionInfo": {
     "elapsed": 633,
     "status": "ok",
     "timestamp": 1616867919261,
     "user": {
      "displayName": "Sanjiv Das",
      "photoUrl": "https://lh3.googleusercontent.com/a-/AOh14GhgUU3RgThSxLUq6NKSN2tDGDl8IQdtHMvdaZPE=s64",
      "userId": "06377870171053566924"
     },
     "user_tz": 420
    },
    "id": "fYtv4kvm63De",
    "outputId": "e8a6c9b6-1323-4b0b-8e25-288b1e54fce1"
   },
   "outputs": [
    {
     "name": "stdout",
     "output_type": "stream",
     "text": [
      "[('(408)', '554', '4000', '', '', ''), ('', '', '', '408', '551', '5700')]\n"
     ]
    }
   ],
   "source": [
    "# Find all matches\n",
    "# Shows all optional matches as blanks if the condition is met. \n",
    "# First matches at the broad group level\n",
    "pattern = re.compile(r'(\\(\\d\\d\\d\\)) (\\d\\d\\d)-(\\d\\d\\d\\d)|(\\d\\d\\d)-(\\d\\d\\d)-(\\d\\d\\d\\d)')\n",
    "res = pattern.findall('Call me at (408) 554-4000 or 408-551-5700 for SCU') #find all matches\n",
    "print(res)"
   ]
  },
  {
   "cell_type": "code",
   "execution_count": 35,
   "metadata": {
    "colab": {
     "base_uri": "https://localhost:8080/"
    },
    "executionInfo": {
     "elapsed": 1131,
     "status": "ok",
     "timestamp": 1616867943326,
     "user": {
      "displayName": "Sanjiv Das",
      "photoUrl": "https://lh3.googleusercontent.com/a-/AOh14GhgUU3RgThSxLUq6NKSN2tDGDl8IQdtHMvdaZPE=s64",
      "userId": "06377870171053566924"
     },
     "user_tz": 420
    },
    "id": "QY7qDZlr63De",
    "outputId": "b03f0b1a-7b65-44a0-920b-c4f64d16694d"
   },
   "outputs": [
    {
     "name": "stdout",
     "output_type": "stream",
     "text": [
      "['(408) 554-4000', '408-551-5700']\n"
     ]
    }
   ],
   "source": [
    "# Without groups\n",
    "pattern = re.compile(r'\\(\\d\\d\\d\\) \\d\\d\\d-\\d\\d\\d\\d|\\d\\d\\d-\\d\\d\\d-\\d\\d\\d\\d')\n",
    "res = pattern.findall('Call me at (408) 554-4000 or 408-551-5700 for SCU')\n",
    "print(res)"
   ]
  },
  {
   "cell_type": "code",
   "execution_count": 36,
   "metadata": {
    "colab": {
     "base_uri": "https://localhost:8080/"
    },
    "executionInfo": {
     "elapsed": 655,
     "status": "ok",
     "timestamp": 1616867963935,
     "user": {
      "displayName": "Sanjiv Das",
      "photoUrl": "https://lh3.googleusercontent.com/a-/AOh14GhgUU3RgThSxLUq6NKSN2tDGDl8IQdtHMvdaZPE=s64",
      "userId": "06377870171053566924"
     },
     "user_tz": 420
    },
    "id": "b9iJ9ocw63De",
    "outputId": "725e9a06-231c-4c8c-9baf-ac4fa7a84632"
   },
   "outputs": [
    {
     "name": "stdout",
     "output_type": "stream",
     "text": [
      "<re.Match object; span=(11, 21), match='Sanjiv Das'>\n",
      "<re.Match object; span=(11, 28), match='Sanjiv Ranjan Das'>\n"
     ]
    }
   ],
   "source": [
    "# Varying the match with optional strings\n",
    "pattern = re.compile(r'Sanjiv (Ranjan )?Das') # including or not '( )' component\n",
    "res = pattern.search(\"My name is Sanjiv Das\")\n",
    "print(res)\n",
    "res = pattern.search(\"My name is Sanjiv Ranjan Das\")\n",
    "print(res)"
   ]
  },
  {
   "cell_type": "code",
   "execution_count": 38,
   "metadata": {
    "colab": {
     "base_uri": "https://localhost:8080/"
    },
    "executionInfo": {
     "elapsed": 569,
     "status": "ok",
     "timestamp": 1616868156572,
     "user": {
      "displayName": "Sanjiv Das",
      "photoUrl": "https://lh3.googleusercontent.com/a-/AOh14GhgUU3RgThSxLUq6NKSN2tDGDl8IQdtHMvdaZPE=s64",
      "userId": "06377870171053566924"
     },
     "user_tz": 420
    },
    "id": "mCKFJLUx63Df",
    "outputId": "a997f523-143b-4546-bdb4-add5869dd982"
   },
   "outputs": [
    {
     "name": "stdout",
     "output_type": "stream",
     "text": [
      "<re.Match object; span=(0, 3), match='012'>\n",
      "<re.Match object; span=(0, 0), match=''>\n",
      "['', '012', '', '', '', '0', '']\n",
      "['', '', '012', '', '', '', '0', '']\n",
      "<re.Match object; span=(0, 3), match='112'>\n",
      "['112', '', '', '0', '']\n"
     ]
    }
   ],
   "source": [
    "# Matching multiple occurrences, including absences (*)\n",
    "pattern = re.compile(r'0*1*2*')  # includes blanks spaces -> 0, 1, 2 sequences\n",
    "res = pattern.search('012890')\n",
    "print(res)\n",
    "res = pattern.search('30128 90') # search is for the first one -> return nothing\n",
    "print(res)\n",
    "res = pattern.findall('30128 90')\n",
    "print(res)\n",
    "res = pattern.findall('3 0128 90')\n",
    "print(res)\n",
    "res = pattern.search('112890')\n",
    "print(res)\n",
    "res = pattern.findall('112890')\n",
    "print(res)"
   ]
  },
  {
   "cell_type": "code",
   "execution_count": 39,
   "metadata": {
    "colab": {
     "base_uri": "https://localhost:8080/"
    },
    "executionInfo": {
     "elapsed": 733,
     "status": "ok",
     "timestamp": 1616868349180,
     "user": {
      "displayName": "Sanjiv Das",
      "photoUrl": "https://lh3.googleusercontent.com/a-/AOh14GhgUU3RgThSxLUq6NKSN2tDGDl8IQdtHMvdaZPE=s64",
      "userId": "06377870171053566924"
     },
     "user_tz": 420
    },
    "id": "gnJNjGb463Df",
    "outputId": "0e335b64-25d1-4c84-b29a-a259edb81362"
   },
   "outputs": [
    {
     "name": "stdout",
     "output_type": "stream",
     "text": [
      "<re.Match object; span=(1, 2), match='1'>\n",
      "<re.Match object; span=(1, 2), match='2'>\n",
      "['0', '1', '2', '0']\n",
      "<re.Match object; span=(0, 1), match='1'>\n"
     ]
    }
   ],
   "source": [
    "# What if you use brackets?\n",
    "pattern = re.compile(r'[0*1*2*]') # looking for anything of the object\n",
    "res = pattern.search('312890')\n",
    "print(res)\n",
    "res = pattern.search('321890')\n",
    "print(res)\n",
    "res = pattern.findall('3 0128 90')\n",
    "print(res)\n",
    "res = pattern.search('112890')\n",
    "print(res)"
   ]
  },
  {
   "cell_type": "code",
   "execution_count": 42,
   "metadata": {
    "colab": {
     "base_uri": "https://localhost:8080/"
    },
    "executionInfo": {
     "elapsed": 685,
     "status": "ok",
     "timestamp": 1616868420842,
     "user": {
      "displayName": "Sanjiv Das",
      "photoUrl": "https://lh3.googleusercontent.com/a-/AOh14GhgUU3RgThSxLUq6NKSN2tDGDl8IQdtHMvdaZPE=s64",
      "userId": "06377870171053566924"
     },
     "user_tz": 420
    },
    "id": "CuwCvCOt63Df",
    "outputId": "94f492f1-85e2-424d-ed5a-62365d8b1022"
   },
   "outputs": [
    {
     "name": "stdout",
     "output_type": "stream",
     "text": [
      "None\n",
      "['012']\n",
      "['00122']\n",
      "None\n",
      "['012']\n"
     ]
    }
   ],
   "source": [
    "# Matching at least one or more occurrences (+)\n",
    "pattern = re.compile(r'0+1+2+')  # at least 0, 1, 2\n",
    "res = pattern.search('312890')\n",
    "print(res)\n",
    "res = pattern.findall('3 01218 90')\n",
    "print(res)\n",
    "res = pattern.findall('3 0012218 90')\n",
    "print(res)\n",
    "res = pattern.search('112890')\n",
    "print(res)\n",
    "res = pattern.findall('1012890')\n",
    "print(res)"
   ]
  },
  {
   "cell_type": "code",
   "execution_count": 43,
   "metadata": {
    "colab": {
     "base_uri": "https://localhost:8080/"
    },
    "executionInfo": {
     "elapsed": 616,
     "status": "ok",
     "timestamp": 1616868436688,
     "user": {
      "displayName": "Sanjiv Das",
      "photoUrl": "https://lh3.googleusercontent.com/a-/AOh14GhgUU3RgThSxLUq6NKSN2tDGDl8IQdtHMvdaZPE=s64",
      "userId": "06377870171053566924"
     },
     "user_tz": 420
    },
    "id": "kAFgrPwq63Df",
    "outputId": "21e13823-511f-456e-9f90-aa95380beae9"
   },
   "outputs": [
    {
     "name": "stdout",
     "output_type": "stream",
     "text": [
      "<re.Match object; span=(12, 18), match='xoxoxo'>\n",
      "None\n",
      "<re.Match object; span=(12, 15), match='xox'>\n",
      "['xoo', 'xxx', 'xox']\n"
     ]
    }
   ],
   "source": [
    "# Repeat patterns with braces\n",
    "pattern = re.compile(r'(xo){3}')  # specific repeat pattern of size 3\n",
    "res = pattern.search('Bye for now xoxoxo - see you later')\n",
    "print(res)\n",
    "\n",
    "res = pattern.search('Bye for now xoxoox - see you later')\n",
    "print(res)\n",
    "\n",
    "pattern = re.compile(r'[xo]{3}') # length of pattern to include any of the characters\n",
    "res = pattern.search('Bye for now xoxoxoox - see you later')\n",
    "print(res)\n",
    "\n",
    "pattern = re.compile(r'[ox]{3}') # reversing the order makes no difference\n",
    "res = pattern.findall('Bye for now xooxxxxoxo - see you later')\n",
    "print(res)"
   ]
  },
  {
   "cell_type": "code",
   "execution_count": 44,
   "metadata": {
    "colab": {
     "base_uri": "https://localhost:8080/"
    },
    "executionInfo": {
     "elapsed": 202,
     "status": "ok",
     "timestamp": 1616500473104,
     "user": {
      "displayName": "Sanjiv Das",
      "photoUrl": "https://lh3.googleusercontent.com/a-/AOh14GhgUU3RgThSxLUq6NKSN2tDGDl8IQdtHMvdaZPE=s64",
      "userId": "06377870171053566924"
     },
     "user_tz": 420
    },
    "id": "eC-p8_UT63Df",
    "outputId": "23b6e5a7-6d45-4279-84d9-73f2c966939d"
   },
   "outputs": [
    {
     "name": "stdout",
     "output_type": "stream",
     "text": [
      "<re.Match object; span=(12, 18), match='xoxxoo'>\n",
      "['xoxoxo', 'ooxxxx', 'oooxxo', 'xoxo']\n"
     ]
    }
   ],
   "source": [
    "# Matches of variable size\n",
    "pattern = re.compile(r'[xo]{2,6}') # length of pattern to include any of the characters\n",
    "res = pattern.search('Bye for now xoxxooooxxxxoooxxoxoxo - see you later')\n",
    "print(res)\n",
    "res = pattern.findall('Bye for now xoxoxoooxxxxoooxxoxoxo - see you later')\n",
    "print(res)"
   ]
  },
  {
   "cell_type": "code",
   "execution_count": 45,
   "metadata": {
    "colab": {
     "base_uri": "https://localhost:8080/"
    },
    "executionInfo": {
     "elapsed": 818,
     "status": "ok",
     "timestamp": 1616868955382,
     "user": {
      "displayName": "Sanjiv Das",
      "photoUrl": "https://lh3.googleusercontent.com/a-/AOh14GhgUU3RgThSxLUq6NKSN2tDGDl8IQdtHMvdaZPE=s64",
      "userId": "06377870171053566924"
     },
     "user_tz": 420
    },
    "id": "U44_txnV63Dg",
    "outputId": "fdfbd0d3-70d7-43ef-c737-ec7186a87308"
   },
   "outputs": [
    {
     "name": "stdout",
     "output_type": "stream",
     "text": [
      "['4 a', '20 b', '3 p']\n",
      "['4 and', '20 blackbirds', '3 pies']\n",
      "['4 and', '3 pies']\n",
      "['4 and', '20   blackbirds', '3 pies']\n"
     ]
    }
   ],
   "source": [
    "# Pulling it all together, using character codes\n",
    "pattern = re.compile(r'\\d+\\s\\w')\n",
    "res = pattern.findall('Pigeons and 4 and 20 blackbirds baked in 3 pies')\n",
    "print(res)\n",
    "\n",
    "pattern = re.compile(r'\\d+\\s\\w+')\n",
    "res = pattern.findall('Pigeons and 4 and 20 blackbirds baked in 3 pies')\n",
    "print(res)\n",
    "\n",
    "pattern = re.compile(r'\\d+\\s\\w+')\n",
    "res = pattern.findall('Pigeons and 4 and 20   blackbirds baked in 3 pies')\n",
    "print(res)\n",
    "\n",
    "pattern = re.compile(r'\\d+\\s+\\w+')\n",
    "res = pattern.findall('Pigeons and 4 and 20   blackbirds baked in 3 pies')\n",
    "print(res)"
   ]
  },
  {
   "cell_type": "code",
   "execution_count": 46,
   "metadata": {
    "colab": {
     "base_uri": "https://localhost:8080/"
    },
    "executionInfo": {
     "elapsed": 631,
     "status": "ok",
     "timestamp": 1616868959527,
     "user": {
      "displayName": "Sanjiv Das",
      "photoUrl": "https://lh3.googleusercontent.com/a-/AOh14GhgUU3RgThSxLUq6NKSN2tDGDl8IQdtHMvdaZPE=s64",
      "userId": "06377870171053566924"
     },
     "user_tz": 420
    },
    "id": "a40bftMg63Dg",
    "outputId": "3764fd9f-fc98-4456-b7a6-665b62ae1531"
   },
   "outputs": [
    {
     "name": "stdout",
     "output_type": "stream",
     "text": [
      "['Pigeons', ' and', ' 4', ' and', ' 20', ' blackbirds', ' baked', ' in', ' 3', ' pies']\n",
      "['Pigeons and ', ' and ', ' blackbirds baked in ', ' pies']\n",
      "Pigeons and  and  blackbirds baked in  pies\n",
      "['Pigeons', 'and', 'and', 'blackbirds', 'baked', 'in', 'pies']\n",
      "Pigeons and and blackbirds baked in pies\n"
     ]
    }
   ],
   "source": [
    "pattern = re.compile(r'\\s*\\w+')  # * is zero or more appearances of space or tab\n",
    "res = pattern.findall('Pigeons and 4 and 20 blackbirds baked in 3 pies')\n",
    "print(res)\n",
    "\n",
    "pattern = re.compile(r'[A-Za-z ]+') # Note the space is included -> return everything without numbers\n",
    "res = pattern.findall('Pigeons and 4 and 20 blackbirds baked in 3 pies')\n",
    "print(res)\n",
    "print(\"\".join(res))\n",
    "\n",
    "pattern = re.compile(r'[A-Za-z]+') # Note the space is not included -> return everything without numbers and spaces\n",
    "res = pattern.findall('Pigeons and 4 and 20 blackbirds baked in 3 pies')\n",
    "print(res)\n",
    "print(\" \".join(res)) # space added here"
   ]
  },
  {
   "cell_type": "code",
   "execution_count": 47,
   "metadata": {
    "colab": {
     "base_uri": "https://localhost:8080/"
    },
    "executionInfo": {
     "elapsed": 594,
     "status": "ok",
     "timestamp": 1616869118208,
     "user": {
      "displayName": "Sanjiv Das",
      "photoUrl": "https://lh3.googleusercontent.com/a-/AOh14GhgUU3RgThSxLUq6NKSN2tDGDl8IQdtHMvdaZPE=s64",
      "userId": "06377870171053566924"
     },
     "user_tz": 420
    },
    "id": "NAoGw8Hl63Dg",
    "outputId": "b4bd79c6-0751-4fff-c29d-57afeb6a4343"
   },
   "outputs": [
    {
     "name": "stdout",
     "output_type": "stream",
     "text": [
      "['pigeons and ']\n",
      "[]\n"
     ]
    }
   ],
   "source": [
    "# Begins with using caret (^)\n",
    "pattern = re.compile(r'^[A-Za-z ]+') # Note the space is included\n",
    "res = pattern.findall('pigeons and 4 and 20 blackbirds baked in 3 pies')\n",
    "print(res)\n",
    "\n",
    "res = pattern.findall('3 pigeons and 4 and 20 blackbirds baked in 3 pies')\n",
    "print(res)"
   ]
  },
  {
   "cell_type": "code",
   "execution_count": 48,
   "metadata": {
    "colab": {
     "base_uri": "https://localhost:8080/"
    },
    "executionInfo": {
     "elapsed": 648,
     "status": "ok",
     "timestamp": 1616869156485,
     "user": {
      "displayName": "Sanjiv Das",
      "photoUrl": "https://lh3.googleusercontent.com/a-/AOh14GhgUU3RgThSxLUq6NKSN2tDGDl8IQdtHMvdaZPE=s64",
      "userId": "06377870171053566924"
     },
     "user_tz": 420
    },
    "id": "5zaB64OQ63Dh",
    "outputId": "088c42ab-9f99-4805-89f5-2cd205167c66"
   },
   "outputs": [
    {
     "name": "stdout",
     "output_type": "stream",
     "text": [
      "[' pies']\n",
      "[' pies ']\n",
      "[]\n"
     ]
    }
   ],
   "source": [
    "# Ends with using dollar sign ($)\n",
    "pattern = re.compile(r'[A-Za-z ]+$') # Note the space is included, //'$': has to end \n",
    "res = pattern.findall('pigeons and 4 and 20 blackbirds baked in 3 pies')\n",
    "print(res)\n",
    "\n",
    "res = pattern.findall('Pigeons and 4 and 20 blackbirds baked in 3 pies ')\n",
    "print(res)\n",
    "\n",
    "res = pattern.findall('Pigeons and 4 and 20 blackbirds baked in 3 pies 4')\n",
    "print(res)"
   ]
  },
  {
   "cell_type": "code",
   "execution_count": 49,
   "metadata": {
    "colab": {
     "base_uri": "https://localhost:8080/"
    },
    "executionInfo": {
     "elapsed": 645,
     "status": "ok",
     "timestamp": 1616869181774,
     "user": {
      "displayName": "Sanjiv Das",
      "photoUrl": "https://lh3.googleusercontent.com/a-/AOh14GhgUU3RgThSxLUq6NKSN2tDGDl8IQdtHMvdaZPE=s64",
      "userId": "06377870171053566924"
     },
     "user_tz": 420
    },
    "id": "7jLwt8u_63Dh",
    "outputId": "321e51ed-734c-4ef0-c455-776250bce5f6"
   },
   "outputs": [
    {
     "name": "stdout",
     "output_type": "stream",
     "text": [
      "['ns', 'ds', 'es']\n",
      "['ons', 'rds', 'ies']\n",
      "['Pigeon', ' and 4 and 20 blackbird', ' baked in 3 pie']\n"
     ]
    }
   ],
   "source": [
    "# Wildcard using (.)\n",
    "pattern = re.compile(r'.s') # return anything including s\n",
    "res = pattern.findall('Pigeons and 4 and 20 blackbirds baked in 3 pies 4')\n",
    "print(res)\n",
    "\n",
    "pattern = re.compile(r'..s') \n",
    "res = pattern.findall('Pigeons and 4 and 20 blackbirds baked in 3 pies 4')\n",
    "print(res)\n",
    "\n",
    "pattern = re.compile(r'(.*?)s') # return everything ends with s\n",
    "res = pattern.findall('Pigeons and 4 and 20 blackbirds baked in 3 pies 4')\n",
    "print(res)"
   ]
  },
  {
   "cell_type": "code",
   "execution_count": 50,
   "metadata": {
    "colab": {
     "base_uri": "https://localhost:8080/"
    },
    "executionInfo": {
     "elapsed": 599,
     "status": "ok",
     "timestamp": 1616869380796,
     "user": {
      "displayName": "Sanjiv Das",
      "photoUrl": "https://lh3.googleusercontent.com/a-/AOh14GhgUU3RgThSxLUq6NKSN2tDGDl8IQdtHMvdaZPE=s64",
      "userId": "06377870171053566924"
     },
     "user_tz": 420
    },
    "id": "c5quQLIY63Dh",
    "outputId": "410186ce-8e36-44e6-f4f7-ae6a42fac0ab"
   },
   "outputs": [
    {
     "name": "stdout",
     "output_type": "stream",
     "text": [
      "Pigeons and NUMBER and NUMBER blackbirds baked in NUMBER pies NUMBER\n"
     ]
    }
   ],
   "source": [
    "# Substitute strings\n",
    "# re.sub('replacement','string containing pattern')\n",
    "pattern = re.compile(r'\\d+') \n",
    "res = pattern.sub('NUMBER','Pigeons and 4 and 20 blackbirds baked in 3 pies 4')\n",
    "print(res)"
   ]
  },
  {
   "cell_type": "code",
   "execution_count": 51,
   "metadata": {
    "colab": {
     "base_uri": "https://localhost:8080/"
    },
    "executionInfo": {
     "elapsed": 640,
     "status": "ok",
     "timestamp": 1616869383201,
     "user": {
      "displayName": "Sanjiv Das",
      "photoUrl": "https://lh3.googleusercontent.com/a-/AOh14GhgUU3RgThSxLUq6NKSN2tDGDl8IQdtHMvdaZPE=s64",
      "userId": "06377870171053566924"
     },
     "user_tz": 420
    },
    "id": "1vSHRE9V63Dh",
    "outputId": "a0204318-ee9d-46da-8b1a-6ef0fc18917e"
   },
   "outputs": [
    {
     "name": "stdout",
     "output_type": "stream",
     "text": [
      "<re.Match object; span=(12, 31), match='srdas_3.142@scu.edu'>\n",
      "<re.Match object; span=(19, 33), match='(408) 554-2776'>\n",
      "<re.Match object; span=(17, 36), match='srdas_3.142@scu.edu'>\n"
     ]
    }
   ],
   "source": [
    "# Common case: emails and phone numbers\n",
    "pattern = re.compile(r'[a-zA-Z0-9._%+-]+@[a-zA-Z0-9.-]+(\\.[a-zA-Z]{2,4})|(\\d{3}|\\(\\d{3}\\))?(\\s|-|\\.)?(\\d{3})(\\s|-|\\.)(\\d{4})(\\s*(ext|x|ext.)\\s*(\\d{2,5}))?')\n",
    "\n",
    "res = pattern.search('My email is srdas_3.142@scu.edu')\n",
    "print(res)\n",
    "\n",
    "txt = 'My phone number is (408) 554-2776 and my email is srdas_3.142@scu.edu'\n",
    "res = pattern.search(txt)\n",
    "print(res)\n",
    "\n",
    "res2 = pattern.search(txt[res.span()[1]:])\n",
    "print(res2)"
   ]
  },
  {
   "cell_type": "markdown",
   "metadata": {
    "id": "_Z1vcTJt63Dh"
   },
   "source": [
    "## Password Example\n",
    "\n",
    "Strong Password Detection\n",
    "\n",
    "Write a function that uses regular expressions to make sure the password string it is passed is strong. A strong password is defined as one that is at least eight characters long, contains both uppercase and lowercase characters, and has at least one digit. You may need to test the string against multiple regex patterns to validate its strength."
   ]
  },
  {
   "cell_type": "code",
   "execution_count": 52,
   "metadata": {
    "colab": {
     "base_uri": "https://localhost:8080/"
    },
    "executionInfo": {
     "elapsed": 316,
     "status": "ok",
     "timestamp": 1616500479182,
     "user": {
      "displayName": "Sanjiv Das",
      "photoUrl": "https://lh3.googleusercontent.com/a-/AOh14GhgUU3RgThSxLUq6NKSN2tDGDl8IQdtHMvdaZPE=s64",
      "userId": "06377870171053566924"
     },
     "user_tz": 420
    },
    "id": "UgNiOJeM63Di",
    "outputId": "8defa0bb-6df9-430e-8a58-b1e90d277538"
   },
   "outputs": [
    {
     "name": "stdout",
     "output_type": "stream",
     "text": [
      "<re.Match object; span=(0, 10), match='Ae4cvf7890'>\n",
      "<re.Match object; span=(0, 10), match='7890Ae4cvf'>\n",
      "<re.Match object; span=(0, 13), match='abc7890Ae4cvf'>\n",
      "<re.Match object; span=(0, 15), match='abc7890Ae4cvf35'>\n",
      "None\n",
      "None\n",
      "None\n",
      "<re.Match object; span=(0, 8), match='ab7A5xyZ'>\n",
      "<re.Match object; span=(0, 9), match='ab7A5xyZb'>\n",
      "None\n"
     ]
    }
   ],
   "source": [
    "import re\n",
    "pattern = re.compile(r'(?=^.{8,}$)(?=.*\\d)(?=.*[A-Z])(?=.*[a-z]).*$')\n",
    "print(pattern.search('Ae4cvf7890'))\n",
    "print(pattern.search('7890Ae4cvf'))\n",
    "print(pattern.search('abc7890Ae4cvf'))\n",
    "print(pattern.search('abc7890Ae4cvf35'))\n",
    "print(pattern.search('ABC7890A4CVF'))\n",
    "print(pattern.search('ab7A5'))\n",
    "print(pattern.search('ab7A5xy'))\n",
    "print(pattern.search('ab7A5xyZ'))\n",
    "print(pattern.search('ab7A5xyZb'))\n",
    "print(pattern.search('abAxyZbXyW'))"
   ]
  },
  {
   "cell_type": "code",
   "execution_count": null,
   "metadata": {
    "id": "ueTvn26P63Di"
   },
   "outputs": [],
   "source": []
  }
 ],
 "metadata": {
  "celltoolbar": "Slideshow",
  "colab": {
   "collapsed_sections": [],
   "name": "01-IntroTextAnalytics.ipynb",
   "provenance": []
  },
  "kernelspec": {
   "display_name": "Python 3",
   "language": "python",
   "name": "python3"
  },
  "language_info": {
   "codemirror_mode": {
    "name": "ipython",
    "version": 3
   },
   "file_extension": ".py",
   "mimetype": "text/x-python",
   "name": "python",
   "nbconvert_exporter": "python",
   "pygments_lexer": "ipython3",
   "version": "3.8.3"
  }
 },
 "nbformat": 4,
 "nbformat_minor": 1
}
