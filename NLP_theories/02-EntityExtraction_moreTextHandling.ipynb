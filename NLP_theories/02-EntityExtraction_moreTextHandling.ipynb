{
 "cells": [
  {
   "cell_type": "markdown",
   "metadata": {
    "id": "geUru68DHoQ8"
   },
   "source": [
    "# Entity Extraction and more Text Handling\n",
    "\n",
    "(Using NLTK and other tools)"
   ]
  },
  {
   "cell_type": "code",
   "execution_count": 2,
   "metadata": {
    "executionInfo": {
     "elapsed": 3244,
     "status": "ok",
     "timestamp": 1617463693838,
     "user": {
      "displayName": "Sanjiv Das",
      "photoUrl": "https://lh3.googleusercontent.com/a-/AOh14GhgUU3RgThSxLUq6NKSN2tDGDl8IQdtHMvdaZPE=s64",
      "userId": "06377870171053566924"
     },
     "user_tz": 420
    },
    "id": "vZG8EqC8JG_n",
    "scrolled": true
   },
   "outputs": [],
   "source": [
    "%%capture\n",
    "!pip install ipypublish"
   ]
  },
  {
   "cell_type": "code",
   "execution_count": 3,
   "metadata": {
    "colab": {
     "base_uri": "https://localhost:8080/"
    },
    "executionInfo": {
     "elapsed": 499,
     "status": "ok",
     "timestamp": 1617463699203,
     "user": {
      "displayName": "Sanjiv Das",
      "photoUrl": "https://lh3.googleusercontent.com/a-/AOh14GhgUU3RgThSxLUq6NKSN2tDGDl8IQdtHMvdaZPE=s64",
      "userId": "06377870171053566924"
     },
     "user_tz": 420
    },
    "id": "040wjJaSHoQ_",
    "outputId": "dd187ed8-b695-460f-966e-d835be70824a"
   },
   "outputs": [
    {
     "name": "stdout",
     "output_type": "stream",
     "text": [
      "Populating the interactive namespace from numpy and matplotlib\n"
     ]
    }
   ],
   "source": [
    "%pylab inline\n",
    "from ipypublish import nb_setup\n",
    "import pandas as pd"
   ]
  },
  {
   "cell_type": "markdown",
   "metadata": {
    "id": "t2N-vI9VHoRL"
   },
   "source": [
    "## NLTK Book\n",
    "\n",
    "- This is a very useful resource: https://www.nltk.org/book/.\n",
    "- Read Ch0 (preface) for an overview: https://www.nltk.org/book/ch00.html. \n",
    "- Get familiar with installing specific packages within NLTK, section 2.1: https://www.nltk.org/book/ch01.html.\n",
    "\n",
    "NLTK comes with included texts that are good for examples. \n",
    "\n",
    "Many of the code examples below are from the NLTK book. Please go through the early chapters in detail, as it will save a lot of time if you know all the amazing special functions that are baked into NLTK. Moreover, it gives you a lot of ideas on how computational linguistics may be used, and this will be helpful for your projects. "
   ]
  },
  {
   "cell_type": "code",
   "execution_count": 4,
   "metadata": {
    "colab": {
     "base_uri": "https://localhost:8080/"
    },
    "executionInfo": {
     "elapsed": 3186,
     "status": "ok",
     "timestamp": 1617463725553,
     "user": {
      "displayName": "Sanjiv Das",
      "photoUrl": "https://lh3.googleusercontent.com/a-/AOh14GhgUU3RgThSxLUq6NKSN2tDGDl8IQdtHMvdaZPE=s64",
      "userId": "06377870171053566924"
     },
     "user_tz": 420
    },
    "id": "SX5MlRoxHoRN",
    "outputId": "55a012a8-6303-4ed4-9824-2adf3dc1860b"
   },
   "outputs": [
    {
     "name": "stdout",
     "output_type": "stream",
     "text": [
      "[nltk_data] Downloading package gutenberg to /root/nltk_data...\n",
      "[nltk_data]   Unzipping corpora/gutenberg.zip.\n",
      "[nltk_data] Downloading package genesis to /root/nltk_data...\n",
      "[nltk_data]   Unzipping corpora/genesis.zip.\n",
      "[nltk_data] Downloading package inaugural to /root/nltk_data...\n",
      "[nltk_data]   Unzipping corpora/inaugural.zip.\n",
      "[nltk_data] Downloading package nps_chat to /root/nltk_data...\n",
      "[nltk_data]   Unzipping corpora/nps_chat.zip.\n",
      "[nltk_data] Downloading package webtext to /root/nltk_data...\n",
      "[nltk_data]   Unzipping corpora/webtext.zip.\n",
      "[nltk_data] Downloading package treebank to /root/nltk_data...\n",
      "[nltk_data]   Unzipping corpora/treebank.zip.\n"
     ]
    },
    {
     "data": {
      "text/plain": [
       "True"
      ]
     },
     "execution_count": 4,
     "metadata": {
      "tags": []
     },
     "output_type": "execute_result"
    }
   ],
   "source": [
    "import nltk\n",
    "nltk.download('gutenberg')\n",
    "nltk.download('genesis')\n",
    "nltk.download('inaugural')\n",
    "nltk.download('nps_chat') # http://faculty.nps.edu/cmartell/NPSChat.htm\n",
    "nltk.download('webtext')\n",
    "nltk.download('treebank')"
   ]
  },
  {
   "cell_type": "code",
   "execution_count": 5,
   "metadata": {
    "colab": {
     "base_uri": "https://localhost:8080/"
    },
    "executionInfo": {
     "elapsed": 6221,
     "status": "ok",
     "timestamp": 1617463744273,
     "user": {
      "displayName": "Sanjiv Das",
      "photoUrl": "https://lh3.googleusercontent.com/a-/AOh14GhgUU3RgThSxLUq6NKSN2tDGDl8IQdtHMvdaZPE=s64",
      "userId": "06377870171053566924"
     },
     "user_tz": 420
    },
    "id": "LrQwe9ttHoRV",
    "outputId": "07665629-71bc-4038-f1c7-3fe49ffd8e27"
   },
   "outputs": [
    {
     "name": "stdout",
     "output_type": "stream",
     "text": [
      "*** Introductory Examples for the NLTK Book ***\n",
      "Loading text1, ..., text9 and sent1, ..., sent9\n",
      "Type the name of the text or sentence to view it.\n",
      "Type: 'texts()' or 'sents()' to list the materials.\n",
      "text1: Moby Dick by Herman Melville 1851\n",
      "text2: Sense and Sensibility by Jane Austen 1811\n",
      "text3: The Book of Genesis\n",
      "text4: Inaugural Address Corpus\n",
      "text5: Chat Corpus\n",
      "text6: Monty Python and the Holy Grail\n",
      "text7: Wall Street Journal\n",
      "text8: Personals Corpus\n",
      "text9: The Man Who Was Thursday by G . K . Chesterton 1908\n"
     ]
    }
   ],
   "source": [
    "from nltk.book import *"
   ]
  },
  {
   "cell_type": "code",
   "execution_count": 6,
   "metadata": {
    "colab": {
     "base_uri": "https://localhost:8080/"
    },
    "executionInfo": {
     "elapsed": 463,
     "status": "ok",
     "timestamp": 1617463751414,
     "user": {
      "displayName": "Sanjiv Das",
      "photoUrl": "https://lh3.googleusercontent.com/a-/AOh14GhgUU3RgThSxLUq6NKSN2tDGDl8IQdtHMvdaZPE=s64",
      "userId": "06377870171053566924"
     },
     "user_tz": 420
    },
    "id": "L4O_Leu8HoRj",
    "outputId": "bd498ae7-0b71-4af7-c23f-307af7624576"
   },
   "outputs": [
    {
     "name": "stdout",
     "output_type": "stream",
     "text": [
      "text1: Moby Dick by Herman Melville 1851\n",
      "text2: Sense and Sensibility by Jane Austen 1811\n",
      "text3: The Book of Genesis\n",
      "text4: Inaugural Address Corpus\n",
      "text5: Chat Corpus\n",
      "text6: Monty Python and the Holy Grail\n",
      "text7: Wall Street Journal\n",
      "text8: Personals Corpus\n",
      "text9: The Man Who Was Thursday by G . K . Chesterton 1908\n"
     ]
    }
   ],
   "source": [
    "# List the titles of the books\n",
    "texts()"
   ]
  },
  {
   "cell_type": "code",
   "execution_count": 7,
   "metadata": {
    "colab": {
     "base_uri": "https://localhost:8080/"
    },
    "executionInfo": {
     "elapsed": 513,
     "status": "ok",
     "timestamp": 1617463756460,
     "user": {
      "displayName": "Sanjiv Das",
      "photoUrl": "https://lh3.googleusercontent.com/a-/AOh14GhgUU3RgThSxLUq6NKSN2tDGDl8IQdtHMvdaZPE=s64",
      "userId": "06377870171053566924"
     },
     "user_tz": 420
    },
    "id": "sqFLR2HWHoRp",
    "outputId": "c325fe13-344d-4cf6-8adf-78d5dcd4fdc6"
   },
   "outputs": [
    {
     "name": "stdout",
     "output_type": "stream",
     "text": [
      "sent1: Call me Ishmael .\n",
      "sent2: The family of Dashwood had long been settled in Sussex .\n",
      "sent3: In the beginning God created the heaven and the earth .\n",
      "sent4: Fellow - Citizens of the Senate and of the House of Representatives :\n",
      "sent5: I have a problem with people PMing me to lol JOIN\n",
      "sent6: SCENE 1 : [ wind ] [ clop clop clop ] KING ARTHUR : Whoa there !\n",
      "sent7: Pierre Vinken , 61 years old , will join the board as a nonexecutive director Nov. 29 .\n",
      "sent8: 25 SEXY MALE , seeks attrac older single lady , for discreet encounters .\n",
      "sent9: THE suburb of Saffron Park lay on the sunset side of London , as red and ragged as a cloud of sunset .\n"
     ]
    }
   ],
   "source": [
    "# Print the first sentence of each book\n",
    "sents()"
   ]
  },
  {
   "cell_type": "code",
   "execution_count": 10,
   "metadata": {
    "colab": {
     "base_uri": "https://localhost:8080/"
    },
    "executionInfo": {
     "elapsed": 551,
     "status": "ok",
     "timestamp": 1617463808351,
     "user": {
      "displayName": "Sanjiv Das",
      "photoUrl": "https://lh3.googleusercontent.com/a-/AOh14GhgUU3RgThSxLUq6NKSN2tDGDl8IQdtHMvdaZPE=s64",
      "userId": "06377870171053566924"
     },
     "user_tz": 420
    },
    "id": "CraqYgHZHoRv",
    "outputId": "15c5aa30-7778-414c-a90d-dcc9696a34d9"
   },
   "outputs": [
    {
     "name": "stdout",
     "output_type": "stream",
     "text": [
      "149797\n"
     ]
    },
    {
     "data": {
      "text/plain": [
       "['Fellow',\n",
       " '-',\n",
       " 'Citizens',\n",
       " 'of',\n",
       " 'the',\n",
       " 'Senate',\n",
       " 'and',\n",
       " 'of',\n",
       " 'the',\n",
       " 'House',\n",
       " 'of',\n",
       " 'Representatives',\n",
       " ':',\n",
       " 'Among',\n",
       " 'the',\n",
       " 'vicissitudes',\n",
       " 'incident',\n",
       " 'to',\n",
       " 'life',\n",
       " 'no']"
      ]
     },
     "execution_count": 10,
     "metadata": {
      "tags": []
     },
     "output_type": "execute_result"
    }
   ],
   "source": [
    "# List structure of the text in nltk\n",
    "print(len(text4))\n",
    "text4[:20]"
   ]
  },
  {
   "cell_type": "markdown",
   "metadata": {
    "id": "nS7Jc4PHHoR1"
   },
   "source": [
    "## Word localities\n",
    "\n",
    "- This is also known as \"concordance\" -- we may be interested in the text around a word. It is easy to display using NLTK. \n",
    "\n",
    "- In sequence to sequence models, we are often interested in the words before and after a given word, the distribution of such words forms the basis for several algorithms, e.g., text completion. \n",
    "\n",
    "- Training language models uses MLM = masked language modeling\n",
    "\n",
    "- Concordance is the first attempt at seeing words in context, eventually leading to semantic understanding. Semantics is more than words, it has to do with \"meaning\". \n",
    "\n"
   ]
  },
  {
   "cell_type": "code",
   "execution_count": 11,
   "metadata": {
    "colab": {
     "base_uri": "https://localhost:8080/"
    },
    "executionInfo": {
     "elapsed": 397,
     "status": "ok",
     "timestamp": 1617463842139,
     "user": {
      "displayName": "Sanjiv Das",
      "photoUrl": "https://lh3.googleusercontent.com/a-/AOh14GhgUU3RgThSxLUq6NKSN2tDGDl8IQdtHMvdaZPE=s64",
      "userId": "06377870171053566924"
     },
     "user_tz": 420
    },
    "id": "qqPqfWerHoR2",
    "outputId": "0ba35871-ed00-4539-d85e-79bae4420d38"
   },
   "outputs": [
    {
     "name": "stdout",
     "output_type": "stream",
     "text": [
      "Displaying 25 of 77 matches:\n",
      "priety of going , and her own tender love for all her three children determine\n",
      "es .\" \" I believe you are right , my love ; it will be better that there shoul\n",
      " . It implies everything amiable . I love him already .\" \" I think you will li\n",
      "sentiment of approbation inferior to love .\" \" You may esteem him .\" \" I have \n",
      "n what it was to separate esteem and love .\" Mrs . Dashwood now took pains to \n",
      "oner did she perceive any symptom of love in his behaviour to Elinor , than sh\n",
      " how shall we do without her ?\" \" My love , it will be scarcely a separation .\n",
      "ise . Edward is very amiable , and I love him tenderly . But yet -- he is not \n",
      "ll never see a man whom I can really love . I require so much ! He must have a\n",
      "ry possible charm .\" \" Remember , my love , that you are not seventeen . It is\n",
      "f I do not now . When you tell me to love him as a brother , I shall no more s\n",
      "hat Colonel Brandon was very much in love with Marianne Dashwood . She rather \n",
      "e were ever animated enough to be in love , must have long outlived every sens\n",
      "hirty - five anything near enough to love , to make him a desirable companion \n",
      "roach would have been spared .\" \" My love ,\" said her mother , \" you must not \n",
      "pect that the misery of disappointed love had already been known to him . This\n",
      " most melancholy order of disastrous love . CHAPTER 12 As Elinor and Marianne \n",
      "hen she considered what Marianne ' s love for him was , a quarrel seemed almos\n",
      "ctory way ;-- but you , Elinor , who love to doubt where you can -- it will no\n",
      " man whom we have all such reason to love , and no reason in the world to thin\n",
      "ded as he must be of your sister ' s love , should leave her , and leave her p\n",
      "cannot think that . He must and does love her I am sure .\" \" But with a strang\n",
      " I believe not ,\" cried Elinor . \" I love Willoughby , sincerely love him ; an\n",
      "or . \" I love Willoughby , sincerely love him ; and suspicion of his integrity\n",
      "deed a man could not very well be in love with either of her daughters , witho\n"
     ]
    }
   ],
   "source": [
    "text2.concordance(\"love\")"
   ]
  },
  {
   "cell_type": "markdown",
   "metadata": {
    "id": "4NpRl6Q3HoR9"
   },
   "source": [
    "## Context \n",
    "\n",
    "\"You shall know a word by the company it keeps\" (Firth, J. R. 1957:11)\n",
    "\n",
    "https://en.wikipedia.org/wiki/John_Rupert_Firth (think of him as the father of context)\n",
    "\n",
    "- The word appears around other words, which we call the \"context\". \n",
    "- We may be interested in similar words that appear in the same context, but are not part of it. \n",
    "- The context in different texts may be very different."
   ]
  },
  {
   "cell_type": "code",
   "execution_count": 12,
   "metadata": {
    "colab": {
     "base_uri": "https://localhost:8080/"
    },
    "executionInfo": {
     "elapsed": 1989,
     "status": "ok",
     "timestamp": 1617463873080,
     "user": {
      "displayName": "Sanjiv Das",
      "photoUrl": "https://lh3.googleusercontent.com/a-/AOh14GhgUU3RgThSxLUq6NKSN2tDGDl8IQdtHMvdaZPE=s64",
      "userId": "06377870171053566924"
     },
     "user_tz": 420
    },
    "id": "lKhRuldXHoR-",
    "outputId": "bc5d3dc2-ee0a-44b1-9acb-4f088bbd7f19"
   },
   "outputs": [
    {
     "name": "stdout",
     "output_type": "stream",
     "text": [
      "affection sister heart mother time see town life it dear elinor\n",
      "marianne me word family her him do regard head\n"
     ]
    }
   ],
   "source": [
    "text2.similar(\"love\")"
   ]
  },
  {
   "cell_type": "code",
   "execution_count": 13,
   "metadata": {
    "colab": {
     "base_uri": "https://localhost:8080/"
    },
    "executionInfo": {
     "elapsed": 433,
     "status": "ok",
     "timestamp": 1617463891703,
     "user": {
      "displayName": "Sanjiv Das",
      "photoUrl": "https://lh3.googleusercontent.com/a-/AOh14GhgUU3RgThSxLUq6NKSN2tDGDl8IQdtHMvdaZPE=s64",
      "userId": "06377870171053566924"
     },
     "user_tz": 420
    },
    "id": "UlFLf8rZHoSE",
    "outputId": "be048e24-4eac-4efa-be50-7160a0072258"
   },
   "outputs": [
    {
     "name": "stdout",
     "output_type": "stream",
     "text": [
      "want sense\n"
     ]
    }
   ],
   "source": [
    "text8.similar(\"love\")"
   ]
  },
  {
   "cell_type": "markdown",
   "metadata": {
    "id": "8oHHu2jzHoSJ"
   },
   "source": [
    "## Common context\n",
    "\n",
    "- In NLTK, it may have been better for the function \"similar\" to have been called \"context\".\n",
    "- A \"common context\" is the intersection of contexts for multiple words. "
   ]
  },
  {
   "cell_type": "code",
   "execution_count": 16,
   "metadata": {
    "colab": {
     "base_uri": "https://localhost:8080/"
    },
    "executionInfo": {
     "elapsed": 443,
     "status": "ok",
     "timestamp": 1617463979155,
     "user": {
      "displayName": "Sanjiv Das",
      "photoUrl": "https://lh3.googleusercontent.com/a-/AOh14GhgUU3RgThSxLUq6NKSN2tDGDl8IQdtHMvdaZPE=s64",
      "userId": "06377870171053566924"
     },
     "user_tz": 420
    },
    "id": "WiLoWuLiHoSK",
    "outputId": "79c8a264-b538-4cca-ee74-9bb6e940be9b"
   },
   "outputs": [
    {
     "name": "stdout",
     "output_type": "stream",
     "text": [
      "want sense\n",
      "None\n",
      " \n",
      "love\n",
      "None\n",
      " \n",
      "a_of\n"
     ]
    }
   ],
   "source": [
    "print(text8.similar(\"love\"))\n",
    "print(\" \")\n",
    "print(text8.similar(\"sense\"))\n",
    "print(\" \")\n",
    "text8.common_contexts([\"love\",\"sense\"])"
   ]
  },
  {
   "cell_type": "code",
   "execution_count": 17,
   "metadata": {
    "colab": {
     "base_uri": "https://localhost:8080/"
    },
    "executionInfo": {
     "elapsed": 3012,
     "status": "ok",
     "timestamp": 1617464007415,
     "user": {
      "displayName": "Sanjiv Das",
      "photoUrl": "https://lh3.googleusercontent.com/a-/AOh14GhgUU3RgThSxLUq6NKSN2tDGDl8IQdtHMvdaZPE=s64",
      "userId": "06377870171053566924"
     },
     "user_tz": 420
    },
    "id": "hCe3WMwnWDJm",
    "outputId": "46c3d53f-e4ab-4462-ae32-e00d95be77eb"
   },
   "outputs": [
    {
     "name": "stdout",
     "output_type": "stream",
     "text": [
      "('The following word(s) were not found:', 'love affection')\n",
      "None\n",
      "No common contexts were found\n",
      "None\n"
     ]
    }
   ],
   "source": [
    "print(text3.common_contexts([\"love\",\"affection\"]))\n",
    "print(text1.common_contexts([\"love\",\"affection\"]))"
   ]
  },
  {
   "cell_type": "markdown",
   "metadata": {
    "id": "VONii1pBHoSP"
   },
   "source": [
    "## Visualizing word frequencies\n",
    "\n",
    "It is easy to examine where words occur using a dispersion plot. It shows you how many words there are in the text, the relative placement of the words, and also some visual correlation of words. "
   ]
  },
  {
   "cell_type": "code",
   "execution_count": 19,
   "metadata": {
    "colab": {
     "base_uri": "https://localhost:8080/",
     "height": 312
    },
    "executionInfo": {
     "elapsed": 622,
     "status": "ok",
     "timestamp": 1617464056999,
     "user": {
      "displayName": "Sanjiv Das",
      "photoUrl": "https://lh3.googleusercontent.com/a-/AOh14GhgUU3RgThSxLUq6NKSN2tDGDl8IQdtHMvdaZPE=s64",
      "userId": "06377870171053566924"
     },
     "user_tz": 420
    },
    "id": "RLO0I8XPHoSQ",
    "outputId": "86d5d13d-10e5-4862-b860-e0bd19c039f5"
   },
   "outputs": [
    {
     "name": "stdout",
     "output_type": "stream",
     "text": [
      "141576\n"
     ]
    },
    {
     "data": {
      "image/png": "[encoded data removed]",
      "text/plain": [
       "<Figure size 432x288 with 1 Axes>"
      ]
     },
     "metadata": {
      "needs_background": "light",
      "tags": []
     },
     "output_type": "display_data"
    }
   ],
   "source": [
    "print(len(text2))\n",
    "text2.dispersion_plot([\"love\",\"affection\",\"sex\",\"emotion\"])"
   ]
  },
  {
   "cell_type": "code",
   "execution_count": 20,
   "metadata": {
    "colab": {
     "base_uri": "https://localhost:8080/"
    },
    "executionInfo": {
     "elapsed": 511,
     "status": "ok",
     "timestamp": 1617464067629,
     "user": {
      "displayName": "Sanjiv Das",
      "photoUrl": "https://lh3.googleusercontent.com/a-/AOh14GhgUU3RgThSxLUq6NKSN2tDGDl8IQdtHMvdaZPE=s64",
      "userId": "06377870171053566924"
     },
     "user_tz": 420
    },
    "id": "0_jjslTxHoSX",
    "outputId": "e4214698-bd08-42ca-fff5-3e776dcf733f"
   },
   "outputs": [
    {
     "data": {
      "text/plain": [
       "['25',\n",
       " 'SEXY',\n",
       " 'MALE',\n",
       " ',',\n",
       " 'seeks',\n",
       " 'attrac',\n",
       " 'older',\n",
       " 'single',\n",
       " 'lady',\n",
       " ',',\n",
       " 'for',\n",
       " 'discreet',\n",
       " 'encounters',\n",
       " '.',\n",
       " '35YO',\n",
       " 'Security',\n",
       " 'Guard',\n",
       " ',',\n",
       " 'seeking',\n",
       " 'lady']"
      ]
     },
     "execution_count": 20,
     "metadata": {
      "tags": []
     },
     "output_type": "execute_result"
    }
   ],
   "source": [
    "wrds = text8[:20]\n",
    "wrds"
   ]
  },
  {
   "cell_type": "code",
   "execution_count": 21,
   "metadata": {
    "colab": {
     "base_uri": "https://localhost:8080/",
     "height": 295
    },
    "executionInfo": {
     "elapsed": 969,
     "status": "ok",
     "timestamp": 1617464086336,
     "user": {
      "displayName": "Sanjiv Das",
      "photoUrl": "https://lh3.googleusercontent.com/a-/AOh14GhgUU3RgThSxLUq6NKSN2tDGDl8IQdtHMvdaZPE=s64",
      "userId": "06377870171053566924"
     },
     "user_tz": 420
    },
    "id": "Vz_YfuzjWDJq",
    "outputId": "28627949-67b3-4f05-f9f5-13b0f1c1870c"
   },
   "outputs": [
    {
     "data": {
      "image/png": "[encoded data removed]",
      "text/plain": [
       "<Figure size 432x288 with 1 Axes>"
      ]
     },
     "metadata": {
      "needs_background": "light",
      "tags": []
     },
     "output_type": "display_data"
    }
   ],
   "source": [
    "text2.dispersion_plot([j.lower() for j in set(wrds) if len(j)>3])"
   ]
  },
  {
   "cell_type": "markdown",
   "metadata": {
    "id": "RXr_7oh-HoSc"
   },
   "source": [
    "## Lexical Diversity\n",
    "\n",
    "- Is there are wide-ranging vocabulary used, or is the writer limited in the variety of words? \n",
    "- This is computed using a simple measure of word range. "
   ]
  },
  {
   "cell_type": "code",
   "execution_count": 22,
   "metadata": {
    "colab": {
     "base_uri": "https://localhost:8080/"
    },
    "executionInfo": {
     "elapsed": 645,
     "status": "ok",
     "timestamp": 1617464122108,
     "user": {
      "displayName": "Sanjiv Das",
      "photoUrl": "https://lh3.googleusercontent.com/a-/AOh14GhgUU3RgThSxLUq6NKSN2tDGDl8IQdtHMvdaZPE=s64",
      "userId": "06377870171053566924"
     },
     "user_tz": 420
    },
    "id": "DJkDP8tZHoSd",
    "outputId": "0f79142f-3929-4f74-b99b-cadf1a9e2b49"
   },
   "outputs": [
    {
     "name": "stdout",
     "output_type": "stream",
     "text": [
      "text1 : 0.07406285585022564\n",
      "text2 : 0.04826383002768831\n",
      "text3 : 0.06230453042623537\n",
      "text4 : 0.06617622515804722\n",
      "text5 : 0.13477005109975562\n",
      "text6 : 0.1276595744680851\n",
      "text7 : 0.12324685128531129\n",
      "text8 : 0.22765564002465585\n",
      "text9 : 0.0983485761345412\n"
     ]
    }
   ],
   "source": [
    "def lexical_diversity(txt):\n",
    "    return len(set(txt))/len(txt)\n",
    "\n",
    "for j in range(1,10):\n",
    "    print(\"text\"+str(j),\":\",lexical_diversity(vars()['text'+str(j)]))"
   ]
  },
  {
   "cell_type": "markdown",
   "metadata": {
    "id": "sk_54BmvHoSi"
   },
   "source": [
    "## Common words\n",
    "\n",
    "- Common tokens can easily be extracted using NLTK. \n",
    "- Many of these will be \"stopwords\", i.e., words that are so common that they might well be removed before further analysis. Why? Because we care about words that distinguish documents from one another. "
   ]
  },
  {
   "cell_type": "code",
   "execution_count": 23,
   "metadata": {
    "colab": {
     "base_uri": "https://localhost:8080/"
    },
    "executionInfo": {
     "elapsed": 475,
     "status": "ok",
     "timestamp": 1617464163487,
     "user": {
      "displayName": "Sanjiv Das",
      "photoUrl": "https://lh3.googleusercontent.com/a-/AOh14GhgUU3RgThSxLUq6NKSN2tDGDl8IQdtHMvdaZPE=s64",
      "userId": "06377870171053566924"
     },
     "user_tz": 420
    },
    "id": "rt4YKb3IHoSk",
    "outputId": "ffeac4ed-a6fa-4691-c1bf-7be887137616"
   },
   "outputs": [
    {
     "data": {
      "text/plain": [
       "FreqDist({'25': 6,\n",
       "          'SEXY': 2,\n",
       "          'MALE': 15,\n",
       "          ',': 539,\n",
       "          'seeks': 60,\n",
       "          'attrac': 3,\n",
       "          'older': 4,\n",
       "          'single': 10,\n",
       "          'lady': 68,\n",
       "          'for': 99,\n",
       "          'discreet': 7,\n",
       "          'encounters': 3,\n",
       "          '.': 353,\n",
       "          '35YO': 1,\n",
       "          'Security': 1,\n",
       "          'Guard': 1,\n",
       "          'seeking': 14,\n",
       "          'in': 27,\n",
       "          'uniform': 1,\n",
       "          'fun': 28,\n",
       "          'times': 15,\n",
       "          '40': 16,\n",
       "          'yo': 10,\n",
       "          'SINGLE': 6,\n",
       "          'DAD': 2,\n",
       "          'sincere': 5,\n",
       "          'friendly': 4,\n",
       "          'DTE': 7,\n",
       "          'r': 14,\n",
       "          '/': 110,\n",
       "          'ship': 33,\n",
       "          'with': 44,\n",
       "          'fem': 4,\n",
       "          'age': 17,\n",
       "          'open': 14,\n",
       "          'S': 36,\n",
       "          'E': 3,\n",
       "          '44yo': 2,\n",
       "          'tall': 12,\n",
       "          'working': 4,\n",
       "          'mum': 3,\n",
       "          'or': 13,\n",
       "          'below': 1,\n",
       "          '45': 16,\n",
       "          'fship': 11,\n",
       "          'rship': 18,\n",
       "          'Nat': 1,\n",
       "          'Open': 1,\n",
       "          '6': 8,\n",
       "          '2': 8,\n",
       "          '35': 16,\n",
       "          'yr': 1,\n",
       "          'old': 4,\n",
       "          'OUTGOING': 2,\n",
       "          'M': 1,\n",
       "          '28': 2,\n",
       "          '-': 66,\n",
       "          'o': 26,\n",
       "          'door': 1,\n",
       "          'sports': 4,\n",
       "          'w': 2,\n",
       "          'e': 1,\n",
       "          'away': 4,\n",
       "          'A': 10,\n",
       "          'professional': 4,\n",
       "          'business': 2,\n",
       "          'male': 15,\n",
       "          'late': 3,\n",
       "          '40s': 8,\n",
       "          'feet': 1,\n",
       "          'slim': 27,\n",
       "          'build': 27,\n",
       "          'well': 9,\n",
       "          'groomed': 1,\n",
       "          'great': 3,\n",
       "          'personality': 3,\n",
       "          'home': 9,\n",
       "          'owner': 2,\n",
       "          'interests': 11,\n",
       "          'include': 2,\n",
       "          'the': 14,\n",
       "          'arts': 1,\n",
       "          'travel': 10,\n",
       "          'and': 74,\n",
       "          'all': 2,\n",
       "          'things': 5,\n",
       "          'good': 21,\n",
       "          'Ringwood': 1,\n",
       "          'area': 6,\n",
       "          'is': 11,\n",
       "          'a': 52,\n",
       "          'genuine': 11,\n",
       "          'female': 14,\n",
       "          'of': 14,\n",
       "          'similar': 10,\n",
       "          'same': 4,\n",
       "          'surrounds': 1,\n",
       "          'meaningful': 1,\n",
       "          'long': 9,\n",
       "          'term': 6,\n",
       "          'Looking': 16,\n",
       "          'forward': 2,\n",
       "          'to': 74,\n",
       "          'hearing': 1,\n",
       "          'from': 2,\n",
       "          'you': 6,\n",
       "          'ABLE': 1,\n",
       "          'young': 5,\n",
       "          'man': 7,\n",
       "          'sexy': 6,\n",
       "          'women': 2,\n",
       "          'Phone': 1,\n",
       "          'ready': 2,\n",
       "          'play': 1,\n",
       "          'AFFECTIONATE': 2,\n",
       "          'LADY': 13,\n",
       "          'Sought': 1,\n",
       "          'by': 7,\n",
       "          'generous': 4,\n",
       "          'guy': 13,\n",
       "          'mutual': 1,\n",
       "          'fulfillment': 1,\n",
       "          'ARE': 2,\n",
       "          'YOU': 3,\n",
       "          'ALONE': 1,\n",
       "          'lost': 1,\n",
       "          'too': 1,\n",
       "          'no': 13,\n",
       "          'hope': 1,\n",
       "          'sight': 1,\n",
       "          '?': 6,\n",
       "          'Maybe': 1,\n",
       "          'we': 2,\n",
       "          'could': 1,\n",
       "          'explore': 1,\n",
       "          'new': 3,\n",
       "          'beginnings': 1,\n",
       "          'together': 1,\n",
       "          'Im': 5,\n",
       "          'Slim': 2,\n",
       "          'Med': 2,\n",
       "          'GSOH': 14,\n",
       "          'high': 1,\n",
       "          'needs': 1,\n",
       "          'looking': 18,\n",
       "          'someone': 2,\n",
       "          'You': 2,\n",
       "          'WONT': 1,\n",
       "          'be': 13,\n",
       "          'disappointed': 1,\n",
       "          'AMIABLE': 1,\n",
       "          '43': 7,\n",
       "          'y': 23,\n",
       "          'gentleman': 5,\n",
       "          'European': 4,\n",
       "          'background': 2,\n",
       "          '170': 1,\n",
       "          'cm': 1,\n",
       "          'medium': 11,\n",
       "          'employed': 12,\n",
       "          'never': 3,\n",
       "          'married': 10,\n",
       "          'children': 8,\n",
       "          'Enjoys': 2,\n",
       "          'music': 13,\n",
       "          'cafes': 2,\n",
       "          'beach': 11,\n",
       "          '&': 30,\n",
       "          'c': 4,\n",
       "          'Seeks': 11,\n",
       "          'an': 7,\n",
       "          'honest': 20,\n",
       "          'attractive': 17,\n",
       "          'without': 1,\n",
       "          'who': 17,\n",
       "          'would': 9,\n",
       "          'like': 18,\n",
       "          'get': 1,\n",
       "          'have': 10,\n",
       "          'chil': 1,\n",
       "          'dren': 1,\n",
       "          'future': 2,\n",
       "          '29': 1,\n",
       "          '39': 4,\n",
       "          'Prefer': 2,\n",
       "          'non': 22,\n",
       "          'smoker': 23,\n",
       "          'living': 7,\n",
       "          'Adelaide': 2,\n",
       "          'COPPER': 1,\n",
       "          'REDHEAD': 1,\n",
       "          'I': 22,\n",
       "          'am': 7,\n",
       "          '36': 6,\n",
       "          'companionship': 2,\n",
       "          'friendship': 17,\n",
       "          'enjoy': 14,\n",
       "          'AFL': 2,\n",
       "          'animals': 3,\n",
       "          'dining': 19,\n",
       "          'out': 19,\n",
       "          'ATTRACTIVE': 8,\n",
       "          'Y': 3,\n",
       "          'O': 3,\n",
       "          '61': 1,\n",
       "          'financially': 4,\n",
       "          'secure': 8,\n",
       "          'up': 8,\n",
       "          'View': 2,\n",
       "          'permanent': 5,\n",
       "          'relationship': 29,\n",
       "          'GUY': 6,\n",
       "          'Late': 6,\n",
       "          '30s': 8,\n",
       "          '57': 5,\n",
       "          'Taurus': 1,\n",
       "          'Into': 1,\n",
       "          'fitness': 2,\n",
       "          'movies': 22,\n",
       "          'dinner': 3,\n",
       "          'parties': 2,\n",
       "          'there': 3,\n",
       "          'AUSSIE': 1,\n",
       "          'Solid': 1,\n",
       "          'likes': 11,\n",
       "          'walks': 9,\n",
       "          'on': 4,\n",
       "          'meet': 15,\n",
       "          'view': 6,\n",
       "          'AUSTRALIAN': 2,\n",
       "          'FATHER': 1,\n",
       "          '58': 4,\n",
       "          'With': 2,\n",
       "          '11': 3,\n",
       "          'son': 1,\n",
       "          'me': 6,\n",
       "          'nice': 3,\n",
       "          'caring': 12,\n",
       "          're': 1,\n",
       "          'lationship': 1,\n",
       "          'coastal': 1,\n",
       "          'town': 1,\n",
       "          'Eyre': 1,\n",
       "          'Peninsula': 1,\n",
       "          'Age': 4,\n",
       "          '55': 6,\n",
       "          'SLIM': 4,\n",
       "          'FUN': 1,\n",
       "          '5': 16,\n",
       "          'ft': 13,\n",
       "          '8': 3,\n",
       "          'Enjoy': 2,\n",
       "          'BBQs': 3,\n",
       "          'sport': 2,\n",
       "          'fishing': 8,\n",
       "          'going': 6,\n",
       "          'meal': 1,\n",
       "          'Fun': 2,\n",
       "          'com': 1,\n",
       "          'panion': 1,\n",
       "          'aged': 3,\n",
       "          'between': 2,\n",
       "          '50': 23,\n",
       "          'Must': 7,\n",
       "          'Possible': 2,\n",
       "          'BEAUTIFUL': 1,\n",
       "          'INTELLIGENT': 1,\n",
       "          'CARING': 4,\n",
       "          'MUSICAL': 1,\n",
       "          'Shy': 1,\n",
       "          '20s': 2,\n",
       "          'size': 3,\n",
       "          '12': 1,\n",
       "          'blonde': 1,\n",
       "          'hair': 3,\n",
       "          'drink': 1,\n",
       "          'Guiness': 1,\n",
       "          'If': 3,\n",
       "          'this': 2,\n",
       "          'then': 1,\n",
       "          'want': 1,\n",
       "          'BLONDE': 1,\n",
       "          'HAIR': 2,\n",
       "          'BLUE': 1,\n",
       "          'EYES': 1,\n",
       "          'Medium': 1,\n",
       "          'my': 4,\n",
       "          'early': 3,\n",
       "          'Am': 2,\n",
       "          'golf': 1,\n",
       "          'bike': 1,\n",
       "          'riding': 1,\n",
       "          'TV': 2,\n",
       "          'DVDs': 1,\n",
       "          'quiet': 10,\n",
       "          'nights': 9,\n",
       "          'at': 9,\n",
       "          'kissing': 1,\n",
       "          'cuddling': 1,\n",
       "          'special': 5,\n",
       "          'person': 4,\n",
       "          'life': 15,\n",
       "          'BUSINESSMAN': 4,\n",
       "          '60': 8,\n",
       "          \"''\": 14,\n",
       "          'ish': 2,\n",
       "          '56': 2,\n",
       "          'taller': 2,\n",
       "          'outlook': 3,\n",
       "          'ties': 5,\n",
       "          'prepared': 1,\n",
       "          'outdoor': 4,\n",
       "          '(': 4,\n",
       "          'cars': 3,\n",
       "          'boats': 1,\n",
       "          'etc': 3,\n",
       "          '.),': 1,\n",
       "          'wining': 2,\n",
       "          's': 24,\n",
       "          'h': 2,\n",
       "          'modern': 1,\n",
       "          'CUDDLY': 1,\n",
       "          'FULL': 1,\n",
       "          'FIGURED': 1,\n",
       "          'plus': 2,\n",
       "          'sought': 6,\n",
       "          'Australian': 2,\n",
       "          'gent': 6,\n",
       "          '60s': 2,\n",
       "          'drinker': 13,\n",
       "          'FIT': 5,\n",
       "          'ACTIVE': 2,\n",
       "          'EASYGOING': 2,\n",
       "          'med': 7,\n",
       "          'fit': 14,\n",
       "          'healthy': 6,\n",
       "          'fully': 1,\n",
       "          'light': 2,\n",
       "          'Seeking': 9,\n",
       "          'friend': 3,\n",
       "          '+.': 1,\n",
       "          'towards': 1,\n",
       "          'Give': 1,\n",
       "          'call': 1,\n",
       "          'lets': 2,\n",
       "          'chat': 1,\n",
       "          'GENUINE': 2,\n",
       "          'AND': 2,\n",
       "          'HONEST': 2,\n",
       "          'Hi': 2,\n",
       "          '44': 2,\n",
       "          'sense': 4,\n",
       "          'humour': 5,\n",
       "          'romantic': 4,\n",
       "          'love': 6,\n",
       "          'drives': 7,\n",
       "          'camping': 3,\n",
       "          'Love': 2,\n",
       "          'kids': 5,\n",
       "          '38': 5,\n",
       "          'possible': 5,\n",
       "          'MAN': 6,\n",
       "          '.,': 9,\n",
       "          '9': 2,\n",
       "          'outdoors': 6,\n",
       "          'gym': 2,\n",
       "          'country': 9,\n",
       "          'woman': 8,\n",
       "          'enjoys': 9,\n",
       "          'simple': 1,\n",
       "          'GOOD': 2,\n",
       "          'LISTENER': 1,\n",
       "          'Well': 1,\n",
       "          'educated': 1,\n",
       "          'blue': 2,\n",
       "          'eyes': 1,\n",
       "          'brown': 1,\n",
       "          'Mid': 3,\n",
       "          'n': 11,\n",
       "          'Likes': 5,\n",
       "          'looks': 2,\n",
       "          'not': 5,\n",
       "          'important': 1,\n",
       "          'nor': 1,\n",
       "          'distance': 1,\n",
       "          'speed': 1,\n",
       "          'complete': 1,\n",
       "          'social': 12,\n",
       "          'circles': 1,\n",
       "          'GREEK': 4,\n",
       "          'AUST': 2,\n",
       "          'Early': 2,\n",
       "          'bbqs': 1,\n",
       "          'football': 1,\n",
       "          '20': 2,\n",
       "          '30': 13,\n",
       "          'HANDSOME': 1,\n",
       "          'Tall': 1,\n",
       "          'independant': 2,\n",
       "          'under': 4,\n",
       "          'standing': 1,\n",
       "          'mid': 4,\n",
       "          '50s': 2,\n",
       "          'classy': 3,\n",
       "          'wants': 1,\n",
       "          'retain': 2,\n",
       "          'her': 2,\n",
       "          'privacy': 1,\n",
       "          'still': 1,\n",
       "          'independance': 1,\n",
       "          'private': 1,\n",
       "          'HERE': 1,\n",
       "          'AM': 1,\n",
       "          'PICK': 2,\n",
       "          'ME': 4,\n",
       "          '!': 6,\n",
       "          'Now': 1,\n",
       "          'that': 1,\n",
       "          'your': 1,\n",
       "          'attention': 1,\n",
       "          '59': 3,\n",
       "          'active': 2,\n",
       "          'LIMESTONE': 1,\n",
       "          'COAST': 1,\n",
       "          'REGION': 1,\n",
       "          'Attractive': 4,\n",
       "          '46': 4,\n",
       "          'Interests': 5,\n",
       "          'incl': 2,\n",
       "          'self': 5,\n",
       "          'sufficiencies': 1,\n",
       "          'permaculture': 1,\n",
       "          'smoking': 1,\n",
       "          'loving': 6,\n",
       "          'LATE': 1,\n",
       "          'Single': 3,\n",
       "          'prof': 6,\n",
       "          ':': 6,\n",
       "          'Music': 1,\n",
       "          'theatre': 4,\n",
       "          'art': 1,\n",
       "          'environment': 1,\n",
       "          'share': 8,\n",
       "          'concerts': 1,\n",
       "          'unimportant': 1,\n",
       "          'RETIRED': 1,\n",
       "          'GENT': 4,\n",
       "          'Like': 1,\n",
       "          'caravan': 1,\n",
       "          'heading': 1,\n",
       "          'Darwin': 1,\n",
       "          'May': 1,\n",
       "          'driving': 1,\n",
       "          'ROMANTIC': 3,\n",
       "          'one': 1,\n",
       "          'child': 1,\n",
       "          'year': 2,\n",
       "          'Clare': 1,\n",
       "          'Barossa': 1,\n",
       "          'region': 1,\n",
       "          'northern': 1,\n",
       "          'suburbs': 5,\n",
       "          'TALL': 3,\n",
       "          'down': 3,\n",
       "          'earth': 3,\n",
       "          'easy': 4,\n",
       "          'understanding': 1,\n",
       "          'varied': 1,\n",
       "          'quality': 2,\n",
       "          'VIETNAMESE': 1,\n",
       "          'welcome': 4,\n",
       "          'WIDOW': 1,\n",
       "          'EARLY': 2,\n",
       "          'Self': 2,\n",
       "          'established': 1,\n",
       "          'UK': 1,\n",
       "          'born': 1,\n",
       "          'many': 3,\n",
       "          'Sports': 2,\n",
       "          'short': 2,\n",
       "          'petite': 3,\n",
       "          'any': 4,\n",
       "          'years': 5,\n",
       "          '31': 1,\n",
       "          'YO': 1,\n",
       "          'ok': 2,\n",
       "          'Eastern': 1,\n",
       "          'Suburbs': 4,\n",
       "          'Male': 12,\n",
       "          'blond': 1,\n",
       "          'outgoing': 3,\n",
       "          'bet': 1,\n",
       "          'easygoing': 3,\n",
       "          'YEAR': 1,\n",
       "          'OLD': 2,\n",
       "          'Working': 1,\n",
       "          'Would': 5,\n",
       "          'CENTRAL': 1,\n",
       "          'VICTORIAN': 1,\n",
       "          'Dad': 1,\n",
       "          'teen': 1,\n",
       "          'daughters': 1,\n",
       "          'HEALTHY': 1,\n",
       "          'emp': 1,\n",
       "          'tradesman': 1,\n",
       "          'NS': 5,\n",
       "          'Indian': 2,\n",
       "          'Sri': 1,\n",
       "          'Lankan': 1,\n",
       "          'Olive': 1,\n",
       "          'Dark': 2,\n",
       "          'Complexion': 1,\n",
       "          '48': 5,\n",
       "          'F': 4,\n",
       "          'dship': 1,\n",
       "          'Poss': 2,\n",
       "          'rel': 1,\n",
       "          'MATURE': 1,\n",
       "          'N': 12,\n",
       "          'Non': 3,\n",
       "          'Asian': 5,\n",
       "          'Sexy': 1,\n",
       "          'WELL': 1,\n",
       "          'DRESSED': 1,\n",
       "          'emotionally': 1,\n",
       "          '37': 4,\n",
       "          'full': 2,\n",
       "          'figured': 1,\n",
       "          'shy': 1,\n",
       "          'D': 12,\n",
       "          'NRL': 1,\n",
       "          'nature': 1,\n",
       "          'time': 3,\n",
       "          'DtoE': 5,\n",
       "          'SOH': 4,\n",
       "          'Fship': 3,\n",
       "          'poss': 11,\n",
       "          'Rship': 1,\n",
       "          'replies': 2,\n",
       "          'only': 1,\n",
       "          'ALA': 2,\n",
       "          'Lots': 1,\n",
       "          'friends': 1,\n",
       "          'but': 4,\n",
       "          'lonely': 2,\n",
       "          '57YRS': 1,\n",
       "          'WLTM': 11,\n",
       "          'Lady': 7,\n",
       "          'outings': 5,\n",
       "          'weekends': 3,\n",
       "          'perm': 2,\n",
       "          'if': 2,\n",
       "          'suited': 1,\n",
       "          'Nationality': 1,\n",
       "          '34yo': 1,\n",
       "          'tractive': 1,\n",
       "          'Ladies': 1,\n",
       "          'are': 3,\n",
       "          'poor': 1,\n",
       "          'work': 2,\n",
       "          'career': 1,\n",
       "          'Have': 1,\n",
       "          'always': 1,\n",
       "          'connected': 1,\n",
       "          'more': 1,\n",
       "          'Women': 1,\n",
       "          'TAINING': 1,\n",
       "          'interesting': 1,\n",
       "          '46yo': 1,\n",
       "          'Prof': 2,\n",
       "          'Kind': 1,\n",
       "          'listener': 2,\n",
       "          'having': 1,\n",
       "          'Witty': 1,\n",
       "          'humorous': 1,\n",
       "          'comb': 1,\n",
       "          'responsible': 2,\n",
       "          'reading': 2,\n",
       "          'being': 3,\n",
       "          'company': 3,\n",
       "          'beginning': 1,\n",
       "          'exciting': 2,\n",
       "          '57yrs': 1,\n",
       "          '177cm': 1,\n",
       "          'meeting': 1,\n",
       "          'sim': 2,\n",
       "          'int': 2,\n",
       "          'Please': 1,\n",
       "          'send': 1,\n",
       "          'photo': 2,\n",
       "          'GENTLEMAN': 1,\n",
       "          'cooking': 2,\n",
       "          'house': 2,\n",
       "          'gardening': 5,\n",
       "          'wild': 1,\n",
       "          'HI': 1,\n",
       "          'SWM': 3,\n",
       "          '54y': 1,\n",
       "          'nts': 1,\n",
       "          'supporting': 1,\n",
       "          'happy': 3,\n",
       "          'nat': 1,\n",
       "          'pamper': 1,\n",
       "          'roll': 1,\n",
       "          'loves': 4,\n",
       "          'hurry': 1,\n",
       "          'Is': 1,\n",
       "          'Woman': 2,\n",
       "          'spend': 1,\n",
       "          '1': 2,\n",
       "          'weekend': 2,\n",
       "          'month': 1,\n",
       "          'Charters': 1,\n",
       "          'Towers': 1,\n",
       "          'especially': 1,\n",
       "          'festival': 1,\n",
       "          'so': 2,\n",
       "          'please': 3,\n",
       "          'write': 1,\n",
       "          'Ref': 1,\n",
       "          '8826': 1,\n",
       "          'PROFESSIONAL': 1,\n",
       "          'walking': 2,\n",
       "          'bch': 2,\n",
       "          'amongst': 1,\n",
       "          'other': 3,\n",
       "          'Christian': 1,\n",
       "          '178cm': 1,\n",
       "          '79kg': 1,\n",
       "          'Clean': 1,\n",
       "          'cut': 1,\n",
       "          'intelligent': 3,\n",
       "          'natur': 1,\n",
       "          'ist': 1,\n",
       "          'minded': 1,\n",
       "          'red': 1,\n",
       "          'hd': 1,\n",
       "          'brunette': 2,\n",
       "          'eurasian': 1,\n",
       "          'Home': 1,\n",
       "          'My': 2,\n",
       "          '70': 1,\n",
       "          'yrs': 4,\n",
       "          'reliable': 3,\n",
       "          'ASIAN': 5,\n",
       "          '+': 7,\n",
       "          'SOUGHT': 1,\n",
       "          'BY': 1,\n",
       "          'Aussie': 4,\n",
       "          'R': 4,\n",
       "          'Kids': 1,\n",
       "          'OK': 3,\n",
       "          'as': 1,\n",
       "          'family': 3,\n",
       "          'Nice': 1,\n",
       "          'Businessman': 1,\n",
       "          'f': 13,\n",
       "          'ATHLETIC': 1,\n",
       "          'gen': 3,\n",
       "          'Morn': 1,\n",
       "          'Pen': 2,\n",
       "          'Are': 2,\n",
       "          '50yo': 3,\n",
       "          'SD': 1,\n",
       "          'Caring': 1,\n",
       "          'thats': 1,\n",
       "          'seek': 1,\n",
       "          'ing': 4,\n",
       "          'casual': 6,\n",
       "          'meetings': 4,\n",
       "          'mature': 1,\n",
       "          'ladies': 1,\n",
       "          'BRIGHT': 1,\n",
       "          'Boy': 1,\n",
       "          'brain': 1,\n",
       "          'cook': 1,\n",
       "          'Physique': 1,\n",
       "          '42': 6,\n",
       "          'fair': 1,\n",
       "          'd': 3,\n",
       "          'lunch': 1,\n",
       "          'converse': 1,\n",
       "          'Essendon': 1,\n",
       "          'inner': 2,\n",
       "          'Bright': 1,\n",
       "          'positive': 1,\n",
       "          'LOVING': 1,\n",
       "          'Female': 1,\n",
       "          'dressed': 1,\n",
       "          'rom': 1,\n",
       "          'elegance': 1,\n",
       "          'CASUAL': 1,\n",
       "          'weekday': 1,\n",
       "          'obligation': 1,\n",
       "          'East': 4,\n",
       "          'EUROPEAN': 1,\n",
       "          '36yo': 1,\n",
       "          'MARRIED': 9,\n",
       "          'attr': 3,\n",
       "          'encounter': 1,\n",
       "          '41yo': 1,\n",
       "          'Greek': 2,\n",
       "          '37yrs': 1,\n",
       "          'Good': 3,\n",
       "          'larger': 1,\n",
       "          'Preferably': 1,\n",
       "          'nth': 1,\n",
       "          'subs': 4,\n",
       "          'LIKE': 1,\n",
       "          'TO': 5,\n",
       "          'BE': 2,\n",
       "          'MISTRESS': 1,\n",
       "          'YOUR': 1,\n",
       "          'treated': 1,\n",
       "          'Bold': 1,\n",
       "          'precious': 1,\n",
       "          'available': 1,\n",
       "          'during': 1,\n",
       "          'day': 1,\n",
       "          'appreciate': 1,\n",
       "          'Lets': 1,\n",
       "          'Talk': 1,\n",
       "          ')': 1,\n",
       "          'LJ': 1,\n",
       "          'JS': 1,\n",
       "          'Bayswater': 1,\n",
       "          'Be': 1,\n",
       "          'mine': 1,\n",
       "          '26': 1,\n",
       "          'South': 1,\n",
       "          'burly': 1,\n",
       "          'beared': 1,\n",
       "          'intimate': 3,\n",
       "          'ston': 1,\n",
       "          'MID': 1,\n",
       "          'strings': 1,\n",
       "          'attached': 1,\n",
       "          'HANDYMAN': 1,\n",
       "          'missing': 2,\n",
       "          'TLC': 1,\n",
       "          'position': 1,\n",
       "          'MT': 1,\n",
       "          'ELIZA': 1,\n",
       "          'Business': 1,\n",
       "          'gorg': 1,\n",
       "          'passion': 1,\n",
       "          'running': 1,\n",
       "          'LTR': 1,\n",
       "          'girl': 1,\n",
       "          'serious': 1,\n",
       "          'Man': 1,\n",
       "          'assertive': 1,\n",
       "          'kind': 1,\n",
       "          'stylish': 1,\n",
       "          'For': 1,\n",
       "          'wine': 3,\n",
       "          'Northcote': 1,\n",
       "          'Married': 2,\n",
       "          'Call': 1,\n",
       "          'PROF': 1,\n",
       "          '68': 1,\n",
       "          'Mornington': 1,\n",
       "          'SCORPIO': 1,\n",
       "          '47': 6,\n",
       "          'passionate': 1,\n",
       "          'affair': 2,\n",
       "          '6ft': 3,\n",
       "          '95': 1,\n",
       "          'kg': 2,\n",
       "          'def': 1,\n",
       "          'Knox': 1,\n",
       "          '4WD': 1,\n",
       "          '49': 3,\n",
       "          'Fe': 1,\n",
       "          'Ok': 1,\n",
       "          'pref': 2,\n",
       "          'STERN': 1,\n",
       "          'HEADMASTER': 1,\n",
       "          'firm': 1,\n",
       "          'hand': 1,\n",
       "          'naughty': 1,\n",
       "          'Sgl': 1,\n",
       "          'ave': 1,\n",
       "          'bi': 1,\n",
       "          'curious': 1,\n",
       "          'dad': 1,\n",
       "          'sub': 1,\n",
       "          '\"': 1,\n",
       "          'FAIR': 1,\n",
       "          'affectionate': 2,\n",
       "          'loyal': 2,\n",
       "          'WANT': 1,\n",
       "          'SPOILT': 1,\n",
       "          'Warm': 1,\n",
       "          'natural': 2,\n",
       "          'sgl': 2,\n",
       "          '38yo': 1,\n",
       "          'YOUNG': 1,\n",
       "          'girls': 1,\n",
       "          '23': 1,\n",
       "          'YR': 1,\n",
       "          'attract': 1,\n",
       "          'uni': 1,\n",
       "          'student': 1,\n",
       "          'daytime': 1,\n",
       "          'FRIEND': 1,\n",
       "          'LOVER': 2,\n",
       "          'find': 1,\n",
       "          'presented': 3,\n",
       "          'athletic': 1,\n",
       "          'cuddly': 1,\n",
       "          'ATTRACT': 1,\n",
       "          '32': 4,\n",
       "          'younger': 1,\n",
       "          '18': 1,\n",
       "          '27': 1,\n",
       "          '52': 3,\n",
       "          'Aust': 2,\n",
       "          'GOSH': 1,\n",
       "          'busty': 1,\n",
       "          'curvaceous': 1,\n",
       "          'DISCIPLINARIAN': 1,\n",
       "          'Euro': 1,\n",
       "          'Guy': 3,\n",
       "          'Nth': 1,\n",
       "          'Subs': 2,\n",
       "          'into': 3,\n",
       "          'Genuine': 2,\n",
       "          '52yo': 1,\n",
       "          'HARLEY': 1,\n",
       "          'RIDER': 1,\n",
       "          'HERPES': 1,\n",
       "          'dinners': 2,\n",
       "          'JAPANESE': 1,\n",
       "          'b': 1,\n",
       "          'LOVE': 2,\n",
       "          'widowed': 1,\n",
       "          'over': 1,\n",
       "          'North': 1,\n",
       "          'West': 1,\n",
       "          '34': 1,\n",
       "          'travels': 1,\n",
       "          'lot': 1,\n",
       "          'personal': 1,\n",
       "          'trainer': 1,\n",
       "          'Sth': 1,\n",
       "          '42yo': 1,\n",
       "          'olive': 1,\n",
       "          'skin': 1,\n",
       "          'dog': 1,\n",
       "          'thinks': 1,\n",
       "          'he': 1,\n",
       "          'human': 1,\n",
       "          'partner': 2,\n",
       "          'spoilt': 1,\n",
       "          'commitment': 1,\n",
       "          'OLDER': 1,\n",
       "          'relation': 2,\n",
       "          'adventure': 2,\n",
       "          'NICE': 1,\n",
       "          'GUYS': 1,\n",
       "          'Aged': 1,\n",
       "          'two': 1,\n",
       "          'females': 1,\n",
       "          'night': 1,\n",
       "          'clubbing': 1,\n",
       "          'COUNTRY': 2,\n",
       "          'BOY': 1,\n",
       "          '+,': 1,\n",
       "          'soh': 2,\n",
       "          'Harley': 1,\n",
       "          'rider': 1,\n",
       "          'semi': 1,\n",
       "          'retired': 1,\n",
       "          'LITTLE': 1,\n",
       "          'MAGIC': 1,\n",
       "          'articulate': 3,\n",
       "          'conversation': 3,\n",
       "          'little': 1,\n",
       "          'green': 1,\n",
       "          'eyed': 1,\n",
       "          'ABOUND': 1,\n",
       "          'CAREFREE': 1,\n",
       "          'Vibrant': 2,\n",
       "          'creative': 1,\n",
       "          'adventurous': 2,\n",
       "          'executive': 1,\n",
       "          'very': 2,\n",
       "          'flexible': 1,\n",
       "          'laugh': 1,\n",
       "          'contrasts': 1,\n",
       "          'finer': 1,\n",
       "          'outlooks': 1,\n",
       "          'ABOUT': 2,\n",
       "          'Easygoing': 2,\n",
       "          '511': 2,\n",
       "          'YEARS': 1,\n",
       "          'Southern': 2,\n",
       "          'lifestyle': 1,\n",
       "          'ADELAIDE': 1,\n",
       "          'HILLS': 1,\n",
       "          'ADVENTUROUS': 1,\n",
       "          'sensitive': 1,\n",
       "          'vegetarian': 2,\n",
       "          '\",': 2,\n",
       "          'travelled': 1,\n",
       "          'AGED': 1,\n",
       "          'dark': 2,\n",
       "          'Interested': 1,\n",
       "          'basketball': 1,\n",
       "          'cricket': 1,\n",
       "          '10': 2,\n",
       "          'pin': 1,\n",
       "          'bowling': 1,\n",
       "          'SANFL': 1,\n",
       "          'travelling': 2,\n",
       "          'nightclubs': 1,\n",
       "          'TERTIARY': 1,\n",
       "          'Educated': 1,\n",
       "          '53': 3,\n",
       "          'V8': 1,\n",
       "          'motor': 1,\n",
       "          'racing': 2,\n",
       "          '65': 3,\n",
       "          'EMPLOYED': 1,\n",
       "          'haired': 1,\n",
       "          'strictly': 1,\n",
       "          '41': 2,\n",
       "          'No': 2,\n",
       "          'normal': 2,\n",
       "          'hours': 1,\n",
       "          'near': 1,\n",
       "          'City': 1,\n",
       "          'EASY': 1,\n",
       "          'GOING': 1,\n",
       "          'Intelligent': 1,\n",
       "          'exercise': 1,\n",
       "          'daily': 1,\n",
       "          'trustworthy': 1,\n",
       "          'integrity': 1,\n",
       "          'morals': 1,\n",
       "          'Children': 1,\n",
       "          'BALLROOM': 1,\n",
       "          'DANCING': 2,\n",
       "          'SEEKING': 2,\n",
       "          'PARTNER': 1,\n",
       "          'Me': 1,\n",
       "          'slimmish': 1,\n",
       "          'after': 1,\n",
       "          'dancing': 4,\n",
       "          'again': 1,\n",
       "          'must': 2,\n",
       "          'than': 1,\n",
       "          'avoid': 1,\n",
       "          'complications': 1,\n",
       "          'unattached': 1,\n",
       "          'CITY': 1,\n",
       "          'GIRL': 1,\n",
       "          'SEEKS': 1,\n",
       "          'ROMANCE': 1,\n",
       "          'farmer': 1,\n",
       "          'land': 1,\n",
       "          '),': 2,\n",
       "          'clean': 1,\n",
       "          'shaven': 1,\n",
       "          'strong': 1,\n",
       "          'values': 1,\n",
       "          'Other': 1,\n",
       "          'callers': 1,\n",
       "          'reply': 2,\n",
       "          'DO': 1,\n",
       "          'DANCE': 1,\n",
       "          'Rock': 1,\n",
       "          'Roll': 1,\n",
       "          'dance': 2,\n",
       "          'Friendship': 3,\n",
       "          'maybe': 2,\n",
       "          'leading': 1,\n",
       "          '510': 1,\n",
       "          'western': 1,\n",
       "          'southern': 1,\n",
       "          '5ft': 1,\n",
       "          'large': 1,\n",
       "          'nonsmoker': 1,\n",
       "          'mother': 1,\n",
       "          '15': 1,\n",
       "          'boy': 1,\n",
       "          'Lives': 1,\n",
       "          'NE': 1,\n",
       "          'FEISTY': 1,\n",
       "          'FOXY': 1,\n",
       "          'YUMMY': 1,\n",
       "          'GRANDMUMMY': 1,\n",
       "          'laughter': 1,\n",
       "          'least': 1,\n",
       "          'enough': 2,\n",
       "          'comfortable': 2,\n",
       "          'just': 1,\n",
       "          'watch': 1,\n",
       "          'fanatical': 1,\n",
       "          ...})"
      ]
     },
     "execution_count": 23,
     "metadata": {
      "tags": []
     },
     "output_type": "execute_result"
    }
   ],
   "source": [
    "FreqDist(text8)"
   ]
  },
  {
   "cell_type": "code",
   "execution_count": 24,
   "metadata": {
    "colab": {
     "base_uri": "https://localhost:8080/"
    },
    "executionInfo": {
     "elapsed": 494,
     "status": "ok",
     "timestamp": 1617464194403,
     "user": {
      "displayName": "Sanjiv Das",
      "photoUrl": "https://lh3.googleusercontent.com/a-/AOh14GhgUU3RgThSxLUq6NKSN2tDGDl8IQdtHMvdaZPE=s64",
      "userId": "06377870171053566924"
     },
     "user_tz": 420
    },
    "id": "xwmu0w21HoSp",
    "outputId": "4db4deb3-9c5f-4ce9-931c-0ed8274b8ac5"
   },
   "outputs": [
    {
     "data": {
      "text/plain": [
       "[(',', 539),\n",
       " ('.', 353),\n",
       " ('/', 110),\n",
       " ('for', 99),\n",
       " ('and', 74),\n",
       " ('to', 74),\n",
       " ('lady', 68),\n",
       " ('-', 66),\n",
       " ('seeks', 60),\n",
       " ('a', 52),\n",
       " ('with', 44),\n",
       " ('S', 36),\n",
       " ('ship', 33),\n",
       " ('&', 30),\n",
       " ('relationship', 29),\n",
       " ('fun', 28),\n",
       " ('in', 27),\n",
       " ('slim', 27),\n",
       " ('build', 27),\n",
       " ('o', 26)]"
      ]
     },
     "execution_count": 24,
     "metadata": {
      "tags": []
     },
     "output_type": "execute_result"
    }
   ],
   "source": [
    "FreqDist(text8).most_common(20)"
   ]
  },
  {
   "cell_type": "markdown",
   "metadata": {
    "id": "axJWonUPHoSt"
   },
   "source": [
    "## Bigrams\n",
    "\n",
    "These are pairs of words that occur consecutively. "
   ]
  },
  {
   "cell_type": "code",
   "execution_count": 25,
   "metadata": {
    "colab": {
     "base_uri": "https://localhost:8080/"
    },
    "executionInfo": {
     "elapsed": 1151,
     "status": "ok",
     "timestamp": 1617464209151,
     "user": {
      "displayName": "Sanjiv Das",
      "photoUrl": "https://lh3.googleusercontent.com/a-/AOh14GhgUU3RgThSxLUq6NKSN2tDGDl8IQdtHMvdaZPE=s64",
      "userId": "06377870171053566924"
     },
     "user_tz": 420
    },
    "id": "7En_G4XIHoSu",
    "outputId": "d9de17dd-fec9-4992-850f-ee742f1d8ce4"
   },
   "outputs": [
    {
     "data": {
      "text/plain": [
       "[('The', 'man'),\n",
       " ('man', 'on'),\n",
       " ('on', 'the'),\n",
       " ('the', 'horse'),\n",
       " ('horse', 'tilted'),\n",
       " ('tilted', 'at'),\n",
       " ('at', 'windmills.'),\n",
       " ('windmills.', 'The'),\n",
       " ('The', 'girl'),\n",
       " ('girl', 'on'),\n",
       " ('on', 'the'),\n",
       " ('the', 'horse'),\n",
       " ('horse', 'was'),\n",
       " ('was', 'more'),\n",
       " ('more', 'sensible.')]"
      ]
     },
     "execution_count": 25,
     "metadata": {
      "tags": []
     },
     "output_type": "execute_result"
    }
   ],
   "source": [
    "txt = \"The man on the horse tilted at windmills. The girl on the horse was more sensible.\"\n",
    "list(bigrams(txt.split(\" \")))"
   ]
  },
  {
   "cell_type": "markdown",
   "metadata": {
    "id": "wR-GOeZkYszF"
   },
   "source": [
    "## Tokenizers"
   ]
  },
  {
   "cell_type": "code",
   "execution_count": 26,
   "metadata": {
    "colab": {
     "base_uri": "https://localhost:8080/"
    },
    "executionInfo": {
     "elapsed": 1251,
     "status": "ok",
     "timestamp": 1617464222266,
     "user": {
      "displayName": "Sanjiv Das",
      "photoUrl": "https://lh3.googleusercontent.com/a-/AOh14GhgUU3RgThSxLUq6NKSN2tDGDl8IQdtHMvdaZPE=s64",
      "userId": "06377870171053566924"
     },
     "user_tz": 420
    },
    "id": "QvTuC2OCHoS0",
    "outputId": "c2421e3e-8400-4c0b-f4ac-332509564b95"
   },
   "outputs": [
    {
     "name": "stdout",
     "output_type": "stream",
     "text": [
      "[nltk_data] Downloading package punkt to /root/nltk_data...\n",
      "[nltk_data]   Unzipping tokenizers/punkt.zip.\n",
      "<Text: The man on the horse tilted at windmills...>\n",
      "<class 'nltk.text.Text'>\n"
     ]
    },
    {
     "data": {
      "text/plain": [
       "['The',\n",
       " 'man',\n",
       " 'on',\n",
       " 'the',\n",
       " 'horse',\n",
       " 'tilted',\n",
       " 'at',\n",
       " 'windmills',\n",
       " '.',\n",
       " 'The',\n",
       " 'girl',\n",
       " 'on',\n",
       " 'the',\n",
       " 'horse',\n",
       " 'was',\n",
       " 'more',\n",
       " 'sensible',\n",
       " '.']"
      ]
     },
     "execution_count": 26,
     "metadata": {
      "tags": []
     },
     "output_type": "execute_result"
    }
   ],
   "source": [
    "# Tokenizers are the most useful things!\n",
    "from nltk.tokenize import word_tokenize\n",
    "nltk.download(\"punkt\")\n",
    "\n",
    "words = nltk.Text(word_tokenize(txt))\n",
    "print(words)\n",
    "print(type(words))\n",
    "words = [w for w in words]\n",
    "words"
   ]
  },
  {
   "cell_type": "markdown",
   "metadata": {
    "id": "-vBmBoXMHoS0"
   },
   "source": [
    "## Collocations\n",
    "\n",
    "These are the most frequent bigrams. \n",
    "\n",
    "https://www.nltk.org/howto/collocations.html"
   ]
  },
  {
   "cell_type": "code",
   "execution_count": 27,
   "metadata": {
    "colab": {
     "base_uri": "https://localhost:8080/"
    },
    "executionInfo": {
     "elapsed": 583,
     "status": "ok",
     "timestamp": 1617464341041,
     "user": {
      "displayName": "Sanjiv Das",
      "photoUrl": "https://lh3.googleusercontent.com/a-/AOh14GhgUU3RgThSxLUq6NKSN2tDGDl8IQdtHMvdaZPE=s64",
      "userId": "06377870171053566924"
     },
     "user_tz": 420
    },
    "id": "NuCLagmgUTPA",
    "outputId": "22af3af8-7c8a-498e-afb9-fe376635448b"
   },
   "outputs": [
    {
     "data": {
      "text/plain": [
       "[(('on', 'the'), 0.1111111111111111),\n",
       " (('the', 'horse'), 0.1111111111111111),\n",
       " (('.', 'The'), 0.05555555555555555),\n",
       " (('The', 'girl'), 0.05555555555555555),\n",
       " (('The', 'man'), 0.05555555555555555),\n",
       " (('at', 'windmills'), 0.05555555555555555),\n",
       " (('girl', 'on'), 0.05555555555555555),\n",
       " (('horse', 'tilted'), 0.05555555555555555),\n",
       " (('horse', 'was'), 0.05555555555555555),\n",
       " (('man', 'on'), 0.05555555555555555),\n",
       " (('more', 'sensible'), 0.05555555555555555),\n",
       " (('sensible', '.'), 0.05555555555555555),\n",
       " (('tilted', 'at'), 0.05555555555555555),\n",
       " (('was', 'more'), 0.05555555555555555),\n",
       " (('windmills', '.'), 0.05555555555555555)]"
      ]
     },
     "execution_count": 27,
     "metadata": {
      "tags": []
     },
     "output_type": "execute_result"
    }
   ],
   "source": [
    "from nltk.collocations import *\n",
    "bigram_measures = nltk.collocations.BigramAssocMeasures()\n",
    "res = BigramCollocationFinder.from_words(words)\n",
    "res.score_ngrams(bigram_measures.raw_freq)"
   ]
  },
  {
   "cell_type": "code",
   "execution_count": 28,
   "metadata": {
    "colab": {
     "base_uri": "https://localhost:8080/"
    },
    "executionInfo": {
     "elapsed": 371,
     "status": "ok",
     "timestamp": 1617464355073,
     "user": {
      "displayName": "Sanjiv Das",
      "photoUrl": "https://lh3.googleusercontent.com/a-/AOh14GhgUU3RgThSxLUq6NKSN2tDGDl8IQdtHMvdaZPE=s64",
      "userId": "06377870171053566924"
     },
     "user_tz": 420
    },
    "id": "zcFFlGzXHoS5",
    "outputId": "0401b5ba-258b-4fea-f552-0172ecd26e56"
   },
   "outputs": [
    {
     "name": "stdout",
     "output_type": "stream",
     "text": [
      "[nltk_data] Downloading package stopwords to /root/nltk_data...\n",
      "[nltk_data]   Unzipping corpora/stopwords.zip.\n",
      "179\n"
     ]
    },
    {
     "data": {
      "text/plain": [
       "{'a',\n",
       " 'about',\n",
       " 'above',\n",
       " 'after',\n",
       " 'again',\n",
       " 'against',\n",
       " 'ain',\n",
       " 'all',\n",
       " 'am',\n",
       " 'an',\n",
       " 'and',\n",
       " 'any',\n",
       " 'are',\n",
       " 'aren',\n",
       " \"aren't\",\n",
       " 'as',\n",
       " 'at',\n",
       " 'be',\n",
       " 'because',\n",
       " 'been',\n",
       " 'before',\n",
       " 'being',\n",
       " 'below',\n",
       " 'between',\n",
       " 'both',\n",
       " 'but',\n",
       " 'by',\n",
       " 'can',\n",
       " 'couldn',\n",
       " \"couldn't\",\n",
       " 'd',\n",
       " 'did',\n",
       " 'didn',\n",
       " \"didn't\",\n",
       " 'do',\n",
       " 'does',\n",
       " 'doesn',\n",
       " \"doesn't\",\n",
       " 'doing',\n",
       " 'don',\n",
       " \"don't\",\n",
       " 'down',\n",
       " 'during',\n",
       " 'each',\n",
       " 'few',\n",
       " 'for',\n",
       " 'from',\n",
       " 'further',\n",
       " 'had',\n",
       " 'hadn',\n",
       " \"hadn't\",\n",
       " 'has',\n",
       " 'hasn',\n",
       " \"hasn't\",\n",
       " 'have',\n",
       " 'haven',\n",
       " \"haven't\",\n",
       " 'having',\n",
       " 'he',\n",
       " 'her',\n",
       " 'here',\n",
       " 'hers',\n",
       " 'herself',\n",
       " 'him',\n",
       " 'himself',\n",
       " 'his',\n",
       " 'how',\n",
       " 'i',\n",
       " 'if',\n",
       " 'in',\n",
       " 'into',\n",
       " 'is',\n",
       " 'isn',\n",
       " \"isn't\",\n",
       " 'it',\n",
       " \"it's\",\n",
       " 'its',\n",
       " 'itself',\n",
       " 'just',\n",
       " 'll',\n",
       " 'm',\n",
       " 'ma',\n",
       " 'me',\n",
       " 'mightn',\n",
       " \"mightn't\",\n",
       " 'more',\n",
       " 'most',\n",
       " 'mustn',\n",
       " \"mustn't\",\n",
       " 'my',\n",
       " 'myself',\n",
       " 'needn',\n",
       " \"needn't\",\n",
       " 'no',\n",
       " 'nor',\n",
       " 'not',\n",
       " 'now',\n",
       " 'o',\n",
       " 'of',\n",
       " 'off',\n",
       " 'on',\n",
       " 'once',\n",
       " 'only',\n",
       " 'or',\n",
       " 'other',\n",
       " 'our',\n",
       " 'ours',\n",
       " 'ourselves',\n",
       " 'out',\n",
       " 'over',\n",
       " 'own',\n",
       " 're',\n",
       " 's',\n",
       " 'same',\n",
       " 'shan',\n",
       " \"shan't\",\n",
       " 'she',\n",
       " \"she's\",\n",
       " 'should',\n",
       " \"should've\",\n",
       " 'shouldn',\n",
       " \"shouldn't\",\n",
       " 'so',\n",
       " 'some',\n",
       " 'such',\n",
       " 't',\n",
       " 'than',\n",
       " 'that',\n",
       " \"that'll\",\n",
       " 'the',\n",
       " 'their',\n",
       " 'theirs',\n",
       " 'them',\n",
       " 'themselves',\n",
       " 'then',\n",
       " 'there',\n",
       " 'these',\n",
       " 'they',\n",
       " 'this',\n",
       " 'those',\n",
       " 'through',\n",
       " 'to',\n",
       " 'too',\n",
       " 'under',\n",
       " 'until',\n",
       " 'up',\n",
       " 've',\n",
       " 'very',\n",
       " 'was',\n",
       " 'wasn',\n",
       " \"wasn't\",\n",
       " 'we',\n",
       " 'were',\n",
       " 'weren',\n",
       " \"weren't\",\n",
       " 'what',\n",
       " 'when',\n",
       " 'where',\n",
       " 'which',\n",
       " 'while',\n",
       " 'who',\n",
       " 'whom',\n",
       " 'why',\n",
       " 'will',\n",
       " 'with',\n",
       " 'won',\n",
       " \"won't\",\n",
       " 'wouldn',\n",
       " \"wouldn't\",\n",
       " 'y',\n",
       " 'you',\n",
       " \"you'd\",\n",
       " \"you'll\",\n",
       " \"you're\",\n",
       " \"you've\",\n",
       " 'your',\n",
       " 'yours',\n",
       " 'yourself',\n",
       " 'yourselves'}"
      ]
     },
     "execution_count": 28,
     "metadata": {
      "tags": []
     },
     "output_type": "execute_result"
    }
   ],
   "source": [
    "# Stopwords are very common words\n",
    "nltk.download(\"stopwords\")\n",
    "from nltk.corpus import stopwords\n",
    "stopWords = set(stopwords.words('english'))\n",
    "print(len(stopWords))\n",
    "stopWords"
   ]
  },
  {
   "cell_type": "markdown",
   "metadata": {
    "id": "WGxezRF8HoS-"
   },
   "source": [
    "## Functions Defined for NLTK's Frequency Distributions (sec 3.4)\n",
    "```\n",
    "fdist = FreqDist(samples)\tcreate a frequency distribution containing given samples\n",
    "fdist[sample] += 1\t        increment the count for this sample\n",
    "fdist['monstrous']\t        count of the number of times a given sample occurred\n",
    "fdist.freq('monstrous')\t    frequency of a given sample\n",
    "fdist.N()\t                total number of samples\n",
    "fdist.most_common(n)\t    the n most common samples and their frequencies\n",
    "for sample in fdist:\t    iterate over the samples\n",
    "fdist.max()\t                sample with the greatest count\n",
    "fdist.tabulate()\t        tabulate the frequency distribution\n",
    "fdist.plot()\t            graphical plot of the frequency distribution\n",
    "fdist.plot(cumulative=True)\tcumulative plot of the frequency distribution\n",
    "fdist1 |= fdist2\t        update fdist1 with counts from fdist2\n",
    "fdist1 < fdist2\t            test if samples in fdist1 occur less frequently than in fdist2\n",
    "```"
   ]
  },
  {
   "cell_type": "code",
   "execution_count": 29,
   "metadata": {
    "colab": {
     "base_uri": "https://localhost:8080/"
    },
    "executionInfo": {
     "elapsed": 571,
     "status": "ok",
     "timestamp": 1617464414364,
     "user": {
      "displayName": "Sanjiv Das",
      "photoUrl": "https://lh3.googleusercontent.com/a-/AOh14GhgUU3RgThSxLUq6NKSN2tDGDl8IQdtHMvdaZPE=s64",
      "userId": "06377870171053566924"
     },
     "user_tz": 420
    },
    "id": "Y5_UsfgjHoS_",
    "outputId": "74b69934-0587-49de-bb5f-8c27922eed5e"
   },
   "outputs": [
    {
     "name": "stdout",
     "output_type": "stream",
     "text": [
      "The man on the horse tilted at windmills. The girl on the horse was more sensible.\n"
     ]
    },
    {
     "data": {
      "text/plain": [
       "FreqDist({' ': 15,\n",
       "          '.': 2,\n",
       "          'T': 2,\n",
       "          'a': 3,\n",
       "          'b': 1,\n",
       "          'd': 2,\n",
       "          'e': 10,\n",
       "          'g': 1,\n",
       "          'h': 6,\n",
       "          'i': 5,\n",
       "          'l': 5,\n",
       "          'm': 3,\n",
       "          'n': 5,\n",
       "          'o': 5,\n",
       "          'r': 4,\n",
       "          's': 6,\n",
       "          't': 5,\n",
       "          'w': 2})"
      ]
     },
     "execution_count": 29,
     "metadata": {
      "tags": []
     },
     "output_type": "execute_result"
    }
   ],
   "source": [
    "# Character counts, useful for compression algorithms for example\n",
    "# This will just use characters \n",
    "print(txt)\n",
    "fd = FreqDist(txt)\n",
    "fd"
   ]
  },
  {
   "cell_type": "code",
   "execution_count": 35,
   "metadata": {
    "colab": {
     "base_uri": "https://localhost:8080/"
    },
    "executionInfo": {
     "elapsed": 356,
     "status": "ok",
     "timestamp": 1617464534079,
     "user": {
      "displayName": "Sanjiv Das",
      "photoUrl": "https://lh3.googleusercontent.com/a-/AOh14GhgUU3RgThSxLUq6NKSN2tDGDl8IQdtHMvdaZPE=s64",
      "userId": "06377870171053566924"
     },
     "user_tz": 420
    },
    "id": "-qwgzFAiHoTD",
    "outputId": "cd55d77b-7aef-4b33-8ab4-3f6112ac382e"
   },
   "outputs": [
    {
     "name": "stdout",
     "output_type": "stream",
     "text": [
      "N = 82\n",
      "Count for a word = 10\n",
      "Prob for a word = 0.12195121951219512\n",
      "Most common words = [(' ', 15), ('e', 10), ('h', 6), ('s', 6), ('n', 5)]\n"
     ]
    }
   ],
   "source": [
    "print(\"N =\",fd.N())\n",
    "print('Count for a word =',fd['e'])\n",
    "print(\"Prob for a word =\",fd.freq('e'))\n",
    "print(\"Most common words =\",fd.most_common(5))"
   ]
  },
  {
   "cell_type": "code",
   "execution_count": 32,
   "metadata": {
    "colab": {
     "base_uri": "https://localhost:8080/"
    },
    "executionInfo": {
     "elapsed": 508,
     "status": "ok",
     "timestamp": 1617464491163,
     "user": {
      "displayName": "Sanjiv Das",
      "photoUrl": "https://lh3.googleusercontent.com/a-/AOh14GhgUU3RgThSxLUq6NKSN2tDGDl8IQdtHMvdaZPE=s64",
      "userId": "06377870171053566924"
     },
     "user_tz": 420
    },
    "id": "XqvG-OUTHoTG",
    "outputId": "ed6efe72-f262-46af-ad3b-2ceed86d3bd3"
   },
   "outputs": [
    {
     "name": "stdout",
     "output_type": "stream",
     "text": [
      "    e  h  s  n  o  t  i  l  r  m  a  T  d  w  .  g  b \n",
      "15 10  6  6  5  5  5  5  5  4  3  3  2  2  2  2  1  1 \n"
     ]
    }
   ],
   "source": [
    "fd.tabulate()"
   ]
  },
  {
   "cell_type": "code",
   "execution_count": 33,
   "metadata": {
    "colab": {
     "base_uri": "https://localhost:8080/",
     "height": 279
    },
    "executionInfo": {
     "elapsed": 667,
     "status": "ok",
     "timestamp": 1617464494150,
     "user": {
      "displayName": "Sanjiv Das",
      "photoUrl": "https://lh3.googleusercontent.com/a-/AOh14GhgUU3RgThSxLUq6NKSN2tDGDl8IQdtHMvdaZPE=s64",
      "userId": "06377870171053566924"
     },
     "user_tz": 420
    },
    "id": "1s0qv9zqHoTK",
    "outputId": "ad444db1-f0b9-4621-f4d3-d61cd215729c"
   },
   "outputs": [
    {
     "data": {
      "image/png": "[encoded data removed]",
      "text/plain": [
       "<Figure size 432x288 with 1 Axes>"
      ]
     },
     "metadata": {
      "needs_background": "light",
      "tags": []
     },
     "output_type": "display_data"
    }
   ],
   "source": [
    "fd.plot()"
   ]
  },
  {
   "cell_type": "code",
   "execution_count": 38,
   "metadata": {
    "colab": {
     "base_uri": "https://localhost:8080/"
    },
    "executionInfo": {
     "elapsed": 654,
     "status": "ok",
     "timestamp": 1617464741671,
     "user": {
      "displayName": "Sanjiv Das",
      "photoUrl": "https://lh3.googleusercontent.com/a-/AOh14GhgUU3RgThSxLUq6NKSN2tDGDl8IQdtHMvdaZPE=s64",
      "userId": "06377870171053566924"
     },
     "user_tz": 420
    },
    "id": "H3Siu-TIZxfm",
    "outputId": "9194aa3b-4585-412f-8a48-e7050c68bff7"
   },
   "outputs": [
    {
     "data": {
      "text/plain": [
       "FreqDist({'.': 2,\n",
       "          'The': 2,\n",
       "          'at': 1,\n",
       "          'girl': 1,\n",
       "          'horse': 2,\n",
       "          'man': 1,\n",
       "          'more': 1,\n",
       "          'on': 2,\n",
       "          'sensible': 1,\n",
       "          'the': 2,\n",
       "          'tilted': 1,\n",
       "          'was': 1,\n",
       "          'windmills': 1})"
      ]
     },
     "execution_count": 38,
     "metadata": {
      "tags": []
     },
     "output_type": "execute_result"
    }
   ],
   "source": [
    "toks = word_tokenize(txt)\n",
    "fd = FreqDist(toks)\n",
    "fd"
   ]
  },
  {
   "cell_type": "code",
   "execution_count": 40,
   "metadata": {
    "colab": {
     "base_uri": "https://localhost:8080/",
     "height": 334
    },
    "executionInfo": {
     "elapsed": 739,
     "status": "ok",
     "timestamp": 1617464785497,
     "user": {
      "displayName": "Sanjiv Das",
      "photoUrl": "https://lh3.googleusercontent.com/a-/AOh14GhgUU3RgThSxLUq6NKSN2tDGDl8IQdtHMvdaZPE=s64",
      "userId": "06377870171053566924"
     },
     "user_tz": 420
    },
    "id": "kxL2_oZTaUu1",
    "outputId": "b89eb267-6c88-4403-ab0b-eef7e03d9de1"
   },
   "outputs": [
    {
     "name": "stdout",
     "output_type": "stream",
     "text": [
      "2\n"
     ]
    },
    {
     "data": {
      "image/png": "[encoded data removed]",
      "text/plain": [
       "<Figure size 432x288 with 1 Axes>"
      ]
     },
     "metadata": {
      "needs_background": "light",
      "tags": []
     },
     "output_type": "display_data"
    }
   ],
   "source": [
    "print(fd['horse'])\n",
    "fd.plot()"
   ]
  },
  {
   "cell_type": "markdown",
   "metadata": {
    "id": "lxEktLW-HoTN"
   },
   "source": [
    "## Entity Extraction\n",
    "\n",
    "Entities are elements of the data that fall into specific pre-defined categories. They are part of the data model. For instance, when extracting financial data from the SEC, we get various entity types: companies, directors, loans, securities, products, accounting line items, etc. We need to identify these accurately when they appear in financial text. \n",
    "\n",
    "EE is more technically called Named Entity Recognition (NER). Other terms used are entity identification or entity extraction. We'll just call it NER. "
   ]
  },
  {
   "cell_type": "markdown",
   "metadata": {
    "id": "DlRPOt74WDJx"
   },
   "source": [
    "There are various well-known packages that provide NER:\n",
    "- [NLTK](https://www.nltk.org/) (which we are familiar with) \n",
    "- General Architecture for Text Engineering [GATE](https://gate.ac.uk/).\n",
    "- Stanford Named Entity Recognizer, [SNER](https://nlp.stanford.edu/software/CRF-NER.shtml)\n",
    "- [spaCy](https://spacy.io/) (we will see more below)\n",
    "- [GluonNLP](https://gluon-nlp.mxnet.io/model_zoo/ner/index.html), NER with BERT, it uses a language model that is bidirectional, i.e., keeps track of conditional probabilities of forward and backward sequences of words. \n",
    "- [AWS Comprehend NER](https://docs.aws.amazon.com/comprehend/latest/dg/get-started-api-entities.html). There is a Python SDK for this. [Comprehend documentation](https://docs.aws.amazon.com/comprehend/index.html). "
   ]
  },
  {
   "cell_type": "markdown",
   "metadata": {
    "id": "W0vdAa5zUTPQ"
   },
   "source": [
    "## NER/RE\n",
    "\n",
    "- The whole point of NER is to begin the process of **understanding** what the text we are using is all about. \n",
    "- It starts from the composition of the text, i.e., the entities, and then moves on to finding **relationships** between the entities. \n",
    "- While there are many definitions of **knowledge**, a narrow one is entities plus relationships. For example, the sentence \"Amazon ships PPE\" has two entities, \"Amazon\" and \"PPE\" (the subject and object of the sentence) and the relationship is given by the word \"ships\". \n",
    "\n",
    "Let's look at a slightly more elaborate sentence below and use it to run some examples. "
   ]
  },
  {
   "cell_type": "code",
   "execution_count": 41,
   "metadata": {
    "colab": {
     "base_uri": "https://localhost:8080/"
    },
    "executionInfo": {
     "elapsed": 375,
     "status": "ok",
     "timestamp": 1617464896877,
     "user": {
      "displayName": "Sanjiv Das",
      "photoUrl": "https://lh3.googleusercontent.com/a-/AOh14GhgUU3RgThSxLUq6NKSN2tDGDl8IQdtHMvdaZPE=s64",
      "userId": "06377870171053566924"
     },
     "user_tz": 420
    },
    "id": "q-SIxZzpHoTN",
    "outputId": "cba84dcd-a0f2-4fef-87bb-298f8e49528c",
    "scrolled": true
   },
   "outputs": [
    {
     "name": "stdout",
     "output_type": "stream",
     "text": [
      "A new statement from Boeing indicates that the aerospace manufacturer knew about a problem with the 737 Max aircraft well before the deadly October 2018 Lion Air crash, but decided not to do anything about it.\n"
     ]
    }
   ],
   "source": [
    "text = 'A new statement from Boeing indicates that the aerospace manufacturer knew about a problem with the 737 Max aircraft well before the deadly October 2018 Lion Air crash, but decided not to do anything about it.'\n",
    "print(text)"
   ]
  },
  {
   "cell_type": "markdown",
   "metadata": {
    "id": "CwDPdOqnHoTQ"
   },
   "source": [
    "## Parts of Speech (POS)\n",
    "\n",
    "We may want to tag the entities in text as parts of speech. The POS category of a word may be useful in determining relationships. \n",
    "\n",
    "We learnt this in school: \n",
    "- nouns (person, place, thing, other than a pronoun)\n",
    "- verbs (action, state, occurrence)\n",
    "- adjectives (modifying a noun)\n",
    "- adverbs (modifying a verb, e.g., exercised vigorously)\n",
    "- prepositions (relating other words to nouns or pronouns, e.g., the man *in* the mask)\n",
    "- pronouns (takes the place of a noun, e.g., they, he, she, it)\n",
    "\n",
    "You can read more about this linguistics-related approach: https://en.wikipedia.org/wiki/Part-of-speech_tagging. Note that POS tagging (POST) is non-trivial and requires writing rules for the English language (or any other language) and is therefore not language agnostic. \n",
    "\n",
    "Let's try this using NLTK. Master List of Tags: https://pythonprogramming.net/natural-language-toolkit-nltk-part-speech-tagging/"
   ]
  },
  {
   "cell_type": "code",
   "execution_count": 42,
   "metadata": {
    "colab": {
     "base_uri": "https://localhost:8080/"
    },
    "executionInfo": {
     "elapsed": 696,
     "status": "ok",
     "timestamp": 1617464908967,
     "user": {
      "displayName": "Sanjiv Das",
      "photoUrl": "https://lh3.googleusercontent.com/a-/AOh14GhgUU3RgThSxLUq6NKSN2tDGDl8IQdtHMvdaZPE=s64",
      "userId": "06377870171053566924"
     },
     "user_tz": 420
    },
    "id": "6jnrzSVHHoTR",
    "outputId": "a01db941-075d-4b73-bb26-6ac78625b152"
   },
   "outputs": [
    {
     "name": "stdout",
     "output_type": "stream",
     "text": [
      "[nltk_data] Downloading package averaged_perceptron_tagger to\n",
      "[nltk_data]     /root/nltk_data...\n",
      "[nltk_data]   Unzipping taggers/averaged_perceptron_tagger.zip.\n"
     ]
    },
    {
     "data": {
      "text/plain": [
       "[('A', 'DT'),\n",
       " ('new', 'JJ'),\n",
       " ('statement', 'NN'),\n",
       " ('from', 'IN'),\n",
       " ('Boeing', 'NNP'),\n",
       " ('indicates', 'VBZ'),\n",
       " ('that', 'IN'),\n",
       " ('the', 'DT'),\n",
       " ('aerospace', 'NN'),\n",
       " ('manufacturer', 'NN'),\n",
       " ('knew', 'VBD'),\n",
       " ('about', 'IN'),\n",
       " ('a', 'DT'),\n",
       " ('problem', 'NN'),\n",
       " ('with', 'IN'),\n",
       " ('the', 'DT'),\n",
       " ('737', 'CD'),\n",
       " ('Max', 'NNP'),\n",
       " ('aircraft', 'NN'),\n",
       " ('well', 'RB'),\n",
       " ('before', 'IN'),\n",
       " ('the', 'DT'),\n",
       " ('deadly', 'JJ'),\n",
       " ('October', 'NNP'),\n",
       " ('2018', 'CD'),\n",
       " ('Lion', 'NNP'),\n",
       " ('Air', 'NNP'),\n",
       " ('crash', 'NN'),\n",
       " (',', ','),\n",
       " ('but', 'CC'),\n",
       " ('decided', 'VBD'),\n",
       " ('not', 'RB'),\n",
       " ('to', 'TO'),\n",
       " ('do', 'VB'),\n",
       " ('anything', 'NN'),\n",
       " ('about', 'IN'),\n",
       " ('it', 'PRP'),\n",
       " ('.', '.')]"
      ]
     },
     "execution_count": 42,
     "metadata": {
      "tags": []
     },
     "output_type": "execute_result"
    }
   ],
   "source": [
    "import nltk\n",
    "from nltk.tokenize import word_tokenize\n",
    "from nltk.tag import pos_tag\n",
    "nltk.download('averaged_perceptron_tagger')\n",
    "\n",
    "txt = nltk.word_tokenize(text)\n",
    "txt = nltk.pos_tag(txt)\n",
    "txt"
   ]
  },
  {
   "cell_type": "code",
   "execution_count": 43,
   "metadata": {
    "colab": {
     "base_uri": "https://localhost:8080/"
    },
    "executionInfo": {
     "elapsed": 315,
     "status": "ok",
     "timestamp": 1617464988257,
     "user": {
      "displayName": "Sanjiv Das",
      "photoUrl": "https://lh3.googleusercontent.com/a-/AOh14GhgUU3RgThSxLUq6NKSN2tDGDl8IQdtHMvdaZPE=s64",
      "userId": "06377870171053566924"
     },
     "user_tz": 420
    },
    "id": "C50lBNE4HoTU",
    "outputId": "20ada8b9-114a-466d-cd34-2e3abd60e99a"
   },
   "outputs": [
    {
     "name": "stdout",
     "output_type": "stream",
     "text": [
      "chunk.RegexpParser with 1 stages:\n",
      "RegexpChunkParser with 1 rules:\n",
      "       <ChunkRule: '<DT>?<JJ>*<NN>'>\n",
      "(S\n",
      "  (NP A/DT new/JJ statement/NN)\n",
      "  from/IN\n",
      "  Boeing/NNP\n",
      "  indicates/VBZ\n",
      "  that/IN\n",
      "  (NP the/DT aerospace/NN)\n",
      "  (NP manufacturer/NN)\n",
      "  knew/VBD\n",
      "  about/IN\n",
      "  (NP a/DT problem/NN)\n",
      "  with/IN\n",
      "  the/DT\n",
      "  737/CD\n",
      "  Max/NNP\n",
      "  (NP aircraft/NN)\n",
      "  well/RB\n",
      "  before/IN\n",
      "  the/DT\n",
      "  deadly/JJ\n",
      "  October/NNP\n",
      "  2018/CD\n",
      "  Lion/NNP\n",
      "  Air/NNP\n",
      "  (NP crash/NN)\n",
      "  ,/,\n",
      "  but/CC\n",
      "  decided/VBD\n",
      "  not/RB\n",
      "  to/TO\n",
      "  do/VB\n",
      "  (NP anything/NN)\n",
      "  about/IN\n",
      "  it/PRP\n",
      "  ./.)\n"
     ]
    }
   ],
   "source": [
    "# Noun phrase = optional determinor (DT), followed by any of adjectives (JJ), \n",
    "# and ending in a noun (NN). \n",
    "pattern = 'NP: {<DT>?<JJ>*<NN>}'  \n",
    "pp = nltk.RegexpParser(pattern)\n",
    "print(pp)\n",
    "txt_parsed = pp.parse(txt)\n",
    "print(txt_parsed)\n"
   ]
  },
  {
   "cell_type": "markdown",
   "metadata": {
    "id": "6xzxdCk7HoTY"
   },
   "source": [
    "## Using spaCy\n",
    "\n",
    "spaCy is an industrial strength, open-source NLP package and has several useful functions. Take some time to go over the website and documentation to get a good idea of the vast functionality therein. \n",
    "\n",
    "https://spacy.io/\n",
    "\n",
    "https://towardsdatascience.com/named-entity-recognition-with-nltk-and-spacy-8c4a7d88e7da\n",
    "\n",
    "https://medium.com/swlh/python-nlp-tutorial-information-extraction-and-knowledge-graphs-43a2a4c4556c\n",
    "\n",
    "One of the interesting developments in NLP is the curation of \"language models\". A language model may be thought of as a *statistical distribution over a sequence of words*. This means that it contains the following (and more) components:\n",
    "- Unconditional distribution of words and word sequences. \n",
    "- Conditional distributions of words and word sequences. \n",
    "- Choices of unigrams, bigrams, $n$-grams.\n",
    "- Sequence length choices. \n",
    "\n",
    "In the next code block, we will import an English language model, we can get many models, small and large  [spaCy language models](https://spacy.io/models). Q: What are the various applications we may use language models for? (POST is just one such application. Others are content classification, recommender systems, search algorithms, customer support routing, extracting entities from research like PubMed for Covid-19 analysis, etc.)"
   ]
  },
  {
   "cell_type": "code",
   "execution_count": 44,
   "metadata": {
    "colab": {
     "base_uri": "https://localhost:8080/"
    },
    "executionInfo": {
     "elapsed": 12262,
     "status": "ok",
     "timestamp": 1617465167666,
     "user": {
      "displayName": "Sanjiv Das",
      "photoUrl": "https://lh3.googleusercontent.com/a-/AOh14GhgUU3RgThSxLUq6NKSN2tDGDl8IQdtHMvdaZPE=s64",
      "userId": "06377870171053566924"
     },
     "user_tz": 420
    },
    "id": "23mKNjKLWDJ0",
    "outputId": "fb68f1b5-afed-4c0e-8e0a-4ae4a8948122",
    "scrolled": true
   },
   "outputs": [
    {
     "name": "stdout",
     "output_type": "stream",
     "text": [
      "Requirement already satisfied: spacy in /usr/local/lib/python3.7/dist-packages (2.2.4)\n",
      "Requirement already satisfied: setuptools in /usr/local/lib/python3.7/dist-packages (from spacy) (54.2.0)\n",
      "Requirement already satisfied: thinc==7.4.0 in /usr/local/lib/python3.7/dist-packages (from spacy) (7.4.0)\n",
      "Requirement already satisfied: requests<3.0.0,>=2.13.0 in /usr/local/lib/python3.7/dist-packages (from spacy) (2.23.0)\n",
      "Requirement already satisfied: tqdm<5.0.0,>=4.38.0 in /usr/local/lib/python3.7/dist-packages (from spacy) (4.41.1)\n",
      "Requirement already satisfied: plac<1.2.0,>=0.9.6 in /usr/local/lib/python3.7/dist-packages (from spacy) (1.1.3)\n",
      "Requirement already satisfied: wasabi<1.1.0,>=0.4.0 in /usr/local/lib/python3.7/dist-packages (from spacy) (0.8.2)\n",
      "Requirement already satisfied: cymem<2.1.0,>=2.0.2 in /usr/local/lib/python3.7/dist-packages (from spacy) (2.0.5)\n",
      "Requirement already satisfied: murmurhash<1.1.0,>=0.28.0 in /usr/local/lib/python3.7/dist-packages (from spacy) (1.0.5)\n",
      "Requirement already satisfied: srsly<1.1.0,>=1.0.2 in /usr/local/lib/python3.7/dist-packages (from spacy) (1.0.5)\n",
      "Requirement already satisfied: preshed<3.1.0,>=3.0.2 in /usr/local/lib/python3.7/dist-packages (from spacy) (3.0.5)\n",
      "Requirement already satisfied: catalogue<1.1.0,>=0.0.7 in /usr/local/lib/python3.7/dist-packages (from spacy) (1.0.0)\n",
      "Requirement already satisfied: blis<0.5.0,>=0.4.0 in /usr/local/lib/python3.7/dist-packages (from spacy) (0.4.1)\n",
      "Requirement already satisfied: numpy>=1.15.0 in /usr/local/lib/python3.7/dist-packages (from spacy) (1.19.5)\n",
      "Requirement already satisfied: idna<3,>=2.5 in /usr/local/lib/python3.7/dist-packages (from requests<3.0.0,>=2.13.0->spacy) (2.10)\n",
      "Requirement already satisfied: chardet<4,>=3.0.2 in /usr/local/lib/python3.7/dist-packages (from requests<3.0.0,>=2.13.0->spacy) (3.0.4)\n",
      "Requirement already satisfied: certifi>=2017.4.17 in /usr/local/lib/python3.7/dist-packages (from requests<3.0.0,>=2.13.0->spacy) (2020.12.5)\n",
      "Requirement already satisfied: urllib3!=1.25.0,!=1.25.1,<1.26,>=1.21.1 in /usr/local/lib/python3.7/dist-packages (from requests<3.0.0,>=2.13.0->spacy) (1.24.3)\n",
      "Requirement already satisfied: importlib-metadata>=0.20; python_version < \"3.8\" in /usr/local/lib/python3.7/dist-packages (from catalogue<1.1.0,>=0.0.7->spacy) (3.8.1)\n",
      "Requirement already satisfied: zipp>=0.5 in /usr/local/lib/python3.7/dist-packages (from importlib-metadata>=0.20; python_version < \"3.8\"->catalogue<1.1.0,>=0.0.7->spacy) (3.4.1)\n",
      "Requirement already satisfied: typing-extensions>=3.6.4; python_version < \"3.8\" in /usr/local/lib/python3.7/dist-packages (from importlib-metadata>=0.20; python_version < \"3.8\"->catalogue<1.1.0,>=0.0.7->spacy) (3.7.4.3)\n",
      "Requirement already satisfied: en_core_web_sm==2.2.5 from https://github.com/explosion/spacy-models/releases/download/en_core_web_sm-2.2.5/en_core_web_sm-2.2.5.tar.gz#egg=en_core_web_sm==2.2.5 in /usr/local/lib/python3.7/dist-packages (2.2.5)\n",
      "Requirement already satisfied: spacy>=2.2.2 in /usr/local/lib/python3.7/dist-packages (from en_core_web_sm==2.2.5) (2.2.4)\n",
      "Requirement already satisfied: plac<1.2.0,>=0.9.6 in /usr/local/lib/python3.7/dist-packages (from spacy>=2.2.2->en_core_web_sm==2.2.5) (1.1.3)\n",
      "Requirement already satisfied: preshed<3.1.0,>=3.0.2 in /usr/local/lib/python3.7/dist-packages (from spacy>=2.2.2->en_core_web_sm==2.2.5) (3.0.5)\n",
      "Requirement already satisfied: murmurhash<1.1.0,>=0.28.0 in /usr/local/lib/python3.7/dist-packages (from spacy>=2.2.2->en_core_web_sm==2.2.5) (1.0.5)\n",
      "Requirement already satisfied: blis<0.5.0,>=0.4.0 in /usr/local/lib/python3.7/dist-packages (from spacy>=2.2.2->en_core_web_sm==2.2.5) (0.4.1)\n",
      "Requirement already satisfied: thinc==7.4.0 in /usr/local/lib/python3.7/dist-packages (from spacy>=2.2.2->en_core_web_sm==2.2.5) (7.4.0)\n",
      "Requirement already satisfied: setuptools in /usr/local/lib/python3.7/dist-packages (from spacy>=2.2.2->en_core_web_sm==2.2.5) (54.2.0)\n",
      "Requirement already satisfied: requests<3.0.0,>=2.13.0 in /usr/local/lib/python3.7/dist-packages (from spacy>=2.2.2->en_core_web_sm==2.2.5) (2.23.0)\n",
      "Requirement already satisfied: cymem<2.1.0,>=2.0.2 in /usr/local/lib/python3.7/dist-packages (from spacy>=2.2.2->en_core_web_sm==2.2.5) (2.0.5)\n",
      "Requirement already satisfied: srsly<1.1.0,>=1.0.2 in /usr/local/lib/python3.7/dist-packages (from spacy>=2.2.2->en_core_web_sm==2.2.5) (1.0.5)\n",
      "Requirement already satisfied: numpy>=1.15.0 in /usr/local/lib/python3.7/dist-packages (from spacy>=2.2.2->en_core_web_sm==2.2.5) (1.19.5)\n",
      "Requirement already satisfied: tqdm<5.0.0,>=4.38.0 in /usr/local/lib/python3.7/dist-packages (from spacy>=2.2.2->en_core_web_sm==2.2.5) (4.41.1)\n",
      "Requirement already satisfied: wasabi<1.1.0,>=0.4.0 in /usr/local/lib/python3.7/dist-packages (from spacy>=2.2.2->en_core_web_sm==2.2.5) (0.8.2)\n",
      "Requirement already satisfied: catalogue<1.1.0,>=0.0.7 in /usr/local/lib/python3.7/dist-packages (from spacy>=2.2.2->en_core_web_sm==2.2.5) (1.0.0)\n",
      "Requirement already satisfied: certifi>=2017.4.17 in /usr/local/lib/python3.7/dist-packages (from requests<3.0.0,>=2.13.0->spacy>=2.2.2->en_core_web_sm==2.2.5) (2020.12.5)\n",
      "Requirement already satisfied: urllib3!=1.25.0,!=1.25.1,<1.26,>=1.21.1 in /usr/local/lib/python3.7/dist-packages (from requests<3.0.0,>=2.13.0->spacy>=2.2.2->en_core_web_sm==2.2.5) (1.24.3)\n",
      "Requirement already satisfied: chardet<4,>=3.0.2 in /usr/local/lib/python3.7/dist-packages (from requests<3.0.0,>=2.13.0->spacy>=2.2.2->en_core_web_sm==2.2.5) (3.0.4)\n",
      "Requirement already satisfied: idna<3,>=2.5 in /usr/local/lib/python3.7/dist-packages (from requests<3.0.0,>=2.13.0->spacy>=2.2.2->en_core_web_sm==2.2.5) (2.10)\n",
      "Requirement already satisfied: importlib-metadata>=0.20; python_version < \"3.8\" in /usr/local/lib/python3.7/dist-packages (from catalogue<1.1.0,>=0.0.7->spacy>=2.2.2->en_core_web_sm==2.2.5) (3.8.1)\n",
      "Requirement already satisfied: zipp>=0.5 in /usr/local/lib/python3.7/dist-packages (from importlib-metadata>=0.20; python_version < \"3.8\"->catalogue<1.1.0,>=0.0.7->spacy>=2.2.2->en_core_web_sm==2.2.5) (3.4.1)\n",
      "Requirement already satisfied: typing-extensions>=3.6.4; python_version < \"3.8\" in /usr/local/lib/python3.7/dist-packages (from importlib-metadata>=0.20; python_version < \"3.8\"->catalogue<1.1.0,>=0.0.7->spacy>=2.2.2->en_core_web_sm==2.2.5) (3.7.4.3)\n",
      "\u001b[38;5;2m✔ Download and installation successful\u001b[0m\n",
      "You can now load the model via spacy.load('en_core_web_sm')\n",
      "Requirement already satisfied: en_core_web_sm==2.2.5 from https://github.com/explosion/spacy-models/releases/download/en_core_web_sm-2.2.5/en_core_web_sm-2.2.5.tar.gz#egg=en_core_web_sm==2.2.5 in /usr/local/lib/python3.7/dist-packages (2.2.5)\n",
      "Requirement already satisfied: spacy>=2.2.2 in /usr/local/lib/python3.7/dist-packages (from en_core_web_sm==2.2.5) (2.2.4)\n",
      "Requirement already satisfied: wasabi<1.1.0,>=0.4.0 in /usr/local/lib/python3.7/dist-packages (from spacy>=2.2.2->en_core_web_sm==2.2.5) (0.8.2)\n",
      "Requirement already satisfied: cymem<2.1.0,>=2.0.2 in /usr/local/lib/python3.7/dist-packages (from spacy>=2.2.2->en_core_web_sm==2.2.5) (2.0.5)\n",
      "Requirement already satisfied: thinc==7.4.0 in /usr/local/lib/python3.7/dist-packages (from spacy>=2.2.2->en_core_web_sm==2.2.5) (7.4.0)\n",
      "Requirement already satisfied: srsly<1.1.0,>=1.0.2 in /usr/local/lib/python3.7/dist-packages (from spacy>=2.2.2->en_core_web_sm==2.2.5) (1.0.5)\n",
      "Requirement already satisfied: murmurhash<1.1.0,>=0.28.0 in /usr/local/lib/python3.7/dist-packages (from spacy>=2.2.2->en_core_web_sm==2.2.5) (1.0.5)\n",
      "Requirement already satisfied: blis<0.5.0,>=0.4.0 in /usr/local/lib/python3.7/dist-packages (from spacy>=2.2.2->en_core_web_sm==2.2.5) (0.4.1)\n",
      "Requirement already satisfied: setuptools in /usr/local/lib/python3.7/dist-packages (from spacy>=2.2.2->en_core_web_sm==2.2.5) (54.2.0)\n",
      "Requirement already satisfied: numpy>=1.15.0 in /usr/local/lib/python3.7/dist-packages (from spacy>=2.2.2->en_core_web_sm==2.2.5) (1.19.5)\n",
      "Requirement already satisfied: plac<1.2.0,>=0.9.6 in /usr/local/lib/python3.7/dist-packages (from spacy>=2.2.2->en_core_web_sm==2.2.5) (1.1.3)\n",
      "Requirement already satisfied: requests<3.0.0,>=2.13.0 in /usr/local/lib/python3.7/dist-packages (from spacy>=2.2.2->en_core_web_sm==2.2.5) (2.23.0)\n",
      "Requirement already satisfied: tqdm<5.0.0,>=4.38.0 in /usr/local/lib/python3.7/dist-packages (from spacy>=2.2.2->en_core_web_sm==2.2.5) (4.41.1)\n",
      "Requirement already satisfied: catalogue<1.1.0,>=0.0.7 in /usr/local/lib/python3.7/dist-packages (from spacy>=2.2.2->en_core_web_sm==2.2.5) (1.0.0)\n",
      "Requirement already satisfied: preshed<3.1.0,>=3.0.2 in /usr/local/lib/python3.7/dist-packages (from spacy>=2.2.2->en_core_web_sm==2.2.5) (3.0.5)\n",
      "Requirement already satisfied: idna<3,>=2.5 in /usr/local/lib/python3.7/dist-packages (from requests<3.0.0,>=2.13.0->spacy>=2.2.2->en_core_web_sm==2.2.5) (2.10)\n",
      "Requirement already satisfied: certifi>=2017.4.17 in /usr/local/lib/python3.7/dist-packages (from requests<3.0.0,>=2.13.0->spacy>=2.2.2->en_core_web_sm==2.2.5) (2020.12.5)\n",
      "Requirement already satisfied: urllib3!=1.25.0,!=1.25.1,<1.26,>=1.21.1 in /usr/local/lib/python3.7/dist-packages (from requests<3.0.0,>=2.13.0->spacy>=2.2.2->en_core_web_sm==2.2.5) (1.24.3)\n",
      "Requirement already satisfied: chardet<4,>=3.0.2 in /usr/local/lib/python3.7/dist-packages (from requests<3.0.0,>=2.13.0->spacy>=2.2.2->en_core_web_sm==2.2.5) (3.0.4)\n",
      "Requirement already satisfied: importlib-metadata>=0.20; python_version < \"3.8\" in /usr/local/lib/python3.7/dist-packages (from catalogue<1.1.0,>=0.0.7->spacy>=2.2.2->en_core_web_sm==2.2.5) (3.8.1)\n",
      "Requirement already satisfied: zipp>=0.5 in /usr/local/lib/python3.7/dist-packages (from importlib-metadata>=0.20; python_version < \"3.8\"->catalogue<1.1.0,>=0.0.7->spacy>=2.2.2->en_core_web_sm==2.2.5) (3.4.1)\n",
      "Requirement already satisfied: typing-extensions>=3.6.4; python_version < \"3.8\" in /usr/local/lib/python3.7/dist-packages (from importlib-metadata>=0.20; python_version < \"3.8\"->catalogue<1.1.0,>=0.0.7->spacy>=2.2.2->en_core_web_sm==2.2.5) (3.7.4.3)\n",
      "\u001b[38;5;2m✔ Download and installation successful\u001b[0m\n",
      "You can now load the model via spacy.load('en_core_web_sm')\n",
      "\u001b[38;5;2m✔ Linking successful\u001b[0m\n",
      "/usr/local/lib/python3.7/dist-packages/en_core_web_sm -->\n",
      "/usr/local/lib/python3.7/dist-packages/spacy/data/en\n",
      "You can now load the model via spacy.load('en')\n"
     ]
    }
   ],
   "source": [
    "!pip install spacy\n",
    "!python -m spacy download en_core_web_sm\n",
    "!python -m spacy download en"
   ]
  },
  {
   "cell_type": "code",
   "execution_count": 45,
   "metadata": {
    "executionInfo": {
     "elapsed": 2157,
     "status": "ok",
     "timestamp": 1617465184807,
     "user": {
      "displayName": "Sanjiv Das",
      "photoUrl": "https://lh3.googleusercontent.com/a-/AOh14GhgUU3RgThSxLUq6NKSN2tDGDl8IQdtHMvdaZPE=s64",
      "userId": "06377870171053566924"
     },
     "user_tz": 420
    },
    "id": "vkT7YvrPHoTY"
   },
   "outputs": [],
   "source": [
    "#Code from the spaCy web site\n",
    "import spacy\n",
    "\n",
    "# Language Model\n",
    "# Load English tokenizer, tagger, parser, NER and word vectors\n",
    "#If not working: python -m spacy download en_core_web_sm\n",
    "# nlp = spacy.load(\"en_core_web_sm\")\n",
    "#If not working: python -m spacy download en\n",
    "nlp = spacy.load(\"en\")"
   ]
  },
  {
   "cell_type": "code",
   "execution_count": 46,
   "metadata": {
    "colab": {
     "base_uri": "https://localhost:8080/"
    },
    "executionInfo": {
     "elapsed": 436,
     "status": "ok",
     "timestamp": 1617465202034,
     "user": {
      "displayName": "Sanjiv Das",
      "photoUrl": "https://lh3.googleusercontent.com/a-/AOh14GhgUU3RgThSxLUq6NKSN2tDGDl8IQdtHMvdaZPE=s64",
      "userId": "06377870171053566924"
     },
     "user_tz": 420
    },
    "id": "kJKvPuz4UTPe",
    "outputId": "a0de16cf-1f15-46b8-b087-4e4bf2b4017a"
   },
   "outputs": [
    {
     "name": "stdout",
     "output_type": "stream",
     "text": [
      "Noun phrases: ['A new statement', 'Boeing', 'the aerospace manufacturer', 'a problem', 'the 737 Max aircraft', 'the deadly October 2018 Lion Air crash', 'anything', 'it']\n",
      "Verbs: ['indicate', 'know', 'decide']\n",
      "----Named Entities----\n",
      "Boeing ORG\n",
      "737 PRODUCT\n",
      "October 2018 DATE\n",
      "Lion Air ORG\n"
     ]
    }
   ],
   "source": [
    "# Process the text above\n",
    "doc = nlp(text)\n",
    "\n",
    "# Analyze syntax\n",
    "print(\"Noun phrases:\", [chunk.text for chunk in doc.noun_chunks])\n",
    "print(\"Verbs:\", [token.lemma_ for token in doc if token.pos_ == \"VERB\"])\n",
    "\n",
    "# Find named entities, phrases and concepts\n",
    "print('----Named Entities----')\n",
    "for entity in doc.ents:\n",
    "    print(entity.text, entity.label_)"
   ]
  },
  {
   "cell_type": "markdown",
   "metadata": {
    "id": "ORLnx6aZHoTb"
   },
   "source": [
    "## How is Entity Extraction done? \n",
    "\n",
    "1. Linguistic rules. Here we write hundreds of rules to decide whether a word is an entity or not. You may decide to do this and it would be a test of your regex skills. This is the domain of computational linguistics. This approach is not language agnostic, nor is it domain agnostic.  \n",
    "\n",
    "2. Lexical methods. This is a word-based approach and requires a collection of words that are entities in a given domain, i.e., a **lexicon**. For example, in finance, words like asset, profit, director, company, etc., may be part of the lexicon. We may think of lexicons as domain-specific word lists. When we group the words in a lexicon into categories, we get an **ontology**. An ontology is a bigger concept than just categories, it also contains relationships. From the dictionary: \"a set of concepts and categories in a subject area or domain that shows their properties and the relations between them.\" Lexical NER is accurate and fast, but it is not comprehensive. Entities not in the ontology are not captured. \n",
    "\n",
    "3. Machine-learning methods. The modern approach is not to write the algorithm for NER but to let the machine learn the algorithm from examples. For this we need a tagged dataset and the more domain specific this is, the better. We may also want to have examples of what an entity is not, i.e., for example, above, BOEING was tagged as an ORG, but we may increment the data with another example where we say that BOEING is not a PRODUCT. We may have an additional label for BOEING called a BRAND. Machine learning methods can be both language and domain agnostic. \n",
    "\n",
    "These methods may not just be used standalone but may be combined to result in better methods. "
   ]
  },
  {
   "cell_type": "code",
   "execution_count": 47,
   "metadata": {
    "colab": {
     "base_uri": "https://localhost:8080/",
     "height": 86
    },
    "executionInfo": {
     "elapsed": 577,
     "status": "ok",
     "timestamp": 1617465346851,
     "user": {
      "displayName": "Sanjiv Das",
      "photoUrl": "https://lh3.googleusercontent.com/a-/AOh14GhgUU3RgThSxLUq6NKSN2tDGDl8IQdtHMvdaZPE=s64",
      "userId": "06377870171053566924"
     },
     "user_tz": 420
    },
    "id": "aE6ThwfpuU5p",
    "outputId": "7c7447bd-4722-4253-f1f7-77cd446d98ac"
   },
   "outputs": [
    {
     "data": {
      "text/html": [
       "<span class=\"tex2jax_ignore\"><div class=\"entities\" style=\"line-height: 2.5; direction: ltr\">A new statement from \n",
       "<mark class=\"entity\" style=\"background: #7aecec; padding: 0.45em 0.6em; margin: 0 0.25em; line-height: 1; border-radius: 0.35em;\">\n",
       "    Boeing\n",
       "    <span style=\"font-size: 0.8em; font-weight: bold; line-height: 1; border-radius: 0.35em; text-transform: uppercase; vertical-align: middle; margin-left: 0.5rem\">ORG</span>\n",
       "</mark>\n",
       " indicates that the aerospace manufacturer knew about a problem with the \n",
       "<mark class=\"entity\" style=\"background: #bfeeb7; padding: 0.45em 0.6em; margin: 0 0.25em; line-height: 1; border-radius: 0.35em;\">\n",
       "    737\n",
       "    <span style=\"font-size: 0.8em; font-weight: bold; line-height: 1; border-radius: 0.35em; text-transform: uppercase; vertical-align: middle; margin-left: 0.5rem\">PRODUCT</span>\n",
       "</mark>\n",
       " Max aircraft well before the deadly \n",
       "<mark class=\"entity\" style=\"background: #bfe1d9; padding: 0.45em 0.6em; margin: 0 0.25em; line-height: 1; border-radius: 0.35em;\">\n",
       "    October 2018\n",
       "    <span style=\"font-size: 0.8em; font-weight: bold; line-height: 1; border-radius: 0.35em; text-transform: uppercase; vertical-align: middle; margin-left: 0.5rem\">DATE</span>\n",
       "</mark>\n",
       " \n",
       "<mark class=\"entity\" style=\"background: #7aecec; padding: 0.45em 0.6em; margin: 0 0.25em; line-height: 1; border-radius: 0.35em;\">\n",
       "    Lion Air\n",
       "    <span style=\"font-size: 0.8em; font-weight: bold; line-height: 1; border-radius: 0.35em; text-transform: uppercase; vertical-align: middle; margin-left: 0.5rem\">ORG</span>\n",
       "</mark>\n",
       " crash, but decided not to do anything about it.</div></span>"
      ],
      "text/plain": [
       "<IPython.core.display.HTML object>"
      ]
     },
     "metadata": {
      "tags": []
     },
     "output_type": "display_data"
    }
   ],
   "source": [
    "# Visualize NER\n",
    "from spacy import displacy\n",
    "doc = nlp(text)\n",
    "displacy.render(doc, style='ent', jupyter=True)"
   ]
  },
  {
   "cell_type": "code",
   "execution_count": 48,
   "metadata": {
    "colab": {
     "base_uri": "https://localhost:8080/",
     "height": 928
    },
    "executionInfo": {
     "elapsed": 511,
     "status": "ok",
     "timestamp": 1617465356430,
     "user": {
      "displayName": "Sanjiv Das",
      "photoUrl": "https://lh3.googleusercontent.com/a-/AOh14GhgUU3RgThSxLUq6NKSN2tDGDl8IQdtHMvdaZPE=s64",
      "userId": "06377870171053566924"
     },
     "user_tz": 420
    },
    "id": "wJqX3qJazs3_",
    "outputId": "2e6b4258-9039-455e-941d-f9a5a44ec5b8"
   },
   "outputs": [
    {
     "data": {
      "text/html": [
       "<span class=\"tex2jax_ignore\"><svg xmlns=\"http://www.w3.org/2000/svg\" xmlns:xlink=\"http://www.w3.org/1999/xlink\" xml:lang=\"en\" id=\"ba62f3dae8a546b3b47e77df0500df9e-0\" class=\"displacy\" width=\"5450\" height=\"887.0\" direction=\"ltr\" style=\"max-width: none; height: 887.0px; color: #000000; background: #ffffff; font-family: Arial; direction: ltr\">\n",
       "<text class=\"displacy-token\" fill=\"currentColor\" text-anchor=\"middle\" y=\"797.0\">\n",
       "    <tspan class=\"displacy-word\" fill=\"currentColor\" x=\"50\">A</tspan>\n",
       "    <tspan class=\"displacy-tag\" dy=\"2em\" fill=\"currentColor\" x=\"50\">DET</tspan>\n",
       "</text>\n",
       "\n",
       "<text class=\"displacy-token\" fill=\"currentColor\" text-anchor=\"middle\" y=\"797.0\">\n",
       "    <tspan class=\"displacy-word\" fill=\"currentColor\" x=\"200\">new</tspan>\n",
       "    <tspan class=\"displacy-tag\" dy=\"2em\" fill=\"currentColor\" x=\"200\">ADJ</tspan>\n",
       "</text>\n",
       "\n",
       "<text class=\"displacy-token\" fill=\"currentColor\" text-anchor=\"middle\" y=\"797.0\">\n",
       "    <tspan class=\"displacy-word\" fill=\"currentColor\" x=\"350\">statement</tspan>\n",
       "    <tspan class=\"displacy-tag\" dy=\"2em\" fill=\"currentColor\" x=\"350\">NOUN</tspan>\n",
       "</text>\n",
       "\n",
       "<text class=\"displacy-token\" fill=\"currentColor\" text-anchor=\"middle\" y=\"797.0\">\n",
       "    <tspan class=\"displacy-word\" fill=\"currentColor\" x=\"500\">from</tspan>\n",
       "    <tspan class=\"displacy-tag\" dy=\"2em\" fill=\"currentColor\" x=\"500\">ADP</tspan>\n",
       "</text>\n",
       "\n",
       "<text class=\"displacy-token\" fill=\"currentColor\" text-anchor=\"middle\" y=\"797.0\">\n",
       "    <tspan class=\"displacy-word\" fill=\"currentColor\" x=\"650\">Boeing</tspan>\n",
       "    <tspan class=\"displacy-tag\" dy=\"2em\" fill=\"currentColor\" x=\"650\">PROPN</tspan>\n",
       "</text>\n",
       "\n",
       "<text class=\"displacy-token\" fill=\"currentColor\" text-anchor=\"middle\" y=\"797.0\">\n",
       "    <tspan class=\"displacy-word\" fill=\"currentColor\" x=\"800\">indicates</tspan>\n",
       "    <tspan class=\"displacy-tag\" dy=\"2em\" fill=\"currentColor\" x=\"800\">VERB</tspan>\n",
       "</text>\n",
       "\n",
       "<text class=\"displacy-token\" fill=\"currentColor\" text-anchor=\"middle\" y=\"797.0\">\n",
       "    <tspan class=\"displacy-word\" fill=\"currentColor\" x=\"950\">that</tspan>\n",
       "    <tspan class=\"displacy-tag\" dy=\"2em\" fill=\"currentColor\" x=\"950\">SCONJ</tspan>\n",
       "</text>\n",
       "\n",
       "<text class=\"displacy-token\" fill=\"currentColor\" text-anchor=\"middle\" y=\"797.0\">\n",
       "    <tspan class=\"displacy-word\" fill=\"currentColor\" x=\"1100\">the</tspan>\n",
       "    <tspan class=\"displacy-tag\" dy=\"2em\" fill=\"currentColor\" x=\"1100\">DET</tspan>\n",
       "</text>\n",
       "\n",
       "<text class=\"displacy-token\" fill=\"currentColor\" text-anchor=\"middle\" y=\"797.0\">\n",
       "    <tspan class=\"displacy-word\" fill=\"currentColor\" x=\"1250\">aerospace</tspan>\n",
       "    <tspan class=\"displacy-tag\" dy=\"2em\" fill=\"currentColor\" x=\"1250\">NOUN</tspan>\n",
       "</text>\n",
       "\n",
       "<text class=\"displacy-token\" fill=\"currentColor\" text-anchor=\"middle\" y=\"797.0\">\n",
       "    <tspan class=\"displacy-word\" fill=\"currentColor\" x=\"1400\">manufacturer</tspan>\n",
       "    <tspan class=\"displacy-tag\" dy=\"2em\" fill=\"currentColor\" x=\"1400\">NOUN</tspan>\n",
       "</text>\n",
       "\n",
       "<text class=\"displacy-token\" fill=\"currentColor\" text-anchor=\"middle\" y=\"797.0\">\n",
       "    <tspan class=\"displacy-word\" fill=\"currentColor\" x=\"1550\">knew</tspan>\n",
       "    <tspan class=\"displacy-tag\" dy=\"2em\" fill=\"currentColor\" x=\"1550\">VERB</tspan>\n",
       "</text>\n",
       "\n",
       "<text class=\"displacy-token\" fill=\"currentColor\" text-anchor=\"middle\" y=\"797.0\">\n",
       "    <tspan class=\"displacy-word\" fill=\"currentColor\" x=\"1700\">about</tspan>\n",
       "    <tspan class=\"displacy-tag\" dy=\"2em\" fill=\"currentColor\" x=\"1700\">ADP</tspan>\n",
       "</text>\n",
       "\n",
       "<text class=\"displacy-token\" fill=\"currentColor\" text-anchor=\"middle\" y=\"797.0\">\n",
       "    <tspan class=\"displacy-word\" fill=\"currentColor\" x=\"1850\">a</tspan>\n",
       "    <tspan class=\"displacy-tag\" dy=\"2em\" fill=\"currentColor\" x=\"1850\">DET</tspan>\n",
       "</text>\n",
       "\n",
       "<text class=\"displacy-token\" fill=\"currentColor\" text-anchor=\"middle\" y=\"797.0\">\n",
       "    <tspan class=\"displacy-word\" fill=\"currentColor\" x=\"2000\">problem</tspan>\n",
       "    <tspan class=\"displacy-tag\" dy=\"2em\" fill=\"currentColor\" x=\"2000\">NOUN</tspan>\n",
       "</text>\n",
       "\n",
       "<text class=\"displacy-token\" fill=\"currentColor\" text-anchor=\"middle\" y=\"797.0\">\n",
       "    <tspan class=\"displacy-word\" fill=\"currentColor\" x=\"2150\">with</tspan>\n",
       "    <tspan class=\"displacy-tag\" dy=\"2em\" fill=\"currentColor\" x=\"2150\">ADP</tspan>\n",
       "</text>\n",
       "\n",
       "<text class=\"displacy-token\" fill=\"currentColor\" text-anchor=\"middle\" y=\"797.0\">\n",
       "    <tspan class=\"displacy-word\" fill=\"currentColor\" x=\"2300\">the</tspan>\n",
       "    <tspan class=\"displacy-tag\" dy=\"2em\" fill=\"currentColor\" x=\"2300\">DET</tspan>\n",
       "</text>\n",
       "\n",
       "<text class=\"displacy-token\" fill=\"currentColor\" text-anchor=\"middle\" y=\"797.0\">\n",
       "    <tspan class=\"displacy-word\" fill=\"currentColor\" x=\"2450\">737</tspan>\n",
       "    <tspan class=\"displacy-tag\" dy=\"2em\" fill=\"currentColor\" x=\"2450\">NUM</tspan>\n",
       "</text>\n",
       "\n",
       "<text class=\"displacy-token\" fill=\"currentColor\" text-anchor=\"middle\" y=\"797.0\">\n",
       "    <tspan class=\"displacy-word\" fill=\"currentColor\" x=\"2600\">Max</tspan>\n",
       "    <tspan class=\"displacy-tag\" dy=\"2em\" fill=\"currentColor\" x=\"2600\">PROPN</tspan>\n",
       "</text>\n",
       "\n",
       "<text class=\"displacy-token\" fill=\"currentColor\" text-anchor=\"middle\" y=\"797.0\">\n",
       "    <tspan class=\"displacy-word\" fill=\"currentColor\" x=\"2750\">aircraft</tspan>\n",
       "    <tspan class=\"displacy-tag\" dy=\"2em\" fill=\"currentColor\" x=\"2750\">NOUN</tspan>\n",
       "</text>\n",
       "\n",
       "<text class=\"displacy-token\" fill=\"currentColor\" text-anchor=\"middle\" y=\"797.0\">\n",
       "    <tspan class=\"displacy-word\" fill=\"currentColor\" x=\"2900\">well</tspan>\n",
       "    <tspan class=\"displacy-tag\" dy=\"2em\" fill=\"currentColor\" x=\"2900\">ADV</tspan>\n",
       "</text>\n",
       "\n",
       "<text class=\"displacy-token\" fill=\"currentColor\" text-anchor=\"middle\" y=\"797.0\">\n",
       "    <tspan class=\"displacy-word\" fill=\"currentColor\" x=\"3050\">before</tspan>\n",
       "    <tspan class=\"displacy-tag\" dy=\"2em\" fill=\"currentColor\" x=\"3050\">ADP</tspan>\n",
       "</text>\n",
       "\n",
       "<text class=\"displacy-token\" fill=\"currentColor\" text-anchor=\"middle\" y=\"797.0\">\n",
       "    <tspan class=\"displacy-word\" fill=\"currentColor\" x=\"3200\">the</tspan>\n",
       "    <tspan class=\"displacy-tag\" dy=\"2em\" fill=\"currentColor\" x=\"3200\">DET</tspan>\n",
       "</text>\n",
       "\n",
       "<text class=\"displacy-token\" fill=\"currentColor\" text-anchor=\"middle\" y=\"797.0\">\n",
       "    <tspan class=\"displacy-word\" fill=\"currentColor\" x=\"3350\">deadly</tspan>\n",
       "    <tspan class=\"displacy-tag\" dy=\"2em\" fill=\"currentColor\" x=\"3350\">ADJ</tspan>\n",
       "</text>\n",
       "\n",
       "<text class=\"displacy-token\" fill=\"currentColor\" text-anchor=\"middle\" y=\"797.0\">\n",
       "    <tspan class=\"displacy-word\" fill=\"currentColor\" x=\"3500\">October</tspan>\n",
       "    <tspan class=\"displacy-tag\" dy=\"2em\" fill=\"currentColor\" x=\"3500\">PROPN</tspan>\n",
       "</text>\n",
       "\n",
       "<text class=\"displacy-token\" fill=\"currentColor\" text-anchor=\"middle\" y=\"797.0\">\n",
       "    <tspan class=\"displacy-word\" fill=\"currentColor\" x=\"3650\">2018</tspan>\n",
       "    <tspan class=\"displacy-tag\" dy=\"2em\" fill=\"currentColor\" x=\"3650\">NUM</tspan>\n",
       "</text>\n",
       "\n",
       "<text class=\"displacy-token\" fill=\"currentColor\" text-anchor=\"middle\" y=\"797.0\">\n",
       "    <tspan class=\"displacy-word\" fill=\"currentColor\" x=\"3800\">Lion</tspan>\n",
       "    <tspan class=\"displacy-tag\" dy=\"2em\" fill=\"currentColor\" x=\"3800\">PROPN</tspan>\n",
       "</text>\n",
       "\n",
       "<text class=\"displacy-token\" fill=\"currentColor\" text-anchor=\"middle\" y=\"797.0\">\n",
       "    <tspan class=\"displacy-word\" fill=\"currentColor\" x=\"3950\">Air</tspan>\n",
       "    <tspan class=\"displacy-tag\" dy=\"2em\" fill=\"currentColor\" x=\"3950\">PROPN</tspan>\n",
       "</text>\n",
       "\n",
       "<text class=\"displacy-token\" fill=\"currentColor\" text-anchor=\"middle\" y=\"797.0\">\n",
       "    <tspan class=\"displacy-word\" fill=\"currentColor\" x=\"4100\">crash,</tspan>\n",
       "    <tspan class=\"displacy-tag\" dy=\"2em\" fill=\"currentColor\" x=\"4100\">NOUN</tspan>\n",
       "</text>\n",
       "\n",
       "<text class=\"displacy-token\" fill=\"currentColor\" text-anchor=\"middle\" y=\"797.0\">\n",
       "    <tspan class=\"displacy-word\" fill=\"currentColor\" x=\"4250\">but</tspan>\n",
       "    <tspan class=\"displacy-tag\" dy=\"2em\" fill=\"currentColor\" x=\"4250\">CCONJ</tspan>\n",
       "</text>\n",
       "\n",
       "<text class=\"displacy-token\" fill=\"currentColor\" text-anchor=\"middle\" y=\"797.0\">\n",
       "    <tspan class=\"displacy-word\" fill=\"currentColor\" x=\"4400\">decided</tspan>\n",
       "    <tspan class=\"displacy-tag\" dy=\"2em\" fill=\"currentColor\" x=\"4400\">VERB</tspan>\n",
       "</text>\n",
       "\n",
       "<text class=\"displacy-token\" fill=\"currentColor\" text-anchor=\"middle\" y=\"797.0\">\n",
       "    <tspan class=\"displacy-word\" fill=\"currentColor\" x=\"4550\">not</tspan>\n",
       "    <tspan class=\"displacy-tag\" dy=\"2em\" fill=\"currentColor\" x=\"4550\">PART</tspan>\n",
       "</text>\n",
       "\n",
       "<text class=\"displacy-token\" fill=\"currentColor\" text-anchor=\"middle\" y=\"797.0\">\n",
       "    <tspan class=\"displacy-word\" fill=\"currentColor\" x=\"4700\">to</tspan>\n",
       "    <tspan class=\"displacy-tag\" dy=\"2em\" fill=\"currentColor\" x=\"4700\">PART</tspan>\n",
       "</text>\n",
       "\n",
       "<text class=\"displacy-token\" fill=\"currentColor\" text-anchor=\"middle\" y=\"797.0\">\n",
       "    <tspan class=\"displacy-word\" fill=\"currentColor\" x=\"4850\">do</tspan>\n",
       "    <tspan class=\"displacy-tag\" dy=\"2em\" fill=\"currentColor\" x=\"4850\">AUX</tspan>\n",
       "</text>\n",
       "\n",
       "<text class=\"displacy-token\" fill=\"currentColor\" text-anchor=\"middle\" y=\"797.0\">\n",
       "    <tspan class=\"displacy-word\" fill=\"currentColor\" x=\"5000\">anything</tspan>\n",
       "    <tspan class=\"displacy-tag\" dy=\"2em\" fill=\"currentColor\" x=\"5000\">PRON</tspan>\n",
       "</text>\n",
       "\n",
       "<text class=\"displacy-token\" fill=\"currentColor\" text-anchor=\"middle\" y=\"797.0\">\n",
       "    <tspan class=\"displacy-word\" fill=\"currentColor\" x=\"5150\">about</tspan>\n",
       "    <tspan class=\"displacy-tag\" dy=\"2em\" fill=\"currentColor\" x=\"5150\">ADP</tspan>\n",
       "</text>\n",
       "\n",
       "<text class=\"displacy-token\" fill=\"currentColor\" text-anchor=\"middle\" y=\"797.0\">\n",
       "    <tspan class=\"displacy-word\" fill=\"currentColor\" x=\"5300\">it.</tspan>\n",
       "    <tspan class=\"displacy-tag\" dy=\"2em\" fill=\"currentColor\" x=\"5300\">PRON</tspan>\n",
       "</text>\n",
       "\n",
       "<g class=\"displacy-arrow\">\n",
       "    <path class=\"displacy-arc\" id=\"arrow-ba62f3dae8a546b3b47e77df0500df9e-0-0\" stroke-width=\"2px\" d=\"M70,752.0 C70,602.0 310.0,602.0 310.0,752.0\" fill=\"none\" stroke=\"currentColor\"/>\n",
       "    <text dy=\"1.25em\" style=\"font-size: 0.8em; letter-spacing: 1px\">\n",
       "        <textPath xlink:href=\"#arrow-ba62f3dae8a546b3b47e77df0500df9e-0-0\" class=\"displacy-label\" startOffset=\"50%\" side=\"left\" fill=\"currentColor\" text-anchor=\"middle\">det</textPath>\n",
       "    </text>\n",
       "    <path class=\"displacy-arrowhead\" d=\"M70,754.0 L62,742.0 78,742.0\" fill=\"currentColor\"/>\n",
       "</g>\n",
       "\n",
       "<g class=\"displacy-arrow\">\n",
       "    <path class=\"displacy-arc\" id=\"arrow-ba62f3dae8a546b3b47e77df0500df9e-0-1\" stroke-width=\"2px\" d=\"M220,752.0 C220,677.0 305.0,677.0 305.0,752.0\" fill=\"none\" stroke=\"currentColor\"/>\n",
       "    <text dy=\"1.25em\" style=\"font-size: 0.8em; letter-spacing: 1px\">\n",
       "        <textPath xlink:href=\"#arrow-ba62f3dae8a546b3b47e77df0500df9e-0-1\" class=\"displacy-label\" startOffset=\"50%\" side=\"left\" fill=\"currentColor\" text-anchor=\"middle\">amod</textPath>\n",
       "    </text>\n",
       "    <path class=\"displacy-arrowhead\" d=\"M220,754.0 L212,742.0 228,742.0\" fill=\"currentColor\"/>\n",
       "</g>\n",
       "\n",
       "<g class=\"displacy-arrow\">\n",
       "    <path class=\"displacy-arc\" id=\"arrow-ba62f3dae8a546b3b47e77df0500df9e-0-2\" stroke-width=\"2px\" d=\"M370,752.0 C370,527.0 765.0,527.0 765.0,752.0\" fill=\"none\" stroke=\"currentColor\"/>\n",
       "    <text dy=\"1.25em\" style=\"font-size: 0.8em; letter-spacing: 1px\">\n",
       "        <textPath xlink:href=\"#arrow-ba62f3dae8a546b3b47e77df0500df9e-0-2\" class=\"displacy-label\" startOffset=\"50%\" side=\"left\" fill=\"currentColor\" text-anchor=\"middle\">nsubj</textPath>\n",
       "    </text>\n",
       "    <path class=\"displacy-arrowhead\" d=\"M370,754.0 L362,742.0 378,742.0\" fill=\"currentColor\"/>\n",
       "</g>\n",
       "\n",
       "<g class=\"displacy-arrow\">\n",
       "    <path class=\"displacy-arc\" id=\"arrow-ba62f3dae8a546b3b47e77df0500df9e-0-3\" stroke-width=\"2px\" d=\"M370,752.0 C370,677.0 455.0,677.0 455.0,752.0\" fill=\"none\" stroke=\"currentColor\"/>\n",
       "    <text dy=\"1.25em\" style=\"font-size: 0.8em; letter-spacing: 1px\">\n",
       "        <textPath xlink:href=\"#arrow-ba62f3dae8a546b3b47e77df0500df9e-0-3\" class=\"displacy-label\" startOffset=\"50%\" side=\"left\" fill=\"currentColor\" text-anchor=\"middle\">prep</textPath>\n",
       "    </text>\n",
       "    <path class=\"displacy-arrowhead\" d=\"M455.0,754.0 L463.0,742.0 447.0,742.0\" fill=\"currentColor\"/>\n",
       "</g>\n",
       "\n",
       "<g class=\"displacy-arrow\">\n",
       "    <path class=\"displacy-arc\" id=\"arrow-ba62f3dae8a546b3b47e77df0500df9e-0-4\" stroke-width=\"2px\" d=\"M520,752.0 C520,677.0 605.0,677.0 605.0,752.0\" fill=\"none\" stroke=\"currentColor\"/>\n",
       "    <text dy=\"1.25em\" style=\"font-size: 0.8em; letter-spacing: 1px\">\n",
       "        <textPath xlink:href=\"#arrow-ba62f3dae8a546b3b47e77df0500df9e-0-4\" class=\"displacy-label\" startOffset=\"50%\" side=\"left\" fill=\"currentColor\" text-anchor=\"middle\">pobj</textPath>\n",
       "    </text>\n",
       "    <path class=\"displacy-arrowhead\" d=\"M605.0,754.0 L613.0,742.0 597.0,742.0\" fill=\"currentColor\"/>\n",
       "</g>\n",
       "\n",
       "<g class=\"displacy-arrow\">\n",
       "    <path class=\"displacy-arc\" id=\"arrow-ba62f3dae8a546b3b47e77df0500df9e-0-5\" stroke-width=\"2px\" d=\"M970,752.0 C970,452.0 1520.0,452.0 1520.0,752.0\" fill=\"none\" stroke=\"currentColor\"/>\n",
       "    <text dy=\"1.25em\" style=\"font-size: 0.8em; letter-spacing: 1px\">\n",
       "        <textPath xlink:href=\"#arrow-ba62f3dae8a546b3b47e77df0500df9e-0-5\" class=\"displacy-label\" startOffset=\"50%\" side=\"left\" fill=\"currentColor\" text-anchor=\"middle\">mark</textPath>\n",
       "    </text>\n",
       "    <path class=\"displacy-arrowhead\" d=\"M970,754.0 L962,742.0 978,742.0\" fill=\"currentColor\"/>\n",
       "</g>\n",
       "\n",
       "<g class=\"displacy-arrow\">\n",
       "    <path class=\"displacy-arc\" id=\"arrow-ba62f3dae8a546b3b47e77df0500df9e-0-6\" stroke-width=\"2px\" d=\"M1120,752.0 C1120,602.0 1360.0,602.0 1360.0,752.0\" fill=\"none\" stroke=\"currentColor\"/>\n",
       "    <text dy=\"1.25em\" style=\"font-size: 0.8em; letter-spacing: 1px\">\n",
       "        <textPath xlink:href=\"#arrow-ba62f3dae8a546b3b47e77df0500df9e-0-6\" class=\"displacy-label\" startOffset=\"50%\" side=\"left\" fill=\"currentColor\" text-anchor=\"middle\">det</textPath>\n",
       "    </text>\n",
       "    <path class=\"displacy-arrowhead\" d=\"M1120,754.0 L1112,742.0 1128,742.0\" fill=\"currentColor\"/>\n",
       "</g>\n",
       "\n",
       "<g class=\"displacy-arrow\">\n",
       "    <path class=\"displacy-arc\" id=\"arrow-ba62f3dae8a546b3b47e77df0500df9e-0-7\" stroke-width=\"2px\" d=\"M1270,752.0 C1270,677.0 1355.0,677.0 1355.0,752.0\" fill=\"none\" stroke=\"currentColor\"/>\n",
       "    <text dy=\"1.25em\" style=\"font-size: 0.8em; letter-spacing: 1px\">\n",
       "        <textPath xlink:href=\"#arrow-ba62f3dae8a546b3b47e77df0500df9e-0-7\" class=\"displacy-label\" startOffset=\"50%\" side=\"left\" fill=\"currentColor\" text-anchor=\"middle\">compound</textPath>\n",
       "    </text>\n",
       "    <path class=\"displacy-arrowhead\" d=\"M1270,754.0 L1262,742.0 1278,742.0\" fill=\"currentColor\"/>\n",
       "</g>\n",
       "\n",
       "<g class=\"displacy-arrow\">\n",
       "    <path class=\"displacy-arc\" id=\"arrow-ba62f3dae8a546b3b47e77df0500df9e-0-8\" stroke-width=\"2px\" d=\"M1420,752.0 C1420,677.0 1505.0,677.0 1505.0,752.0\" fill=\"none\" stroke=\"currentColor\"/>\n",
       "    <text dy=\"1.25em\" style=\"font-size: 0.8em; letter-spacing: 1px\">\n",
       "        <textPath xlink:href=\"#arrow-ba62f3dae8a546b3b47e77df0500df9e-0-8\" class=\"displacy-label\" startOffset=\"50%\" side=\"left\" fill=\"currentColor\" text-anchor=\"middle\">nsubj</textPath>\n",
       "    </text>\n",
       "    <path class=\"displacy-arrowhead\" d=\"M1420,754.0 L1412,742.0 1428,742.0\" fill=\"currentColor\"/>\n",
       "</g>\n",
       "\n",
       "<g class=\"displacy-arrow\">\n",
       "    <path class=\"displacy-arc\" id=\"arrow-ba62f3dae8a546b3b47e77df0500df9e-0-9\" stroke-width=\"2px\" d=\"M820,752.0 C820,377.0 1525.0,377.0 1525.0,752.0\" fill=\"none\" stroke=\"currentColor\"/>\n",
       "    <text dy=\"1.25em\" style=\"font-size: 0.8em; letter-spacing: 1px\">\n",
       "        <textPath xlink:href=\"#arrow-ba62f3dae8a546b3b47e77df0500df9e-0-9\" class=\"displacy-label\" startOffset=\"50%\" side=\"left\" fill=\"currentColor\" text-anchor=\"middle\">ccomp</textPath>\n",
       "    </text>\n",
       "    <path class=\"displacy-arrowhead\" d=\"M1525.0,754.0 L1533.0,742.0 1517.0,742.0\" fill=\"currentColor\"/>\n",
       "</g>\n",
       "\n",
       "<g class=\"displacy-arrow\">\n",
       "    <path class=\"displacy-arc\" id=\"arrow-ba62f3dae8a546b3b47e77df0500df9e-0-10\" stroke-width=\"2px\" d=\"M1570,752.0 C1570,677.0 1655.0,677.0 1655.0,752.0\" fill=\"none\" stroke=\"currentColor\"/>\n",
       "    <text dy=\"1.25em\" style=\"font-size: 0.8em; letter-spacing: 1px\">\n",
       "        <textPath xlink:href=\"#arrow-ba62f3dae8a546b3b47e77df0500df9e-0-10\" class=\"displacy-label\" startOffset=\"50%\" side=\"left\" fill=\"currentColor\" text-anchor=\"middle\">prep</textPath>\n",
       "    </text>\n",
       "    <path class=\"displacy-arrowhead\" d=\"M1655.0,754.0 L1663.0,742.0 1647.0,742.0\" fill=\"currentColor\"/>\n",
       "</g>\n",
       "\n",
       "<g class=\"displacy-arrow\">\n",
       "    <path class=\"displacy-arc\" id=\"arrow-ba62f3dae8a546b3b47e77df0500df9e-0-11\" stroke-width=\"2px\" d=\"M1870,752.0 C1870,677.0 1955.0,677.0 1955.0,752.0\" fill=\"none\" stroke=\"currentColor\"/>\n",
       "    <text dy=\"1.25em\" style=\"font-size: 0.8em; letter-spacing: 1px\">\n",
       "        <textPath xlink:href=\"#arrow-ba62f3dae8a546b3b47e77df0500df9e-0-11\" class=\"displacy-label\" startOffset=\"50%\" side=\"left\" fill=\"currentColor\" text-anchor=\"middle\">det</textPath>\n",
       "    </text>\n",
       "    <path class=\"displacy-arrowhead\" d=\"M1870,754.0 L1862,742.0 1878,742.0\" fill=\"currentColor\"/>\n",
       "</g>\n",
       "\n",
       "<g class=\"displacy-arrow\">\n",
       "    <path class=\"displacy-arc\" id=\"arrow-ba62f3dae8a546b3b47e77df0500df9e-0-12\" stroke-width=\"2px\" d=\"M1720,752.0 C1720,602.0 1960.0,602.0 1960.0,752.0\" fill=\"none\" stroke=\"currentColor\"/>\n",
       "    <text dy=\"1.25em\" style=\"font-size: 0.8em; letter-spacing: 1px\">\n",
       "        <textPath xlink:href=\"#arrow-ba62f3dae8a546b3b47e77df0500df9e-0-12\" class=\"displacy-label\" startOffset=\"50%\" side=\"left\" fill=\"currentColor\" text-anchor=\"middle\">pobj</textPath>\n",
       "    </text>\n",
       "    <path class=\"displacy-arrowhead\" d=\"M1960.0,754.0 L1968.0,742.0 1952.0,742.0\" fill=\"currentColor\"/>\n",
       "</g>\n",
       "\n",
       "<g class=\"displacy-arrow\">\n",
       "    <path class=\"displacy-arc\" id=\"arrow-ba62f3dae8a546b3b47e77df0500df9e-0-13\" stroke-width=\"2px\" d=\"M2020,752.0 C2020,677.0 2105.0,677.0 2105.0,752.0\" fill=\"none\" stroke=\"currentColor\"/>\n",
       "    <text dy=\"1.25em\" style=\"font-size: 0.8em; letter-spacing: 1px\">\n",
       "        <textPath xlink:href=\"#arrow-ba62f3dae8a546b3b47e77df0500df9e-0-13\" class=\"displacy-label\" startOffset=\"50%\" side=\"left\" fill=\"currentColor\" text-anchor=\"middle\">prep</textPath>\n",
       "    </text>\n",
       "    <path class=\"displacy-arrowhead\" d=\"M2105.0,754.0 L2113.0,742.0 2097.0,742.0\" fill=\"currentColor\"/>\n",
       "</g>\n",
       "\n",
       "<g class=\"displacy-arrow\">\n",
       "    <path class=\"displacy-arc\" id=\"arrow-ba62f3dae8a546b3b47e77df0500df9e-0-14\" stroke-width=\"2px\" d=\"M2320,752.0 C2320,527.0 2715.0,527.0 2715.0,752.0\" fill=\"none\" stroke=\"currentColor\"/>\n",
       "    <text dy=\"1.25em\" style=\"font-size: 0.8em; letter-spacing: 1px\">\n",
       "        <textPath xlink:href=\"#arrow-ba62f3dae8a546b3b47e77df0500df9e-0-14\" class=\"displacy-label\" startOffset=\"50%\" side=\"left\" fill=\"currentColor\" text-anchor=\"middle\">det</textPath>\n",
       "    </text>\n",
       "    <path class=\"displacy-arrowhead\" d=\"M2320,754.0 L2312,742.0 2328,742.0\" fill=\"currentColor\"/>\n",
       "</g>\n",
       "\n",
       "<g class=\"displacy-arrow\">\n",
       "    <path class=\"displacy-arc\" id=\"arrow-ba62f3dae8a546b3b47e77df0500df9e-0-15\" stroke-width=\"2px\" d=\"M2470,752.0 C2470,602.0 2710.0,602.0 2710.0,752.0\" fill=\"none\" stroke=\"currentColor\"/>\n",
       "    <text dy=\"1.25em\" style=\"font-size: 0.8em; letter-spacing: 1px\">\n",
       "        <textPath xlink:href=\"#arrow-ba62f3dae8a546b3b47e77df0500df9e-0-15\" class=\"displacy-label\" startOffset=\"50%\" side=\"left\" fill=\"currentColor\" text-anchor=\"middle\">nummod</textPath>\n",
       "    </text>\n",
       "    <path class=\"displacy-arrowhead\" d=\"M2470,754.0 L2462,742.0 2478,742.0\" fill=\"currentColor\"/>\n",
       "</g>\n",
       "\n",
       "<g class=\"displacy-arrow\">\n",
       "    <path class=\"displacy-arc\" id=\"arrow-ba62f3dae8a546b3b47e77df0500df9e-0-16\" stroke-width=\"2px\" d=\"M2620,752.0 C2620,677.0 2705.0,677.0 2705.0,752.0\" fill=\"none\" stroke=\"currentColor\"/>\n",
       "    <text dy=\"1.25em\" style=\"font-size: 0.8em; letter-spacing: 1px\">\n",
       "        <textPath xlink:href=\"#arrow-ba62f3dae8a546b3b47e77df0500df9e-0-16\" class=\"displacy-label\" startOffset=\"50%\" side=\"left\" fill=\"currentColor\" text-anchor=\"middle\">compound</textPath>\n",
       "    </text>\n",
       "    <path class=\"displacy-arrowhead\" d=\"M2620,754.0 L2612,742.0 2628,742.0\" fill=\"currentColor\"/>\n",
       "</g>\n",
       "\n",
       "<g class=\"displacy-arrow\">\n",
       "    <path class=\"displacy-arc\" id=\"arrow-ba62f3dae8a546b3b47e77df0500df9e-0-17\" stroke-width=\"2px\" d=\"M2170,752.0 C2170,452.0 2720.0,452.0 2720.0,752.0\" fill=\"none\" stroke=\"currentColor\"/>\n",
       "    <text dy=\"1.25em\" style=\"font-size: 0.8em; letter-spacing: 1px\">\n",
       "        <textPath xlink:href=\"#arrow-ba62f3dae8a546b3b47e77df0500df9e-0-17\" class=\"displacy-label\" startOffset=\"50%\" side=\"left\" fill=\"currentColor\" text-anchor=\"middle\">pobj</textPath>\n",
       "    </text>\n",
       "    <path class=\"displacy-arrowhead\" d=\"M2720.0,754.0 L2728.0,742.0 2712.0,742.0\" fill=\"currentColor\"/>\n",
       "</g>\n",
       "\n",
       "<g class=\"displacy-arrow\">\n",
       "    <path class=\"displacy-arc\" id=\"arrow-ba62f3dae8a546b3b47e77df0500df9e-0-18\" stroke-width=\"2px\" d=\"M2920,752.0 C2920,677.0 3005.0,677.0 3005.0,752.0\" fill=\"none\" stroke=\"currentColor\"/>\n",
       "    <text dy=\"1.25em\" style=\"font-size: 0.8em; letter-spacing: 1px\">\n",
       "        <textPath xlink:href=\"#arrow-ba62f3dae8a546b3b47e77df0500df9e-0-18\" class=\"displacy-label\" startOffset=\"50%\" side=\"left\" fill=\"currentColor\" text-anchor=\"middle\">advmod</textPath>\n",
       "    </text>\n",
       "    <path class=\"displacy-arrowhead\" d=\"M2920,754.0 L2912,742.0 2928,742.0\" fill=\"currentColor\"/>\n",
       "</g>\n",
       "\n",
       "<g class=\"displacy-arrow\">\n",
       "    <path class=\"displacy-arc\" id=\"arrow-ba62f3dae8a546b3b47e77df0500df9e-0-19\" stroke-width=\"2px\" d=\"M1570,752.0 C1570,152.0 3040.0,152.0 3040.0,752.0\" fill=\"none\" stroke=\"currentColor\"/>\n",
       "    <text dy=\"1.25em\" style=\"font-size: 0.8em; letter-spacing: 1px\">\n",
       "        <textPath xlink:href=\"#arrow-ba62f3dae8a546b3b47e77df0500df9e-0-19\" class=\"displacy-label\" startOffset=\"50%\" side=\"left\" fill=\"currentColor\" text-anchor=\"middle\">prep</textPath>\n",
       "    </text>\n",
       "    <path class=\"displacy-arrowhead\" d=\"M3040.0,754.0 L3048.0,742.0 3032.0,742.0\" fill=\"currentColor\"/>\n",
       "</g>\n",
       "\n",
       "<g class=\"displacy-arrow\">\n",
       "    <path class=\"displacy-arc\" id=\"arrow-ba62f3dae8a546b3b47e77df0500df9e-0-20\" stroke-width=\"2px\" d=\"M3220,752.0 C3220,302.0 4080.0,302.0 4080.0,752.0\" fill=\"none\" stroke=\"currentColor\"/>\n",
       "    <text dy=\"1.25em\" style=\"font-size: 0.8em; letter-spacing: 1px\">\n",
       "        <textPath xlink:href=\"#arrow-ba62f3dae8a546b3b47e77df0500df9e-0-20\" class=\"displacy-label\" startOffset=\"50%\" side=\"left\" fill=\"currentColor\" text-anchor=\"middle\">det</textPath>\n",
       "    </text>\n",
       "    <path class=\"displacy-arrowhead\" d=\"M3220,754.0 L3212,742.0 3228,742.0\" fill=\"currentColor\"/>\n",
       "</g>\n",
       "\n",
       "<g class=\"displacy-arrow\">\n",
       "    <path class=\"displacy-arc\" id=\"arrow-ba62f3dae8a546b3b47e77df0500df9e-0-21\" stroke-width=\"2px\" d=\"M3370,752.0 C3370,377.0 4075.0,377.0 4075.0,752.0\" fill=\"none\" stroke=\"currentColor\"/>\n",
       "    <text dy=\"1.25em\" style=\"font-size: 0.8em; letter-spacing: 1px\">\n",
       "        <textPath xlink:href=\"#arrow-ba62f3dae8a546b3b47e77df0500df9e-0-21\" class=\"displacy-label\" startOffset=\"50%\" side=\"left\" fill=\"currentColor\" text-anchor=\"middle\">amod</textPath>\n",
       "    </text>\n",
       "    <path class=\"displacy-arrowhead\" d=\"M3370,754.0 L3362,742.0 3378,742.0\" fill=\"currentColor\"/>\n",
       "</g>\n",
       "\n",
       "<g class=\"displacy-arrow\">\n",
       "    <path class=\"displacy-arc\" id=\"arrow-ba62f3dae8a546b3b47e77df0500df9e-0-22\" stroke-width=\"2px\" d=\"M3520,752.0 C3520,452.0 4070.0,452.0 4070.0,752.0\" fill=\"none\" stroke=\"currentColor\"/>\n",
       "    <text dy=\"1.25em\" style=\"font-size: 0.8em; letter-spacing: 1px\">\n",
       "        <textPath xlink:href=\"#arrow-ba62f3dae8a546b3b47e77df0500df9e-0-22\" class=\"displacy-label\" startOffset=\"50%\" side=\"left\" fill=\"currentColor\" text-anchor=\"middle\">nmod</textPath>\n",
       "    </text>\n",
       "    <path class=\"displacy-arrowhead\" d=\"M3520,754.0 L3512,742.0 3528,742.0\" fill=\"currentColor\"/>\n",
       "</g>\n",
       "\n",
       "<g class=\"displacy-arrow\">\n",
       "    <path class=\"displacy-arc\" id=\"arrow-ba62f3dae8a546b3b47e77df0500df9e-0-23\" stroke-width=\"2px\" d=\"M3520,752.0 C3520,677.0 3605.0,677.0 3605.0,752.0\" fill=\"none\" stroke=\"currentColor\"/>\n",
       "    <text dy=\"1.25em\" style=\"font-size: 0.8em; letter-spacing: 1px\">\n",
       "        <textPath xlink:href=\"#arrow-ba62f3dae8a546b3b47e77df0500df9e-0-23\" class=\"displacy-label\" startOffset=\"50%\" side=\"left\" fill=\"currentColor\" text-anchor=\"middle\">nummod</textPath>\n",
       "    </text>\n",
       "    <path class=\"displacy-arrowhead\" d=\"M3605.0,754.0 L3613.0,742.0 3597.0,742.0\" fill=\"currentColor\"/>\n",
       "</g>\n",
       "\n",
       "<g class=\"displacy-arrow\">\n",
       "    <path class=\"displacy-arc\" id=\"arrow-ba62f3dae8a546b3b47e77df0500df9e-0-24\" stroke-width=\"2px\" d=\"M3820,752.0 C3820,677.0 3905.0,677.0 3905.0,752.0\" fill=\"none\" stroke=\"currentColor\"/>\n",
       "    <text dy=\"1.25em\" style=\"font-size: 0.8em; letter-spacing: 1px\">\n",
       "        <textPath xlink:href=\"#arrow-ba62f3dae8a546b3b47e77df0500df9e-0-24\" class=\"displacy-label\" startOffset=\"50%\" side=\"left\" fill=\"currentColor\" text-anchor=\"middle\">compound</textPath>\n",
       "    </text>\n",
       "    <path class=\"displacy-arrowhead\" d=\"M3820,754.0 L3812,742.0 3828,742.0\" fill=\"currentColor\"/>\n",
       "</g>\n",
       "\n",
       "<g class=\"displacy-arrow\">\n",
       "    <path class=\"displacy-arc\" id=\"arrow-ba62f3dae8a546b3b47e77df0500df9e-0-25\" stroke-width=\"2px\" d=\"M3970,752.0 C3970,677.0 4055.0,677.0 4055.0,752.0\" fill=\"none\" stroke=\"currentColor\"/>\n",
       "    <text dy=\"1.25em\" style=\"font-size: 0.8em; letter-spacing: 1px\">\n",
       "        <textPath xlink:href=\"#arrow-ba62f3dae8a546b3b47e77df0500df9e-0-25\" class=\"displacy-label\" startOffset=\"50%\" side=\"left\" fill=\"currentColor\" text-anchor=\"middle\">compound</textPath>\n",
       "    </text>\n",
       "    <path class=\"displacy-arrowhead\" d=\"M3970,754.0 L3962,742.0 3978,742.0\" fill=\"currentColor\"/>\n",
       "</g>\n",
       "\n",
       "<g class=\"displacy-arrow\">\n",
       "    <path class=\"displacy-arc\" id=\"arrow-ba62f3dae8a546b3b47e77df0500df9e-0-26\" stroke-width=\"2px\" d=\"M3070,752.0 C3070,227.0 4085.0,227.0 4085.0,752.0\" fill=\"none\" stroke=\"currentColor\"/>\n",
       "    <text dy=\"1.25em\" style=\"font-size: 0.8em; letter-spacing: 1px\">\n",
       "        <textPath xlink:href=\"#arrow-ba62f3dae8a546b3b47e77df0500df9e-0-26\" class=\"displacy-label\" startOffset=\"50%\" side=\"left\" fill=\"currentColor\" text-anchor=\"middle\">pobj</textPath>\n",
       "    </text>\n",
       "    <path class=\"displacy-arrowhead\" d=\"M4085.0,754.0 L4093.0,742.0 4077.0,742.0\" fill=\"currentColor\"/>\n",
       "</g>\n",
       "\n",
       "<g class=\"displacy-arrow\">\n",
       "    <path class=\"displacy-arc\" id=\"arrow-ba62f3dae8a546b3b47e77df0500df9e-0-27\" stroke-width=\"2px\" d=\"M1570,752.0 C1570,77.0 4245.0,77.0 4245.0,752.0\" fill=\"none\" stroke=\"currentColor\"/>\n",
       "    <text dy=\"1.25em\" style=\"font-size: 0.8em; letter-spacing: 1px\">\n",
       "        <textPath xlink:href=\"#arrow-ba62f3dae8a546b3b47e77df0500df9e-0-27\" class=\"displacy-label\" startOffset=\"50%\" side=\"left\" fill=\"currentColor\" text-anchor=\"middle\">cc</textPath>\n",
       "    </text>\n",
       "    <path class=\"displacy-arrowhead\" d=\"M4245.0,754.0 L4253.0,742.0 4237.0,742.0\" fill=\"currentColor\"/>\n",
       "</g>\n",
       "\n",
       "<g class=\"displacy-arrow\">\n",
       "    <path class=\"displacy-arc\" id=\"arrow-ba62f3dae8a546b3b47e77df0500df9e-0-28\" stroke-width=\"2px\" d=\"M1570,752.0 C1570,2.0 4400.0,2.0 4400.0,752.0\" fill=\"none\" stroke=\"currentColor\"/>\n",
       "    <text dy=\"1.25em\" style=\"font-size: 0.8em; letter-spacing: 1px\">\n",
       "        <textPath xlink:href=\"#arrow-ba62f3dae8a546b3b47e77df0500df9e-0-28\" class=\"displacy-label\" startOffset=\"50%\" side=\"left\" fill=\"currentColor\" text-anchor=\"middle\">conj</textPath>\n",
       "    </text>\n",
       "    <path class=\"displacy-arrowhead\" d=\"M4400.0,754.0 L4408.0,742.0 4392.0,742.0\" fill=\"currentColor\"/>\n",
       "</g>\n",
       "\n",
       "<g class=\"displacy-arrow\">\n",
       "    <path class=\"displacy-arc\" id=\"arrow-ba62f3dae8a546b3b47e77df0500df9e-0-29\" stroke-width=\"2px\" d=\"M4570,752.0 C4570,602.0 4810.0,602.0 4810.0,752.0\" fill=\"none\" stroke=\"currentColor\"/>\n",
       "    <text dy=\"1.25em\" style=\"font-size: 0.8em; letter-spacing: 1px\">\n",
       "        <textPath xlink:href=\"#arrow-ba62f3dae8a546b3b47e77df0500df9e-0-29\" class=\"displacy-label\" startOffset=\"50%\" side=\"left\" fill=\"currentColor\" text-anchor=\"middle\">neg</textPath>\n",
       "    </text>\n",
       "    <path class=\"displacy-arrowhead\" d=\"M4570,754.0 L4562,742.0 4578,742.0\" fill=\"currentColor\"/>\n",
       "</g>\n",
       "\n",
       "<g class=\"displacy-arrow\">\n",
       "    <path class=\"displacy-arc\" id=\"arrow-ba62f3dae8a546b3b47e77df0500df9e-0-30\" stroke-width=\"2px\" d=\"M4720,752.0 C4720,677.0 4805.0,677.0 4805.0,752.0\" fill=\"none\" stroke=\"currentColor\"/>\n",
       "    <text dy=\"1.25em\" style=\"font-size: 0.8em; letter-spacing: 1px\">\n",
       "        <textPath xlink:href=\"#arrow-ba62f3dae8a546b3b47e77df0500df9e-0-30\" class=\"displacy-label\" startOffset=\"50%\" side=\"left\" fill=\"currentColor\" text-anchor=\"middle\">aux</textPath>\n",
       "    </text>\n",
       "    <path class=\"displacy-arrowhead\" d=\"M4720,754.0 L4712,742.0 4728,742.0\" fill=\"currentColor\"/>\n",
       "</g>\n",
       "\n",
       "<g class=\"displacy-arrow\">\n",
       "    <path class=\"displacy-arc\" id=\"arrow-ba62f3dae8a546b3b47e77df0500df9e-0-31\" stroke-width=\"2px\" d=\"M4420,752.0 C4420,527.0 4815.0,527.0 4815.0,752.0\" fill=\"none\" stroke=\"currentColor\"/>\n",
       "    <text dy=\"1.25em\" style=\"font-size: 0.8em; letter-spacing: 1px\">\n",
       "        <textPath xlink:href=\"#arrow-ba62f3dae8a546b3b47e77df0500df9e-0-31\" class=\"displacy-label\" startOffset=\"50%\" side=\"left\" fill=\"currentColor\" text-anchor=\"middle\">xcomp</textPath>\n",
       "    </text>\n",
       "    <path class=\"displacy-arrowhead\" d=\"M4815.0,754.0 L4823.0,742.0 4807.0,742.0\" fill=\"currentColor\"/>\n",
       "</g>\n",
       "\n",
       "<g class=\"displacy-arrow\">\n",
       "    <path class=\"displacy-arc\" id=\"arrow-ba62f3dae8a546b3b47e77df0500df9e-0-32\" stroke-width=\"2px\" d=\"M4870,752.0 C4870,677.0 4955.0,677.0 4955.0,752.0\" fill=\"none\" stroke=\"currentColor\"/>\n",
       "    <text dy=\"1.25em\" style=\"font-size: 0.8em; letter-spacing: 1px\">\n",
       "        <textPath xlink:href=\"#arrow-ba62f3dae8a546b3b47e77df0500df9e-0-32\" class=\"displacy-label\" startOffset=\"50%\" side=\"left\" fill=\"currentColor\" text-anchor=\"middle\">dobj</textPath>\n",
       "    </text>\n",
       "    <path class=\"displacy-arrowhead\" d=\"M4955.0,754.0 L4963.0,742.0 4947.0,742.0\" fill=\"currentColor\"/>\n",
       "</g>\n",
       "\n",
       "<g class=\"displacy-arrow\">\n",
       "    <path class=\"displacy-arc\" id=\"arrow-ba62f3dae8a546b3b47e77df0500df9e-0-33\" stroke-width=\"2px\" d=\"M4870,752.0 C4870,602.0 5110.0,602.0 5110.0,752.0\" fill=\"none\" stroke=\"currentColor\"/>\n",
       "    <text dy=\"1.25em\" style=\"font-size: 0.8em; letter-spacing: 1px\">\n",
       "        <textPath xlink:href=\"#arrow-ba62f3dae8a546b3b47e77df0500df9e-0-33\" class=\"displacy-label\" startOffset=\"50%\" side=\"left\" fill=\"currentColor\" text-anchor=\"middle\">prep</textPath>\n",
       "    </text>\n",
       "    <path class=\"displacy-arrowhead\" d=\"M5110.0,754.0 L5118.0,742.0 5102.0,742.0\" fill=\"currentColor\"/>\n",
       "</g>\n",
       "\n",
       "<g class=\"displacy-arrow\">\n",
       "    <path class=\"displacy-arc\" id=\"arrow-ba62f3dae8a546b3b47e77df0500df9e-0-34\" stroke-width=\"2px\" d=\"M5170,752.0 C5170,677.0 5255.0,677.0 5255.0,752.0\" fill=\"none\" stroke=\"currentColor\"/>\n",
       "    <text dy=\"1.25em\" style=\"font-size: 0.8em; letter-spacing: 1px\">\n",
       "        <textPath xlink:href=\"#arrow-ba62f3dae8a546b3b47e77df0500df9e-0-34\" class=\"displacy-label\" startOffset=\"50%\" side=\"left\" fill=\"currentColor\" text-anchor=\"middle\">pobj</textPath>\n",
       "    </text>\n",
       "    <path class=\"displacy-arrowhead\" d=\"M5255.0,754.0 L5263.0,742.0 5247.0,742.0\" fill=\"currentColor\"/>\n",
       "</g>\n",
       "</svg></span>"
      ],
      "text/plain": [
       "<IPython.core.display.HTML object>"
      ]
     },
     "metadata": {
      "tags": []
     },
     "output_type": "display_data"
    }
   ],
   "source": [
    "displacy.render(doc, style='dep', jupyter=True, options={'distance':150})"
   ]
  },
  {
   "cell_type": "markdown",
   "metadata": {
    "id": "_GNj5Zxpzs4B"
   },
   "source": [
    "## Steps in NER\n",
    "\n",
    "Build an ontology. Ontologies may be represented as knowledge bases/graphs. Then link an entity to an ontology entity (node in the graph). This process can be separated into three main components: extraction, search, disambiguation:\n",
    "\n",
    "1. Extraction. Extraction is the detection and preparation of named entity mentions. Uses tokenization, sentence detection, POS (part of speech) tagging, tokenisation, capitalization rules, and in-document [coreference resolution](https://nlp.stanford.edu/projects/coref.shtml). \n",
    "\n",
    "2. Search. Find all possible entities in the ontology that may be a match for the entity in the text. The idea is to get a small set of classes. \n",
    "\n",
    "3. Disambiguation. Choose from among the candidate classes the one that is most likely, i.e., the best one.  \n",
    "\n",
    "Good NER trades off precision (keep false positives low) and recall (keep false negatives low). \n"
   ]
  },
  {
   "cell_type": "markdown",
   "metadata": {
    "id": "2Pd8FDIWzs4C"
   },
   "source": [
    "## Using AWS Comprehend\n",
    "\n",
    "https://docs.aws.amazon.com/comprehend/latest/dg/get-started-api-entities.html\n",
    "\n",
    "1. Use the AWS Console to try out Comprehend. \n",
    "2. Use an API"
   ]
  },
  {
   "cell_type": "markdown",
   "metadata": {
    "id": "3QiUG0jAsuJp"
   },
   "source": [
    "To use Comprehend, we need to enable access to it. Click on the \"IAM role ARN\" link in the notebook instance, then click \"Attach Policies\" then choose \"Comprehend FullAccess\""
   ]
  },
  {
   "cell_type": "code",
   "execution_count": null,
   "metadata": {
    "id": "OPlemLMFUTPm"
   },
   "outputs": [],
   "source": [
    "!aws --version"
   ]
  },
  {
   "cell_type": "markdown",
   "metadata": {
    "id": "xQjJspdpUTPq"
   },
   "source": [
    "Edit the file ~/.aws/config to add the lines for the ACCESS KEY and SECRET KEY using your IAM --> User --> Security Credentals\n",
    "\n",
    "You will need two files, `config` and `credentials`\n",
    "\n",
    "`config`:\n",
    "\n",
    "```\n",
    "[default]\n",
    "region = us-east-2\n",
    "```\n",
    "\n",
    "`credentials`: \n",
    "\n",
    "```\n",
    "[default]\n",
    "aws_access_key_id = AKIAQUH5WUITYGXGUFCUI\n",
    "aws_secret_access_key = rrUGc8hpIM2CcbESou/8jLLdT0dr67V5g57cGoTQ\n",
    "```\n",
    "\n",
    "Then run `aws configure` (and hit Enter everytime)"
   ]
  },
  {
   "cell_type": "code",
   "execution_count": null,
   "metadata": {
    "id": "BIMeoNZkzs4C"
   },
   "outputs": [],
   "source": [
    "!aws comprehend detect-entities --language-code \"en\" --text 'A new statement from Boeing indicates that the aerospace manufacturer knew about a problem with the 737 Max aircraft well before the deadly October 2018 Lion Air crash, but decided not to do anything about it.'"
   ]
  },
  {
   "cell_type": "code",
   "execution_count": null,
   "metadata": {
    "id": "5klmLAM0WDJ4"
   },
   "outputs": [],
   "source": []
  }
 ],
 "metadata": {
  "celltoolbar": "Slideshow",
  "colab": {
   "collapsed_sections": [],
   "name": "02-EntityExtraction_moreTextHandling.ipynb",
   "provenance": []
  },
  "kernelspec": {
   "display_name": "Python 3",
   "language": "python",
   "name": "python3"
  },
  "language_info": {
   "codemirror_mode": {
    "name": "ipython",
    "version": 3
   },
   "file_extension": ".py",
   "mimetype": "text/x-python",
   "name": "python",
   "nbconvert_exporter": "python",
   "pygments_lexer": "ipython3",
   "version": "3.8.3"
  }
 },
 "nbformat": 4,
 "nbformat_minor": 1
}
