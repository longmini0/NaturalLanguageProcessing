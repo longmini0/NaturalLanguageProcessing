{
 "cells": [
  {
   "cell_type": "markdown",
   "metadata": {},
   "source": [
    "\n",
    "# Project - Fake or Real news detection"
   ]
  },
  {
   "cell_type": "markdown",
   "metadata": {},
   "source": [
    " "
   ]
  },
  {
   "cell_type": "markdown",
   "metadata": {},
   "source": [
    "<img src=\"pic1.jpg\">"
   ]
  },
  {
   "cell_type": "markdown",
   "metadata": {},
   "source": [
    "# Introduction"
   ]
  },
  {
   "cell_type": "markdown",
   "metadata": {},
   "source": [
    "<img src=\"pic2.png\">"
   ]
  },
  {
   "cell_type": "markdown",
   "metadata": {},
   "source": [
    "Is the above information fake or real ? Its not real, twitter was hacked and these kind of false information was spread. But the  problem is not only hackers sending false information by hacking the accounts. \n",
    "\n",
    "The main and bigger problem is what we call “Fake News”. It’s well-known that news is the part of communication that keeps us informed of changing events, issues, and characters in the world, the status, or even just the community. However, due to rapid development of technology, getting reliable news is becoming harder and harder as now mostly news is just word of mouth without any authenticity of facts or figures. They are those news stories which are fabricated as no sources are verified .Due to the rise in online social media and networking ,fake news is spreading in large numbers whether for commercial or political reasons. It often has the aim of damagingthe reputation of a person or entity, or making money through advertising revenue. \n",
    "\n",
    "Distinguishing fake news and real news is an important and urgent task as it help in improving the trustworthiness of information in online social networks. In this project we aim to explore the principles, methodologies as well as algorithms mainly by detecting the language patterns that characterize fake and real news through the use of machine learning and natural language processing techniques, from online social networks and other sources and assessing the equivalent performance."
   ]
  },
  {
   "cell_type": "markdown",
   "metadata": {},
   "source": [
    "# Data description"
   ]
  },
  {
   "cell_type": "markdown",
   "metadata": {},
   "source": [
    "https://www.kaggle.com/clmentbisaillon/fake-and-real-news-dataset"
   ]
  },
  {
   "cell_type": "markdown",
   "metadata": {},
   "source": [
    "There are two datasets which contain 59.88 MB fake news and 51.1 MB real news. \n",
    "\n",
    "Each dataset has the same set of variables, title, text, subject and date for each news set. Each row represents one news item; it gives us information about the title of the article, the content of the article(text), on which date it was posted and also it represents which field, namely politics or world news etc. We have roughly as many real news as fake news. It may be helpful for us to do future predictions, since we don’t need to oversample or undersample our dataset."
   ]
  },
  {
   "cell_type": "markdown",
   "metadata": {},
   "source": [
    "## 1. Load necessary libraries"
   ]
  },
  {
   "cell_type": "code",
   "execution_count": 1,
   "metadata": {},
   "outputs": [
    {
     "name": "stderr",
     "output_type": "stream",
     "text": [
      "Using TensorFlow backend.\n"
     ]
    }
   ],
   "source": [
    "import numpy as np\n",
    "import pandas as pd\n",
    "import seaborn as sns\n",
    "import matplotlib.pyplot as plt\n",
    "import nltk\n",
    "from sklearn.preprocessing import LabelBinarizer\n",
    "from nltk.corpus import stopwords\n",
    "from nltk.stem.porter import PorterStemmer\n",
    "from wordcloud import WordCloud,STOPWORDS\n",
    "from nltk.stem import WordNetLemmatizer\n",
    "from nltk.tokenize import word_tokenize,sent_tokenize\n",
    "from bs4 import BeautifulSoup\n",
    "import re,string,unicodedata\n",
    "from keras.preprocessing import text, sequence\n",
    "from sklearn.metrics import classification_report,confusion_matrix,accuracy_score, precision_score, recall_score\n",
    "from sklearn.model_selection import train_test_split\n",
    "from string import punctuation\n",
    "from nltk import pos_tag\n",
    "from nltk.corpus import wordnet\n",
    "import keras\n",
    "from keras.models import Sequential\n",
    "from keras.layers import Dense,Embedding,LSTM,Dropout\n",
    "from keras.callbacks import ReduceLROnPlateau\n",
    "import tensorflow as tf\n",
    "from tensorflow.keras.preprocessing.text import Tokenizer"
   ]
  },
  {
   "cell_type": "markdown",
   "metadata": {},
   "source": [
    "## 2. Import the dataset"
   ]
  },
  {
   "cell_type": "code",
   "execution_count": 2,
   "metadata": {},
   "outputs": [],
   "source": [
    "fake = pd.read_csv('Fake.csv')\n",
    "real = pd.read_csv('True.csv')"
   ]
  },
  {
   "cell_type": "code",
   "execution_count": 3,
   "metadata": {},
   "outputs": [
    {
     "data": {
      "text/html": [
       "<div>\n",
       "<style scoped>\n",
       "    .dataframe tbody tr th:only-of-type {\n",
       "        vertical-align: middle;\n",
       "    }\n",
       "\n",
       "    .dataframe tbody tr th {\n",
       "        vertical-align: top;\n",
       "    }\n",
       "\n",
       "    .dataframe thead th {\n",
       "        text-align: right;\n",
       "    }\n",
       "</style>\n",
       "<table border=\"1\" class=\"dataframe\">\n",
       "  <thead>\n",
       "    <tr style=\"text-align: right;\">\n",
       "      <th></th>\n",
       "      <th>title</th>\n",
       "      <th>text</th>\n",
       "      <th>subject</th>\n",
       "      <th>date</th>\n",
       "    </tr>\n",
       "  </thead>\n",
       "  <tbody>\n",
       "    <tr>\n",
       "      <th>0</th>\n",
       "      <td>Donald Trump Sends Out Embarrassing New Year’...</td>\n",
       "      <td>Donald Trump just couldn t wish all Americans ...</td>\n",
       "      <td>News</td>\n",
       "      <td>December 31, 2017</td>\n",
       "    </tr>\n",
       "    <tr>\n",
       "      <th>1</th>\n",
       "      <td>Drunk Bragging Trump Staffer Started Russian ...</td>\n",
       "      <td>House Intelligence Committee Chairman Devin Nu...</td>\n",
       "      <td>News</td>\n",
       "      <td>December 31, 2017</td>\n",
       "    </tr>\n",
       "    <tr>\n",
       "      <th>2</th>\n",
       "      <td>Sheriff David Clarke Becomes An Internet Joke...</td>\n",
       "      <td>On Friday, it was revealed that former Milwauk...</td>\n",
       "      <td>News</td>\n",
       "      <td>December 30, 2017</td>\n",
       "    </tr>\n",
       "    <tr>\n",
       "      <th>3</th>\n",
       "      <td>Trump Is So Obsessed He Even Has Obama’s Name...</td>\n",
       "      <td>On Christmas day, Donald Trump announced that ...</td>\n",
       "      <td>News</td>\n",
       "      <td>December 29, 2017</td>\n",
       "    </tr>\n",
       "    <tr>\n",
       "      <th>4</th>\n",
       "      <td>Pope Francis Just Called Out Donald Trump Dur...</td>\n",
       "      <td>Pope Francis used his annual Christmas Day mes...</td>\n",
       "      <td>News</td>\n",
       "      <td>December 25, 2017</td>\n",
       "    </tr>\n",
       "  </tbody>\n",
       "</table>\n",
       "</div>"
      ],
      "text/plain": [
       "                                               title  \\\n",
       "0   Donald Trump Sends Out Embarrassing New Year’...   \n",
       "1   Drunk Bragging Trump Staffer Started Russian ...   \n",
       "2   Sheriff David Clarke Becomes An Internet Joke...   \n",
       "3   Trump Is So Obsessed He Even Has Obama’s Name...   \n",
       "4   Pope Francis Just Called Out Donald Trump Dur...   \n",
       "\n",
       "                                                text subject  \\\n",
       "0  Donald Trump just couldn t wish all Americans ...    News   \n",
       "1  House Intelligence Committee Chairman Devin Nu...    News   \n",
       "2  On Friday, it was revealed that former Milwauk...    News   \n",
       "3  On Christmas day, Donald Trump announced that ...    News   \n",
       "4  Pope Francis used his annual Christmas Day mes...    News   \n",
       "\n",
       "                date  \n",
       "0  December 31, 2017  \n",
       "1  December 31, 2017  \n",
       "2  December 30, 2017  \n",
       "3  December 29, 2017  \n",
       "4  December 25, 2017  "
      ]
     },
     "execution_count": 3,
     "metadata": {},
     "output_type": "execute_result"
    }
   ],
   "source": [
    "fake.head()"
   ]
  },
  {
   "cell_type": "code",
   "execution_count": 4,
   "metadata": {},
   "outputs": [
    {
     "data": {
      "text/html": [
       "<div>\n",
       "<style scoped>\n",
       "    .dataframe tbody tr th:only-of-type {\n",
       "        vertical-align: middle;\n",
       "    }\n",
       "\n",
       "    .dataframe tbody tr th {\n",
       "        vertical-align: top;\n",
       "    }\n",
       "\n",
       "    .dataframe thead th {\n",
       "        text-align: right;\n",
       "    }\n",
       "</style>\n",
       "<table border=\"1\" class=\"dataframe\">\n",
       "  <thead>\n",
       "    <tr style=\"text-align: right;\">\n",
       "      <th></th>\n",
       "      <th>title</th>\n",
       "      <th>text</th>\n",
       "      <th>subject</th>\n",
       "      <th>date</th>\n",
       "    </tr>\n",
       "  </thead>\n",
       "  <tbody>\n",
       "    <tr>\n",
       "      <th>0</th>\n",
       "      <td>As U.S. budget fight looms, Republicans flip t...</td>\n",
       "      <td>WASHINGTON (Reuters) - The head of a conservat...</td>\n",
       "      <td>politicsNews</td>\n",
       "      <td>December 31, 2017</td>\n",
       "    </tr>\n",
       "    <tr>\n",
       "      <th>1</th>\n",
       "      <td>U.S. military to accept transgender recruits o...</td>\n",
       "      <td>WASHINGTON (Reuters) - Transgender people will...</td>\n",
       "      <td>politicsNews</td>\n",
       "      <td>December 29, 2017</td>\n",
       "    </tr>\n",
       "    <tr>\n",
       "      <th>2</th>\n",
       "      <td>Senior U.S. Republican senator: 'Let Mr. Muell...</td>\n",
       "      <td>WASHINGTON (Reuters) - The special counsel inv...</td>\n",
       "      <td>politicsNews</td>\n",
       "      <td>December 31, 2017</td>\n",
       "    </tr>\n",
       "    <tr>\n",
       "      <th>3</th>\n",
       "      <td>FBI Russia probe helped by Australian diplomat...</td>\n",
       "      <td>WASHINGTON (Reuters) - Trump campaign adviser ...</td>\n",
       "      <td>politicsNews</td>\n",
       "      <td>December 30, 2017</td>\n",
       "    </tr>\n",
       "    <tr>\n",
       "      <th>4</th>\n",
       "      <td>Trump wants Postal Service to charge 'much mor...</td>\n",
       "      <td>SEATTLE/WASHINGTON (Reuters) - President Donal...</td>\n",
       "      <td>politicsNews</td>\n",
       "      <td>December 29, 2017</td>\n",
       "    </tr>\n",
       "  </tbody>\n",
       "</table>\n",
       "</div>"
      ],
      "text/plain": [
       "                                               title  \\\n",
       "0  As U.S. budget fight looms, Republicans flip t...   \n",
       "1  U.S. military to accept transgender recruits o...   \n",
       "2  Senior U.S. Republican senator: 'Let Mr. Muell...   \n",
       "3  FBI Russia probe helped by Australian diplomat...   \n",
       "4  Trump wants Postal Service to charge 'much mor...   \n",
       "\n",
       "                                                text       subject  \\\n",
       "0  WASHINGTON (Reuters) - The head of a conservat...  politicsNews   \n",
       "1  WASHINGTON (Reuters) - Transgender people will...  politicsNews   \n",
       "2  WASHINGTON (Reuters) - The special counsel inv...  politicsNews   \n",
       "3  WASHINGTON (Reuters) - Trump campaign adviser ...  politicsNews   \n",
       "4  SEATTLE/WASHINGTON (Reuters) - President Donal...  politicsNews   \n",
       "\n",
       "                 date  \n",
       "0  December 31, 2017   \n",
       "1  December 29, 2017   \n",
       "2  December 31, 2017   \n",
       "3  December 30, 2017   \n",
       "4  December 29, 2017   "
      ]
     },
     "execution_count": 4,
     "metadata": {},
     "output_type": "execute_result"
    }
   ],
   "source": [
    "real.head()"
   ]
  },
  {
   "cell_type": "code",
   "execution_count": 5,
   "metadata": {},
   "outputs": [
    {
     "data": {
      "text/plain": [
       "((23481, 4), (21417, 4))"
      ]
     },
     "execution_count": 5,
     "metadata": {},
     "output_type": "execute_result"
    }
   ],
   "source": [
    "fake.shape, real.shape"
   ]
  },
  {
   "cell_type": "markdown",
   "metadata": {},
   "source": [
    "## 3. Data visualization and preprocessing"
   ]
  },
  {
   "cell_type": "markdown",
   "metadata": {},
   "source": [
    "### 3-1. Check for null values"
   ]
  },
  {
   "cell_type": "code",
   "execution_count": 6,
   "metadata": {},
   "outputs": [
    {
     "data": {
      "text/plain": [
       "title      0\n",
       "text       0\n",
       "subject    0\n",
       "date       0\n",
       "dtype: int64"
      ]
     },
     "execution_count": 6,
     "metadata": {},
     "output_type": "execute_result"
    }
   ],
   "source": [
    "fake.isnull().sum()"
   ]
  },
  {
   "cell_type": "code",
   "execution_count": 7,
   "metadata": {
    "scrolled": true
   },
   "outputs": [
    {
     "data": {
      "text/plain": [
       "title      0\n",
       "text       0\n",
       "subject    0\n",
       "date       0\n",
       "dtype: int64"
      ]
     },
     "execution_count": 7,
     "metadata": {},
     "output_type": "execute_result"
    }
   ],
   "source": [
    "real.isnull().sum()"
   ]
  },
  {
   "cell_type": "markdown",
   "metadata": {},
   "source": [
    "There are no null values in both the datasets. We merge both real and fake news dataset and we added one extra column which is binary type called category, it distinguishes real from fake news, takes value 0 when fake and 1 when real. To make sure our data is not biased we reshuffled our dataset."
   ]
  },
  {
   "cell_type": "markdown",
   "metadata": {},
   "source": [
    "### 3-2. Insert the lable and merge two datasets"
   ]
  },
  {
   "cell_type": "code",
   "execution_count": 8,
   "metadata": {},
   "outputs": [],
   "source": [
    "# fake news for 0, real news for 1\n",
    "fake['category'] = 0\n",
    "real['category'] = 1"
   ]
  },
  {
   "cell_type": "code",
   "execution_count": 17,
   "metadata": {},
   "outputs": [
    {
     "data": {
      "text/html": [
       "<div>\n",
       "<style scoped>\n",
       "    .dataframe tbody tr th:only-of-type {\n",
       "        vertical-align: middle;\n",
       "    }\n",
       "\n",
       "    .dataframe tbody tr th {\n",
       "        vertical-align: top;\n",
       "    }\n",
       "\n",
       "    .dataframe thead th {\n",
       "        text-align: right;\n",
       "    }\n",
       "</style>\n",
       "<table border=\"1\" class=\"dataframe\">\n",
       "  <thead>\n",
       "    <tr style=\"text-align: right;\">\n",
       "      <th></th>\n",
       "      <th>title</th>\n",
       "      <th>text</th>\n",
       "      <th>subject</th>\n",
       "      <th>date</th>\n",
       "      <th>category</th>\n",
       "    </tr>\n",
       "  </thead>\n",
       "  <tbody>\n",
       "    <tr>\n",
       "      <th>35591</th>\n",
       "      <td>TWO “HIGH THREAT” EXPLOSIVE Experts Moved From...</td>\n",
       "      <td>If someone would have told me in 2008 that we ...</td>\n",
       "      <td>politics</td>\n",
       "      <td>Apr 4, 2016</td>\n",
       "      <td>0</td>\n",
       "    </tr>\n",
       "    <tr>\n",
       "      <th>20339</th>\n",
       "      <td>Romania names new minister to modernize military</td>\n",
       "      <td>BUCHAREST (Reuters) - Romania s leftist govern...</td>\n",
       "      <td>worldnews</td>\n",
       "      <td>September 12, 2017</td>\n",
       "      <td>1</td>\n",
       "    </tr>\n",
       "    <tr>\n",
       "      <th>11480</th>\n",
       "      <td>Japan's emperor draws record birthday crowd as...</td>\n",
       "      <td>TOKYO (Reuters) - A record crowd paid their re...</td>\n",
       "      <td>worldnews</td>\n",
       "      <td>December 23, 2017</td>\n",
       "      <td>1</td>\n",
       "    </tr>\n",
       "    <tr>\n",
       "      <th>37399</th>\n",
       "      <td>BURN! SEBASTIAN GORKA HUMILIATES MSNBC On Use ...</td>\n",
       "      <td>It s probably not the wisest decision to argue...</td>\n",
       "      <td>Government News</td>\n",
       "      <td>Aug 8, 2017</td>\n",
       "      <td>0</td>\n",
       "    </tr>\n",
       "    <tr>\n",
       "      <th>443</th>\n",
       "      <td>Factbox: Five facts about Tom Cotton, Trump's ...</td>\n",
       "      <td>WASHINGTON (Reuters) - U.S. Senator Tom Cotton...</td>\n",
       "      <td>politicsNews</td>\n",
       "      <td>November 30, 2017</td>\n",
       "      <td>1</td>\n",
       "    </tr>\n",
       "    <tr>\n",
       "      <th>...</th>\n",
       "      <td>...</td>\n",
       "      <td>...</td>\n",
       "      <td>...</td>\n",
       "      <td>...</td>\n",
       "      <td>...</td>\n",
       "    </tr>\n",
       "    <tr>\n",
       "      <th>4388</th>\n",
       "      <td>U.S. strikes in Syria show resolve against che...</td>\n",
       "      <td>BRUSSELS (Reuters) - European Council Presiden...</td>\n",
       "      <td>politicsNews</td>\n",
       "      <td>April 7, 2017</td>\n",
       "      <td>1</td>\n",
       "    </tr>\n",
       "    <tr>\n",
       "      <th>35192</th>\n",
       "      <td>CORRUPT STATE DEPARTMENT Deletes Key Info From...</td>\n",
       "      <td>This is seriously concerning! James Rosen call...</td>\n",
       "      <td>politics</td>\n",
       "      <td>Jun 2, 2016</td>\n",
       "      <td>0</td>\n",
       "    </tr>\n",
       "    <tr>\n",
       "      <th>5223</th>\n",
       "      <td>White House says no ethanol executive order in...</td>\n",
       "      <td>(Reuters) - The White House on Tuesday said th...</td>\n",
       "      <td>politicsNews</td>\n",
       "      <td>February 28, 2017</td>\n",
       "      <td>1</td>\n",
       "    </tr>\n",
       "    <tr>\n",
       "      <th>30910</th>\n",
       "      <td>NEW FINDINGS SHOW TWO IMPORTANT Words Were Del...</td>\n",
       "      <td>The word  crooked  doesn t only apply to Hilla...</td>\n",
       "      <td>politics</td>\n",
       "      <td>Nov 7, 2017</td>\n",
       "      <td>0</td>\n",
       "    </tr>\n",
       "    <tr>\n",
       "      <th>21740</th>\n",
       "      <td>WATCH: Trump’s Treasury Sec. Steve Mnuchin Sa...</td>\n",
       "      <td>Donald Trump is clearly violating the free spe...</td>\n",
       "      <td>News</td>\n",
       "      <td>September 24, 2017</td>\n",
       "      <td>0</td>\n",
       "    </tr>\n",
       "  </tbody>\n",
       "</table>\n",
       "<p>44898 rows × 5 columns</p>\n",
       "</div>"
      ],
      "text/plain": [
       "                                                   title  \\\n",
       "35591  TWO “HIGH THREAT” EXPLOSIVE Experts Moved From...   \n",
       "20339   Romania names new minister to modernize military   \n",
       "11480  Japan's emperor draws record birthday crowd as...   \n",
       "37399  BURN! SEBASTIAN GORKA HUMILIATES MSNBC On Use ...   \n",
       "443    Factbox: Five facts about Tom Cotton, Trump's ...   \n",
       "...                                                  ...   \n",
       "4388   U.S. strikes in Syria show resolve against che...   \n",
       "35192  CORRUPT STATE DEPARTMENT Deletes Key Info From...   \n",
       "5223   White House says no ethanol executive order in...   \n",
       "30910  NEW FINDINGS SHOW TWO IMPORTANT Words Were Del...   \n",
       "21740   WATCH: Trump’s Treasury Sec. Steve Mnuchin Sa...   \n",
       "\n",
       "                                                    text          subject  \\\n",
       "35591  If someone would have told me in 2008 that we ...         politics   \n",
       "20339  BUCHAREST (Reuters) - Romania s leftist govern...        worldnews   \n",
       "11480  TOKYO (Reuters) - A record crowd paid their re...        worldnews   \n",
       "37399  It s probably not the wisest decision to argue...  Government News   \n",
       "443    WASHINGTON (Reuters) - U.S. Senator Tom Cotton...     politicsNews   \n",
       "...                                                  ...              ...   \n",
       "4388   BRUSSELS (Reuters) - European Council Presiden...     politicsNews   \n",
       "35192  This is seriously concerning! James Rosen call...         politics   \n",
       "5223   (Reuters) - The White House on Tuesday said th...     politicsNews   \n",
       "30910  The word  crooked  doesn t only apply to Hilla...         politics   \n",
       "21740  Donald Trump is clearly violating the free spe...             News   \n",
       "\n",
       "                      date  category  \n",
       "35591          Apr 4, 2016         0  \n",
       "20339  September 12, 2017          1  \n",
       "11480   December 23, 2017          1  \n",
       "37399          Aug 8, 2017         0  \n",
       "443     November 30, 2017          1  \n",
       "...                    ...       ...  \n",
       "4388        April 7, 2017          1  \n",
       "35192          Jun 2, 2016         0  \n",
       "5223    February 28, 2017          1  \n",
       "30910          Nov 7, 2017         0  \n",
       "21740   September 24, 2017         0  \n",
       "\n",
       "[44898 rows x 5 columns]"
      ]
     },
     "execution_count": 17,
     "metadata": {},
     "output_type": "execute_result"
    }
   ],
   "source": [
    "import sklearn\n",
    "from sklearn.utils import shuffle\n",
    "\n",
    "news = pd.concat([real, fake], ignore_index = True, sort = False)\n",
    "news = shuffle(news)\n",
    "\n",
    "news"
   ]
  },
  {
   "cell_type": "code",
   "execution_count": 18,
   "metadata": {},
   "outputs": [
    {
     "data": {
      "text/plain": [
       "<matplotlib.axes._subplots.AxesSubplot at 0x7f19ca9f95c0>"
      ]
     },
     "execution_count": 18,
     "metadata": {},
     "output_type": "execute_result"
    },
    {
     "data": {
      "image/png": "[encoded data removed]",
      "text/plain": [
       "<Figure size 432x288 with 1 Axes>"
      ]
     },
     "metadata": {},
     "output_type": "display_data"
    }
   ],
   "source": [
    "sns.set_style(\"darkgrid\")\n",
    "sns.countplot(news.category)"
   ]
  },
  {
   "cell_type": "markdown",
   "metadata": {},
   "source": [
    "From the above graph we can see we dont have an unbalanced data as there are approximately same number of counts in both the dataset"
   ]
  },
  {
   "cell_type": "code",
   "execution_count": 19,
   "metadata": {},
   "outputs": [
    {
     "data": {
      "text/plain": [
       "(44898, 5)"
      ]
     },
     "execution_count": 19,
     "metadata": {},
     "output_type": "execute_result"
    }
   ],
   "source": [
    "news.shape"
   ]
  },
  {
   "cell_type": "markdown",
   "metadata": {},
   "source": [
    "### 3-3. Data cleaning"
   ]
  },
  {
   "cell_type": "markdown",
   "metadata": {},
   "source": [
    "#### Check 'title' column"
   ]
  },
  {
   "cell_type": "code",
   "execution_count": 20,
   "metadata": {},
   "outputs": [
    {
     "data": {
      "text/plain": [
       "44898"
      ]
     },
     "execution_count": 20,
     "metadata": {},
     "output_type": "execute_result"
    }
   ],
   "source": [
    "news['title'].count()"
   ]
  },
  {
   "cell_type": "markdown",
   "metadata": {},
   "source": [
    "There is no duplicate data"
   ]
  },
  {
   "cell_type": "markdown",
   "metadata": {},
   "source": [
    "#### Check 'subject' column distribition"
   ]
  },
  {
   "cell_type": "code",
   "execution_count": 21,
   "metadata": {},
   "outputs": [
    {
     "data": {
      "text/plain": [
       "politicsNews       11272\n",
       "worldnews          10145\n",
       "News                9050\n",
       "politics            6841\n",
       "left-news           4459\n",
       "Government News     1570\n",
       "US_News              783\n",
       "Middle-east          778\n",
       "Name: subject, dtype: int64"
      ]
     },
     "execution_count": 21,
     "metadata": {},
     "output_type": "execute_result"
    }
   ],
   "source": [
    "news['subject'].value_counts()"
   ]
  },
  {
   "cell_type": "code",
   "execution_count": 22,
   "metadata": {},
   "outputs": [
    {
     "data": {
      "text/plain": [
       "[Text(0, 0, 'politics'),\n",
       " Text(0, 0, 'worldnews'),\n",
       " Text(0, 0, 'Government News'),\n",
       " Text(0, 0, 'politicsNews'),\n",
       " Text(0, 0, 'News'),\n",
       " Text(0, 0, 'left-news'),\n",
       " Text(0, 0, 'US_News'),\n",
       " Text(0, 0, 'Middle-east')]"
      ]
     },
     "execution_count": 22,
     "metadata": {},
     "output_type": "execute_result"
    },
    {
     "data": {
      "image/png": "[encoded data removed]",
      "text/plain": [
       "<Figure size 864x576 with 1 Axes>"
      ]
     },
     "metadata": {},
     "output_type": "display_data"
    }
   ],
   "source": [
    "plt.figure(figsize = (12,8))\n",
    "sns.set(style = \"whitegrid\", font_scale = 1.2)\n",
    "chart = sns.countplot(x = \"subject\", hue = \"category\" , data = news)\n",
    "chart.set_xticklabels(chart.get_xticklabels(),rotation=90)"
   ]
  },
  {
   "cell_type": "markdown",
   "metadata": {},
   "source": [
    "We plot the above graph to see the topics (subjects) related to fake and real news. Real news belongs to only two genres that is political news and world news and fake news is more spread and has many topics of discussion including politics, Government news etc.\n",
    "\n",
    "As the subjects column is not equally distributed we decided to drop the subject column from our dataset, as we don't want those to influence the accuracy of the model. We also decided to drop the date column as date is not helpful or we can't find any pattern in dates to determine any correlation between the news and dates.\n",
    "\n",
    "In the dataset we see that title and text are both important columns and in text format, therefore for ease of developing a model we decide to combine them in a single new column called text and dropping the previous text and title column."
   ]
  },
  {
   "cell_type": "markdown",
   "metadata": {},
   "source": [
    "#### Merge text and title column and delete unnecessary column"
   ]
  },
  {
   "cell_type": "code",
   "execution_count": 23,
   "metadata": {},
   "outputs": [],
   "source": [
    "news['text'] = news['title'] + \" \" + news['text']\n",
    "del news['title']\n",
    "del news['subject']\n",
    "del news['date']"
   ]
  },
  {
   "cell_type": "code",
   "execution_count": 24,
   "metadata": {},
   "outputs": [
    {
     "data": {
      "text/html": [
       "<div>\n",
       "<style scoped>\n",
       "    .dataframe tbody tr th:only-of-type {\n",
       "        vertical-align: middle;\n",
       "    }\n",
       "\n",
       "    .dataframe tbody tr th {\n",
       "        vertical-align: top;\n",
       "    }\n",
       "\n",
       "    .dataframe thead th {\n",
       "        text-align: right;\n",
       "    }\n",
       "</style>\n",
       "<table border=\"1\" class=\"dataframe\">\n",
       "  <thead>\n",
       "    <tr style=\"text-align: right;\">\n",
       "      <th></th>\n",
       "      <th>text</th>\n",
       "      <th>category</th>\n",
       "    </tr>\n",
       "  </thead>\n",
       "  <tbody>\n",
       "    <tr>\n",
       "      <th>35591</th>\n",
       "      <td>TWO “HIGH THREAT” EXPLOSIVE Experts Moved From...</td>\n",
       "      <td>0</td>\n",
       "    </tr>\n",
       "    <tr>\n",
       "      <th>20339</th>\n",
       "      <td>Romania names new minister to modernize milita...</td>\n",
       "      <td>1</td>\n",
       "    </tr>\n",
       "    <tr>\n",
       "      <th>11480</th>\n",
       "      <td>Japan's emperor draws record birthday crowd as...</td>\n",
       "      <td>1</td>\n",
       "    </tr>\n",
       "    <tr>\n",
       "      <th>37399</th>\n",
       "      <td>BURN! SEBASTIAN GORKA HUMILIATES MSNBC On Use ...</td>\n",
       "      <td>0</td>\n",
       "    </tr>\n",
       "    <tr>\n",
       "      <th>443</th>\n",
       "      <td>Factbox: Five facts about Tom Cotton, Trump's ...</td>\n",
       "      <td>1</td>\n",
       "    </tr>\n",
       "    <tr>\n",
       "      <th>...</th>\n",
       "      <td>...</td>\n",
       "      <td>...</td>\n",
       "    </tr>\n",
       "    <tr>\n",
       "      <th>4388</th>\n",
       "      <td>U.S. strikes in Syria show resolve against che...</td>\n",
       "      <td>1</td>\n",
       "    </tr>\n",
       "    <tr>\n",
       "      <th>35192</th>\n",
       "      <td>CORRUPT STATE DEPARTMENT Deletes Key Info From...</td>\n",
       "      <td>0</td>\n",
       "    </tr>\n",
       "    <tr>\n",
       "      <th>5223</th>\n",
       "      <td>White House says no ethanol executive order in...</td>\n",
       "      <td>1</td>\n",
       "    </tr>\n",
       "    <tr>\n",
       "      <th>30910</th>\n",
       "      <td>NEW FINDINGS SHOW TWO IMPORTANT Words Were Del...</td>\n",
       "      <td>0</td>\n",
       "    </tr>\n",
       "    <tr>\n",
       "      <th>21740</th>\n",
       "      <td>WATCH: Trump’s Treasury Sec. Steve Mnuchin Sa...</td>\n",
       "      <td>0</td>\n",
       "    </tr>\n",
       "  </tbody>\n",
       "</table>\n",
       "<p>44898 rows × 2 columns</p>\n",
       "</div>"
      ],
      "text/plain": [
       "                                                    text  category\n",
       "35591  TWO “HIGH THREAT” EXPLOSIVE Experts Moved From...         0\n",
       "20339  Romania names new minister to modernize milita...         1\n",
       "11480  Japan's emperor draws record birthday crowd as...         1\n",
       "37399  BURN! SEBASTIAN GORKA HUMILIATES MSNBC On Use ...         0\n",
       "443    Factbox: Five facts about Tom Cotton, Trump's ...         1\n",
       "...                                                  ...       ...\n",
       "4388   U.S. strikes in Syria show resolve against che...         1\n",
       "35192  CORRUPT STATE DEPARTMENT Deletes Key Info From...         0\n",
       "5223   White House says no ethanol executive order in...         1\n",
       "30910  NEW FINDINGS SHOW TWO IMPORTANT Words Were Del...         0\n",
       "21740   WATCH: Trump’s Treasury Sec. Steve Mnuchin Sa...         0\n",
       "\n",
       "[44898 rows x 2 columns]"
      ]
     },
     "execution_count": 24,
     "metadata": {},
     "output_type": "execute_result"
    }
   ],
   "source": [
    "news"
   ]
  },
  {
   "cell_type": "markdown",
   "metadata": {},
   "source": [
    "### 3-4. Normalize / split the data into training and testing, and tokenize"
   ]
  },
  {
   "cell_type": "markdown",
   "metadata": {},
   "source": [
    "Supervised machine learning algorithm uses historical data to learn patterns and uncover relationships between other features of the dataset and the target. The target variable of a dataset is the feature of a dataset about which we want to gain a deeper understanding therefore in this dataset we set category as our target variable as it diffrentiates real and fake news and we chose text as out feature to trin our model."
   ]
  },
  {
   "cell_type": "markdown",
   "metadata": {},
   "source": [
    "#### Split the features and labels"
   ]
  },
  {
   "cell_type": "code",
   "execution_count": 25,
   "metadata": {},
   "outputs": [],
   "source": [
    "features = news['text']\n",
    "targets = news['category']"
   ]
  },
  {
   "cell_type": "markdown",
   "metadata": {},
   "source": [
    "#### Normalizing our data: lower case, get rid of extra spaces, and url links."
   ]
  },
  {
   "cell_type": "code",
   "execution_count": 26,
   "metadata": {},
   "outputs": [],
   "source": [
    "def normalize(data):\n",
    "    normalized = []\n",
    "    for i in data:\n",
    "        i = i.lower()\n",
    "        # get rid of urls\n",
    "        i = re.sub('https?://\\S+|www\\.\\S+', '', i)\n",
    "        # get rid of non words and extra spaces\n",
    "        i = re.sub('\\\\W', ' ', i)\n",
    "        i = re.sub('\\n', '', i)\n",
    "        i = re.sub(' +', ' ', i)\n",
    "        i = re.sub('^ ', '', i)\n",
    "        i = re.sub(' $', '', i)\n",
    "        normalized.append(i)\n",
    "    return normalized"
   ]
  },
  {
   "cell_type": "markdown",
   "metadata": {},
   "source": [
    "#### Split into training and testing - test portion of 20%"
   ]
  },
  {
   "cell_type": "markdown",
   "metadata": {},
   "source": [
    "In the following cell we will use the function train_test_split() to split our data, we imported model_selection from scikit-learn. By specifying the test_size as 0.20, we aim to put 80% of the data into our training set, and the rest 20% of the data into the test set. \n",
    "\n",
    "We specified the random state as if we do not specify the random_state in the code, then with each run new values will be created and the results will not be stable considering the accuracy change, owing to different values of train and test for each execution."
   ]
  },
  {
   "cell_type": "code",
   "execution_count": 27,
   "metadata": {},
   "outputs": [],
   "source": [
    "X_train, X_test, y_train, y_test = train_test_split(features, targets, test_size = 0.20, random_state = 42)"
   ]
  },
  {
   "cell_type": "code",
   "execution_count": 29,
   "metadata": {},
   "outputs": [
    {
     "data": {
      "text/plain": [
       "'Republican tax bill retains U.S. electric vehicle tax credit WASHINGTON (Reuters) - A compromise Republican tax bill released late Friday does not eliminate a $7,500 electric vehicle tax credit as Republicans in the U.S. House of Representatives had previously proposed. The measure follows the lead of the Senate version approved last month that did not eliminate the credit. Killing the credit could have hurt automakers like General Motors Co (GM.N), Volkswagen AG (VOWG_p.DE), Tesla Inc (TSLA.O) and Nissan Motor Co (7201.T). Consumers under current law are eligible for a $7,500 tax credit to defray the cost of plug-in electric vehicles. The electric vehicle tax credit starts to phase out after a manufacturer sells 200,000 plug-in vehicles. After an automaker hits that point, the $7,500 tax credit is still available for at least three more months before phasing out.  Consumers are currently allowed to take the credit on vehicles until the manufacturer hits 200,000 plug-in vehicles sold. Electric vehicles have expensive batteries that make them pricier than gasoline-powered vehicles. The Electric Drive Transportation Association said in a statement late Friday it was pleased the credit would remain in law. “The credit supports innovation and job creation while helping drivers access advanced vehicle technology,” the group said. More than 50 automakers and other companies and groups released a letter earlier this week urging Congress to retain the credit, including Ford Motor Co (F.N), BMW AG (BMWG.DE), GM, Uber Technologies Inc. Former President Barack Obama repeatedly proposed hiking the tax credit for electric vehicles to $10,000 and converting it to a point-of-sale rebate, but Congress did not approve the measure. Automakers face mandates from California and a dozen other states to produce a rising number of zero-emission vehicles and have said the credits are essential to meeting requirements. '"
      ]
     },
     "execution_count": 29,
     "metadata": {},
     "output_type": "execute_result"
    }
   ],
   "source": [
    "X_train[123]"
   ]
  },
  {
   "cell_type": "markdown",
   "metadata": {},
   "source": [
    "##### normalize the features"
   ]
  },
  {
   "cell_type": "code",
   "execution_count": 30,
   "metadata": {},
   "outputs": [],
   "source": [
    "X_train = normalize(X_train)\n",
    "X_test = normalize(X_test)"
   ]
  },
  {
   "cell_type": "code",
   "execution_count": 31,
   "metadata": {},
   "outputs": [
    {
     "data": {
      "text/plain": [
       "'us advising soldiers to be less masculine as military tries to curb flood of sexual harassment cases 170619 n aa175 092 san diego june 19 2017 command master chief ret kathleen henson from midland mich center and uss makin island lhd 8 sailors cut a cake during the lesbian gay bisexual and transgender pride month observance makin island is homeported in san diego u s navy photo by mass communication specialist 2nd class eric zeak published at wikicommons 21st century wire says while military forces are fighting one enemy in the theatre of combat another multi front culture war is also being fought within their institutions according to a recent report in military com us military lawyers have begun speaking about how sexual assault cases are flooding the military courts threatening to break the back of the military s legal system and perhaps radically alter the institutional culture after the release of the documentary the invisible war the issue of sexual assault in the military has again been thrust into the national spotlight claiming that 1 in 5 u s female veterans have sustained some form of sexual assault the issue of sexual assault in the us military first rose to national prominence in 1992 with the emergence of the infamous tailhook scandal one likely reason for this new spike in reported cases could be because each military service branch has recently implemented new awareness programs as well as sexual assault prevention campaigns which actively encourage female troops to report anything they might feel constitutes sexual harassment or a constitutes a sexual assault this also comes at a time where the us military has undergone the gradual process of becoming more gay friendly in order to advance issues of equality and to cater for its growing ranks of lgbt service men and women military com explains how the new liberal progressive agenda may be adversely affecting operations military lawyers said the pentagon leadership has the right intentions but these prevention campaigns have flooded military court rooms with so many sexual assault cases it s made it harder to prosecute guilty sexual predators prosecutors lack witnesses or strong evidence in the majority of cases making it hard to yield a conviction said michael waddington a military defense lawyer and former judge advocate in the army he sees too many cases that involve alcohol and depend on hearsay the military has the resources to take many sexual assault cases to court said philip cave a military defense lawyer and retired navy lawyer waddington estimated that ninety percent of the sexual assault cases taken to court martial would be thrown out in a civilian court because of a lack of evidence as a result the military are now trying various other different initiatives to try and cope with a problem which to have spun out of control rt international reports promoting empathy and cracking down on hypermasculinity may help the department of defense to reduce unwanted sexual behavior and improve combat readiness a new government report on sexual violence in the military says unwanted sexual behaviors such as sexual harassment sexual assault and domestic violence undermine core values unit cohesion combat readiness and public goodwill says the report published this month by the government accountability office gao and signed by brenda farrell director of defense capabilities and management the report pointed out that interconnected inappropriate behaviors are part of a continuum of harm that creates a climate conducive to sexual harassment assault and violence the national defense authorization act ndaa for fiscal year 2017 expanded the definition of sexual harassment in the military beyond sex discrimination to make it an adverse behavior on the spectrum of behavior that can contribute to an increase in the incidence of sexual assault both the pentagon and the separate service branches have yet to update their policies to reflect this new definition the gao found the report also urged the pentagon to incorporate the guidelines for preventing and dealing with sexual violence developed by the centers for disease control and prevention cdc the pentagon is ignoring risk factors identified by the cdc such as alcohol and drug use hypermasculinity emotionally unsupportive family environments general tolerance of sexual violence within the community and societal norms that support male superiority and sexual entitlement the report says newport r i oct 29 2010 gunnery sgt duncan hurst encourages an officer candidate to properly perform pushups during the first week of the 12 week officer candidate school at naval station newport hurst is one of 12 marine drill instructors who train the candidates in military bearing discipline drill and physical fitness u s navy photo by scott a thornbloom released also ignored by the dod are protective factors such as emotional health and connectedness and empathy and concern for how one s actions affect others cdc s research has also established that survivors of one form of violence are more likely to be victims of other forms of violence that survivors of violence are at higher risk for behaving violently and that people who behave violently are more likely to commit other forms of violence the gao report notes apparently seeking to make a distinction between violence in authorized military conflict and personal violence noting that the dod instructed the services in 2014 to develop mechanisms for reporting incidents of sexual harassment anonymously the gao said that such mechanisms are not yet part of the department wide sexual violence policies additionally each service branch uses a different database format to record formal complaints of sexual harassment the navy uses excel spreadsheets for example while the gao does not go as far as to recommend a single database the report does advocate improving and standardizing data collection so that the department of defense can further develop its understanding of the connection between unwanted sexual behaviors having a single standard across service branches would also be helpful the gao report says noting that the us marine corps usmc updated its standards of conduct in may the usmc made the change in response to the marines united scandal where current and former members posted nude photos of female recruits in a facebook group along with disparaging comments while the marines now consider posting nude photos of others without consent to be harassment other service branches do not as of yet the gao report comes at a time of renewed interest in sexual harassment in the us accusations of improper behavior have forced a number of hollywood celebrities media executives and members of congress to resign or be removed from public life in 2015 the obama administration lifted restrictions on having women in combat roles and set a deadline for allowing openly transgender troops to serve in july this year president donald trump said he would not allow transgender people to serve in any capacity citing tremendous medical costs and disruption to the military the matter is currently being fought over in the courts so far only men are required to register for potential draft selective service under us law attempts to expand the requirement to women have failed to get enough votes in congress see more at rtread the full us gov t g a o report herein addition to new measures meant to mitigate the rise in sexual assault claims general dictates on gender neutral language are also being rolled out apparently to protect vulnerable minority members of the armed service from being offended or triggered this institutional trend is not limited to the us as the institutional march of political correctness and its weaponization of gender identity politics is making its way through great britain s armed forces too where phrases such as mankind chaps and sportsmanship have now been banned the uk mail online says the guide suggests the word chaps be swapped for the words people friends folks or you all the phrase gentleman s agreement has also be banned now soldiers must use the term unwritten agreement instead of sportsmanship members of the force are encouraged to say fairness the two page guide was compiled by the joint equality diversity and inclusion unit which has earned the nickname of jedi many lgbt servicewomen believe the us military is too male oriented image pinterest as pc cleric cluture takes over the military s management through the leveraging of radical progressive power politics people should be aware that this tactic actually designed to break down existing institutions and rearrange the internal power structure it s no surprise then why the russians are resisting soros funded political colonization in their country which moscow has correctly identified as subterfuge through the clear exploitation of these culture and gender war battle lines imagequestion how will the us and uk armed forces be run in 10 years if this socialized agenda is fully rolled out readers please leave comments belowread more cultural marxist news at 21st century wire cultural marxism filessupport 21wire subscribe become a member 21wire tv'"
      ]
     },
     "execution_count": 31,
     "metadata": {},
     "output_type": "execute_result"
    }
   ],
   "source": [
    "X_train[123]"
   ]
  },
  {
   "cell_type": "markdown",
   "metadata": {},
   "source": [
    "### 3.5 - Tokenizing the dataset"
   ]
  },
  {
   "cell_type": "markdown",
   "metadata": {},
   "source": [
    "Neural nerworks don't take raw text as input, they only work with numeric tensors. Vectorizing text is the process of transforming text into numeric tensors. In the next cell we start with tokenisation of data that is converting text into a set of integer sequence."
   ]
  },
  {
   "cell_type": "markdown",
   "metadata": {},
   "source": [
    "<li>First we build an indexed vocabulary out of the words appearing in our dataset, with the fit_on_texts method. It updates internal vocabulary based on a list of texts. This method creates the vocabulary index based on word frequency. It is word index dictionary so every word gets a unique integer value. 0 is reserved for padding. So lower integer means more frequent word</li>\n",
    "<li>After the vocabulary has been built, we use the text_to_sequences method to convert sentences into a list of numbers representing words for both trainnig and testing set</li>\n",
    "<li>The pad_sequences function make sure that all observations are of the same length, set to either a random number or to the length of the longest question in the dataset</li>"
   ]
  },
  {
   "cell_type": "code",
   "execution_count": 32,
   "metadata": {},
   "outputs": [],
   "source": [
    "max_vocab = 10000\n",
    "tokenizer = Tokenizer(num_words = max_vocab)\n",
    "tokenizer.fit_on_texts(X_train)"
   ]
  },
  {
   "cell_type": "code",
   "execution_count": 33,
   "metadata": {},
   "outputs": [],
   "source": [
    "# tokenize the text into vectors \n",
    "X_train = tokenizer.texts_to_sequences(X_train)\n",
    "X_test = tokenizer.texts_to_sequences(X_test)"
   ]
  },
  {
   "cell_type": "code",
   "execution_count": 34,
   "metadata": {},
   "outputs": [],
   "source": [
    "X_train = tf.keras.preprocessing.sequence.pad_sequences(X_train, padding = 'post', maxlen = 256)\n",
    "X_test = tf.keras.preprocessing.sequence.pad_sequences(X_test, padding = 'post', maxlen = 256)"
   ]
  },
  {
   "cell_type": "code",
   "execution_count": 35,
   "metadata": {},
   "outputs": [
    {
     "data": {
      "text/plain": [
       "array([1207,  624,  229,    9, 1817, 5200, 1402,   28,   63,  114, 5441,\n",
       "         55, 1056,    2,  768, 3100, 1344,  259,    3,    1,  968,  583,\n",
       "         25,  114, 4274,   48, 3507,   26, 6471, 3791,   11,   23, 1966,\n",
       "          2,    1,  112,   18,    1, 6471,  393,    3,  132, 5067,    5,\n",
       "         64,    3, 1817, 2203,  649,   11,  384,   64,  168,  217,  365,\n",
       "        577,    7,  968,  432,  311,  142,  185,   18,    5,   24,  101,\n",
       "         44, 2012,    1, 1394, 1862, 1160,  155,    1, 5753, 3070,    1,\n",
       "       1234,   22,   10,    1,  700,   45,  987, 2651,   48,   41,   56,\n",
       "          1, 4695, 9700,    7,  566,   21,   63,   22, 2012,  101, 1367,\n",
       "        326,  263,    1,  565,  566,  546,    3,  259,    3,    1,  457,\n",
       "         28, 3351,    2,  129, 7542,    1,   93,  913, 5753,   17, 6813,\n",
       "         19,    1, 1325, 3094, 2717,    5, 6333, 2615,   50,   21, 3324,\n",
       "          1, 7862,    3,  122, 2342,  352,    1,  112,  179,   11,  311,\n",
       "       2442, 9122,  206,   18, 8784, 5938, 1092,   68,    1,  179,    7,\n",
       "       1713,  217,    1,    3, 1219, 1774,  264,  649,   45,  113,   22,\n",
       "       1918,    8,   26, 5407,  425, 1779,    2, 1397,  161, 2008, 2117,\n",
       "          5,    1, 1806,  264, 4672,   14,    7,   66, 1812,  156,  225,\n",
       "          1, 1558,   28, 8506, 1705, 1527,  132,    6,   42,  110,   50,\n",
       "        684,   21, 6689, 1659,   18,  217,    1,  346, 9026,    3,  150,\n",
       "       1990,    5, 1817,  207, 1389, 1938,  103,   40,    1,  112,    5,\n",
       "       1394,  968,  432,   22,  406,    6,  332,  120,   54,   26,  917,\n",
       "         11, 1642, 5441,   55, 4615, 1581,  671,  554,   46, 2809, 7899,\n",
       "         98,   27, 1039,  777, 1006, 2809, 3347, 1138, 3741,  426,    4,\n",
       "        382, 1138,  731], dtype=int32)"
      ]
     },
     "execution_count": 35,
     "metadata": {},
     "output_type": "execute_result"
    }
   ],
   "source": [
    "X_train[123]"
   ]
  },
  {
   "cell_type": "markdown",
   "metadata": {},
   "source": [
    "## 4. Model Creation - RNN"
   ]
  },
  {
   "cell_type": "markdown",
   "metadata": {},
   "source": [
    "#### We have used NLP(Natural Language Processing) and RNN(Recurrent Neural Networks) for our model."
   ]
  },
  {
   "cell_type": "markdown",
   "metadata": {},
   "source": [
    "In the next part, we build and train our model. It has 2 main layers namely Embedding layer and Dense output layer the first will learn from our training data that we prepared above and the latter implements the classification task"
   ]
  },
  {
   "cell_type": "markdown",
   "metadata": {},
   "source": [
    "<li>The first layer will be the embedding layer which has the input of vocabulary size an doutput dimension as 32 i.e each word will be represented by a vector of 32 dimensions.</li>\n",
    "<li>After that we add two hidden layer Stacked Bi-LSTM (Long Short-Term Memory), the first one with 64 neurons and second one with 16 neurons, and for the first layer we set return_sequences = True which enbles Keras to know that LSTM output should contain all historical generated outputs along with time stamps (3D). So, next LSTM layer can work further on the data. We used bidirectional LSTM as Bi-LSTM can predict the future use of words as there is backward information passed on from the other RNN layer in reverse </li>\n",
    "<li>At last we add teh dense layer with 64 layers and one neuron. We used Relu as our activation function because gradient of relu is always equal to 1, this way we can pass the maximum amount of the error though the network during back-propagation. ReLu learns much faster than tanh and sigmoid and also less computationally as it involves simpler mathematical operations</li>\n",
    "<li>To prevent overfitting we added a 50% dropout layer and Early stopping method</li>\n",
    "<li>Lastly we compile the model using adam optimizer and binary cross-entropy as loss function since we have only two outputs as its a classifiation Problem</li>"
   ]
  },
  {
   "cell_type": "code",
   "execution_count": 36,
   "metadata": {},
   "outputs": [
    {
     "name": "stdout",
     "output_type": "stream",
     "text": [
      "WARNING:tensorflow:From /home/ec2-user/anaconda3/envs/amazonei_tensorflow_p36/lib/python3.6/site-packages/tensorflow_core/python/keras/initializers.py:119: calling RandomUniform.__init__ (from tensorflow.python.ops.init_ops) with dtype is deprecated and will be removed in a future version.\n",
      "Instructions for updating:\n",
      "Call initializer instance with the dtype argument instead of passing it to the constructor\n",
      "WARNING:tensorflow:From /home/ec2-user/anaconda3/envs/amazonei_tensorflow_p36/lib/python3.6/site-packages/tensorflow_core/python/ops/init_ops.py:97: calling GlorotUniform.__init__ (from tensorflow.python.ops.init_ops) with dtype is deprecated and will be removed in a future version.\n",
      "Instructions for updating:\n",
      "Call initializer instance with the dtype argument instead of passing it to the constructor\n",
      "WARNING:tensorflow:From /home/ec2-user/anaconda3/envs/amazonei_tensorflow_p36/lib/python3.6/site-packages/tensorflow_core/python/ops/init_ops.py:97: calling Orthogonal.__init__ (from tensorflow.python.ops.init_ops) with dtype is deprecated and will be removed in a future version.\n",
      "Instructions for updating:\n",
      "Call initializer instance with the dtype argument instead of passing it to the constructor\n",
      "WARNING:tensorflow:From /home/ec2-user/anaconda3/envs/amazonei_tensorflow_p36/lib/python3.6/site-packages/tensorflow_core/python/ops/init_ops.py:97: calling Zeros.__init__ (from tensorflow.python.ops.init_ops) with dtype is deprecated and will be removed in a future version.\n",
      "Instructions for updating:\n",
      "Call initializer instance with the dtype argument instead of passing it to the constructor\n",
      "WARNING:tensorflow:From /home/ec2-user/anaconda3/envs/amazonei_tensorflow_p36/lib/python3.6/site-packages/tensorflow_core/python/ops/resource_variable_ops.py:1630: calling BaseResourceVariable.__init__ (from tensorflow.python.ops.resource_variable_ops) with constraint is deprecated and will be removed in a future version.\n",
      "Instructions for updating:\n",
      "If using Keras pass *_constraint arguments to layers.\n",
      "Model: \"sequential\"\n",
      "_________________________________________________________________\n",
      "Layer (type)                 Output Shape              Param #   \n",
      "=================================================================\n",
      "embedding (Embedding)        (None, None, 32)          320000    \n",
      "_________________________________________________________________\n",
      "bidirectional (Bidirectional (None, None, 128)         49664     \n",
      "_________________________________________________________________\n",
      "bidirectional_1 (Bidirection (None, 32)                18560     \n",
      "_________________________________________________________________\n",
      "dense (Dense)                (None, 64)                2112      \n",
      "_________________________________________________________________\n",
      "dropout (Dropout)            (None, 64)                0         \n",
      "_________________________________________________________________\n",
      "dense_1 (Dense)              (None, 1)                 65        \n",
      "=================================================================\n",
      "Total params: 390,401\n",
      "Trainable params: 390,401\n",
      "Non-trainable params: 0\n",
      "_________________________________________________________________\n"
     ]
    }
   ],
   "source": [
    "model = tf.keras.Sequential([\n",
    "    tf.keras.layers.Embedding(max_vocab, 32),\n",
    "    tf.keras.layers.Bidirectional(tf.keras.layers.LSTM(64,  return_sequences=True)),\n",
    "    tf.keras.layers.Bidirectional(tf.keras.layers.LSTM(16)),\n",
    "    tf.keras.layers.Dense(64, activation='relu'),\n",
    "    tf.keras.layers.Dropout(0.5),\n",
    "    tf.keras.layers.Dense(1)\n",
    "])\n",
    "\n",
    "model.summary()"
   ]
  },
  {
   "cell_type": "code",
   "execution_count": 37,
   "metadata": {},
   "outputs": [
    {
     "name": "stdout",
     "output_type": "stream",
     "text": [
      "WARNING:tensorflow:From /home/ec2-user/anaconda3/envs/amazonei_tensorflow_p36/lib/python3.6/site-packages/tensorflow_core/python/ops/nn_impl.py:183: where (from tensorflow.python.ops.array_ops) is deprecated and will be removed in a future version.\n",
      "Instructions for updating:\n",
      "Use tf.where in 2.0, which has the same broadcast rule as np.where\n"
     ]
    }
   ],
   "source": [
    "early_stop = tf.keras.callbacks.EarlyStopping(monitor='val_loss', patience = 2, \n",
    "                                              restore_best_weights = True)\n",
    "model.compile(loss=tf.keras.losses.BinaryCrossentropy(from_logits=True),\n",
    "              optimizer=tf.keras.optimizers.Adam(1e-4),\n",
    "              metrics=['accuracy'])"
   ]
  },
  {
   "cell_type": "markdown",
   "metadata": {},
   "source": [
    "In the next part, we fit our model to find teh accuracy. We further divide our trainng data and keep 10% for cross validation and remaining 90% to actually retrain the data. We are using cross validation to make sure that the model is not overfitting the training data. We take 10 epochs and in each epoch we check the error on both validation and trainig data."
   ]
  },
  {
   "cell_type": "code",
   "execution_count": 38,
   "metadata": {},
   "outputs": [
    {
     "name": "stdout",
     "output_type": "stream",
     "text": [
      "Train on 32326 samples, validate on 3592 samples\n",
      "Epoch 1/10\n",
      "32326/32326 [==============================] - 870s 27ms/sample - loss: 0.2753 - acc: 0.8468 - val_loss: 0.0982 - val_acc: 0.9724\n",
      "Epoch 2/10\n",
      "32326/32326 [==============================] - 866s 27ms/sample - loss: 0.0548 - acc: 0.9841 - val_loss: 0.0591 - val_acc: 0.9808\n",
      "Epoch 3/10\n",
      "32326/32326 [==============================] - 870s 27ms/sample - loss: 0.0286 - acc: 0.9928 - val_loss: 0.0281 - val_acc: 0.9916\n",
      "Epoch 4/10\n",
      "32326/32326 [==============================] - 869s 27ms/sample - loss: 0.0242 - acc: 0.9939 - val_loss: 0.0345 - val_acc: 0.9903\n",
      "Epoch 5/10\n",
      "32326/32326 [==============================] - 871s 27ms/sample - loss: 0.0105 - acc: 0.9978 - val_loss: 0.0433 - val_acc: 0.9883\n"
     ]
    }
   ],
   "source": [
    "history = model.fit(X_train, y_train, epochs = 10, validation_split = 0.1, \n",
    "                    batch_size = 30, shuffle = True, callbacks = [early_stop])"
   ]
  },
  {
   "cell_type": "markdown",
   "metadata": {},
   "source": [
    "#### The model stops its training by 5th epochs, which means the validation loss stop improving.\n",
    "#### We got around 99% of accuracy of our training dataset"
   ]
  },
  {
   "cell_type": "code",
   "execution_count": 39,
   "metadata": {},
   "outputs": [
    {
     "data": {
      "image/png": "[encoded data removed]",
      "text/plain": [
       "<Figure size 864x648 with 1 Axes>"
      ]
     },
     "metadata": {},
     "output_type": "display_data"
    },
    {
     "data": {
      "image/png": "[encoded data removed]",
      "text/plain": [
       "<Figure size 864x648 with 1 Axes>"
      ]
     },
     "metadata": {},
     "output_type": "display_data"
    }
   ],
   "source": [
    "history_dict = history.history\n",
    "\n",
    "acc = history_dict['acc']\n",
    "val_acc = history_dict['val_acc']\n",
    "loss = history_dict['loss']\n",
    "val_loss = history_dict['val_loss']\n",
    "epochs = history.epoch\n",
    "\n",
    "plt.figure(figsize=(12,9))\n",
    "plt.plot(epochs, loss, 'r', label='Training loss')\n",
    "plt.plot(epochs, val_loss, 'b', label='Validation loss')\n",
    "plt.title('Training and validation loss', size=20)\n",
    "plt.xlabel('Epochs', size=20)\n",
    "plt.ylabel('Loss', size=20)\n",
    "plt.legend(prop={'size': 20})\n",
    "plt.show()\n",
    "\n",
    "plt.figure(figsize=(12,9))\n",
    "plt.plot(epochs, acc, 'g', label='Training acc')\n",
    "plt.plot(epochs, val_acc, 'b', label='Validation acc')\n",
    "plt.title('Training and validation accuracy', size=20)\n",
    "plt.xlabel('Epochs', size=20)\n",
    "plt.ylabel('Accuracy', size=20)\n",
    "plt.legend(prop={'size': 20})\n",
    "plt.ylim((0.5,1))\n",
    "plt.show()"
   ]
  },
  {
   "cell_type": "code",
   "execution_count": 40,
   "metadata": {},
   "outputs": [
    {
     "name": "stdout",
     "output_type": "stream",
     "text": [
      "35918/35918 [==============================] - 145s 4ms/sample - loss: 0.0133 - acc: 0.9971\n",
      "8980/8980 [==============================] - 36s 4ms/sample - loss: 0.0337 - acc: 0.9899\n"
     ]
    }
   ],
   "source": [
    "train_score = model.evaluate(X_train, y_train)\n",
    "test_score = model.evaluate(X_test, y_test)"
   ]
  },
  {
   "cell_type": "markdown",
   "metadata": {},
   "source": [
    "#### We got a training accuracy of 99.71% and testing of around 98.99% , as there is not much difference in the train and test accuracy we can say that our model is not overfitting the data"
   ]
  },
  {
   "cell_type": "markdown",
   "metadata": {},
   "source": [
    "#### Let's extract the scores"
   ]
  },
  {
   "cell_type": "code",
   "execution_count": 41,
   "metadata": {},
   "outputs": [],
   "source": [
    "pred = model.predict(X_test)\n",
    "\n",
    "binary_predictions = []\n",
    "\n",
    "for i in pred:\n",
    "    if i >= 0.5:\n",
    "        binary_predictions.append(1)\n",
    "    else:\n",
    "        binary_predictions.append(0) "
   ]
  },
  {
   "cell_type": "code",
   "execution_count": 42,
   "metadata": {},
   "outputs": [
    {
     "name": "stdout",
     "output_type": "stream",
     "text": [
      "Accuracy on testing set:  0.9898663697104677\n",
      "Precision on testing set:  0.9869767441860465\n",
      "Recall on testing set:  0.9918205188128068\n"
     ]
    }
   ],
   "source": [
    "print('Accuracy on testing set: ', accuracy_score(binary_predictions, y_test))\n",
    "print('Precision on testing set: ', precision_score(binary_predictions, y_test))\n",
    "print('Recall on testing set: ', recall_score(binary_predictions, y_test))"
   ]
  },
  {
   "cell_type": "markdown",
   "metadata": {},
   "source": [
    "#### Metrics for the model"
   ]
  },
  {
   "cell_type": "code",
   "execution_count": 43,
   "metadata": {},
   "outputs": [
    {
     "data": {
      "text/plain": [
       "[Text(0, 0.5, '0'), Text(0, 1.5, '1')]"
      ]
     },
     "execution_count": 43,
     "metadata": {},
     "output_type": "execute_result"
    },
    {
     "data": {
      "image/png": "[encoded data removed]",
      "text/plain": [
       "<Figure size 1152x720 with 2 Axes>"
      ]
     },
     "metadata": {},
     "output_type": "display_data"
    }
   ],
   "source": [
    "matrix = confusion_matrix(binary_predictions, y_test, normalize='all')\n",
    "plt.figure(figsize=(16, 10))\n",
    "ax= plt.subplot()\n",
    "sns.heatmap(matrix, annot=True, ax = ax)\n",
    "\n",
    "# labels, title and ticks\n",
    "ax.set_xlabel('Predicted Labels', size=20)\n",
    "ax.set_ylabel('True Labels', size=20)\n",
    "ax.set_title('Confusion Matrix', size=20) \n",
    "ax.xaxis.set_ticklabels([0,1], size=15)\n",
    "ax.yaxis.set_ticklabels([0,1], size=15)"
   ]
  },
  {
   "cell_type": "markdown",
   "metadata": {},
   "source": [
    "## 5. Single prediction -  Is today's news real / fake?"
   ]
  },
  {
   "cell_type": "markdown",
   "metadata": {},
   "source": [
    "In order to make this project more meaningful and practical, we just wanted to predict whether the today’s news is fake or real. This is one of today’s news from CNN about Warren Buffet is worth $100 Billion."
   ]
  },
  {
   "cell_type": "markdown",
   "metadata": {},
   "source": [
    "### 5-1. Load necessary library"
   ]
  },
  {
   "cell_type": "code",
   "execution_count": 44,
   "metadata": {},
   "outputs": [],
   "source": [
    "import re\n",
    "from pprint import pprint\n",
    "import csv\n",
    "import requests\n",
    "from bs4 import BeautifulSoup\n",
    "from urllib.request import urlopen"
   ]
  },
  {
   "cell_type": "markdown",
   "metadata": {},
   "source": [
    "### 5-2. Text scraping from webpage using BeautifilSoup"
   ]
  },
  {
   "cell_type": "markdown",
   "metadata": {},
   "source": [
    "#### BeautifulSoup helps us extract text only from HTML"
   ]
  },
  {
   "cell_type": "code",
   "execution_count": 45,
   "metadata": {},
   "outputs": [],
   "source": [
    "def text_scraping(url):\n",
    "    page = urlopen(url)\n",
    "    html = page.read().decode(\"utf-8\")\n",
    "    soup = BeautifulSoup(html, \"html.parser\")\n",
    "    \n",
    "    for script in soup(['script', 'style']):\n",
    "        script.decompose()\n",
    "    \n",
    "    text = list(soup.stripped_strings)\n",
    "    text = ' '.join(text)\n",
    "    \n",
    "    return text"
   ]
  },
  {
   "cell_type": "code",
   "execution_count": 46,
   "metadata": {},
   "outputs": [],
   "source": [
    "url = 'https://www.cnn.com/2021/03/11/business/warren-buffett-net-worth-intl-hnk/index.html'"
   ]
  },
  {
   "cell_type": "markdown",
   "metadata": {},
   "source": [
    "#### From this webpage, we did web scraping using BeautifilSoup which helps retrieve texts only from HTML. "
   ]
  },
  {
   "cell_type": "code",
   "execution_count": 48,
   "metadata": {
    "scrolled": true
   },
   "outputs": [
    {
     "name": "stdout",
     "output_type": "stream",
     "text": [
      "Warren Buffett, Berkshire Hathaway CEO, is now worth $100 billion - CNN Markets Tech Media Success Perspectives Videos Edition U.S. International Arabic Español Search CNN Open Menu Markets Tech Media Success Perspectives Videos Search Edition U.S. International Arabic Español Markets Premarkets Dow After-Hours Market Movers Fear & Greed World Markets Investing Markets Now Before the Bell Leading Indicator Global Energy Challenge Economy Tracking America's Recovery Energy Tech Innovate Gadget Foreseeable Future Mission: Ahead Upstarts Business Evolved Innovative Cities Unhackable Media Reliable Sources Success Boss Files Risk Takers Fresh Money Invest Ahead Work Transformed Cars Homes Wealth Coach Center Piece Perspectives Videos International Switzerland India Davos Reliable Sources Passion to Portfolio On: Germany More Accessibility & CC About Us Newsletters US World Politics Business Opinion Health Entertainment Tech Style Travel Sports Videos Audio Coupons Weather More Follow CNN Business Warren Buffett is now worth $100 billion By Rob McLean and Jill Disis , CNN Business Updated 5:30 AM ET, Thu March 11, 2021 JUST WATCHED Warren Buffett's Berkshire Hathaway invests big in Japan Replay More Videos ... MUST WATCH (16 Videos) Warren Buffett's Berkshire Hathaway invests big in Japan Why you should book your summer vacation now 'We need something now:' Strategist explains importance of stimulus deal Stocks surge as Tesla and tech shares rebound Scaramucci blasts Republicans for not supporting Biden's rescue plan Recovery stocks surge as investors welcome stimulus news Jerome Powell: US economy 'some time' away from full recovery Cantor Fitzgerald CEO: SPACs are private equity for the public market Why bitcoin could triple over next year Former NY Fed president: Rock-bottom bond rates are not sustainable Rising bond yields trigger Wall Street sell-off Zandi: Stimulus plan doesn't do enough for the most in need Michael Bolton wants you to break up with Robinhood Congressman: The stock market needs to protect retail investors GameStop investor on why he's still holding on Holding onto your cash? History shows it's better to invest it New York/Hong Kong (CNN Business) Warren Buffett has just joined the world's most exclusive club of the mega rich. The legendary American investor was worth $100 billion on Thursday, according to the Bloomberg Billionaire's Index . That puts him in the company of just five other men above that threshold. And he's now the sixth richest person in the world, ranking just behind Facebook ( FB ) CEO Mark Zuckerberg . The 90-year-old Buffett has added nearly $13 billion to his net worth this year as shares in his industrial and insurance conglomerate have surged. Berkshire Hathaway ( BRKA ) is up nearly 15% in 2021, giving the company a market capitalization of more than $600 billion. Elon Musk made $25 billion Tuesday Buffett and Berkshire Hathaway are famous for investing primarily in slow growth, \"value\" stocks — many of which have done very well this year as markets continue to recover from the pandemic-fueled crash a year ago. He recently revealed that Berkshire bought stakes in Dow components Chevron and Verizon, indicating a new interest in Big Oil, telecom and media. Chevron ( CVX ) is up 31% as crude prices recover the ground they lost during the early months of the pandemic. Verizon ( VZ ) hasn't fared nearly as well — the stock is down nearly 3% this year — but it's still above the lows it hit in March 2020. Read More While Buffett has cracked the $100 billion mark, he's still a long way behind the world's richest person, Amazon ( AMZN ) CEO Jeff Bezos, who is worth $180 billion, according to Bloomberg. Bezos has been trading the title with Tesla ( TSLA ) CEO Elon Musk, who's now worth $173 billion as shares in his electric carmaker rally from recent losses. Microsoft ( MSFT ) co-founder Bill Gates is No. 3 on the list at $138 billion, while Bernard Arnault, the chairman of luxury goods group LVMH ( LVMHF ) , ranks No. 4 with $122 billion. Arnault is the wealthiest non-American on the list. Zuckerberg is No. 5 with a net worth of $101 billion. Buffett has donated billions of dollars to philanthropic causes, and in 2006, pledged to give away almost all of his fortune to charity . -- Paul R. La Monica contributed to this report. Search US Crime + Justice Energy + Environment Extreme Weather Space + Science World Africa Americas Asia Australia China Europe India Middle East United Kingdom Politics The Biden Presidency Facts First US Elections Business Markets Tech Media Success Perspectives Videos Opinion Political Op-Eds Social Commentary Health Food Fitness Wellness Parenting Vital Signs Entertainment Stars Screen Binge Culture Media Tech Innovate Gadget Foreseeable Future Mission: Ahead Upstarts Work Transformed Innovative Cities Style Arts Design Fashion Architecture Luxury Beauty Video Travel Destinations Food and Drink Stay News Videos Sports Pro Football College Football Basketball Baseball Soccer Olympics Videos Live TV Digital Studios CNN Films HLN TV Schedule TV Shows A-Z CNNVR Audio Coupons CNN Underscored Explore Wellness Gadgets Lifestyle CNN Store Weather Climate Storm Tracker Wildfire Tracker Video More Photos Longform Investigations CNN Profiles CNN Leadership CNN Newsletters Work for CNN Follow CNN Business Most stock quote data provided by BATS. Market indices are shown in real time, except for the DJIA, which is delayed by two minutes. All times are ET. Disclaimer. Morningstar: Copyright 2018 Morningstar, Inc. All Rights Reserved. Factset: FactSet Research Systems Inc.2018. All rights reserved. Chicago Mercantile Association: Certain market data is the property of Chicago Mercantile Exchange Inc. and its licensors. All rights reserved. Dow Jones: The Dow Jones branded   indices are proprietary to and are calculated, distributed and marketed by DJI Opco, a subsidiary of S&P Dow Jones Indices LLC and have been licensed for use to S&P Opco, LLC and CNN. Standard & Poor's and S&P are registered trademarks of Standard & Poor's Financial Services LLC and Dow Jones is a registered trademark of Dow Jones Trademark Holdings LLC.  All content of the Dow Jones branded indices Copyright S&P Dow Jones Indices LLC 2018 and/or its affiliates. Terms of Use Privacy Policy Accessibility & CC AdChoices About Us CNN Store Newsletters Transcripts License Footage CNN Newsource Sitemap © 2021 Cable News Network. A Warner Media Company. All Rights Reserved. CNN Sans ™ & © 2016 Cable News Network.\n"
     ]
    }
   ],
   "source": [
    "todayNews = text_scraping(url)\n",
    "print(todayNews)"
   ]
  },
  {
   "cell_type": "markdown",
   "metadata": {},
   "source": [
    "### 5-3. Normalize texts and tokenize"
   ]
  },
  {
   "cell_type": "code",
   "execution_count": 49,
   "metadata": {},
   "outputs": [],
   "source": [
    "todayNews = todayNews.lower()\n",
    "# get rid of urls\n",
    "todayNews = re.sub('https?://\\S+|www\\.\\S+', '', todayNews)\n",
    "# get rid of non words and extra spaces\n",
    "todayNews = re.sub('\\\\W', ' ', todayNews)\n",
    "todayNews = re.sub('\\n', '', todayNews)\n",
    "todayNews = re.sub(' +', ' ', todayNews)\n",
    "todayNews = re.sub('^ ', '', todayNews)\n",
    "todayNews = re.sub(' $', '', todayNews)"
   ]
  },
  {
   "cell_type": "code",
   "execution_count": 50,
   "metadata": {},
   "outputs": [
    {
     "data": {
      "text/plain": [
       "'warren buffett berkshire hathaway ceo is now worth 100 billion cnn markets tech media success perspectives videos edition u s international arabic español search cnn open menu markets tech media success perspectives videos search edition u s international arabic español markets premarkets dow after hours market movers fear greed world markets investing markets now before the bell leading indicator global energy challenge economy tracking america s recovery energy tech innovate gadget foreseeable future mission ahead upstarts business evolved innovative cities unhackable media reliable sources success boss files risk takers fresh money invest ahead work transformed cars homes wealth coach center piece perspectives videos international switzerland india davos reliable sources passion to portfolio on germany more accessibility cc about us newsletters us world politics business opinion health entertainment tech style travel sports videos audio coupons weather more follow cnn business warren buffett is now worth 100 billion by rob mclean and jill disis cnn business updated 5 30 am et thu march 11 2021 just watched warren buffett s berkshire hathaway invests big in japan replay more videos must watch 16 videos warren buffett s berkshire hathaway invests big in japan why you should book your summer vacation now we need something now strategist explains importance of stimulus deal stocks surge as tesla and tech shares rebound scaramucci blasts republicans for not supporting biden s rescue plan recovery stocks surge as investors welcome stimulus news jerome powell us economy some time away from full recovery cantor fitzgerald ceo spacs are private equity for the public market why bitcoin could triple over next year former ny fed president rock bottom bond rates are not sustainable rising bond yields trigger wall street sell off zandi stimulus plan doesn t do enough for the most in need michael bolton wants you to break up with robinhood congressman the stock market needs to protect retail investors gamestop investor on why he s still holding on holding onto your cash history shows it s better to invest it new york hong kong cnn business warren buffett has just joined the world s most exclusive club of the mega rich the legendary american investor was worth 100 billion on thursday according to the bloomberg billionaire s index that puts him in the company of just five other men above that threshold and he s now the sixth richest person in the world ranking just behind facebook fb ceo mark zuckerberg the 90 year old buffett has added nearly 13 billion to his net worth this year as shares in his industrial and insurance conglomerate have surged berkshire hathaway brka is up nearly 15 in 2021 giving the company a market capitalization of more than 600 billion elon musk made 25 billion tuesday buffett and berkshire hathaway are famous for investing primarily in slow growth value stocks many of which have done very well this year as markets continue to recover from the pandemic fueled crash a year ago he recently revealed that berkshire bought stakes in dow components chevron and verizon indicating a new interest in big oil telecom and media chevron cvx is up 31 as crude prices recover the ground they lost during the early months of the pandemic verizon vz hasn t fared nearly as well the stock is down nearly 3 this year but it s still above the lows it hit in march 2020 read more while buffett has cracked the 100 billion mark he s still a long way behind the world s richest person amazon amzn ceo jeff bezos who is worth 180 billion according to bloomberg bezos has been trading the title with tesla tsla ceo elon musk who s now worth 173 billion as shares in his electric carmaker rally from recent losses microsoft msft co founder bill gates is no 3 on the list at 138 billion while bernard arnault the chairman of luxury goods group lvmh lvmhf ranks no 4 with 122 billion arnault is the wealthiest non american on the list zuckerberg is no 5 with a net worth of 101 billion buffett has donated billions of dollars to philanthropic causes and in 2006 pledged to give away almost all of his fortune to charity paul r la monica contributed to this report search us crime justice energy environment extreme weather space science world africa americas asia australia china europe india middle east united kingdom politics the biden presidency facts first us elections business markets tech media success perspectives videos opinion political op eds social commentary health food fitness wellness parenting vital signs entertainment stars screen binge culture media tech innovate gadget foreseeable future mission ahead upstarts work transformed innovative cities style arts design fashion architecture luxury beauty video travel destinations food and drink stay news videos sports pro football college football basketball baseball soccer olympics videos live tv digital studios cnn films hln tv schedule tv shows a z cnnvr audio coupons cnn underscored explore wellness gadgets lifestyle cnn store weather climate storm tracker wildfire tracker video more photos longform investigations cnn profiles cnn leadership cnn newsletters work for cnn follow cnn business most stock quote data provided by bats market indices are shown in real time except for the djia which is delayed by two minutes all times are et disclaimer morningstar copyright 2018 morningstar inc all rights reserved factset factset research systems inc 2018 all rights reserved chicago mercantile association certain market data is the property of chicago mercantile exchange inc and its licensors all rights reserved dow jones the dow jones branded indices are proprietary to and are calculated distributed and marketed by dji opco a subsidiary of s p dow jones indices llc and have been licensed for use to s p opco llc and cnn standard poor s and s p are registered trademarks of standard poor s financial services llc and dow jones is a registered trademark of dow jones trademark holdings llc all content of the dow jones branded indices copyright s p dow jones indices llc 2018 and or its affiliates terms of use privacy policy accessibility cc adchoices about us cnn store newsletters transcripts license footage cnn newsource sitemap 2021 cable news network a warner media company all rights reserved cnn sans 2016 cable news network'"
      ]
     },
     "execution_count": 50,
     "metadata": {},
     "output_type": "execute_result"
    }
   ],
   "source": [
    "todayNews"
   ]
  },
  {
   "cell_type": "code",
   "execution_count": 56,
   "metadata": {},
   "outputs": [
    {
     "data": {
      "text/plain": [
       "array([1104,    4, 1102, 1102, 1471,  324, 1442,   35, 1020, 1020, 1471,\n",
       "         38,   38, 1442, 1471, 1102, 2564,    7, 1820,   32, 1102, 1471,\n",
       "       1820,    4,   38, 1820,    4, 1104,    4, 4379,  998, 1471,  835,\n",
       "         32,    7,  324,  835, 1104, 1104,  835, 1102,   38, 1820,  193,\n",
       "       1590, 1590, 1442,   32, 3157, 3157,   32,  835,  324,  998,  324,\n",
       "        324,  241,    4, 1102, 2564, 1471,   38,    7,   38, 1471,  998,\n",
       "       1820,  241, 1471,  304,   32,    4,    7,   35,  998,  998, 1471,\n",
       "          7,    7, 1466, 1471, 1102,    7, 1466, 1471,  998,   38,   32,\n",
       "       2979, 1471,    7, 2979,   32,  304, 1471,  835,    7, 1471,  304,\n",
       "         32,   38,   32,  835,  324,   35,    7,   32,  324,   38, 1471,\n",
       "       1102,  324,    4,   38,   32,  835,  324,    4, 3157,    4, 1102,\n",
       "          4, 1442,   32,  998, 1471,    7, 1466,    4,  835, 3157,    7,\n",
       "       1471,    4, 1102,  998, 1820,  998,  324,  324,  835, 1466, 1471,\n",
       "        324,  241, 1471,  324,   35,  241,    4, 1102, 2564, 1471,   38,\n",
       "          7,   38, 1471,  998, 1820,  241, 1471,  304,   32,    4,    7,\n",
       "         35,  998,  998, 1471,    7,    7, 1466, 1471, 1102,    7, 1466,\n",
       "       1471,  998,   38,   32, 2979, 1471,    7, 2979,   32,  304, 1471,\n",
       "        835,    7,    7, 1471,    4, 1102,  998, 1820, 1471,  304,   32,\n",
       "         38,   32,  835,  324,   35,    7,   32,  324,   38, 1471, 1102,\n",
       "        324,    4,   38,   32,  835,  324,    4, 3157,    4, 1102,    4,\n",
       "       1442,   32,  998, 1471,    7, 1466,    4,  835, 3157,  241,    4,\n",
       "       1102, 2564, 1471,   38,    7, 1466, 1102, 1471,  241,    4, 1102,\n",
       "       2564, 1471,   38,    7,  304,  835, 1104,    4, 1020,   38, 1471,\n",
       "       1102, 1820,  835])"
      ]
     },
     "execution_count": 56,
     "metadata": {},
     "output_type": "execute_result"
    }
   ],
   "source": [
    "from itertools import chain\n",
    "\n",
    "# tokenize texts into vector\n",
    "tokenizedTodayNews = tokenizer.texts_to_sequences(todayNews)\n",
    "# convert to number of list\n",
    "tokenizedTodayNews = list(chain.from_iterable(tokenizedTodayNews))\n",
    "# the first 256 numbers: the same as padding size\n",
    "tokenizedTodayNews = tokenizedTodayNews[:256]\n",
    "# convert to array which is the same as X_test dataset\n",
    "tokenizedTodayNews = np.array(tokenizedTodayNews)\n",
    "\n",
    "tokenizedTodayNews"
   ]
  },
  {
   "cell_type": "markdown",
   "metadata": {},
   "source": [
    "### 5-3. Calculate the score and predict whether the news is real or fake "
   ]
  },
  {
   "cell_type": "code",
   "execution_count": 58,
   "metadata": {},
   "outputs": [],
   "source": [
    "# merge X_test and our tokenized news\n",
    "X_test2 = np.vstack((X_test, tokenizedTodayNews))\n",
    "single_pred = model.predict(X_test2)"
   ]
  },
  {
   "cell_type": "code",
   "execution_count": 59,
   "metadata": {},
   "outputs": [
    {
     "name": "stdout",
     "output_type": "stream",
     "text": [
      "The score is: [-9.103716] , which means\n",
      "Our model predicts this news is FAKE\n"
     ]
    }
   ],
   "source": [
    "# our single prediction news is the last one\n",
    "score = single_pred[-1]\n",
    "print('The score is:', score, ', which means')\n",
    "if score >= 0.5:\n",
    "    print('Our model predicts this news is REAL')\n",
    "else:\n",
    "    print('Our model predicts this news is FAKE')"
   ]
  },
  {
   "cell_type": "markdown",
   "metadata": {},
   "source": [
    "#### Our neural network predicts this news is FAKE news"
   ]
  },
  {
   "cell_type": "code",
   "execution_count": null,
   "metadata": {},
   "outputs": [],
   "source": []
  }
 ],
 "metadata": {
  "kernelspec": {
   "display_name": "Python 3",
   "language": "python",
   "name": "python3"
  },
  "language_info": {
   "codemirror_mode": {
    "name": "ipython",
    "version": 3
   },
   "file_extension": ".py",
   "mimetype": "text/x-python",
   "name": "python",
   "nbconvert_exporter": "python",
   "pygments_lexer": "ipython3",
   "version": "3.8.3"
  }
 },
 "nbformat": 4,
 "nbformat_minor": 4
}
